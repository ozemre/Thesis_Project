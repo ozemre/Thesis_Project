{
 "cells": [
  {
   "cell_type": "markdown",
   "metadata": {},
   "source": [
    "841810 China to UK Prediction "
   ]
  },
  {
   "cell_type": "code",
   "execution_count": 1,
   "metadata": {},
   "outputs": [
    {
     "name": "stderr",
     "output_type": "stream",
     "text": [
      "C:\\Users\\murat.ozemre\\AppData\\Local\\Continuum\\Anaconda3\\envs\\Tensor\\lib\\site-packages\\sklearn\\cross_validation.py:44: DeprecationWarning: This module was deprecated in version 0.18 in favor of the model_selection module into which all the refactored classes and functions are moved. Also note that the interface of the new CV iterators are different from that of this module. This module will be removed in 0.20.\n",
      "  \"This module will be removed in 0.20.\", DeprecationWarning)\n"
     ]
    }
   ],
   "source": [
    "import numpy as np\n",
    "import pandas as pd\n",
    "import matplotlib.pyplot as plt\n",
    "from sklearn.cross_validation import train_test_split\n",
    "import seaborn as sns\n",
    "%matplotlib inline"
   ]
  },
  {
   "cell_type": "code",
   "execution_count": 22,
   "metadata": {
    "collapsed": true
   },
   "outputs": [],
   "source": [
    "from __future__ import absolute_import\n",
    "from __future__ import division\n",
    "from __future__ import print_function\n"
   ]
  },
  {
   "cell_type": "code",
   "execution_count": 24,
   "metadata": {},
   "outputs": [],
   "source": [
    "Product=841810\n",
    "Exp_Country='CHN' # 'TUR'\n",
    "Imp_Country='GBR'"
   ]
  },
  {
   "cell_type": "code",
   "execution_count": 25,
   "metadata": {
    "collapsed": true
   },
   "outputs": [],
   "source": [
    "# Reading Excel Files"
   ]
  },
  {
   "cell_type": "code",
   "execution_count": 26,
   "metadata": {
    "collapsed": true
   },
   "outputs": [],
   "source": [
    "ITC_DF1 = pd.ExcelFile('ITC_Trade_Data\\{}_{}_all.xlsx'.format(Product,Country))\n",
    "ITC_DF1 = ITC_DF1.parse('Sheet1', header=0,index_col=None, na_values=['NA'])"
   ]
  },
  {
   "cell_type": "code",
   "execution_count": 27,
   "metadata": {},
   "outputs": [
    {
     "data": {
      "text/plain": [
       "Index(['CHN_GBR_841810', 'CHN_World_841810', 'CHN_USA_841810',\n",
       "       'CHN_JPN_841810', 'CHN_FRA_841810', 'CHN_AUS_841810', 'Date',\n",
       "       'CHN_GBR_841810-1', 'CHN_GBR_841810-2', 'CHN_GBR_841810-3',\n",
       "       'CHN_GBR_841810-6', 'CHN_GBR_841810-12', 'CHN_World_841810-1',\n",
       "       'CHN_World_841810-2', 'CHN_World_841810-3', 'CHN_World_841810-6',\n",
       "       'CHN_World_841810-12', 'CHN_USA_841810-1', 'CHN_USA_841810-2',\n",
       "       'CHN_USA_841810-3', 'CHN_USA_841810-6', 'CHN_USA_841810-12',\n",
       "       'CHN_JPN_841810-1', 'CHN_JPN_841810-2', 'CHN_JPN_841810-3',\n",
       "       'CHN_JPN_841810-6', 'CHN_JPN_841810-12', 'CHN_FRA_841810-1',\n",
       "       'CHN_FRA_841810-2', 'CHN_FRA_841810-3', 'CHN_FRA_841810-6',\n",
       "       'CHN_FRA_841810-12', 'CHN_AUS_841810-1', 'CHN_AUS_841810-2',\n",
       "       'CHN_AUS_841810-3', 'CHN_AUS_841810-6', 'CHN_AUS_841810-12'],\n",
       "      dtype='object')"
      ]
     },
     "execution_count": 27,
     "metadata": {},
     "output_type": "execute_result"
    }
   ],
   "source": [
    "ITC_DF1.columns"
   ]
  },
  {
   "cell_type": "code",
   "execution_count": 28,
   "metadata": {
    "collapsed": true
   },
   "outputs": [],
   "source": [
    "Y=ITC_DF1.columns.values.tolist()[0].split('_')[1]\n",
    "IMP1=ITC_DF1.columns.values.tolist()[2].split('_')[1]\n",
    "IMP2=ITC_DF1.columns.values.tolist()[3].split('_')[1]\n",
    "IMP3=ITC_DF1.columns.values.tolist()[4].split('_')[1]\n",
    "IMP4=ITC_DF1.columns.values.tolist()[5].split('_')[1]"
   ]
  },
  {
   "cell_type": "code",
   "execution_count": 10,
   "metadata": {},
   "outputs": [
    {
     "data": {
      "text/plain": [
       "Index(['TUR_GBR_841810', 'CHN_GBR_841810', 'POL_GBR_841810', 'KOR_GBR_841810',\n",
       "       'ITA_GBR_841810', 'Date', 'TUR_GBR_841810-1', 'TUR_GBR_841810-2',\n",
       "       'TUR_GBR_841810-3', 'TUR_GBR_841810-6', 'TUR_GBR_841810-12',\n",
       "       'CHN_GBR_841810-1', 'CHN_GBR_841810-2', 'CHN_GBR_841810-3',\n",
       "       'CHN_GBR_841810-6', 'CHN_GBR_841810-12', 'POL_GBR_841810-1',\n",
       "       'POL_GBR_841810-2', 'POL_GBR_841810-3', 'POL_GBR_841810-6',\n",
       "       'POL_GBR_841810-12', 'KOR_GBR_841810-1', 'KOR_GBR_841810-2',\n",
       "       'KOR_GBR_841810-3', 'KOR_GBR_841810-6', 'KOR_GBR_841810-12',\n",
       "       'ITA_GBR_841810-1', 'ITA_GBR_841810-2', 'ITA_GBR_841810-3',\n",
       "       'ITA_GBR_841810-6', 'ITA_GBR_841810-12'],\n",
       "      dtype='object')"
      ]
     },
     "execution_count": 10,
     "metadata": {},
     "output_type": "execute_result"
    }
   ],
   "source": [
    "ITC_DF2 = pd.ExcelFile('ITC_Trade_Data\\841810_UK_all.xlsx')\n",
    "ITC_DF2 = ITC_DF2.parse('Sheet1', header=0,index_col=None, na_values=['NA'])\n",
    "ITC_DF2.columns"
   ]
  },
  {
   "cell_type": "code",
   "execution_count": 29,
   "metadata": {},
   "outputs": [
    {
     "data": {
      "text/plain": [
       "'GBR'"
      ]
     },
     "execution_count": 29,
     "metadata": {},
     "output_type": "execute_result"
    }
   ],
   "source": [
    "Y"
   ]
  },
  {
   "cell_type": "code",
   "execution_count": 13,
   "metadata": {
    "collapsed": true
   },
   "outputs": [],
   "source": [
    "EXP1=ITC_DF2.columns.values.tolist()[2].split('_')[0]\n",
    "EXP2=ITC_DF2.columns.values.tolist()[3].split('_')[0]\n",
    "EXP3=ITC_DF2.columns.values.tolist()[4].split('_')[0]\n"
   ]
  },
  {
   "cell_type": "code",
   "execution_count": null,
   "metadata": {},
   "outputs": [],
   "source": []
  },
  {
   "cell_type": "code",
   "execution_count": null,
   "metadata": {},
   "outputs": [],
   "source": [
    "EPU_DF1 = pd.ExcelFile('Economic_Uncertainty\\EPU_CHN.xlsx')\n",
    "EPU_DF1 = EPU_DF1.parse('Sheet1', header=0,index_col=None, na_values=['NA'])\n",
    "EPU_DF1.columns"
   ]
  },
  {
   "cell_type": "code",
   "execution_count": null,
   "metadata": {},
   "outputs": [],
   "source": [
    "EPU_DF2 = pd.ExcelFile('Economic_Uncertainty\\EPU_UK.xlsx')\n",
    "EPU_DF2 = EPU_DF2.parse('Sheet1', header=0,index_col=None, na_values=['NA'])\n",
    "EPU_DF2.columns"
   ]
  },
  {
   "cell_type": "code",
   "execution_count": null,
   "metadata": {},
   "outputs": [],
   "source": [
    "EPU_World = pd.ExcelFile('Economic_Uncertainty\\EPU_World.xlsx')\n",
    "EPU_World = EPU_World.parse('Sheet1', header=0,index_col=None, na_values=['NA'])\n",
    "EPU_World.columns"
   ]
  },
  {
   "cell_type": "code",
   "execution_count": null,
   "metadata": {
    "collapsed": true
   },
   "outputs": [],
   "source": [
    "# Reading Related CSV Files"
   ]
  },
  {
   "cell_type": "code",
   "execution_count": null,
   "metadata": {},
   "outputs": [],
   "source": [
    "OECD_DF1 = pd.read_csv('OECD\\BCI_CCI_CLI_GDP_CHN.csv')\n",
    "OECD_DF1.columns"
   ]
  },
  {
   "cell_type": "code",
   "execution_count": null,
   "metadata": {},
   "outputs": [],
   "source": [
    "OECD_DF2 = pd.read_csv('OECD\\BCI_CCI_CLI_GDP_GBR.csv')\n",
    "OECD_DF2.columns"
   ]
  },
  {
   "cell_type": "code",
   "execution_count": null,
   "metadata": {
    "collapsed": true
   },
   "outputs": [],
   "source": [
    "#OECD_DF3 = pd.read_csv('OECD\\PPI_CHN_UK.csv')\n",
    "#OECD_DF3.columns"
   ]
  },
  {
   "cell_type": "code",
   "execution_count": null,
   "metadata": {},
   "outputs": [],
   "source": [
    "OECD_DF4 = pd.read_csv('OECD\\CPI_CHN_UK.csv')\n",
    "OECD_DF4.columns"
   ]
  },
  {
   "cell_type": "code",
   "execution_count": null,
   "metadata": {},
   "outputs": [],
   "source": [
    "OECD_DF5 = pd.read_csv('OECD\\CNY_GBP.csv')\n",
    "OECD_DF5.columns"
   ]
  },
  {
   "cell_type": "code",
   "execution_count": null,
   "metadata": {},
   "outputs": [],
   "source": [
    "OTHER_DF1 = pd.read_csv('Global_Trade\\WorldTrade.csv')\n",
    "OTHER_DF1.columns"
   ]
  },
  {
   "cell_type": "code",
   "execution_count": null,
   "metadata": {},
   "outputs": [],
   "source": [
    "# Data_Core for the current month\n",
    "Data_Core = ITC_DF1[['CHN_World_841810', 'CHN_USA_841810', 'CHN_JPN_841810',\n",
    "       'CHN_FRA_841810', 'CHN_GBR_841810', 'CHN_AUS_841810', 'Date']].merge(ITC_DF2[['Date','TUR_GBR_841810', 'POL_GBR_841810', 'KOR_GBR_841810', 'ITA_GBR_841810' ]], \n",
    "                        on = 'Date',how = 'left').merge(EPU_DF1[['Date', 'EPU_CHN'      ]],\n",
    "                        on = 'Date',how = 'left').merge(EPU_DF2[['Date', 'EPU_UK'      ]], \n",
    "                        on = 'Date',how = 'left').merge(EPU_World[['Date','EPU_World']],\n",
    "                        on = 'Date',how = 'left').merge(OECD_DF1[['Date','BCI_CHN','CCI_CHN','CLI_CHN','GDP_CHN']], \n",
    "                        on = 'Date',how = 'left').merge(OECD_DF2[['Date','BCI_GBR','CCI_GBR','CLI_GBR','GDP_GBR']], \n",
    "#                        on = 'Dat#e',how = 'left').merge(OECD_DF3[['Date','PPI_CHN', 'PPI_GBR']], \n",
    "                        on = 'Date',how = 'left').merge(OECD_DF4[['Date','CPI_CHN','CPI_GBR']], \n",
    "                        on = 'Date',how = 'left').merge(OECD_DF5[['Date','CNY','GBP']], \n",
    "                        on = 'Date',how = 'left').merge(OTHER_DF1[['Date','World']], \n",
    "                        on = 'Date',how = 'left')\n",
    "#Data_Core=Data_Core.dropna()\n",
    "print(Data_Core.columns,Data_Core.shape)"
   ]
  },
  {
   "cell_type": "code",
   "execution_count": null,
   "metadata": {},
   "outputs": [],
   "source": [
    "# Data_Core for Y current month and X for the previous month\n",
    "\n",
    "Data_Core_1 = ITC_DF1[['CHN_World_841810-1', 'CHN_USA_841810-1', 'CHN_JPN_841810-1',\n",
    "       'CHN_FRA_841810-1', 'CHN_GBR_841810', 'CHN_AUS_841810-1', 'CHN_GBR_841810-1',\n",
    "                       \n",
    "                       'Date']].merge(ITC_DF2[['Date', 'TUR_GBR_841810-1','POL_GBR_841810-1', 'KOR_GBR_841810-1', 'ITA_GBR_841810-1' ]], \n",
    "                        on = 'Date',how = 'left').merge(EPU_DF1[['Date', 'EPU_CHN-1'      ]],\n",
    "                        on = 'Date',how = 'left').merge(EPU_DF2[['Date', 'EPU_UK-1'      ]], \n",
    "                        on = 'Date',how = 'left').merge(EPU_World[['Date','EPU_World-1']],\n",
    "                        on = 'Date',how = 'left').merge(OECD_DF1[['Date','BCI_CHN-1','CCI_CHN-1','CLI_CHN-1','GDP_CHN-1']], \n",
    "                        on = 'Date',how = 'left').merge(OECD_DF2[['Date','BCI_GBR-1','CCI_GBR-1','CLI_GBR-1','GDP_GBR-1']], \n",
    "#                        on = 'Date',how = 'left').merge(OECD_DF3[['Date','PPI_CHN-1', 'PPI_GBR-1']], \n",
    "                        on = 'Date',how = 'left').merge(OECD_DF4[['Date','CPI_CHN-1','CPI_GBR-1']], \n",
    "                        on = 'Date',how = 'left').merge(OECD_DF5[['Date','CNY-1','GBP-1']], \n",
    "                        on = 'Date',how = 'left').merge(OTHER_DF1[['Date','World-1']], \n",
    "                        on = 'Date',how = 'left')\n",
    "#Data_Core_1=Data_Core_1.dropna()\n",
    "Data_Core_1=Data_Core_1.fillna(0)\n",
    "print(Data_Core_1.columns,Data_Core_1.shape)"
   ]
  },
  {
   "cell_type": "code",
   "execution_count": null,
   "metadata": {},
   "outputs": [],
   "source": [
    "# Data_Core for Y current month and X for the previous months (-1, -2, -3, -6 and -12 months)\n",
    "\n",
    "Data_Core_1236_12 = ITC_DF1[['CHN_GBR_841810', \n",
    "                        'CHN_World_841810-1', 'CHN_USA_841810-1', 'CHN_JPN_841810-1',\n",
    "                        'CHN_FRA_841810-1', 'CHN_AUS_841810-1', 'CHN_GBR_841810-1',\n",
    "                       'CHN_World_841810-2', 'CHN_USA_841810-2', 'CHN_JPN_841810-2',\n",
    "                        'CHN_FRA_841810-2', 'CHN_AUS_841810-2', 'CHN_GBR_841810-2',\n",
    "                         'CHN_World_841810-3', 'CHN_USA_841810-3', 'CHN_JPN_841810-3',\n",
    "                        'CHN_FRA_841810-3', 'CHN_AUS_841810-3', 'CHN_GBR_841810-3',\n",
    "                         'CHN_World_841810-6', 'CHN_USA_841810-6', 'CHN_JPN_841810-6',\n",
    "                        'CHN_FRA_841810-6', 'CHN_AUS_841810-6', 'CHN_GBR_841810-6',\n",
    "                        'CHN_World_841810-12', 'CHN_USA_841810-12', 'CHN_JPN_841810-12',\n",
    "                        'CHN_FRA_841810-12', 'CHN_AUS_841810-12', 'CHN_GBR_841810-12',\n",
    "                       'Date']].merge(ITC_DF2[['Date', \n",
    "                                               'TUR_GBR_841810-1','POL_GBR_841810-1', 'KOR_GBR_841810-1', 'ITA_GBR_841810-1',\n",
    "                                               'TUR_GBR_841810-2','POL_GBR_841810-2', 'KOR_GBR_841810-2', 'ITA_GBR_841810-2',\n",
    "                                               'TUR_GBR_841810-3','POL_GBR_841810-3', 'KOR_GBR_841810-3', 'ITA_GBR_841810-3',\n",
    "                                               'TUR_GBR_841810-6','POL_GBR_841810-6', 'KOR_GBR_841810-6', 'ITA_GBR_841810-6',\n",
    "                                               'TUR_GBR_841810-12','POL_GBR_841810-12', 'KOR_GBR_841810-12', 'ITA_GBR_841810-12']], \n",
    "                        on = 'Date',how = 'left').merge(EPU_DF1[['Date', \n",
    "                                                                 'EPU_CHN-1','EPU_CHN-2','EPU_CHN-3','EPU_CHN-6','EPU_CHN-12' ]],\n",
    "                        on = 'Date',how = 'left').merge(EPU_DF2[['Date', \n",
    "                                                                 'EPU_UK-1','EPU_UK-2','EPU_UK-3','EPU_UK-6','EPU_UK-12' ]], \n",
    "                        on = 'Date',how = 'left').merge(EPU_World[['Date',\n",
    "                                                                   'EPU_World-1','EPU_World-2','EPU_World-3','EPU_World-6','EPU_World-12']],\n",
    "                        on = 'Date',how = 'left').merge(OECD_DF1[['Date',\n",
    "                                                                  'BCI_CHN-1','CCI_CHN-1','CLI_CHN-1','GDP_CHN-1',\n",
    "                                                                  'BCI_CHN-2','CCI_CHN-2','CLI_CHN-2','GDP_CHN-2',\n",
    "                                                                  'BCI_CHN-3','CCI_CHN-3','CLI_CHN-3','GDP_CHN-3',\n",
    "                                                                  'BCI_CHN-6','CCI_CHN-6','CLI_CHN-6','GDP_CHN-6',\n",
    "                                                                 'BCI_CHN-12','CCI_CHN-12','CLI_CHN-12','GDP_CHN-12']], \n",
    "                        on = 'Date',how = 'left').merge(OECD_DF2[['Date',\n",
    "                                                                  'BCI_GBR-1','CCI_GBR-1','CLI_GBR-1','GDP_GBR-1',\n",
    "                                                                  'BCI_GBR-2','CCI_GBR-2','CLI_GBR-2','GDP_GBR-2',\n",
    "                                                                  'BCI_GBR-3','CCI_GBR-3','CLI_GBR-3','GDP_GBR-3',\n",
    "                                                                  'BCI_GBR-6','CCI_GBR-6','CLI_GBR-6','GDP_GBR-6',\n",
    "                                                                  'BCI_GBR-12','CCI_GBR-12','CLI_GBR-12','GDP_GBR-12']], \n",
    "#                        on = 'Date',how = 'left').merge(OECD_DF3[['Date',\n",
    "#                                                                  'PPI_CHN-1', 'PPI_GBR-1',\n",
    "#                                                                  'PPI_CHN-2', 'PPI_GBR-2',\n",
    "#                                                                  'PPI_CHN-3', 'PPI_GBR-3',\n",
    "#                                                                  'PPI_CHN-6', 'PPI_GBR-6',\n",
    "#                                                                  'PPI_CHN-12', 'PPI_GBR-12']], \n",
    "                        on = 'Date',how = 'left').merge(OECD_DF4[['Date',\n",
    "                                                                  'CPI_CHN-1','CPI_GBR-1',\n",
    "                                                                  'CPI_CHN-2','CPI_GBR-2',\n",
    "                                                                  'CPI_CHN-3','CPI_GBR-3',\n",
    "                                                                  'CPI_CHN-6','CPI_GBR-6',\n",
    "                                                                 'CPI_CHN-12','CPI_GBR-12']], \n",
    "                        on = 'Date',how = 'left').merge(OECD_DF5[['Date',\n",
    "                                                                  'CNY-1','GBP-1',\n",
    "                                                                  'CNY-2','GBP-2',\n",
    "                                                                  'CNY-3','GBP-3',\n",
    "                                                                  'CNY-6','GBP-6',\n",
    "                                                                  'CNY-12','GBP-12']], \n",
    "                        on = 'Date',how = 'left').merge(OTHER_DF1[['Date',\n",
    "                                                                   'World-1','World-2','World-3','World-6','World-12']], \n",
    "                        on = 'Date',how = 'left')\n",
    "#Data_Core_1236_12=Data_Core_1236_12.dropna()\n",
    "print(Data_Core_1236_12.columns,Data_Core_1236_12.shape)"
   ]
  },
  {
   "cell_type": "code",
   "execution_count": null,
   "metadata": {},
   "outputs": [],
   "source": [
    "#PairPlot for CHINA Exports to GBR and Political Uncertainity\n",
    "\n",
    "sns.pairplot(Data_Core_1[['CHN_GBR_841810','EPU_CHN-1',\n",
    "       'EPU_UK-1', 'EPU_World-1']])"
   ]
  },
  {
   "cell_type": "code",
   "execution_count": null,
   "metadata": {},
   "outputs": [],
   "source": [
    "# Pairplots CHINA Exports to GBR and its top 5 markets\n",
    "sns.pairplot(Data_Core_1[['CHN_GBR_841810','CHN_World_841810-1', 'CHN_USA_841810-1', 'CHN_JPN_841810-1',\n",
    "       'CHN_FRA_841810-1', 'CHN_AUS_841810-1']])"
   ]
  },
  {
   "cell_type": "code",
   "execution_count": null,
   "metadata": {},
   "outputs": [],
   "source": [
    "# Pairplots CHINA Exports to GBR and GBR top 4 exporters \n",
    "sns.pairplot(Data_Core_1[['CHN_GBR_841810','TUR_GBR_841810-1','POL_GBR_841810-1', 'KOR_GBR_841810-1', 'ITA_GBR_841810-1']])"
   ]
  },
  {
   "cell_type": "code",
   "execution_count": null,
   "metadata": {
    "collapsed": true
   },
   "outputs": [],
   "source": [
    "Data_Core_1236_12.to_excel('Out_841810_CHN_UK_Data_Core_1236_12.xlsx',index = False)"
   ]
  },
  {
   "cell_type": "code",
   "execution_count": null,
   "metadata": {
    "collapsed": true
   },
   "outputs": [],
   "source": []
  }
 ],
 "metadata": {
  "kernelspec": {
   "display_name": "Python 3",
   "language": "python",
   "name": "python3"
  },
  "language_info": {
   "codemirror_mode": {
    "name": "ipython",
    "version": 3
   },
   "file_extension": ".py",
   "mimetype": "text/x-python",
   "name": "python",
   "nbconvert_exporter": "python",
   "pygments_lexer": "ipython3",
   "version": "3.6.1"
  }
 },
 "nbformat": 4,
 "nbformat_minor": 2
}
