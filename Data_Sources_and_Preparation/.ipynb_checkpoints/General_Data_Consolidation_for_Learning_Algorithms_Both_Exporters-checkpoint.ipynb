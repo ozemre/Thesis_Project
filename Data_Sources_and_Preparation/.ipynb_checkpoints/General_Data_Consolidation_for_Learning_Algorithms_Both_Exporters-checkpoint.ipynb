{
 "cells": [
  {
   "cell_type": "markdown",
   "metadata": {},
   "source": [
    "For Products : 841810 841840 and 841850 \n",
    "China to UK Prediction \n",
    "and \n",
    "Turkey to UK Prediction "
   ]
  },
  {
   "cell_type": "code",
   "execution_count": 2,
   "metadata": {
    "collapsed": true
   },
   "outputs": [],
   "source": [
    "import numpy as np\n",
    "import pandas as pd\n",
    "import matplotlib.pyplot as plt\n",
    "from sklearn.cross_validation import train_test_split\n",
    "import seaborn as sns\n",
    "%matplotlib inline"
   ]
  },
  {
   "cell_type": "code",
   "execution_count": 3,
   "metadata": {
    "collapsed": true
   },
   "outputs": [],
   "source": [
    "import sys\n",
    "import warnings\n",
    "\n",
    "if not sys.warnoptions:\n",
    "    warnings.simplefilter(\"ignore\")"
   ]
  },
  {
   "cell_type": "code",
   "execution_count": 4,
   "metadata": {
    "collapsed": true
   },
   "outputs": [],
   "source": [
    "from __future__ import absolute_import\n",
    "from __future__ import division\n",
    "from __future__ import print_function\n"
   ]
  },
  {
   "cell_type": "code",
   "execution_count": 5,
   "metadata": {
    "collapsed": true
   },
   "outputs": [],
   "source": [
    "# This function is used to calculate difference -> hat feature calculation\n",
    "# z is the data frame given.\n",
    "# n is order number for the first columns. \n",
    "def difference(z,n):\n",
    "    \n",
    "    for x in range(0,n):\n",
    "        # Calculate differnce value for specified columnrange\n",
    "        columnname=z.columns.values.tolist()[x]    \n",
    "        # Get the columnname from DataFrame\n",
    "        z['{}-hat'.format(columnname)]=z['{}'.format(columnname)]-z['{}-1'.format(columnname)]\n",
    "        # Subtract 'columnname' and 'columnname-1' and results and insert 'columnname_hat'\n",
    "        #Example => ITC_DF1['CHN_GBR_841810_hat']=ITC_DF1['CHN_GBR_841810']-ITC_DF1['CHN_GBR_841810-1']\n",
    "        \n",
    "    return z"
   ]
  },
  {
   "cell_type": "code",
   "execution_count": 6,
   "metadata": {
    "collapsed": true
   },
   "outputs": [],
   "source": [
    "Product=841810\n",
    "Exp_Country='CHN' # 'CHN'\n",
    "Imp_Country='GBR'\n",
    "\n",
    "if Exp_Country=='CHN':\n",
    "    Currency='CNY'\n",
    "    EXP0='TUR'   \n",
    "elif Exp_Country=='TUR':\n",
    "    Currency='TRY'\n",
    "    EXP0='CHN'   "
   ]
  },
  {
   "cell_type": "code",
   "execution_count": 7,
   "metadata": {
    "collapsed": true
   },
   "outputs": [],
   "source": [
    "# Reading Excel Files"
   ]
  },
  {
   "cell_type": "code",
   "execution_count": 8,
   "metadata": {},
   "outputs": [
    {
     "data": {
      "text/plain": [
       "Index(['CHN_GBR_841810', 'CHN_World_841810', 'CHN_USA_841810',\n",
       "       'CHN_JPN_841810', 'CHN_FRA_841810', 'CHN_AUS_841810', 'Date', 'Year',\n",
       "       'Month', 'CHN_GBR_841810-1', 'CHN_GBR_841810-2', 'CHN_GBR_841810-3',\n",
       "       'CHN_GBR_841810-4', 'CHN_GBR_841810-5', 'CHN_GBR_841810-6',\n",
       "       'CHN_GBR_841810-7', 'CHN_GBR_841810-8', 'CHN_GBR_841810-12',\n",
       "       'CHN_World_841810-1', 'CHN_World_841810-2', 'CHN_World_841810-3',\n",
       "       'CHN_World_841810-4', 'CHN_World_841810-5', 'CHN_World_841810-6',\n",
       "       'CHN_World_841810-7', 'CHN_World_841810-8', 'CHN_World_841810-12',\n",
       "       'CHN_USA_841810-1', 'CHN_USA_841810-2', 'CHN_USA_841810-3',\n",
       "       'CHN_USA_841810-4', 'CHN_USA_841810-5', 'CHN_USA_841810-6',\n",
       "       'CHN_USA_841810-7', 'CHN_USA_841810-8', 'CHN_USA_841810-12',\n",
       "       'CHN_JPN_841810-1', 'CHN_JPN_841810-2', 'CHN_JPN_841810-3',\n",
       "       'CHN_JPN_841810-4', 'CHN_JPN_841810-5', 'CHN_JPN_841810-6',\n",
       "       'CHN_JPN_841810-7', 'CHN_JPN_841810-8', 'CHN_JPN_841810-12',\n",
       "       'CHN_FRA_841810-1', 'CHN_FRA_841810-2', 'CHN_FRA_841810-3',\n",
       "       'CHN_FRA_841810-4', 'CHN_FRA_841810-5', 'CHN_FRA_841810-6',\n",
       "       'CHN_FRA_841810-7', 'CHN_FRA_841810-8', 'CHN_FRA_841810-12',\n",
       "       'CHN_AUS_841810-1', 'CHN_AUS_841810-2', 'CHN_AUS_841810-3',\n",
       "       'CHN_AUS_841810-4', 'CHN_AUS_841810-5', 'CHN_AUS_841810-6',\n",
       "       'CHN_AUS_841810-7', 'CHN_AUS_841810-8', 'CHN_AUS_841810-12',\n",
       "       'CHN_GBR_841810-hat', 'CHN_World_841810-hat', 'CHN_USA_841810-hat',\n",
       "       'CHN_JPN_841810-hat', 'CHN_FRA_841810-hat', 'CHN_AUS_841810-hat'],\n",
       "      dtype='object')"
      ]
     },
     "execution_count": 8,
     "metadata": {},
     "output_type": "execute_result"
    }
   ],
   "source": [
    "ITC_DF1 = pd.ExcelFile('ITC_Trade_Data\\{}_{}_all.xlsx'.format(Product,Exp_Country))\n",
    "ITC_DF1 = ITC_DF1.parse('Sheet1', header=0,index_col=None, na_values=['NA'])\n",
    "difference(ITC_DF1,6).columns\n",
    "ITC_DF1.columns"
   ]
  },
  {
   "cell_type": "code",
   "execution_count": 9,
   "metadata": {
    "collapsed": true
   },
   "outputs": [],
   "source": [
    "ITC_DF2 = pd.ExcelFile('ITC_Trade_Data\\{}_{}_all.xlsx'.format(Product,Imp_Country))\n",
    "ITC_DF2 = ITC_DF2.parse('Sheet1', header=0,index_col=None, na_values=['NA'])\n"
   ]
  },
  {
   "cell_type": "code",
   "execution_count": 10,
   "metadata": {
    "collapsed": true
   },
   "outputs": [],
   "source": [
    "ITC_DF2.drop('{}_{}_{}'.format(Exp_Country,Imp_Country,Product),axis=1,inplace=True)\n",
    "ITC_DF2.drop('{}_{}_{}-1'.format(Exp_Country,Imp_Country,Product),axis=1,inplace=True)\n",
    "ITC_DF2.drop('{}_{}_{}-2'.format(Exp_Country,Imp_Country,Product),axis=1,inplace=True)\n",
    "ITC_DF2.drop('{}_{}_{}-3'.format(Exp_Country,Imp_Country,Product),axis=1,inplace=True)\n",
    "ITC_DF2.drop('{}_{}_{}-4'.format(Exp_Country,Imp_Country,Product),axis=1,inplace=True)\n",
    "ITC_DF2.drop('{}_{}_{}-5'.format(Exp_Country,Imp_Country,Product),axis=1,inplace=True)\n",
    "ITC_DF2.drop('{}_{}_{}-6'.format(Exp_Country,Imp_Country,Product),axis=1,inplace=True)\n",
    "ITC_DF2.drop('{}_{}_{}-7'.format(Exp_Country,Imp_Country,Product),axis=1,inplace=True)\n",
    "ITC_DF2.drop('{}_{}_{}-8'.format(Exp_Country,Imp_Country,Product),axis=1,inplace=True)\n",
    "ITC_DF2.drop('{}_{}_{}-12'.format(Exp_Country,Imp_Country,Product),axis=1,inplace=True)\n"
   ]
  },
  {
   "cell_type": "code",
   "execution_count": 11,
   "metadata": {},
   "outputs": [
    {
     "data": {
      "text/plain": [
       "Index(['TUR_GBR_841810', 'POL_GBR_841810', 'KOR_GBR_841810', 'ITA_GBR_841810',\n",
       "       'Date', 'TUR_GBR_841810-1', 'TUR_GBR_841810-2', 'TUR_GBR_841810-3',\n",
       "       'TUR_GBR_841810-4', 'TUR_GBR_841810-5', 'TUR_GBR_841810-6',\n",
       "       'TUR_GBR_841810-7', 'TUR_GBR_841810-8', 'TUR_GBR_841810-12',\n",
       "       'POL_GBR_841810-1', 'POL_GBR_841810-2', 'POL_GBR_841810-3',\n",
       "       'POL_GBR_841810-4', 'POL_GBR_841810-5', 'POL_GBR_841810-6',\n",
       "       'POL_GBR_841810-7', 'POL_GBR_841810-8', 'POL_GBR_841810-12',\n",
       "       'KOR_GBR_841810-1', 'KOR_GBR_841810-2', 'KOR_GBR_841810-3',\n",
       "       'KOR_GBR_841810-4', 'KOR_GBR_841810-5', 'KOR_GBR_841810-6',\n",
       "       'KOR_GBR_841810-7', 'KOR_GBR_841810-8', 'KOR_GBR_841810-12',\n",
       "       'ITA_GBR_841810-1', 'ITA_GBR_841810-2', 'ITA_GBR_841810-3',\n",
       "       'ITA_GBR_841810-4', 'ITA_GBR_841810-5', 'ITA_GBR_841810-6',\n",
       "       'ITA_GBR_841810-7', 'ITA_GBR_841810-8', 'ITA_GBR_841810-12',\n",
       "       'TUR_GBR_841810-hat', 'POL_GBR_841810-hat', 'KOR_GBR_841810-hat',\n",
       "       'ITA_GBR_841810-hat'],\n",
       "      dtype='object')"
      ]
     },
     "execution_count": 11,
     "metadata": {},
     "output_type": "execute_result"
    }
   ],
   "source": [
    "difference(ITC_DF2,4).columns\n",
    "ITC_DF2.columns"
   ]
  },
  {
   "cell_type": "code",
   "execution_count": 12,
   "metadata": {},
   "outputs": [
    {
     "data": {
      "text/plain": [
       "Index(['TUR_GBR_841810_UV', 'Date', 'TUR_GBR_841810_UV-1',\n",
       "       'TUR_GBR_841810_UV-2', 'TUR_GBR_841810_UV-3', 'TUR_GBR_841810_UV-4',\n",
       "       'TUR_GBR_841810_UV-5', 'TUR_GBR_841810_UV-6', 'TUR_GBR_841810_UV-7',\n",
       "       'TUR_GBR_841810_UV-8', 'TUR_GBR_841810_UV-12', 'TUR_GBR_841810_UV-hat'],\n",
       "      dtype='object')"
      ]
     },
     "execution_count": 12,
     "metadata": {},
     "output_type": "execute_result"
    }
   ],
   "source": [
    "ITC_DF3 = pd.ExcelFile('ITC_Trade_Data\\{}_{}_all_unit_value.xlsx'.format(Product,Imp_Country))\n",
    "ITC_DF3 = ITC_DF3.parse('Sheet1', header=0,index_col=None, na_values=['NA'])\n",
    "difference(ITC_DF3,1).columns\n",
    "ITC_DF3.columns"
   ]
  },
  {
   "cell_type": "code",
   "execution_count": 13,
   "metadata": {
    "collapsed": true
   },
   "outputs": [],
   "source": [
    "#if Exp_Country=='CHN':\n",
    "\n",
    "#    EPU_DF1 = pd.ExcelFile('Economic_Uncertainty\\EPU_{}.xlsx'.format(Exp_Country))\n",
    "#    EPU_DF1 = EPU_DF1.parse('Sheet1', header=0,index_col=None, na_values=['NA'])\n",
    "\n",
    "#    difference(EPU_DF1,1)\n",
    "\n",
    "#    EPU_DF1.columns\n",
    "#else :   \n",
    "#    EPU_DF1.DataFrame({'Date' : []})    "
   ]
  },
  {
   "cell_type": "code",
   "execution_count": 14,
   "metadata": {},
   "outputs": [
    {
     "data": {
      "text/plain": [
       "Index(['EPU_CHN', 'Date', 'EPU_CHN-1', 'EPU_CHN-2', 'EPU_CHN-3', 'EPU_CHN-4',\n",
       "       'EPU_CHN-5', 'EPU_CHN-6', 'EPU_CHN-7', 'EPU_CHN-8', 'EPU_CHN-12',\n",
       "       'EPU_CHN-hat'],\n",
       "      dtype='object')"
      ]
     },
     "execution_count": 14,
     "metadata": {},
     "output_type": "execute_result"
    }
   ],
   "source": [
    "# EPU for Turkey does not exist yet. Therefore China's EPU is read and then dropped from dataframe\n",
    "EPU_DF1 = pd.ExcelFile('Economic_Uncertainty\\EPU_CHN.xlsx')\n",
    "EPU_DF1 = EPU_DF1.parse('Sheet1', header=0,index_col=None, na_values=['NA'])\n",
    "difference(EPU_DF1,1)\n",
    "EPU_DF1.columns"
   ]
  },
  {
   "cell_type": "code",
   "execution_count": 15,
   "metadata": {},
   "outputs": [
    {
     "data": {
      "text/plain": [
       "Index(['EPU_GBR', 'Date', 'EPU_GBR-1', 'EPU_GBR-2', 'EPU_GBR-3', 'EPU_GBR-4',\n",
       "       'EPU_GBR-5', 'EPU_GBR-6', 'EPU_GBR-7', 'EPU_GBR-8', 'EPU_GBR-12',\n",
       "       'EPU_GBR-hat'],\n",
       "      dtype='object')"
      ]
     },
     "execution_count": 15,
     "metadata": {},
     "output_type": "execute_result"
    }
   ],
   "source": [
    "EPU_DF2 = pd.ExcelFile('Economic_Uncertainty\\EPU_{}.xlsx'.format(Imp_Country))\n",
    "EPU_DF2 = EPU_DF2.parse('Sheet1', header=0,index_col=None, na_values=['NA'])\n",
    "difference(EPU_DF2,1)\n",
    "EPU_DF2.columns"
   ]
  },
  {
   "cell_type": "code",
   "execution_count": 16,
   "metadata": {},
   "outputs": [
    {
     "data": {
      "text/plain": [
       "Index(['EPU_World', 'Date', 'EPU_World-1', 'EPU_World-2', 'EPU_World-3',\n",
       "       'EPU_World-4', 'EPU_World-5', 'EPU_World-6', 'EPU_World-7',\n",
       "       'EPU_World-8', 'EPU_World-12', 'EPU_World-hat'],\n",
       "      dtype='object')"
      ]
     },
     "execution_count": 16,
     "metadata": {},
     "output_type": "execute_result"
    }
   ],
   "source": [
    "EPU_World = pd.ExcelFile('Economic_Uncertainty\\EPU_World.xlsx')\n",
    "EPU_World = EPU_World.parse('Sheet1', header=0,index_col=None, na_values=['NA'])\n",
    "difference(EPU_World,1)\n",
    "EPU_World.columns"
   ]
  },
  {
   "cell_type": "code",
   "execution_count": 17,
   "metadata": {
    "collapsed": true
   },
   "outputs": [],
   "source": [
    "# Reading Related CSV Files"
   ]
  },
  {
   "cell_type": "code",
   "execution_count": 18,
   "metadata": {},
   "outputs": [
    {
     "data": {
      "text/plain": [
       "Index(['BCI_CHN', 'CCI_CHN', 'CLI_CHN', 'GDP_CHN', 'Date', 'BCI_CHN-1',\n",
       "       'BCI_CHN-2', 'BCI_CHN-3', 'BCI_CHN-4', 'BCI_CHN-5', 'BCI_CHN-6',\n",
       "       'BCI_CHN-7', 'BCI_CHN-8', 'BCI_CHN-12', 'CCI_CHN-1', 'CCI_CHN-2',\n",
       "       'CCI_CHN-3', 'CCI_CHN-4', 'CCI_CHN-5', 'CCI_CHN-6', 'CCI_CHN-7',\n",
       "       'CCI_CHN-8', 'CCI_CHN-12', 'CLI_CHN-1', 'CLI_CHN-2', 'CLI_CHN-3',\n",
       "       'CLI_CHN-4', 'CLI_CHN-5', 'CLI_CHN-6', 'CLI_CHN-7', 'CLI_CHN-8',\n",
       "       'CLI_CHN-12', 'GDP_CHN-1', 'GDP_CHN-2', 'GDP_CHN-3', 'GDP_CHN-4',\n",
       "       'GDP_CHN-5', 'GDP_CHN-6', 'GDP_CHN-7', 'GDP_CHN-8', 'GDP_CHN-12',\n",
       "       'BCI_CHN-hat', 'CCI_CHN-hat', 'CLI_CHN-hat', 'GDP_CHN-hat'],\n",
       "      dtype='object')"
      ]
     },
     "execution_count": 18,
     "metadata": {},
     "output_type": "execute_result"
    }
   ],
   "source": [
    "OECD_DF1 = pd.read_csv('OECD\\BCI_CCI_CLI_GDP_{}.csv'.format(Exp_Country))\n",
    "difference(OECD_DF1,4)\n",
    "OECD_DF1.columns"
   ]
  },
  {
   "cell_type": "code",
   "execution_count": 19,
   "metadata": {},
   "outputs": [
    {
     "data": {
      "text/plain": [
       "Index(['BCI_GBR', 'CCI_GBR', 'CLI_GBR', 'GDP_GBR', 'Date', 'BCI_GBR-1',\n",
       "       'BCI_GBR-2', 'BCI_GBR-3', 'BCI_GBR-4', 'BCI_GBR-5', 'BCI_GBR-6',\n",
       "       'BCI_GBR-7', 'BCI_GBR-8', 'BCI_GBR-12', 'CCI_GBR-1', 'CCI_GBR-2',\n",
       "       'CCI_GBR-3', 'CCI_GBR-4', 'CCI_GBR-5', 'CCI_GBR-6', 'CCI_GBR-7',\n",
       "       'CCI_GBR-8', 'CCI_GBR-12', 'CLI_GBR-1', 'CLI_GBR-2', 'CLI_GBR-3',\n",
       "       'CLI_GBR-4', 'CLI_GBR-5', 'CLI_GBR-6', 'CLI_GBR-7', 'CLI_GBR-8',\n",
       "       'CLI_GBR-12', 'GDP_GBR-1', 'GDP_GBR-2', 'GDP_GBR-3', 'GDP_GBR-4',\n",
       "       'GDP_GBR-5', 'GDP_GBR-6', 'GDP_GBR-7', 'GDP_GBR-8', 'GDP_GBR-12',\n",
       "       'BCI_GBR-hat', 'CCI_GBR-hat', 'CLI_GBR-hat', 'GDP_GBR-hat'],\n",
       "      dtype='object')"
      ]
     },
     "execution_count": 19,
     "metadata": {},
     "output_type": "execute_result"
    }
   ],
   "source": [
    "OECD_DF2 = pd.read_csv('OECD\\BCI_CCI_CLI_GDP_{}.csv'.format(Imp_Country))\n",
    "difference(OECD_DF2,4)\n",
    "OECD_DF2.columns"
   ]
  },
  {
   "cell_type": "code",
   "execution_count": 20,
   "metadata": {},
   "outputs": [
    {
     "data": {
      "text/plain": [
       "Index(['PPI_CHN', 'PPI_GBR', 'Date', 'PPI_CHN-1', 'PPI_CHN-2', 'PPI_CHN-3',\n",
       "       'PPI_CHN-4', 'PPI_CHN-5', 'PPI_CHN-6', 'PPI_CHN-7', 'PPI_CHN-8',\n",
       "       'PPI_CHN-12', 'PPI_GBR-1', 'PPI_GBR-2', 'PPI_GBR-3', 'PPI_GBR-4',\n",
       "       'PPI_GBR-5', 'PPI_GBR-6', 'PPI_GBR-7', 'PPI_GBR-8', 'PPI_GBR-12',\n",
       "       'PPI_CHN-hat', 'PPI_GBR-hat'],\n",
       "      dtype='object')"
      ]
     },
     "execution_count": 20,
     "metadata": {},
     "output_type": "execute_result"
    }
   ],
   "source": [
    "OECD_DF3 = pd.read_csv('OECD\\PPI_{}_{}.csv'.format(Exp_Country,Imp_Country))\n",
    "difference(OECD_DF3,2)\n",
    "OECD_DF3.columns"
   ]
  },
  {
   "cell_type": "code",
   "execution_count": 21,
   "metadata": {},
   "outputs": [
    {
     "data": {
      "text/plain": [
       "Index(['CPI_CHN', 'CPI_GBR', 'Date', 'CPI_CHN-1', 'CPI_CHN-2', 'CPI_CHN-3',\n",
       "       'CPI_CHN-4', 'CPI_CHN-5', 'CPI_CHN-6', 'CPI_CHN-7', 'CPI_CHN-8',\n",
       "       'CPI_CHN-12', 'CPI_GBR-1', 'CPI_GBR-2', 'CPI_GBR-3', 'CPI_GBR-4',\n",
       "       'CPI_GBR-5', 'CPI_GBR-6', 'CPI_GBR-7', 'CPI_GBR-8', 'CPI_GBR-12',\n",
       "       'CPI_CHN-hat', 'CPI_GBR-hat'],\n",
       "      dtype='object')"
      ]
     },
     "execution_count": 21,
     "metadata": {},
     "output_type": "execute_result"
    }
   ],
   "source": [
    "OECD_DF4 = pd.read_csv('OECD\\CPI_{}_{}.csv'.format(Exp_Country,Imp_Country))\n",
    "difference(OECD_DF4,2)\n",
    "OECD_DF4.columns"
   ]
  },
  {
   "cell_type": "code",
   "execution_count": 22,
   "metadata": {},
   "outputs": [
    {
     "data": {
      "text/plain": [
       "Index(['CNY', 'GBP', 'Date', 'CNY-1', 'CNY-2', 'CNY-3', 'CNY-4', 'CNY-5',\n",
       "       'CNY-6', 'CNY-7', 'CNY-8', 'CNY-12', 'GBP-1', 'GBP-2', 'GBP-3', 'GBP-4',\n",
       "       'GBP-5', 'GBP-6', 'GBP-7', 'GBP-8', 'GBP-12', 'CNY-hat', 'GBP-hat'],\n",
       "      dtype='object')"
      ]
     },
     "execution_count": 22,
     "metadata": {},
     "output_type": "execute_result"
    }
   ],
   "source": [
    "OECD_DF5 = pd.read_csv('OECD\\{}_GBP.csv'.format(Currency))\n",
    "difference(OECD_DF5,2)\n",
    "OECD_DF5.columns"
   ]
  },
  {
   "cell_type": "code",
   "execution_count": 23,
   "metadata": {},
   "outputs": [
    {
     "data": {
      "text/plain": [
       "Index(['World', 'Date', 'World-1', 'World-2', 'World-3', 'World-4', 'World-5',\n",
       "       'World-6', 'World-7', 'World-8', 'World-12', 'World-hat'],\n",
       "      dtype='object')"
      ]
     },
     "execution_count": 23,
     "metadata": {},
     "output_type": "execute_result"
    }
   ],
   "source": [
    "OTHER_DF1 = pd.read_csv('Global_Trade\\WorldTrade.csv')\n",
    "difference(OTHER_DF1,1)\n",
    "OTHER_DF1.columns"
   ]
  },
  {
   "cell_type": "code",
   "execution_count": 24,
   "metadata": {
    "collapsed": true
   },
   "outputs": [],
   "source": [
    "Y=ITC_DF1.columns.values.tolist()[0].split('_')[1]\n",
    "IMP1=ITC_DF1.columns.values.tolist()[2].split('_')[1]\n",
    "IMP2=ITC_DF1.columns.values.tolist()[3].split('_')[1]\n",
    "IMP3=ITC_DF1.columns.values.tolist()[4].split('_')[1]\n",
    "IMP4=ITC_DF1.columns.values.tolist()[5].split('_')[1]\n",
    "\n",
    "EXP1=ITC_DF2.columns.values.tolist()[1].split('_')[0]\n",
    "EXP2=ITC_DF2.columns.values.tolist()[2].split('_')[0]\n",
    "EXP3=ITC_DF2.columns.values.tolist()[3].split('_')[0]"
   ]
  },
  {
   "cell_type": "code",
   "execution_count": 26,
   "metadata": {
    "scrolled": false
   },
   "outputs": [
    {
     "name": "stdout",
     "output_type": "stream",
     "text": [
      "Index(['CHN_GBR_841810', 'CHN_World_841810', 'CHN_USA_841810',\n",
      "       'CHN_JPN_841810', 'CHN_FRA_841810', 'CHN_AUS_841810', 'Date', 'Year',\n",
      "       'Month', 'CHN_GBR_841810-1',\n",
      "       ...\n",
      "       'World-1', 'World-2', 'World-3', 'World-4', 'World-5', 'World-6',\n",
      "       'World-7', 'World-8', 'World-12', 'World-hat'],\n",
      "      dtype='object', length=322) (144, 322)\n"
     ]
    }
   ],
   "source": [
    "Data_All = ITC_DF1.merge(ITC_DF2, \n",
    "                        on = 'Date',how = 'left').merge(ITC_DF3,\n",
    "                        on = 'Date',how = 'left').merge(EPU_DF1, \n",
    "                        on = 'Date',how = 'left').merge(EPU_DF2, \n",
    "                                                        \n",
    "                        on = 'Date',how = 'left').merge(EPU_World,\n",
    "                        on = 'Date',how = 'left').merge(OECD_DF1, \n",
    "                        on = 'Date',how = 'left').merge(OECD_DF2, \n",
    "                        on = 'Date',how = 'left').merge(OECD_DF3, \n",
    "                        on = 'Date',how = 'left').merge(OECD_DF4, \n",
    "                        on = 'Date',how = 'left').merge(OECD_DF5, \n",
    "                        on = 'Date',how = 'left').merge(OTHER_DF1, \n",
    "                        on = 'Date',how = 'left')\n",
    "#Data_Core_1=Data_Core_1.dropna()\n",
    "Data_All=Data_All.fillna(0)\n",
    "print(Data_All.columns,Data_All.shape)"
   ]
  },
  {
   "cell_type": "code",
   "execution_count": 29,
   "metadata": {
    "collapsed": true
   },
   "outputs": [],
   "source": [
    "def Monthly_data_frame_creation(Data,Exp_Country,Imp_Country,Product,Month):\n",
    "    \n",
    "    X=Data[\n",
    "    \n",
    "            [\n",
    "#                '{}_{}_{}'.format(Exp_Country,Imp_Country,Product),\n",
    "# -1 Month Exporters Volumes \n",
    "            '{}_{}_{}{}'.format(Exp_Country,Imp_Country,Product,Month),'{}_World_{}{}'.format(Exp_Country,Product,Month), \n",
    "            '{}_{}_{}{}'.format(Exp_Country,IMP1,Product,Month), '{}_{}_{}{}'.format(Exp_Country,IMP2,Product,Month),\n",
    "            '{}_{}_{}{}'.format(Exp_Country,IMP3,Product,Month), '{}_{}_{}{}'.format(Exp_Country,IMP4,Product,Month), \n",
    "# -1 Month Importers Volumes                         \n",
    "             '{}_{}_{}{}'. format(EXP0,Imp_Country,Product,Month), '{}_{}_{}{}'. format(EXP1,Imp_Country,Product,Month), \n",
    "             '{}_{}_{}{}'. format(EXP2,Imp_Country,Product,Month), '{}_{}_{}{}'. format(EXP3,Imp_Country,Product,Month), \n",
    "\n",
    "# -1 Month Exporters Unit Value                         \n",
    "             'TUR_GBR_{}_UV{}'. format(Product,Month), \n",
    "                                \n",
    "# -1 Month Politic Uncertainity                                        \n",
    "             'EPU_CHN{}'.format(Month),'EPU_{}{}'.format(Imp_Country,Month), 'EPU_World{}'.format(Month), \n",
    "# -1 Month Economic Indices            \n",
    "             'BCI_{}{}'.format(Exp_Country,Month), 'CCI_{}{}'.format(Exp_Country,Month), 'CLI_{}{}'.format(Exp_Country,Month),'GDP_{}{}'.format(Exp_Country,Month), \n",
    "             'BCI_{}{}'.format(Imp_Country,Month), 'CCI_{}{}'.format(Imp_Country,Month), 'CLI_{}{}'.format(Imp_Country,Month), 'GDP_{}{}'.format(Imp_Country,Month),\n",
    "               'PPI_{}{}'.format(Exp_Country,Month), 'PPI_{}{}'.format(Imp_Country,Month), \n",
    "             'CPI_{}{}'.format(Exp_Country,Month), 'CPI_{}{}'.format(Imp_Country,Month), \n",
    "             '{}{}'.format(Currency,Month), 'GBP{}'.format(Month),'World{}'.format(Month),\n",
    "               'Date','Year','Month']\n",
    "            ]\n",
    "\n",
    "#    print(X.columns,X.shape)\n",
    "    if Exp_Country=='TUR':\n",
    "        X.drop('EPU_CHN{}'.format(Month),axis=1,inplace=True, errors='ignore')\n",
    "    elif Exp_Country=='CHN':\n",
    "        X.drop('TUR_GBR_{}_UV{}'. format(Product,Month),axis=1,inplace=True, errors='ignore')\n",
    "        #    print(X.columns,X.shape)        \n",
    "    return X"
   ]
  },
  {
   "cell_type": "code",
   "execution_count": 30,
   "metadata": {
    "collapsed": true
   },
   "outputs": [],
   "source": [
    "# Creation of single X-month versions"
   ]
  },
  {
   "cell_type": "code",
   "execution_count": 31,
   "metadata": {
    "collapsed": true
   },
   "outputs": [],
   "source": [
    "X=Monthly_data_frame_creation(Data_All,Exp_Country,Imp_Country,Product,'')\n",
    "X1=Monthly_data_frame_creation(Data_All,Exp_Country,Imp_Country,Product,'-1')\n",
    "X2=Monthly_data_frame_creation(Data_All,Exp_Country,Imp_Country,Product,'-2')\n",
    "X3=Monthly_data_frame_creation(Data_All,Exp_Country,Imp_Country,Product,'-3')\n",
    "X4=Monthly_data_frame_creation(Data_All,Exp_Country,Imp_Country,Product,'-4')\n",
    "X5=Monthly_data_frame_creation(Data_All,Exp_Country,Imp_Country,Product,'-5')\n",
    "X6=Monthly_data_frame_creation(Data_All,Exp_Country,Imp_Country,Product,'-6')\n",
    "X7=Monthly_data_frame_creation(Data_All,Exp_Country,Imp_Country,Product,'-7')\n",
    "X8=Monthly_data_frame_creation(Data_All,Exp_Country,Imp_Country,Product,'-8')\n",
    "X12=Monthly_data_frame_creation(Data_All,Exp_Country,Imp_Country,Product,'-12')\n",
    "Xhat=Monthly_data_frame_creation(Data_All,Exp_Country,Imp_Country,Product,'-hat')"
   ]
  },
  {
   "cell_type": "code",
   "execution_count": 32,
   "metadata": {
    "collapsed": true
   },
   "outputs": [],
   "source": [
    "# Creation of Y\n",
    "Y=Data_All[['{}_{}_{}'.format(Exp_Country,Imp_Country,Product),'Date','Year','Month']]\n"
   ]
  },
  {
   "cell_type": "code",
   "execution_count": 33,
   "metadata": {
    "collapsed": true
   },
   "outputs": [],
   "source": [
    "# Creation of merged X - month versions\n",
    "#X1.drop('{}_{}_{}'.format(Exp_Country,Imp_Country,Product),axis=1,inplace=True, errors='ignore')\n",
    "#X2.drop('{}_{}_{}'.format(Exp_Country,Imp_Country,Product),axis=1,inplace=True, errors='ignore')\n",
    "#X3.drop('{}_{}_{}'.format(Exp_Country,Imp_Country,Product),axis=1,inplace=True, errors='ignore')\n",
    "#X6.drop('{}_{}_{}'.format(Exp_Country,Imp_Country,Product),axis=1,inplace=True, errors='ignore')\n",
    "#X12.drop('{}_{}_{}'.format(Exp_Country,Imp_Country,Product),axis=1,inplace=True, errors='ignore')\n",
    "#Xhat.drop('{}_{}_{}'.format(Exp_Country,Imp_Country,Product),axis=1,inplace=True, errors='ignore')\n",
    "\n",
    "\n",
    "X_12 = X1.merge(X2, \n",
    "                        on = ['Date','Year','Month'],how = 'left',copy=False)\n",
    "\n",
    "X_23 = X2.merge(X3, \n",
    "                        on = ['Date','Year','Month'],how = 'left',copy=False)\n",
    "\n",
    "X_34 = X3.merge(X4, \n",
    "                        on = ['Date','Year','Month'],how = 'left',copy=False)\n",
    "\n",
    "X_45 = X4.merge(X5, \n",
    "                        on = ['Date','Year','Month'],how = 'left',copy=False)\n",
    "\n",
    "X_56 = X5.merge(X6, \n",
    "                        on = ['Date','Year','Month'],how = 'left',copy=False)\n",
    "\n",
    "X_67 = X6.merge(X7, \n",
    "                        on = ['Date','Year','Month'],how = 'left',copy=False)\n",
    "\n",
    "\n",
    "X_123 = X_12.merge(X3, \n",
    "                        on = ['Date','Year','Month'],how = 'left',copy=False)\n",
    "\n",
    "X_234 = X_23.merge(X4, \n",
    "                        on = ['Date','Year','Month'],how = 'left',copy=False)\n",
    "\n",
    "X_345 = X_34.merge(X5, \n",
    "                        on = ['Date','Year','Month'],how = 'left',copy=False)\n",
    "\n",
    "X_456 = X_45.merge(X6, \n",
    "                        on = ['Date','Year','Month'],how = 'left',copy=False)\n",
    "\n",
    "X_567 = X_56.merge(X7, \n",
    "                        on = ['Date','Year','Month'],how = 'left',copy=False)\n",
    "\n",
    "X_678 = X_67.merge(X8, \n",
    "                        on = ['Date','Year','Month'],how = 'left',copy=False)\n",
    "\n",
    "\n",
    "X_1236 = X_123.merge(X6, \n",
    "                        on = ['Date','Year','Month'],how = 'left',copy=False)\n",
    "\n",
    "X_1236_12 = X_1236.merge(X_12, \n",
    "                        on = ['Date','Year','Month'],how = 'left',copy=False)\n",
    "\n"
   ]
  },
  {
   "cell_type": "code",
   "execution_count": 34,
   "metadata": {
    "collapsed": true
   },
   "outputs": [],
   "source": [
    "writer = pd.ExcelWriter('Data_{}_{}_{}.xlsx'.format(Exp_Country,Imp_Country,Product))\n",
    "Y.to_excel(writer,'Y',index = False,)\n",
    "X.to_excel(writer,'X',index = False,)\n",
    "X1.to_excel(writer,'X1',index = False,)\n",
    "X2.to_excel(writer,'X2',index = False,)\n",
    "X3.to_excel(writer,'X3',index = False,)\n",
    "X6.to_excel(writer,'X6',index = False,)\n",
    "X12.to_excel(writer,'X12',index = False,)\n",
    "Xhat.to_excel(writer,'Xhat',index = False,)\n",
    "\n",
    "X_12.to_excel(writer,'X_12',index = False,)\n",
    "X_22.to_excel(writer,'X_12',index = False,)\n",
    "X_32.to_excel(writer,'X_12',index = False,)\n",
    "X_42.to_excel(writer,'X_12',index = False,)\n",
    "X_52.to_excel(writer,'X_12',index = False,)\n",
    "X_62.to_excel(writer,'X_12',index = False,)\n",
    "\n",
    "X_123.to_excel(writer,'X_123',index = False,)\n",
    "X_1236.to_excel(writer,'X_1236',index = False,)\n",
    "X_1236_12.to_excel(writer,'X_1236_12',index = False,)\n",
    "\n",
    "writer.save()"
   ]
  },
  {
   "cell_type": "markdown",
   "metadata": {},
   "source": [
    "# Pair Plots for combined data sets. "
   ]
  },
  {
   "cell_type": "code",
   "execution_count": null,
   "metadata": {
    "collapsed": true,
    "scrolled": true
   },
   "outputs": [],
   "source": [
    "#PairPlot for CHINA Exports to GBR and Political Uncertainity\n",
    "\n",
    "if Exp_Country=='TUR':\n",
    "       sns_plot =  sns.pairplot(X[['{}_{}_{}'.format(Exp_Country,Imp_Country,Product),#'EPU_{}-1'.format(Exp_Country),\n",
    "       'EPU_{}'.format(Imp_Country), 'EPU_World','Month'\n",
    "          ]] , hue='Month' , diag_kind=\"kde\") \n",
    "        \n",
    "elif Exp_Country=='CHN':        \n",
    "     sns_plot = sns.pairplot(X[['{}_{}_{}'.format(Exp_Country,Imp_Country,Product),'EPU_{}'.format(Exp_Country),\n",
    "       'EPU_{}'.format(Imp_Country), 'EPU_World','Month'\n",
    "          ]] , hue='Month' , diag_kind=\"kde\") \n",
    "        \n",
    "sns_plot.savefig('Plots_Data_Consolidation_Pair_Plots\\Politic_Uncertainity_Pair_Plot_{}_{}_{}.png'.format(Exp_Country,Imp_Country,Product))          \n",
    "        "
   ]
  },
  {
   "cell_type": "code",
   "execution_count": null,
   "metadata": {
    "collapsed": true
   },
   "outputs": [],
   "source": [
    "# Pairplots Exporters (Turkey or China)  Exports to GBR and its top 5 markets\n",
    "\n",
    "sns_plot = sns.pairplot(X[['{}_{}_{}'.format(Exp_Country,Imp_Country,Product),\n",
    "            '{}_World_{}'.format(Exp_Country,Product), \n",
    "            '{}_{}_{}'.format(Exp_Country,IMP1,Product), \n",
    "            '{}_{}_{}'.format(Exp_Country,IMP2,Product),\n",
    "            '{}_{}_{}'.format(Exp_Country,IMP3,Product), \n",
    "            '{}_{}_{}'.format(Exp_Country,IMP4,Product),\n",
    "            'Month'\n",
    "          ]] , hue='Month' ,  diag_kind=\"kde\") \n",
    "\n",
    "\n",
    "sns_plot.savefig('Plots_Data_Consolidation_Pair_Plots\\Importers_Pair_Plot_{}_{}_{}.png'.format(Exp_Country,Imp_Country,Product))  "
   ]
  },
  {
   "cell_type": "code",
   "execution_count": null,
   "metadata": {
    "collapsed": true
   },
   "outputs": [],
   "source": [
    "# Pairplots CHINA Exports to GBR and GBR top 4 exporters \n",
    "g=sns.pairplot(X[['{}_{}_{}'.format(Exp_Country,Imp_Country,Product),\n",
    "                  '{}_{}_{}'. format(EXP0,Imp_Country,Product), \n",
    "                  '{}_{}_{}'. format(EXP1,Imp_Country,Product), \n",
    "                  '{}_{}_{}'. format(EXP2,Imp_Country,Product), \n",
    "                  '{}_{}_{}'. format(EXP3,Imp_Country,Product), \n",
    "                  'Month']] ,hue='Month' , diag_kind=\"kde\")\n",
    "\n",
    "sns_plot.savefig('Plots_Data_Consolidation_Pair_Plots\\Exporters_Pair_Plot_{}_{}_{}.png'.format(Exp_Country,Imp_Country,Product))  "
   ]
  }
 ],
 "metadata": {
  "kernelspec": {
   "display_name": "Python 3",
   "language": "python",
   "name": "python3"
  },
  "language_info": {
   "codemirror_mode": {
    "name": "ipython",
    "version": 3
   },
   "file_extension": ".py",
   "mimetype": "text/x-python",
   "name": "python",
   "nbconvert_exporter": "python",
   "pygments_lexer": "ipython3",
   "version": "3.6.2"
  }
 },
 "nbformat": 4,
 "nbformat_minor": 2
}
