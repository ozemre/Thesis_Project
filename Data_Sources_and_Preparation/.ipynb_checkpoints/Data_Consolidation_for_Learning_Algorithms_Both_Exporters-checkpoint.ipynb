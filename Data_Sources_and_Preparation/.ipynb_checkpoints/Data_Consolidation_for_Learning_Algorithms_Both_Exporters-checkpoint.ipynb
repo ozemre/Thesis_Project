{
 "cells": [
  {
   "cell_type": "markdown",
   "metadata": {},
   "source": [
    "For Products : 841810 841840 and 841850 \n",
    "China to UK Prediction \n",
    "and \n",
    "Turkey to UK Prediction "
   ]
  },
  {
   "cell_type": "code",
   "execution_count": 1,
   "metadata": {},
   "outputs": [
    {
     "name": "stderr",
     "output_type": "stream",
     "text": [
      "C:\\Users\\murat.ozemre\\AppData\\Local\\Continuum\\Anaconda3\\envs\\Tensor\\lib\\site-packages\\sklearn\\cross_validation.py:44: DeprecationWarning: This module was deprecated in version 0.18 in favor of the model_selection module into which all the refactored classes and functions are moved. Also note that the interface of the new CV iterators are different from that of this module. This module will be removed in 0.20.\n",
      "  \"This module will be removed in 0.20.\", DeprecationWarning)\n"
     ]
    }
   ],
   "source": [
    "import numpy as np\n",
    "import pandas as pd\n",
    "import matplotlib.pyplot as plt\n",
    "from sklearn.cross_validation import train_test_split\n",
    "import seaborn as sns\n",
    "%matplotlib inline"
   ]
  },
  {
   "cell_type": "code",
   "execution_count": 2,
   "metadata": {
    "collapsed": true
   },
   "outputs": [],
   "source": [
    "import sys\n",
    "import warnings\n",
    "\n",
    "if not sys.warnoptions:\n",
    "    warnings.simplefilter(\"ignore\")"
   ]
  },
  {
   "cell_type": "code",
   "execution_count": 3,
   "metadata": {
    "collapsed": true
   },
   "outputs": [],
   "source": [
    "from __future__ import absolute_import\n",
    "from __future__ import division\n",
    "from __future__ import print_function\n"
   ]
  },
  {
   "cell_type": "code",
   "execution_count": 4,
   "metadata": {
    "collapsed": true
   },
   "outputs": [],
   "source": [
    "# This function is used to calculate difference -> hat feature calculation\n",
    "# z is the data frame given.\n",
    "# n is order number for the first columns. \n",
    "def difference(z,n):\n",
    "    \n",
    "    for x in range(0,n):\n",
    "        # Calculate differnce value for specified columnrange\n",
    "        columnname=z.columns.values.tolist()[x]    \n",
    "        # Get the columnname from DataFrame\n",
    "        z['{}-hat'.format(columnname)]=z['{}'.format(columnname)]-z['{}-1'.format(columnname)]\n",
    "        # Subtract 'columnname' and 'columnname-1' and results and insert 'columnname_hat'\n",
    "        #Example => ITC_DF1['CHN_GBR_841810_hat']=ITC_DF1['CHN_GBR_841810']-ITC_DF1['CHN_GBR_841810-1']\n",
    "        \n",
    "    return z"
   ]
  },
  {
   "cell_type": "code",
   "execution_count": 5,
   "metadata": {
    "collapsed": true
   },
   "outputs": [],
   "source": [
    "Product=841810\n",
    "Exp_Country='TUR' # 'TUR'\n",
    "Imp_Country='GBR'\n",
    "\n",
    "if Exp_Country=='CHN':\n",
    "    Currency='CNY'\n",
    "    EXP0='TUR'   \n",
    "elif Exp_Country=='TUR':\n",
    "    Currency='TRY'\n",
    "    EXP0='CHN'   "
   ]
  },
  {
   "cell_type": "code",
   "execution_count": 6,
   "metadata": {
    "collapsed": true
   },
   "outputs": [],
   "source": [
    "# Reading Excel Files"
   ]
  },
  {
   "cell_type": "code",
   "execution_count": 7,
   "metadata": {},
   "outputs": [
    {
     "data": {
      "text/plain": [
       "Index(['TUR_GBR_841810', 'TUR_World_841810', 'TUR_FRA_841810',\n",
       "       'TUR_USA_841810', 'TUR_ITA_841810', 'TUR_DEU_841810', 'Date', 'Year',\n",
       "       'Month', 'TUR_GBR_841810-1', 'TUR_GBR_841810-2', 'TUR_GBR_841810-3',\n",
       "       'TUR_GBR_841810-6', 'TUR_GBR_841810-12', 'TUR_World_841810-1',\n",
       "       'TUR_World_841810-2', 'TUR_World_841810-3', 'TUR_World_841810-6',\n",
       "       'TUR_World_841810-12', 'TUR_USA_841810-1', 'TUR_USA_841810-2',\n",
       "       'TUR_USA_841810-3', 'TUR_USA_841810-6', 'TUR_USA_841810-12',\n",
       "       'TUR_DEU_841810-1', 'TUR_DEU_841810-2', 'TUR_DEU_841810-3',\n",
       "       'TUR_DEU_841810-6', 'TUR_DEU_841810-12', 'TUR_FRA_841810-1',\n",
       "       'TUR_FRA_841810-2', 'TUR_FRA_841810-3', 'TUR_FRA_841810-6',\n",
       "       'TUR_FRA_841810-12', 'TUR_ITA_841810-1', 'TUR_ITA_841810-2',\n",
       "       'TUR_ITA_841810-3', 'TUR_ITA_841810-6', 'TUR_ITA_841810-12',\n",
       "       'TUR_GBR_841810-hat', 'TUR_World_841810-hat', 'TUR_FRA_841810-hat',\n",
       "       'TUR_USA_841810-hat', 'TUR_ITA_841810-hat', 'TUR_DEU_841810-hat'],\n",
       "      dtype='object')"
      ]
     },
     "execution_count": 7,
     "metadata": {},
     "output_type": "execute_result"
    }
   ],
   "source": [
    "ITC_DF1 = pd.ExcelFile('ITC_Trade_Data\\{}_{}_all.xlsx'.format(Product,Exp_Country))\n",
    "ITC_DF1 = ITC_DF1.parse('Sheet1', header=0,index_col=None, na_values=['NA'])\n",
    "difference(ITC_DF1,6).columns\n",
    "ITC_DF1.columns"
   ]
  },
  {
   "cell_type": "code",
   "execution_count": 8,
   "metadata": {
    "collapsed": true
   },
   "outputs": [],
   "source": [
    "ITC_DF2 = pd.ExcelFile('ITC_Trade_Data\\{}_{}_all.xlsx'.format(Product,Imp_Country))\n",
    "ITC_DF2 = ITC_DF2.parse('Sheet1', header=0,index_col=None, na_values=['NA'])\n"
   ]
  },
  {
   "cell_type": "code",
   "execution_count": 9,
   "metadata": {
    "collapsed": true
   },
   "outputs": [],
   "source": [
    "ITC_DF2.drop('{}_{}_{}'.format(Exp_Country,Imp_Country,Product),axis=1,inplace=True)\n",
    "ITC_DF2.drop('{}_{}_{}-1'.format(Exp_Country,Imp_Country,Product),axis=1,inplace=True)\n",
    "ITC_DF2.drop('{}_{}_{}-2'.format(Exp_Country,Imp_Country,Product),axis=1,inplace=True)\n",
    "ITC_DF2.drop('{}_{}_{}-3'.format(Exp_Country,Imp_Country,Product),axis=1,inplace=True)\n",
    "ITC_DF2.drop('{}_{}_{}-6'.format(Exp_Country,Imp_Country,Product),axis=1,inplace=True)\n",
    "ITC_DF2.drop('{}_{}_{}-12'.format(Exp_Country,Imp_Country,Product),axis=1,inplace=True)\n"
   ]
  },
  {
   "cell_type": "code",
   "execution_count": 10,
   "metadata": {},
   "outputs": [
    {
     "data": {
      "text/plain": [
       "Index(['CHN_GBR_841810', 'POL_GBR_841810', 'KOR_GBR_841810', 'ITA_GBR_841810',\n",
       "       'Date', 'CHN_GBR_841810-1', 'CHN_GBR_841810-2', 'CHN_GBR_841810-3',\n",
       "       'CHN_GBR_841810-6', 'CHN_GBR_841810-12', 'POL_GBR_841810-1',\n",
       "       'POL_GBR_841810-2', 'POL_GBR_841810-3', 'POL_GBR_841810-6',\n",
       "       'POL_GBR_841810-12', 'KOR_GBR_841810-1', 'KOR_GBR_841810-2',\n",
       "       'KOR_GBR_841810-3', 'KOR_GBR_841810-6', 'KOR_GBR_841810-12',\n",
       "       'ITA_GBR_841810-1', 'ITA_GBR_841810-2', 'ITA_GBR_841810-3',\n",
       "       'ITA_GBR_841810-6', 'ITA_GBR_841810-12', 'CHN_GBR_841810-hat',\n",
       "       'POL_GBR_841810-hat', 'KOR_GBR_841810-hat', 'ITA_GBR_841810-hat'],\n",
       "      dtype='object')"
      ]
     },
     "execution_count": 10,
     "metadata": {},
     "output_type": "execute_result"
    }
   ],
   "source": [
    "difference(ITC_DF2,4).columns\n",
    "ITC_DF2.columns"
   ]
  },
  {
   "cell_type": "code",
   "execution_count": 11,
   "metadata": {},
   "outputs": [
    {
     "data": {
      "text/plain": [
       "Index(['EPU_TUR', 'Date', 'EPU_TUR-1', 'EPU_TUR-2', 'EPU_TUR-3', 'EPU_TUR-6',\n",
       "       'EPU_TUR-12', 'EPU_TUR-hat'],\n",
       "      dtype='object')"
      ]
     },
     "execution_count": 11,
     "metadata": {},
     "output_type": "execute_result"
    }
   ],
   "source": [
    " \n",
    "\n",
    "EPU_DF1 = pd.ExcelFile('Economic_Uncertainty\\EPU_{}.xlsx'.format(Exp_Country))\n",
    "EPU_DF1 = EPU_DF1.parse('Sheet1', header=0,index_col=None, na_values=['NA'])\n",
    "\n",
    "#if Exp_Country=='CHN':\n",
    "difference(EPU_DF1,1)\n",
    "\n",
    "EPU_DF1.columns\n",
    "    \n",
    "    "
   ]
  },
  {
   "cell_type": "code",
   "execution_count": 12,
   "metadata": {},
   "outputs": [
    {
     "data": {
      "text/plain": [
       "Index(['EPU_GBR', 'Date', 'EPU_GBR-1', 'EPU_GBR-2', 'EPU_GBR-3', 'EPU_GBR-6',\n",
       "       'EPU_GBR-12', 'EPU_GBR-hat'],\n",
       "      dtype='object')"
      ]
     },
     "execution_count": 12,
     "metadata": {},
     "output_type": "execute_result"
    }
   ],
   "source": [
    "EPU_DF2 = pd.ExcelFile('Economic_Uncertainty\\EPU_{}.xlsx'.format(Imp_Country))\n",
    "EPU_DF2 = EPU_DF2.parse('Sheet1', header=0,index_col=None, na_values=['NA'])\n",
    "difference(EPU_DF2,1)\n",
    "EPU_DF2.columns"
   ]
  },
  {
   "cell_type": "code",
   "execution_count": 13,
   "metadata": {},
   "outputs": [
    {
     "data": {
      "text/plain": [
       "Index(['EPU_World', 'Date', 'EPU_World-1', 'EPU_World-2', 'EPU_World-3',\n",
       "       'EPU_World-6', 'EPU_World-12', 'EPU_World-hat'],\n",
       "      dtype='object')"
      ]
     },
     "execution_count": 13,
     "metadata": {},
     "output_type": "execute_result"
    }
   ],
   "source": [
    "EPU_World = pd.ExcelFile('Economic_Uncertainty\\EPU_World.xlsx')\n",
    "EPU_World = EPU_World.parse('Sheet1', header=0,index_col=None, na_values=['NA'])\n",
    "difference(EPU_World,1)\n",
    "EPU_World.columns"
   ]
  },
  {
   "cell_type": "code",
   "execution_count": 14,
   "metadata": {
    "collapsed": true
   },
   "outputs": [],
   "source": [
    "# Reading Related CSV Files"
   ]
  },
  {
   "cell_type": "code",
   "execution_count": 15,
   "metadata": {},
   "outputs": [
    {
     "data": {
      "text/plain": [
       "Index(['BCI_TUR', 'CCI_TUR', 'CLI_TUR', 'GDP_TUR', 'Date', 'BCI_TUR-1',\n",
       "       'BCI_TUR-2', 'BCI_TUR-3', 'BCI_TUR-6', 'BCI_TUR-12', 'CCI_TUR-1',\n",
       "       'CCI_TUR-2', 'CCI_TUR-3', 'CCI_TUR-6', 'CCI_TUR-12', 'CLI_TUR-1',\n",
       "       'CLI_TUR-2', 'CLI_TUR-3', 'CLI_TUR-6', 'CLI_TUR-12', 'GDP_TUR-1',\n",
       "       'GDP_TUR-2', 'GDP_TUR-3', 'GDP_TUR-6', 'GDP_TUR-12', 'BCI_TUR-hat',\n",
       "       'CCI_TUR-hat', 'CLI_TUR-hat', 'GDP_TUR-hat'],\n",
       "      dtype='object')"
      ]
     },
     "execution_count": 15,
     "metadata": {},
     "output_type": "execute_result"
    }
   ],
   "source": [
    "OECD_DF1 = pd.read_csv('OECD\\BCI_CCI_CLI_GDP_{}.csv'.format(Exp_Country))\n",
    "difference(OECD_DF1,4)\n",
    "OECD_DF1.columns"
   ]
  },
  {
   "cell_type": "code",
   "execution_count": 16,
   "metadata": {},
   "outputs": [
    {
     "data": {
      "text/plain": [
       "Index(['BCI_GBR', 'CCI_GBR', 'CLI_GBR', 'GDP_GBR', 'Date', 'BCI_GBR-1',\n",
       "       'BCI_GBR-2', 'BCI_GBR-3', 'BCI_GBR-6', 'BCI_GBR-12', 'CCI_GBR-1',\n",
       "       'CCI_GBR-2', 'CCI_GBR-3', 'CCI_GBR-6', 'CCI_GBR-12', 'CLI_GBR-1',\n",
       "       'CLI_GBR-2', 'CLI_GBR-3', 'CLI_GBR-6', 'CLI_GBR-12', 'GDP_GBR-1',\n",
       "       'GDP_GBR-2', 'GDP_GBR-3', 'GDP_GBR-6', 'GDP_GBR-12', 'BCI_GBR-hat',\n",
       "       'CCI_GBR-hat', 'CLI_GBR-hat', 'GDP_GBR-hat'],\n",
       "      dtype='object')"
      ]
     },
     "execution_count": 16,
     "metadata": {},
     "output_type": "execute_result"
    }
   ],
   "source": [
    "OECD_DF2 = pd.read_csv('OECD\\BCI_CCI_CLI_GDP_{}.csv'.format(Imp_Country))\n",
    "difference(OECD_DF2,4)\n",
    "OECD_DF2.columns"
   ]
  },
  {
   "cell_type": "code",
   "execution_count": 17,
   "metadata": {
    "collapsed": true
   },
   "outputs": [],
   "source": [
    "#OECD_DF3 = pd.read_csv('OECD\\PPI_CHN_GBR.csv')\n",
    "#OECD_DF3.columns"
   ]
  },
  {
   "cell_type": "code",
   "execution_count": 18,
   "metadata": {},
   "outputs": [
    {
     "data": {
      "text/plain": [
       "Index(['CPI_TUR', 'CPI_GBR', 'Date', 'CPI_TUR-1', 'CPI_TUR-2', 'CPI_TUR-3',\n",
       "       'CPI_TUR-6', 'CPI_TUR-12', 'CPI_GBR-1', 'CPI_GBR-2', 'CPI_GBR-3',\n",
       "       'CPI_GBR-6', 'CPI_GBR-12', 'CPI_TUR-hat', 'CPI_GBR-hat'],\n",
       "      dtype='object')"
      ]
     },
     "execution_count": 18,
     "metadata": {},
     "output_type": "execute_result"
    }
   ],
   "source": [
    "OECD_DF4 = pd.read_csv('OECD\\CPI_{}_{}.csv'.format(Exp_Country,Imp_Country))\n",
    "difference(OECD_DF4,2)\n",
    "OECD_DF4.columns"
   ]
  },
  {
   "cell_type": "code",
   "execution_count": 19,
   "metadata": {},
   "outputs": [
    {
     "data": {
      "text/plain": [
       "Index(['TRY', 'GBP', 'Date', 'TRY-1', 'TRY-2', 'TRY-3', 'TRY-6', 'TRY-12',\n",
       "       'GBP-1', 'GBP-2', 'GBP-3', 'GBP-6', 'GBP-12', 'TRY-hat', 'GBP-hat'],\n",
       "      dtype='object')"
      ]
     },
     "execution_count": 19,
     "metadata": {},
     "output_type": "execute_result"
    }
   ],
   "source": [
    "OECD_DF5 = pd.read_csv('OECD\\{}_GBP.csv'.format(Currency))\n",
    "difference(OECD_DF5,2)\n",
    "OECD_DF5.columns"
   ]
  },
  {
   "cell_type": "code",
   "execution_count": 20,
   "metadata": {},
   "outputs": [
    {
     "data": {
      "text/plain": [
       "Index(['World', 'Date', 'World-1', 'World-2', 'World-3', 'World-6', 'World-12',\n",
       "       'World-hat'],\n",
       "      dtype='object')"
      ]
     },
     "execution_count": 20,
     "metadata": {},
     "output_type": "execute_result"
    }
   ],
   "source": [
    "OTHER_DF1 = pd.read_csv('Global_Trade\\WorldTrade.csv')\n",
    "difference(OTHER_DF1,1)\n",
    "OTHER_DF1.columns"
   ]
  },
  {
   "cell_type": "code",
   "execution_count": 21,
   "metadata": {
    "collapsed": true
   },
   "outputs": [],
   "source": [
    "Y=ITC_DF1.columns.values.tolist()[0].split('_')[1]\n",
    "IMP1=ITC_DF1.columns.values.tolist()[2].split('_')[1]\n",
    "IMP2=ITC_DF1.columns.values.tolist()[3].split('_')[1]\n",
    "IMP3=ITC_DF1.columns.values.tolist()[4].split('_')[1]\n",
    "IMP4=ITC_DF1.columns.values.tolist()[5].split('_')[1]\n",
    "\n",
    "EXP1=ITC_DF2.columns.values.tolist()[1].split('_')[0]\n",
    "EXP2=ITC_DF2.columns.values.tolist()[2].split('_')[0]\n",
    "EXP3=ITC_DF2.columns.values.tolist()[3].split('_')[0]"
   ]
  },
  {
   "cell_type": "code",
   "execution_count": 22,
   "metadata": {
    "scrolled": false
   },
   "outputs": [
    {
     "name": "stdout",
     "output_type": "stream",
     "text": [
      "Index(['TUR_GBR_841810', 'TUR_World_841810', 'TUR_FRA_841810',\n",
      "       'TUR_USA_841810', 'TUR_ITA_841810', 'TUR_DEU_841810', 'Date', 'Year',\n",
      "       'Month', 'TUR_GBR_841810-1',\n",
      "       ...\n",
      "       'GBP-12', 'TRY-hat', 'GBP-hat', 'World', 'World-1', 'World-2',\n",
      "       'World-3', 'World-6', 'World-12', 'World-hat'],\n",
      "      dtype='object', length=185) (144, 185)\n"
     ]
    }
   ],
   "source": [
    "Data_All = ITC_DF1.merge(ITC_DF2, \n",
    "                        on = 'Date',how = 'left').merge(EPU_DF1,\n",
    "                        on = 'Date',how = 'left').merge(EPU_DF2, \n",
    "                        on = 'Date',how = 'left').merge(EPU_World,\n",
    "                        on = 'Date',how = 'left').merge(OECD_DF1, \n",
    "                        on = 'Date',how = 'left').merge(OECD_DF2, \n",
    "#                        on = 'Date',how = 'left').merge(OECD_DF3, \n",
    "                        on = 'Date',how = 'left').merge(OECD_DF4, \n",
    "                        on = 'Date',how = 'left').merge(OECD_DF5, \n",
    "                        on = 'Date',how = 'left').merge(OTHER_DF1, \n",
    "                        on = 'Date',how = 'left')\n",
    "#Data_Core_1=Data_Core_1.dropna()\n",
    "Data_All=Data_All.fillna(0)\n",
    "print(Data_All.columns,Data_All.shape)"
   ]
  },
  {
   "cell_type": "markdown",
   "metadata": {},
   "source": [
    "# Burasını modifiye ediyordum. Fonkisyon yazıldı. Merge dogru calısmıyor"
   ]
  },
  {
   "cell_type": "code",
   "execution_count": 45,
   "metadata": {
    "collapsed": true
   },
   "outputs": [],
   "source": [
    "def Monthly_data_frame_creation(Data,Exp_Country,Imp_Country,Product,Month):\n",
    "    \n",
    "    X=Data[\n",
    "    \n",
    "            ['{}_{}_{}'.format(Exp_Country,Imp_Country,Product),\n",
    "# -1 Month Exporters Volumes \n",
    "            '{}_{}_{}-{}'.format(Exp_Country,Imp_Country,Product,Month),'{}_World_{}-{}'.format(Exp_Country,Product,Month), \n",
    "            '{}_{}_{}-{}'.format(Exp_Country,IMP1,Product,Month), '{}_{}_{}-{}'.format(Exp_Country,IMP2,Product,Month),\n",
    "            '{}_{}_{}-{}'.format(Exp_Country,IMP3,Product,Month), '{}_{}_{}-{}'.format(Exp_Country,IMP4,Product,Month), \n",
    "# -1 Month Importers Volumes                         \n",
    "             '{}_{}_{}-{}'. format(EXP0,Imp_Country,Product,Month), '{}_{}_{}-{}'. format(EXP1,Imp_Country,Product,Month), \n",
    "             '{}_{}_{}-{}'. format(EXP2,Imp_Country,Product,Month), '{}_{}_{}-{}'. format(EXP3,Imp_Country,Product,Month), \n",
    "# -1 Month Politic Uncertainity                         \n",
    "               \n",
    "             'EPU_{}-{}'.format(Exp_Country,Month),'EPU_{}-{}'.format(Imp_Country,Month), 'EPU_World-{}'.format(Month), \n",
    "# -1 Month Economic Indices            \n",
    "             'BCI_{}-{}'.format(Exp_Country,Month), 'CCI_{}-{}'.format(Exp_Country,Month), 'CLI_{}-{}'.format(Exp_Country,Month),'GDP_{}-{}'.format(Exp_Country,Month), \n",
    "             'BCI_{}-{}'.format(Imp_Country,Month), 'CCI_{}-{}'.format(Imp_Country,Month), 'CLI_{}-{}'.format(Imp_Country,Month), 'GDP_{}-{}'.format(Imp_Country,Month),\n",
    "           #    'PPI_{}-{}'.format(Exp_Country), 'PPI_{}-{}'.format(Imp_Country), \n",
    "             'CPI_{}-{}'.format(Exp_Country,Month), 'CPI_{}-{}'.format(Imp_Country,Month), \n",
    "             '{}-{}'.format(Currency,Month), 'GBP-{}'.format(Month),'World-{}'.format(Month),\n",
    "               'Date','Year','Month']\n",
    "            ]\n",
    "\n",
    "#    print(X.columns,X.shape)\n",
    "    if Exp_Country=='TUR':\n",
    "        X.drop('EPU_{}-{}'.format(Exp_Country,Month),axis=1,inplace=True, errors='ignore')\n",
    "\n",
    "#    print(X.columns,X.shape)        \n",
    "    return X"
   ]
  },
  {
   "cell_type": "code",
   "execution_count": null,
   "metadata": {
    "collapsed": true
   },
   "outputs": [],
   "source": [
    "# Creation of single X-month versions"
   ]
  },
  {
   "cell_type": "code",
   "execution_count": 57,
   "metadata": {},
   "outputs": [],
   "source": [
    "X1=Monthly_data_frame_creation(Data_All,Exp_Country,Imp_Country,Product,1)\n",
    "X2=Monthly_data_frame_creation(Data_All,Exp_Country,Imp_Country,Product,2)\n",
    "X3=Monthly_data_frame_creation(Data_All,Exp_Country,Imp_Country,Product,3)\n",
    "X6=Monthly_data_frame_creation(Data_All,Exp_Country,Imp_Country,Product,6)\n",
    "X12=Monthly_data_frame_creation(Data_All,Exp_Country,Imp_Country,Product,12)\n",
    "Xhat=Monthly_data_frame_creation(Data_All,Exp_Country,Imp_Country,Product,'hat')"
   ]
  },
  {
   "cell_type": "code",
   "execution_count": 58,
   "metadata": {},
   "outputs": [],
   "source": [
    "# Creation of Y\n",
    "Y=X1[['{}_{}_{}'.format(Exp_Country,Imp_Country,Product),'Date','Year','Month']]\n"
   ]
  },
  {
   "cell_type": "code",
   "execution_count": 59,
   "metadata": {},
   "outputs": [],
   "source": [
    "# Creation of merged X - month versions\n",
    "X1.drop('{}_{}_{}'.format(Exp_Country,Imp_Country,Product),axis=1,inplace=True, errors='ignore')\n",
    "X2.drop('{}_{}_{}'.format(Exp_Country,Imp_Country,Product),axis=1,inplace=True, errors='ignore')\n",
    "X3.drop('{}_{}_{}'.format(Exp_Country,Imp_Country,Product),axis=1,inplace=True, errors='ignore')\n",
    "X6.drop('{}_{}_{}'.format(Exp_Country,Imp_Country,Product),axis=1,inplace=True, errors='ignore')\n",
    "X_12.drop('{}_{}_{}'.format(Exp_Country,Imp_Country,Product),axis=1,inplace=True, errors='ignore')\n",
    "Xhat.drop('{}_{}_{}'.format(Exp_Country,Imp_Country,Product),axis=1,inplace=True, errors='ignore')\n",
    "\n",
    "#X2.drop('Year',axis=1,inplace=True, errors='ignore')\n",
    "#X2.drop('Month',axis=1,inplace=True, errors='ignore')\n",
    "X_12 = X1.merge(X2, \n",
    "                        on = ['Date','Year','Month'],how = 'left',copy=False)\n",
    "\n",
    "X_123 = X_12.merge(X3, \n",
    "                        on = ['Date','Year','Month'],how = 'left',copy=False)\n",
    "\n",
    "\n",
    "X_1236 = X_123.merge(X6, \n",
    "                        on = ['Date','Year','Month'],how = 'left',copy=False)\n",
    "\n",
    "X_1236_12 = X_1236.merge(X_12, \n",
    "                        on = ['Date','Year','Month'],how = 'left',copy=False)\n",
    "\n"
   ]
  },
  {
   "cell_type": "code",
   "execution_count": 60,
   "metadata": {
    "collapsed": true
   },
   "outputs": [],
   "source": [
    "writer = pd.ExcelWriter('Data_{}_{}_{}.xlsx'.format(Exp_Country,Imp_Country,Product))\n",
    "Y.to_excel(writer,'Y',index = False,)\n",
    "X1.to_excel(writer,'X1',index = False,)\n",
    "X2.to_excel(writer,'X2',index = False,)\n",
    "X3.to_excel(writer,'X3',index = False,)\n",
    "X6.to_excel(writer,'X6',index = False,)\n",
    "X12.to_excel(writer,'X12',index = False,)\n",
    "Xhat.to_excel(writer,'Xhat',index = False,)\n",
    "\n",
    "X_12.to_excel(writer,'X_12',index = False,)\n",
    "X_123.to_excel(writer,'X_123',index = False,)\n",
    "X_1236.to_excel(writer,'X_1236',index = False,)\n",
    "X_1236_12.to_excel(writer,'X_1236_12',index = False,)\n",
    "\n",
    "writer.save()"
   ]
  },
  {
   "cell_type": "code",
   "execution_count": 35,
   "metadata": {},
   "outputs": [
    {
     "name": "stdout",
     "output_type": "stream",
     "text": [
      "Index(['TUR_GBR_841810', 'TUR_GBR_841810-1', 'TUR_World_841810-1',\n",
      "       'TUR_FRA_841810-1', 'TUR_USA_841810-1', 'TUR_ITA_841810-1',\n",
      "       'TUR_DEU_841810-1', 'CHN_GBR_841810-1', 'POL_GBR_841810-1',\n",
      "       'KOR_GBR_841810-1', 'ITA_GBR_841810-1', 'EPU_TUR-1', 'EPU_GBR-1',\n",
      "       'EPU_World-1', 'BCI_TUR-1', 'CCI_TUR-1', 'CLI_TUR-1', 'GDP_TUR-1',\n",
      "       'BCI_GBR-1', 'CCI_GBR-1', 'CLI_GBR-1', 'GDP_GBR-1', 'CPI_TUR-1',\n",
      "       'CPI_GBR-1', 'TRY-1', 'GBP-1', 'World-1', 'Date', 'Year', 'Month'],\n",
      "      dtype='object') (152, 30)\n"
     ]
    }
   ],
   "source": [
    "X1=Data_All[\n",
    "    \n",
    "            ['{}_{}_{}'.format(Exp_Country,Imp_Country,Product),\n",
    "# -1 Month Exporters Volumes \n",
    "            '{}_{}_{}-1'.format(Exp_Country,Imp_Country,Product),'{}_World_{}-1'.format(Exp_Country,Product), \n",
    "            '{}_{}_{}-1'.format(Exp_Country,IMP1,Product), '{}_{}_{}-1'.format(Exp_Country,IMP2,Product),\n",
    "            '{}_{}_{}-1'.format(Exp_Country,IMP3,Product), '{}_{}_{}-1'.format(Exp_Country,IMP4,Product), \n",
    "# -1 Month Importers Volumes                         \n",
    "             '{}_{}_{}-1'. format(EXP0,Imp_Country,Product), '{}_{}_{}-1'. format(EXP1,Imp_Country,Product), \n",
    "             '{}_{}_{}-1'. format(EXP2,Imp_Country,Product), '{}_{}_{}-1'. format(EXP3,Imp_Country,Product), \n",
    "# -1 Month Politic Uncertainity                         \n",
    "               \n",
    "             'EPU_{}-1'.format(Exp_Country),'EPU_{}-1'.format(Imp_Country), 'EPU_World-1', \n",
    "# -1 Month Economic Indices            \n",
    "             'BCI_{}-1'.format(Exp_Country), 'CCI_{}-1'.format(Exp_Country), 'CLI_{}-1'.format(Exp_Country),'GDP_{}-1'.format(Exp_Country), \n",
    "             'BCI_{}-1'.format(Imp_Country), 'CCI_{}-1'.format(Imp_Country), 'CLI_{}-1'.format(Imp_Country), 'GDP_{}-1'.format(Imp_Country),\n",
    "           #    'PPI_{}-1'.format(Exp_Country), 'PPI_{}-1'.format(Imp_Country), \n",
    "             'CPI_{}-1'.format(Exp_Country), 'CPI_{}-1'.format(Imp_Country), \n",
    "             '{}-1'.format(Currency), 'GBP-1','World-1',\n",
    "               'Date','Year','Month']\n",
    "        ]\n",
    "\n",
    "print(X1.columns,X1.shape)\n"
   ]
  },
  {
   "cell_type": "code",
   "execution_count": 36,
   "metadata": {},
   "outputs": [
    {
     "name": "stdout",
     "output_type": "stream",
     "text": [
      "Index(['TUR_GBR_841810', 'TUR_GBR_841810-1', 'TUR_World_841810-1',\n",
      "       'TUR_FRA_841810-1', 'TUR_USA_841810-1', 'TUR_ITA_841810-1',\n",
      "       'TUR_DEU_841810-1', 'CHN_GBR_841810-1', 'POL_GBR_841810-1',\n",
      "       'KOR_GBR_841810-1', 'ITA_GBR_841810-1', 'EPU_GBR-1', 'EPU_World-1',\n",
      "       'BCI_TUR-1', 'CCI_TUR-1', 'CLI_TUR-1', 'GDP_TUR-1', 'BCI_GBR-1',\n",
      "       'CCI_GBR-1', 'CLI_GBR-1', 'GDP_GBR-1', 'CPI_TUR-1', 'CPI_GBR-1',\n",
      "       'TRY-1', 'GBP-1', 'World-1', 'Date', 'Year', 'Month'],\n",
      "      dtype='object') (152, 29)\n"
     ]
    },
    {
     "name": "stderr",
     "output_type": "stream",
     "text": [
      "C:\\Users\\murat.ozemre\\AppData\\Local\\Continuum\\Anaconda3\\envs\\Tensor\\lib\\site-packages\\ipykernel_launcher.py:2: SettingWithCopyWarning: \n",
      "A value is trying to be set on a copy of a slice from a DataFrame\n",
      "\n",
      "See the caveats in the documentation: http://pandas.pydata.org/pandas-docs/stable/indexing.html#indexing-view-versus-copy\n",
      "  \n"
     ]
    }
   ],
   "source": [
    "if Exp_Country=='TUR':\n",
    "    X1.drop('EPU_{}-1'.format(Exp_Country),axis=1,inplace=True, errors='ignore')\n",
    "\n",
    "print(X1.columns,X1.shape)"
   ]
  },
  {
   "cell_type": "code",
   "execution_count": 37,
   "metadata": {},
   "outputs": [
    {
     "name": "stdout",
     "output_type": "stream",
     "text": [
      "Index(['TUR_GBR_841810', 'TUR_GBR_841810-1', 'TUR_World_841810-1',\n",
      "       'TUR_FRA_841810-1', 'TUR_USA_841810-1', 'TUR_ITA_841810-1',\n",
      "       'TUR_DEU_841810-1', 'CHN_GBR_841810-1', 'POL_GBR_841810-1',\n",
      "       'KOR_GBR_841810-1', 'ITA_GBR_841810-1', 'EPU_GBR-1', 'EPU_World-1',\n",
      "       'BCI_TUR-1', 'CCI_TUR-1', 'CLI_TUR-1', 'GDP_TUR-1', 'BCI_GBR-1',\n",
      "       'CCI_GBR-1', 'CLI_GBR-1', 'GDP_GBR-1', 'CPI_TUR-1', 'CPI_GBR-1',\n",
      "       'TRY-1', 'GBP-1', 'World-1', 'TUR_GBR_841810-2', 'TUR_World_841810-2',\n",
      "       'TUR_FRA_841810-2', 'TUR_USA_841810-2', 'TUR_ITA_841810-2',\n",
      "       'TUR_DEU_841810-2', 'CHN_GBR_841810-2', 'POL_GBR_841810-2',\n",
      "       'KOR_GBR_841810-2', 'ITA_GBR_841810-2', 'EPU_GBR-2', 'EPU_World-2',\n",
      "       'BCI_TUR-2', 'CCI_TUR-2', 'CLI_TUR-2', 'GDP_TUR-2', 'BCI_GBR-2',\n",
      "       'CCI_GBR-2', 'CLI_GBR-2', 'GDP_GBR-2', 'CPI_TUR-2', 'CPI_GBR-2',\n",
      "       'TRY-2', 'GBP-2', 'World-2', 'Date', 'Year', 'Month'],\n",
      "      dtype='object') (152, 54)\n"
     ]
    },
    {
     "name": "stderr",
     "output_type": "stream",
     "text": [
      "C:\\Users\\murat.ozemre\\AppData\\Local\\Continuum\\Anaconda3\\envs\\Tensor\\lib\\site-packages\\ipykernel_launcher.py:42: SettingWithCopyWarning: \n",
      "A value is trying to be set on a copy of a slice from a DataFrame\n",
      "\n",
      "See the caveats in the documentation: http://pandas.pydata.org/pandas-docs/stable/indexing.html#indexing-view-versus-copy\n",
      "C:\\Users\\murat.ozemre\\AppData\\Local\\Continuum\\Anaconda3\\envs\\Tensor\\lib\\site-packages\\ipykernel_launcher.py:43: SettingWithCopyWarning: \n",
      "A value is trying to be set on a copy of a slice from a DataFrame\n",
      "\n",
      "See the caveats in the documentation: http://pandas.pydata.org/pandas-docs/stable/indexing.html#indexing-view-versus-copy\n"
     ]
    }
   ],
   "source": [
    "X12=Data_All[\n",
    "    \n",
    "            ['{}_{}_{}'.format(Exp_Country,Imp_Country,Product),\n",
    "# -1 Month Exporters Volumes \n",
    "            '{}_{}_{}-1'.format(Exp_Country,Imp_Country,Product),'{}_World_{}-1'.format(Exp_Country,Product), \n",
    "            '{}_{}_{}-1'.format(Exp_Country,IMP1,Product), '{}_{}_{}-1'.format(Exp_Country,IMP2,Product),\n",
    "            '{}_{}_{}-1'.format(Exp_Country,IMP3,Product), '{}_{}_{}-1'.format(Exp_Country,IMP4,Product), \n",
    "# -1 Month Importers Volumes                         \n",
    "             '{}_{}_{}-1'. format(EXP0,Imp_Country,Product), '{}_{}_{}-1'. format(EXP1,Imp_Country,Product), \n",
    "             '{}_{}_{}-1'. format(EXP2,Imp_Country,Product), '{}_{}_{}-1'. format(EXP3,Imp_Country,Product), \n",
    "# -1 Month Politic Uncertainity                         \n",
    "               \n",
    "             'EPU_{}-1'.format(Exp_Country),'EPU_{}-1'.format(Imp_Country), 'EPU_World-1', \n",
    "# -1 Month Economic Indices            \n",
    "             'BCI_{}-1'.format(Exp_Country), 'CCI_{}-1'.format(Exp_Country), 'CLI_{}-1'.format(Exp_Country),'GDP_{}-1'.format(Exp_Country), \n",
    "             'BCI_{}-1'.format(Imp_Country), 'CCI_{}-1'.format(Imp_Country), 'CLI_{}-1'.format(Imp_Country), 'GDP_{}-1'.format(Imp_Country),\n",
    "           #    'PPI_{}-1'.format(Exp_Country), 'PPI_{}-1'.format(Imp_Country), \n",
    "             'CPI_{}-1'.format(Exp_Country), 'CPI_{}-1'.format(Imp_Country), \n",
    "             '{}-1'.format(Currency), 'GBP-1','World-1',\n",
    "\n",
    "# -2 Month Exporters Volumes \n",
    "            '{}_{}_{}-2'.format(Exp_Country,Imp_Country,Product),'{}_World_{}-2'.format(Exp_Country,Product), \n",
    "            '{}_{}_{}-2'.format(Exp_Country,IMP1,Product), '{}_{}_{}-2'.format(Exp_Country,IMP2,Product),\n",
    "            '{}_{}_{}-2'.format(Exp_Country,IMP3,Product), '{}_{}_{}-2'.format(Exp_Country,IMP4,Product), \n",
    "# -2 Month Importers Volumes                         \n",
    "             '{}_{}_{}-2'. format(EXP0,Imp_Country,Product), '{}_{}_{}-2'. format(EXP1,Imp_Country,Product), \n",
    "             '{}_{}_{}-2'. format(EXP2,Imp_Country,Product), '{}_{}_{}-2'. format(EXP3,Imp_Country,Product), \n",
    "# -2 Month Politic Uncertainity                         \n",
    "               \n",
    "             'EPU_{}-2'.format(Exp_Country),'EPU_{}-2'.format(Imp_Country), 'EPU_World-2', \n",
    "# -2 Month Economic Indices            \n",
    "             'BCI_{}-2'.format(Exp_Country), 'CCI_{}-2'.format(Exp_Country), 'CLI_{}-2'.format(Exp_Country),'GDP_{}-2'.format(Exp_Country), \n",
    "             'BCI_{}-2'.format(Imp_Country), 'CCI_{}-2'.format(Imp_Country), 'CLI_{}-2'.format(Imp_Country), 'GDP_{}-2'.format(Imp_Country),\n",
    "           #    'PPI_{}-2'.format(Exp_Country), 'PPI_{}-2'.format(Imp_Country), \n",
    "             'CPI_{}-2'.format(Exp_Country), 'CPI_{}-2'.format(Imp_Country), \n",
    "            '{}-2'.format(Currency), 'GBP-2','World-2',             \n",
    "             \n",
    "             'Date','Year','Month']\n",
    "        ]\n",
    "\n",
    "if Exp_Country=='TUR':\n",
    "    X12.drop('EPU_{}-1'.format(Exp_Country),axis=1,inplace=True, errors='ignore')\n",
    "    X12.drop('EPU_{}-2'.format(Exp_Country),axis=1,inplace=True, errors='ignore')\n",
    "print(X12.columns,X12.shape)\n"
   ]
  },
  {
   "cell_type": "code",
   "execution_count": 38,
   "metadata": {},
   "outputs": [
    {
     "name": "stdout",
     "output_type": "stream",
     "text": [
      "Index(['TUR_GBR_841810', 'TUR_GBR_841810-1', 'TUR_World_841810-1',\n",
      "       'TUR_FRA_841810-1', 'TUR_USA_841810-1', 'TUR_ITA_841810-1',\n",
      "       'TUR_DEU_841810-1', 'CHN_GBR_841810-1', 'POL_GBR_841810-1',\n",
      "       'KOR_GBR_841810-1', 'ITA_GBR_841810-1', 'EPU_GBR-1', 'EPU_World-1',\n",
      "       'BCI_TUR-1', 'CCI_TUR-1', 'CLI_TUR-1', 'GDP_TUR-1', 'BCI_GBR-1',\n",
      "       'CCI_GBR-1', 'CLI_GBR-1', 'GDP_GBR-1', 'CPI_TUR-1', 'CPI_GBR-1',\n",
      "       'TRY-1', 'GBP-1', 'World-1', 'TUR_GBR_841810-2', 'TUR_World_841810-2',\n",
      "       'TUR_FRA_841810-2', 'TUR_USA_841810-2', 'TUR_ITA_841810-2',\n",
      "       'TUR_DEU_841810-2', 'CHN_GBR_841810-2', 'POL_GBR_841810-2',\n",
      "       'KOR_GBR_841810-2', 'ITA_GBR_841810-2', 'EPU_GBR-2', 'EPU_World-2',\n",
      "       'BCI_TUR-2', 'CCI_TUR-2', 'CLI_TUR-2', 'GDP_TUR-2', 'BCI_GBR-2',\n",
      "       'CCI_GBR-2', 'CLI_GBR-2', 'GDP_GBR-2', 'CPI_TUR-2', 'CPI_GBR-2',\n",
      "       'TRY-2', 'GBP-2', 'World-2', 'TUR_GBR_841810-3', 'TUR_World_841810-3',\n",
      "       'TUR_FRA_841810-3', 'TUR_USA_841810-3', 'TUR_ITA_841810-3',\n",
      "       'TUR_DEU_841810-3', 'CHN_GBR_841810-3', 'POL_GBR_841810-3',\n",
      "       'KOR_GBR_841810-3', 'ITA_GBR_841810-3', 'EPU_TUR-3', 'EPU_GBR-3',\n",
      "       'EPU_World-3', 'BCI_TUR-3', 'CCI_TUR-3', 'CLI_TUR-3', 'GDP_TUR-3',\n",
      "       'BCI_GBR-3', 'CCI_GBR-3', 'CLI_GBR-3', 'GDP_GBR-3', 'CPI_TUR-3',\n",
      "       'CPI_GBR-3', 'TRY-3', 'GBP-3', 'World-3', 'Date', 'Year', 'Month'],\n",
      "      dtype='object') (152, 80)\n"
     ]
    },
    {
     "name": "stderr",
     "output_type": "stream",
     "text": [
      "C:\\Users\\murat.ozemre\\AppData\\Local\\Continuum\\Anaconda3\\envs\\Tensor\\lib\\site-packages\\ipykernel_launcher.py:57: SettingWithCopyWarning: \n",
      "A value is trying to be set on a copy of a slice from a DataFrame\n",
      "\n",
      "See the caveats in the documentation: http://pandas.pydata.org/pandas-docs/stable/indexing.html#indexing-view-versus-copy\n",
      "C:\\Users\\murat.ozemre\\AppData\\Local\\Continuum\\Anaconda3\\envs\\Tensor\\lib\\site-packages\\ipykernel_launcher.py:58: SettingWithCopyWarning: \n",
      "A value is trying to be set on a copy of a slice from a DataFrame\n",
      "\n",
      "See the caveats in the documentation: http://pandas.pydata.org/pandas-docs/stable/indexing.html#indexing-view-versus-copy\n",
      "C:\\Users\\murat.ozemre\\AppData\\Local\\Continuum\\Anaconda3\\envs\\Tensor\\lib\\site-packages\\ipykernel_launcher.py:59: SettingWithCopyWarning: \n",
      "A value is trying to be set on a copy of a slice from a DataFrame\n",
      "\n",
      "See the caveats in the documentation: http://pandas.pydata.org/pandas-docs/stable/indexing.html#indexing-view-versus-copy\n"
     ]
    }
   ],
   "source": [
    "X123=Data_All[\n",
    "    \n",
    "            ['{}_{}_{}'.format(Exp_Country,Imp_Country,Product),\n",
    "# -1 Month Exporters Volumes \n",
    "            '{}_{}_{}-1'.format(Exp_Country,Imp_Country,Product),'{}_World_{}-1'.format(Exp_Country,Product), \n",
    "            '{}_{}_{}-1'.format(Exp_Country,IMP1,Product), '{}_{}_{}-1'.format(Exp_Country,IMP2,Product),\n",
    "            '{}_{}_{}-1'.format(Exp_Country,IMP3,Product), '{}_{}_{}-1'.format(Exp_Country,IMP4,Product), \n",
    "# -1 Month Importers Volumes                         \n",
    "             '{}_{}_{}-1'. format(EXP0,Imp_Country,Product), '{}_{}_{}-1'. format(EXP1,Imp_Country,Product), \n",
    "             '{}_{}_{}-1'. format(EXP2,Imp_Country,Product), '{}_{}_{}-1'. format(EXP3,Imp_Country,Product), \n",
    "# -1 Month Politic Uncertainity                         \n",
    "               \n",
    "             'EPU_{}-1'.format(Exp_Country),'EPU_{}-1'.format(Imp_Country), 'EPU_World-1', \n",
    "# -1 Month Economic Indices            \n",
    "             'BCI_{}-1'.format(Exp_Country), 'CCI_{}-1'.format(Exp_Country), 'CLI_{}-1'.format(Exp_Country),'GDP_{}-1'.format(Exp_Country), \n",
    "             'BCI_{}-1'.format(Imp_Country), 'CCI_{}-1'.format(Imp_Country), 'CLI_{}-1'.format(Imp_Country), 'GDP_{}-1'.format(Imp_Country),\n",
    "           #    'PPI_{}-1'.format(Exp_Country), 'PPI_{}-1'.format(Imp_Country), \n",
    "             'CPI_{}-1'.format(Exp_Country), 'CPI_{}-1'.format(Imp_Country), \n",
    "             '{}-1'.format(Currency), 'GBP-1','World-1',\n",
    "\n",
    "# -2 Month Exporters Volumes \n",
    "            '{}_{}_{}-2'.format(Exp_Country,Imp_Country,Product),'{}_World_{}-2'.format(Exp_Country,Product), \n",
    "            '{}_{}_{}-2'.format(Exp_Country,IMP1,Product), '{}_{}_{}-2'.format(Exp_Country,IMP2,Product),\n",
    "            '{}_{}_{}-2'.format(Exp_Country,IMP3,Product), '{}_{}_{}-2'.format(Exp_Country,IMP4,Product), \n",
    "# -2 Month Importers Volumes                         \n",
    "             '{}_{}_{}-2'. format(EXP0,Imp_Country,Product), '{}_{}_{}-2'. format(EXP1,Imp_Country,Product), \n",
    "             '{}_{}_{}-2'. format(EXP2,Imp_Country,Product), '{}_{}_{}-2'. format(EXP3,Imp_Country,Product), \n",
    "# -2 Month Politic Uncertainity                         \n",
    "               \n",
    "             'EPU_{}-2'.format(Exp_Country),'EPU_{}-2'.format(Imp_Country), 'EPU_World-2', \n",
    "# -2 Month Economic Indices            \n",
    "             'BCI_{}-2'.format(Exp_Country), 'CCI_{}-2'.format(Exp_Country), 'CLI_{}-2'.format(Exp_Country),'GDP_{}-2'.format(Exp_Country), \n",
    "             'BCI_{}-2'.format(Imp_Country), 'CCI_{}-2'.format(Imp_Country), 'CLI_{}-2'.format(Imp_Country), 'GDP_{}-2'.format(Imp_Country),\n",
    "           #    'PPI_{}-2'.format(Exp_Country), 'PPI_{}-2'.format(Imp_Country), \n",
    "             'CPI_{}-2'.format(Exp_Country), 'CPI_{}-2'.format(Imp_Country), \n",
    "            '{}-2'.format(Currency), 'GBP-2','World-2',             \n",
    "# -3 Month Exporters Volumes \n",
    "            '{}_{}_{}-3'.format(Exp_Country,Imp_Country,Product),'{}_World_{}-3'.format(Exp_Country,Product), \n",
    "            '{}_{}_{}-3'.format(Exp_Country,IMP1,Product), '{}_{}_{}-3'.format(Exp_Country,IMP2,Product),\n",
    "            '{}_{}_{}-3'.format(Exp_Country,IMP3,Product), '{}_{}_{}-3'.format(Exp_Country,IMP4,Product), \n",
    "# -3 Month Importers Volumes                         \n",
    "             '{}_{}_{}-3'. format(EXP0,Imp_Country,Product), '{}_{}_{}-3'. format(EXP1,Imp_Country,Product), \n",
    "             '{}_{}_{}-3'. format(EXP2,Imp_Country,Product), '{}_{}_{}-3'. format(EXP3,Imp_Country,Product), \n",
    "# -3 Month Politic Uncertainity                         \n",
    "               \n",
    "             'EPU_{}-3'.format(Exp_Country),'EPU_{}-3'.format(Imp_Country), 'EPU_World-3', \n",
    "# -3 Month Economic Indices            \n",
    "             'BCI_{}-3'.format(Exp_Country), 'CCI_{}-3'.format(Exp_Country), 'CLI_{}-3'.format(Exp_Country),'GDP_{}-3'.format(Exp_Country), \n",
    "             'BCI_{}-3'.format(Imp_Country), 'CCI_{}-3'.format(Imp_Country), 'CLI_{}-3'.format(Imp_Country), 'GDP_{}-3'.format(Imp_Country),\n",
    "           #    'PPI_{}-3'.format(Exp_Country), 'PPI_{}-3'.format(Imp_Country), \n",
    "             'CPI_{}-3'.format(Exp_Country), 'CPI_{}-3'.format(Imp_Country), \n",
    "            '{}-3'.format(Currency), 'GBP-3','World-3',             \n",
    "             'Date','Year','Month']\n",
    "        ]\n",
    "\n",
    "if Exp_Country=='TUR':\n",
    "    X123.drop('EPU_{}-1'.format(Exp_Country),axis=1,inplace=True, errors='ignore')\n",
    "    X123.drop('EPU_{}-2'.format(Exp_Country),axis=1,inplace=True, errors='ignore')\n",
    "    X123.drop('EPU_{}-3'.format(Exp_Country),axis=1,inplace=True, errors='ignore')\n",
    "print(X123.columns,X123.shape)"
   ]
  },
  {
   "cell_type": "code",
   "execution_count": 40,
   "metadata": {},
   "outputs": [
    {
     "name": "stdout",
     "output_type": "stream",
     "text": [
      "Index(['TUR_GBR_841810', 'TUR_GBR_841810-1', 'TUR_World_841810-1',\n",
      "       'TUR_FRA_841810-1', 'TUR_USA_841810-1', 'TUR_ITA_841810-1',\n",
      "       'TUR_DEU_841810-1', 'CHN_GBR_841810-1', 'POL_GBR_841810-1',\n",
      "       'KOR_GBR_841810-1',\n",
      "       ...\n",
      "       'CLI_GBR-6', 'GDP_GBR-6', 'CPI_TUR-6', 'CPI_GBR-6', 'TRY-6', 'GBP-6',\n",
      "       'World-6', 'Date', 'Year', 'Month'],\n",
      "      dtype='object', length=104) (152, 104)\n"
     ]
    },
    {
     "name": "stderr",
     "output_type": "stream",
     "text": [
      "C:\\Users\\murat.ozemre\\AppData\\Local\\Continuum\\Anaconda3\\envs\\Tensor\\lib\\site-packages\\ipykernel_launcher.py:77: SettingWithCopyWarning: \n",
      "A value is trying to be set on a copy of a slice from a DataFrame\n",
      "\n",
      "See the caveats in the documentation: http://pandas.pydata.org/pandas-docs/stable/indexing.html#indexing-view-versus-copy\n",
      "C:\\Users\\murat.ozemre\\AppData\\Local\\Continuum\\Anaconda3\\envs\\Tensor\\lib\\site-packages\\ipykernel_launcher.py:78: SettingWithCopyWarning: \n",
      "A value is trying to be set on a copy of a slice from a DataFrame\n",
      "\n",
      "See the caveats in the documentation: http://pandas.pydata.org/pandas-docs/stable/indexing.html#indexing-view-versus-copy\n",
      "C:\\Users\\murat.ozemre\\AppData\\Local\\Continuum\\Anaconda3\\envs\\Tensor\\lib\\site-packages\\ipykernel_launcher.py:79: SettingWithCopyWarning: \n",
      "A value is trying to be set on a copy of a slice from a DataFrame\n",
      "\n",
      "See the caveats in the documentation: http://pandas.pydata.org/pandas-docs/stable/indexing.html#indexing-view-versus-copy\n",
      "C:\\Users\\murat.ozemre\\AppData\\Local\\Continuum\\Anaconda3\\envs\\Tensor\\lib\\site-packages\\ipykernel_launcher.py:80: SettingWithCopyWarning: \n",
      "A value is trying to be set on a copy of a slice from a DataFrame\n",
      "\n",
      "See the caveats in the documentation: http://pandas.pydata.org/pandas-docs/stable/indexing.html#indexing-view-versus-copy\n"
     ]
    }
   ],
   "source": [
    "X1236=Data_All[\n",
    "    \n",
    "            ['{}_{}_{}'.format(Exp_Country,Imp_Country,Product),\n",
    "# -1 Month Exporters Volumes \n",
    "            '{}_{}_{}-1'.format(Exp_Country,Imp_Country,Product),'{}_World_{}-1'.format(Exp_Country,Product), \n",
    "            '{}_{}_{}-1'.format(Exp_Country,IMP1,Product), '{}_{}_{}-1'.format(Exp_Country,IMP2,Product),\n",
    "            '{}_{}_{}-1'.format(Exp_Country,IMP3,Product), '{}_{}_{}-1'.format(Exp_Country,IMP4,Product), \n",
    "# -1 Month Importers Volumes                         \n",
    "             '{}_{}_{}-1'. format(EXP0,Imp_Country,Product), '{}_{}_{}-1'. format(EXP1,Imp_Country,Product), \n",
    "             '{}_{}_{}-1'. format(EXP2,Imp_Country,Product), '{}_{}_{}-1'. format(EXP3,Imp_Country,Product), \n",
    "# -1 Month Politic Uncertainity                         \n",
    "               \n",
    "             'EPU_{}-1'.format(Exp_Country),'EPU_{}-1'.format(Imp_Country), 'EPU_World-1', \n",
    "# -1 Month Economic Indices            \n",
    "             'BCI_{}-1'.format(Exp_Country), 'CCI_{}-1'.format(Exp_Country), 'CLI_{}-1'.format(Exp_Country),'GDP_{}-1'.format(Exp_Country), \n",
    "             'BCI_{}-1'.format(Imp_Country), 'CCI_{}-1'.format(Imp_Country), 'CLI_{}-1'.format(Imp_Country), 'GDP_{}-1'.format(Imp_Country),\n",
    "           #    'PPI_{}-1'.format(Exp_Country), 'PPI_{}-1'.format(Imp_Country), \n",
    "             'CPI_{}-1'.format(Exp_Country), 'CPI_{}-1'.format(Imp_Country), \n",
    "             '{}-1'.format(Currency), 'GBP-1','World-1',\n",
    "\n",
    "# -2 Month Exporters Volumes \n",
    "            '{}_{}_{}-2'.format(Exp_Country,Imp_Country,Product),'{}_World_{}-2'.format(Exp_Country,Product), \n",
    "            '{}_{}_{}-2'.format(Exp_Country,IMP1,Product), '{}_{}_{}-2'.format(Exp_Country,IMP2,Product),\n",
    "            '{}_{}_{}-2'.format(Exp_Country,IMP3,Product), '{}_{}_{}-2'.format(Exp_Country,IMP4,Product), \n",
    "# -2 Month Importers Volumes                         \n",
    "             '{}_{}_{}-2'. format(EXP0,Imp_Country,Product), '{}_{}_{}-2'. format(EXP1,Imp_Country,Product), \n",
    "             '{}_{}_{}-2'. format(EXP2,Imp_Country,Product), '{}_{}_{}-2'. format(EXP3,Imp_Country,Product), \n",
    "# -2 Month Politic Uncertainity                         \n",
    "               \n",
    "             'EPU_{}-2'.format(Exp_Country),'EPU_{}-2'.format(Imp_Country), 'EPU_World-2', \n",
    "# -2 Month Economic Indices            \n",
    "             'BCI_{}-2'.format(Exp_Country), 'CCI_{}-2'.format(Exp_Country), 'CLI_{}-2'.format(Exp_Country),'GDP_{}-2'.format(Exp_Country), \n",
    "             'BCI_{}-2'.format(Imp_Country), 'CCI_{}-2'.format(Imp_Country), 'CLI_{}-2'.format(Imp_Country), 'GDP_{}-2'.format(Imp_Country),\n",
    "           #    'PPI_{}-2'.format(Exp_Country), 'PPI_{}-2'.format(Imp_Country), \n",
    "             'CPI_{}-2'.format(Exp_Country), 'CPI_{}-2'.format(Imp_Country), \n",
    "            '{}-2'.format(Currency), 'GBP-2','World-2',             \n",
    "# -3 Month Exporters Volumes \n",
    "            '{}_{}_{}-3'.format(Exp_Country,Imp_Country,Product),'{}_World_{}-3'.format(Exp_Country,Product), \n",
    "            '{}_{}_{}-3'.format(Exp_Country,IMP1,Product), '{}_{}_{}-3'.format(Exp_Country,IMP2,Product),\n",
    "            '{}_{}_{}-3'.format(Exp_Country,IMP3,Product), '{}_{}_{}-3'.format(Exp_Country,IMP4,Product), \n",
    "# -3 Month Importers Volumes                         \n",
    "             '{}_{}_{}-3'. format(EXP0,Imp_Country,Product), '{}_{}_{}-3'. format(EXP1,Imp_Country,Product), \n",
    "             '{}_{}_{}-3'. format(EXP2,Imp_Country,Product), '{}_{}_{}-3'. format(EXP3,Imp_Country,Product), \n",
    "# -3 Month Politic Uncertainity                         \n",
    "               \n",
    "             'EPU_{}-3'.format(Exp_Country),'EPU_{}-3'.format(Imp_Country), 'EPU_World-3', \n",
    "# -3 Month Economic Indices            \n",
    "             'BCI_{}-3'.format(Exp_Country), 'CCI_{}-3'.format(Exp_Country), 'CLI_{}-3'.format(Exp_Country),'GDP_{}-3'.format(Exp_Country), \n",
    "             'BCI_{}-3'.format(Imp_Country), 'CCI_{}-3'.format(Imp_Country), 'CLI_{}-3'.format(Imp_Country), 'GDP_{}-3'.format(Imp_Country),\n",
    "           #    'PPI_{}-3'.format(Exp_Country), 'PPI_{}-3'.format(Imp_Country), \n",
    "             'CPI_{}-3'.format(Exp_Country), 'CPI_{}-3'.format(Imp_Country), \n",
    "            '{}-3'.format(Currency), 'GBP-3','World-3',             \n",
    "             \n",
    "\n",
    "# -6 Month Exporters Volumes \n",
    "            '{}_{}_{}-6'.format(Exp_Country,Imp_Country,Product),'{}_World_{}-6'.format(Exp_Country,Product), \n",
    "            '{}_{}_{}-6'.format(Exp_Country,IMP1,Product), '{}_{}_{}-6'.format(Exp_Country,IMP2,Product),\n",
    "            '{}_{}_{}-6'.format(Exp_Country,IMP3,Product), '{}_{}_{}-6'.format(Exp_Country,IMP4,Product), \n",
    "# -6 Month Importers Volumes                         \n",
    "             '{}_{}_{}-6'. format(EXP0,Imp_Country,Product), '{}_{}_{}-6'. format(EXP1,Imp_Country,Product), \n",
    "             '{}_{}_{}-6'. format(EXP2,Imp_Country,Product), '{}_{}_{}-6'. format(EXP3,Imp_Country,Product), \n",
    "# -6 Month Politic Uncertainity                         \n",
    "               \n",
    "             'EPU_{}-6'.format(Exp_Country),'EPU_{}-6'.format(Imp_Country), 'EPU_World-6', \n",
    "# -6 Month Economic Indices            \n",
    "             'BCI_{}-6'.format(Exp_Country), 'CCI_{}-6'.format(Exp_Country), 'CLI_{}-6'.format(Exp_Country),'GDP_{}-6'.format(Exp_Country), \n",
    "             'BCI_{}-6'.format(Imp_Country), 'CCI_{}-6'.format(Imp_Country), 'CLI_{}-6'.format(Imp_Country), 'GDP_{}-6'.format(Imp_Country),\n",
    "           #    'PPI_{}-6'.format(Exp_Country), 'PPI_{}-6'.format(Imp_Country), \n",
    "             'CPI_{}-6'.format(Exp_Country), 'CPI_{}-6'.format(Imp_Country), \n",
    "            '{}-6'.format(Currency), 'GBP-6','World-6',\n",
    "               'Date','Year','Month']\n",
    "]\n",
    "\n",
    "if Exp_Country=='TUR':\n",
    "    X1236.drop('EPU_{}-1'.format(Exp_Country),axis=1,inplace=True, errors='ignore')\n",
    "    X1236.drop('EPU_{}-2'.format(Exp_Country),axis=1,inplace=True, errors='ignore')\n",
    "    X1236.drop('EPU_{}-3'.format(Exp_Country),axis=1,inplace=True, errors='ignore')\n",
    "    X1236.drop('EPU_{}-6'.format(Exp_Country),axis=1,inplace=True, errors='ignore')\n",
    "print(X1236.columns,X1236.shape)"
   ]
  },
  {
   "cell_type": "code",
   "execution_count": 41,
   "metadata": {},
   "outputs": [
    {
     "name": "stdout",
     "output_type": "stream",
     "text": [
      "Index(['TUR_GBR_841810', 'TUR_GBR_841810-1', 'TUR_World_841810-1',\n",
      "       'TUR_FRA_841810-1', 'TUR_USA_841810-1', 'TUR_ITA_841810-1',\n",
      "       'TUR_DEU_841810-1', 'CHN_GBR_841810-1', 'POL_GBR_841810-1',\n",
      "       'KOR_GBR_841810-1',\n",
      "       ...\n",
      "       'CLI_GBR-12', 'GDP_GBR-12', 'CPI_TUR-12', 'CPI_GBR-12', 'TRY-12',\n",
      "       'GBP-12', 'World-12', 'Date', 'Year', 'Month'],\n",
      "      dtype='object', length=129) (152, 104)\n"
     ]
    },
    {
     "name": "stderr",
     "output_type": "stream",
     "text": [
      "C:\\Users\\murat.ozemre\\AppData\\Local\\Continuum\\Anaconda3\\envs\\Tensor\\lib\\site-packages\\ipykernel_launcher.py:93: SettingWithCopyWarning: \n",
      "A value is trying to be set on a copy of a slice from a DataFrame\n",
      "\n",
      "See the caveats in the documentation: http://pandas.pydata.org/pandas-docs/stable/indexing.html#indexing-view-versus-copy\n",
      "C:\\Users\\murat.ozemre\\AppData\\Local\\Continuum\\Anaconda3\\envs\\Tensor\\lib\\site-packages\\ipykernel_launcher.py:94: SettingWithCopyWarning: \n",
      "A value is trying to be set on a copy of a slice from a DataFrame\n",
      "\n",
      "See the caveats in the documentation: http://pandas.pydata.org/pandas-docs/stable/indexing.html#indexing-view-versus-copy\n",
      "C:\\Users\\murat.ozemre\\AppData\\Local\\Continuum\\Anaconda3\\envs\\Tensor\\lib\\site-packages\\ipykernel_launcher.py:95: SettingWithCopyWarning: \n",
      "A value is trying to be set on a copy of a slice from a DataFrame\n",
      "\n",
      "See the caveats in the documentation: http://pandas.pydata.org/pandas-docs/stable/indexing.html#indexing-view-versus-copy\n",
      "C:\\Users\\murat.ozemre\\AppData\\Local\\Continuum\\Anaconda3\\envs\\Tensor\\lib\\site-packages\\ipykernel_launcher.py:96: SettingWithCopyWarning: \n",
      "A value is trying to be set on a copy of a slice from a DataFrame\n",
      "\n",
      "See the caveats in the documentation: http://pandas.pydata.org/pandas-docs/stable/indexing.html#indexing-view-versus-copy\n",
      "C:\\Users\\murat.ozemre\\AppData\\Local\\Continuum\\Anaconda3\\envs\\Tensor\\lib\\site-packages\\ipykernel_launcher.py:97: SettingWithCopyWarning: \n",
      "A value is trying to be set on a copy of a slice from a DataFrame\n",
      "\n",
      "See the caveats in the documentation: http://pandas.pydata.org/pandas-docs/stable/indexing.html#indexing-view-versus-copy\n"
     ]
    }
   ],
   "source": [
    "X1236_12=Data_All[\n",
    "    \n",
    "            ['{}_{}_{}'.format(Exp_Country,Imp_Country,Product),\n",
    "# -1 Month Exporters Volumes \n",
    "            '{}_{}_{}-1'.format(Exp_Country,Imp_Country,Product),'{}_World_{}-1'.format(Exp_Country,Product), \n",
    "            '{}_{}_{}-1'.format(Exp_Country,IMP1,Product), '{}_{}_{}-1'.format(Exp_Country,IMP2,Product),\n",
    "            '{}_{}_{}-1'.format(Exp_Country,IMP3,Product), '{}_{}_{}-1'.format(Exp_Country,IMP4,Product), \n",
    "# -1 Month Importers Volumes                         \n",
    "             '{}_{}_{}-1'. format(EXP0,Imp_Country,Product), '{}_{}_{}-1'. format(EXP1,Imp_Country,Product), \n",
    "             '{}_{}_{}-1'. format(EXP2,Imp_Country,Product), '{}_{}_{}-1'. format(EXP3,Imp_Country,Product), \n",
    "# -1 Month Politic Uncertainity                         \n",
    "               \n",
    "             'EPU_{}-1'.format(Exp_Country),'EPU_{}-1'.format(Imp_Country), 'EPU_World-1', \n",
    "# -1 Month Economic Indices            \n",
    "             'BCI_{}-1'.format(Exp_Country), 'CCI_{}-1'.format(Exp_Country), 'CLI_{}-1'.format(Exp_Country),'GDP_{}-1'.format(Exp_Country), \n",
    "             'BCI_{}-1'.format(Imp_Country), 'CCI_{}-1'.format(Imp_Country), 'CLI_{}-1'.format(Imp_Country), 'GDP_{}-1'.format(Imp_Country),\n",
    "           #    'PPI_{}-1'.format(Exp_Country), 'PPI_{}-1'.format(Imp_Country), \n",
    "             'CPI_{}-1'.format(Exp_Country), 'CPI_{}-1'.format(Imp_Country), \n",
    "             '{}-1'.format(Currency), 'GBP-1','World-1',\n",
    "\n",
    "# -2 Month Exporters Volumes \n",
    "            '{}_{}_{}-2'.format(Exp_Country,Imp_Country,Product),'{}_World_{}-2'.format(Exp_Country,Product), \n",
    "            '{}_{}_{}-2'.format(Exp_Country,IMP1,Product), '{}_{}_{}-2'.format(Exp_Country,IMP2,Product),\n",
    "            '{}_{}_{}-2'.format(Exp_Country,IMP3,Product), '{}_{}_{}-2'.format(Exp_Country,IMP4,Product), \n",
    "# -2 Month Importers Volumes                         \n",
    "             '{}_{}_{}-2'. format(EXP0,Imp_Country,Product), '{}_{}_{}-2'. format(EXP1,Imp_Country,Product), \n",
    "             '{}_{}_{}-2'. format(EXP2,Imp_Country,Product), '{}_{}_{}-2'. format(EXP3,Imp_Country,Product), \n",
    "# -2 Month Politic Uncertainity                         \n",
    "               \n",
    "             'EPU_{}-2'.format(Exp_Country),'EPU_{}-2'.format(Imp_Country), 'EPU_World-2', \n",
    "# -2 Month Economic Indices            \n",
    "             'BCI_{}-2'.format(Exp_Country), 'CCI_{}-2'.format(Exp_Country), 'CLI_{}-2'.format(Exp_Country),'GDP_{}-2'.format(Exp_Country), \n",
    "             'BCI_{}-2'.format(Imp_Country), 'CCI_{}-2'.format(Imp_Country), 'CLI_{}-2'.format(Imp_Country), 'GDP_{}-2'.format(Imp_Country),\n",
    "           #    'PPI_{}-2'.format(Exp_Country), 'PPI_{}-2'.format(Imp_Country), \n",
    "             'CPI_{}-2'.format(Exp_Country), 'CPI_{}-2'.format(Imp_Country), \n",
    "            '{}-2'.format(Currency), 'GBP-2','World-2',             \n",
    "# -3 Month Exporters Volumes \n",
    "            '{}_{}_{}-3'.format(Exp_Country,Imp_Country,Product),'{}_World_{}-3'.format(Exp_Country,Product), \n",
    "            '{}_{}_{}-3'.format(Exp_Country,IMP1,Product), '{}_{}_{}-3'.format(Exp_Country,IMP2,Product),\n",
    "            '{}_{}_{}-3'.format(Exp_Country,IMP3,Product), '{}_{}_{}-3'.format(Exp_Country,IMP4,Product), \n",
    "# -3 Month Importers Volumes                         \n",
    "             '{}_{}_{}-3'. format(EXP0,Imp_Country,Product), '{}_{}_{}-3'. format(EXP1,Imp_Country,Product), \n",
    "             '{}_{}_{}-3'. format(EXP2,Imp_Country,Product), '{}_{}_{}-3'. format(EXP3,Imp_Country,Product), \n",
    "# -3 Month Politic Uncertainity                         \n",
    "               \n",
    "             'EPU_{}-3'.format(Exp_Country),'EPU_{}-3'.format(Imp_Country), 'EPU_World-3', \n",
    "# -3 Month Economic Indices            \n",
    "             'BCI_{}-3'.format(Exp_Country), 'CCI_{}-3'.format(Exp_Country), 'CLI_{}-3'.format(Exp_Country),'GDP_{}-3'.format(Exp_Country), \n",
    "             'BCI_{}-3'.format(Imp_Country), 'CCI_{}-3'.format(Imp_Country), 'CLI_{}-3'.format(Imp_Country), 'GDP_{}-3'.format(Imp_Country),\n",
    "           #    'PPI_{}-3'.format(Exp_Country), 'PPI_{}-3'.format(Imp_Country), \n",
    "             'CPI_{}-3'.format(Exp_Country), 'CPI_{}-3'.format(Imp_Country), \n",
    "            '{}-3'.format(Currency), 'GBP-3','World-3',             \n",
    "             \n",
    "\n",
    "# -6 Month Exporters Volumes \n",
    "            '{}_{}_{}-6'.format(Exp_Country,Imp_Country,Product),'{}_World_{}-6'.format(Exp_Country,Product), \n",
    "            '{}_{}_{}-6'.format(Exp_Country,IMP1,Product), '{}_{}_{}-6'.format(Exp_Country,IMP2,Product),\n",
    "            '{}_{}_{}-6'.format(Exp_Country,IMP3,Product), '{}_{}_{}-6'.format(Exp_Country,IMP4,Product), \n",
    "# -6 Month Importers Volumes                         \n",
    "             '{}_{}_{}-6'. format(EXP0,Imp_Country,Product), '{}_{}_{}-6'. format(EXP1,Imp_Country,Product), \n",
    "             '{}_{}_{}-6'. format(EXP2,Imp_Country,Product), '{}_{}_{}-6'. format(EXP3,Imp_Country,Product), \n",
    "# -6 Month Politic Uncertainity                         \n",
    "               \n",
    "             'EPU_{}-6'.format(Exp_Country),'EPU_{}-6'.format(Imp_Country), 'EPU_World-6', \n",
    "# -6 Month Economic Indices            \n",
    "             'BCI_{}-6'.format(Exp_Country), 'CCI_{}-6'.format(Exp_Country), 'CLI_{}-6'.format(Exp_Country),'GDP_{}-6'.format(Exp_Country), \n",
    "             'BCI_{}-6'.format(Imp_Country), 'CCI_{}-6'.format(Imp_Country), 'CLI_{}-6'.format(Imp_Country), 'GDP_{}-6'.format(Imp_Country),\n",
    "           #    'PPI_{}-6'.format(Exp_Country), 'PPI_{}-6'.format(Imp_Country), \n",
    "             'CPI_{}-6'.format(Exp_Country), 'CPI_{}-6'.format(Imp_Country), \n",
    "            '{}-6'.format(Currency), 'GBP-6','World-6',\n",
    "             \n",
    "# -12 Month Exporters Volumes \n",
    "            '{}_{}_{}-12'.format(Exp_Country,Imp_Country,Product),'{}_World_{}-12'.format(Exp_Country,Product), \n",
    "            '{}_{}_{}-12'.format(Exp_Country,IMP1,Product), '{}_{}_{}-12'.format(Exp_Country,IMP2,Product),\n",
    "            '{}_{}_{}-12'.format(Exp_Country,IMP3,Product), '{}_{}_{}-12'.format(Exp_Country,IMP4,Product), \n",
    "# -12 Month Importers Volumes                         \n",
    "             '{}_{}_{}-12'. format(EXP0,Imp_Country,Product), '{}_{}_{}-12'. format(EXP1,Imp_Country,Product), \n",
    "             '{}_{}_{}-12'. format(EXP2,Imp_Country,Product), '{}_{}_{}-12'. format(EXP3,Imp_Country,Product), \n",
    "# -12 Month Politic Uncertainity                         \n",
    "               \n",
    "             'EPU_{}-12'.format(Exp_Country),'EPU_{}-12'.format(Imp_Country), 'EPU_World-12', \n",
    "# -12 Month Economic Indices            \n",
    "             'BCI_{}-12'.format(Exp_Country), 'CCI_{}-12'.format(Exp_Country), 'CLI_{}-12'.format(Exp_Country),'GDP_{}-12'.format(Exp_Country), \n",
    "             'BCI_{}-12'.format(Imp_Country), 'CCI_{}-12'.format(Imp_Country), 'CLI_{}-12'.format(Imp_Country), 'GDP_{}-12'.format(Imp_Country),\n",
    "           #    'PPI_{}-12'.format(Exp_Country), 'PPI_{}-12'.format(Imp_Country), \n",
    "             'CPI_{}-12'.format(Exp_Country), 'CPI_{}-12'.format(Imp_Country), \n",
    "            '{}-12'.format(Currency), 'GBP-12','World-12',             \n",
    "             \n",
    "               'Date','Year','Month']\n",
    "]\n",
    "\n",
    "if Exp_Country=='TUR':\n",
    "    X1236_12.drop('EPU_{}-1'.format(Exp_Country),axis=1,inplace=True, errors='ignore')\n",
    "    X1236_12.drop('EPU_{}-2'.format(Exp_Country),axis=1,inplace=True, errors='ignore')\n",
    "    X1236_12.drop('EPU_{}-3'.format(Exp_Country),axis=1,inplace=True, errors='ignore')\n",
    "    X1236_12.drop('EPU_{}-6'.format(Exp_Country),axis=1,inplace=True, errors='ignore')\n",
    "    X1236_12.drop('EPU_{}-12'.format(Exp_Country),axis=1,inplace=True, errors='ignore')\n",
    "print(X1236_12.columns,X1236.shape)"
   ]
  },
  {
   "cell_type": "code",
   "execution_count": 42,
   "metadata": {},
   "outputs": [
    {
     "ename": "KeyError",
     "evalue": "\"['TUR_GBR_841810-hat' 'TUR_World_841810-hat' 'TUR_FRA_841810-hat'\\n 'TUR_USA_841810-hat' 'TUR_ITA_841810-hat' 'TUR_DEU_841810-hat'\\n 'CHN_GBR_841810-hat' 'POL_GBR_841810-hat' 'KOR_GBR_841810-hat'\\n 'ITA_GBR_841810-hat' 'EPU_TUR-hat' 'EPU_GBR-hat' 'EPU_World-hat'\\n 'BCI_TUR-hat' 'CCI_TUR-hat' 'CLI_TUR-hat' 'GDP_TUR-hat' 'BCI_GBR-hat'\\n 'CCI_GBR-hat' 'CLI_GBR-hat' 'GDP_GBR-hat' 'CPI_TUR-hat' 'CPI_GBR-hat'\\n 'TRY-hat' 'GBP-hat' 'World-hat'] not in index\"",
     "output_type": "error",
     "traceback": [
      "\u001b[1;31m---------------------------------------------------------------------------\u001b[0m",
      "\u001b[1;31mKeyError\u001b[0m                                  Traceback (most recent call last)",
      "\u001b[1;32m<ipython-input-42-1062d1d84a15>\u001b[0m in \u001b[0;36m<module>\u001b[1;34m()\u001b[0m\n\u001b[0;32m     21\u001b[0m \u001b[1;33m\u001b[0m\u001b[0m\n\u001b[0;32m     22\u001b[0m \u001b[1;33m\u001b[0m\u001b[0m\n\u001b[1;32m---> 23\u001b[1;33m                'Date','Year','Month']\n\u001b[0m\u001b[0;32m     24\u001b[0m ]\n\u001b[0;32m     25\u001b[0m \u001b[1;33m\u001b[0m\u001b[0m\n",
      "\u001b[1;32mC:\\Users\\murat.ozemre\\AppData\\Local\\Continuum\\Anaconda3\\envs\\Tensor\\lib\\site-packages\\pandas\\core\\frame.py\u001b[0m in \u001b[0;36m__getitem__\u001b[1;34m(self, key)\u001b[0m\n\u001b[0;32m   2054\u001b[0m         \u001b[1;32mif\u001b[0m \u001b[0misinstance\u001b[0m\u001b[1;33m(\u001b[0m\u001b[0mkey\u001b[0m\u001b[1;33m,\u001b[0m \u001b[1;33m(\u001b[0m\u001b[0mSeries\u001b[0m\u001b[1;33m,\u001b[0m \u001b[0mnp\u001b[0m\u001b[1;33m.\u001b[0m\u001b[0mndarray\u001b[0m\u001b[1;33m,\u001b[0m \u001b[0mIndex\u001b[0m\u001b[1;33m,\u001b[0m \u001b[0mlist\u001b[0m\u001b[1;33m)\u001b[0m\u001b[1;33m)\u001b[0m\u001b[1;33m:\u001b[0m\u001b[1;33m\u001b[0m\u001b[0m\n\u001b[0;32m   2055\u001b[0m             \u001b[1;31m# either boolean or fancy integer index\u001b[0m\u001b[1;33m\u001b[0m\u001b[1;33m\u001b[0m\u001b[0m\n\u001b[1;32m-> 2056\u001b[1;33m             \u001b[1;32mreturn\u001b[0m \u001b[0mself\u001b[0m\u001b[1;33m.\u001b[0m\u001b[0m_getitem_array\u001b[0m\u001b[1;33m(\u001b[0m\u001b[0mkey\u001b[0m\u001b[1;33m)\u001b[0m\u001b[1;33m\u001b[0m\u001b[0m\n\u001b[0m\u001b[0;32m   2057\u001b[0m         \u001b[1;32melif\u001b[0m \u001b[0misinstance\u001b[0m\u001b[1;33m(\u001b[0m\u001b[0mkey\u001b[0m\u001b[1;33m,\u001b[0m \u001b[0mDataFrame\u001b[0m\u001b[1;33m)\u001b[0m\u001b[1;33m:\u001b[0m\u001b[1;33m\u001b[0m\u001b[0m\n\u001b[0;32m   2058\u001b[0m             \u001b[1;32mreturn\u001b[0m \u001b[0mself\u001b[0m\u001b[1;33m.\u001b[0m\u001b[0m_getitem_frame\u001b[0m\u001b[1;33m(\u001b[0m\u001b[0mkey\u001b[0m\u001b[1;33m)\u001b[0m\u001b[1;33m\u001b[0m\u001b[0m\n",
      "\u001b[1;32mC:\\Users\\murat.ozemre\\AppData\\Local\\Continuum\\Anaconda3\\envs\\Tensor\\lib\\site-packages\\pandas\\core\\frame.py\u001b[0m in \u001b[0;36m_getitem_array\u001b[1;34m(self, key)\u001b[0m\n\u001b[0;32m   2098\u001b[0m             \u001b[1;32mreturn\u001b[0m \u001b[0mself\u001b[0m\u001b[1;33m.\u001b[0m\u001b[0mtake\u001b[0m\u001b[1;33m(\u001b[0m\u001b[0mindexer\u001b[0m\u001b[1;33m,\u001b[0m \u001b[0maxis\u001b[0m\u001b[1;33m=\u001b[0m\u001b[1;36m0\u001b[0m\u001b[1;33m,\u001b[0m \u001b[0mconvert\u001b[0m\u001b[1;33m=\u001b[0m\u001b[1;32mFalse\u001b[0m\u001b[1;33m)\u001b[0m\u001b[1;33m\u001b[0m\u001b[0m\n\u001b[0;32m   2099\u001b[0m         \u001b[1;32melse\u001b[0m\u001b[1;33m:\u001b[0m\u001b[1;33m\u001b[0m\u001b[0m\n\u001b[1;32m-> 2100\u001b[1;33m             \u001b[0mindexer\u001b[0m \u001b[1;33m=\u001b[0m \u001b[0mself\u001b[0m\u001b[1;33m.\u001b[0m\u001b[0mloc\u001b[0m\u001b[1;33m.\u001b[0m\u001b[0m_convert_to_indexer\u001b[0m\u001b[1;33m(\u001b[0m\u001b[0mkey\u001b[0m\u001b[1;33m,\u001b[0m \u001b[0maxis\u001b[0m\u001b[1;33m=\u001b[0m\u001b[1;36m1\u001b[0m\u001b[1;33m)\u001b[0m\u001b[1;33m\u001b[0m\u001b[0m\n\u001b[0m\u001b[0;32m   2101\u001b[0m             \u001b[1;32mreturn\u001b[0m \u001b[0mself\u001b[0m\u001b[1;33m.\u001b[0m\u001b[0mtake\u001b[0m\u001b[1;33m(\u001b[0m\u001b[0mindexer\u001b[0m\u001b[1;33m,\u001b[0m \u001b[0maxis\u001b[0m\u001b[1;33m=\u001b[0m\u001b[1;36m1\u001b[0m\u001b[1;33m,\u001b[0m \u001b[0mconvert\u001b[0m\u001b[1;33m=\u001b[0m\u001b[1;32mTrue\u001b[0m\u001b[1;33m)\u001b[0m\u001b[1;33m\u001b[0m\u001b[0m\n\u001b[0;32m   2102\u001b[0m \u001b[1;33m\u001b[0m\u001b[0m\n",
      "\u001b[1;32mC:\\Users\\murat.ozemre\\AppData\\Local\\Continuum\\Anaconda3\\envs\\Tensor\\lib\\site-packages\\pandas\\core\\indexing.py\u001b[0m in \u001b[0;36m_convert_to_indexer\u001b[1;34m(self, obj, axis, is_setter)\u001b[0m\n\u001b[0;32m   1229\u001b[0m                 \u001b[0mmask\u001b[0m \u001b[1;33m=\u001b[0m \u001b[0mcheck\u001b[0m \u001b[1;33m==\u001b[0m \u001b[1;33m-\u001b[0m\u001b[1;36m1\u001b[0m\u001b[1;33m\u001b[0m\u001b[0m\n\u001b[0;32m   1230\u001b[0m                 \u001b[1;32mif\u001b[0m \u001b[0mmask\u001b[0m\u001b[1;33m.\u001b[0m\u001b[0many\u001b[0m\u001b[1;33m(\u001b[0m\u001b[1;33m)\u001b[0m\u001b[1;33m:\u001b[0m\u001b[1;33m\u001b[0m\u001b[0m\n\u001b[1;32m-> 1231\u001b[1;33m                     \u001b[1;32mraise\u001b[0m \u001b[0mKeyError\u001b[0m\u001b[1;33m(\u001b[0m\u001b[1;34m'%s not in index'\u001b[0m \u001b[1;33m%\u001b[0m \u001b[0mobjarr\u001b[0m\u001b[1;33m[\u001b[0m\u001b[0mmask\u001b[0m\u001b[1;33m]\u001b[0m\u001b[1;33m)\u001b[0m\u001b[1;33m\u001b[0m\u001b[0m\n\u001b[0m\u001b[0;32m   1232\u001b[0m \u001b[1;33m\u001b[0m\u001b[0m\n\u001b[0;32m   1233\u001b[0m                 \u001b[1;32mreturn\u001b[0m \u001b[0m_values_from_object\u001b[0m\u001b[1;33m(\u001b[0m\u001b[0mindexer\u001b[0m\u001b[1;33m)\u001b[0m\u001b[1;33m\u001b[0m\u001b[0m\n",
      "\u001b[1;31mKeyError\u001b[0m: \"['TUR_GBR_841810-hat' 'TUR_World_841810-hat' 'TUR_FRA_841810-hat'\\n 'TUR_USA_841810-hat' 'TUR_ITA_841810-hat' 'TUR_DEU_841810-hat'\\n 'CHN_GBR_841810-hat' 'POL_GBR_841810-hat' 'KOR_GBR_841810-hat'\\n 'ITA_GBR_841810-hat' 'EPU_TUR-hat' 'EPU_GBR-hat' 'EPU_World-hat'\\n 'BCI_TUR-hat' 'CCI_TUR-hat' 'CLI_TUR-hat' 'GDP_TUR-hat' 'BCI_GBR-hat'\\n 'CCI_GBR-hat' 'CLI_GBR-hat' 'GDP_GBR-hat' 'CPI_TUR-hat' 'CPI_GBR-hat'\\n 'TRY-hat' 'GBP-hat' 'World-hat'] not in index\""
     ]
    }
   ],
   "source": [
    "X_hat=Data_All[\n",
    "    \n",
    "            ['{}_{}_{}'.format(Exp_Country,Imp_Country,Product),\n",
    "\n",
    "# -hat Exporters Volumes \n",
    "            '{}_{}_{}-hat'.format(Exp_Country,Imp_Country,Product),'{}_World_{}-hat'.format(Exp_Country,Product), \n",
    "            '{}_{}_{}-hat'.format(Exp_Country,IMP1,Product), '{}_{}_{}-hat'.format(Exp_Country,IMP2,Product),\n",
    "            '{}_{}_{}-hat'.format(Exp_Country,IMP3,Product), '{}_{}_{}-hat'.format(Exp_Country,IMP4,Product), \n",
    "# -hat  Importers Volumes                         \n",
    "             '{}_{}_{}-hat'. format(EXP0,Imp_Country,Product), '{}_{}_{}-hat'. format(EXP1,Imp_Country,Product), \n",
    "             '{}_{}_{}-hat'. format(EXP2,Imp_Country,Product), '{}_{}_{}-hat'. format(EXP3,Imp_Country,Product), \n",
    "# -hat Politic Uncertainity                         \n",
    "               \n",
    "             'EPU_{}-hat'.format(Exp_Country),'EPU_{}-hat'.format(Imp_Country), 'EPU_World-hat', \n",
    "# -hat  Economic Indices            \n",
    "             'BCI_{}-hat'.format(Exp_Country), 'CCI_{}-hat'.format(Exp_Country), 'CLI_{}-hat'.format(Exp_Country),'GDP_{}-hat'.format(Exp_Country), \n",
    "             'BCI_{}-hat'.format(Imp_Country), 'CCI_{}-hat'.format(Imp_Country), 'CLI_{}-hat'.format(Imp_Country), 'GDP_{}-hat'.format(Imp_Country),\n",
    "           #    'PPI_{}-hat'.format(Exp_Country), 'PPI_{}-hat'.format(Imp_Country), \n",
    "             'CPI_{}-hat'.format(Exp_Country), 'CPI_{}-hat'.format(Imp_Country), \n",
    "            '{}-hat'.format(Currency), 'GBP-hat','World-hat',\n",
    "              \n",
    "             \n",
    "               'Date','Year','Month']\n",
    "]\n",
    "\n",
    "if Exp_Country=='TUR':\n",
    "    X_hat.drop('EPU_{}-hat'.format(Exp_Country),axis=1,inplace=True, errors='ignore')\n",
    "    \n",
    "print(X_hat.columns,X_hat.shape)"
   ]
  },
  {
   "cell_type": "code",
   "execution_count": null,
   "metadata": {
    "collapsed": true
   },
   "outputs": [],
   "source": [
    "writer = pd.ExcelWriter('Data_All_{}_{}_{}.xlsx'.format(Exp_Country,Imp_Country,Product))\n",
    "Data_All.to_excel(writer,'Data_All',index = False,)\n",
    "X1.to_excel(writer,'X1',index = False,)\n",
    "X12.to_excel(writer,'X12',index = False,)\n",
    "X123.to_excel(writer,'X123',index = False,)\n",
    "X1236.to_excel(writer,'X1236',index = False,)\n",
    "X1236_12.to_excel(writer,'X1236_12',index = False,)\n",
    "X_hat.to_excel(writer,'X_hat',index = False,)\n",
    "writer.save()\n"
   ]
  },
  {
   "cell_type": "code",
   "execution_count": null,
   "metadata": {
    "collapsed": true
   },
   "outputs": [],
   "source": []
  },
  {
   "cell_type": "code",
   "execution_count": null,
   "metadata": {
    "collapsed": true
   },
   "outputs": [],
   "source": []
  },
  {
   "cell_type": "code",
   "execution_count": null,
   "metadata": {
    "collapsed": true
   },
   "outputs": [],
   "source": [
    "# -hat Exporters Volumes \n",
    "            '{}_{}_{}-hat'.format(Exp_Country,Imp_Country,Product),'{}_World_{}-hat'.format(Exp_Country,Product), \n",
    "            '{}_{}_{}-hat'.format(Exp_Country,IMP1,Product), '{}_{}_{}-hat'.format(Exp_Country,IMP2,Product),\n",
    "            '{}_{}_{}-hat'.format(Exp_Country,IMP3,Product), '{}_{}_{}-hat'.format(Exp_Country,IMP4,Product), \n",
    "# -hat  Importers Volumes                         \n",
    "             '{}_{}_{}-hat'. format(EXP0,Imp_Country,Product), '{}_{}_{}-hat'. format(EXP1,Imp_Country,Product), \n",
    "             '{}_{}_{}-hat'. format(EXP2,Imp_Country,Product), '{}_{}_{}-hat'. format(EXP3,Imp_Country,Product), \n",
    "# -hat Politic Uncertainity                         \n",
    "               \n",
    "             'EPU_{}-hat'.format(Exp_Country),'EPU_{}-hat'.format(Imp_Country), 'EPU_World-hat', \n",
    "# -hat  Economic Indices            \n",
    "             'BCI_{}-hat'.format(Exp_Country), 'CCI_{}-hat'.format(Exp_Country), 'CLI_{}-hat'.format(Exp_Country),'GDP_{}-hat'.format(Exp_Country), \n",
    "             'BCI_{}-hat'.format(Imp_Country), 'CCI_{}-hat'.format(Imp_Country), 'CLI_{}-hat'.format(Imp_Country), 'GDP_{}-hat'.format(Imp_Country),\n",
    "           #    'PPI_{}-hat'.format(Exp_Country), 'PPI_{}-hat'.format(Imp_Country), \n",
    "             'CPI_{}-hat'.format(Exp_Country), 'CPI_{}-hat'.format(Imp_Country), \n",
    "            '{}-hat'.format(Currency), 'GBP-hat','World-hat',\n",
    "               'Date','Year','Month']\n",
    "      "
   ]
  },
  {
   "cell_type": "code",
   "execution_count": null,
   "metadata": {
    "collapsed": true
   },
   "outputs": [],
   "source": [
    "def set_X(Product,Data_Core,Dimension):\n",
    "    if Dimension==\"1\":\n",
    "        X=Data_Core[\n",
    "    \n",
    "            ['CHN_GBR_{}'.format(Product),'CHN_GBR_{}-1REAL'.format(Product),\n",
    "               'CHN_World_{}-1'.format(Product), 'CHN_{}_{}-1'.format(IMP1,Product), 'CHN_{}_{}-1'.format(IMP2,Product),\n",
    "               'CHN_{}_{}-1'.format(IMP3,Product), 'CHN_{}_{}-1'.format(IMP4,Product), 'CHN_GBR_{}-1'.format(Product),\n",
    "               '{}_GBR_{}-1'. format(EXP1,Product), '{}_GBR_{}-1'. format(EXP2,Product), '{}_GBR_{}-1'. format(EXP3,Product), \n",
    "               'EPU_CHN-1','EPU_GBR-1', 'EPU_World-1', \n",
    "               'BCI_CHN-1', 'CCI_CHN-1', 'CLI_CHN-1','GDP_CHN-1', \n",
    "               'BCI_GBR-1', 'CCI_GBR-1', 'CLI_GBR-1', 'GDP_GBR-1',\n",
    "              # 'PPI_CHN-1', 'PPI_GBR-1', \n",
    "               'CPI_CHN-1', 'CPI_GBR-1', \n",
    "               'CNY-1', 'GBP-1','World-1',\n",
    "               'Date','Year','Month']\n",
    "\n",
    "\n",
    "        ]\n",
    "                \n",
    "\n",
    "    elif Dimension==\"12\":\n",
    "        X=Data_Core[ \n",
    "    \n",
    "            ['CHN_GBR_{}'.format(Product),'CHN_GBR_{}-1REAL'.format(Product),\n",
    "               'CHN_World_{}-1'. format(Product), 'CHN_{}_{}-1'.format(IMP1,Product),'CHN_{}_{}-1'.format(IMP2,Product), \n",
    "               'CHN_{}_{}-1'.format(IMP3,Product), 'CHN_{}_{}-1'.format(IMP4,Product),'CHN_GBR_{}-1'. format(Product), \n",
    "       \n",
    "                'CHN_World_{}-2'. format(Product), 'CHN_{}_{}-2'.format(IMP1,Product),'CHN_{}_{}-2'.format(IMP2,Product), \n",
    "                'CHN_{}_{}-2'.format(IMP3,Product), 'CHN_{}_{}-2'.format(IMP4,Product),'CHN_GBR_{}-2'. format(Product), \n",
    "        \n",
    "                '{}_GBR_{}-1'. format(EXP1,Product), '{}_GBR_{}-1'. format(EXP2,Product),'{}_GBR_{}-1'. format(EXP3,Product),\n",
    "                '{}_GBR_{}-2'. format(EXP1,Product), '{}_GBR_{}-2'. format(EXP2,Product),'{}_GBR_{}-2'. format(EXP3,Product), \n",
    "        \n",
    "                'EPU_CHN-1', 'EPU_CHN-2', 'EPU_GBR-1', 'EPU_GBR-2','EPU_World-1', 'EPU_World-2', \n",
    "                'BCI_CHN-1', 'CCI_CHN-1', 'CLI_CHN-1','GDP_CHN-1', \n",
    "                'BCI_CHN-2', 'CCI_CHN-2', 'CLI_CHN-2', 'GDP_CHN-2',\n",
    "                'BCI_GBR-1', 'CCI_GBR-1', 'CLI_GBR-1', 'GDP_GBR-1', \n",
    "                'BCI_GBR-2','CCI_GBR-2', 'CLI_GBR-2', 'GDP_GBR-2', \n",
    "               # 'PPI_CHN-1', 'PPI_GBR-1', 'PPI_CHN-2', 'PPI_GBR-2', \n",
    "                'CPI_CHN-1', 'CPI_GBR-1', 'CPI_CHN-2','CPI_GBR-2', \n",
    "                'CNY-1', 'GBP-1', 'CNY-2', 'GBP-2', \n",
    "                'World-1', 'World-2',\n",
    "               'Date','Year','Month']\n",
    "    \n",
    "            ]\n",
    "\n",
    "    elif Dimension==\"123\":\n",
    "        X=Data_Core[ \n",
    "            ['CHN_GBR_{}'.format(Product), 'CHN_GBR_{}-1REAL'.format(Product),\n",
    "             'CHN_World_{}-1'. format(Product), 'CHN_{}_{}-1'.format(IMP1,Product),\n",
    "               'CHN_{}_{}-1'.format(IMP2,Product), 'CHN_{}_{}-1'.format(IMP3,Product), 'CHN_{}_{}-1'.format(IMP4,Product),\n",
    "               'CHN_GBR_{}-1'. format(Product), 'CHN_World_{}-2'. format(Product), 'CHN_{}_{}-2'.format(IMP1,Product),\n",
    "               'CHN_{}_{}-2'.format(IMP2,Product), 'CHN_{}_{}-2'.format(IMP3,Product), 'CHN_{}_{}-2'.format(IMP4,Product),\n",
    "               'CHN_GBR_{}-2'. format(Product), 'CHN_World_{}-3'. format(Product), 'CHN_{}_{}-3'.format(IMP1,Product),\n",
    "               'CHN_{}_{}-3'.format(IMP2,Product), 'CHN_{}_{}-3'.format(IMP3,Product), 'CHN_{}_{}-3'.format(IMP4,Product),\n",
    "               'CHN_GBR_{}-3'. format(Product), '{}_GBR_{}-1'. format(EXP1,Product), '{}_GBR_{}-1'. format(EXP2,Product),\n",
    "               '{}_GBR_{}-1'. format(EXP3,Product), '{}_GBR_{}-2'. format(EXP1,Product), '{}_GBR_{}-2'. format(EXP2,Product),\n",
    "               '{}_GBR_{}-2'. format(EXP3,Product), '{}_GBR_{}-3'. format(EXP1,Product), '{}_GBR_{}-3'. format(EXP2,Product),\n",
    "               '{}_GBR_{}-3'. format(EXP3,Product), 'EPU_CHN-1', 'EPU_CHN-2', 'EPU_CHN-3', 'EPU_GBR-1',\n",
    "               'EPU_GBR-2', 'EPU_GBR-3', 'EPU_World-1', 'EPU_World-2', 'EPU_World-3',\n",
    "               'BCI_CHN-1', 'CCI_CHN-1', 'CLI_CHN-1', 'GDP_CHN-1', 'BCI_CHN-2',\n",
    "               'CCI_CHN-2', 'CLI_CHN-2', 'GDP_CHN-2', 'BCI_CHN-3', 'CCI_CHN-3',\n",
    "               'CLI_CHN-3', 'GDP_CHN-3', 'BCI_GBR-1', 'CCI_GBR-1', 'CLI_GBR-1',\n",
    "               'GDP_GBR-1', 'BCI_GBR-2', 'CCI_GBR-2', 'CLI_GBR-2', 'GDP_GBR-2',\n",
    "               'BCI_GBR-3', 'CCI_GBR-3', 'CLI_GBR-3', 'GDP_GBR-3', 'PPI_CHN-1',\n",
    "           #    'PPI_GBR-1', 'PPI_CHN-2', 'PPI_GBR-2', 'PPI_CHN-3', 'PPI_GBR-3',\n",
    "               'CPI_CHN-1', 'CPI_GBR-1', 'CPI_CHN-2', 'CPI_GBR-2', 'CPI_CHN-3',\n",
    "               'CPI_GBR-3', 'CNY-1', 'GBP-1', 'CNY-2', 'GBP-2', 'CNY-3', 'GBP-3',\n",
    "               'World-1', 'World-2', 'World-3',  \n",
    "                'Date','Year','Month']\n",
    "\n",
    "             ]\n",
    "    elif Dimension==\"1236\":\n",
    "        X=Data_Core[ \n",
    "\n",
    "            ['CHN_GBR_{}'.format(Product),'CHN_GBR_{}-1REAL'.format(Product),\n",
    "             'CHN_World_{}-1'. format(Product), 'CHN_{}_{}-1'.format(IMP1,Product),\n",
    "               'CHN_{}_{}-1'.format(IMP2,Product), 'CHN_{}_{}-1'.format(IMP3,Product), 'CHN_{}_{}-1'.format(IMP4,Product),\n",
    "               'CHN_GBR_{}-1'. format(Product), 'CHN_World_{}-2'. format(Product), 'CHN_{}_{}-2'.format(IMP1,Product),\n",
    "               'CHN_{}_{}-2'.format(IMP2,Product), 'CHN_{}_{}-2'.format(IMP3,Product), 'CHN_{}_{}-2'.format(IMP4,Product),\n",
    "               'CHN_GBR_{}-2'. format(Product), 'CHN_World_{}-3'. format(Product), 'CHN_{}_{}-3'.format(IMP1,Product),\n",
    "               'CHN_{}_{}-3'.format(IMP2,Product), 'CHN_{}_{}-3'.format(IMP3,Product), 'CHN_{}_{}-3'.format(IMP4,Product),\n",
    "               'CHN_GBR_{}-3'. format(Product), '{}_GBR_{}-1'. format(EXP1,Product), '{}_GBR_{}-1'. format(EXP2,Product),\n",
    "               '{}_GBR_{}-1'. format(EXP3,Product), '{}_GBR_{}-2'. format(EXP1,Product), '{}_GBR_{}-2'. format(EXP2,Product),\n",
    "               '{}_GBR_{}-2'. format(EXP3,Product), '{}_GBR_{}-3'. format(EXP1,Product), '{}_GBR_{}-3'. format(EXP2,Product),\n",
    "               '{}_GBR_{}-3'. format(EXP3,Product), 'EPU_CHN-1', 'EPU_CHN-2', 'EPU_CHN-3', 'EPU_GBR-1',\n",
    "               'EPU_GBR-2', 'EPU_GBR-3', 'EPU_World-1', 'EPU_World-2', 'EPU_World-3',\n",
    "               'BCI_CHN-1', 'CCI_CHN-1', 'CLI_CHN-1', 'GDP_CHN-1', 'BCI_CHN-2',\n",
    "               'CCI_CHN-2', 'CLI_CHN-2', 'GDP_CHN-2', 'BCI_CHN-3', 'CCI_CHN-3',\n",
    "               'CLI_CHN-3', 'GDP_CHN-3', 'BCI_GBR-1', 'CCI_GBR-1', 'CLI_GBR-1',\n",
    "               'GDP_GBR-1', 'BCI_GBR-2', 'CCI_GBR-2', 'CLI_GBR-2', 'GDP_GBR-2',\n",
    "               'BCI_GBR-3', 'CCI_GBR-3', 'CLI_GBR-3', 'GDP_GBR-3', 'PPI_CHN-1',\n",
    "             #  'PPI_GBR-1', 'PPI_CHN-2', 'PPI_GBR-2', 'PPI_CHN-3', 'PPI_GBR-3',\n",
    "               'CPI_CHN-1', 'CPI_GBR-1', 'CPI_CHN-2', 'CPI_GBR-2', 'CPI_CHN-3',\n",
    "               'CPI_GBR-3', 'CNY-1', 'GBP-1', 'CNY-2', 'GBP-2', 'CNY-3', 'GBP-3',\n",
    "               'World-1', 'World-2', 'World-3',\n",
    "\n",
    "               'CHN_World_{}-6'. format(Product), 'CHN_{}_{}-6'.format(IMP1,Product), 'CHN_{}_{}-6'.format(IMP2,Product),\n",
    "               'CHN_{}_{}-6'.format(IMP3,Product), 'CHN_{}_{}-6'.format(IMP4,Product), 'CHN_GBR_{}-6'. format(Product),\n",
    "               '{}_GBR_{}-6'. format(EXP1,Product), '{}_GBR_{}-6'. format(EXP2,Product), '{}_GBR_{}-6'. format(EXP3,Product), \n",
    "               'EPU_CHN-6','EPU_GBR-6', 'EPU_World-6', \n",
    "               'BCI_CHN-6', 'CCI_CHN-6', 'CLI_CHN-6','GDP_CHN-6', \n",
    "               'BCI_GBR-6', 'CCI_GBR-6', 'CLI_GBR-6', 'GDP_GBR-6',\n",
    "               'PPI_CHN-6', 'PPI_GBR-6', 'CPI_CHN-6', 'CPI_GBR-6', \n",
    "               'CNY-6', 'GBP-6','World-6',\n",
    "                'Date','Year','Month']\n",
    "\n",
    "             ]\n",
    "    elif Dimension==\"1236_12\":\n",
    "        X=Data_Core[ \n",
    "\n",
    "            ['CHN_GBR_{}'.format(Product),'CHN_GBR_{}-1REAL'.format(Product),\n",
    "             'CHN_World_{}-1'. format(Product), 'CHN_{}_{}-1'.format(IMP1,Product),\n",
    "               'CHN_{}_{}-1'.format(IMP2,Product), 'CHN_{}_{}-1'.format(IMP3,Product), 'CHN_{}_{}-1'.format(IMP4,Product),\n",
    "               'CHN_GBR_{}-1'. format(Product), 'CHN_World_{}-2'. format(Product), 'CHN_{}_{}-2'.format(IMP1,Product),\n",
    "               'CHN_{}_{}-2'.format(IMP2,Product), 'CHN_{}_{}-2'.format(IMP3,Product), 'CHN_{}_{}-2'.format(IMP4,Product),\n",
    "               'CHN_GBR_{}-2'. format(Product), 'CHN_World_{}-3'. format(Product), 'CHN_{}_{}-3'.format(IMP1,Product),\n",
    "               'CHN_{}_{}-3'.format(IMP2,Product), 'CHN_{}_{}-3'.format(IMP3,Product), 'CHN_{}_{}-3'.format(IMP4,Product),\n",
    "               'CHN_GBR_{}-3'. format(Product), '{}_GBR_{}-1'. format(EXP1,Product), '{}_GBR_{}-1'. format(EXP2,Product),\n",
    "               '{}_GBR_{}-1'. format(EXP3,Product), '{}_GBR_{}-2'. format(EXP1,Product), '{}_GBR_{}-2'. format(EXP2,Product),\n",
    "               '{}_GBR_{}-2'. format(EXP3,Product), '{}_GBR_{}-3'. format(EXP1,Product), '{}_GBR_{}-3'. format(EXP2,Product),\n",
    "               '{}_GBR_{}-3'. format(EXP3,Product), 'EPU_CHN-1', 'EPU_CHN-2', 'EPU_CHN-3', 'EPU_GBR-1',\n",
    "               'EPU_GBR-2', 'EPU_GBR-3', 'EPU_World-1', 'EPU_World-2', 'EPU_World-3',\n",
    "               'BCI_CHN-1', 'CCI_CHN-1', 'CLI_CHN-1', 'GDP_CHN-1', 'BCI_CHN-2',\n",
    "               'CCI_CHN-2', 'CLI_CHN-2', 'GDP_CHN-2', 'BCI_CHN-3', 'CCI_CHN-3',\n",
    "               'CLI_CHN-3', 'GDP_CHN-3', 'BCI_GBR-1', 'CCI_GBR-1', 'CLI_GBR-1',\n",
    "               'GDP_GBR-1', 'BCI_GBR-2', 'CCI_GBR-2', 'CLI_GBR-2', 'GDP_GBR-2',\n",
    "               'BCI_GBR-3', 'CCI_GBR-3', 'CLI_GBR-3', 'GDP_GBR-3', 'PPI_CHN-1',\n",
    "          #     'PPI_GBR-1', 'PPI_CHN-2', 'PPI_GBR-2', 'PPI_CHN-3', 'PPI_GBR-3',\n",
    "               'CPI_CHN-1', 'CPI_GBR-1', 'CPI_CHN-2', 'CPI_GBR-2', 'CPI_CHN-3',\n",
    "               'CPI_GBR-3', 'CNY-1', 'GBP-1', 'CNY-2', 'GBP-2', 'CNY-3', 'GBP-3',\n",
    "               'World-1', 'World-2', 'World-3',\n",
    "\n",
    "               'CHN_World_{}-6'. format(Product), 'CHN_{}_{}-6'.format(IMP1,Product), 'CHN_{}_{}-6'.format(IMP2,Product),\n",
    "               'CHN_{}_{}-6'.format(IMP3,Product), 'CHN_{}_{}-6'.format(IMP4,Product), 'CHN_GBR_{}-6'. format(Product),   \n",
    "               '{}_GBR_{}-6'. format(EXP1,Product), '{}_GBR_{}-6'. format(EXP2,Product), '{}_GBR_{}-6'. format(EXP3,Product), \n",
    "               'EPU_CHN-6','EPU_GBR-6', 'EPU_World-6', \n",
    "               'BCI_CHN-6', 'CCI_CHN-6', 'CLI_CHN-6','GDP_CHN-6', \n",
    "               'BCI_GBR-6', 'CCI_GBR-6', 'CLI_GBR-6', 'GDP_GBR-6',\n",
    "        #       'PPI_CHN-6', 'PPI_GBR-6', 'CPI_CHN-6', 'CPI_GBR-6', \n",
    "               'CNY-6', 'GBP-6','World-6',\n",
    "    \n",
    "               'CHN_World_{}-12'. format(Product), 'CHN_{}_{}-12'.format(IMP1,Product), 'CHN_{}_{}-12'.format(IMP2,Product),\n",
    "               'CHN_{}_{}-12'.format(IMP3,Product), 'CHN_{}_{}-12'.format(IMP4,Product), 'CHN_GBR_{}-12'. format(Product),       \n",
    "               '{}_GBR_{}-12'. format(EXP1,Product), '{}_GBR_{}-12'. format(EXP2,Product), '{}_GBR_{}-12'. format(EXP3,Product), \n",
    "               'EPU_CHN-12','EPU_GBR-12', 'EPU_World-12', \n",
    "               'BCI_CHN-12', 'CCI_CHN-12', 'CLI_CHN-12','GDP_CHN-12', \n",
    "               'BCI_GBR-12', 'CCI_GBR-12', 'CLI_GBR-12', 'GDP_GBR-12',\n",
    "         #      'PPI_CHN-12', 'PPI_GBR-12', 'CPI_CHN-12', 'CPI_GBR-12', \n",
    "               'CNY-12', 'GBP-12','World-12',\n",
    "                'Date','Year','Month']\n",
    "   \n",
    "             ]\n",
    "\n",
    "    X=X.dropna()    \n",
    "    return X"
   ]
  },
  {
   "cell_type": "code",
   "execution_count": null,
   "metadata": {
    "collapsed": true
   },
   "outputs": [],
   "source": [
    "Data_Core = ITC_DF1[['CHN_World_841810', 'CHN_USA_841810', 'CHN_JPN_841810',\n",
    "       'CHN_FRA_841810', 'CHN_GBR_841810', 'CHN_AUS_841810', 'Date','Year','Month']].merge(ITC_DF2[['Date','TUR_GBR_841810', 'POL_GBR_841810', 'KOR_GBR_841810', 'ITA_GBR_841810' ]], \n",
    "                        on = 'Date',how = 'left').merge(EPU_DF1[['Date', 'EPU_CHN'      ]],\n",
    "                        on = 'Date',how = 'left').merge(EPU_DF2[['Date', 'EPU_GBR'      ]], \n",
    "                        on = 'Date',how = 'left').merge(EPU_World[['Date','EPU_World']],\n",
    "                        on = 'Date',how = 'left').merge(OECD_DF1[['Date','BCI_CHN','CCI_CHN','CLI_CHN','GDP_CHN']], \n",
    "                        on = 'Date',how = 'left').merge(OECD_DF2[['Date','BCI_GBR','CCI_GBR','CLI_GBR','GDP_GBR']], \n",
    "#                        on = 'Date',how = 'left').merge(OECD_DF3[['Date','PPI_CHN', 'PPI_GBR']], \n",
    "                        on = 'Date',how = 'left').merge(OECD_DF4[['Date','CPI_CHN','CPI_GBR']], \n",
    "                        on = 'Date',how = 'left').merge(OECD_DF5[['Date','CNY','GBP']], \n",
    "                        on = 'Date',how = 'left').merge(OTHER_DF1[['Date','World']], \n",
    "                        on = 'Date',how = 'left')"
   ]
  },
  {
   "cell_type": "code",
   "execution_count": null,
   "metadata": {
    "collapsed": true
   },
   "outputs": [],
   "source": [
    "# Data_Core for the current month\n",
    "Data_Core = ITC_DF1[['CHN_World_841810', 'CHN_USA_841810', 'CHN_JPN_841810',\n",
    "       'CHN_FRA_841810', 'CHN_GBR_841810', 'CHN_AUS_841810', 'Date']].merge(ITC_DF2[['Date','TUR_GBR_841810', 'POL_GBR_841810', 'KOR_GBR_841810', 'ITA_GBR_841810' ]], \n",
    "                        on = 'Date',how = 'left').merge(EPU_DF1[['Date', 'EPU_CHN'      ]],\n",
    "                        on = 'Date',how = 'left').merge(EPU_DF2[['Date', 'EPU_GBR'      ]], \n",
    "                        on = 'Date',how = 'left').merge(EPU_World[['Date','EPU_World']],\n",
    "                        on = 'Date',how = 'left').merge(OECD_DF1[['Date','BCI_CHN','CCI_CHN','CLI_CHN','GDP_CHN']], \n",
    "                        on = 'Date',how = 'left').merge(OECD_DF2[['Date','BCI_GBR','CCI_GBR','CLI_GBR','GDP_GBR']], \n",
    "#                        on = 'Dat#e',how = 'left').merge(OECD_DF3[['Date','PPI_CHN', 'PPI_GBR']], \n",
    "                        on = 'Date',how = 'left').merge(OECD_DF4[['Date','CPI_CHN','CPI_GBR']], \n",
    "                        on = 'Date',how = 'left').merge(OECD_DF5[['Date','CNY','GBP']], \n",
    "                        on = 'Date',how = 'left').merge(OTHER_DF1[['Date','World']], \n",
    "                        on = 'Date',how = 'left')\n",
    "#Data_Core=Data_Core.dropna()\n",
    "print(Data_Core.columns,Data_Core.shape)"
   ]
  },
  {
   "cell_type": "code",
   "execution_count": null,
   "metadata": {
    "collapsed": true
   },
   "outputs": [],
   "source": [
    "# Data_Core for Y current month and X for the previous month\n",
    "\n",
    "Data_Core_1 = ITC_DF1[['CHN_World_841810-1', 'CHN_USA_841810-1', 'CHN_JPN_841810-1',\n",
    "       'CHN_FRA_841810-1', 'CHN_GBR_841810', 'CHN_AUS_841810-1', 'CHN_GBR_841810-1',\n",
    "                       \n",
    "                       'Date']].merge(ITC_DF2[['Date', 'TUR_GBR_841810-1','POL_GBR_841810-1', 'KOR_GBR_841810-1', 'ITA_GBR_841810-1' ]], \n",
    "                        on = 'Date',how = 'left').merge(EPU_DF1[['Date', 'EPU_CHN-1'      ]],\n",
    "                        on = 'Date',how = 'left').merge(EPU_DF2[['Date', 'EPU_GBR-1'      ]], \n",
    "                        on = 'Date',how = 'left').merge(EPU_World[['Date','EPU_World-1']],\n",
    "                        on = 'Date',how = 'left').merge(OECD_DF1[['Date','BCI_CHN-1','CCI_CHN-1','CLI_CHN-1','GDP_CHN-1']], \n",
    "                        on = 'Date',how = 'left').merge(OECD_DF2[['Date','BCI_GBR-1','CCI_GBR-1','CLI_GBR-1','GDP_GBR-1']], \n",
    "#                        on = 'Date',how = 'left').merge(OECD_DF3[['Date','PPI_CHN-1', 'PPI_GBR-1']], \n",
    "                        on = 'Date',how = 'left').merge(OECD_DF4[['Date','CPI_CHN-1','CPI_GBR-1']], \n",
    "                        on = 'Date',how = 'left').merge(OECD_DF5[['Date','CNY-1','GBP-1']], \n",
    "                        on = 'Date',how = 'left').merge(OTHER_DF1[['Date','World-1']], \n",
    "                        on = 'Date',how = 'left')\n",
    "#Data_Core_1=Data_Core_1.dropna()\n",
    "Data_Core_1=Data_Core_1.fillna(0)\n",
    "print(Data_Core_1.columns,Data_Core_1.shape)"
   ]
  },
  {
   "cell_type": "code",
   "execution_count": null,
   "metadata": {
    "collapsed": true
   },
   "outputs": [],
   "source": [
    "# Data_Core for Y current month and X for the previous months (-1, -2, -3, -6 and -12 months)\n",
    "\n",
    "Data_Core_1236_12 = ITC_DF1[['CHN_GBR_841810', \n",
    "                        'CHN_World_841810-1', 'CHN_USA_841810-1', 'CHN_JPN_841810-1',\n",
    "                        'CHN_FRA_841810-1', 'CHN_AUS_841810-1', 'CHN_GBR_841810-1',\n",
    "                       'CHN_World_841810-2', 'CHN_USA_841810-2', 'CHN_JPN_841810-2',\n",
    "                        'CHN_FRA_841810-2', 'CHN_AUS_841810-2', 'CHN_GBR_841810-2',\n",
    "                         'CHN_World_841810-3', 'CHN_USA_841810-3', 'CHN_JPN_841810-3',\n",
    "                        'CHN_FRA_841810-3', 'CHN_AUS_841810-3', 'CHN_GBR_841810-3',\n",
    "                         'CHN_World_841810-6', 'CHN_USA_841810-6', 'CHN_JPN_841810-6',\n",
    "                        'CHN_FRA_841810-6', 'CHN_AUS_841810-6', 'CHN_GBR_841810-6',\n",
    "                        'CHN_World_841810-12', 'CHN_USA_841810-12', 'CHN_JPN_841810-12',\n",
    "                        'CHN_FRA_841810-12', 'CHN_AUS_841810-12', 'CHN_GBR_841810-12',\n",
    "                       'Date','Year','Month']].merge(ITC_DF2[['Date', \n",
    "                                               'TUR_GBR_841810-1','POL_GBR_841810-1', 'KOR_GBR_841810-1', 'ITA_GBR_841810-1',\n",
    "                                               'TUR_GBR_841810-2','POL_GBR_841810-2', 'KOR_GBR_841810-2', 'ITA_GBR_841810-2',\n",
    "                                               'TUR_GBR_841810-3','POL_GBR_841810-3', 'KOR_GBR_841810-3', 'ITA_GBR_841810-3',\n",
    "                                               'TUR_GBR_841810-6','POL_GBR_841810-6', 'KOR_GBR_841810-6', 'ITA_GBR_841810-6',\n",
    "                                               'TUR_GBR_841810-12','POL_GBR_841810-12', 'KOR_GBR_841810-12', 'ITA_GBR_841810-12']], \n",
    "                        on = 'Date',how = 'left').merge(EPU_DF1[['Date', \n",
    "                                                                 'EPU_CHN-1','EPU_CHN-2','EPU_CHN-3','EPU_CHN-6','EPU_CHN-12' ]],\n",
    "                        on = 'Date',how = 'left').merge(EPU_DF2[['Date', \n",
    "                                                                 'EPU_GBR-1','EPU_GBR-2','EPU_GBR-3','EPU_GBR-6','EPU_GBR-12' ]], \n",
    "                        on = 'Date',how = 'left').merge(EPU_World[['Date',\n",
    "                                                                   'EPU_World-1','EPU_World-2','EPU_World-3','EPU_World-6','EPU_World-12']],\n",
    "                        on = 'Date',how = 'left').merge(OECD_DF1[['Date',\n",
    "                                                                  'BCI_CHN-1','CCI_CHN-1','CLI_CHN-1','GDP_CHN-1',\n",
    "                                                                  'BCI_CHN-2','CCI_CHN-2','CLI_CHN-2','GDP_CHN-2',\n",
    "                                                                  'BCI_CHN-3','CCI_CHN-3','CLI_CHN-3','GDP_CHN-3',\n",
    "                                                                  'BCI_CHN-6','CCI_CHN-6','CLI_CHN-6','GDP_CHN-6',\n",
    "                                                                 'BCI_CHN-12','CCI_CHN-12','CLI_CHN-12','GDP_CHN-12']], \n",
    "                        on = 'Date',how = 'left').merge(OECD_DF2[['Date',\n",
    "                                                                  'BCI_GBR-1','CCI_GBR-1','CLI_GBR-1','GDP_GBR-1',\n",
    "                                                                  'BCI_GBR-2','CCI_GBR-2','CLI_GBR-2','GDP_GBR-2',\n",
    "                                                                  'BCI_GBR-3','CCI_GBR-3','CLI_GBR-3','GDP_GBR-3',\n",
    "                                                                  'BCI_GBR-6','CCI_GBR-6','CLI_GBR-6','GDP_GBR-6',\n",
    "                                                                  'BCI_GBR-12','CCI_GBR-12','CLI_GBR-12','GDP_GBR-12']], \n",
    "#                        on = 'Date',how = 'left').merge(OECD_DF3[['Date',\n",
    "#                                                                  'PPI_CHN-1', 'PPI_GBR-1',\n",
    "#                                                                  'PPI_CHN-2', 'PPI_GBR-2',\n",
    "#                                                                  'PPI_CHN-3', 'PPI_GBR-3',\n",
    "#                                                                  'PPI_CHN-6', 'PPI_GBR-6',\n",
    "#                                                                  'PPI_CHN-12', 'PPI_GBR-12']], \n",
    "                        on = 'Date',how = 'left').merge(OECD_DF4[['Date',\n",
    "                                                                  'CPI_CHN-1','CPI_GBR-1',\n",
    "                                                                  'CPI_CHN-2','CPI_GBR-2',\n",
    "                                                                  'CPI_CHN-3','CPI_GBR-3',\n",
    "                                                                  'CPI_CHN-6','CPI_GBR-6',\n",
    "                                                                 'CPI_CHN-12','CPI_GBR-12']], \n",
    "                        on = 'Date',how = 'left').merge(OECD_DF5[['Date',\n",
    "                                                                  'CNY-1','GBP-1',\n",
    "                                                                  'CNY-2','GBP-2',\n",
    "                                                                  'CNY-3','GBP-3',\n",
    "                                                                  'CNY-6','GBP-6',\n",
    "                                                                  'CNY-12','GBP-12']], \n",
    "                        on = 'Date',how = 'left').merge(OTHER_DF1[['Date',\n",
    "                                                                   'World-1','World-2','World-3','World-6','World-12']], \n",
    "                        on = 'Date',how = 'left')\n",
    "#Data_Core_1236_12=Data_Core_1236_12.dropna()\n",
    "print(Data_Core_1236_12.columns,Data_Core_1236_12.shape)"
   ]
  },
  {
   "cell_type": "code",
   "execution_count": null,
   "metadata": {
    "collapsed": true
   },
   "outputs": [],
   "source": [
    "#PairPlot for CHINA Exports to GBR and Political Uncertainity\n",
    "\n",
    "sns.pairplot(Data_Core_1[['CHN_GBR_841810','EPU_CHN-1',\n",
    "       'EPU_GBR-1', 'EPU_World-1']])"
   ]
  },
  {
   "cell_type": "code",
   "execution_count": null,
   "metadata": {
    "collapsed": true
   },
   "outputs": [],
   "source": [
    "# Pairplots CHINA Exports to GBR and its top 5 markets\n",
    "sns.pairplot(Data_Core_1[['CHN_GBR_841810','CHN_World_841810-1', 'CHN_USA_841810-1', 'CHN_JPN_841810-1',\n",
    "       'CHN_FRA_841810-1', 'CHN_AUS_841810-1']])"
   ]
  },
  {
   "cell_type": "code",
   "execution_count": null,
   "metadata": {
    "collapsed": true
   },
   "outputs": [],
   "source": [
    "# Pairplots CHINA Exports to GBR and GBR top 4 exporters \n",
    "sns.pairplot(Data_Core_1[['CHN_GBR_841810','TUR_GBR_841810-1','POL_GBR_841810-1', 'KOR_GBR_841810-1', 'ITA_GBR_841810-1']])"
   ]
  },
  {
   "cell_type": "code",
   "execution_count": null,
   "metadata": {
    "collapsed": true
   },
   "outputs": [],
   "source": [
    "Data_Core_1236_12.to_excel('Out_841810_CHN_GBR_Data_Core_1236_12.xlsx',index = False)"
   ]
  },
  {
   "cell_type": "code",
   "execution_count": null,
   "metadata": {
    "collapsed": true
   },
   "outputs": [],
   "source": [
    "Data_Core.to_excel('Deneme.xlsx',sheet_name='DenemeSit',index = False,)"
   ]
  },
  {
   "cell_type": "code",
   "execution_count": null,
   "metadata": {
    "collapsed": true
   },
   "outputs": [],
   "source": []
  }
 ],
 "metadata": {
  "kernelspec": {
   "display_name": "Python 3",
   "language": "python",
   "name": "python3"
  },
  "language_info": {
   "codemirror_mode": {
    "name": "ipython",
    "version": 3
   },
   "file_extension": ".py",
   "mimetype": "text/x-python",
   "name": "python",
   "nbconvert_exporter": "python",
   "pygments_lexer": "ipython3",
   "version": "3.6.1"
  }
 },
 "nbformat": 4,
 "nbformat_minor": 2
}
