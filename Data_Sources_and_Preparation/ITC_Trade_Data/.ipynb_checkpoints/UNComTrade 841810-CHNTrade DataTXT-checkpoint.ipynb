{
 "cells": [
  {
   "cell_type": "code",
   "execution_count": null,
   "metadata": {
    "collapsed": true
   },
   "outputs": [],
   "source": [
    "import numpy as np\n",
    "import pandas as pd\n",
    "Product=841810"
   ]
  },
  {
   "cell_type": "code",
   "execution_count": null,
   "metadata": {},
   "outputs": [],
   "source": [
    "#Butun Dosyalar okunur Dosya isimleri duzenlenmelidir.\n",
    "China_15 = pd.read_csv('{}-2015-China.txt'.format(Product),sep='\\t')\n",
    "China_14 = pd.read_csv('{}-2014-China.txt'.format(Product),sep='\\t')\n",
    "China_12 = pd.read_csv('{}-2012-China.txt'.format(Product),sep='\\t')\n",
    "China_11 = pd.read_csv('{}-2011-China.txt'.format(Product),sep='\\t')\n",
    "China_09 = pd.read_csv('{}-2009-China.txt'.format(Product),sep='\\t')\n",
    "China_07 = pd.read_csv('{}-2007-China.txt'.format(Product),sep='\\t')\n",
    "China_06 = pd.read_csv('{}-2006-China.txt'.format(Product),sep='\\t')"
   ]
  },
  {
   "cell_type": "code",
   "execution_count": null,
   "metadata": {
    "collapsed": true
   },
   "outputs": [],
   "source": [
    "#Butun Importer bilgisine gore birlestirilir.\n",
    "China_all = China_15.merge(China_14, \n",
    "                        on = 'Importers',how = 'left').merge(China_12,\n",
    "                        on = 'Importers',how = 'left').merge(China_11, \n",
    "                        on = 'Importers',how = 'left').merge(China_09,\n",
    "                        on = 'Importers',how = 'left').merge(China_07, \n",
    "                        on = 'Importers',how = 'left').merge(China_06, \n",
    "                        on = 'Importers',how = 'left')\n"
   ]
  },
  {
   "cell_type": "code",
   "execution_count": null,
   "metadata": {},
   "outputs": [],
   "source": [
    "#O urun grubundaki en fazla hacim yapan ülkelere bakılır. \n",
    "#2016 yılı sonu itibariyle en cok ihracat yapılan ulkeler secilmistir\n",
    "China_all['Importers'].unique()"
   ]
  },
  {
   "cell_type": "code",
   "execution_count": null,
   "metadata": {},
   "outputs": [],
   "source": [
    "#Butun okunanların birlestirir, transposunu alır ve index'i kaldırır Bunu urun grubuna göre yapar\n",
    "\n",
    "# 841810 için ilk 5 ülke\n",
    "#'World', 'United States of America', 'Japan', 'France',\n",
    "#       'United Kingdom', 'Australia'\n",
    "if Product==841810 :\n",
    "\n",
    "    China_all=China_all[(\n",
    "    (China_all['Importers']=='World')  \n",
    "   | (China_all['Importers']=='United States of America') \n",
    "   | (China_all['Importers']=='Japan')\n",
    "   | (China_all['Importers']=='France')\n",
    "   | (China_all['Importers']=='United Kingdom')\n",
    "   | (China_all['Importers']=='Australia')\n",
    "    )].transpose().reset_index()\n",
    "\n",
    "# 841840 için ilk 5 ülke\n",
    "#'World', 'United States of America', 'France', 'Germany',\n",
    "#       'Japan', 'United Kingdom',\n",
    "elif Product==841840:\n",
    "    China_all=China_all[(\n",
    "    (China_all['Importers']=='World')  \n",
    "   | (China_all['Importers']=='United States of America') \n",
    "   | (China_all['Importers']=='Japan')\n",
    "   | (China_all['Importers']=='France')\n",
    "   | (China_all['Importers']=='United Kingdom')\n",
    "   | (China_all['Importers']=='Germany')\n",
    "    )].transpose().reset_index()\n",
    "\n",
    "\n",
    "# 841850 için ilk 5 ülke\n",
    "#'World', 'United States of America', 'Australia', 'Italy',\n",
    "#       'Indonesia', 'United Kingdom', \n",
    "elif Product==841850:\n",
    "\n",
    "\n",
    "    China_all=China_all[(\n",
    "    (China_all['Importers']=='World')  \n",
    "   | (China_all['Importers']=='United States of America') \n",
    "   | (China_all['Importers']=='United Kingdom')\n",
    "   | (China_all['Importers']=='Australia')\n",
    "   | (China_all['Importers']=='Italy')\n",
    "   | (China_all['Importers']=='Indonesia')\n",
    "    )].transpose().reset_index()\n"
   ]
  },
  {
   "cell_type": "code",
   "execution_count": null,
   "metadata": {
    "collapsed": true
   },
   "outputs": [],
   "source": [
    "# İlk Satırı Kolon isimleri yapar ve NaN olan satırları siler \n",
    "China_all.columns = China_all.iloc[0]\n",
    "China_all=China_all.reindex(China_all.index.drop(0))\n",
    "China_all=China_all.dropna()\n",
    "China_all.loc[:, 'Date'] = 0\n",
    "China_all=China_all.drop_duplicates('World')\n"
   ]
  },
  {
   "cell_type": "code",
   "execution_count": null,
   "metadata": {
    "scrolled": true
   },
   "outputs": [],
   "source": [
    "China_all"
   ]
  },
  {
   "cell_type": "code",
   "execution_count": null,
   "metadata": {
    "collapsed": true
   },
   "outputs": [],
   "source": [
    "def finddate(expression):\n",
    "        \n",
    "    year=expression.split('-M')[0]\n",
    "    year=year.split()[3]\n",
    "    month=expression.split('-M')[1]\n",
    "    month=month.split('_')[0]\n",
    "    date=int(year+month)\n",
    "\n",
    "    return date"
   ]
  },
  {
   "cell_type": "code",
   "execution_count": null,
   "metadata": {
    "collapsed": true
   },
   "outputs": [],
   "source": [
    "for num in range(0,China_all.shape[0]):\n",
    "    China_all.iloc[num,7]=finddate(China_all.iloc[num,0])"
   ]
  },
  {
   "cell_type": "code",
   "execution_count": null,
   "metadata": {
    "collapsed": true
   },
   "outputs": [],
   "source": [
    "China_all.drop('Importers',axis=1,inplace=True)\n",
    "China_all=China_all.sort_values(by='Date', ascending=1)"
   ]
  },
  {
   "cell_type": "code",
   "execution_count": null,
   "metadata": {
    "collapsed": true
   },
   "outputs": [],
   "source": [
    "if Product==841810 :\n",
    "# 841810 için ilk 5 ülke\n",
    "#'World', 'United States of AmeriWorld, 'Japan', 'France',\n",
    "#       'United Kingdom', 'AustraWorld'\n",
    "\n",
    "    China_all=China_all.rename(columns = {'World':'CHN_World_841810'})\n",
    "    China_all['CHN_World_841810-1'] = China_all['CHN_World_841810'].shift(1)\n",
    "    China_all['CHN_World_841810-2'] = China_all['CHN_World_841810'].shift(2)\n",
    "    China_all['CHN_World_841810-3'] = China_all['CHN_World_841810'].shift(3)\n",
    "    China_all['CHN_World_841810-6'] = China_all['CHN_World_841810'].shift(6)\n",
    "    China_all['CHN_World_841810-12'] = China_all['CHN_World_841810'].shift(12)\n",
    "    \n",
    "    \n",
    "    China_all=China_all.rename(columns = {'United States of America':'CHN_USA_841810'})\n",
    "    China_all['CHN_USA_841810-1'] = China_all['CHN_USA_841810'].shift(1)\n",
    "    China_all['CHN_USA_841810-2'] = China_all['CHN_USA_841810'].shift(2)\n",
    "    China_all['CHN_USA_841810-3'] = China_all['CHN_USA_841810'].shift(3)\n",
    "    China_all['CHN_USA_841810-6'] = China_all['CHN_USA_841810'].shift(6)\n",
    "    China_all['CHN_USA_841810-12'] = China_all['CHN_USA_841810'].shift(12)\n",
    "\n",
    "    China_all=China_all.rename(columns = {'Japan':'CHN_JPN_841810'})\n",
    "    China_all['CHN_JPN_841810-1'] = China_all['CHN_JPN_841810'].shift(1)\n",
    "    China_all['CHN_JPN_841810-2'] = China_all['CHN_JPN_841810'].shift(2)\n",
    "    China_all['CHN_JPN_841810-3'] = China_all['CHN_JPN_841810'].shift(3)\n",
    "    China_all['CHN_JPN_841810-6'] = China_all['CHN_JPN_841810'].shift(6)\n",
    "    China_all['CHN_JPN_841810-12'] = China_all['CHN_JPN_841810'].shift(12)\n",
    "\n",
    "    China_all=China_all.rename(columns = {'France':'CHN_FRA_841810'})\n",
    "    China_all['CHN_FRA_841810-1'] = China_all['CHN_FRA_841810'].shift(1)\n",
    "    China_all['CHN_FRA_841810-2'] = China_all['CHN_FRA_841810'].shift(2)\n",
    "    China_all['CHN_FRA_841810-3'] = China_all['CHN_FRA_841810'].shift(3)\n",
    "    China_all['CHN_FRA_841810-6'] = China_all['CHN_FRA_841810'].shift(6)\n",
    "    China_all['CHN_FRA_841810-12'] = China_all['CHN_FRA_841810'].shift(12)\n",
    "\n",
    "    China_all=China_all.rename(columns = {'United Kingdom':'CHN_GBR_841810'})\n",
    "    China_all['CHN_GBR_841810-1'] = China_all['CHN_GBR_841810'].shift(1)\n",
    "    China_all['CHN_GBR_841810-2'] = China_all['CHN_GBR_841810'].shift(2)\n",
    "    China_all['CHN_GBR_841810-3'] = China_all['CHN_GBR_841810'].shift(3)\n",
    "    China_all['CHN_GBR_841810-6'] = China_all['CHN_GBR_841810'].shift(6)\n",
    "    China_all['CHN_GBR_841810-12'] = China_all['CHN_GBR_841810'].shift(12)\n",
    "    \n",
    "    China_all=China_all.rename(columns = {'Australia':'CHN_AUS_841810'})\n",
    "    China_all['CHN_AUS_841810-1'] = China_all['CHN_AUS_841810'].shift(1)\n",
    "    China_all['CHN_AUS_841810-2'] = China_all['CHN_AUS_841810'].shift(2)\n",
    "    China_all['CHN_AUS_841810-3'] = China_all['CHN_AUS_841810'].shift(3)\n",
    "    China_all['CHN_AUS_841810-6'] = China_all['CHN_AUS_841810'].shift(6)\n",
    "    China_all['CHN_AUS_841810-12'] = China_all['CHN_AUS_841810'].shift(12)\n",
    "    \n",
    "elif Product==841840:\n",
    "# 841840 için ilk 5 ülke\n",
    "#'World', 'United States of America', 'France', 'Germany',\n",
    "#       'Japan', 'United Kingdom',\n",
    "    \n",
    "    China_all=China_all.rename(columns = {'World':'CHN_World_841840'})\n",
    "    China_all['CHN_World_841840-1'] = China_all['CHN_World_841840'].shift(1)\n",
    "    China_all['CHN_World_841840-2'] = China_all['CHN_World_841840'].shift(2)\n",
    "    China_all['CHN_World_841840-3'] = China_all['CHN_World_841840'].shift(3)\n",
    "    China_all['CHN_World_841840-6'] = China_all['CHN_World_841840'].shift(6)\n",
    "    China_all['CHN_World_841840-12'] = China_all['CHN_World_841840'].shift(12)\n",
    "    \n",
    "    China_all=China_all.rename(columns = {'United States of America':'CHN_USA_841840'})\n",
    "    China_all['CHN_USA_841840-1'] = China_all['CHN_USA_841840'].shift(1)\n",
    "    China_all['CHN_USA_841840-2'] = China_all['CHN_USA_841840'].shift(2)\n",
    "    China_all['CHN_USA_841840-3'] = China_all['CHN_USA_841840'].shift(3)\n",
    "    China_all['CHN_USA_841840-6'] = China_all['CHN_USA_841840'].shift(6)\n",
    "    China_all['CHN_USA_841840-12'] = China_all['CHN_USA_841840'].shift(12)\n",
    "\n",
    "    China_all=China_all.rename(columns = {'Japan':'CHN_JPN_841840'})\n",
    "    China_all['CHN_JPN_841840-1'] = China_all['CHN_JPN_841840'].shift(1)\n",
    "    China_all['CHN_JPN_841840-2'] = China_all['CHN_JPN_841840'].shift(2)\n",
    "    China_all['CHN_JPN_841840-3'] = China_all['CHN_JPN_841840'].shift(3)\n",
    "    China_all['CHN_JPN_841840-6'] = China_all['CHN_JPN_841840'].shift(6)\n",
    "    China_all['CHN_JPN_841840-12'] = China_all['CHN_JPN_841840'].shift(12)\n",
    "\n",
    "    China_all=China_all.rename(columns = {'France':'CHN_FRA_841840'})\n",
    "    China_all['CHN_FRA_841840-1'] = China_all['CHN_FRA_841840'].shift(1)\n",
    "    China_all['CHN_FRA_841840-2'] = China_all['CHN_FRA_841840'].shift(2)\n",
    "    China_all['CHN_FRA_841840-3'] = China_all['CHN_FRA_841840'].shift(3)\n",
    "    China_all['CHN_FRA_841840-6'] = China_all['CHN_FRA_841840'].shift(6)\n",
    "    China_all['CHN_FRA_841840-12'] = China_all['CHN_FRA_841840'].shift(12)\n",
    "\n",
    "    China_all=China_all.rename(columns = {'United Kingdom':'CHN_GBR_841840'})\n",
    "    China_all['CHN_GBR_841840-1'] = China_all['CHN_GBR_841840'].shift(1)\n",
    "    China_all['CHN_GBR_841840-2'] = China_all['CHN_GBR_841840'].shift(2)\n",
    "    China_all['CHN_GBR_841840-3'] = China_all['CHN_GBR_841840'].shift(3)\n",
    "    China_all['CHN_GBR_841840-6'] = China_all['CHN_GBR_841840'].shift(6)\n",
    "    China_all['CHN_GBR_841840-12'] = China_all['CHN_GBR_841840'].shift(12)\n",
    "    \n",
    "    China_all=China_all.rename(columns = {'Germany':'CHN_DEU_841840'})\n",
    "    China_all['CHN_DEU_841840-1'] = China_all['CHN_DEU_841840'].shift(1)\n",
    "    China_all['CHN_DEU_841840-2'] = China_all['CHN_DEU_841840'].shift(2)\n",
    "    China_all['CHN_DEU_841840-3'] = China_all['CHN_DEU_841840'].shift(3)\n",
    "    China_all['CHN_DEU_841840-6'] = China_all['CHN_DEU_841840'].shift(6)\n",
    "    China_all['CHN_DEU_841840-12'] = China_all['CHN_DEU_841840'].shift(12)\n",
    "    \n",
    "elif Product==841850:\n",
    "    \n",
    "# 841850 için ilk 5 ülke\n",
    "#'World', 'United States of America', 'Australia', 'Italy',\n",
    "#       'Indonesia', 'United Kingdom', \n",
    "\n",
    "    China_all=China_all.rename(columns = {'World':'CHN_World_841850'})\n",
    "    China_all['CHN_World_841850-1'] = China_all['CHN_World_841850'].shift(1)\n",
    "    China_all['CHN_World_841850-2'] = China_all['CHN_World_841850'].shift(2)\n",
    "    China_all['CHN_World_841850-3'] = China_all['CHN_World_841850'].shift(3)\n",
    "    China_all['CHN_World_841850-6'] = China_all['CHN_World_841850'].shift(6)\n",
    "    China_all['CHN_World_841850-12'] = China_all['CHN_World_841850'].shift(12)\n",
    "\n",
    "    China_all=China_all.rename(columns = {'United States of America':'CHN_USA_841850'})\n",
    "    China_all['CHN_USA_841850-1'] = China_all['CHN_USA_841850'].shift(1)\n",
    "    China_all['CHN_USA_841850-2'] = China_all['CHN_USA_841850'].shift(2)\n",
    "    China_all['CHN_USA_841850-3'] = China_all['CHN_USA_841850'].shift(3)\n",
    "    China_all['CHN_USA_841850-6'] = China_all['CHN_USA_841850'].shift(6)\n",
    "    China_all['CHN_USA_841850-12'] = China_all['CHN_USA_841850'].shift(12)\n",
    "\n",
    "\n",
    "    China_all=China_all.rename(columns = {'United Kingdom':'CHN_GBR_841850'})\n",
    "    China_all['CHN_GBR_841850-1'] = China_all['CHN_GBR_841850'].shift(1)\n",
    "    China_all['CHN_GBR_841850-2'] = China_all['CHN_GBR_841850'].shift(2)\n",
    "    China_all['CHN_GBR_841850-3'] = China_all['CHN_GBR_841850'].shift(3)\n",
    "    China_all['CHN_GBR_841850-6'] = China_all['CHN_GBR_841850'].shift(6)\n",
    "    China_all['CHN_GBR_841850-12'] = China_all['CHN_GBR_841850'].shift(12)\n",
    "    \n",
    "    China_all=China_all.rename(columns = {'Australia':'CHN_AUS_841850'})\n",
    "    China_all['CHN_AUS_841850-1'] = China_all['CHN_AUS_841850'].shift(1)\n",
    "    China_all['CHN_AUS_841850-2'] = China_all['CHN_AUS_841850'].shift(2)\n",
    "    China_all['CHN_AUS_841850-3'] = China_all['CHN_AUS_841850'].shift(3)\n",
    "    China_all['CHN_AUS_841850-6'] = China_all['CHN_AUS_841850'].shift(6)\n",
    "    China_all['CHN_AUS_841850-12'] = China_all['CHN_AUS_841850'].shift(12)\n",
    "    \n",
    "    China_all=China_all.rename(columns = {'Italy':'CHN_ITA_841850'})\n",
    "    China_all['CHN_ITA_841850-1'] = China_all['CHN_ITA_841850'].shift(1)\n",
    "    China_all['CHN_ITA_841850-2'] = China_all['CHN_ITA_841850'].shift(2)\n",
    "    China_all['CHN_ITA_841850-3'] = China_all['CHN_ITA_841850'].shift(3)\n",
    "    China_all['CHN_ITA_841850-6'] = China_all['CHN_ITA_841850'].shift(6)\n",
    "    China_all['CHN_ITA_841850-12'] = China_all['CHN_ITA_841850'].shift(12)\n",
    "\n",
    "    China_all=China_all.rename(columns = {'Indonesia':'CHN_IDN_841850'})\n",
    "    China_all['CHN_IDN_841850-1'] = China_all['CHN_IDN_841850'].shift(1)\n",
    "    China_all['CHN_IDN_841850-2'] = China_all['CHN_IDN_841850'].shift(2)\n",
    "    China_all['CHN_IDN_841850-3'] = China_all['CHN_IDN_841850'].shift(3)\n",
    "    China_all['CHN_IDN_841850-6'] = China_all['CHN_IDN_841850'].shift(6)\n",
    "    China_all['CHN_IDN_841850-12'] = China_all['CHN_IDN_841850'].shift(12)\n"
   ]
  },
  {
   "cell_type": "code",
   "execution_count": null,
   "metadata": {},
   "outputs": [],
   "source": [
    "\n",
    "China_all=China_all.dropna()\n",
    "China_all.to_excel('{}_China_all.xlsx'.format(Product),index = False)"
   ]
  },
  {
   "cell_type": "code",
   "execution_count": null,
   "metadata": {
    "collapsed": true
   },
   "outputs": [],
   "source": []
  }
 ],
 "metadata": {
  "kernelspec": {
   "display_name": "Python 3",
   "language": "python",
   "name": "python3"
  },
  "language_info": {
   "codemirror_mode": {
    "name": "ipython",
    "version": 3
   },
   "file_extension": ".py",
   "mimetype": "text/x-python",
   "name": "python",
   "nbconvert_exporter": "python",
   "pygments_lexer": "ipython3",
   "version": "3.6.1"
  }
 },
 "nbformat": 4,
 "nbformat_minor": 2
}
