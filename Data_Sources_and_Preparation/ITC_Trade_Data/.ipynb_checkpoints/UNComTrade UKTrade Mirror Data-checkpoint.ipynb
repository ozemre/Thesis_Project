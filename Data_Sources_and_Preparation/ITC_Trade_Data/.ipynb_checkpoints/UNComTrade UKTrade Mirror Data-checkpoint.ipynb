{
 "cells": [
  {
   "cell_type": "code",
   "execution_count": 1,
   "metadata": {
    "collapsed": true
   },
   "outputs": [],
   "source": [
    "import numpy as np\n",
    "import pandas as pd\n",
    "from pathlib import Path\n",
    "# Select Product Code 841810, 841840, or 841850\n",
    "Product=841850"
   ]
  },
  {
   "cell_type": "code",
   "execution_count": 2,
   "metadata": {},
   "outputs": [
    {
     "data": {
      "text/plain": [
       "'UK Import Mirror Data\\\\841850-2015-UK-Import-mirror.txt'"
      ]
     },
     "execution_count": 2,
     "metadata": {},
     "output_type": "execute_result"
    }
   ],
   "source": [
    "#'My number is: {one}, and my name is: {two}'.format(one=num,two=name)\n",
    "'UK Import Mirror Data\\{}-2015-UK-Import-mirror.txt'.format(Product)"
   ]
  },
  {
   "cell_type": "code",
   "execution_count": 3,
   "metadata": {
    "collapsed": true
   },
   "outputs": [],
   "source": [
    "#Butun Dosyalar okunur Dosya isimleri duzenlenmelidir.\n",
    "UK_16 = pd.read_csv('UK Import Mirror Data\\{}-2016-UK-Import-mirror.txt'.format(Product),sep='\\t')\n",
    "UK_15 = pd.read_csv('UK Import Mirror Data\\{}-2015-UK-Import-mirror.txt'.format(Product),sep='\\t')\n",
    "UK_13 = pd.read_csv('UK Import Mirror Data\\{}-2013-UK-Import-mirror.txt'.format(Product),sep='\\t')\n",
    "UK_12 = pd.read_csv('UK Import Mirror Data\\{}-2012-UK-Import-mirror.txt'.format(Product),sep='\\t')\n",
    "UK_10 = pd.read_csv('UK Import Mirror Data\\{}-2010-UK-Import-mirror.txt'.format(Product),sep='\\t')\n",
    "UK_08 = pd.read_csv('UK Import Mirror Data\\{}-2008-UK-Import-mirror.txt'.format(Product),sep='\\t')\n",
    "UK_07 = pd.read_csv('UK Import Mirror Data\\{}-2007-UK-Import-mirror.txt'.format(Product),sep='\\t')\n",
    "UK_05 = pd.read_csv('UK Import Mirror Data\\{}-2005-UK-Import-mirror.txt'.format(Product),sep='\\t')\n",
    "UK_04 = pd.read_csv('UK Import Mirror Data\\{}-2004-UK-Import-mirror.txt'.format(Product),sep='\\t')\n"
   ]
  },
  {
   "cell_type": "code",
   "execution_count": 4,
   "metadata": {
    "collapsed": true
   },
   "outputs": [],
   "source": [
    "#Butun Importer bilgisine gore birlestirilir.\n",
    "UK_all = UK_16.merge(UK_15, \n",
    "                        on = 'Exporters',how = 'left').merge(UK_13,\n",
    "                        on = 'Exporters',how = 'left').merge(UK_12, \n",
    "                        on = 'Exporters',how = 'left').merge(UK_10,\n",
    "                        on = 'Exporters',how = 'left').merge(UK_08, \n",
    "                        on = 'Exporters',how = 'left').merge(UK_07,\n",
    "                        on = 'Exporters',how = 'left').merge(UK_05,\n",
    "                        on = 'Exporters',how = 'left').merge(UK_04,\n",
    "                        on = 'Exporters',how = 'left')"
   ]
  },
  {
   "cell_type": "code",
   "execution_count": 5,
   "metadata": {},
   "outputs": [
    {
     "data": {
      "text/plain": [
       "array(['Turkey', 'United States of America', 'South Africa',\n",
       "       'Switzerland', 'New Zealand', 'Australia', 'Austria', 'Belgium',\n",
       "       'Bermuda', 'Bulgaria', 'Canada', 'China', 'Czech Republic',\n",
       "       'Denmark', 'Finland', 'France', 'Germany', 'Greece', 'Hungary',\n",
       "       'Ireland', 'Israel', 'Italy', 'Kenya', 'Korea, Republic of',\n",
       "       'Latvia', 'Lithuania', 'Malaysia', 'Mexico', 'Taipei, Chinese',\n",
       "       'Netherlands', 'Norway', 'Poland', 'Portugal', 'Romania',\n",
       "       'Russian Federation', 'India', 'Singapore', 'Slovakia', 'Slovenia',\n",
       "       'Thailand', 'Spain', 'Sweden'], dtype=object)"
      ]
     },
     "execution_count": 5,
     "metadata": {},
     "output_type": "execute_result"
    }
   ],
   "source": [
    "#O urun grubundaki en fazla hacim yapan ülkelere bakılır. \n",
    "#2016 yılı sonu itibariyle en cok ihracat yapılan ulkeler secilmistir\n",
    "UK_all['Exporters'].unique()"
   ]
  },
  {
   "cell_type": "code",
   "execution_count": 6,
   "metadata": {
    "collapsed": true
   },
   "outputs": [],
   "source": [
    "#Butun okunanların birlestirir, transposunu alır ve index'i kaldırır Bunu urun grubuna göre yapar\n",
    "# 841810 için ilk 5 ülke\n",
    "#'World', 'China', 'Poland', 'Turkey', 'Korea, Republic of', 'Italy'\n",
    "if Product==841810 :\n",
    "    UK_all=UK_all[(\n",
    "    \n",
    "    (UK_all['Exporters']=='Poland') \n",
    "   | (UK_all['Exporters']=='Korea, Republic of')\n",
    "   | (UK_all['Exporters']=='Italy')\n",
    "   | (UK_all['Exporters']=='Turkey')\n",
    "   | (UK_all['Exporters']=='China')        \n",
    "    )].transpose().reset_index()\n",
    "# 841840 için ilk 5 ülke\n",
    "#''World', 'China', 'Turkey', 'Germany', 'Netherlands', 'Hungary',\n",
    "elif Product==841840:\n",
    "    UK_all=UK_all[(\n",
    "    (UK_all['Exporters']=='World')  \n",
    "   | (UK_all['Exporters']=='Germany') \n",
    "   | (UK_all['Exporters']=='Netherlands')\n",
    "   | (UK_all['Exporters']=='Hungary')\n",
    "   | (UK_all['Exporters']=='Turkey')\n",
    "   | (UK_all['Exporters']=='China')        \n",
    "\n",
    "    )].transpose().reset_index()\n",
    "\n",
    "# 841850 için ilk 5 ülke\n",
    "#'World', 'China', 'Turkey', 'Austria', 'Czech Republic', 'Italy',\n",
    "#       \n",
    "\n",
    "elif Product==841850:\n",
    "    UK_all=UK_all[(\n",
    "    (UK_all['Exporters']=='World')  \n",
    "   | (UK_all['Exporters']=='Austria') \n",
    "   | (UK_all['Exporters']=='Czech Republic')\n",
    "   | (UK_all['Exporters']=='Italy')\n",
    "   | (UK_all['Exporters']=='Turkey')\n",
    "   | (UK_all['Exporters']=='China')        \n",
    "\n",
    "    )].transpose().reset_index()"
   ]
  },
  {
   "cell_type": "code",
   "execution_count": null,
   "metadata": {
    "collapsed": true
   },
   "outputs": [],
   "source": [
    "UK_all"
   ]
  },
  {
   "cell_type": "code",
   "execution_count": 7,
   "metadata": {
    "collapsed": true
   },
   "outputs": [],
   "source": [
    "# İlk Satırı Kolon isimleri yapar ve NaN olan satırları siler \n",
    "UK_all.columns = UK_all.iloc[0]\n",
    "UK_all=UK_all.reindex(UK_all.index.drop(0))\n",
    "\n",
    "\n",
    "#UK_all=UK_all.dropna(thresh=5)\n",
    "UK_all.loc[:, 'Date'] = 0\n",
    "\n",
    "i=UK_all[UK_all['Exporters'].str.contains(\"Unnamed\")==True].index\n",
    "UK_all.drop(i,inplace=True)"
   ]
  },
  {
   "cell_type": "code",
   "execution_count": 8,
   "metadata": {
    "collapsed": true
   },
   "outputs": [],
   "source": [
    "#if Product==841840 :\n",
    "#    UK_all=UK_all.drop_duplicates(subset=['World', 'Germany'])\n",
    "#else:\n",
    "#    UK_all=UK_all.drop_duplicates('World')"
   ]
  },
  {
   "cell_type": "code",
   "execution_count": 9,
   "metadata": {},
   "outputs": [
    {
     "data": {
      "text/plain": [
       "0\n",
       "Exporters         0\n",
       "Turkey            0\n",
       "Austria           0\n",
       "China             0\n",
       "Czech Republic    0\n",
       "Italy             0\n",
       "Date              0\n",
       "dtype: int64"
      ]
     },
     "execution_count": 9,
     "metadata": {},
     "output_type": "execute_result"
    }
   ],
   "source": [
    "UK_all[UK_all['Exporters']=='Unnamed: 21_x'].count()"
   ]
  },
  {
   "cell_type": "code",
   "execution_count": 10,
   "metadata": {
    "collapsed": true
   },
   "outputs": [],
   "source": [
    "def finddate(expression):\n",
    "        \n",
    "    year=expression.split('-M')[0]\n",
    "    year=year.split()[3]\n",
    "    month=expression.split('-M')[1]\n",
    "    month=month.split('_')[0]\n",
    "    date=int(year+month)\n",
    "\n",
    "    return date"
   ]
  },
  {
   "cell_type": "code",
   "execution_count": 11,
   "metadata": {
    "collapsed": true
   },
   "outputs": [],
   "source": [
    "for num in range(0,UK_all.shape[0]):\n",
    "    UK_all.iloc[num,6]=finddate(UK_all.iloc[num,0])"
   ]
  },
  {
   "cell_type": "code",
   "execution_count": 12,
   "metadata": {
    "collapsed": true
   },
   "outputs": [],
   "source": [
    "UK_all.drop('Exporters',axis=1,inplace=True)\n",
    "UK_all=UK_all.sort_values(by='Date', ascending=1)\n",
    "\n",
    "UK_all=UK_all.drop_duplicates('Date')"
   ]
  },
  {
   "cell_type": "code",
   "execution_count": 13,
   "metadata": {
    "collapsed": true
   },
   "outputs": [],
   "source": [
    "if Product==841810 :\n",
    "    UK_all=UK_all.reindex(columns=['Turkey','China','Poland','Korea, Republic of','Italy','Date'])\n",
    "\n",
    "    UK_all=UK_all.rename(columns = {'Turkey':'TUR_GBR_841810'})\n",
    "    UK_all['TUR_GBR_841810-1'] = UK_all['TUR_GBR_841810'].shift(1)\n",
    "    UK_all['TUR_GBR_841810-2'] = UK_all['TUR_GBR_841810'].shift(2)\n",
    "    UK_all['TUR_GBR_841810-3'] = UK_all['TUR_GBR_841810'].shift(3)\n",
    "    UK_all['TUR_GBR_841810-6'] = UK_all['TUR_GBR_841810'].shift(6)\n",
    "    UK_all['TUR_GBR_841810-12'] = UK_all['TUR_GBR_841810'].shift(12)\n",
    "\n",
    "    UK_all=UK_all.rename(columns = {'China':'CHN_GBR_841810'})\n",
    "    UK_all['CHN_GBR_841810-1'] = UK_all['CHN_GBR_841810'].shift(1)\n",
    "    UK_all['CHN_GBR_841810-2'] = UK_all['CHN_GBR_841810'].shift(2)\n",
    "    UK_all['CHN_GBR_841810-3'] = UK_all['CHN_GBR_841810'].shift(3)\n",
    "    UK_all['CHN_GBR_841810-6'] = UK_all['CHN_GBR_841810'].shift(6)\n",
    "    UK_all['CHN_GBR_841810-12'] = UK_all['CHN_GBR_841810'].shift(12)\n",
    "\n",
    "    UK_all=UK_all.rename(columns = {'Poland':'POL_GBR_841810'})\n",
    "    UK_all['POL_GBR_841810-1'] = UK_all['POL_GBR_841810'].shift(1)\n",
    "    UK_all['POL_GBR_841810-2'] = UK_all['POL_GBR_841810'].shift(2)\n",
    "    UK_all['POL_GBR_841810-3'] = UK_all['POL_GBR_841810'].shift(3)\n",
    "    UK_all['POL_GBR_841810-6'] = UK_all['POL_GBR_841810'].shift(6)\n",
    "    UK_all['POL_GBR_841810-12'] = UK_all['POL_GBR_841810'].shift(12)\n",
    "\n",
    "    UK_all=UK_all.rename(columns = {'Korea, Republic of':'KOR_GBR_841810'})\n",
    "    UK_all['KOR_GBR_841810-1'] = UK_all['KOR_GBR_841810'].shift(1)\n",
    "    UK_all['KOR_GBR_841810-2'] = UK_all['KOR_GBR_841810'].shift(2)\n",
    "    UK_all['KOR_GBR_841810-3'] = UK_all['KOR_GBR_841810'].shift(3)\n",
    "    UK_all['KOR_GBR_841810-6'] = UK_all['KOR_GBR_841810'].shift(6)\n",
    "    UK_all['KOR_GBR_841810-12'] = UK_all['KOR_GBR_841810'].shift(12)\n",
    "\n",
    "    UK_all=UK_all.rename(columns = {'Italy':'ITA_GBR_841810'})\n",
    "    UK_all['ITA_GBR_841810-1'] = UK_all['ITA_GBR_841810'].shift(1)\n",
    "    UK_all['ITA_GBR_841810-2'] = UK_all['ITA_GBR_841810'].shift(2)\n",
    "    UK_all['ITA_GBR_841810-3'] = UK_all['ITA_GBR_841810'].shift(3)\n",
    "    UK_all['ITA_GBR_841810-6'] = UK_all['ITA_GBR_841810'].shift(6)\n",
    "    UK_all['ITA_GBR_841810-12'] = UK_all['ITA_GBR_841810'].shift(12)\n",
    "\n",
    "elif Product==841840:\n",
    "\n",
    "    UK_all=UK_all.reindex(columns=['Turkey','China','Germany','Netherlands','Hungary','Date'])\n",
    "    UK_all=UK_all.rename(columns = {'Turkey':'TUR_GBR_841840'})\n",
    "    UK_all['TUR_GBR_841840-1'] = UK_all['TUR_GBR_841840'].shift(1)\n",
    "    UK_all['TUR_GBR_841840-2'] = UK_all['TUR_GBR_841840'].shift(2)\n",
    "    UK_all['TUR_GBR_841840-3'] = UK_all['TUR_GBR_841840'].shift(3)\n",
    "    UK_all['TUR_GBR_841840-6'] = UK_all['TUR_GBR_841840'].shift(6)\n",
    "    UK_all['TUR_GBR_841840-12'] = UK_all['TUR_GBR_841840'].shift(12)\n",
    "\n",
    "    UK_all=UK_all.rename(columns = {'China':'CHN_GBR_841840'})\n",
    "    UK_all['CHN_GBR_841840-1'] = UK_all['CHN_GBR_841840'].shift(1)\n",
    "    UK_all['CHN_GBR_841840-2'] = UK_all['CHN_GBR_841840'].shift(2)\n",
    "    UK_all['CHN_GBR_841840-3'] = UK_all['CHN_GBR_841840'].shift(3)\n",
    "    UK_all['CHN_GBR_841840-6'] = UK_all['CHN_GBR_841840'].shift(6)\n",
    "    UK_all['CHN_GBR_841840-12'] = UK_all['CHN_GBR_841840'].shift(12)\n",
    "\n",
    "    \n",
    "    UK_all=UK_all.rename(columns = {'Germany':'DEU_GBR_841840'})\n",
    "    UK_all['DEU_GBR_841840-1'] = UK_all['DEU_GBR_841840'].shift(1)\n",
    "    UK_all['DEU_GBR_841840-2'] = UK_all['DEU_GBR_841840'].shift(2)\n",
    "    UK_all['DEU_GBR_841840-3'] = UK_all['DEU_GBR_841840'].shift(3)\n",
    "    UK_all['DEU_GBR_841840-6'] = UK_all['DEU_GBR_841840'].shift(6)\n",
    "    UK_all['DEU_GBR_841840-12'] = UK_all['DEU_GBR_841840'].shift(12)\n",
    "\n",
    "    UK_all=UK_all.rename(columns = {'Netherlands':'NLD_GBR_841840'})\n",
    "    UK_all['NLD_GBR_841840-1'] = UK_all['NLD_GBR_841840'].shift(1)\n",
    "    UK_all['NLD_GBR_841840-2'] = UK_all['NLD_GBR_841840'].shift(2)\n",
    "    UK_all['NLD_GBR_841840-3'] = UK_all['NLD_GBR_841840'].shift(3)\n",
    "    UK_all['NLD_GBR_841840-6'] = UK_all['NLD_GBR_841840'].shift(6)\n",
    "    UK_all['NLD_GBR_841840-12'] = UK_all['NLD_GBR_841840'].shift(12)\n",
    "\n",
    "    UK_all=UK_all.rename(columns = {'Hungary':'HUN_GBR_841840'})\n",
    "    UK_all['HUN_GBR_841840-1'] = UK_all['HUN_GBR_841840'].shift(1)\n",
    "    UK_all['HUN_GBR_841840-2'] = UK_all['HUN_GBR_841840'].shift(2)\n",
    "    UK_all['HUN_GBR_841840-3'] = UK_all['HUN_GBR_841840'].shift(3)\n",
    "    UK_all['HUN_GBR_841840-6'] = UK_all['HUN_GBR_841840'].shift(6)\n",
    "    UK_all['HUN_GBR_841840-12'] = UK_all['HUN_GBR_841840'].shift(12)\n",
    "    \n",
    "elif Product==841850:\n",
    "    UK_all=UK_all.reindex(columns=['Turkey','China','Austria','Czech Republic','Italy','Date'])\n",
    "    UK_all=UK_all.rename(columns = {'Turkey':'TUR_GBR_841850'})\n",
    "    UK_all['TUR_GBR_841850-1'] = UK_all['TUR_GBR_841850'].shift(1)\n",
    "    UK_all['TUR_GBR_841850-2'] = UK_all['TUR_GBR_841850'].shift(2)\n",
    "    UK_all['TUR_GBR_841850-3'] = UK_all['TUR_GBR_841850'].shift(3)\n",
    "    UK_all['TUR_GBR_841850-6'] = UK_all['TUR_GBR_841850'].shift(6)\n",
    "    UK_all['TUR_GBR_841850-12'] = UK_all['TUR_GBR_841850'].shift(12)\n",
    "\n",
    "    UK_all=UK_all.rename(columns = {'China':'CHN_GBR_841850'})\n",
    "    UK_all['CHN_GBR_841850-1'] = UK_all['CHN_GBR_841850'].shift(1)\n",
    "    UK_all['CHN_GBR_841850-2'] = UK_all['CHN_GBR_841850'].shift(2)\n",
    "    UK_all['CHN_GBR_841850-3'] = UK_all['CHN_GBR_841850'].shift(3)\n",
    "    UK_all['CHN_GBR_841850-6'] = UK_all['CHN_GBR_841850'].shift(6)\n",
    "    UK_all['CHN_GBR_841850-12'] = UK_all['CHN_GBR_841850'].shift(12)\n",
    "\n",
    "    \n",
    "    UK_all=UK_all.rename(columns = {'Austria':'AUT_GBR_841850'})\n",
    "    UK_all['AUT_GBR_841850-1'] = UK_all['AUT_GBR_841850'].shift(1)\n",
    "    UK_all['AUT_GBR_841850-2'] = UK_all['AUT_GBR_841850'].shift(2)\n",
    "    UK_all['AUT_GBR_841850-3'] = UK_all['AUT_GBR_841850'].shift(3)\n",
    "    UK_all['AUT_GBR_841850-6'] = UK_all['AUT_GBR_841850'].shift(6)\n",
    "    UK_all['AUT_GBR_841850-12'] = UK_all['AUT_GBR_841850'].shift(12)\n",
    "\n",
    "    UK_all=UK_all.rename(columns = {'Czech Republic':'CHZ_GBR_841850'})\n",
    "    UK_all['CHZ_GBR_841850-1'] = UK_all['CHZ_GBR_841850'].shift(1)\n",
    "    UK_all['CHZ_GBR_841850-2'] = UK_all['CHZ_GBR_841850'].shift(2)\n",
    "    UK_all['CHZ_GBR_841850-3'] = UK_all['CHZ_GBR_841850'].shift(3)\n",
    "    UK_all['CHZ_GBR_841850-6'] = UK_all['CHZ_GBR_841850'].shift(6)\n",
    "    UK_all['CHZ_GBR_841850-12'] = UK_all['CHZ_GBR_841850'].shift(12)\n",
    "\n",
    "    UK_all=UK_all.rename(columns = {'Italy':'ITA_GBR_841850'})\n",
    "    UK_all['ITA_GBR_841850-1'] = UK_all['ITA_GBR_841850'].shift(1)\n",
    "    UK_all['ITA_GBR_841850-2'] = UK_all['ITA_GBR_841850'].shift(2)\n",
    "    UK_all['ITA_GBR_841850-3'] = UK_all['ITA_GBR_841850'].shift(3)\n",
    "    UK_all['ITA_GBR_841850-6'] = UK_all['ITA_GBR_841850'].shift(6)\n",
    "    UK_all['ITA_GBR_841850-12'] = UK_all['ITA_GBR_841850'].shift(12)"
   ]
  },
  {
   "cell_type": "code",
   "execution_count": 14,
   "metadata": {
    "collapsed": true
   },
   "outputs": [],
   "source": [
    "UK_all=UK_all.drop_duplicates('Date')\n",
    "#UK_all=UK_all.dropna()\n",
    "UK_all.to_excel('{}_GBR_all.xlsx'.format(Product),index = False)"
   ]
  },
  {
   "cell_type": "code",
   "execution_count": null,
   "metadata": {
    "collapsed": true
   },
   "outputs": [],
   "source": []
  }
 ],
 "metadata": {
  "kernelspec": {
   "display_name": "Python 3",
   "language": "python",
   "name": "python3"
  },
  "language_info": {
   "codemirror_mode": {
    "name": "ipython",
    "version": 3
   },
   "file_extension": ".py",
   "mimetype": "text/x-python",
   "name": "python",
   "nbconvert_exporter": "python",
   "pygments_lexer": "ipython3",
   "version": "3.6.2"
  }
 },
 "nbformat": 4,
 "nbformat_minor": 2
}
