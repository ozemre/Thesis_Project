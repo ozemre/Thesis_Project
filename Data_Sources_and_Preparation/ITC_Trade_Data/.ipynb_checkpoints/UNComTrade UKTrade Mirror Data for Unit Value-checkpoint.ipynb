{
 "cells": [
  {
   "cell_type": "code",
   "execution_count": 59,
   "metadata": {
    "collapsed": true
   },
   "outputs": [],
   "source": [
    "import numpy as np\n",
    "import pandas as pd\n",
    "from pathlib import Path\n",
    "\n",
    "import sys\n",
    "import warnings\n",
    "\n",
    "if not sys.warnoptions:\n",
    "    warnings.simplefilter(\"ignore\")\n",
    "    \n",
    "# Select Product Code 841810, 841840, or 841850\n",
    "Product=841810"
   ]
  },
  {
   "cell_type": "code",
   "execution_count": 60,
   "metadata": {},
   "outputs": [
    {
     "data": {
      "text/plain": [
       "'UK Import Mirror Data - Unit Value\\\\841810-2015-UK-Import-mirror-Unit-Value.txt'"
      ]
     },
     "execution_count": 60,
     "metadata": {},
     "output_type": "execute_result"
    }
   ],
   "source": [
    "#'My number is: {one}, and my name is: {two}'.format(one=num,two=name)\n",
    "'UK Import Mirror Data - Unit Value\\{}-2015-UK-Import-mirror-Unit-Value.txt'.format(Product)"
   ]
  },
  {
   "cell_type": "code",
   "execution_count": 61,
   "metadata": {
    "collapsed": true
   },
   "outputs": [],
   "source": [
    "#Butun Dosyalar okunur Dosya isimleri duzenlenmelidir.\n",
    "UK_16 = pd.read_csv('UK Import Mirror Data - Unit Value\\{}-2016-UK-Import-mirror-Unit-Value.txt'.format(Product),sep='\\t')\n",
    "UK_15 = pd.read_csv('UK Import Mirror Data - Unit Value\\{}-2015-UK-Import-mirror-Unit-Value.txt'.format(Product),sep='\\t')\n",
    "UK_13 = pd.read_csv('UK Import Mirror Data - Unit Value\\{}-2013-UK-Import-mirror-Unit-Value.txt'.format(Product),sep='\\t')\n",
    "UK_12 = pd.read_csv('UK Import Mirror Data - Unit Value\\{}-2012-UK-Import-mirror-Unit-Value.txt'.format(Product),sep='\\t')\n",
    "UK_10 = pd.read_csv('UK Import Mirror Data - Unit Value\\{}-2010-UK-Import-mirror-Unit-Value.txt'.format(Product),sep='\\t')\n",
    "UK_09 = pd.read_csv('UK Import Mirror Data - Unit Value\\{}-2009-UK-Import-mirror-Unit-Value.txt'.format(Product),sep='\\t')\n",
    "UK_07 = pd.read_csv('UK Import Mirror Data - Unit Value\\{}-2007-UK-Import-mirror-Unit-Value.txt'.format(Product),sep='\\t')\n",
    "UK_05 = pd.read_csv('UK Import Mirror Data - Unit Value\\{}-2005-UK-Import-mirror-Unit-Value.txt'.format(Product),sep='\\t')\n",
    "UK_04 = pd.read_csv('UK Import Mirror Data - Unit Value\\{}-2004-UK-Import-mirror-Unit-Value.txt'.format(Product),sep='\\t')"
   ]
  },
  {
   "cell_type": "code",
   "execution_count": 62,
   "metadata": {
    "collapsed": true
   },
   "outputs": [],
   "source": [
    "#Butun Importer bilgisine gore birlestirilir.\n",
    "UK_all = UK_16.merge(UK_15, \n",
    "                       \n",
    "                        on = 'Exporters',how = 'left').merge(UK_13,\n",
    "                        on = 'Exporters',how = 'left').merge(UK_12, \n",
    "                        on = 'Exporters',how = 'left').merge(UK_10,\n",
    "                        on = 'Exporters',how = 'left').merge(UK_09, \n",
    "                        on = 'Exporters',how = 'left').merge(UK_07,\n",
    "                        on = 'Exporters',how = 'left').merge(UK_05,\n",
    "                        on = 'Exporters',how = 'left').merge(UK_04,\n",
    "                        on = 'Exporters',how = 'left')\n"
   ]
  },
  {
   "cell_type": "code",
   "execution_count": 63,
   "metadata": {},
   "outputs": [
    {
     "data": {
      "text/plain": [
       "array(['Turkey', 'Korea, Republic of', 'United States of America',\n",
       "       'Lithuania', 'Mexico', 'Netherlands', 'Norway', 'Philippines',\n",
       "       'Poland', 'Portugal', 'Romania', 'Serbia', 'India', 'Singapore',\n",
       "       'Slovakia', 'Slovenia', 'South Africa', 'Spain', 'Switzerland',\n",
       "       'Thailand', 'Australia', 'Austria', 'Belgium', 'Bermuda',\n",
       "       'Bulgaria', 'Canada', 'China', 'Czech Republic', 'Denmark',\n",
       "       'Estonia', 'France', 'Germany', 'Greece', 'Hungary', 'Ireland',\n",
       "       'Italy'], dtype=object)"
      ]
     },
     "execution_count": 63,
     "metadata": {},
     "output_type": "execute_result"
    }
   ],
   "source": [
    "#O urun grubundaki en fazla hacim yapan ülkelere bakılır. \n",
    "#2016 yılı sonu itibariyle en cok ihracat yapılan ulkeler secilmistir\n",
    "UK_all['Exporters'].unique()"
   ]
  },
  {
   "cell_type": "code",
   "execution_count": 64,
   "metadata": {
    "collapsed": true
   },
   "outputs": [],
   "source": [
    "%matplotlib inline\n",
    "import matplotlib.pyplot as plt\n",
    "plt.style.use('seaborn-whitegrid')\n"
   ]
  },
  {
   "cell_type": "code",
   "execution_count": 65,
   "metadata": {
    "collapsed": true
   },
   "outputs": [],
   "source": [
    "# 841810 için ilk 5 ülke\n",
    "#'World', 'China', 'Poland', 'Turkey', 'Korea, Republic of', 'Italy'\n",
    "if Product==841810 :\n",
    "    Top_Exporters=['China','Turkey','Poland','Korea, Republic of','Italy']\n",
    "\n",
    "# 841840 için ilk 5 ülke\n",
    "#''World', 'China', 'Turkey', 'Germany', 'Netherlands', 'Hungary',\n",
    "elif Product==841840:\n",
    "    Top_Exporters=['China', 'Turkey', 'Germany', 'Netherlands', 'Hungary']\n",
    "    \n",
    "# 841850 için ilk 5 ülke\n",
    "#'World', 'China', 'Turkey', 'Austria', 'Czech Republic', 'Italy',\n",
    "#       \n",
    "\n",
    "elif Product==841850:\n",
    "    Top_Exporters=[ 'China', 'Turkey', 'Austria', 'Czech Republic', 'Italy']\n"
   ]
  },
  {
   "cell_type": "code",
   "execution_count": 66,
   "metadata": {
    "collapsed": true
   },
   "outputs": [],
   "source": [
    "def get_top_exporters_data(dataframe,EXP1,EXP2,EXP3,EXP4,EXP5):\n",
    "   \n",
    "    dataframe=dataframe[(\n",
    "    \n",
    "    (dataframe['Exporters']==EXP1) \n",
    "   | (dataframe['Exporters']==EXP2)\n",
    "   | (dataframe['Exporters']==EXP3)\n",
    "   | (dataframe['Exporters']==EXP4)\n",
    "   | (dataframe['Exporters']==EXP5)        \n",
    "    )]\n",
    "\n",
    "    return dataframe"
   ]
  },
  {
   "cell_type": "code",
   "execution_count": 67,
   "metadata": {
    "collapsed": true
   },
   "outputs": [],
   "source": [
    "UK_all=get_top_exporters_data(UK_all,Top_Exporters[0],Top_Exporters[1],Top_Exporters[2],Top_Exporters[3],Top_Exporters[4])"
   ]
  },
  {
   "cell_type": "code",
   "execution_count": null,
   "metadata": {
    "collapsed": true
   },
   "outputs": [],
   "source": []
  },
  {
   "cell_type": "code",
   "execution_count": 68,
   "metadata": {
    "collapsed": true
   },
   "outputs": [],
   "source": [
    "columnnames_unit_value=UK_all.columns[UK_all.columns.str.contains('Exporters|-Imported unit value') ]\n",
    "columnnames_unit=UK_all.columns[UK_all.columns.str.contains('Exporters|-Unit') ]\n",
    "\n",
    "UK_all_unit_value=UK_all[columnnames_unit_value].transpose()\n",
    "UK_all_unit=UK_all[columnnames_unit].transpose()"
   ]
  },
  {
   "cell_type": "code",
   "execution_count": 69,
   "metadata": {
    "collapsed": true,
    "scrolled": true
   },
   "outputs": [],
   "source": [
    "def preparation_of_dataframe(dataframe):\n",
    "        \n",
    "    dataframe.reset_index(inplace=True)\n",
    "    dataframe.columns = dataframe.iloc[0]\n",
    "    dataframe.drop(0, inplace=True)\n",
    "    dataframe.loc[:, 'Date'] = 0\n",
    "    lastcolumn= dataframe.shape[1]-1\n",
    "    for num in range(0,dataframe.shape[0]):\n",
    "        dataframe.iloc[num,lastcolumn]=finddate(dataframe.iloc[num,0])\n",
    "\n",
    "    dataframe.drop('Exporters',axis=1,inplace=True)\n",
    "    dataframe=dataframe.sort_values(by='Date', ascending=1)\n",
    "\n",
    "    dataframe=dataframe.drop_duplicates('Date')  \n",
    "\n",
    "    return dataframe"
   ]
  },
  {
   "cell_type": "code",
   "execution_count": 70,
   "metadata": {
    "collapsed": true
   },
   "outputs": [],
   "source": [
    "def finddate(expression):\n",
    "        \n",
    "    year=expression.split('-M')[0]\n",
    "#    year=year.split()[3]\n",
    "    month=expression.split('-M')[1]\n",
    "    month=month.split('-')[0]\n",
    "    date=int(year+month)\n",
    "\n",
    "    return date"
   ]
  },
  {
   "cell_type": "code",
   "execution_count": 71,
   "metadata": {
    "collapsed": true
   },
   "outputs": [],
   "source": [
    "def unifyunit(value, unit):\n",
    "    changed_number_of_units=0   \n",
    "    if unit == 'US Dollar/Tons':\n",
    "    \n",
    "        value = value/1000\n",
    "        unit = 'US Dollar/Kilograms'\n",
    "        changed_number_of_units=1\n",
    "        \n",
    "    return value,unit,changed_number_of_units"
   ]
  },
  {
   "cell_type": "code",
   "execution_count": 72,
   "metadata": {
    "collapsed": true
   },
   "outputs": [],
   "source": [
    "UK_all_unit_value=preparation_of_dataframe(UK_all_unit_value)\n",
    "\n",
    "UK_all_unit=preparation_of_dataframe(UK_all_unit)\n",
    "UK_all_unit.fillna(0,inplace=True)"
   ]
  },
  {
   "cell_type": "code",
   "execution_count": 73,
   "metadata": {
    "collapsed": true
   },
   "outputs": [],
   "source": [
    "UK_all= UK_all_unit_value.merge(UK_all_unit,                      \n",
    "                        on = 'Date',how = 'left')"
   ]
  },
  {
   "cell_type": "code",
   "execution_count": 74,
   "metadata": {
    "collapsed": true,
    "scrolled": true
   },
   "outputs": [],
   "source": [
    "exp1_column=UK_all.columns[UK_all.columns.str.contains(Top_Exporters[0])]\n",
    "exp2_column=UK_all.columns[UK_all.columns.str.contains(Top_Exporters[1])]\n",
    "exp3_column=UK_all.columns[UK_all.columns.str.contains(Top_Exporters[2])]\n",
    "exp4_column=UK_all.columns[UK_all.columns.str.contains(Top_Exporters[3])]\n",
    "exp5_column=UK_all.columns[UK_all.columns.str.contains(Top_Exporters[4])]\n",
    "#UK_all[['Date',exp1_column,exp2_column]]"
   ]
  },
  {
   "cell_type": "code",
   "execution_count": 75,
   "metadata": {
    "collapsed": true
   },
   "outputs": [],
   "source": [
    "#To get exporter dependent column names \n",
    "\n",
    "#columnname_for_unit_value=UK_all.columns[UK_all.columns.str.contains(Top_Exporters[0])][0]\n",
    "#columnname_for_unit=UK_all.columns[UK_all.columns.str.contains(Top_Exporters[0])][1]"
   ]
  },
  {
   "cell_type": "code",
   "execution_count": 76,
   "metadata": {},
   "outputs": [
    {
     "name": "stdout",
     "output_type": "stream",
     "text": [
      "Number unit changes for China 4\n",
      "Number unit changes for Turkey 10\n",
      "Number unit changes for Poland 12\n",
      "Number unit changes for Korea, Republic of 2\n",
      "Number unit changes for Italy 5\n"
     ]
    }
   ],
   "source": [
    "number_of_exporters=len(Top_Exporters)\n",
    "for exporter_number in range(0,number_of_exporters):\n",
    "    \n",
    "    columnname_for_unit_value=UK_all.columns[UK_all.columns.str.contains(Top_Exporters[exporter_number])][0]\n",
    "    columnname_for_unit=UK_all.columns[UK_all.columns.str.contains(Top_Exporters[exporter_number])][1]\n",
    "    \n",
    "    #to find number of changes in units - shift and check then get the count of of number of changes\n",
    "    UK_all[Top_Exporters[exporter_number]+'_unit_change']=UK_all[columnname_for_unit]!=UK_all[columnname_for_unit].shift()\n",
    "    print('Number unit changes for',Top_Exporters[exporter_number],\n",
    "          UK_all[Top_Exporters[exporter_number]+'_unit_change'].value_counts()[1])\n",
    "    "
   ]
  },
  {
   "cell_type": "code",
   "execution_count": 77,
   "metadata": {
    "collapsed": true
   },
   "outputs": [],
   "source": [
    "UK_all=UK_all.reindex(columns=\n",
    "                      ['Date',\n",
    "        exp1_column[0],exp1_column[1] ,Top_Exporters[0]+'_unit_change',\n",
    "        exp2_column[0],exp2_column[1] ,Top_Exporters[1]+'_unit_change',\n",
    "        exp3_column[0],exp3_column[1] ,Top_Exporters[2]+'_unit_change',\n",
    "        exp4_column[0],exp4_column[1] ,Top_Exporters[3]+'_unit_change',\n",
    "        exp5_column[0],exp5_column[1] ,Top_Exporters[4]+'_unit_change' \n",
    "           ]\n",
    "                     )"
   ]
  },
  {
   "cell_type": "code",
   "execution_count": 78,
   "metadata": {
    "collapsed": true
   },
   "outputs": [],
   "source": [
    "\n",
    "UK_all_modified  = pd.DataFrame(index=UK_all.index,columns = UK_all.columns)\n",
    "UK_all_modified_ = UK_all_modified.fillna(0)\n",
    "\n",
    "UK_all_modified_unit  = pd.DataFrame(index=UK_all.index,columns = UK_all.columns)\n",
    "UK_all_modified_unit = UK_all_modified_unit.fillna(0)\n"
   ]
  },
  {
   "cell_type": "code",
   "execution_count": 79,
   "metadata": {
    "scrolled": true
   },
   "outputs": [
    {
     "name": "stdout",
     "output_type": "stream",
     "text": [
      "China\n",
      "Number unit changes 4\n",
      "Changed Units from ton to kg= 0\n",
      "Number unit changes after ton conversion 4\n",
      "*****************************************\n",
      "Turkey\n",
      "Number unit changes 10\n",
      "Changed Units from ton to kg= 0\n",
      "Number unit changes after ton conversion 10\n",
      "*****************************************\n",
      "Poland\n",
      "Number unit changes 12\n",
      "Changed Units from ton to kg= 156\n",
      "Number unit changes after ton conversion 11\n",
      "*****************************************\n",
      "Korea, Republic of\n",
      "Number unit changes 2\n",
      "Changed Units from ton to kg= 0\n",
      "Number unit changes after ton conversion 2\n",
      "*****************************************\n",
      "Italy\n",
      "Number unit changes 5\n",
      "Changed Units from ton to kg= 117\n",
      "Number unit changes after ton conversion 4\n",
      "*****************************************\n"
     ]
    }
   ],
   "source": [
    "number_of_row=UK_all.shape[0]\n",
    "number_of_exporters=len(Top_Exporters)\n",
    "\n",
    "\n",
    "for exporter_number in range(0,number_of_exporters):\n",
    "    changed_number_of_units=0\n",
    "    columnname_for_unit_value=UK_all.columns[UK_all.columns.str.contains(Top_Exporters[exporter_number])][0]\n",
    "    columnname_for_unit=UK_all.columns[UK_all.columns.str.contains(Top_Exporters[exporter_number])][1]\n",
    "    \n",
    "    print(Top_Exporters[exporter_number])\n",
    "#    print(UK_all[columnname_for_unit].value_counts())\n",
    "#    print(UK_all[columnname_for_unit].unique())\n",
    "    \n",
    "    #to find number of changes in units - shift and check then get the count of of number of changes\n",
    "    print('Number unit changes',UK_all[Top_Exporters[exporter_number]+'_unit_change'].value_counts()[1])\n",
    "    \n",
    "    \n",
    "    for row_number in range(0,number_of_row):\n",
    "        \n",
    "        value=UK_all[columnname_for_unit_value][row_number]\n",
    "        unit=UK_all[columnname_for_unit][row_number]\n",
    "\n",
    "        result=unifyunit(value, unit)\n",
    "        UK_all_modified[columnname_for_unit_value][row_number]=result[0]\n",
    "        UK_all_modified[columnname_for_unit][row_number]=result[1]\n",
    "        \n",
    "        changed_number_of_units=changed_number_of_units+result[2]\n",
    "  \n",
    "        \n",
    "    print('Changed Units from ton to kg=',changed_number_of_units)\n",
    "   \n",
    "    #to find number of changes in units - shift and check then get the count of of number of changes\n",
    "    UK_all_modified[Top_Exporters[exporter_number]+'_unit_change']=UK_all_modified[columnname_for_unit]!=UK_all_modified[columnname_for_unit].shift()\n",
    "    print('Number unit changes after ton conversion',UK_all_modified[Top_Exporters[exporter_number]+'_unit_change'].value_counts()[1])\n",
    "\n",
    "    #    print(pd.concat([UK_all,UK_all_modified]).drop_duplicates(keep=False))\n",
    "#    print(UK_all_modified[columnname_for_unit].value_counts())\n",
    "    print('*****************************************')"
   ]
  },
  {
   "cell_type": "code",
   "execution_count": 80,
   "metadata": {
    "collapsed": true
   },
   "outputs": [],
   "source": [
    "\n",
    "#To check difference between two dataframes\n",
    "#print(pd.concat([UK_all,UK_all_modified]).drop_duplicates(keep=False))"
   ]
  },
  {
   "cell_type": "code",
   "execution_count": 81,
   "metadata": {
    "collapsed": true
   },
   "outputs": [],
   "source": [
    "writer = pd.ExcelWriter('Unit Value Analysis for selection of features\\{}_Import_Values.xlsx'.format(Product))\n",
    "\n",
    "UK_all.to_excel(writer,'Original_Units',index = False,)\n",
    "UK_all_modified.to_excel(writer,'After_Unit_conv',index = False,)\n",
    "    \n",
    "writer.save()"
   ]
  },
  {
   "cell_type": "code",
   "execution_count": 82,
   "metadata": {
    "collapsed": true
   },
   "outputs": [],
   "source": [
    "\n",
    "#columnnames=UK_all.columns[UK_all.columns.str.contains('-Imported unit value|-Unit') ]\n"
   ]
  },
  {
   "cell_type": "code",
   "execution_count": 83,
   "metadata": {
    "collapsed": true,
    "scrolled": true
   },
   "outputs": [],
   "source": [
    "exporter_number=0\n",
    "columnname_for_unit=UK_all.columns[UK_all.columns.str.contains(Top_Exporters[exporter_number])][1]\n",
    "columnname_for_unit_value=UK_all.columns[UK_all.columns.str.contains(Top_Exporters[exporter_number])][0]\n",
    "#number_of_turn=len(startindex)\n",
    "\n",
    "startindex=UK_all[\n",
    "        (UK_all[Top_Exporters[exporter_number]+'_unit_change']==True) &\n",
    "        (UK_all[columnname_for_unit]=='US Dollar/Units' )\n",
    "      ].index\n",
    "\n",
    "\n",
    "endindex=UK_all[\n",
    "        (UK_all[Top_Exporters[exporter_number]+'_unit_change']==True) &\n",
    "        (UK_all[columnname_for_unit]=='US Dollar/Kilograms' )\n",
    "      ].index\n",
    "\n"
   ]
  },
  {
   "cell_type": "code",
   "execution_count": 84,
   "metadata": {},
   "outputs": [
    {
     "name": "stdout",
     "output_type": "stream",
     "text": [
      "count     152.00\n",
      "unique    103.00\n",
      "top         3.53\n",
      "freq        5.00\n",
      "Name: Turkey_x, dtype: float64\n"
     ]
    },
    {
     "data": {
      "text/plain": [
       "<matplotlib.axes._subplots.AxesSubplot at 0x224fca746d8>"
      ]
     },
     "execution_count": 84,
     "metadata": {},
     "output_type": "execute_result"
    },
    {
     "data": {
      "image/png": "[encoded data removed]",
      "text/plain": [
       "<matplotlib.figure.Figure at 0x224fedf4668>"
      ]
     },
     "metadata": {},
     "output_type": "display_data"
    }
   ],
   "source": [
    "#Turkey Plot\n",
    "exporter_number=1\n",
    "columnname_for_unit=UK_all.columns[UK_all.columns.str.contains(Top_Exporters[exporter_number])][1]\n",
    "columnname_for_unit_value=UK_all.columns[UK_all.columns.str.contains(Top_Exporters[exporter_number])][0]\n",
    "z=UK_all[columnname_for_unit_value]\n",
    "print(z.describe())\n",
    "z.plot()"
   ]
  },
  {
   "cell_type": "code",
   "execution_count": 85,
   "metadata": {
    "collapsed": true
   },
   "outputs": [],
   "source": [
    "#UK_all.iloc[1:5,:]\n",
    "#UK_all.iloc[4:5,:]\n",
    "#UK_all.shape\n",
    "#UK_all.iloc[4:5,1:3]"
   ]
  },
  {
   "cell_type": "code",
   "execution_count": 86,
   "metadata": {
    "collapsed": true
   },
   "outputs": [],
   "source": [
    "UK_all=UK_all[[columnname_for_unit_value,'Date']]\n",
    "if Product==841810 :\n",
    "    \n",
    "\n",
    "    UK_all=UK_all.rename(columns = {columnname_for_unit_value:'TUR_GBR_841810_UV'})\n",
    "    UK_all['TUR_GBR_841810_UV-1'] = UK_all['TUR_GBR_841810_UV'].shift(1)\n",
    "    UK_all['TUR_GBR_841810_UV-2'] = UK_all['TUR_GBR_841810_UV'].shift(2)\n",
    "    UK_all['TUR_GBR_841810_UV-3'] = UK_all['TUR_GBR_841810_UV'].shift(3)\n",
    "    UK_all['TUR_GBR_841810_UV-4'] = UK_all['TUR_GBR_841810_UV'].shift(4)\n",
    "    UK_all['TUR_GBR_841810_UV-5'] = UK_all['TUR_GBR_841810_UV'].shift(5)\n",
    "    UK_all['TUR_GBR_841810_UV-6'] = UK_all['TUR_GBR_841810_UV'].shift(6)\n",
    "    UK_all['TUR_GBR_841810_UV-7'] = UK_all['TUR_GBR_841810_UV'].shift(7)\n",
    "    UK_all['TUR_GBR_841810_UV-8'] = UK_all['TUR_GBR_841810_UV'].shift(8)\n",
    "    UK_all['TUR_GBR_841810_UV-12'] = UK_all['TUR_GBR_841810_UV'].shift(12)\n",
    "\n",
    "    \n",
    "elif Product==841840:\n",
    "\n",
    "  \n",
    "\n",
    "    UK_all=UK_all.rename(columns = {columnname_for_unit_value:'TUR_GBR_841840_UV'})\n",
    "    UK_all['TUR_GBR_841840_UV-1'] = UK_all['TUR_GBR_841840_UV'].shift(1)\n",
    "    UK_all['TUR_GBR_841840_UV-2'] = UK_all['TUR_GBR_841840_UV'].shift(2)\n",
    "    UK_all['TUR_GBR_841840_UV-3'] = UK_all['TUR_GBR_841840_UV'].shift(3)\n",
    "    UK_all['TUR_GBR_841840_UV-4'] = UK_all['TUR_GBR_841840_UV'].shift(4)\n",
    "    UK_all['TUR_GBR_841840_UV-5'] = UK_all['TUR_GBR_841840_UV'].shift(5)\n",
    "    UK_all['TUR_GBR_841840_UV-6'] = UK_all['TUR_GBR_841840_UV'].shift(6)\n",
    "    UK_all['TUR_GBR_841840_UV-7'] = UK_all['TUR_GBR_841840_UV'].shift(7)\n",
    "    UK_all['TUR_GBR_841840_UV-8'] = UK_all['TUR_GBR_841840_UV'].shift(8)\n",
    "    UK_all['TUR_GBR_841840_UV-12'] = UK_all['TUR_GBR_841840_UV'].shift(12)\n",
    "\n",
    "    \n",
    "elif Product==841850:\n",
    "    \n",
    "    UK_all=UK_all.rename(columns = {columnname_for_unit_value:'TUR_GBR_841850_UV'})\n",
    "    UK_all['TUR_GBR_841850_UV-1'] = UK_all['TUR_GBR_841850_UV'].shift(1)\n",
    "    UK_all['TUR_GBR_841850_UV-2'] = UK_all['TUR_GBR_841850_UV'].shift(2)\n",
    "    UK_all['TUR_GBR_841850_UV-3'] = UK_all['TUR_GBR_841850_UV'].shift(3)\n",
    "    UK_all['TUR_GBR_841850_UV-4'] = UK_all['TUR_GBR_841850_UV'].shift(4)\n",
    "    UK_all['TUR_GBR_841850_UV-5'] = UK_all['TUR_GBR_841850_UV'].shift(5)\n",
    "    UK_all['TUR_GBR_841850_UV-6'] = UK_all['TUR_GBR_841850_UV'].shift(6)\n",
    "    UK_all['TUR_GBR_841850_UV-7'] = UK_all['TUR_GBR_841850_UV'].shift(7)\n",
    "    UK_all['TUR_GBR_841850_UV-8'] = UK_all['TUR_GBR_841850_UV'].shift(8)\n",
    "    UK_all['TUR_GBR_841850_UV-12'] = UK_all['TUR_GBR_841850_UV'].shift(12)\n"
   ]
  },
  {
   "cell_type": "code",
   "execution_count": 87,
   "metadata": {
    "collapsed": true
   },
   "outputs": [],
   "source": [
    "UK_all=UK_all.drop_duplicates('Date')\n",
    "#UK_all=UK_all.dropna()\n",
    "UK_all.to_excel('{}_GBR_all_unit_value.xlsx'.format(Product),index = False)"
   ]
  },
  {
   "cell_type": "code",
   "execution_count": null,
   "metadata": {
    "collapsed": true
   },
   "outputs": [],
   "source": []
  }
 ],
 "metadata": {
  "kernelspec": {
   "display_name": "Python 3",
   "language": "python",
   "name": "python3"
  },
  "language_info": {
   "codemirror_mode": {
    "name": "ipython",
    "version": 3
   },
   "file_extension": ".py",
   "mimetype": "text/x-python",
   "name": "python",
   "nbconvert_exporter": "python",
   "pygments_lexer": "ipython3",
   "version": "3.6.2"
  }
 },
 "nbformat": 4,
 "nbformat_minor": 2
}
