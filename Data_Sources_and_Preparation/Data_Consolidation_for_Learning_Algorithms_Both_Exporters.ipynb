{
 "cells": [
  {
   "cell_type": "markdown",
   "metadata": {},
   "source": [
    "For Products : 841810 841840 and 841850 \n",
    "China to UK Prediction \n",
    "and \n",
    "Turkey to UK Prediction "
   ]
  },
  {
   "cell_type": "code",
   "execution_count": 1,
   "metadata": {},
   "outputs": [
    {
     "name": "stderr",
     "output_type": "stream",
     "text": [
      "C:\\Users\\murat.ozemre\\AppData\\Local\\Continuum\\Anaconda3\\envs\\Tensor\\lib\\site-packages\\sklearn\\cross_validation.py:44: DeprecationWarning: This module was deprecated in version 0.18 in favor of the model_selection module into which all the refactored classes and functions are moved. Also note that the interface of the new CV iterators are different from that of this module. This module will be removed in 0.20.\n",
      "  \"This module will be removed in 0.20.\", DeprecationWarning)\n"
     ]
    }
   ],
   "source": [
    "import numpy as np\n",
    "import pandas as pd\n",
    "import matplotlib.pyplot as plt\n",
    "from sklearn.cross_validation import train_test_split\n",
    "import seaborn as sns\n",
    "%matplotlib inline"
   ]
  },
  {
   "cell_type": "code",
   "execution_count": 2,
   "metadata": {
    "collapsed": true
   },
   "outputs": [],
   "source": [
    "import sys\n",
    "import warnings\n",
    "\n",
    "if not sys.warnoptions:\n",
    "    warnings.simplefilter(\"ignore\")"
   ]
  },
  {
   "cell_type": "code",
   "execution_count": 3,
   "metadata": {
    "collapsed": true
   },
   "outputs": [],
   "source": [
    "from __future__ import absolute_import\n",
    "from __future__ import division\n",
    "from __future__ import print_function\n"
   ]
  },
  {
   "cell_type": "code",
   "execution_count": 4,
   "metadata": {
    "collapsed": true
   },
   "outputs": [],
   "source": [
    "# This function is used to calculate difference -> hat feature calculation\n",
    "# z is the data frame given.\n",
    "# n is order number for the first columns. \n",
    "def difference(z,n):\n",
    "    \n",
    "    for x in range(0,n):\n",
    "        # Calculate differnce value for specified columnrange\n",
    "        columnname=z.columns.values.tolist()[x]    \n",
    "        # Get the columnname from DataFrame\n",
    "        z['{}-hat'.format(columnname)]=z['{}'.format(columnname)]-z['{}-1'.format(columnname)]\n",
    "        # Subtract 'columnname' and 'columnname-1' and results and insert 'columnname_hat'\n",
    "        #Example => ITC_DF1['CHN_GBR_841810_hat']=ITC_DF1['CHN_GBR_841810']-ITC_DF1['CHN_GBR_841810-1']\n",
    "        \n",
    "    return z"
   ]
  },
  {
   "cell_type": "code",
   "execution_count": 5,
   "metadata": {
    "collapsed": true
   },
   "outputs": [],
   "source": [
    "Product=841810\n",
    "Exp_Country='TUR' # 'TUR'\n",
    "Imp_Country='GBR'\n",
    "\n",
    "if Exp_Country=='CHN':\n",
    "    Currency='CNY'\n",
    "    EXP0='TUR'   \n",
    "elif Exp_Country=='TUR':\n",
    "    Currency='TRY'\n",
    "    EXP0='CHN'   "
   ]
  },
  {
   "cell_type": "code",
   "execution_count": 6,
   "metadata": {
    "collapsed": true
   },
   "outputs": [],
   "source": [
    "# Reading Excel Files"
   ]
  },
  {
   "cell_type": "code",
   "execution_count": 7,
   "metadata": {},
   "outputs": [
    {
     "data": {
      "text/plain": [
       "Index(['TUR_GBR_841810', 'TUR_World_841810', 'TUR_FRA_841810',\n",
       "       'TUR_USA_841810', 'TUR_ITA_841810', 'TUR_DEU_841810', 'Date', 'Year',\n",
       "       'Month', 'TUR_GBR_841810-1', 'TUR_GBR_841810-2', 'TUR_GBR_841810-3',\n",
       "       'TUR_GBR_841810-6', 'TUR_GBR_841810-12', 'TUR_World_841810-1',\n",
       "       'TUR_World_841810-2', 'TUR_World_841810-3', 'TUR_World_841810-6',\n",
       "       'TUR_World_841810-12', 'TUR_USA_841810-1', 'TUR_USA_841810-2',\n",
       "       'TUR_USA_841810-3', 'TUR_USA_841810-6', 'TUR_USA_841810-12',\n",
       "       'TUR_DEU_841810-1', 'TUR_DEU_841810-2', 'TUR_DEU_841810-3',\n",
       "       'TUR_DEU_841810-6', 'TUR_DEU_841810-12', 'TUR_FRA_841810-1',\n",
       "       'TUR_FRA_841810-2', 'TUR_FRA_841810-3', 'TUR_FRA_841810-6',\n",
       "       'TUR_FRA_841810-12', 'TUR_ITA_841810-1', 'TUR_ITA_841810-2',\n",
       "       'TUR_ITA_841810-3', 'TUR_ITA_841810-6', 'TUR_ITA_841810-12',\n",
       "       'TUR_GBR_841810-hat', 'TUR_World_841810-hat', 'TUR_FRA_841810-hat',\n",
       "       'TUR_USA_841810-hat', 'TUR_ITA_841810-hat', 'TUR_DEU_841810-hat'],\n",
       "      dtype='object')"
      ]
     },
     "execution_count": 7,
     "metadata": {},
     "output_type": "execute_result"
    }
   ],
   "source": [
    "ITC_DF1 = pd.ExcelFile('ITC_Trade_Data\\{}_{}_all.xlsx'.format(Product,Exp_Country))\n",
    "ITC_DF1 = ITC_DF1.parse('Sheet1', header=0,index_col=None, na_values=['NA'])\n",
    "difference(ITC_DF1,6).columns\n",
    "ITC_DF1.columns"
   ]
  },
  {
   "cell_type": "code",
   "execution_count": 8,
   "metadata": {
    "collapsed": true
   },
   "outputs": [],
   "source": [
    "ITC_DF2 = pd.ExcelFile('ITC_Trade_Data\\{}_{}_all.xlsx'.format(Product,Imp_Country))\n",
    "ITC_DF2 = ITC_DF2.parse('Sheet1', header=0,index_col=None, na_values=['NA'])\n"
   ]
  },
  {
   "cell_type": "code",
   "execution_count": 9,
   "metadata": {
    "collapsed": true
   },
   "outputs": [],
   "source": [
    "ITC_DF2.drop('{}_{}_{}'.format(Exp_Country,Imp_Country,Product),axis=1,inplace=True)\n",
    "ITC_DF2.drop('{}_{}_{}-1'.format(Exp_Country,Imp_Country,Product),axis=1,inplace=True)\n",
    "ITC_DF2.drop('{}_{}_{}-2'.format(Exp_Country,Imp_Country,Product),axis=1,inplace=True)\n",
    "ITC_DF2.drop('{}_{}_{}-3'.format(Exp_Country,Imp_Country,Product),axis=1,inplace=True)\n",
    "ITC_DF2.drop('{}_{}_{}-6'.format(Exp_Country,Imp_Country,Product),axis=1,inplace=True)\n",
    "ITC_DF2.drop('{}_{}_{}-12'.format(Exp_Country,Imp_Country,Product),axis=1,inplace=True)\n"
   ]
  },
  {
   "cell_type": "code",
   "execution_count": 10,
   "metadata": {},
   "outputs": [
    {
     "data": {
      "text/plain": [
       "Index(['CHN_GBR_841810', 'POL_GBR_841810', 'KOR_GBR_841810', 'ITA_GBR_841810',\n",
       "       'Date', 'CHN_GBR_841810-1', 'CHN_GBR_841810-2', 'CHN_GBR_841810-3',\n",
       "       'CHN_GBR_841810-6', 'CHN_GBR_841810-12', 'POL_GBR_841810-1',\n",
       "       'POL_GBR_841810-2', 'POL_GBR_841810-3', 'POL_GBR_841810-6',\n",
       "       'POL_GBR_841810-12', 'KOR_GBR_841810-1', 'KOR_GBR_841810-2',\n",
       "       'KOR_GBR_841810-3', 'KOR_GBR_841810-6', 'KOR_GBR_841810-12',\n",
       "       'ITA_GBR_841810-1', 'ITA_GBR_841810-2', 'ITA_GBR_841810-3',\n",
       "       'ITA_GBR_841810-6', 'ITA_GBR_841810-12', 'CHN_GBR_841810-hat',\n",
       "       'POL_GBR_841810-hat', 'KOR_GBR_841810-hat', 'ITA_GBR_841810-hat'],\n",
       "      dtype='object')"
      ]
     },
     "execution_count": 10,
     "metadata": {},
     "output_type": "execute_result"
    }
   ],
   "source": [
    "difference(ITC_DF2,4).columns\n",
    "ITC_DF2.columns"
   ]
  },
  {
   "cell_type": "code",
   "execution_count": 11,
   "metadata": {},
   "outputs": [
    {
     "data": {
      "text/plain": [
       "Index(['EPU_TUR', 'Date', 'EPU_TUR-1', 'EPU_TUR-2', 'EPU_TUR-3', 'EPU_TUR-6',\n",
       "       'EPU_TUR-12', 'EPU_TUR-hat'],\n",
       "      dtype='object')"
      ]
     },
     "execution_count": 11,
     "metadata": {},
     "output_type": "execute_result"
    }
   ],
   "source": [
    " \n",
    "\n",
    "EPU_DF1 = pd.ExcelFile('Economic_Uncertainty\\EPU_{}.xlsx'.format(Exp_Country))\n",
    "EPU_DF1 = EPU_DF1.parse('Sheet1', header=0,index_col=None, na_values=['NA'])\n",
    "\n",
    "#if Exp_Country=='CHN':\n",
    "difference(EPU_DF1,1)\n",
    "\n",
    "EPU_DF1.columns\n",
    "    \n",
    "    "
   ]
  },
  {
   "cell_type": "code",
   "execution_count": 12,
   "metadata": {},
   "outputs": [
    {
     "data": {
      "text/plain": [
       "Index(['EPU_GBR', 'Date', 'EPU_GBR-1', 'EPU_GBR-2', 'EPU_GBR-3', 'EPU_GBR-6',\n",
       "       'EPU_GBR-12', 'EPU_GBR-hat'],\n",
       "      dtype='object')"
      ]
     },
     "execution_count": 12,
     "metadata": {},
     "output_type": "execute_result"
    }
   ],
   "source": [
    "EPU_DF2 = pd.ExcelFile('Economic_Uncertainty\\EPU_{}.xlsx'.format(Imp_Country))\n",
    "EPU_DF2 = EPU_DF2.parse('Sheet1', header=0,index_col=None, na_values=['NA'])\n",
    "difference(EPU_DF2,1)\n",
    "EPU_DF2.columns"
   ]
  },
  {
   "cell_type": "code",
   "execution_count": 13,
   "metadata": {},
   "outputs": [
    {
     "data": {
      "text/plain": [
       "Index(['EPU_World', 'Date', 'EPU_World-1', 'EPU_World-2', 'EPU_World-3',\n",
       "       'EPU_World-6', 'EPU_World-12', 'EPU_World-hat'],\n",
       "      dtype='object')"
      ]
     },
     "execution_count": 13,
     "metadata": {},
     "output_type": "execute_result"
    }
   ],
   "source": [
    "EPU_World = pd.ExcelFile('Economic_Uncertainty\\EPU_World.xlsx')\n",
    "EPU_World = EPU_World.parse('Sheet1', header=0,index_col=None, na_values=['NA'])\n",
    "difference(EPU_World,1)\n",
    "EPU_World.columns"
   ]
  },
  {
   "cell_type": "code",
   "execution_count": 14,
   "metadata": {
    "collapsed": true
   },
   "outputs": [],
   "source": [
    "# Reading Related CSV Files"
   ]
  },
  {
   "cell_type": "code",
   "execution_count": 15,
   "metadata": {},
   "outputs": [
    {
     "data": {
      "text/plain": [
       "Index(['BCI_TUR', 'CCI_TUR', 'CLI_TUR', 'GDP_TUR', 'Date', 'BCI_TUR-1',\n",
       "       'BCI_TUR-2', 'BCI_TUR-3', 'BCI_TUR-6', 'BCI_TUR-12', 'CCI_TUR-1',\n",
       "       'CCI_TUR-2', 'CCI_TUR-3', 'CCI_TUR-6', 'CCI_TUR-12', 'CLI_TUR-1',\n",
       "       'CLI_TUR-2', 'CLI_TUR-3', 'CLI_TUR-6', 'CLI_TUR-12', 'GDP_TUR-1',\n",
       "       'GDP_TUR-2', 'GDP_TUR-3', 'GDP_TUR-6', 'GDP_TUR-12', 'BCI_TUR-hat',\n",
       "       'CCI_TUR-hat', 'CLI_TUR-hat', 'GDP_TUR-hat'],\n",
       "      dtype='object')"
      ]
     },
     "execution_count": 15,
     "metadata": {},
     "output_type": "execute_result"
    }
   ],
   "source": [
    "OECD_DF1 = pd.read_csv('OECD\\BCI_CCI_CLI_GDP_{}.csv'.format(Exp_Country))\n",
    "difference(OECD_DF1,4)\n",
    "OECD_DF1.columns"
   ]
  },
  {
   "cell_type": "code",
   "execution_count": 16,
   "metadata": {},
   "outputs": [
    {
     "data": {
      "text/plain": [
       "Index(['BCI_GBR', 'CCI_GBR', 'CLI_GBR', 'GDP_GBR', 'Date', 'BCI_GBR-1',\n",
       "       'BCI_GBR-2', 'BCI_GBR-3', 'BCI_GBR-6', 'BCI_GBR-12', 'CCI_GBR-1',\n",
       "       'CCI_GBR-2', 'CCI_GBR-3', 'CCI_GBR-6', 'CCI_GBR-12', 'CLI_GBR-1',\n",
       "       'CLI_GBR-2', 'CLI_GBR-3', 'CLI_GBR-6', 'CLI_GBR-12', 'GDP_GBR-1',\n",
       "       'GDP_GBR-2', 'GDP_GBR-3', 'GDP_GBR-6', 'GDP_GBR-12', 'BCI_GBR-hat',\n",
       "       'CCI_GBR-hat', 'CLI_GBR-hat', 'GDP_GBR-hat'],\n",
       "      dtype='object')"
      ]
     },
     "execution_count": 16,
     "metadata": {},
     "output_type": "execute_result"
    }
   ],
   "source": [
    "OECD_DF2 = pd.read_csv('OECD\\BCI_CCI_CLI_GDP_{}.csv'.format(Imp_Country))\n",
    "difference(OECD_DF2,4)\n",
    "OECD_DF2.columns"
   ]
  },
  {
   "cell_type": "code",
   "execution_count": 17,
   "metadata": {
    "collapsed": true
   },
   "outputs": [],
   "source": [
    "#OECD_DF3 = pd.read_csv('OECD\\PPI_CHN_GBR.csv')\n",
    "#OECD_DF3.columns"
   ]
  },
  {
   "cell_type": "code",
   "execution_count": 18,
   "metadata": {},
   "outputs": [
    {
     "data": {
      "text/plain": [
       "Index(['CPI_TUR', 'CPI_GBR', 'Date', 'CPI_TUR-1', 'CPI_TUR-2', 'CPI_TUR-3',\n",
       "       'CPI_TUR-6', 'CPI_TUR-12', 'CPI_GBR-1', 'CPI_GBR-2', 'CPI_GBR-3',\n",
       "       'CPI_GBR-6', 'CPI_GBR-12', 'CPI_TUR-hat', 'CPI_GBR-hat'],\n",
       "      dtype='object')"
      ]
     },
     "execution_count": 18,
     "metadata": {},
     "output_type": "execute_result"
    }
   ],
   "source": [
    "OECD_DF4 = pd.read_csv('OECD\\CPI_{}_{}.csv'.format(Exp_Country,Imp_Country))\n",
    "difference(OECD_DF4,2)\n",
    "OECD_DF4.columns"
   ]
  },
  {
   "cell_type": "code",
   "execution_count": 19,
   "metadata": {},
   "outputs": [
    {
     "data": {
      "text/plain": [
       "Index(['TRY', 'GBP', 'Date', 'TRY-1', 'TRY-2', 'TRY-3', 'TRY-6', 'TRY-12',\n",
       "       'GBP-1', 'GBP-2', 'GBP-3', 'GBP-6', 'GBP-12', 'TRY-hat', 'GBP-hat'],\n",
       "      dtype='object')"
      ]
     },
     "execution_count": 19,
     "metadata": {},
     "output_type": "execute_result"
    }
   ],
   "source": [
    "OECD_DF5 = pd.read_csv('OECD\\{}_GBP.csv'.format(Currency))\n",
    "difference(OECD_DF5,2)\n",
    "OECD_DF5.columns"
   ]
  },
  {
   "cell_type": "code",
   "execution_count": 20,
   "metadata": {},
   "outputs": [
    {
     "data": {
      "text/plain": [
       "Index(['World', 'Date', 'World-1', 'World-2', 'World-3', 'World-6', 'World-12',\n",
       "       'World-hat'],\n",
       "      dtype='object')"
      ]
     },
     "execution_count": 20,
     "metadata": {},
     "output_type": "execute_result"
    }
   ],
   "source": [
    "OTHER_DF1 = pd.read_csv('Global_Trade\\WorldTrade.csv')\n",
    "difference(OTHER_DF1,1)\n",
    "OTHER_DF1.columns"
   ]
  },
  {
   "cell_type": "code",
   "execution_count": 21,
   "metadata": {
    "collapsed": true
   },
   "outputs": [],
   "source": [
    "Y=ITC_DF1.columns.values.tolist()[0].split('_')[1]\n",
    "IMP1=ITC_DF1.columns.values.tolist()[2].split('_')[1]\n",
    "IMP2=ITC_DF1.columns.values.tolist()[3].split('_')[1]\n",
    "IMP3=ITC_DF1.columns.values.tolist()[4].split('_')[1]\n",
    "IMP4=ITC_DF1.columns.values.tolist()[5].split('_')[1]\n",
    "\n",
    "EXP1=ITC_DF2.columns.values.tolist()[1].split('_')[0]\n",
    "EXP2=ITC_DF2.columns.values.tolist()[2].split('_')[0]\n",
    "EXP3=ITC_DF2.columns.values.tolist()[3].split('_')[0]"
   ]
  },
  {
   "cell_type": "code",
   "execution_count": 22,
   "metadata": {
    "scrolled": false
   },
   "outputs": [
    {
     "name": "stdout",
     "output_type": "stream",
     "text": [
      "Index(['TUR_GBR_841810', 'TUR_World_841810', 'TUR_FRA_841810',\n",
      "       'TUR_USA_841810', 'TUR_ITA_841810', 'TUR_DEU_841810', 'Date', 'Year',\n",
      "       'Month', 'TUR_GBR_841810-1',\n",
      "       ...\n",
      "       'GBP-12', 'TRY-hat', 'GBP-hat', 'World', 'World-1', 'World-2',\n",
      "       'World-3', 'World-6', 'World-12', 'World-hat'],\n",
      "      dtype='object', length=185) (144, 185)\n"
     ]
    }
   ],
   "source": [
    "Data_All = ITC_DF1.merge(ITC_DF2, \n",
    "                        on = 'Date',how = 'left').merge(EPU_DF1,\n",
    "                        on = 'Date',how = 'left').merge(EPU_DF2, \n",
    "                        on = 'Date',how = 'left').merge(EPU_World,\n",
    "                        on = 'Date',how = 'left').merge(OECD_DF1, \n",
    "                        on = 'Date',how = 'left').merge(OECD_DF2, \n",
    "#                        on = 'Date',how = 'left').merge(OECD_DF3, \n",
    "                        on = 'Date',how = 'left').merge(OECD_DF4, \n",
    "                        on = 'Date',how = 'left').merge(OECD_DF5, \n",
    "                        on = 'Date',how = 'left').merge(OTHER_DF1, \n",
    "                        on = 'Date',how = 'left')\n",
    "#Data_Core_1=Data_Core_1.dropna()\n",
    "Data_All=Data_All.fillna(0)\n",
    "print(Data_All.columns,Data_All.shape)"
   ]
  },
  {
   "cell_type": "code",
   "execution_count": 45,
   "metadata": {
    "collapsed": true
   },
   "outputs": [],
   "source": [
    "def Monthly_data_frame_creation(Data,Exp_Country,Imp_Country,Product,Month):\n",
    "    \n",
    "    X=Data[\n",
    "    \n",
    "            ['{}_{}_{}'.format(Exp_Country,Imp_Country,Product),\n",
    "# -1 Month Exporters Volumes \n",
    "            '{}_{}_{}-{}'.format(Exp_Country,Imp_Country,Product,Month),'{}_World_{}-{}'.format(Exp_Country,Product,Month), \n",
    "            '{}_{}_{}-{}'.format(Exp_Country,IMP1,Product,Month), '{}_{}_{}-{}'.format(Exp_Country,IMP2,Product,Month),\n",
    "            '{}_{}_{}-{}'.format(Exp_Country,IMP3,Product,Month), '{}_{}_{}-{}'.format(Exp_Country,IMP4,Product,Month), \n",
    "# -1 Month Importers Volumes                         \n",
    "             '{}_{}_{}-{}'. format(EXP0,Imp_Country,Product,Month), '{}_{}_{}-{}'. format(EXP1,Imp_Country,Product,Month), \n",
    "             '{}_{}_{}-{}'. format(EXP2,Imp_Country,Product,Month), '{}_{}_{}-{}'. format(EXP3,Imp_Country,Product,Month), \n",
    "# -1 Month Politic Uncertainity                         \n",
    "               \n",
    "             'EPU_{}-{}'.format(Exp_Country,Month),'EPU_{}-{}'.format(Imp_Country,Month), 'EPU_World-{}'.format(Month), \n",
    "# -1 Month Economic Indices            \n",
    "             'BCI_{}-{}'.format(Exp_Country,Month), 'CCI_{}-{}'.format(Exp_Country,Month), 'CLI_{}-{}'.format(Exp_Country,Month),'GDP_{}-{}'.format(Exp_Country,Month), \n",
    "             'BCI_{}-{}'.format(Imp_Country,Month), 'CCI_{}-{}'.format(Imp_Country,Month), 'CLI_{}-{}'.format(Imp_Country,Month), 'GDP_{}-{}'.format(Imp_Country,Month),\n",
    "           #    'PPI_{}-{}'.format(Exp_Country), 'PPI_{}-{}'.format(Imp_Country), \n",
    "             'CPI_{}-{}'.format(Exp_Country,Month), 'CPI_{}-{}'.format(Imp_Country,Month), \n",
    "             '{}-{}'.format(Currency,Month), 'GBP-{}'.format(Month),'World-{}'.format(Month),\n",
    "               'Date','Year','Month']\n",
    "            ]\n",
    "\n",
    "#    print(X.columns,X.shape)\n",
    "    if Exp_Country=='TUR':\n",
    "        X.drop('EPU_{}-{}'.format(Exp_Country,Month),axis=1,inplace=True, errors='ignore')\n",
    "\n",
    "#    print(X.columns,X.shape)        \n",
    "    return X"
   ]
  },
  {
   "cell_type": "code",
   "execution_count": null,
   "metadata": {
    "collapsed": true
   },
   "outputs": [],
   "source": [
    "# Creation of single X-month versions"
   ]
  },
  {
   "cell_type": "code",
   "execution_count": 57,
   "metadata": {},
   "outputs": [],
   "source": [
    "X1=Monthly_data_frame_creation(Data_All,Exp_Country,Imp_Country,Product,1)\n",
    "X2=Monthly_data_frame_creation(Data_All,Exp_Country,Imp_Country,Product,2)\n",
    "X3=Monthly_data_frame_creation(Data_All,Exp_Country,Imp_Country,Product,3)\n",
    "X6=Monthly_data_frame_creation(Data_All,Exp_Country,Imp_Country,Product,6)\n",
    "X12=Monthly_data_frame_creation(Data_All,Exp_Country,Imp_Country,Product,12)\n",
    "Xhat=Monthly_data_frame_creation(Data_All,Exp_Country,Imp_Country,Product,'hat')"
   ]
  },
  {
   "cell_type": "code",
   "execution_count": 58,
   "metadata": {},
   "outputs": [],
   "source": [
    "# Creation of Y\n",
    "Y=X1[['{}_{}_{}'.format(Exp_Country,Imp_Country,Product),'Date','Year','Month']]\n"
   ]
  },
  {
   "cell_type": "code",
   "execution_count": 59,
   "metadata": {},
   "outputs": [],
   "source": [
    "# Creation of merged X - month versions\n",
    "X1.drop('{}_{}_{}'.format(Exp_Country,Imp_Country,Product),axis=1,inplace=True, errors='ignore')\n",
    "X2.drop('{}_{}_{}'.format(Exp_Country,Imp_Country,Product),axis=1,inplace=True, errors='ignore')\n",
    "X3.drop('{}_{}_{}'.format(Exp_Country,Imp_Country,Product),axis=1,inplace=True, errors='ignore')\n",
    "X6.drop('{}_{}_{}'.format(Exp_Country,Imp_Country,Product),axis=1,inplace=True, errors='ignore')\n",
    "X_12.drop('{}_{}_{}'.format(Exp_Country,Imp_Country,Product),axis=1,inplace=True, errors='ignore')\n",
    "Xhat.drop('{}_{}_{}'.format(Exp_Country,Imp_Country,Product),axis=1,inplace=True, errors='ignore')\n",
    "\n",
    "#X2.drop('Year',axis=1,inplace=True, errors='ignore')\n",
    "#X2.drop('Month',axis=1,inplace=True, errors='ignore')\n",
    "X_12 = X1.merge(X2, \n",
    "                        on = ['Date','Year','Month'],how = 'left',copy=False)\n",
    "\n",
    "X_123 = X_12.merge(X3, \n",
    "                        on = ['Date','Year','Month'],how = 'left',copy=False)\n",
    "\n",
    "\n",
    "X_1236 = X_123.merge(X6, \n",
    "                        on = ['Date','Year','Month'],how = 'left',copy=False)\n",
    "\n",
    "X_1236_12 = X_1236.merge(X_12, \n",
    "                        on = ['Date','Year','Month'],how = 'left',copy=False)\n",
    "\n"
   ]
  },
  {
   "cell_type": "code",
   "execution_count": 60,
   "metadata": {
    "collapsed": true
   },
   "outputs": [],
   "source": [
    "writer = pd.ExcelWriter('Data_{}_{}_{}.xlsx'.format(Exp_Country,Imp_Country,Product))\n",
    "Y.to_excel(writer,'Y',index = False,)\n",
    "X1.to_excel(writer,'X1',index = False,)\n",
    "X2.to_excel(writer,'X2',index = False,)\n",
    "X3.to_excel(writer,'X3',index = False,)\n",
    "X6.to_excel(writer,'X6',index = False,)\n",
    "X12.to_excel(writer,'X12',index = False,)\n",
    "Xhat.to_excel(writer,'Xhat',index = False,)\n",
    "\n",
    "X_12.to_excel(writer,'X_12',index = False,)\n",
    "X_123.to_excel(writer,'X_123',index = False,)\n",
    "X_1236.to_excel(writer,'X_1236',index = False,)\n",
    "X_1236_12.to_excel(writer,'X_1236_12',index = False,)\n",
    "\n",
    "writer.save()"
   ]
  },
  {
   "cell_type": "markdown",
   "metadata": {},
   "source": [
    "# Burasını modifiye ediyordum.  Plot Fonksiyonları Çalışmalı ve Save etmeli"
   ]
  },
  {
   "cell_type": "code",
   "execution_count": 64,
   "metadata": {},
   "outputs": [
    {
     "data": {
      "text/plain": [
       "<seaborn.axisgrid.PairGrid at 0x22759e0c278>"
      ]
     },
     "execution_count": 64,
     "metadata": {},
     "output_type": "execute_result"
    },
    {
     "data": {
      "image/png": "[encoded data removed]",
      "text/plain": [
       "<matplotlib.figure.Figure at 0x22759e0c2b0>"
      ]
     },
     "metadata": {},
     "output_type": "display_data"
    }
   ],
   "source": [
    "#PairPlot for CHINA Exports to GBR and Political Uncertainity\n",
    "\n",
    "sns.pairplot(X1[['{}_{}_{}-1'.format(Exp_Country,Imp_Country,Product),#'EPU_{}-1'.format(Exp_Country),\n",
    "       'EPU_{}-1'.format(Imp_Country), 'EPU_World-1']])"
   ]
  },
  {
   "cell_type": "code",
   "execution_count": null,
   "metadata": {
    "collapsed": true
   },
   "outputs": [],
   "source": [
    "# Pairplots CHINA Exports to GBR and its top 5 markets\n",
    "sns.pairplot(Data_Core_1[['CHN_GBR_841810','CHN_World_841810-1', 'CHN_USA_841810-1', 'CHN_JPN_841810-1',\n",
    "       'CHN_FRA_841810-1', 'CHN_AUS_841810-1']])"
   ]
  },
  {
   "cell_type": "code",
   "execution_count": null,
   "metadata": {
    "collapsed": true
   },
   "outputs": [],
   "source": [
    "# Pairplots CHINA Exports to GBR and GBR top 4 exporters \n",
    "sns.pairplot(Data_Core_1[['CHN_GBR_841810','TUR_GBR_841810-1','POL_GBR_841810-1', 'KOR_GBR_841810-1', 'ITA_GBR_841810-1']])"
   ]
  },
  {
   "cell_type": "code",
   "execution_count": null,
   "metadata": {
    "collapsed": true
   },
   "outputs": [],
   "source": []
  },
  {
   "cell_type": "code",
   "execution_count": null,
   "metadata": {
    "collapsed": true
   },
   "outputs": [],
   "source": [
    "def set_X(Product,Data_Core,Dimension):\n",
    "    if Dimension==\"1\":\n",
    "        X=Data_Core[\n",
    "    \n",
    "           \n",
    "\n",
    "\n",
    "        ]\n",
    "                \n",
    "\n",
    "    elif Dimension==\"12\":\n",
    "        X=Data_Core[ \n",
    "    \n",
    "           \n",
    "            ]\n",
    "\n",
    "    elif Dimension==\"123\":\n",
    "        X=Data_Core[ \n",
    "           \n",
    "             ]\n",
    "    elif Dimension==\"1236\":\n",
    "        X=Data_Core[ \n",
    "\n",
    "           \n",
    "             ]\n",
    "    elif Dimension==\"1236_12\":\n",
    "        X=Data_Core[ \n",
    "\n",
    "              \n",
    "             ]\n",
    "\n",
    "    X=X.dropna()    \n",
    "    return X"
   ]
  }
 ],
 "metadata": {
  "kernelspec": {
   "display_name": "Python 3",
   "language": "python",
   "name": "python3"
  },
  "language_info": {
   "codemirror_mode": {
    "name": "ipython",
    "version": 3
   },
   "file_extension": ".py",
   "mimetype": "text/x-python",
   "name": "python",
   "nbconvert_exporter": "python",
   "pygments_lexer": "ipython3",
   "version": "3.6.1"
  }
 },
 "nbformat": 4,
 "nbformat_minor": 2
}
