{
 "cells": [
  {
   "cell_type": "code",
   "execution_count": 1,
   "metadata": {},
   "outputs": [],
   "source": [
    "import numpy as np\n",
    "import pandas as pd\n",
    "from time import time\n",
    "import matplotlib.pyplot as plt\n",
    "#from sklearn.cross_validation import train_test_split\n",
    "import seaborn as sns\n",
    "%matplotlib inline\n",
    "\n",
    "\n",
    "import sys\n",
    "import warnings\n",
    "\n",
    "if not sys.warnoptions:\n",
    "    warnings.simplefilter(\"ignore\")"
   ]
  },
  {
   "cell_type": "code",
   "execution_count": 2,
   "metadata": {
    "collapsed": true
   },
   "outputs": [],
   "source": [
    "from sklearn.model_selection import train_test_split"
   ]
  },
  {
   "cell_type": "code",
   "execution_count": 3,
   "metadata": {
    "collapsed": true
   },
   "outputs": [],
   "source": [
    "from __future__ import absolute_import\n",
    "from __future__ import division\n",
    "from __future__ import print_function\n",
    "from __future__ import print_function\n",
    "import os\n",
    "import sys\n",
    "os.chdir('C:/Users/murat.ozemre/Desktop/Thesis_Project/Data_Sources_and_Preparation')\n",
    "#os.chdir('C:/Users/murat.ozemre/Documents/MOZEMRE-OZEL/Doktora/2017 Tez/Veri Analizi/Ver 3 Tez Izleme Calısmaları')"
   ]
  },
  {
   "cell_type": "code",
   "execution_count": 4,
   "metadata": {},
   "outputs": [
    {
     "name": "stdout",
     "output_type": "stream",
     "text": [
      "statsmodels: 0.8.0\n"
     ]
    }
   ],
   "source": [
    "from sklearn import metrics\n",
    "import statsmodels\n",
    "print('statsmodels: %s' % statsmodels.__version__)"
   ]
  },
  {
   "cell_type": "code",
   "execution_count": 5,
   "metadata": {},
   "outputs": [
    {
     "data": {
      "text/plain": [
       "'12-12 10:30'"
      ]
     },
     "execution_count": 5,
     "metadata": {},
     "output_type": "execute_result"
    }
   ],
   "source": [
    "from datetime import datetime\n",
    "datetime.now().strftime('%m-%d %H:%M')"
   ]
  },
  {
   "cell_type": "code",
   "execution_count": 6,
   "metadata": {},
   "outputs": [
    {
     "name": "stderr",
     "output_type": "stream",
     "text": [
      "C:\\Users\\murat.ozemre\\AppData\\Local\\Continuum\\Anaconda3\\envs\\Tensor_1\\lib\\site-packages\\sklearn\\ensemble\\weight_boosting.py:29: DeprecationWarning: numpy.core.umath_tests is an internal NumPy module and should not be imported. It will be removed in a future NumPy release.\n",
      "  from numpy.core.umath_tests import inner1d\n"
     ]
    }
   ],
   "source": [
    "from math import sqrt\n",
    "from sklearn.ensemble import RandomForestRegressor"
   ]
  },
  {
   "cell_type": "code",
   "execution_count": 7,
   "metadata": {
    "collapsed": true
   },
   "outputs": [],
   "source": [
    "from sklearn.preprocessing import MinMaxScaler\n",
    "from sklearn.preprocessing import minmax_scale\n",
    "from sklearn.preprocessing import MaxAbsScaler\n",
    "from sklearn.preprocessing import StandardScaler\n",
    "from sklearn.preprocessing import RobustScaler\n",
    "from sklearn.preprocessing import Normalizer"
   ]
  },
  {
   "cell_type": "code",
   "execution_count": 8,
   "metadata": {
    "collapsed": true
   },
   "outputs": [],
   "source": [
    "#Scaler_Type_Options = ['Normalizer', 'MinMaxScaler','MaxAbsScaler','RobustScaler','StandardScaler' ]\n",
    "Scaler_Type_Options = [ 'MinMaxScaler' ]\n",
    "Scalertype=Scaler_Type_Options[0]\n",
    "Product_Type_Options = [841810,841840,841850]"
   ]
  },
  {
   "cell_type": "code",
   "execution_count": 9,
   "metadata": {},
   "outputs": [
    {
     "data": {
      "text/plain": [
       "'MinMaxScaler'"
      ]
     },
     "execution_count": 9,
     "metadata": {},
     "output_type": "execute_result"
    }
   ],
   "source": [
    "Scalertype"
   ]
  },
  {
   "cell_type": "code",
   "execution_count": 10,
   "metadata": {
    "collapsed": true
   },
   "outputs": [],
   "source": [
    "Product=Product_Type_Options[0] #841810\n",
    "Exp_Country='TUR' # 'CHN'\n",
    "Imp_Country='GBR'\n",
    "\n",
    "if Exp_Country=='CHN':\n",
    "    Currency='CNY'\n",
    "    EXP0='TUR'   \n",
    "elif Exp_Country=='TUR':\n",
    "    Currency='TRY'\n",
    "    EXP0='CHN'   "
   ]
  },
  {
   "cell_type": "code",
   "execution_count": 11,
   "metadata": {
    "collapsed": true
   },
   "outputs": [],
   "source": [
    "MonthSeries=\"2\"\n",
    "MonthSeries_option=[\"1\",\"2\",\"3\",\"6\",\"12\"]"
   ]
  },
  {
   "cell_type": "code",
   "execution_count": 26,
   "metadata": {},
   "outputs": [],
   "source": [
    "Data_Core1 = pd.ExcelFile('Data_{}_{}_{}.xlsx'.format(Exp_Country,Imp_Country,Product))\n",
    "y = Data_Core1.parse('Y', header=0,index_col=None, na_values=['NA'])['{}_{}_{}'.format(Exp_Country,Imp_Country,Product)]\n",
    "Z = Data_Core1.parse('Y', header=0,index_col=None, na_values=['NA'])[['Date','Year','Month']]\n",
    "\n",
    "X = Data_Core1.parse('X{}'.format(MonthSeries), header=0,index_col=None, na_values=['NA'])\n",
    "X.drop(['Date','Year','Month'], axis=1, inplace=True)\n",
    "X_Column_Names=list(X.columns.values)\n",
    "n_feature=X.shape[1]\n",
    "\n",
    "Xhat = Data_Core1.parse('Xhat', header=0,index_col=None, na_values=['NA'])\n",
    "Xhat.drop(['Date','Year','Month'], axis=1, inplace=True)\n"
   ]
  },
  {
   "cell_type": "code",
   "execution_count": 27,
   "metadata": {
    "collapsed": true
   },
   "outputs": [],
   "source": [
    "def Xscaler(X,y,scalertype):\n",
    "\n",
    "    if scalertype==\"Normalizer\":\n",
    "        X=pd.DataFrame(Normalizer().fit_transform(X,y))\n",
    "        print(\"normalize\")\n",
    "    elif scalertype==\"MinMaxScaler\":\n",
    "        X=pd.DataFrame(MinMaxScaler().fit_transform(X,y))\n",
    "        print(\"minmax\")\n",
    "    elif scalertype==\"MaxAbsScaler\":\n",
    "        X=pd.DataFrame(MaxAbsScaler().fit_transform(X,y))\n",
    "        print(\"maxabs\")\n",
    "    elif scalertype==\"RobustScaler\":\n",
    "        X=pd.DataFrame(RobustScaler().fit_transform(X,y))\n",
    "    elif scalertype==\"StandardScaler\":\n",
    "        X=pd.DataFrame(StandardScaler().fit_transform(X,y))\n",
    "    return X"
   ]
  },
  {
   "cell_type": "markdown",
   "metadata": {},
   "source": [
    "Scaling Min Max and then spilt test and train according stratify to month."
   ]
  },
  {
   "cell_type": "code",
   "execution_count": 28,
   "metadata": {
    "scrolled": true
   },
   "outputs": [],
   "source": [
    "def X_Y_scaler_train_test_Split(X,y,Z):\n",
    "\n",
    "    values = X.values\n",
    "    values = values.astype('float32')\n",
    "    X_Column_X_Column_Names=X.columns\n",
    "    \n",
    "    scaler_X= MinMaxScaler(feature_range=(0, 1))\n",
    "\n",
    "    scaled_value_X = scaler_X.fit_transform(values)\n",
    "    scaled_value_X = pd.DataFrame(data=scaled_value_X[:,:])\n",
    "    scaled_value_X.columns=X_Column_X_Column_Names\n",
    "    \n",
    "    values = y.values\n",
    "    values = values.astype('float32')\n",
    "    values = values.reshape(-1, 1)\n",
    "    \n",
    "    scaler_y= MinMaxScaler(feature_range=(0, 1))\n",
    "\n",
    "    scaled_value_y = scaler_y.fit_transform(values)\n",
    "    scaled_value_y = pd.DataFrame(data=scaled_value_y)\n",
    "\n",
    "    X_train, X_test, y_train, y_test = train_test_split(scaled_value_X,scaled_value_y,test_size=0.2,random_state=42,stratify=Z['Month'])\n",
    "\n",
    "    return X_train, X_test, y_train, y_test, scaler_X, scaler_y, scaled_value_X, scaled_value_y\n",
    "#for Scaler in Scaler_Type_Options:\n",
    "#    X= Xscaler(X,y,Scaler)"
   ]
  },
  {
   "cell_type": "code",
   "execution_count": 29,
   "metadata": {
    "collapsed": true
   },
   "outputs": [],
   "source": [
    "def inverse_scale_and_graph_Y_predict_and_test(y_predict_test,y_test,scaler_y,plot_on):\n",
    "\n",
    "    y_predict_test=y_predict_test.reshape(-1, 1)\n",
    "    inv_y_predict_test = scaler_y.inverse_transform(y_predict_test)\n",
    "    predictions=inv_y_predict_test\n",
    "\n",
    "  \n",
    "    inv_y_test = scaler_y.inverse_transform(y_test)\n",
    "    inv_y_test = inv_y_test[:,0]\n",
    "\n",
    "    MAE=int(metrics.mean_absolute_error(inv_y_test, predictions))\n",
    "    MSE=int(sqrt(metrics.mean_squared_error(inv_y_test, predictions)))\n",
    "    R2=int(1000*(metrics.r2_score(inv_y_test, predictions)))/1000\n",
    "    \n",
    "    \n",
    "    print('MAE',MAE, 'MSE',MSE, 'R2',R2 )\n",
    "    \n",
    "    if plot_on =='YES':\n",
    "        plt.scatter(inv_y_test,predictions)\n",
    "    \n",
    "    return MAE,MSE,R2\n",
    "    \n"
   ]
  },
  {
   "cell_type": "code",
   "execution_count": 30,
   "metadata": {
    "collapsed": true
   },
   "outputs": [],
   "source": [
    "Scaled_Train_Test_Split=X_Y_scaler_train_test_Split(X,y,Z)\n",
    "\n",
    "\n",
    "X_train = Scaled_Train_Test_Split[0]\n",
    "X_test = Scaled_Train_Test_Split[1]\n",
    "y_train = Scaled_Train_Test_Split[2]\n",
    "y_test = Scaled_Train_Test_Split[3]\n",
    "scaler_X = Scaled_Train_Test_Split[4]  \n",
    "scaler_y = Scaled_Train_Test_Split[5]\n",
    "scaled_value_X=Scaled_Train_Test_Split[6]\n",
    "scaled_value_y=Scaled_Train_Test_Split[7]"
   ]
  },
  {
   "cell_type": "code",
   "execution_count": 31,
   "metadata": {},
   "outputs": [
    {
     "name": "stdout",
     "output_type": "stream",
     "text": [
      "MAE 2185 MSE 2985 R2 0.601\n"
     ]
    },
    {
     "data": {
      "text/plain": [
       "(2185, 2985, 0.601)"
      ]
     },
     "execution_count": 31,
     "metadata": {},
     "output_type": "execute_result"
    },
    {
     "data": {
      "image/png": "[encoded data removed]",
      "text/plain": [
       "<matplotlib.figure.Figure at 0x2399504b630>"
      ]
     },
     "metadata": {},
     "output_type": "display_data"
    }
   ],
   "source": [
    "from sklearn.tree import DecisionTreeRegressor\n",
    "\n",
    "# Decison tree regressor model\n",
    "dt = DecisionTreeRegressor()\n",
    "\n",
    "# Decison tree regressor model train\n",
    "DecisionTreeRegressor.fit(dt,X_train,y_train)\n",
    "\n",
    "# Decison tree regressor model predict\n",
    "y_predict_test = dt.predict(X_test)\n",
    "\n",
    "# Compare predicted Y and real Y \n",
    "inverse_scale_and_graph_Y_predict_and_test(y_predict_test,y_test,scaler_y,'YES')"
   ]
  },
  {
   "cell_type": "code",
   "execution_count": 32,
   "metadata": {},
   "outputs": [
    {
     "name": "stdout",
     "output_type": "stream",
     "text": [
      "MAE 1877 MSE 2353 R2 0.752\n"
     ]
    },
    {
     "data": {
      "text/plain": [
       "(1877, 2353, 0.752)"
      ]
     },
     "execution_count": 32,
     "metadata": {},
     "output_type": "execute_result"
    },
    {
     "data": {
      "image/png": "[encoded data removed]",
      "text/plain": [
       "<matplotlib.figure.Figure at 0x23994e48048>"
      ]
     },
     "metadata": {},
     "output_type": "display_data"
    }
   ],
   "source": [
    "# Random Foest Regressor model\n",
    "rfc=RandomForestRegressor(n_estimators=3000)\n",
    "\n",
    "# Random Foest Regressor model train\n",
    "RandomForestRegressor.fit(rfc,X_train,y_train)\n",
    "\n",
    "# Random Foest Regressor mode predict\n",
    "y_predict_test = rfc.predict(X_test)\n",
    "\n",
    "# Compare predicted Y and real Y \n",
    "inverse_scale_and_graph_Y_predict_and_test(y_predict_test,y_test,scaler_y,'YES')"
   ]
  },
  {
   "cell_type": "code",
   "execution_count": 33,
   "metadata": {},
   "outputs": [
    {
     "data": {
      "text/plain": [
       "array([0.08366904, 0.06409768, 0.32975638, 0.02260136, 0.07392017,\n",
       "       0.09520215, 0.01255816, 0.01980228, 0.01386224, 0.00833499,\n",
       "       0.01634015, 0.01641635, 0.01396701, 0.0139008 , 0.02262038,\n",
       "       0.00966764, 0.02108791, 0.01224642, 0.00635351, 0.00971771,\n",
       "       0.00644644, 0.04472179, 0.03199737, 0.03081877, 0.01241176,\n",
       "       0.00748155])"
      ]
     },
     "execution_count": 33,
     "metadata": {},
     "output_type": "execute_result"
    }
   ],
   "source": [
    "rfc.feature_importances_"
   ]
  },
  {
   "cell_type": "code",
   "execution_count": 34,
   "metadata": {},
   "outputs": [
    {
     "data": {
      "text/plain": [
       "-3.883554184728356"
      ]
     },
     "execution_count": 34,
     "metadata": {},
     "output_type": "execute_result"
    }
   ],
   "source": [
    "rfc.score(X,y)"
   ]
  },
  {
   "cell_type": "code",
   "execution_count": 35,
   "metadata": {
    "scrolled": false
   },
   "outputs": [
    {
     "name": "stdout",
     "output_type": "stream",
     "text": [
      "MAE 0 MSE 0 R2 0.962\n",
      "Feature ranking:\n",
      "1. feature TUR_FRA_841810-2 2 (0.334975) 0.302019\n",
      "2. feature TUR_ITA_841810-2 4 (0.081668) 0.186731\n",
      "3. feature TUR_World_841810-2 1 (0.072734) 0.177921\n",
      "4. feature CPI_TUR-2 21 (0.068816) 0.160654\n",
      "5. feature CPI_GBR-2 22 (0.064110) 0.157748\n",
      "6. feature TUR_GBR_841810-2 0 (0.062845) 0.154664\n",
      "7. feature TUR_DEU_841810-2 5 (0.051467) 0.145048\n",
      "8. feature TRY-2 23 (0.029040) 0.087367\n",
      "9. feature CHN_GBR_841810-2 6 (0.023179) 0.031010\n",
      "10. feature CCI_TUR-2 14 (0.023052) 0.034860\n",
      "11. feature KOR_GBR_841810-2 8 (0.019160) 0.023811\n",
      "12. feature TUR_USA_841810-2 3 (0.018784) 0.043361\n",
      "13. feature BCI_TUR-2 13 (0.017189) 0.023618\n",
      "14. feature GBP-2 24 (0.016904) 0.032022\n",
      "15. feature GDP_TUR-2 16 (0.014781) 0.024222\n",
      "16. feature EPU_GBR-2 11 (0.014283) 0.021472\n",
      "17. feature EPU_World-2 12 (0.012020) 0.015537\n",
      "18. feature TUR_GBR_841810_UV-2 10 (0.010304) 0.023987\n",
      "19. feature BCI_GBR-2 17 (0.009947) 0.013330\n",
      "20. feature POL_GBR_841810-2 7 (0.009333) 0.013467\n",
      "21. feature CCI_GBR-2 18 (0.008382) 0.015981\n",
      "22. feature CLI_GBR-2 19 (0.008152) 0.014122\n",
      "23. feature World-2 25 (0.007592) 0.028671\n",
      "24. feature CLI_TUR-2 15 (0.007503) 0.011307\n",
      "25. feature ITA_GBR_841810-2 9 (0.007346) 0.012449\n",
      "26. feature GDP_GBR-2 20 (0.006434) 0.009164\n"
     ]
    },
    {
     "data": {
      "image/png": "[encoded data removed]",
      "text/plain": [
       "<matplotlib.figure.Figure at 0x23994e48898>"
      ]
     },
     "metadata": {},
     "output_type": "display_data"
    }
   ],
   "source": [
    "# 1 Nolu Blok\n",
    "# Internetten bulunan kod blogu\n",
    "# Random Forest'a gore Feature Importance Hesaplama\n",
    "# Butun veri setinin girildiği ona göre önemli olan özelliklerin bulundugu kod parçası\n",
    "\n",
    "ScalerType = Scalertype=Scaler_Type_Options[0]\n",
    "n_sample=len(X)\n",
    "\n",
    "rfc=RandomForestRegressor(n_estimators=3000)\n",
    "RandomForestRegressor.fit(rfc,scaled_value_X,scaled_value_y)\n",
    "\n",
    "\n",
    "predictions = rfc.predict(X_test)\n",
    "print('MAE',int(metrics.mean_absolute_error(y_test, predictions)),\n",
    "      'MSE',int(sqrt(metrics.mean_squared_error(y_test, predictions))),\n",
    "      'R2',int(1000*(metrics.r2_score(y_test, predictions)))/1000\n",
    "     )\n",
    "\n",
    "\n",
    "importances = rfc.feature_importances_\n",
    "std = np.std([tree.feature_importances_ for tree in rfc.estimators_],axis=0)\n",
    "\n",
    "indices = np.argsort(importances)[::-1]\n",
    "\n",
    "\n",
    "# Print the feature ranking\n",
    "print(\"Feature ranking:\")\n",
    "\n",
    "for f in range(X.shape[1]):\n",
    "    print(\"%d. feature %s %d (%f) %f\" % (f+1, X_Column_Names[indices[f]], indices[f], importances[indices[f]],std[indices[f]]))\n",
    "\n",
    "# Plot the feature importances of the forest\n",
    "plt.figure()\n",
    "plt.title(\"{} and -{} Month Feature Importances and Standart Deviation of Features with 3000 Different Estimations\".format(Product,MonthSeries))\n",
    "plt.bar(range(X.shape[1]), importances[indices],\n",
    "       color=\"r\", yerr=std[indices], align=\"center\")\n",
    "plt.xticks(range(X.shape[1]), indices,rotation=90)\n",
    "plt.xlim([-1, X.shape[1]])\n",
    "\n",
    "fig_size = plt.rcParams[\"figure.figsize\"]\n",
    "fig_size[0] = 15\n",
    "fig_size[1] = 10\n",
    "plt.rcParams[\"figure.figsize\"] = fig_size\n",
    "plt.savefig(\"Plots_Feature_Selection/{} and -{} Month Feature Importances and Standart Deviation of Features with 3000 Different Estimations.png\".format(Product,MonthSeries), format='png', dpi=300)\n",
    "\n",
    "plt.show()"
   ]
  },
  {
   "cell_type": "code",
   "execution_count": 23,
   "metadata": {
    "scrolled": true
   },
   "outputs": [
    {
     "name": "stdout",
     "output_type": "stream",
     "text": [
      "MAE 2213 MSE 2594 R2 0.614\n",
      "MAE 2269 MSE 2839 R2 0.515\n",
      "MAE 2124 MSE 2615 R2 0.641\n",
      "MAE 2068 MSE 2649 R2 0.61\n",
      "MAE 1671 MSE 2055 R2 0.663\n",
      "MAE 1832 MSE 2248 R2 0.745\n",
      "MAE 2126 MSE 2823 R2 0.495\n",
      "MAE 1722 MSE 2110 R2 0.664\n",
      "MAE 2001 MSE 2445 R2 0.631\n",
      "MAE 1995 MSE 2522 R2 0.703\n",
      "MAE 1501 MSE 1758 R2 0.811\n",
      "MAE 1971 MSE 2304 R2 0.747\n",
      "MAE 2093 MSE 2652 R2 0.372\n",
      "MAE 1873 MSE 2198 R2 0.687\n",
      "MAE 2022 MSE 2610 R2 0.547\n",
      "MAE 2123 MSE 2578 R2 0.619\n",
      "MAE 1850 MSE 2257 R2 0.529\n",
      "MAE 2469 MSE 2763 R2 0.66\n",
      "MAE 2085 MSE 2694 R2 0.694\n",
      "MAE 2111 MSE 2396 R2 0.664\n",
      "MAE 1880 MSE 2320 R2 0.744\n",
      "MAE 2330 MSE 2778 R2 0.593\n",
      "MAE 2163 MSE 2527 R2 0.681\n",
      "MAE 1804 MSE 2219 R2 0.797\n",
      "MAE 1622 MSE 2012 R2 0.78\n",
      "MAE 2265 MSE 3080 R2 0.532\n",
      "MAE 2332 MSE 2849 R2 0.7\n",
      "MAE 1948 MSE 2428 R2 0.719\n",
      "MAE 1946 MSE 2643 R2 0.318\n",
      "MAE 1837 MSE 2478 R2 0.531\n",
      "MAE 1695 MSE 2314 R2 0.686\n",
      "MAE 1532 MSE 2038 R2 0.725\n",
      "MAE 2094 MSE 2593 R2 0.683\n",
      "MAE 2159 MSE 2847 R2 0.606\n",
      "MAE 1774 MSE 2167 R2 0.752\n",
      "MAE 1634 MSE 1981 R2 0.759\n",
      "MAE 1850 MSE 2302 R2 0.726\n",
      "MAE 1919 MSE 2376 R2 0.597\n",
      "MAE 1823 MSE 2311 R2 0.761\n",
      "MAE 2054 MSE 2493 R2 0.509\n",
      "MAE 2668 MSE 3378 R2 0.486\n",
      "MAE 2273 MSE 2828 R2 0.367\n",
      "MAE 2084 MSE 2557 R2 0.707\n",
      "MAE 1750 MSE 2229 R2 0.717\n",
      "MAE 2524 MSE 3042 R2 0.302\n",
      "MAE 2048 MSE 2590 R2 0.599\n",
      "MAE 2057 MSE 2662 R2 0.673\n",
      "MAE 1709 MSE 2086 R2 0.765\n",
      "MAE 1695 MSE 2038 R2 0.812\n",
      "MAE 1843 MSE 2229 R2 0.738\n",
      "MAE 1534 MSE 1896 R2 0.754\n",
      "MAE 1955 MSE 2450 R2 0.647\n",
      "MAE 1891 MSE 2429 R2 0.714\n",
      "MAE 1732 MSE 2154 R2 0.658\n",
      "MAE 2214 MSE 2735 R2 0.625\n",
      "MAE 2369 MSE 2904 R2 0.594\n",
      "MAE 2071 MSE 2712 R2 0.691\n",
      "MAE 2109 MSE 2365 R2 0.7\n",
      "MAE 1650 MSE 2166 R2 0.805\n",
      "MAE 1903 MSE 2351 R2 0.714\n",
      "MAE 2400 MSE 2939 R2 0.479\n",
      "MAE 1489 MSE 2005 R2 0.785\n",
      "MAE 1863 MSE 2270 R2 0.728\n",
      "MAE 1771 MSE 2160 R2 0.627\n",
      "MAE 2109 MSE 2713 R2 0.478\n",
      "MAE 1762 MSE 2138 R2 0.531\n",
      "MAE 1885 MSE 2343 R2 0.617\n",
      "MAE 2158 MSE 2711 R2 0.625\n",
      "MAE 1499 MSE 1922 R2 0.69\n",
      "MAE 1803 MSE 2333 R2 0.683\n",
      "MAE 1825 MSE 2348 R2 0.708\n",
      "MAE 1951 MSE 2434 R2 0.659\n",
      "MAE 2066 MSE 2645 R2 0.649\n",
      "MAE 2384 MSE 2895 R2 0.517\n",
      "MAE 1787 MSE 2282 R2 0.719\n",
      "MAE 1876 MSE 2362 R2 0.742\n",
      "MAE 1755 MSE 2067 R2 0.746\n",
      "MAE 2098 MSE 2947 R2 0.607\n",
      "MAE 2491 MSE 2967 R2 0.381\n",
      "MAE 2197 MSE 2589 R2 0.676\n",
      "MAE 1686 MSE 2007 R2 0.767\n",
      "MAE 1739 MSE 2238 R2 0.691\n",
      "MAE 1497 MSE 1971 R2 0.805\n",
      "MAE 1717 MSE 2381 R2 0.682\n",
      "MAE 1946 MSE 2539 R2 0.61\n",
      "MAE 1547 MSE 1853 R2 0.742\n",
      "MAE 2034 MSE 2409 R2 0.554\n",
      "MAE 1571 MSE 1867 R2 0.788\n",
      "MAE 1863 MSE 2481 R2 0.769\n",
      "MAE 2129 MSE 2577 R2 0.345\n",
      "MAE 1778 MSE 2356 R2 0.703\n",
      "MAE 1918 MSE 2423 R2 0.676\n",
      "MAE 1948 MSE 2400 R2 0.689\n",
      "MAE 2298 MSE 2745 R2 0.729\n",
      "MAE 1673 MSE 2276 R2 0.663\n",
      "MAE 1490 MSE 2093 R2 0.778\n",
      "MAE 2272 MSE 2811 R2 0.683\n",
      "MAE 1652 MSE 2148 R2 0.595\n",
      "MAE 2081 MSE 2498 R2 0.467\n",
      "MAE 2013 MSE 2642 R2 0.685\n",
      "Features scores:\n",
      "0 TUR_GBR_841810-2\n",
      "1 TUR_World_841810-2\n",
      "2 TUR_FRA_841810-2\n",
      "3 TUR_USA_841810-2\n",
      "4 TUR_ITA_841810-2\n",
      "5 TUR_DEU_841810-2\n",
      "6 CHN_GBR_841810-2\n",
      "7 POL_GBR_841810-2\n",
      "8 KOR_GBR_841810-2\n",
      "9 ITA_GBR_841810-2\n",
      "10 TUR_GBR_841810_UV-2\n",
      "11 EPU_GBR-2\n",
      "12 EPU_World-2\n",
      "13 BCI_TUR-2\n",
      "14 CCI_TUR-2\n",
      "15 CLI_TUR-2\n",
      "16 GDP_TUR-2\n",
      "17 BCI_GBR-2\n",
      "18 CCI_GBR-2\n",
      "19 CLI_GBR-2\n",
      "20 GDP_GBR-2\n",
      "21 CPI_TUR-2\n",
      "22 CPI_GBR-2\n",
      "23 TRY-2\n",
      "24 GBP-2\n",
      "25 World-2\n"
     ]
    },
    {
     "data": {
      "text/plain": [
       "<matplotlib.figure.Figure at 0x23994ed5048>"
      ]
     },
     "metadata": {},
     "output_type": "display_data"
    },
    {
     "data": {
      "image/png": "[encoded data removed]",
      "text/plain": [
       "<matplotlib.figure.Figure at 0x23993be2a20>"
      ]
     },
     "metadata": {},
     "output_type": "display_data"
    }
   ],
   "source": [
    "# 2 Ver Nolu Blok\n",
    "# Internetten bulunan kod blogu http://scikit-learn.org/stable/auto_examples/ensemble/plot_forest_importances.html\n",
    "# Feature Importance Hesaplama\n",
    "# Burada asıl özellik bir veri seti yaratılıyor make_regression ile. Ve oaradakilere dogru çalışıp çalışmadığı test ediliyor.\n",
    "# Butun veri setinin girildiği ona göre önemli olan özelliklerin bulundugu kod parçası\n",
    "\n",
    "from sklearn.datasets import make_regression\n",
    "\n",
    "\n",
    "\n",
    "\n",
    "n_sample=len(X)\n",
    "n_feature=X.shape[1]\n",
    "\n",
    "number_of_split=100\n",
    "number_of_row=29\n",
    "#number_of_row=n_feature\n",
    "\n",
    "number_of_features = n_feature\n",
    "random_state_options = np.arange(0,number_of_split)\n",
    "y_predict= np.ones((number_of_row, number_of_split))\n",
    "\n",
    "feature_indices = np.ones((number_of_features, number_of_split))\n",
    "feature_importances=np.ones((number_of_features, number_of_split))\n",
    "feature_indices_score=np.ones((number_of_features))\n",
    "feature_importances_score=np.ones((number_of_features))\n",
    "j=0\n",
    "\n",
    "\n",
    "# For different split sets Random Forest Regressor runs.\n",
    "\n",
    "for random_state_i in random_state_options:\n",
    "\n",
    "    X_train, X_test, y_train, y_test = train_test_split(scaled_value_X,scaled_value_y,test_size=0.2,random_state=random_state_i,stratify=Z['Month'])\n",
    "\n",
    "    \n",
    "\n",
    "    rfc=RandomForestRegressor(n_estimators=30)\n",
    "    RandomForestRegressor.fit(rfc,X_train,y_train)\n",
    "\n",
    "    y_predict[:,j] = rfc.predict(X_test)\n",
    "    \n",
    "    result=inverse_scale_and_graph_Y_predict_and_test (y_predict[:,j],y_test,scaler_y,'NO')\n",
    "    \n",
    "    importances = rfc.feature_importances_\n",
    "    std = np.std([tree.feature_importances_ for tree in rfc.estimators_],axis=0)\n",
    "\n",
    "    indices = np.argsort(importances)[::-1]\n",
    "    feature_indices[:,j]=indices\n",
    "    feature_importances[:,j]=importances\n",
    "    j=j+1\n",
    "    \n",
    "\n",
    "print (\"Features scores:\")    \n",
    "for i in range(number_of_features):\n",
    "    feature_indices_score[i]=0\n",
    "    feature_importances_score[i]=0\n",
    "    for j in range(number_of_split):\n",
    "        \n",
    "        indice_coeff=feature_indices[i,j]\n",
    "        importances_coeff=feature_importances[i,j]\n",
    "        \n",
    "        feature_indices_score[i]=feature_indices_score[i]+(indice_coeff)\n",
    "        feature_importances_score[i]=feature_importances_score[i]+(importances_coeff)\n",
    "        \n",
    "#        print('feat=',i,'#ofsplit=',j,'tot_indice',feature_indices_score[i],\n",
    "#              'indice=',indice_coeff,'tot_importan=',feature_importances_score[i],'importan',importances_coeff )\n",
    "\n",
    "    print( i,X_Column_Names[i])#,feature_indices_score[i],'number_of_split',j+1) #,X_Column_Names[feature_indices[i,j]])\n",
    "    \n",
    "scored_feature_indices = np.argsort(feature_indices_score)\n",
    "scored_feature_importances = np.argsort(feature_importances_score)\n",
    "    \n",
    " \n",
    "    \n",
    "    \n",
    "# Plot the feature importances of the forest\n",
    "plt.gcf().clear()\n",
    "plt.figure()\n",
    "plt.title(\"{} and -{} Month Cumulative Feature Importances with {} Different Splits.png\".format(Product,MonthSeries,number_of_split))\n",
    "plt.bar(range(number_of_features), feature_importances_score[scored_feature_importances][::-1],\n",
    "       color=\"r\",  align=\"center\")\n",
    "plt.xticks(range(number_of_features), scored_feature_importances[::-1],rotation=90)\n",
    "plt.xlim([-1, number_of_features])\n",
    "\n",
    "fig_size = plt.rcParams[\"figure.figsize\"]\n",
    "fig_size[0] = 20\n",
    "fig_size[1] = 12\n",
    "plt.rcParams[\"figure.figsize\"] = fig_size\n",
    "plt.savefig(\"Plots_Feature_Selection/{} and -{} Month Cumulative Feature Importances with {} Different Splits.png\".format(Product,MonthSeries,number_of_split), format='png', dpi=300)\n",
    "\n",
    "plt.show()"
   ]
  },
  {
   "cell_type": "code",
   "execution_count": 24,
   "metadata": {
    "scrolled": true
   },
   "outputs": [
    {
     "name": "stderr",
     "output_type": "stream",
     "text": [
      "C:\\Users\\murat.ozemre\\AppData\\Local\\Continuum\\Anaconda3\\envs\\Tensor_1\\lib\\site-packages\\sklearn\\cross_validation.py:41: DeprecationWarning: This module was deprecated in version 0.18 in favor of the model_selection module into which all the refactored classes and functions are moved. Also note that the interface of the new CV iterators are different from that of this module. This module will be removed in 0.20.\n",
      "  \"This module will be removed in 0.20.\", DeprecationWarning)\n"
     ]
    },
    {
     "name": "stdout",
     "output_type": "stream",
     "text": [
      "174.42837 number_of_split 100\n",
      "115.75264999999999 number_of_split 100\n",
      "562.5356699999998 number_of_split 100\n",
      "41.250750000000004 number_of_split 100\n",
      "106.96152000000004 number_of_split 100\n",
      "136.97251999999997 number_of_split 100\n",
      "37.87921999999999 number_of_split 100\n",
      "20.75847 number_of_split 100\n",
      "32.52292000000002 number_of_split 100\n",
      "14.975169999999999 number_of_split 100\n",
      "20.21623 number_of_split 100\n",
      "26.319309999999998 number_of_split 100\n",
      "20.536249999999995 number_of_split 100\n",
      "27.65026000000001 number_of_split 100\n",
      "35.97754 number_of_split 100\n",
      "12.49364 number_of_split 100\n",
      "24.93504 number_of_split 100\n",
      "17.190029999999997 number_of_split 100\n",
      "15.428650000000006 number_of_split 100\n",
      "15.795110000000003 number_of_split 100\n",
      "10.086500000000004 number_of_split 100\n",
      "91.25979000000001 number_of_split 100\n",
      "80.19800000000004 number_of_split 100\n",
      "47.367029999999986 number_of_split 100\n",
      "30.567 number_of_split 100\n",
      "12.324459999999997 number_of_split 100\n"
     ]
    },
    {
     "data": {
      "text/plain": [
       "<matplotlib.figure.Figure at 0x239962ba240>"
      ]
     },
     "metadata": {},
     "output_type": "display_data"
    },
    {
     "data": {
      "image/png": "[encoded data removed]",
      "text/plain": [
       "<matplotlib.figure.Figure at 0x239962ba128>"
      ]
     },
     "metadata": {},
     "output_type": "display_data"
    }
   ],
   "source": [
    "# 3 Nolu Blok\n",
    "# Internetten bulunan kod blogu\n",
    "# http://blog.datadive.net/selecting-good-features-part-iii-random-forests/\n",
    "\n",
    "from sklearn.cross_validation import ShuffleSplit\n",
    "from sklearn.metrics import r2_score\n",
    "from collections import defaultdict\n",
    "from operator import itemgetter, attrgetter\n",
    "\n",
    "def getKey(item):\n",
    "    return item[0]\n",
    "\n",
    "\n",
    "\n",
    "\n",
    "\n",
    "\n",
    "rf = RandomForestRegressor()\n",
    "\n",
    "number_of_split=100\n",
    "number_of_row=27\n",
    "number_of_features = X.shape[1]\n",
    "\n",
    "\n",
    "scores = defaultdict(list)\n",
    "#feature_indices = \n",
    "random_state_options = np.arange(0,number_of_split)\n",
    "predictions= np.ones((number_of_row, number_of_split))\n",
    "feature_indices = np.ones((number_of_features, number_of_split))\n",
    "feature_importances=np.ones((number_of_features, number_of_split))\n",
    "\n",
    "feature_score=np.zeros((number_of_features))\n",
    "feature_indices_score=np.ones((number_of_features))\n",
    "feature_importances_score=np.ones((number_of_features))\n",
    "\n",
    "#R2=defaultdict(list)\n",
    "R2=np.ones(number_of_split)\n",
    "j=0\n",
    "\n",
    "sonuc =[]\n",
    "#crossvalidate the scores on a number of different random splits of the data\n",
    "\n",
    "#for train_idx, test_idx in ShuffleSplit(len(X), 10, .2):\n",
    "for train_idx, test_idx in ShuffleSplit(len(X), number_of_split, .2):\n",
    "     \n",
    "    X_train, X_test = X.iloc[train_idx], X.iloc[test_idx]\n",
    "    Y_train, Y_test = y.iloc[train_idx], y.iloc[test_idx]\n",
    "#    r = rf.fit(X_train, Y_train)\n",
    "    RandomForestRegressor.fit(rf,X_train, Y_train)    \n",
    "\n",
    "    y_predict[:,j] = rf.predict(X_test)\n",
    "    acc = int(1000*(r2_score(Y_test, rf.predict(X_test))))/1000\n",
    "    R2[j] = int(1000*(r2_score(Y_test, rf.predict(X_test))))/1000\n",
    "    \n",
    "\n",
    "    \n",
    "    importances = rf.feature_importances_\n",
    "    indices = np.argsort(importances)[::-1]\n",
    "    std = np.std([tree.feature_importances_ for tree in rf.estimators_],axis=0)\n",
    "\n",
    "    feature_indices[:,j]=indices\n",
    "    feature_importances[:,j]=importances\n",
    "#    feature_std [:,j]=std\n",
    "\n",
    "    j=j+1\n",
    "\n",
    "R2_Adj=1-R2\n",
    "score_coefficient=number_of_features*(R2_Adj - np.max(R2_Adj))/-np.ptp(R2_Adj)\n",
    "\n",
    "    \n",
    "for i in range(number_of_features):\n",
    "    feature_score[i]=0\n",
    "    feature_indices_score[i]=0\n",
    "    feature_importances_score[i]=0\n",
    "    \n",
    "    for j in range(number_of_split):\n",
    "        \n",
    "        indice_coeff=feature_indices[i,j]+1\n",
    "        importances_coeff=int((feature_importances[i,j]*10000))/10000\n",
    "        score_coeff=int((score_coefficient[j]+1)*10)/10\n",
    "\n",
    "        feature_indices_score[i]=feature_indices_score[i]+(indice_coeff)\n",
    "        feature_importances_score[i]=feature_importances_score[i]+(importances_coeff)\n",
    "\n",
    "        \n",
    "\n",
    "        score=score_coeff*(importances_coeff)\n",
    "        feature_score[i]=feature_score[i]+score\n",
    "\n",
    "\n",
    "    print( feature_score[i],'number_of_split',j+1) #,X_Column_Names[feature_indices[i,j]])\n",
    "    \n",
    "scored_feature_indices = np.argsort(feature_score)\n",
    " \n",
    "    \n",
    "# Plot the feature importances of the forest\n",
    "plt.gcf().clear()\n",
    "plt.figure()\n",
    "plt.title(\"{} and -{} Month Cumulative Feature and Score Importances with {} Different Splits\".format(Product,MonthSeries,number_of_split))\n",
    "\n",
    "plt.bar(range(number_of_features), feature_score[scored_feature_indices][::-1],\n",
    "       color=\"r\",  align=\"center\")\n",
    "plt.xticks(range(number_of_features), scored_feature_indices[::-1],rotation=90)\n",
    "plt.xlim([-1, number_of_features])\n",
    "\n",
    "fig_size = plt.rcParams[\"figure.figsize\"]\n",
    "fig_size[0] = 20\n",
    "fig_size[1] = 12\n",
    "plt.rcParams[\"figure.figsize\"] = fig_size\n",
    "plt.savefig(\"Plots_Feature_Selection/Model 3 -{} and -{} Month Cumulative Feature and Score Importances with {} Different Splits.png\".format(Product,MonthSeries,number_of_split), format='png', dpi=300)\n",
    "\n",
    "plt.show()"
   ]
  },
  {
   "cell_type": "code",
   "execution_count": 25,
   "metadata": {},
   "outputs": [
    {
     "data": {
      "text/plain": [
       "['TUR_GBR_841810-2',\n",
       " 'TUR_World_841810-2',\n",
       " 'TUR_FRA_841810-2',\n",
       " 'TUR_USA_841810-2',\n",
       " 'TUR_ITA_841810-2',\n",
       " 'TUR_DEU_841810-2',\n",
       " 'CHN_GBR_841810-2',\n",
       " 'POL_GBR_841810-2',\n",
       " 'KOR_GBR_841810-2',\n",
       " 'ITA_GBR_841810-2',\n",
       " 'TUR_GBR_841810_UV-2',\n",
       " 'EPU_GBR-2',\n",
       " 'EPU_World-2',\n",
       " 'BCI_TUR-2',\n",
       " 'CCI_TUR-2',\n",
       " 'CLI_TUR-2',\n",
       " 'GDP_TUR-2',\n",
       " 'BCI_GBR-2',\n",
       " 'CCI_GBR-2',\n",
       " 'CLI_GBR-2',\n",
       " 'GDP_GBR-2',\n",
       " 'CPI_TUR-2',\n",
       " 'CPI_GBR-2',\n",
       " 'TRY-2',\n",
       " 'GBP-2',\n",
       " 'World-2']"
      ]
     },
     "execution_count": 25,
     "metadata": {},
     "output_type": "execute_result"
    }
   ],
   "source": [
    "X_Column_Names"
   ]
  },
  {
   "cell_type": "code",
   "execution_count": null,
   "metadata": {
    "scrolled": false
   },
   "outputs": [],
   "source": [
    "# 4 Nolu Blok Train Test Split olan\n",
    "# Internetten bulunan kod blogu\n",
    "# http://blog.datadive.net/selecting-good-features-part-iii-random-forests/\n",
    "\n",
    "from sklearn.cross_validation import ShuffleSplit\n",
    "from sklearn.metrics import r2_score\n",
    "from collections import defaultdict\n",
    "from operator import itemgetter, attrgetter\n",
    "\n",
    "def getKey(item):\n",
    "    return item[0]\n",
    "\n",
    "\n",
    "\n",
    "\n",
    "\n",
    "\n",
    "\n",
    "rf = RandomForestRegressor()\n",
    "\n",
    "\n",
    "number_of_split=100\n",
    "number_of_row=27\n",
    "number_of_features = X.shape[1]\n",
    "\n",
    "\n",
    "random_state_options = np.arange(0,number_of_split)\n",
    "predictions= np.ones((number_of_row, number_of_split))\n",
    "feature_indices = np.ones((number_of_features, number_of_split))\n",
    "feature_importances=np.ones((number_of_features, number_of_split))\n",
    "feature_indices_score=np.ones((number_of_features))\n",
    "feature_importances_score=np.ones((number_of_features))\n",
    "\n",
    "scores = defaultdict(list)\n",
    "#feature_indices = \n",
    "feature_std = np.ones((number_of_features, number_of_split))\n",
    "feature_score=np.zeros((number_of_features))\n",
    "\n",
    "#R2=defaultdict(list)\n",
    "R2=np.ones(number_of_split)\n",
    "j=0\n",
    "\n",
    "sonuc =[]\n",
    "\n",
    "\n",
    "for random_state_i in random_state_options:\n",
    "\n",
    "    X_train, X_test, Y_train, Y_test = train_test_split(X,y,test_size=0.2,random_state=random_state_i,stratify=Z['Month'])\n",
    "\n",
    "    RandomForestRegressor.fit(rf,X_train, Y_train)    \n",
    "\n",
    "    y_predict[:,j] = rf.predict(X_test)\n",
    "    acc = int(1000*(r2_score(Y_test, rf.predict(X_test))))/1000\n",
    "    R2[j] = int(1000*(r2_score(Y_test, rf.predict(X_test))))/1000\n",
    "        \n",
    "    importances = rf.feature_importances_\n",
    "    indices = np.argsort(importances)[::-1]\n",
    "    std = np.std([tree.feature_importances_ for tree in rf.estimators_],axis=0)\n",
    "\n",
    "\n",
    "    feature_importances[:,j]=importances\n",
    "    feature_indices[:,j]=indices\n",
    "    feature_std [:,j]=std\n",
    "\n",
    "    j=j+1\n",
    "\n",
    "R2_Adj=1-R2\n",
    "score_coefficient=number_of_features*(R2_Adj - np.max(R2_Adj))/-np.ptp(R2_Adj)\n",
    "\n",
    "    \n",
    "print (\"Features scores:\")    \n",
    "for i in range(number_of_features):\n",
    "    feature_score[i]=0\n",
    "    feature_indices_score[i]=0\n",
    "    feature_importances_score[i]=0\n",
    "    \n",
    "    for j in range(number_of_split):\n",
    "        \n",
    "        indice_coeff=feature_indices[i,j]+1\n",
    "        importances_coeff=int((feature_importances[i,j]*10000))/10000\n",
    "        score_coeff=int((score_coefficient[j]+1)*10)/10\n",
    "\n",
    "        feature_indices_score[i]=feature_indices_score[i]+(indice_coeff)\n",
    "        feature_importances_score[i]=feature_importances_score[i]+(importances_coeff)\n",
    "\n",
    "        score=score_coeff*(importances_coeff)\n",
    "        feature_score[i]=feature_score[i]+score\n",
    "\n",
    "\n",
    "    print( feature_score[i],'number_of_split',j+1) #,X_Column_Names[feature_indices[i,j]])\n",
    "    \n",
    "scored_feature_indices = (np.argsort(feature_score))\n",
    "\n",
    "\n",
    "# Plot the feature importances of the forest\n",
    "plt.gcf().clear()\n",
    "plt.figure()\n",
    "plt.title(\"{} and {} Month Cumulative Feature and Score Importances with {} Different Splits\".format(Product,MonthSeries,number_of_split))\n",
    "plt.bar(range(number_of_features), feature_score[scored_feature_indices][::-1],\n",
    "       color=\"r\",  align=\"center\")\n",
    "plt.xticks(range(number_of_features), scored_feature_indices[::-1],rotation=90)\n",
    "plt.xlim([-1, number_of_features])\n",
    "\n",
    "fig_size = plt.rcParams[\"figure.figsize\"]\n",
    "fig_size[0] = 20\n",
    "fig_size[1] = 12\n",
    "plt.rcParams[\"figure.figsize\"] = fig_size\n",
    "plt.savefig(\"Plots_Feature_Selection/Plots_Feature_Selection/{} and {} Month Cumulative Feature and Score Importances with {} Different Splits.png\".format(Product,MonthSeries,number_of_split), format='png', dpi=300)\n",
    "\n",
    "plt.show()\n",
    "\n",
    "\n",
    "        "
   ]
  },
  {
   "cell_type": "code",
   "execution_count": null,
   "metadata": {
    "collapsed": true
   },
   "outputs": [],
   "source": [
    "# RAndom Forest denemeleri için kullanılan metod\n",
    "\n",
    "def randomforest(X_train, X_test, y_train, y_test,scaler_y,est,min_leaf,random,feat,max_leaf,min_weight,min_impurity):\n",
    "    from sklearn.model_selection import cross_val_score   \n",
    "    from sklearn.model_selection import cross_val_predict\n",
    "    \n",
    "    rfc=RandomForestRegressor(n_estimators=est,\n",
    "                              min_samples_leaf=min_leaf,\n",
    "                              random_state =random,\n",
    "                              max_features=feat,\n",
    "                              max_leaf_nodes=max_leaf,\n",
    "                              min_weight_fraction_leaf =min_weight,\n",
    "                              min_impurity_decrease=min_impurity\n",
    "                             )\n",
    "   \n",
    "    RandomForestRegressor.fit(rfc,X_train,y_train)\n",
    "\n",
    "    y_predict_test = rfc.predict(X_test)\n",
    "    \n",
    "    result=inverse_scale_and_graph_Y_predict_and_test(y_predict_test,y_test,scaler_y,'NO')\n",
    "    \n",
    "    return result\n",
    "\n"
   ]
  },
  {
   "cell_type": "code",
   "execution_count": null,
   "metadata": {},
   "outputs": [],
   "source": [
    "randomforest(X_train, X_test, y_train, y_test,scaler_y,200,5,10,20,5,0.1,0.01)"
   ]
  },
  {
   "cell_type": "code",
   "execution_count": null,
   "metadata": {
    "collapsed": true
   },
   "outputs": [],
   "source": [
    "def calıstır_randomforest(X_train, X_test, y_train, y_test,scaler_y,Product,MonthSeries,Scaler_Type):\n",
    "#ver2    estimator_options = [200, 300, 350, 400,1000]\n",
    "#ver2    sample_leaf_options = [1,5,10,30,50]\n",
    "    #sample_leaf_options = [1,5,10,20]\n",
    "    #random_state_options =[1,10,50,75,200]\n",
    "#ver2    random_state_options =[10]\n",
    "    #max_features_option=[3,5,10,20]\n",
    "    #max_features_option=[10,20,40,54]\n",
    "#ver2    max_features_option=[10,\"log2\",\"sqrt\",\"auto\"]\n",
    "    \n",
    "    estimation_method='random forest'\n",
    "#ver3    estimator_options = [200, 300]\n",
    "#ver3    min_sample_leaf_options = [5,10]\n",
    "#ver3     random_state_options =[10]\n",
    "#ver3     max_features_option=[10,\"log2\",\"sqrt\",\"auto\"]\n",
    "#ver3    max_leaf_nodes_options=[5] \n",
    "#ver3    min_weight_fraction_leaf_options=[0.01,0.1,0.5] \n",
    "#ver3    min_impurity_decrease_options =[0.00001,0.01,0.05,1]\n",
    "\n",
    "    estimator_options = [200]\n",
    "    min_sample_leaf_options = [5]\n",
    "    random_state_options =[10]\n",
    "    max_features_option=[10]#,\"log2\",\"sqrt\",\"auto\"]\n",
    "    max_leaf_nodes_options=[5] \n",
    "    min_weight_fraction_leaf_options=[0.01] \n",
    "    min_impurity_decrease_options =[0.00001,0.01,0.05,1]\n",
    "\n",
    "\n",
    "    \n",
    "#    estimator_options = [200, 300, 350, 400,1000]\n",
    "#    min_sample_leaf_options = [1,5,10,30,50]\n",
    "#    random_state_options =[10,35,86]\n",
    "#    max_features_option=[10,\"log2\",\"sqrt\",\"auto\"]\n",
    "#    max_leaf_nodes_options=[5,10,35] \n",
    "#    min_weight_fraction_leaf_options=[0.01,0.1,0.5] \n",
    "#    min_impurity_decrease_options =[0.00001,0.01,0.05,1]    \n",
    "    \n",
    "    sonuc = pd.DataFrame(columns='EstMethod Product Scaler MonthSeries EST LEAF FEAT MAX_LEAF MIN_WEIGHT MIN_IMPURITY MAE MSE R2'.split())\n",
    "    i=0\n",
    "    results = pd.DataFrame()\n",
    "    repeats=3\n",
    "    error_r2 = list()\n",
    "    for est in estimator_options:\n",
    "\n",
    "        for min_leaf in min_sample_leaf_options:\n",
    "        \n",
    "            for f in range(0, 1):\n",
    "        \n",
    "                feat=max_features_option[f]\n",
    "       \n",
    "                for random in random_state_options:\n",
    "                    \n",
    "                    for max_leaf in max_leaf_nodes_options:\n",
    "                        \n",
    "                         for min_weight in min_weight_fraction_leaf_options:\n",
    "                                \n",
    "                            for min_impurity in min_impurity_decrease_options:\n",
    "                                \n",
    "                              #  for r in range(repeats):\n",
    "                            \n",
    "                            \n",
    "                                    estimate_metric=randomforest(X_train, X_test, y_train, y_test,scaler_y,est,min_leaf,random,feat,\n",
    "                                                                 max_leaf,min_weight,min_impurity)\n",
    "                                    MAE=estimate_metric[0]\n",
    "                                    MSE=estimate_metric[1]\n",
    "                                    R2=estimate_metric[2]\n",
    "                                    print(MonthSeries,'esti',est,'leaf',min_leaf,'feature',feat,max_leaf,min_weight,min_impurity,MAE,MSE,R2)\n",
    "                                    sonuc.loc[i]=[estimation_method,Product,Scaler_Type,MonthSeries,est,min_leaf,feat,max_leaf,min_weight,min_impurity,MAE,MSE,R2]\n",
    "                                    i=i+1\n",
    "                                    error_r2.append(R2)\n",
    "                                    print(error_r2)\n",
    "                                    \n",
    "                              #  results[str(min_impurity)]=error_r2\n",
    "                              #  print(results)    \n",
    "    return sonuc     "
   ]
  },
  {
   "cell_type": "code",
   "execution_count": null,
   "metadata": {},
   "outputs": [],
   "source": [
    "#Feature Reduction percentile oranına göre oluyor\n",
    "percentile=25\n",
    "threshold_for_feature_selection=np.percentile(feature_score[scored_feature_indices], percentile)\n",
    "sonuc=pd.DataFrame()\n",
    "for ScalerType in Scaler_Type_Options:\n",
    "\n",
    "    Data_Core=readexcel(Product)\n",
    "    XY=set_Data(Product,Data_Core,MonthSeries)\n",
    "    y=set_y(Product,XY)\n",
    "    Z=set_z(Product,XY)\n",
    "    X=set_X(Product,XY)\n",
    "\n",
    "    \n",
    "    X= Xscaler(X,y,ScalerType)\n",
    "    scaler= MinMaxScaler(feature_range=(0, 1))\n",
    "    \n",
    "       \n",
    "    #Feature Reduction percentile oranına göre oluyor\n",
    "    X=X.loc[:,scored_feature_indices[feature_score[scored_feature_indices]>threshold_for_feature_selection]]\n",
    "\n",
    "    X_train, X_test, y_train, y_test = train_test_split(X,y,test_size=0.2,random_state=42)\n",
    "\n",
    "\n",
    "#    sonuc=pd.concat([sonuc,calıstır_randomforest(Product,MonthSeries,ScalerType)])\n",
    "#    sonuc=calıstır_randomforest(Product,MonthSeries,ScalerType)\n",
    "\n",
    "    for MonthSerie in MonthSeries_option:\n",
    "        XY=set_Data(Product,Data_Core,MonthSeries)\n",
    "        y=set_y(Product,XY)\n",
    "        Z=set_z(Product,XY)\n",
    "        X=set_X(Product,XY)\n",
    "\n",
    "        values = y.values\n",
    "        values = values.astype('float32')\n",
    "        scaler_y= MinMaxScaler(feature_range=(0, 1))\n",
    "\n",
    "        scaled_value_y = scaler_y.fit_transform(values)\n",
    "        scaled_value_y = pd.DataFrame(data=scaled_value_y)\n",
    "        \n",
    "        \n",
    "        X= Xscaler(X,y,ScalerType)\n",
    "    \n",
    "        X=X.loc[:,scored_feature_indices[feature_score[scored_feature_indices]>threshold_for_feature_selection]]\n",
    "\n",
    "    \n",
    "#        X_train, X_test, y_train, y_test = train_test_split(X,y,test_size=0.2,random_state=42)\n",
    "        X_train, X_test, y_train, y_test = train_test_split(X,scaled_value_y,test_size=0.2,random_state=42,stratify=Z['Month'])\n",
    "\n",
    "          sonuc=pd.concat([sonuc,calıstır_randomforest(X_train, X_test, y_train, y_test,scaler_y,Product,MonthSerie,ScalerType)])\n",
    "\n",
    "max_R2=int((sonuc['R2'].max())*1000)/1000\n",
    "filename='Out_Random_Predict_Results_{one}_Product{two}_{four}perc_with max{tre}'.format(one=datetime.now().strftime('Date_%m-%d_Time%H_%M'),\n",
    "                                                                                      two=Product,tre=max_R2,four=percentile)\n",
    "sonuc.to_excel('{}.xlsx'.format(filename),index = False)      \n"
   ]
  },
  {
   "cell_type": "code",
   "execution_count": null,
   "metadata": {
    "collapsed": true
   },
   "outputs": [],
   "source": [
    "Data_Core=readexcel(Product)\n",
    "XY=set_Data(Product,Data_Core,MonthSeries)\n",
    "y=set_y(Product,XY)\n",
    "Z=set_z(Product,XY)\n",
    "X=set_X(Product,XY)\n",
    "\n",
    "values = X.values\n",
    "values = values.astype('float32')\n",
    "scaler_X= MinMaxScaler(feature_range=(0, 1))\n",
    "\n",
    "scaled_value_X = scaler_X.fit_transform(values)\n",
    "scaled_value_X = pd.DataFrame(data=scaled_value_X[:,:])\n",
    "\n",
    "values = y.values\n",
    "values = values.astype('float32')\n",
    "scaler_y= MinMaxScaler(feature_range=(0, 1))\n",
    "\n",
    "scaled_value_y = scaler_y.fit_transform(values)\n",
    "scaled_value_y = pd.DataFrame(data=scaled_value_y)\n",
    "\n",
    "X_train, X_test, y_train, y_test = train_test_split(scaled_value_X,scaled_value_y,test_size=0.2,random_state=42,stratify=Z['Month'])\n",
    "\n",
    "\n",
    "#rfc=RandomForestRegressor()\n",
    "#RandomForestRegressor.fit(rfc,X,y)\n",
    "\n",
    "est = 200\n",
    "min_leaf = 5\n",
    "random =10\n",
    "feat=\"log2\"\n",
    "max_leaf=5 \n",
    "min_weight=0.01 \n",
    "min_impurity=0.00001\n",
    "\n",
    "\n",
    "rfc=RandomForestRegressor(n_estimators=est,\n",
    "                              min_samples_leaf=min_leaf,\n",
    "                              random_state =random,\n",
    "                              max_features=feat,\n",
    "                              max_leaf_nodes=max_leaf,\n",
    "                              min_weight_fraction_leaf =min_weight,\n",
    "                              min_impurity_split=min_impurity\n",
    "                             )\n",
    "\n",
    "#rfc=RandomForestRegressor()\n",
    "\n",
    "RandomForestRegressor.fit(rfc,X_train,y_train)\n",
    "\n",
    "y_predict_test = rfc.predict(X_test)\n",
    "inv_y_predict_test = scaler_y.inverse_transform(y_predict_test)\n",
    "predictions=inv_y_predict_test\n",
    "\n",
    "inv_y_test = scaler_y.inverse_transform(y_test)\n",
    "inv_y_test = inv_y_test[:,0]\n",
    "\n",
    "\n",
    "print('MAE',int(metrics.mean_absolute_error(inv_y_test, predictions)),\n",
    "      'MSE',int(sqrt(metrics.mean_squared_error(inv_y_test, predictions))),\n",
    "      'R2',int(1000*(metrics.r2_score(inv_y_test, predictions)))/1000\n",
    "     )\n",
    "plt.scatter(inv_y_test,predictions)\n"
   ]
  },
  {
   "cell_type": "code",
   "execution_count": null,
   "metadata": {
    "collapsed": true
   },
   "outputs": [],
   "source": [
    "type(sonuc)"
   ]
  },
  {
   "cell_type": "code",
   "execution_count": null,
   "metadata": {
    "collapsed": true
   },
   "outputs": [],
   "source": [
    "XY=set_Data(Product,Data_Core,MonthSeries)\n",
    "y=set_y(Product,XY)\n",
    "Z=set_z(Product,XY)\n",
    "X=set_X(Product,XY)"
   ]
  },
  {
   "cell_type": "code",
   "execution_count": null,
   "metadata": {},
   "outputs": [],
   "source": [
    "X= Xscaler(X,y,ScalerType)"
   ]
  },
  {
   "cell_type": "code",
   "execution_count": null,
   "metadata": {
    "collapsed": true
   },
   "outputs": [],
   "source": [
    "from sklearn.neural_network import MLPRegressor"
   ]
  },
  {
   "cell_type": "code",
   "execution_count": null,
   "metadata": {
    "collapsed": true
   },
   "outputs": [],
   "source": [
    "def nn (alph,max_iteration,slv,random,hidden_layer):\n",
    "    MLP = MLPRegressor(\n",
    "                              alpha = alph,\n",
    "                              solver=slv ,\n",
    "                              max_iter=max_iteration,\n",
    "                              random_state =random,\n",
    "                              hidden_layer_sizes=hidden_layer\n",
    "    )\n",
    "    MLPRegressor.fit(MLP,X_train,y_train)\n",
    "    \n",
    "    predictions = MLP.predict(X_test)\n",
    "    MAE=int(metrics.mean_absolute_error(y_test, predictions))\n",
    "    MSE=int(sqrt(metrics.mean_squared_error(y_test, predictions)))\n",
    "    R2=int(1000*(metrics.r2_score(y_test, predictions)))/1000\n",
    "    return MAE,MSE,R2 \n"
   ]
  },
  {
   "cell_type": "code",
   "execution_count": null,
   "metadata": {
    "collapsed": true
   },
   "outputs": [],
   "source": [
    " def calıstır_nn(Product,MonthSeries,Scaler_Type):\n",
    "    estimation_method='nn'\n",
    "    alpha_options = [0.0001,0.00000001]\n",
    "    solver_options = ['lbfgs', 'adam' ] # sgd solver cok sapıttı\n",
    "    max_iteration_options = [50000]#,60000,100000]\n",
    "    #random_state_options =[1,10,50,75,200]\n",
    "    #random_state_options =[10,50,90]\n",
    "    random_state_options =[90]\n",
    "    hidden_layer_sizes_options=[(30,100,10)]#,(30,30),(100,100),(30,30,30)]\n",
    "\n",
    "    sonuc = pd.DataFrame(columns='EstMethod Product Scaler MonthSeries alpha max_iteration slv hidden_layer random MAE MSE R2'.split())\n",
    "    i=0\n",
    "\n",
    "    for alpha in alpha_options:\n",
    "    \n",
    "        for max_iteration in max_iteration_options:\n",
    "\n",
    "            for slv in solver_options:\n",
    "        \n",
    "                for hidden_layer in hidden_layer_sizes_options:\n",
    "           \n",
    "                    for random in random_state_options:\n",
    "                \n",
    "                        estimate_metric=nn(alpha,max_iteration,slv,random,hidden_layer)\n",
    "                    \n",
    "                        MAE=estimate_metric[0]\n",
    "                        MSE=estimate_metric[1]\n",
    "                        R2=estimate_metric[2]\n",
    "                        print('iter:',max_iteration,'slvr:',slv,'random:',random,'layers:',hidden_layer,\n",
    "                          MAE,MSE,R2)\n",
    "                        sonuc.loc[i]=[estimation_method,Product,Scaler_Type,MonthSeries,alpha,max_iteration,slv,hidden_layer,random,MAE,MSE,R2]\n",
    "                        i=i+1\n",
    "    return sonuc "
   ]
  },
  {
   "cell_type": "code",
   "execution_count": null,
   "metadata": {
    "scrolled": true
   },
   "outputs": [],
   "source": [
    "Data_Core=readexcel(Product)\n",
    "XY=set_Data(Product,Data_Core,MonthSeries)\n",
    "y=set_y(Product,XY)\n",
    "Z=set_z(Product,XY)\n",
    "X=set_X(Product,XY)\n",
    "\n",
    "values = X.values\n",
    "values = values.astype('float32')\n",
    "scaler_X= MinMaxScaler(feature_range=(0, 1))\n",
    "\n",
    "scaled_value_X = scaler_X.fit_transform(values)\n",
    "scaled_value_X = pd.DataFrame(data=scaled_value_X[:,:])\n",
    "\n",
    "values = y.values\n",
    "values = values.astype('float32')\n",
    "scaler_y= MinMaxScaler(feature_range=(0, 1))\n",
    "\n",
    "scaled_value_y = scaler_y.fit_transform(values)\n",
    "scaled_value_y = pd.DataFrame(data=scaled_value_y)\n",
    "\n",
    "X_train, X_test, y_train, y_test = train_test_split(scaled_value_X,scaled_value_y,test_size=0.2,random_state=42,stratify=Z['Month'])\n",
    "\n",
    "\n",
    "#Data_Core=readexcel(Product)\n",
    "#y=set_y(Product,Data_Core)\n",
    "#X=set_Data(Product,Data_Core,MonthSeries)\n",
    "\n",
    "#X=pd.DataFrame(StandardScaler().fit_transform(X,y))\n",
    "#X= Xscaler(X,y,ScalerType)\n",
    "\n",
    "#X_train, X_test, y_train, y_test = train_test_split(X,y,test_size=0.2,random_state=42)\n",
    "\n",
    "sonuc=calıstır_nn(Product,MonthSeries,ScalerType)\n",
    "filename='Out_NN_Prediction_Results_{one}_Product{two}'.format(one=datetime.now().strftime('Date_%m-%d_Time%H_%M'),two=Product)\n",
    "\n",
    "\"\"\"for MonthSerie in MonthSeries_option:\n",
    "        XY=set_Data(Product,Data_Core,MonthSeries)\n",
    "        y=set_y(Product,XY)\n",
    "        Z=set_z(Product,XY)\n",
    "        X=set_X(Product,XY)\n",
    "\n",
    "        values = X.values\n",
    "        values = values.astype('float32')\n",
    "        scaler_X= MinMaxScaler(feature_range=(0, 1))\n",
    "\n",
    "        scaled_value_X = scaler_X.fit_transform(values)\n",
    "        scaled_value_X = pd.DataFrame(data=scaled_value_X[:,:])\n",
    "\n",
    "        values = y.values\n",
    "        values = values.astype('float32')\n",
    "        scaler_y= MinMaxScaler(feature_range=(0, 1))\n",
    "\n",
    "        scaled_value_y = scaler_y.fit_transform(values)\n",
    "        scaled_value_y = pd.DataFrame(data=scaled_value_y)\n",
    "    \n",
    "        X_train, X_test, y_train, y_test = train_test_split(scaled_value_X,scaled_value_y,test_size=0.2,random_state=42,stratify=Z['Month'])\n",
    "\n",
    "    \n",
    "        sonuc=pd.concat([sonuc,calıstır_nn(Product,MonthSerie,ScalerType)])\n",
    "\"\"\"\n",
    "sonuc.to_excel('{}.xlsx'.format(filename),index = False)"
   ]
  },
  {
   "cell_type": "code",
   "execution_count": null,
   "metadata": {
    "collapsed": true
   },
   "outputs": [],
   "source": [
    "# Diğer Deneme Calısmaları\n",
    "from scipy.stats import randint as sp_randint\n",
    "from sklearn import svm, datasets\n",
    "from sklearn.model_selection import GridSearchCV\n",
    "from sklearn.model_selection import RandomizedSearchCV"
   ]
  },
  {
   "cell_type": "code",
   "execution_count": null,
   "metadata": {
    "collapsed": true
   },
   "outputs": [],
   "source": [
    "# RandomizedSearch ve Grid Search"
   ]
  },
  {
   "cell_type": "raw",
   "metadata": {},
   "source": [
    "clf = RandomForestRegressor()\n",
    "clf = RandomForestClassifier(n_estimators=20)\n",
    "rfc=RandomForestRegressor()\n",
    "# Utility function to report best scores\n",
    "def report(results, n_top=3):\n",
    "    for i in range(1, n_top + 1):\n",
    "        candidates = np.flatnonzero(results['rank_test_score'] == i)\n",
    "        for candidate in candidates:\n",
    "            print(\"Model with rank: {0}\".format(i))\n",
    "            print(\"Mean validation score: {0:.3f} (std: {1:.3f})\".format(\n",
    "                  results['mean_test_score'][candidate],\n",
    "                  results['std_test_score'][candidate]))\n",
    "            print(\"Parameters: {0}\".format(results['params'][candidate]))\n",
    "            print(\"\")"
   ]
  },
  {
   "cell_type": "code",
   "execution_count": null,
   "metadata": {
    "collapsed": true
   },
   "outputs": [],
   "source": [
    "   \n",
    "# specify parameters and distributions to sample from\n",
    "param_dist = {\"max_depth\": [3, None],\n",
    "              \"max_features\": [\"auto\", \"sqrt\",\"log2\",None],\n",
    "              \"min_samples_split\": sp_randint(2,11),\n",
    "#              \"min_weight_fraction_leaf\": sp_randint(0., 0.5),\n",
    "              \"min_samples_leaf\": sp_randint(1, 11),\n",
    "              \"bootstrap\": [True, False],\n",
    "#              \"warm_start\": [True, False],\n",
    "#              \"random_state\": sp_randint(2, 20)\n",
    "             }"
   ]
  },
  {
   "cell_type": "code",
   "execution_count": null,
   "metadata": {
    "collapsed": true
   },
   "outputs": [],
   "source": [
    "# run randomized search\n",
    "n_iter_search = 50\n",
    "random_search = RandomizedSearchCV(clf, param_distributions=param_dist,\n",
    "                                   n_iter=n_iter_search)\n",
    "start = time()\n",
    "random_search.fit(X, y)\n",
    "print(\"RandomizedSearchCV took %.2f seconds for %d candidates\"\n",
    "      \" parameter settings.\" % ((time() - start), n_iter_search))\n",
    "report(random_search.cv_results_)"
   ]
  },
  {
   "cell_type": "code",
   "execution_count": null,
   "metadata": {
    "collapsed": true
   },
   "outputs": [],
   "source": [
    "# use a full grid over all parameters\n",
    "param_grid = {\n",
    "\n",
    "#              \"max_depth\": [3, None],\n",
    "#              \"max_features\": [\"auto\", \"sqrt\",\"log2\",None],\n",
    "#              \"min_samples_split\": [2, 3, 10],\n",
    "#              \"min_samples_split\": [2],\n",
    "#              \"min_samples_leaf\": [1, 3, 10, 20],\n",
    "#              \"bootstrap\": [True, False],\n",
    "#              \"criterion\": [\"gini\", \"entropy\"]\n",
    "    \"n_estimators\":[200, 300, 350, 400,1000],\n",
    "    \"min_samples_leaf\" :[1,5,10],\n",
    "    \"random_state\" : [10],\n",
    "    \"max_features\":[1,2]\n",
    "\n",
    "}\n",
    "\n",
    "\n",
    "\n",
    "    \n",
    "#    \"n_estimators\":[200, 300, 350, 400,1000],\n",
    "#    \"min_samples_leaf\" :[1,5,10],\n",
    "#    \"random_state\" : [10],\n",
    "#    \"max_features\":[3,5,10,20],\n",
    "\n",
    "\n",
    "# run grid search\n",
    "grid_search = GridSearchCV(clf, param_grid=param_grid)\n",
    "start = time()\n",
    "grid_search.fit(X, y)\n",
    "\n",
    "print(\"GridSearchCV took %.2f seconds for %d candidate parameter settings.\"\n",
    "      % (time() - start, len(grid_search.cv_results_['params'])))\n",
    "report(grid_search.cv_results_)"
   ]
  },
  {
   "cell_type": "code",
   "execution_count": null,
   "metadata": {
    "collapsed": true
   },
   "outputs": [],
   "source": []
  }
 ],
 "metadata": {
  "kernelspec": {
   "display_name": "Python 3",
   "language": "python",
   "name": "python3"
  },
  "language_info": {
   "codemirror_mode": {
    "name": "ipython",
    "version": 3
   },
   "file_extension": ".py",
   "mimetype": "text/x-python",
   "name": "python",
   "nbconvert_exporter": "python",
   "pygments_lexer": "ipython3",
   "version": "3.6.2"
  }
 },
 "nbformat": 4,
 "nbformat_minor": 2
}
