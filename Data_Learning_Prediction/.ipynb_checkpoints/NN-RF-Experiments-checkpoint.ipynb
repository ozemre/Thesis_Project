{
 "cells": [
  {
   "cell_type": "code",
   "execution_count": 107,
   "metadata": {},
   "outputs": [],
   "source": [
    "\n",
    "from __future__ import print_function\n",
    "import os\n",
    "import sys\n",
    "\n",
    "import numpy as np\n",
    "import pandas as pd\n",
    "\n",
    "import datetime\n",
    "from math import sqrt\n",
    "from math import exp\n",
    "import math\n",
    "from numpy import concatenate\n",
    "from matplotlib import pyplot\n",
    "from pandas import read_csv\n",
    "from pandas import DataFrame\n",
    "from pandas import concat\n",
    "from sklearn.preprocessing import MinMaxScaler\n",
    "from sklearn.preprocessing import LabelEncoder\n",
    "from sklearn.metrics import mean_squared_error\n",
    "from sklearn import metrics\n",
    "from sklearn.ensemble import RandomForestRegressor\n",
    "from keras.models import Sequential\n",
    "from keras.models import Model\n",
    "from keras.models import load_model\n",
    "from keras.callbacks import ModelCheckpoint\n",
    "from keras.callbacks import ReduceLROnPlateau\n",
    "from keras.callbacks import EarlyStopping\n",
    "\n",
    "from keras.layers import Dense,Input, Dropout\n",
    "from keras.layers import LSTM\n",
    "from keras.layers import Activation\n",
    "from keras import optimizers\n",
    "import keras.backend as K\n",
    "\n",
    "\n",
    "from matplotlib import pyplot\n",
    "from statsmodels.tsa.seasonal import seasonal_decompose\n",
    "from matplotlib import pyplot\n",
    "import matplotlib.pyplot as plt\n",
    "from random import gauss\n",
    "from random import seed\n",
    "#from pandas import Series\n",
    "from pandas.plotting import autocorrelation_plot\n",
    "from matplotlib import pyplot\n",
    "from statsmodels.graphics.tsaplots import plot_pacf\n",
    "from statsmodels.graphics.tsaplots import plot_acf\n",
    "from statsmodels.tsa.stattools import adfuller\n",
    "from random import randrange\n",
    "\n",
    "from sklearn.cross_validation import train_test_split\n",
    "import seaborn as sns\n",
    "%matplotlib inline\n",
    "import matplotlib.pyplot as plt\n",
    "import random\n",
    "from random import gauss\n",
    "from random import seed\n",
    "import sys\n",
    "import warnings\n",
    "\n",
    "if not sys.warnoptions:\n",
    "    warnings.simplefilter(\"ignore\")\n",
    "    \n",
    "from scipy.stats.stats import pearsonr    \n"
   ]
  },
  {
   "cell_type": "code",
   "execution_count": 108,
   "metadata": {},
   "outputs": [
    {
     "data": {
      "text/plain": [
       "'03-07 15:28'"
      ]
     },
     "execution_count": 108,
     "metadata": {},
     "output_type": "execute_result"
    }
   ],
   "source": [
    "from datetime import datetime\n",
    "datetime.now().strftime('%m-%d %H:%M')"
   ]
  },
  {
   "cell_type": "code",
   "execution_count": 109,
   "metadata": {
    "collapsed": true
   },
   "outputs": [],
   "source": [
    "import Experiment_Ready as experim\n"
   ]
  },
  {
   "cell_type": "code",
   "execution_count": 110,
   "metadata": {},
   "outputs": [
    {
     "data": {
      "text/plain": [
       "'C:\\\\Users\\\\murat.ozemre\\\\Desktop\\\\Thesis_Project\\\\Data_Learning_Prediction\\\\Result_Plots'"
      ]
     },
     "execution_count": 110,
     "metadata": {},
     "output_type": "execute_result"
    }
   ],
   "source": [
    "os.getcwd()"
   ]
  },
  {
   "cell_type": "code",
   "execution_count": 170,
   "metadata": {
    "collapsed": true
   },
   "outputs": [],
   "source": [
    "Product_Type_Options = [841810,841840,841850]\n",
    "Product=Product_Type_Options[2] #841810\n",
    "\n",
    "Productname=Product\n",
    "Exp_Country='CHN' # 'CHN'\n",
    "Imp_Country='GBR'\n",
    "\n",
    "if Exp_Country=='CHN':\n",
    "    Currency='CNY'\n",
    "    EXP0='TUR'   \n",
    "elif Exp_Country=='TUR':\n",
    "    Currency='TRY'\n",
    "    EXP0='CHN'   "
   ]
  },
  {
   "cell_type": "code",
   "execution_count": 171,
   "metadata": {
    "collapsed": true
   },
   "outputs": [],
   "source": [
    "#Default values\n",
    "\n",
    "dependenttype='same'\n",
    "percent=100\n",
    "MonthSeries=\"3\"\n",
    "\n",
    "if Exp_Country=='CHN':\n",
    "        if Product==841810:\n",
    "            MonthSeries=\"_34\"\n",
    "            percent=50\n",
    "            dependenttype='same'\n",
    "        elif Product==841840:\n",
    "            MonthSeries=\"_345\"\n",
    "            percent=50\n",
    "            dependenttype='log'\n",
    "        elif Product==841850:\n",
    "            MonthSeries=\"_34\"\n",
    "            percent=100\n",
    "            dependenttype='log'\n",
    "elif Exp_Country=='TUR':\n",
    "    print(Exp_Country)\n",
    "    MonthSeries=\"3\"\n",
    "    percent=50\n",
    "\n",
    "\n",
    "\n"
   ]
  },
  {
   "cell_type": "code",
   "execution_count": 172,
   "metadata": {
    "collapsed": true
   },
   "outputs": [],
   "source": [
    "os.chdir('C:/Users/murat.ozemre/Desktop/Thesis_Project/Data_Sources_and_Preparation')\n",
    "\n",
    "Data_Core1 = pd.ExcelFile('Data_{}_{}_{}.xlsx'.format(Exp_Country,Imp_Country,Product))\n",
    "y = Data_Core1.parse('Y', header=0,index_col=None, na_values=['NA'])['{}_{}_{}'.format(Exp_Country,Imp_Country,Product)]\n",
    "Z = Data_Core1.parse('Y', header=0,index_col=None, na_values=['NA'])[['Date','Year','Month']]\n",
    "\n",
    "X = Data_Core1.parse('X{}'.format(MonthSeries), header=0,index_col=None, na_values=['NA'])\n",
    "X.drop(['Date','Year','Month'], axis=1, inplace=True)\n",
    "X_Column_Names=list(X.columns.values)\n",
    "n_feature=X.shape[1]\n",
    "\n",
    "#y=y.iloc[3:]\n",
    "#X=X.iloc[3:,:]\n",
    "#Z=Z.iloc[3:,:]\n",
    "\n",
    "Xhat = Data_Core1.parse('Xhat', header=0,index_col=None, na_values=['NA'])\n",
    "Xhat.drop(['Date','Year','Month'], axis=1, inplace=True)\n",
    "\n",
    "\n"
   ]
  },
  {
   "cell_type": "code",
   "execution_count": 173,
   "metadata": {
    "collapsed": true
   },
   "outputs": [],
   "source": [
    "if dependenttype=='same':\n",
    "    dependent_variable=y\n",
    "elif dependenttype=='log':\n",
    "    dependent_variable=y.apply(np.log)\n",
    "elif dependenttype=='sqrt':\n",
    "    dependent_variable=y.apply(np.sqrt)"
   ]
  },
  {
   "cell_type": "code",
   "execution_count": 174,
   "metadata": {},
   "outputs": [],
   "source": [
    "# Calculate Feature Importace according Month Series\n",
    "number_of_split_for_feature=100\n",
    "result=experim.get_feature_importance_result (X,dependent_variable,Z,n_feature,number_of_split_for_feature)\n",
    "scored_feature_indices=result[0]\n",
    "feature_score=result[1]"
   ]
  },
  {
   "cell_type": "code",
   "execution_count": 175,
   "metadata": {
    "collapsed": true
   },
   "outputs": [],
   "source": [
    "# Omit Features according percentage\n",
    "percentile=100-percent\n",
    "threshold_for_feature_selection=np.percentile(feature_score[scored_feature_indices], percentile)\n",
    "X_threshold=X.iloc[:,scored_feature_indices[feature_score[scored_feature_indices]>threshold_for_feature_selection]]\n",
    "  "
   ]
  },
  {
   "cell_type": "code",
   "execution_count": 176,
   "metadata": {},
   "outputs": [
    {
     "data": {
      "text/plain": [
       "array([55,  2, 51, 24, 23, 13,  0, 52, 47, 29, 27, 15, 37,  1, 32, 30, 18,\n",
       "        4, 36, 19, 28,  5, 43, 33, 35, 16, 17, 41,  9, 34, 31,  7, 44, 10,\n",
       "       50, 26, 25, 39,  6, 48, 49, 12, 45, 46, 11, 38, 20, 54,  3,  8, 53,\n",
       "       22, 40, 42, 14, 21], dtype=int64)"
      ]
     },
     "execution_count": 176,
     "metadata": {},
     "output_type": "execute_result"
    }
   ],
   "source": [
    "scored_feature_indices"
   ]
  },
  {
   "cell_type": "code",
   "execution_count": 177,
   "metadata": {
    "collapsed": true
   },
   "outputs": [],
   "source": [
    "# Set X train, X test, y train, y test\n",
    "rs=42 # 841810 -3\n",
    "\n",
    "Scaled_Train_Test_Split=experim.X_Y_scaler_train_test_Split(X_threshold,dependent_variable,Z,random=rs)\n",
    "\n",
    "X_train = Scaled_Train_Test_Split[0]\n",
    "X_test = Scaled_Train_Test_Split[1]\n",
    "y_train = Scaled_Train_Test_Split[2]\n",
    "y_test = Scaled_Train_Test_Split[3]\n",
    "scaler_X = Scaled_Train_Test_Split[4]  \n",
    "scaler_y = Scaled_Train_Test_Split[5]\n",
    "scaled_value_X=Scaled_Train_Test_Split[6]\n",
    "scaled_value_y=Scaled_Train_Test_Split[7]"
   ]
  },
  {
   "cell_type": "code",
   "execution_count": null,
   "metadata": {
    "collapsed": true
   },
   "outputs": [],
   "source": []
  },
  {
   "cell_type": "code",
   "execution_count": 178,
   "metadata": {},
   "outputs": [
    {
     "name": "stdout",
     "output_type": "stream",
     "text": [
      "randomforest rs= 66\n"
     ]
    }
   ],
   "source": [
    "a=experim.randomforest(X_train, X_test, y_train, y_test,scaler_y,est=100,\n",
    "                       rand=20,is_random_fixed='FALSE',dependenttype=dependenttype)"
   ]
  },
  {
   "cell_type": "code",
   "execution_count": 179,
   "metadata": {
    "scrolled": false
   },
   "outputs": [
    {
     "name": "stdout",
     "output_type": "stream",
     "text": [
      "randomforest rs= 75\n",
      "randomforest rs= 35\n",
      "randomforest rs= 47\n",
      "randomforest rs= 39\n",
      "randomforest rs= 86\n",
      "randomforest rs= 82\n",
      "randomforest rs= 74\n",
      "randomforest rs= 41\n",
      "randomforest rs= 53\n",
      "randomforest rs= 26\n"
     ]
    },
    {
     "data": {
      "text/plain": [
       "([0, 0, 0, 0, 0, 0, 0, 0, 0, 0],\n",
       " [0.871, 0.922, 0.907, 0.896, 0.902, 0.902, 0.885, 0.893, 0.903, 0.859])"
      ]
     },
     "execution_count": 179,
     "metadata": {},
     "output_type": "execute_result"
    }
   ],
   "source": [
    "experim.experiment_RandomForest(10,\n",
    "                  X_train, X_test, y_train, y_test,scaler_y,\n",
    "                                rand=20,is_random_fixed='FALSE',dependenttype=dependenttype)\n"
   ]
  },
  {
   "cell_type": "code",
   "execution_count": 180,
   "metadata": {
    "scrolled": true
   },
   "outputs": [
    {
     "name": "stdout",
     "output_type": "stream",
     "text": [
      "randomforest rs= 9\n",
      "randomforest rs= 14\n",
      "randomforest rs= 47\n",
      "randomforest rs= 33\n",
      "randomforest rs= 29\n",
      "randomforest rs= 43\n",
      "randomforest rs= 5\n",
      "randomforest rs= 9\n",
      "randomforest rs= 83\n",
      "randomforest rs= 82\n"
     ]
    },
    {
     "data": {
      "text/plain": [
       "([0, 0, 0, 0, 0, 0, 0, 0, 0, 0],\n",
       " [0.915, 0.867, 0.907, 0.855, 0.92, 0.902, 0.856, 0.915, 0.891, 0.902])"
      ]
     },
     "execution_count": 180,
     "metadata": {},
     "output_type": "execute_result"
    }
   ],
   "source": [
    "experim.experiment_RandomForest(10,\n",
    "                  X_train, X_test, y_train, y_test,scaler_y,\n",
    "                                rand=20,is_random_fixed='FALSE',dependenttype=dependenttype)\n"
   ]
  },
  {
   "cell_type": "code",
   "execution_count": 181,
   "metadata": {},
   "outputs": [
    {
     "name": "stdout",
     "output_type": "stream",
     "text": [
      "randomforest rs= 31\n",
      "randomforest rs= 31\n"
     ]
    },
    {
     "data": {
      "text/plain": [
       "([0, 0], [0.926, 0.926])"
      ]
     },
     "execution_count": 181,
     "metadata": {},
     "output_type": "execute_result"
    }
   ],
   "source": [
    "#841810 RS =31\n",
    "experim.experiment_RandomForest(2,\n",
    "                  X_train, X_test, y_train, y_test,scaler_y,est=3000,rand=31,dependenttype=dependenttype)"
   ]
  },
  {
   "cell_type": "markdown",
   "metadata": {},
   "source": [
    "# START OF RANDOM FOREST EXPERIMENTS"
   ]
  },
  {
   "cell_type": "code",
   "execution_count": 182,
   "metadata": {
    "collapsed": true
   },
   "outputs": [],
   "source": [
    "os.chdir('C:/Users/murat.ozemre/Desktop/Thesis_Project/Data_Learning_Prediction/Box_Plots_For_RandomForest')"
   ]
  },
  {
   "cell_type": "code",
   "execution_count": 183,
   "metadata": {
    "scrolled": true
   },
   "outputs": [
    {
     "name": "stdout",
     "output_type": "stream",
     "text": [
      "randomforest rs= 86\n",
      "randomforest rs= 86\n",
      "randomforest rs= 57\n",
      "randomforest rs= 82\n",
      "randomforest rs= 65\n",
      "randomforest rs= 76\n",
      "randomforest rs= 10\n",
      "randomforest rs= 47\n",
      "randomforest rs= 44\n",
      "randomforest rs= 60\n",
      "randomforest rs= 6\n",
      "randomforest rs= 31\n",
      "randomforest rs= 33\n",
      "randomforest rs= 68\n",
      "randomforest rs= 47\n",
      "randomforest rs= 23\n",
      "randomforest rs= 18\n",
      "randomforest rs= 31\n",
      "randomforest rs= 19\n",
      "randomforest rs= 75\n",
      "Size: 20\n"
     ]
    },
    {
     "data": {
      "text/plain": [
       "10      0.903\n",
       "log2    0.892\n",
       "sqrt    0.900\n",
       "auto    0.911\n",
       "dtype: float64"
      ]
     },
     "execution_count": 183,
     "metadata": {},
     "output_type": "execute_result"
    },
    {
     "data": {
      "image/png": "[encoded data removed]",
      "text/plain": [
       "<matplotlib.figure.Figure at 0x2446188ec88>"
      ]
     },
     "metadata": {},
     "output_type": "display_data"
    }
   ],
   "source": [
    "# MAIN for Random Forest Experiments\n",
    "# EXPERIMENT (with fixed split set) 1 For \"max_features_options\"\n",
    "repeats=5\n",
    "\n",
    "# Initialize results\n",
    "results = DataFrame()\n",
    "results_exp = DataFrame()\n",
    "results_split= DataFrame()\n",
    "\n",
    "# Defaults for variables for the first experiment\n",
    "feat=10\n",
    "min_leaf=5\n",
    "max_leaf=100\n",
    "min_weight=0.00001\n",
    "min_impurity=0.001\n",
    "est=200\n",
    "\n",
    "# Get the range for variables\n",
    "max_features_options=[10,\"log2\",\"sqrt\",\"auto\"]\n",
    "min_sample_leaf_options = [1,2,5,20,30]\n",
    "max_leaf_nodes_options=[2,5,10,100,200,300] \n",
    "min_impurity_decrease_options =[0.000001,0.00001,0.001,0.01]\n",
    "min_weight_fraction_leaf_options=[0.00001,0.0001,0.001,0.01,0.1] \n",
    "estimator_options = [100,200,500,1000,5000,10000,20000]\n",
    "\n",
    "rs=42\n",
    "\n",
    "    \n",
    "#Scaled_Train_Test_Split=experim.X_Y_scaler_train_test_Split(X_threshold,dependent_variable,Z,random=rs)\n",
    "\n",
    "#X_train = Scaled_Train_Test_Split[0]\n",
    "#X_test = Scaled_Train_Test_Split[1]\n",
    "#y_train = Scaled_Train_Test_Split[2]\n",
    "#y_test = Scaled_Train_Test_Split[3]\n",
    "#scaler_X = Scaled_Train_Test_Split[4]  \n",
    "#scaler_y = Scaled_Train_Test_Split[5]\n",
    "#scaled_value_X=Scaled_Train_Test_Split[6]\n",
    "#scaled_value_y=Scaled_Train_Test_Split[7]\n",
    "    \n",
    "    \n",
    "for feat in max_features_options:\n",
    "        results_exp[str(feat)] =experim.experiment_RandomForest(repeats,\n",
    "                  X_train, X_test, y_train, y_test,scaler_y,\n",
    "                  rand=20,is_random_fixed='FALSE',dependenttype=dependenttype,\n",
    "                  est=est,min_leaf=min_leaf,feat=feat,max_leaf=max_leaf,min_weight=min_weight,min_impurity=min_impurity)[1] \n",
    "    \n",
    "results=pd.concat([results,results_exp])\n",
    "\n",
    "## summarize results\n",
    "print('Size:',results.size)\n",
    "#print(results.describe())\n",
    "#save boxplot\n",
    "plt.gcf().clear()\n",
    "results.boxplot()\n",
    "\n",
    "plt.title(\"RF-Box Plot for {}-{},{} est,{} min_leaf,{} rs_for split,{} feat, {} max_leaf, {} min_weight,{}min_impurity\"\n",
    "          .format(Productname,MonthSeries,  est, min_leaf,rs,max_features_options,max_leaf,min_weight,min_impurity))\n",
    "plt.savefig('RF-Box Plot for {}-{}, {} est,{} min_leaf,{} feat,{} max_leaf, {} min_weight,{}min_impurity.png'\n",
    "               .format(Productname,MonthSeries,est,min_leaf,max_features_options,max_leaf,min_weight,min_impurity))\n",
    "results.median()"
   ]
  },
  {
   "cell_type": "code",
   "execution_count": 185,
   "metadata": {
    "scrolled": true
   },
   "outputs": [
    {
     "name": "stdout",
     "output_type": "stream",
     "text": [
      "randomforest rs= 7\n",
      "randomforest rs= 83\n",
      "randomforest rs= 83\n",
      "randomforest rs= 98\n",
      "randomforest rs= 63\n",
      "randomforest rs= 95\n",
      "randomforest rs= 12\n",
      "randomforest rs= 71\n",
      "randomforest rs= 99\n",
      "randomforest rs= 52\n",
      "randomforest rs= 63\n",
      "randomforest rs= 21\n",
      "randomforest rs= 84\n",
      "randomforest rs= 67\n",
      "randomforest rs= 46\n",
      "randomforest rs= 23\n",
      "randomforest rs= 89\n",
      "randomforest rs= 68\n",
      "randomforest rs= 8\n",
      "randomforest rs= 54\n",
      "randomforest rs= 35\n",
      "randomforest rs= 62\n",
      "randomforest rs= 57\n",
      "randomforest rs= 90\n",
      "randomforest rs= 25\n",
      "Size: 25\n"
     ]
    },
    {
     "data": {
      "text/plain": [
       "1     0.928\n",
       "2     0.920\n",
       "5     0.923\n",
       "20    0.865\n",
       "30    0.826\n",
       "dtype: float64"
      ]
     },
     "execution_count": 185,
     "metadata": {},
     "output_type": "execute_result"
    },
    {
     "data": {
      "image/png": "[encoded data removed]",
      "text/plain": [
       "<matplotlib.figure.Figure at 0x24454cedfd0>"
      ]
     },
     "metadata": {},
     "output_type": "display_data"
    }
   ],
   "source": [
    "# MAIN for Random Forest Experiments\n",
    "# EXPERIMENT (with fixed split set) 2 for max_features_options \n",
    "\n",
    "# Get the best of from previous experiment\n",
    "feat='auto'\n",
    "\n",
    "# Initialize results\n",
    "results = DataFrame()\n",
    "results_exp = DataFrame()\n",
    "results_split= DataFrame()\n",
    "\n",
    "   \n",
    "for min_leaf in min_sample_leaf_options:\n",
    "            results_exp[str(min_leaf)] =experim.experiment_RandomForest(repeats,\n",
    "                  X_train, X_test, y_train, y_test,scaler_y,\n",
    "                  rand=20,is_random_fixed='FALSE',dependenttype=dependenttype,\n",
    "                  est=est,min_leaf=min_leaf,feat=feat,max_leaf=max_leaf,min_weight=min_weight,min_impurity=min_impurity)[1] \n",
    "    \n",
    "        \n",
    "results=pd.concat([results,results_exp])\n",
    "\n",
    "## summarize results\n",
    "print('Size:',results.size)\n",
    "#print(results.describe())\n",
    "#save boxplot\n",
    "\n",
    "\n",
    "plt.gcf().clear()\n",
    "results.boxplot()\n",
    "plt.title(\"RF-Box Plot for {}-{},{} est,{} min_leaf,{} rs_for split,{} feat, {} max_leaf, {} min_weight,{}min_impurity\"\n",
    "          .format(Productname,MonthSeries,  est, min_sample_leaf_options,rs,feat,max_leaf,min_weight,min_impurity))\n",
    "plt.savefig('RF-Box Plot for {}-{}, {} est,{} min_leaf,{} feat,{} max_leaf, {} min_weight,{}min_impurity.png'\n",
    "               .format(Productname,MonthSeries,est,min_sample_leaf_options,feat,max_leaf,min_weight,min_impurity))\n",
    "\n",
    "\n",
    "results.median()\n"
   ]
  },
  {
   "cell_type": "code",
   "execution_count": 186,
   "metadata": {
    "scrolled": true
   },
   "outputs": [
    {
     "name": "stdout",
     "output_type": "stream",
     "text": [
      "randomforest rs= 90\n",
      "randomforest rs= 52\n",
      "randomforest rs= 13\n",
      "randomforest rs= 55\n",
      "randomforest rs= 88\n",
      "randomforest rs= 12\n",
      "randomforest rs= 67\n",
      "randomforest rs= 46\n",
      "randomforest rs= 48\n",
      "randomforest rs= 76\n",
      "randomforest rs= 16\n",
      "randomforest rs= 21\n",
      "randomforest rs= 74\n",
      "randomforest rs= 27\n",
      "randomforest rs= 77\n",
      "randomforest rs= 7\n",
      "randomforest rs= 96\n",
      "randomforest rs= 15\n",
      "randomforest rs= 67\n",
      "randomforest rs= 74\n",
      "randomforest rs= 21\n",
      "randomforest rs= 23\n",
      "randomforest rs= 61\n",
      "randomforest rs= 31\n",
      "randomforest rs= 65\n",
      "randomforest rs= 78\n",
      "randomforest rs= 90\n",
      "randomforest rs= 7\n",
      "randomforest rs= 81\n",
      "randomforest rs= 34\n",
      "Size: 30\n"
     ]
    },
    {
     "data": {
      "text/plain": [
       "2      0.837\n",
       "5      0.912\n",
       "10     0.922\n",
       "100    0.919\n",
       "200    0.922\n",
       "300    0.918\n",
       "dtype: float64"
      ]
     },
     "execution_count": 186,
     "metadata": {},
     "output_type": "execute_result"
    },
    {
     "data": {
      "image/png": "[encoded data removed]",
      "text/plain": [
       "<matplotlib.figure.Figure at 0x24454ecabe0>"
      ]
     },
     "metadata": {},
     "output_type": "display_data"
    }
   ],
   "source": [
    "# MAIN for Random Forest Experiments\n",
    "# EXPERIMENT (with fixed split set) 3 for max_leaf_nodes_options \n",
    "\n",
    "# Get the best of from previous experiment\n",
    "min_leaf=1\n",
    "\n",
    "# Initialize results\n",
    "results = DataFrame()\n",
    "results_exp = DataFrame()\n",
    "results_split= DataFrame()\n",
    "\n",
    "  \n",
    "for max_leaf in max_leaf_nodes_options:\n",
    "                results_exp[str(max_leaf)]  =experim.experiment_RandomForest(repeats,\n",
    "                X_train, X_test, y_train, y_test,scaler_y,\n",
    "                rand=20,is_random_fixed='FALSE',dependenttype=dependenttype,\n",
    "                est=est,min_leaf=min_leaf,feat=feat,max_leaf=max_leaf,min_weight=min_weight,min_impurity=min_impurity)[1] \n",
    "    \n",
    "results=pd.concat([results,results_exp])\n",
    "            \n",
    "## summarize results\n",
    "print('Size:',results.size)\n",
    "#print(results.describe())\n",
    "#save boxplot\n",
    "plt.gcf().clear()\n",
    "results.boxplot()\n",
    "\n",
    "plt.title(\"RF-Box Plot for {}-{},{} est,{} min_leaf,{} rs_for split,{} feat, {} max_leaf, {} min_weight,{}min_impurity\"\n",
    "          .format(Productname,MonthSeries,  est, min_leaf,rs,feat,max_leaf_nodes_options,min_weight,min_impurity))\n",
    "plt.savefig('RF-Box Plot for {}-{}, {} est,{} min_leaf,{} feat,{} max_leaf, {} min_weight,{}min_impurity.png'\n",
    "               .format(Productname,MonthSeries,est,min_leaf,feat,max_leaf_nodes_options,min_weight,min_impurity))\n",
    "results.median()"
   ]
  },
  {
   "cell_type": "code",
   "execution_count": 187,
   "metadata": {
    "scrolled": true
   },
   "outputs": [
    {
     "name": "stdout",
     "output_type": "stream",
     "text": [
      "randomforest rs= 70\n",
      "randomforest rs= 100\n",
      "randomforest rs= 20\n",
      "randomforest rs= 83\n",
      "randomforest rs= 75\n",
      "randomforest rs= 99\n",
      "randomforest rs= 82\n",
      "randomforest rs= 57\n",
      "randomforest rs= 84\n",
      "randomforest rs= 38\n",
      "randomforest rs= 8\n",
      "randomforest rs= 48\n",
      "randomforest rs= 15\n",
      "randomforest rs= 71\n",
      "randomforest rs= 59\n",
      "randomforest rs= 93\n",
      "randomforest rs= 4\n",
      "randomforest rs= 34\n",
      "randomforest rs= 57\n",
      "randomforest rs= 30\n",
      "Size: 20\n"
     ]
    },
    {
     "data": {
      "text/plain": [
       "1e-06    0.915\n",
       "1e-05    0.921\n",
       "0.001    0.918\n",
       "0.01     0.843\n",
       "dtype: float64"
      ]
     },
     "execution_count": 187,
     "metadata": {},
     "output_type": "execute_result"
    },
    {
     "data": {
      "image/png": "[encoded data removed]",
      "text/plain": [
       "<matplotlib.figure.Figure at 0x24454a568d0>"
      ]
     },
     "metadata": {},
     "output_type": "display_data"
    }
   ],
   "source": [
    "# MAIN for Random Forest Experiments\n",
    "# EXPERIMENT (with fixed split set) 4 for min_impurity_decrease_options\n",
    "\n",
    "# Get the best of from previous experiment\n",
    "max_leaf=200\n",
    "\n",
    "\n",
    "# Initialize results\n",
    "results = DataFrame()\n",
    "results_exp = DataFrame()\n",
    "results_split= DataFrame()\n",
    "\n",
    "for min_impurity in min_impurity_decrease_options:\n",
    "                results_exp[str(min_impurity)]  =experim.experiment_RandomForest(repeats,\n",
    "                X_train, X_test, y_train, y_test,scaler_y,\n",
    "                rand=20,is_random_fixed='FALSE',dependenttype=dependenttype,\n",
    "                est=est,min_leaf=min_leaf,feat=feat,max_leaf=max_leaf,min_weight=min_weight,min_impurity=min_impurity)[1] \n",
    "    \n",
    "results=pd.concat([results,results_exp])\n",
    "\n",
    "## summarize results\n",
    "print('Size:',results.size)\n",
    "#print(results.describe())\n",
    "#save boxplot\n",
    "plt.gcf().clear()\n",
    "results.boxplot()\n",
    "\n",
    "\n",
    "plt.title(\"RF-Box Plot for {}-{},{} est,{} min_leaf,{} rs_for split,{} feat, {} max_leaf, {} min_weight,{}min_impurity\"\n",
    "          .format(Productname,MonthSeries,  est, min_leaf,rs,feat,max_leaf,min_weight,min_impurity_decrease_options))\n",
    "plt.savefig('RF-Box Plot for {}-{}, {} est,{} min_leaf,{} feat,{} max_leaf, {} min_weig,{}min_impu.png'\n",
    "               .format(Productname,MonthSeries,est,min_leaf,feat,max_leaf,min_weight,min_impurity_decrease_options))\n",
    "results.median()"
   ]
  },
  {
   "cell_type": "code",
   "execution_count": 188,
   "metadata": {
    "scrolled": true
   },
   "outputs": [
    {
     "name": "stdout",
     "output_type": "stream",
     "text": [
      "randomforest rs= 55\n",
      "randomforest rs= 4\n",
      "randomforest rs= 37\n",
      "randomforest rs= 99\n",
      "randomforest rs= 82\n",
      "randomforest rs= 4\n",
      "randomforest rs= 37\n",
      "randomforest rs= 93\n",
      "randomforest rs= 60\n",
      "randomforest rs= 55\n",
      "randomforest rs= 74\n",
      "randomforest rs= 19\n",
      "randomforest rs= 88\n",
      "randomforest rs= 98\n",
      "randomforest rs= 1\n",
      "randomforest rs= 64\n",
      "randomforest rs= 37\n",
      "randomforest rs= 44\n",
      "randomforest rs= 31\n",
      "randomforest rs= 96\n",
      "randomforest rs= 85\n",
      "randomforest rs= 76\n",
      "randomforest rs= 72\n",
      "randomforest rs= 92\n",
      "randomforest rs= 85\n",
      "Size: 25\n"
     ]
    },
    {
     "data": {
      "text/plain": [
       "1e-05     0.920\n",
       "0.0001    0.919\n",
       "0.001     0.920\n",
       "0.01      0.922\n",
       "0.1       0.914\n",
       "dtype: float64"
      ]
     },
     "execution_count": 188,
     "metadata": {},
     "output_type": "execute_result"
    },
    {
     "data": {
      "image/png": "[encoded data removed]",
      "text/plain": [
       "<matplotlib.figure.Figure at 0x244546f73c8>"
      ]
     },
     "metadata": {},
     "output_type": "display_data"
    }
   ],
   "source": [
    "# MAIN for Random Forest Experiments\n",
    "# EXPERIMENT (with fixed split set) 5 for min_weight_fraction_leaf_options\n",
    "\n",
    "# Get the best of from previous experiment\n",
    "min_impurity=1e-05\n",
    "\n",
    "# Initialize results\n",
    "results = DataFrame()\n",
    "results_exp = DataFrame()\n",
    "results_split= DataFrame()\n",
    "\n",
    "for min_weight in min_weight_fraction_leaf_options:\n",
    "                results_exp[str(min_weight)]  =experim.experiment_RandomForest(repeats,\n",
    "                X_train, X_test, y_train, y_test,scaler_y,\n",
    "                rand=20,is_random_fixed='FALSE',dependenttype=dependenttype,\n",
    "                est=est,min_leaf=min_leaf,feat=feat,max_leaf=max_leaf,min_weight=min_weight,min_impurity=min_impurity)[1] \n",
    "    \n",
    "results=pd.concat([results,results_exp])\n",
    "\n",
    "## summarize results\n",
    "print('Size:',results.size)\n",
    "#print(results.describe())\n",
    "#save boxplot\n",
    "plt.gcf().clear()\n",
    "results.boxplot()\n",
    "\n",
    "\n",
    "plt.title(\"RF-Box Plot for {}-{},{} est,{} min_leaf,{} rs_for split,{} feat, {} max_leaf, {} min_weight,{}min_impurity\"\n",
    "          .format(Productname,MonthSeries,  est, min_leaf,rs,feat,max_leaf,min_weight_fraction_leaf_options,min_impurity))\n",
    "plt.savefig('RF-Box Plot for {}-{}, {} est,{} min_leaf,{} feat,{} max_leaf, {} min_weig,{}min_impu.png'\n",
    "               .format(Productname,MonthSeries,est,min_leaf,feat,max_leaf,min_weight_fraction_leaf_options,min_impurity))\n",
    "results.median()"
   ]
  },
  {
   "cell_type": "code",
   "execution_count": 189,
   "metadata": {
    "scrolled": true
   },
   "outputs": [
    {
     "name": "stdout",
     "output_type": "stream",
     "text": [
      "randomforest rs= 50\n",
      "randomforest rs= 92\n",
      "randomforest rs= 55\n",
      "randomforest rs= 92\n",
      "randomforest rs= 88\n",
      "randomforest rs= 17\n",
      "randomforest rs= 70\n",
      "randomforest rs= 75\n",
      "randomforest rs= 79\n",
      "randomforest rs= 67\n",
      "randomforest rs= 37\n",
      "randomforest rs= 100\n",
      "randomforest rs= 18\n",
      "randomforest rs= 18\n",
      "randomforest rs= 32\n",
      "randomforest rs= 78\n",
      "randomforest rs= 92\n",
      "randomforest rs= 98\n",
      "randomforest rs= 20\n",
      "randomforest rs= 38\n",
      "randomforest rs= 11\n",
      "randomforest rs= 30\n",
      "randomforest rs= 78\n",
      "randomforest rs= 65\n",
      "randomforest rs= 55\n",
      "randomforest rs= 99\n",
      "randomforest rs= 84\n",
      "randomforest rs= 12\n",
      "randomforest rs= 48\n",
      "randomforest rs= 7\n",
      "randomforest rs= 19\n",
      "randomforest rs= 63\n",
      "randomforest rs= 6\n",
      "randomforest rs= 2\n",
      "randomforest rs= 40\n",
      "Size: 35\n"
     ]
    },
    {
     "data": {
      "text/plain": [
       "100      0.911\n",
       "200      0.924\n",
       "500      0.920\n",
       "1000     0.925\n",
       "5000     0.926\n",
       "10000    0.926\n",
       "20000    0.926\n",
       "dtype: float64"
      ]
     },
     "execution_count": 189,
     "metadata": {},
     "output_type": "execute_result"
    },
    {
     "data": {
      "image/png": "[encoded data removed]",
      "text/plain": [
       "<matplotlib.figure.Figure at 0x244552749b0>"
      ]
     },
     "metadata": {},
     "output_type": "display_data"
    }
   ],
   "source": [
    "# MAIN for Random Forest Experiments\n",
    "# EXPERIMENT (with fixed split set) 6 for estimator_options\n",
    "\n",
    "# Get the best of from previous experiment\n",
    "min_weight=0.01 \n",
    "\n",
    "\n",
    "# Initialize results\n",
    "results = DataFrame()\n",
    "results_exp = DataFrame()\n",
    "results_split= DataFrame()\n",
    "\n",
    "for est in estimator_options:\n",
    "            results_exp[str(est)] =experim.experiment_RandomForest(repeats,\n",
    "                  X_train, X_test, y_train, y_test,scaler_y,\n",
    "                  rand=20,is_random_fixed='FALSE',dependenttype=dependenttype,\n",
    "                  est=est,min_leaf=min_leaf,feat=feat,max_leaf=max_leaf,min_weight=min_weight,min_impurity=min_impurity)[1] \n",
    "    \n",
    "results=pd.concat([results,results_exp])\n",
    "\n",
    "## summarize results\n",
    "print('Size:',results.size)\n",
    "#print(results.describe())\n",
    "\n",
    "#save boxplot\n",
    "plt.gcf().clear()\n",
    "results.boxplot()\n",
    "\n",
    "plt.title(\"RF-Box Plot for {}-{},{} est,{} min_leaf,{} rs_for split,{} feat, {} max_leaf, {} min_weight,{}min_impurity\"\n",
    "          .format(Productname,MonthSeries,  estimator_options, min_leaf,rs,feat,max_leaf,min_weight,min_impurity))\n",
    "plt.savefig('RF-Box Plot for {}-{}, {} est,{} min_leaf,{} feat,{} max_leaf, {} minweig,{}minimp.png'\n",
    "               .format(Productname,MonthSeries,estimator_options,min_leaf,feat,max_leaf,min_weight,min_impurity))\n",
    "results.median()"
   ]
  },
  {
   "cell_type": "code",
   "execution_count": 191,
   "metadata": {},
   "outputs": [
    {
     "name": "stdout",
     "output_type": "stream",
     "text": [
      "Product= 841850\n",
      "Month =  _34\n",
      "percent = 100\n",
      "dependenttype = log\n",
      "max_features= auto\n",
      "min_sample_leaf= 1\n",
      "max_leaf_nodes= 200\n",
      "min_impurity_decrease= 1e-05\n",
      "min_weight_fraction_leaf= 0.01\n",
      "est= 200\n",
      "feat= auto\n",
      "min_leaf= 1\n",
      "max_leaf= 200\n",
      "min_impurity= 1e-05\n",
      "min_weight= 0.01\n",
      "est= 200\n"
     ]
    }
   ],
   "source": [
    "# Get the best of from previous experiment\n",
    "est=200\n",
    "\n",
    "when=datetime.now().strftime('%m-%d %H:%M')\n",
    "print(\"Product=\",Productname)\n",
    "print(\"Month = \",MonthSeries)\n",
    "print(\"percent =\",percent)\n",
    "print(\"dependenttype =\",dependenttype)\n",
    "\n",
    "\n",
    "#Tuned Parameters after experiments\n",
    "print(\"max_features=\",feat) # EXP1\n",
    "print(\"min_sample_leaf=\", min_leaf) # EXP2\n",
    "print(\"max_leaf_nodes=\", max_leaf) # EXP3\n",
    "print(\"min_impurity_decrease=\", min_impurity) # EXP4\n",
    "print(\"min_weight_fraction_leaf=\", min_weight) # EXP5\n",
    "print(\"est=\", est) # EXP6\n",
    "\n",
    "\n",
    "# store as parameters\n",
    "parameters=[Product,Exp_Country,Imp_Country,MonthSeries,percent,dependenttype,rs,feat,min_leaf,max_leaf,min_impurity,min_weight,est,when]\n",
    "\n",
    "print(\"feat=\",feat) # EXP1\n",
    "print(\"min_leaf=\", min_leaf) # EXP2\n",
    "print(\"max_leaf=\", max_leaf) # EXP3\n",
    "print(\"min_impurity=\", min_impurity) # EXP4\n",
    "print(\"min_weight=\", min_weight) # EXP5\n",
    "print(\"est=\", est) # EXP6\n"
   ]
  },
  {
   "cell_type": "code",
   "execution_count": 192,
   "metadata": {
    "scrolled": true
   },
   "outputs": [
    {
     "name": "stdout",
     "output_type": "stream",
     "text": [
      "Not_Tuned\n",
      "randomforest rs= 100\n",
      "randomforest rs= 99\n",
      "randomforest rs= 35\n",
      "randomforest rs= 12\n",
      "randomforest rs= 18\n",
      "randomforest rs= 100\n",
      "randomforest rs= 43\n",
      "randomforest rs= 80\n",
      "randomforest rs= 18\n",
      "randomforest rs= 66\n",
      "randomforest rs= 91\n",
      "randomforest rs= 20\n",
      "randomforest rs= 48\n",
      "randomforest rs= 58\n",
      "randomforest rs= 63\n",
      "randomforest rs= 35\n",
      "randomforest rs= 62\n",
      "randomforest rs= 22\n",
      "randomforest rs= 50\n",
      "randomforest rs= 7\n",
      "Tuned\n",
      "randomforest rs= 7\n",
      "randomforest rs= 39\n",
      "randomforest rs= 68\n",
      "randomforest rs= 12\n",
      "randomforest rs= 86\n",
      "randomforest rs= 60\n",
      "randomforest rs= 96\n",
      "randomforest rs= 83\n",
      "randomforest rs= 3\n",
      "randomforest rs= 18\n",
      "randomforest rs= 37\n",
      "randomforest rs= 54\n",
      "randomforest rs= 77\n",
      "randomforest rs= 27\n",
      "randomforest rs= 38\n",
      "randomforest rs= 57\n",
      "randomforest rs= 84\n",
      "randomforest rs= 12\n",
      "randomforest rs= 28\n",
      "randomforest rs= 71\n",
      "Size: 40\n"
     ]
    },
    {
     "data": {
      "text/plain": [
       "Not_Tuned    0.8890\n",
       "Tuned        0.9215\n",
       "dtype: float64"
      ]
     },
     "execution_count": 192,
     "metadata": {},
     "output_type": "execute_result"
    },
    {
     "data": {
      "image/png": "[encoded data removed]",
      "text/plain": [
       "<matplotlib.figure.Figure at 0x244551109e8>"
      ]
     },
     "metadata": {},
     "output_type": "display_data"
    }
   ],
   "source": [
    "# MAIN for Random Forest Experiments\n",
    "# EXPERIMENT (with fixed split set) for Before Tuning and After Tuning \n",
    "\n",
    "tune_options=[ 'Not_Tuned','Tuned']\n",
    "\n",
    "# Initialize results\n",
    "results = DataFrame()\n",
    "results_exp = DataFrame()\n",
    "results_split= DataFrame()\n",
    "repeats=20\n",
    "\n",
    "for tune in tune_options:\n",
    "    \n",
    "            if tune=='Tuned':\n",
    "                print(tune)\n",
    "                \n",
    "                results_exp[str(tune)] =experim.experiment_RandomForest(repeats,\n",
    "                  X_train, X_test, y_train, y_test,scaler_y,\n",
    "                  rand=20,is_random_fixed='FALSE',dependenttype=dependenttype,\n",
    "                  est=est,min_leaf=min_leaf,feat=feat,max_leaf=max_leaf,min_weight=min_weight,min_impurity=min_impurity)[1] \n",
    "    \n",
    "            elif tune=='Not_Tuned':\n",
    "                print(tune)\n",
    "                \n",
    "            # Defaults for variables for the first experiment\n",
    "\n",
    "                results_exp[str(tune)] =experim.experiment_RandomForest(repeats,\n",
    "                  X_train, X_test, y_train, y_test,scaler_y,\n",
    "                  rand=20,is_random_fixed='FALSE',dependenttype=dependenttype)[1] \n",
    "    \n",
    "    \n",
    "    \n",
    "results=pd.concat([results,results_exp])\n",
    "\n",
    "## summarize results\n",
    "print('Size:',results.size)\n",
    "#print(results.describe())\n",
    "\n",
    "#save boxplot\n",
    "plt.gcf().clear()\n",
    "results.boxplot()\n",
    "\n",
    "\n",
    "plt.title(\"RF-Box Plot for {}-{}, Before and After Tuning, {} est,{} min_leaf,{} rs_for split,{} feat, {} max_leaf, {} min_weight,{}min_impurity  \"\n",
    "          .format(Productname,MonthSeries, est, min_leaf,rs,feat,max_leaf,min_weight,min_impurity))\n",
    "\n",
    "plt.savefig(\"RF-BoxPlotfor {}-{}, Before and After Tuning with fixed splits.png \"\n",
    "          .format(Productname,MonthSeries), format='png', dpi=300)\n",
    "\n",
    "tuned_results_fixed_split=[results['Tuned'].describe()[5],results['Tuned'].describe()[6]]\n",
    "results.median()"
   ]
  },
  {
   "cell_type": "code",
   "execution_count": 193,
   "metadata": {
    "scrolled": true
   },
   "outputs": [
    {
     "name": "stdout",
     "output_type": "stream",
     "text": [
      "split rs= 3\n",
      "randomforest rs= 20\n",
      "randomforest rs= 45\n",
      "randomforest rs= 63\n",
      "randomforest rs= 75\n",
      "randomforest rs= 9\n",
      "randomforest rs= 14\n",
      "randomforest rs= 40\n",
      "randomforest rs= 57\n",
      "randomforest rs= 28\n",
      "randomforest rs= 39\n",
      "randomforest rs= 89\n",
      "randomforest rs= 80\n",
      "randomforest rs= 88\n",
      "randomforest rs= 67\n",
      "randomforest rs= 69\n",
      "randomforest rs= 35\n",
      "randomforest rs= 31\n",
      "randomforest rs= 23\n",
      "randomforest rs= 90\n",
      "randomforest rs= 52\n",
      "randomforest rs= 64\n",
      "randomforest rs= 3\n",
      "randomforest rs= 18\n",
      "randomforest rs= 22\n",
      "randomforest rs= 71\n",
      "randomforest rs= 100\n",
      "randomforest rs= 87\n",
      "randomforest rs= 78\n",
      "randomforest rs= 72\n",
      "randomforest rs= 76\n",
      "randomforest rs= 38\n",
      "randomforest rs= 25\n",
      "randomforest rs= 7\n",
      "randomforest rs= 79\n",
      "randomforest rs= 69\n",
      "randomforest rs= 27\n",
      "randomforest rs= 5\n",
      "randomforest rs= 32\n",
      "randomforest rs= 86\n",
      "randomforest rs= 16\n",
      "split rs= 65\n",
      "randomforest rs= 3\n",
      "randomforest rs= 59\n",
      "randomforest rs= 32\n",
      "randomforest rs= 44\n",
      "randomforest rs= 25\n",
      "randomforest rs= 3\n",
      "randomforest rs= 16\n",
      "randomforest rs= 32\n",
      "randomforest rs= 40\n",
      "randomforest rs= 67\n",
      "randomforest rs= 100\n",
      "randomforest rs= 50\n",
      "randomforest rs= 84\n",
      "randomforest rs= 14\n",
      "randomforest rs= 55\n",
      "randomforest rs= 100\n",
      "randomforest rs= 42\n",
      "randomforest rs= 50\n",
      "randomforest rs= 3\n",
      "randomforest rs= 18\n",
      "randomforest rs= 19\n",
      "randomforest rs= 94\n",
      "randomforest rs= 26\n",
      "randomforest rs= 68\n",
      "randomforest rs= 67\n",
      "randomforest rs= 98\n",
      "randomforest rs= 72\n",
      "randomforest rs= 45\n",
      "randomforest rs= 95\n",
      "randomforest rs= 27\n",
      "randomforest rs= 43\n",
      "randomforest rs= 44\n",
      "randomforest rs= 37\n",
      "randomforest rs= 19\n",
      "randomforest rs= 97\n",
      "randomforest rs= 13\n",
      "randomforest rs= 72\n",
      "randomforest rs= 5\n",
      "randomforest rs= 99\n",
      "randomforest rs= 18\n",
      "split rs= 43\n",
      "randomforest rs= 48\n",
      "randomforest rs= 67\n",
      "randomforest rs= 71\n",
      "randomforest rs= 22\n",
      "randomforest rs= 13\n",
      "randomforest rs= 51\n",
      "randomforest rs= 20\n",
      "randomforest rs= 85\n",
      "randomforest rs= 58\n",
      "randomforest rs= 14\n",
      "randomforest rs= 87\n",
      "randomforest rs= 75\n",
      "randomforest rs= 23\n",
      "randomforest rs= 86\n",
      "randomforest rs= 68\n",
      "randomforest rs= 34\n",
      "randomforest rs= 30\n",
      "randomforest rs= 7\n",
      "randomforest rs= 61\n",
      "randomforest rs= 61\n",
      "randomforest rs= 81\n",
      "randomforest rs= 44\n",
      "randomforest rs= 25\n",
      "randomforest rs= 67\n",
      "randomforest rs= 94\n",
      "randomforest rs= 43\n",
      "randomforest rs= 38\n",
      "randomforest rs= 23\n",
      "randomforest rs= 22\n",
      "randomforest rs= 36\n",
      "randomforest rs= 59\n",
      "randomforest rs= 87\n",
      "randomforest rs= 45\n",
      "randomforest rs= 6\n",
      "randomforest rs= 32\n",
      "randomforest rs= 26\n",
      "randomforest rs= 33\n",
      "randomforest rs= 90\n",
      "randomforest rs= 66\n",
      "randomforest rs= 70\n",
      "split rs= 19\n",
      "randomforest rs= 18\n",
      "randomforest rs= 62\n",
      "randomforest rs= 82\n",
      "randomforest rs= 36\n",
      "randomforest rs= 54\n",
      "randomforest rs= 33\n",
      "randomforest rs= 70\n",
      "randomforest rs= 11\n",
      "randomforest rs= 25\n",
      "randomforest rs= 36\n",
      "randomforest rs= 59\n",
      "randomforest rs= 47\n",
      "randomforest rs= 27\n",
      "randomforest rs= 50\n",
      "randomforest rs= 9\n",
      "randomforest rs= 39\n",
      "randomforest rs= 23\n",
      "randomforest rs= 73\n",
      "randomforest rs= 98\n",
      "randomforest rs= 82\n",
      "randomforest rs= 16\n",
      "randomforest rs= 50\n",
      "randomforest rs= 47\n",
      "randomforest rs= 6\n",
      "randomforest rs= 20\n",
      "randomforest rs= 16\n",
      "randomforest rs= 78\n",
      "randomforest rs= 8\n",
      "randomforest rs= 75\n",
      "randomforest rs= 33\n",
      "randomforest rs= 79\n",
      "randomforest rs= 23\n",
      "randomforest rs= 13\n",
      "randomforest rs= 22\n",
      "randomforest rs= 98\n",
      "randomforest rs= 99\n",
      "randomforest rs= 77\n",
      "randomforest rs= 51\n",
      "randomforest rs= 21\n",
      "randomforest rs= 82\n",
      "split rs= 59\n",
      "randomforest rs= 19\n",
      "randomforest rs= 74\n",
      "randomforest rs= 39\n",
      "randomforest rs= 68\n",
      "randomforest rs= 89\n",
      "randomforest rs= 83\n",
      "randomforest rs= 22\n",
      "randomforest rs= 85\n",
      "randomforest rs= 34\n",
      "randomforest rs= 86\n",
      "randomforest rs= 91\n",
      "randomforest rs= 35\n",
      "randomforest rs= 96\n",
      "randomforest rs= 10\n",
      "randomforest rs= 49\n",
      "randomforest rs= 5\n",
      "randomforest rs= 81\n",
      "randomforest rs= 32\n",
      "randomforest rs= 60\n",
      "randomforest rs= 37\n",
      "randomforest rs= 17\n",
      "randomforest rs= 50\n",
      "randomforest rs= 29\n",
      "randomforest rs= 84\n",
      "randomforest rs= 47\n",
      "randomforest rs= 46\n",
      "randomforest rs= 77\n",
      "randomforest rs= 79\n",
      "randomforest rs= 88\n",
      "randomforest rs= 51\n",
      "randomforest rs= 22\n",
      "randomforest rs= 70\n",
      "randomforest rs= 88\n",
      "randomforest rs= 51\n",
      "randomforest rs= 71\n",
      "randomforest rs= 27\n",
      "randomforest rs= 72\n",
      "randomforest rs= 100\n",
      "randomforest rs= 39\n",
      "randomforest rs= 82\n",
      "Size: 200\n"
     ]
    },
    {
     "data": {
      "text/plain": [
       "Not_Tuned    0.889\n",
       "Tuned        0.924\n",
       "dtype: float64"
      ]
     },
     "execution_count": 193,
     "metadata": {},
     "output_type": "execute_result"
    },
    {
     "data": {
      "image/png": "[encoded data removed]",
      "text/plain": [
       "<matplotlib.figure.Figure at 0x244548caa90>"
      ]
     },
     "metadata": {},
     "output_type": "display_data"
    }
   ],
   "source": [
    "# MAIN for Random Forest Experiments\n",
    "# EXPERIMENT (with different split sets) for Before Tuning and After Tuning \n",
    "\n",
    "\n",
    "# Initialize results\n",
    "results = DataFrame()\n",
    "results_exp = DataFrame()\n",
    "results_split= DataFrame()\n",
    "\n",
    "\n",
    "repeats=20\n",
    "random_range_for_split=5\n",
    "\n",
    "for r in range (random_range_for_split):\n",
    "\n",
    "    rs=random.randint(1,100)\n",
    "\n",
    "    print('split rs=',rs)\n",
    "    \n",
    "    Scaled_Train_Test_Split=experim.X_Y_scaler_train_test_Split(X_threshold,dependent_variable,Z,random=rs)\n",
    "\n",
    "    X_train = Scaled_Train_Test_Split[0]\n",
    "    X_test = Scaled_Train_Test_Split[1]\n",
    "    y_train = Scaled_Train_Test_Split[2]\n",
    "    y_test = Scaled_Train_Test_Split[3]\n",
    "    scaler_X = Scaled_Train_Test_Split[4]  \n",
    "    scaler_y = Scaled_Train_Test_Split[5]\n",
    "    scaled_value_X=Scaled_Train_Test_Split[6]\n",
    "    scaled_value_y=Scaled_Train_Test_Split[7]\n",
    "     \n",
    "    \n",
    "    for tune in tune_options:\n",
    "    \n",
    "            if tune=='Not_Tuned':\n",
    "                \n",
    "                results_exp[str(tune)]  =experim.experiment_RandomForest(repeats,\n",
    "                  X_train, X_test, y_train, y_test,scaler_y,\n",
    "                  rand=20,is_random_fixed='FALSE',dependenttype=dependenttype)[1] \n",
    "\n",
    "                            \n",
    "            elif tune=='Tuned':\n",
    "                \n",
    "                results_exp[str(tune)] =experim.experiment_RandomForest(repeats,\n",
    "                  X_train, X_test, y_train, y_test,scaler_y,\n",
    "                  rand=20,is_random_fixed='FALSE',dependenttype=dependenttype,\n",
    "                  est=est,min_leaf=min_leaf,feat=feat,max_leaf=max_leaf,min_weight=min_weight,min_impurity=min_impurity)[1] \n",
    "                \n",
    "    results=pd.concat([results,results_exp])\n",
    "    \n",
    "## summarize results\n",
    "print('Size:',results.size)\n",
    "#print(results.describe())\n",
    "\n",
    "#save boxplot\n",
    "plt.gcf().clear()\n",
    "results.boxplot()\n",
    "\n",
    "\n",
    "plt.title(\"RF-Box Plot for {}-{}, Before and After Tuning, {} est,{} min_leaf,{} rs_for split,{} feat, {} max_leaf, {} min_weight,{}min_impurity  \"\n",
    "          .format(Productname,MonthSeries, est, min_leaf,rs,feat,max_leaf,min_weight,min_impurity))\n",
    "\n",
    "plt.savefig(\"RF-Box Plot for {}-{}, Before and After Tuning with different splits.png \"\n",
    "          .format(Productname,MonthSeries), format='png', dpi=300)\n",
    "\n",
    "tuned_results_mixed_split=[results['Tuned'].describe()[5],results['Tuned'].describe()[6]]\n",
    "results.median()"
   ]
  },
  {
   "cell_type": "code",
   "execution_count": 194,
   "metadata": {},
   "outputs": [],
   "source": [
    "os.chdir('C:/Users/murat.ozemre/Desktop/Thesis_Project/Data_Learning_Prediction')\n",
    "# Read from Excel Tuning paremeters\n",
    "Tuned_set = pd.ExcelFile('Tuned_Parameters.xlsx'.format(Exp_Country,Imp_Country,Product))\n",
    "Tuned_set_RF_all = Tuned_set.parse('RF', header=0,index_col=None, na_values=['NA'])\n",
    "Tuned_set_NN_all = Tuned_set.parse('NN', header=0,index_col=None, na_values=['NA'])\n",
    "\n",
    "\n",
    "# For this experiment \n",
    "tuned_results_RF=tuned_results_fixed_split+tuned_results_mixed_split\n",
    "\n",
    "Tuned_set_RF =  DataFrame(columns='Product Exp Imp Month dependenttype perc rs_split max_features min_sample_leaf max_leaf_nodes min_impurity min_weight est Datetime fix_p50 fix_p75 mix_p50 mix_p75'.split())\n",
    "Tuned_set_RF.loc[0]= parameters + tuned_results_RF\n",
    "\n",
    "# Combine with the other experiments \n",
    "Tuned_set_RF_all= pd.concat([Tuned_set_RF_all,Tuned_set_RF])\n"
   ]
  },
  {
   "cell_type": "code",
   "execution_count": 195,
   "metadata": {
    "collapsed": true
   },
   "outputs": [],
   "source": [
    "os.chdir('C:/Users/murat.ozemre/Desktop/Thesis_Project/Data_Learning_Prediction')\n",
    "# Write to Excel this and previous Tuning paremeters\n",
    "writer = pd.ExcelWriter('Tuned_Parameters.xlsx')\n",
    "Tuned_set_RF_all.to_excel(writer,'RF')\n",
    "Tuned_set_NN_all.to_excel(writer,'NN')\n",
    "writer.save()"
   ]
  },
  {
   "cell_type": "markdown",
   "metadata": {},
   "source": [
    "# END OF RANDOM FOREST EXPERIMENTS"
   ]
  },
  {
   "cell_type": "markdown",
   "metadata": {},
   "source": [
    "# After Training Show Results"
   ]
  },
  {
   "cell_type": "code",
   "execution_count": 196,
   "metadata": {
    "scrolled": true
   },
   "outputs": [
    {
     "name": "stdout",
     "output_type": "stream",
     "text": [
      "randomforest rs= 73\n",
      "randomforest rs= 68\n",
      "randomforest rs= 82\n",
      "randomforest rs= 57\n",
      "randomforest rs= 95\n",
      "randomforest rs= 55\n",
      "randomforest rs= 10\n",
      "randomforest rs= 86\n",
      "randomforest rs= 12\n",
      "randomforest rs= 23\n",
      "randomforest rs= 98\n",
      "randomforest rs= 91\n",
      "randomforest rs= 35\n",
      "randomforest rs= 99\n",
      "randomforest rs= 43\n",
      "randomforest rs= 82\n",
      "randomforest rs= 54\n",
      "randomforest rs= 91\n",
      "randomforest rs= 68\n",
      "randomforest rs= 37\n"
     ]
    },
    {
     "data": {
      "text/plain": [
       "[0.916,\n",
       " 0.925,\n",
       " 0.918,\n",
       " 0.924,\n",
       " 0.914,\n",
       " 0.927,\n",
       " 0.926,\n",
       " 0.929,\n",
       " 0.917,\n",
       " 0.92,\n",
       " 0.92,\n",
       " 0.918,\n",
       " 0.931,\n",
       " 0.925,\n",
       " 0.926,\n",
       " 0.918,\n",
       " 0.918,\n",
       " 0.918,\n",
       " 0.925,\n",
       " 0.92]"
      ]
     },
     "execution_count": 196,
     "metadata": {},
     "output_type": "execute_result"
    }
   ],
   "source": [
    "if Product==841810:\n",
    "    feat= 'auto'\n",
    "    min_leaf= 1\n",
    "    max_leaf= 100\n",
    "    min_impurity= 1e-06\n",
    "    min_weight= 1e-05\n",
    "    est= 1000\n",
    "\n",
    "    #841810 \n",
    "    rs=31\n",
    "    \n",
    "elif Product==841840:\n",
    "    feat= 'auto'\n",
    "    min_leaf= 2\n",
    "    max_leaf= 100\n",
    "    min_impurity= 1e-05\n",
    "    min_weight= 0.001\n",
    "    est= 200\n",
    "   \n",
    "    rs=51\n",
    "\n",
    "elif Product==841850:\n",
    "    feat= 'auto'\n",
    "    min_leaf= 1\n",
    "    max_leaf= 200\n",
    "    min_impurity= 1e-05\n",
    "    min_weight= 0.01\n",
    "    est= 200\n",
    "   \n",
    "    rs=35\n",
    "\n",
    "experim.experiment_RandomForest(repeats,\n",
    "                  X_train, X_test, y_train, y_test,scaler_y,\n",
    "                  rand=20,is_random_fixed='FALSE',dependenttype=dependenttype,\n",
    "                  est=est,min_leaf=min_leaf,feat=feat,max_leaf=max_leaf,min_weight=min_weight,min_impurity=min_impurity)[1] \n",
    "    "
   ]
  },
  {
   "cell_type": "code",
   "execution_count": 197,
   "metadata": {},
   "outputs": [
    {
     "name": "stdout",
     "output_type": "stream",
     "text": [
      "randomforest rs= 35\n"
     ]
    }
   ],
   "source": [
    "\n",
    "\n",
    "result=experim.randomforest(X_train, X_test, y_train, y_test,scaler_y,\n",
    "                            rand=rs,is_random_fixed='TRUE',dependenttype=dependenttype,\n",
    "                            est=est,min_leaf=min_leaf,feat=feat,max_leaf=max_leaf,\n",
    "                            min_weight=min_weight,min_impurity=min_impurity)\n",
    "\n",
    "    \n",
    "      \n",
    "rmse_test=result[0][1]\n",
    "R2_test=result[0][2]\n",
    "        \n",
    "rmse_train=result[1][0]\n",
    "R2_train=result[1][1]"
   ]
  },
  {
   "cell_type": "code",
   "execution_count": 198,
   "metadata": {},
   "outputs": [
    {
     "data": {
      "text/plain": [
       "0.931"
      ]
     },
     "execution_count": 198,
     "metadata": {},
     "output_type": "execute_result"
    }
   ],
   "source": [
    "R2_test"
   ]
  },
  {
   "cell_type": "code",
   "execution_count": 199,
   "metadata": {
    "scrolled": true
   },
   "outputs": [],
   "source": [
    "rfc=RandomForestRegressor(n_estimators=est,\n",
    "                              min_samples_leaf=min_leaf,\n",
    "                              random_state =rs,\n",
    "                              max_features=feat,\n",
    "                              max_leaf_nodes=max_leaf,\n",
    "                              min_weight_fraction_leaf =min_weight,\n",
    "                              min_impurity_decrease=min_impurity\n",
    "                            )\n",
    "   \n",
    "RandomForestRegressor.fit(rfc,X_train,y_train)\n",
    "    \n",
    "y_predict_test = rfc.predict(X_test)\n",
    "y_predict_train = rfc.predict(X_train)\n",
    "y_predict=rfc.predict(scaled_value_X)\n",
    "\n",
    "result_test=experim.inverse_scale_and_graph_Y_predict_and_test(y_predict_test,y_test,scaler_y,'NO',dependenttype)\n",
    "result_train=experim.inverse_scale_and_graph_Y_predict_and_test(y_predict_train,y_train,scaler_y,'NO',dependenttype)\n",
    "result_all=experim.inverse_scale_and_graph_Y_predict_and_test(y_predict,scaled_value_y,scaler_y,'NO',dependenttype)\n",
    "\n",
    "inv_y_train=pd.Series(result_train[4])\n",
    "inv_y_predict_train=pd.Series(result_train[5])\n",
    "inv_y_test=pd.Series(result_test[4])\n",
    "inv_y_predict_test=pd.Series(result_test[5])\n",
    "inv_y_all=pd.Series(result_all[4])\n",
    "inv_y_predict_all=pd.Series(result_all[5])\n",
    "\n",
    "\n"
   ]
  },
  {
   "cell_type": "code",
   "execution_count": 202,
   "metadata": {},
   "outputs": [
    {
     "data": {
      "image/png": "[encoded data removed]",
      "text/plain": [
       "<matplotlib.figure.Figure at 0x2445954d5f8>"
      ]
     },
     "metadata": {},
     "output_type": "display_data"
    }
   ],
   "source": [
    "\n",
    "os.chdir('C:/Users/murat.ozemre/Desktop/Thesis_Project/Data_Learning_Prediction/Result_Plots')\n",
    "fig = plt.figure(figsize=(7, 7))\n",
    "\n",
    "plt.scatter(inv_y_train,inv_y_predict_train,label='Train Data')\n",
    "plt.scatter(inv_y_test,inv_y_predict_test,label='Test Data')\n",
    "\n",
    "plt.legend()\n",
    "plt.xlim(0, 5000) # 841810 için lim 20000,  # 841840 için lim 2500 # 841850 için lim 5000\n",
    "plt.ylim(0, 5000)\n",
    "plt.title(\"Scatter Diagram for Train and Test {} Data\".format(Productname))\n",
    "plt.xlabel(\"actual\")\n",
    "plt.ylabel(\"predictions\")\n",
    "plt.savefig('Scatter Diagram  {}.png'.format(Productname))\n",
    "plt.show()\n"
   ]
  },
  {
   "cell_type": "code",
   "execution_count": 203,
   "metadata": {
    "collapsed": true
   },
   "outputs": [],
   "source": [
    "def format_func(value, tick_number):\n",
    "    # find number of multiples of pi/2\n",
    "    N = tick_number # int(np.round(2 * value / np.pi))\n",
    "    \n",
    "    if N == 1:\n",
    "        return \"200604\"\n",
    "    elif N == 2:\n",
    "        return \"200712\"\n",
    "    elif N == 3:\n",
    "        return \"200908\"\n",
    "    elif N ==4: \n",
    "        return \"201104\"\n",
    "    elif N == 5:\n",
    "        return \"201212\"\n",
    "    elif N == 6:\n",
    "        return \"201408\"\n",
    "    elif N == 7: \n",
    "        return \"201604\"\n",
    "    elif N == 8: \n",
    "        return \"201712\"\n",
    "    else:\n",
    "        return \"\""
   ]
  },
  {
   "cell_type": "code",
   "execution_count": 204,
   "metadata": {},
   "outputs": [
    {
     "data": {
      "image/png": "[encoded data removed]",
      "text/plain": [
       "<matplotlib.figure.Figure at 0x244552749b0>"
      ]
     },
     "metadata": {},
     "output_type": "display_data"
    }
   ],
   "source": [
    "\n",
    "fig = plt.figure(figsize=(15, 5))\n",
    "\n",
    "ax = plt.axes()\n",
    "x = Z['Date']\n",
    "xi = [i for i in range(0, len(x))]\n",
    "\n",
    "\n",
    "ax.plot(xi, inv_y_predict_all, lw=2, color='darkslateblue',label='Predicted Data')\n",
    "ax.plot(xi, inv_y_all, lw=2, color='crimson', label='Actual Data')\n",
    "\n",
    "# Set up grid, legend, and limits\n",
    "ax.grid(True)\n",
    "ax.xaxis.set_major_formatter(plt.FuncFormatter(format_func))\n",
    "ax.legend(frameon=True)\n",
    "plt.title(\"Line Plot {} Data\".format(Productname))\n",
    "plt.xlabel('Year Month')\n",
    "plt.ylabel('Value (Milion USD)') \n",
    "\n",
    "plt.savefig('Line Plot  {}.png'.format(Productname))"
   ]
  },
  {
   "cell_type": "code",
   "execution_count": null,
   "metadata": {
    "collapsed": true
   },
   "outputs": [],
   "source": []
  },
  {
   "cell_type": "markdown",
   "metadata": {},
   "source": [
    "# START OF NN EXPERIMENTS"
   ]
  },
  {
   "cell_type": "code",
   "execution_count": null,
   "metadata": {
    "collapsed": true
   },
   "outputs": [],
   "source": [
    "os.chdir('C:/Users/murat.ozemre/Desktop/Thesis_Project/Data_Learning_Prediction/Box_Plots_For_NeuralNetworks')"
   ]
  },
  {
   "cell_type": "code",
   "execution_count": null,
   "metadata": {},
   "outputs": [],
   "source": [
    "experim.NeuralNetwork(X_train, X_test, y_train, y_test,scaler_y,rand=41,dependenttype=dependenttype)          "
   ]
  },
  {
   "cell_type": "code",
   "execution_count": null,
   "metadata": {},
   "outputs": [],
   "source": [
    "experim.experiment_NN(3,X_train, X_test, y_train, y_test,scaler_y,is_random_fixed='FALSE',dependenttype=dependenttype)    "
   ]
  },
  {
   "cell_type": "code",
   "execution_count": null,
   "metadata": {
    "scrolled": true
   },
   "outputs": [],
   "source": [
    "# MAIN for Neural Network Experiments\n",
    "# EXPERIMENT (with fixed split set) 1 For \"solver_options\"\n",
    "\n",
    "repeats=5\n",
    "\n",
    "# Initialize results\n",
    "results = DataFrame()\n",
    "results_exp = DataFrame()\n",
    "results_split= DataFrame()\n",
    "\n",
    "# Defaults for variables for the first experiment\n",
    "slv='adam'\n",
    "activ ='identity'\n",
    "alph=0.0001 \n",
    "max_iteration=200  \n",
    "hidden_layer=(30,30)\n",
    "\n",
    "# Get the range for variables\n",
    "solver_options = ['lbfgs', 'adam','sgd' ]\n",
    "activation_options = ['identity', 'logistic', 'tanh', 'relu']\n",
    "alpha_options = [0.001,0.00001,0.0000001]\n",
    "max_iteration_options = [1000,10000,50000,100000]\n",
    "hidden_layer_sizes_options=[(10,10),(30,30),(100,100),(30,30,30),(30,100,30)]\n",
    "\n",
    "rs=42\n",
    "\n",
    "    \n",
    "Scaled_Train_Test_Split=experim.X_Y_scaler_train_test_Split(X_threshold,dependent_variable,Z,random=rs)\n",
    "\n",
    "X_train = Scaled_Train_Test_Split[0]\n",
    "X_test = Scaled_Train_Test_Split[1]\n",
    "y_train = Scaled_Train_Test_Split[2]\n",
    "y_test = Scaled_Train_Test_Split[3]\n",
    "scaler_X = Scaled_Train_Test_Split[4]  \n",
    "scaler_y = Scaled_Train_Test_Split[5]\n",
    "scaled_value_X=Scaled_Train_Test_Split[6]\n",
    "scaled_value_y=Scaled_Train_Test_Split[7]\n",
    "    \n",
    "    \n",
    "for slv in solver_options:\n",
    "        results_exp[str(slv)] =experim.experiment_NN(repeats,\n",
    "                  X_train, X_test, y_train, y_test,scaler_y,\n",
    "                  rand=20,is_random_fixed='FALSE',dependenttype=dependenttype,\n",
    "                  activ=activ,alph=alph,max_iteration=max_iteration, slv=slv, hidden_layer=hidden_layer)[1] \n",
    "    \n",
    "results=pd.concat([results,results_exp])\n",
    "\n",
    "## summarize results\n",
    "print('Size:',results.size)\n",
    "#print(results.describe())\n",
    "#save boxplot\n",
    "plt.gcf().clear()\n",
    "results.boxplot()\n",
    "\n",
    "plt.title(\"NN-Box Plot for {}-{}, {}solver, {}activ, {}alpha, {}max_ite, {}hiddenlayer \"\n",
    "          .format(Productname,MonthSeries, solver_options, activ, alph, max_iteration, hidden_layer))\n",
    "\n",
    "plt.savefig(\"NN-Box Plot for {}-{}, {}solver, {}activ, {}alpha, {}max_ite, {}layer.png \"\n",
    "          .format(Productname,MonthSeries,solver_options, activ,alph, max_iteration,hidden_layer), format='png', dpi=300)\n",
    "results.median()"
   ]
  },
  {
   "cell_type": "code",
   "execution_count": null,
   "metadata": {},
   "outputs": [],
   "source": [
    "# MAIN for Neural Network Experiments\n",
    "# EXPERIMENT (with fixed split set) 2 for activation__options \n",
    "\n",
    "slv='lbfgs'\n",
    "# Get the best of from previous experiment\n",
    "\n",
    "# Initialize results\n",
    "results = DataFrame()\n",
    "results_exp = DataFrame()\n",
    "results_split= DataFrame()\n",
    "\n",
    "for activ in activation_options:\n",
    "        results_exp[str(activ)] =experim.experiment_NN(repeats,\n",
    "                  X_train, X_test, y_train, y_test,scaler_y,\n",
    "                  rand=20,is_random_fixed='FALSE',dependenttype=dependenttype,\n",
    "                  activ=activ,alph=alph,max_iteration=max_iteration, slv=slv, hidden_layer=hidden_layer)[1] \n",
    "    \n",
    "results=pd.concat([results,results_exp])\n",
    "\n",
    "## summarize results\n",
    "print('Size:',results.size)\n",
    "#print(results.describe())\n",
    "#save boxplot\n",
    "plt.gcf().clear()\n",
    "results.boxplot()\n",
    "\n",
    "plt.title(\"NN-Box Plot for {}-{}, {}solver, {}activ, {}alpha, {}max_ite, {}hiddenlayer \"\n",
    "          .format(Productname,MonthSeries, slv, activation_options, alph, max_iteration, hidden_layer))\n",
    "\n",
    "plt.savefig(\"NN-Box Plot for {}-{}, {}solver, {}activ, {}alpha, {}max_ite, {}layer.png \"\n",
    "          .format(Productname,MonthSeries, slv, activation_options, alph, max_iteration, hidden_layer), format='png', dpi=300)\n",
    "results.median()"
   ]
  },
  {
   "cell_type": "code",
   "execution_count": null,
   "metadata": {},
   "outputs": [],
   "source": [
    "# MAIN for Neural Network Experiments\n",
    "# EXPERIMENT (with fixed split set) 3 for alpha_options \n",
    "\n",
    "activ ='logistic'\n",
    "# Get the best of from previous experiment\n",
    "\n",
    "# Initialize results\n",
    "results = DataFrame()\n",
    "results_exp = DataFrame()\n",
    "results_split= DataFrame()\n",
    "\n",
    " \n",
    "for alph in alpha_options:\n",
    "        results_exp[str(alph)] =experim.experiment_NN(repeats,\n",
    "                  X_train, X_test, y_train, y_test,scaler_y,\n",
    "                  rand=20,is_random_fixed='FALSE',dependenttype=dependenttype,\n",
    "                  activ=activ,alph=alph,max_iteration=max_iteration, slv=slv, hidden_layer=hidden_layer)[1] \n",
    "    \n",
    "results=pd.concat([results,results_exp])\n",
    "\n",
    "## summarize results\n",
    "print('Size:',results.size)\n",
    "#print(results.describe())\n",
    "#save boxplot\n",
    "plt.gcf().clear()\n",
    "results.boxplot()\n",
    "\n",
    "plt.title(\"NN-Box Plot for {}-{}, {}solver, {}activ, {}alpha, {}max_ite, {}hiddenlayer \"\n",
    "          .format(Productname,MonthSeries, slv, activ, alpha_options, max_iteration, hidden_layer))\n",
    "\n",
    "plt.savefig(\"NN-Box Plot for {}-{}, {}solver, {}activ, {}alpha, {}max_ite, {}layer.png \"\n",
    "          .format(Productname,MonthSeries, slv, activ, alpha_options, max_iteration, hidden_layer), format='png', dpi=300)\n",
    "results.median()"
   ]
  },
  {
   "cell_type": "code",
   "execution_count": null,
   "metadata": {
    "scrolled": true
   },
   "outputs": [],
   "source": [
    "# MAIN for Neural Network Experiments\n",
    "# EXPERIMENT (with fixed split set) 4 for hidden_layer_sizes_options\n",
    "\n",
    "alph=1e-07\n",
    "\n",
    "# Get the best of from previous experiment\n",
    "\n",
    "# Initialize results\n",
    "results = DataFrame()\n",
    "results_exp = DataFrame()\n",
    "results_split= DataFrame()\n",
    "\n",
    "for hidden_layer in hidden_layer_sizes_options:\n",
    "        results_exp[str(hidden_layer)] =experim.experiment_NN(repeats,\n",
    "                  X_train, X_test, y_train, y_test,scaler_y,\n",
    "                  rand=20,is_random_fixed='FALSE',dependenttype=dependenttype,\n",
    "                  activ=activ,alph=alph,max_iteration=max_iteration, slv=slv, hidden_layer=hidden_layer)[1] \n",
    "    \n",
    "results=pd.concat([results,results_exp])\n",
    "\n",
    "## summarize results\n",
    "print('Size:',results.size)\n",
    "#print(results.describe())\n",
    "#save boxplot\n",
    "plt.gcf().clear()\n",
    "results.boxplot()\n",
    "\n",
    "plt.title(\"NN-Box Plot for {}-{}, {}solver, {}activ, {}alpha, {}max_ite, {}hiddenlayer \"\n",
    "          .format(Productname,MonthSeries, slv, activ, alph, max_iteration, hidden_layer_sizes_options))\n",
    "\n",
    "plt.savefig(\"NN-Box Plot for {}-{}, {}solver, {}activ, {}alpha, {}max_ite, {}layer.png \"\n",
    "          .format(Productname,MonthSeries, slv, activ, alph, max_iteration, hidden_layer_sizes_options), format='png', dpi=300)\n",
    "results.median()"
   ]
  },
  {
   "cell_type": "code",
   "execution_count": null,
   "metadata": {},
   "outputs": [],
   "source": [
    "# MAIN for Neural Network Experiments\n",
    "# EXPERIMENT (with fixed split set) 5 for max_iteration_options\n",
    "\n",
    "hidden_layer=(30,100,30)\n",
    "\n",
    "# Get the best of from previous experiment\n",
    "\n",
    "# Initialize results\n",
    "results = DataFrame()\n",
    "results_exp = DataFrame()\n",
    "results_split= DataFrame()\n",
    "\n",
    "for max_iteration in max_iteration_options:\n",
    "        results_exp[str(max_iteration)] =experim.experiment_NN(repeats,\n",
    "                  X_train, X_test, y_train, y_test,scaler_y,\n",
    "                  rand=20,is_random_fixed='FALSE',dependenttype=dependenttype,\n",
    "                  activ=activ,alph=alph,max_iteration=max_iteration, slv=slv, hidden_layer=hidden_layer)[1] \n",
    "    \n",
    "results=pd.concat([results,results_exp])\n",
    "\n",
    "## summarize results\n",
    "print('Size:',results.size)\n",
    "#print(results.describe())\n",
    "#save boxplot\n",
    "plt.gcf().clear()\n",
    "results.boxplot()\n",
    "\n",
    "plt.title(\"NN-Box Plot for {}-{}, {}solver, {}activ, {}alpha, {}max_ite, {}hiddenlayer \"\n",
    "          .format(Productname,MonthSeries, slv, activ, alph, max_iteration_options, hidden_layer))\n",
    "\n",
    "plt.savefig(\"NN-Box Plot for {}-{}, {}solver, {}activ, {}alpha, {}max_ite, {}layer.png \"\n",
    "          .format(Productname,MonthSeries, slv, activ, alph, max_iteration_options, hidden_layer), format='png', dpi=300)\n",
    "results.median()"
   ]
  },
  {
   "cell_type": "code",
   "execution_count": null,
   "metadata": {},
   "outputs": [],
   "source": [
    "max_iteration=100000\n",
    "# Get the best of from previous experiment\n",
    "\n",
    "when=datetime.now().strftime('%m-%d %H:%M')\n",
    "\n",
    "print(\"Product=\",Productname)\n",
    "print(\"Month = \",MonthSeries)\n",
    "print(\"rs for split\",rs)\n",
    "\n",
    "\n",
    "print(\"percent\",percent)\n",
    "print(\"dependenttype\",dependenttype)\n",
    "\n",
    "#Tuned Parameters after experiments\n",
    "print(\"solver=\",slv) # EXP1\n",
    "print(\"activity=\", activ) # EXP2\n",
    "print(\"alpha=\", alph) # EXP3\n",
    "print(\"hidden_layer=\", hidden_layer) # EXP4\n",
    "print(\"max_iteration\", max_iteration) # EXP5\n",
    "\n",
    "# store as parameters\n",
    "parameters=[Product,Exp_Country,Imp_Country,MonthSeries,percent,dependenttype, rs,slv,activ,alph,hidden_layer,max_iteration,when]\n"
   ]
  },
  {
   "cell_type": "code",
   "execution_count": null,
   "metadata": {},
   "outputs": [],
   "source": [
    "# MAIN for Neural Network Experiments\n",
    "# EXPERIMENT (with fixed split set) for Before Tuning and After Tuning \n",
    "\n",
    "\n",
    "# Initialize results\n",
    "results = DataFrame()\n",
    "results_exp = DataFrame()\n",
    "results_split= DataFrame()\n",
    "\n",
    "tune_options=[ 'Not_Tuned','Tuned']\n",
    "\n",
    "for tune in tune_options:\n",
    "\n",
    "        if tune=='Tuned':\n",
    "            print(tune)\n",
    "            \n",
    "\n",
    "            results_exp[str(tune)] =experim.experiment_NN(repeats,\n",
    "                  X_train, X_test, y_train, y_test,scaler_y,\n",
    "                  rand=20,is_random_fixed='FALSE',dependenttype=dependenttype,\n",
    "                  activ=activ,alph=alph,max_iteration=max_iteration, slv=slv, hidden_layer=hidden_layer)[1] \n",
    "    \n",
    "        elif tune=='Not_Tuned':\n",
    "            print(tune)\n",
    "                \n",
    "            # Defaults for variables for the first experiment\n",
    "            results_exp[str(tune)] =experim.experiment_NN(repeats,\n",
    "                  X_train, X_test, y_train, y_test,scaler_y,\n",
    "                  rand=20,is_random_fixed='FALSE',dependenttype=dependenttype)[1] \n",
    "    \n",
    "    \n",
    "results=pd.concat([results,results_exp])\n",
    "\n",
    "## summarize results\n",
    "print('Size:',results.size)\n",
    "#print(results.describe())\n",
    "#save boxplot\n",
    "plt.gcf().clear()\n",
    "results.boxplot()\n",
    "\n",
    "\n",
    "plt.title(\"NN-Box Plot for {}-{}, Before and After Tuning, {}solver, {}activ, {}alpha, {}max_ite, {}hiddenlayer \"\n",
    "          .format(Productname,MonthSeries, slv, activ, alph, max_iteration,hidden_layer))\n",
    "\n",
    "plt.savefig(\"NN-Box Plot for {}-{}, Before and After Tuning with fixed splits.png \"\n",
    "          .format(Productname,MonthSeries), format='png', dpi=300)\n",
    "\n",
    "tuned_results_fixed_split=[results['Tuned'].describe()[5],results['Tuned'].describe()[6]]\n",
    "results.median()"
   ]
  },
  {
   "cell_type": "code",
   "execution_count": null,
   "metadata": {
    "scrolled": true
   },
   "outputs": [],
   "source": [
    "# MAIN for Neural Network Experiments\n",
    "# EXPERIMENT (with different split sets) for Before Tuning and After Tuning \n",
    "\n",
    "\n",
    "# Initialize results\n",
    "results = DataFrame()\n",
    "results_exp = DataFrame()\n",
    "results_split= DataFrame()\n",
    "\n",
    "\n",
    "repeats=5\n",
    "random_range_for_split=5\n",
    "\n",
    "for r in range (random_range_for_split):\n",
    "\n",
    "    rs=random.randint(1,100)\n",
    "\n",
    "    print('split rs=',rs)\n",
    "    \n",
    "    Scaled_Train_Test_Split=experim.X_Y_scaler_train_test_Split(X_threshold,dependent_variable,Z,random=rs)\n",
    "\n",
    "    X_train = Scaled_Train_Test_Split[0]\n",
    "    X_test = Scaled_Train_Test_Split[1]\n",
    "    y_train = Scaled_Train_Test_Split[2]\n",
    "    y_test = Scaled_Train_Test_Split[3]\n",
    "    scaler_X = Scaled_Train_Test_Split[4]  \n",
    "    scaler_y = Scaled_Train_Test_Split[5]\n",
    "    scaled_value_X=Scaled_Train_Test_Split[6]\n",
    "    scaled_value_y=Scaled_Train_Test_Split[7]\n",
    "     \n",
    "    \n",
    "    for tune in tune_options:\n",
    "    \n",
    "            if tune=='Not_Tuned':\n",
    "                \n",
    "                results_exp[str(tune)] =experim.experiment_NN(repeats,\n",
    "                  X_train, X_test, y_train, y_test,scaler_y,\n",
    "                  rand=20,is_random_fixed='FALSE',dependenttype=dependenttype)[1] \n",
    "                        \n",
    "            elif tune=='Tuned':\n",
    "                \n",
    "                results_exp[str(tune)] =experim.experiment_NN(repeats,\n",
    "                  X_train, X_test, y_train, y_test,scaler_y,\n",
    "                  rand=20,is_random_fixed='FALSE',dependenttype=dependenttype,\n",
    "                  activ=activ,alph=alph,max_iteration=max_iteration, slv=slv, hidden_layer=hidden_layer)[1] \n",
    "              \n",
    "    results=pd.concat([results,results_exp])\n",
    "    \n",
    "## summarize results\n",
    "print('Size:',results.size)\n",
    "#print(results.describe())\n",
    "\n",
    "#save boxplot\n",
    "plt.gcf().clear()\n",
    "results.boxplot()\n",
    "\n",
    "plt.title(\"NN-Box Plot for {}-{}, Before and After Tuning, {}solver, {}activ, {}alpha, {}max_ite, {}hiddenlayer \"\n",
    "          .format(Productname,MonthSeries,slv, activ, alph, max_iteration,hidden_layer))\n",
    "\n",
    "plt.savefig(\"NN-Box Plot for {}-{}, Before and After Tuning with different splits.png \"\n",
    "          .format(Productname,MonthSeries), format='png', dpi=300)\n",
    "\n",
    "tuned_results_mixed_split=[results['Tuned'].describe()[5],results['Tuned'].describe()[6]]\n",
    "results.median()"
   ]
  },
  {
   "cell_type": "code",
   "execution_count": null,
   "metadata": {
    "collapsed": true
   },
   "outputs": [],
   "source": [
    "# Read from Excel Tuning paremeters\n",
    "os.chdir('C:/Users/murat.ozemre/Desktop/Thesis_Project/Data_Learning_Prediction')\n",
    "Tuned_set = pd.ExcelFile('Tuned_Parameters.xlsx'.format(Exp_Country,Imp_Country,Product))\n",
    "Tuned_set_RF_all = Tuned_set.parse('RF', header=0,index_col=None, na_values=['NA'])\n",
    "Tuned_set_NN_all = Tuned_set.parse('NN', header=0,index_col=None, na_values=['NA'])\n",
    "\n",
    "# For this experiment \n",
    "tuned_results_NN=tuned_results_fixed_split+tuned_results_mixed_split\n",
    "\n",
    "Tuned_set_NN =  DataFrame(columns='Product Exp Imp Month dependenttype perc rs_split Solver Activity Alpha Hidden_layer Max_iteration Datetime fix_p50 fix_p75 mix_p50 mix_p75'.split())\n",
    "Tuned_set_NN.loc[0]= parameters + tuned_results_NN\n",
    "\n",
    "# Combine with the other experiment \n",
    "Tuned_set_NN_all= pd.concat([Tuned_set_NN_all,Tuned_set_NN])\n",
    "\n",
    "\n"
   ]
  },
  {
   "cell_type": "markdown",
   "metadata": {},
   "source": [
    "# END OF NN EXPERIMENTS"
   ]
  },
  {
   "cell_type": "code",
   "execution_count": null,
   "metadata": {
    "collapsed": true
   },
   "outputs": [],
   "source": [
    "os.chdir('C:/Users/murat.ozemre/Desktop/Thesis_Project/Data_Learning_Prediction')\n",
    "# Write to Excel this and previous Tuning paremeters\n",
    "writer = pd.ExcelWriter('Tuned_Parameters.xlsx')\n",
    "Tuned_set_RF_all.to_excel(writer,'RF')\n",
    "Tuned_set_NN_all.to_excel(writer,'NN')\n",
    "writer.save()\n",
    "\n"
   ]
  },
  {
   "cell_type": "code",
   "execution_count": null,
   "metadata": {
    "collapsed": true
   },
   "outputs": [],
   "source": []
  },
  {
   "cell_type": "markdown",
   "metadata": {},
   "source": [
    "# Start Conclusion Of Experiments"
   ]
  },
  {
   "cell_type": "code",
   "execution_count": null,
   "metadata": {
    "collapsed": true
   },
   "outputs": [],
   "source": []
  },
  {
   "cell_type": "code",
   "execution_count": null,
   "metadata": {
    "collapsed": true
   },
   "outputs": [],
   "source": []
  },
  {
   "cell_type": "code",
   "execution_count": null,
   "metadata": {
    "collapsed": true
   },
   "outputs": [],
   "source": []
  },
  {
   "cell_type": "markdown",
   "metadata": {},
   "source": [
    "# LSTM EXPERIMENT (with fixed split set) SECTION"
   ]
  },
  {
   "cell_type": "code",
   "execution_count": null,
   "metadata": {
    "collapsed": true
   },
   "outputs": [],
   "source": [
    "os.chdir('C:/Users/murat.ozemre/Desktop/Thesis_Project/Data_Learning_Prediction/Plots_for_LSTM')"
   ]
  },
  {
   "cell_type": "code",
   "execution_count": null,
   "metadata": {
    "collapsed": true
   },
   "outputs": [],
   "source": [
    "results = DataFrame()\n",
    "\n",
    "repeats = 1\n",
    "e=500\n",
    "n=100\n",
    "lr=0.001\n",
    "b=50\n",
    "deney=experiment_LSTM(repeats,e,n,lr,b,drop_rate,do_batch,do_model,train_X, test_X, train_y, test_y,scaler_x,scaler_y)\n",
    "deney[1] "
   ]
  },
  {
   "cell_type": "code",
   "execution_count": null,
   "metadata": {
    "collapsed": true,
    "scrolled": true
   },
   "outputs": [],
   "source": [
    "#rs=29\n",
    "rs=42\n",
    "repeats = 1\n",
    "drop_rate=0.0\n",
    "do_batch='TRUE'\n",
    "do_model='B'\n",
    "random_split='TRUE'\n",
    "\n",
    "e=5\n",
    "n=300\n",
    "lr=0.01\n",
    "b=1\n",
    "\n",
    "# Set X train, X test, y train, y test\n",
    "rs=42\n",
    "Scaled_Train_Test_Split=X_Y_scaler_train_test_Split(X,dependent_variable,Z,random=rs)\n",
    "\n",
    "X_train = Scaled_Train_Test_Split[0].values\n",
    "X_test = Scaled_Train_Test_Split[1].values\n",
    "y_train = Scaled_Train_Test_Split[2].values\n",
    "y_test = Scaled_Train_Test_Split[3].values\n",
    "scaler_X = Scaled_Train_Test_Split[4]  \n",
    "scaler_y = Scaled_Train_Test_Split[5]\n",
    "scaled_value_X=Scaled_Train_Test_Split[6]\n",
    "scaled_value_y=Scaled_Train_Test_Split[7]\n",
    "\n",
    "\n",
    "deney=experiment_LSTM(repeats,e,n,lr,b,drop_rate,do_batch,do_model,X_train, X_test, y_train, y_test,scaler_X,scaler_y)\n",
    "\n",
    "error_rmse=deney[0] \n",
    "error_r2=deney[1] \n",
    "error_r2hat=deney[2] \n",
    "train_y=deney[3]\n",
    "history=deney[4]\n",
    "print(error_r2)\n",
    "print(error_r2hat)"
   ]
  },
  {
   "cell_type": "code",
   "execution_count": null,
   "metadata": {
    "collapsed": true
   },
   "outputs": [],
   "source": [
    "results = DataFrame()\n",
    "repeats = 10\n",
    "e=100\n",
    "n=50\n",
    "lr=0.05\n",
    "b=50\n",
    "results_exp = DataFrame()\n",
    "results = DataFrame()\n",
    "for r in range (0,50):\n",
    "        rs=random.randint(1,100)\n",
    "        SplitData=TrainTestSplit(rs,X,y,date,th,random_split)\n",
    "#        print(rs)\n",
    "        train_X=SplitData[0] \n",
    "        test_X=SplitData[1] \n",
    "        train_y=SplitData[2] \n",
    "        test_y=SplitData[3]\n",
    "        scaler_x=SplitData[4]\n",
    "        scaler_y=SplitData[5]\n",
    "        split_succesfull=SplitData[7]\n",
    "\n",
    "        for b in batch_sizes:\n",
    "            results_exp[str(b)] = experiment_LSTM(repeats,e,n,lr,b,drop_rate,do_batch,do_model,train_X, test_X, train_y, test_y,scaler_x,scaler_y)[1]\n",
    "\n",
    "        results=pd.concat([results,results_exp])\n",
    "\n",
    "## summarize results\n",
    "print('Size:',results.size)\n",
    "#print(results.describe())\n",
    "#save boxplot\n",
    "plt.gcf().clear()\n",
    "results.boxplot()\n",
    "plt.title(\"LSTM-Box Plot for {}-{}, {} epochs,{} neurons,{} learning_rate {}batch size \"\n",
    "          .format(Productname,MonthSeries,e,n,lr,batch_sizes))\n",
    "plt.savefig('Data/LSTM-Box Plot for {}-{}, {} epochs,{} neurons{}lr,{}bsize.png'\n",
    "               .format(Productname,MonthSeries,e,n,lr,batch_sizes))"
   ]
  },
  {
   "cell_type": "code",
   "execution_count": null,
   "metadata": {
    "collapsed": true
   },
   "outputs": [],
   "source": [
    "#rs=29\n",
    "rs=42\n",
    "repeats = 1\n",
    "SplitData=TrainTestSplit(rs,X,y,date,th,random_split)\n",
    "\n",
    "e=200\n",
    "n=400\n",
    "lr=0.001\n",
    "b=30\n",
    "\n",
    "train_X=SplitData[0] \n",
    "test_X=SplitData[1] \n",
    "train_y=SplitData[2] \n",
    "test_y=SplitData[3]\n",
    "scaler_x=SplitData[4]\n",
    "scaler_y=SplitData[5]\n",
    "\n",
    "deney=experiment_LSTM(repeats,e,n,lr,b,drop_rate,do_batch,do_model,train_X, test_X, train_y, test_y,scaler_x,scaler_y)\n",
    "\n",
    "error_rmse=deney[0] \n",
    "error_r2=deney[1] \n",
    "error_r2hat=deney[2] \n",
    "train_y=deney[3]\n",
    "history=deney[4]\n",
    "print(error_r2)\n",
    "print(error_r2hat)"
   ]
  },
  {
   "cell_type": "code",
   "execution_count": null,
   "metadata": {
    "collapsed": true,
    "scrolled": true
   },
   "outputs": [],
   "source": [
    "\n",
    "#repeats=5\n",
    "e=2000\n",
    "n=100\n",
    "lr=0.05\n",
    "b=50\n",
    "\n",
    "neurons = [5, 50, 100]\n",
    "results_exp = DataFrame()\n",
    "results = DataFrame()\n",
    "for r in range (0,50):\n",
    "        rs=random.randint(1,100)\n",
    "        SplitData=TrainTestSplit(rs,X,y,date,th,random_split)\n",
    "#        print(rs)\n",
    "        train_X=SplitData[0] \n",
    "        test_X=SplitData[1] \n",
    "        train_y=SplitData[2] \n",
    "        test_y=SplitData[3]\n",
    "        scaler_x=SplitData[4]\n",
    "        scaler_y=SplitData[5]\n",
    "        split_succesfull=SplitData[7]\n",
    "\n",
    "        for n in neurons:\n",
    "            results_exp[str(n)] = experiment_LSTM(repeats,e,n,lr,b,drop_rate,do_batch,do_model,train_X, test_X, train_y, test_y,scaler_x,scaler_y)[1]\n",
    "        results=pd.concat([results,results_exp])\n",
    "\n",
    "## summarize results\n",
    "print('Size:',results.size)\n",
    "#print(results.describe())\n",
    "#save boxplot\n",
    "plt.gcf().clear()\n",
    "results.boxplot()\n",
    "plt.title(\"LSTM-Box Plot for {}-{}, {} epochs,{} neurons,{} learning_rate {}batch size\"\n",
    "          .format(Productname,MonthSeries,e,neurons,lr,b))\n",
    "plt.savefig('Data/LSTM-Box Plot for {}-{}, {} epochs,{} neurons{},lr{}, b.png'\n",
    "               .format(Productname,MonthSeries,e,neurons,lr,b))\n"
   ]
  },
  {
   "cell_type": "code",
   "execution_count": null,
   "metadata": {
    "collapsed": true
   },
   "outputs": [],
   "source": [
    "# LSTM EXPERIMENT\n",
    "\n",
    "#def experiment(repeats,n_epochs,n_neurons,learning_rate,bs,rs,X,y,date):\n",
    "def experiment_LSTM(repeats,n_epochs,n_neurons,learning_rate,bs,drop_rate,do_batch,do_model,train_X, test_X, train_y, test_y,scaler_x,scaler_y):\n",
    "    K.clear_session()\n",
    "\n",
    "#    print(type(train_X))\n",
    "    train_X =train_X.reshape((train_X.shape[0], 1, train_X.shape[1]))\n",
    "    test_X = test_X.reshape((test_X.shape[0], 1, test_X.shape[1]))\n",
    "    print(train_X.shape, train_y.shape, test_X.shape, test_y.shape)\n",
    "\n",
    "#    train_X =train_X.reshape((train_X.shape[0], train_X.shape[1],1))\n",
    "#    test_X = test_X.reshape((test_X.shape[0], test_X.shape[1],1))\n",
    "#    print(train_X.shape, train_y.shape, test_X.shape, test_y.shape)\n",
    " \n",
    "    \n",
    "    error_rmse = list()\n",
    "    error_r2hat = list()\n",
    "    error_r2 = list()\n",
    "    for r in range(repeats):\n",
    "        \n",
    "        print('Shape of X Train',train_X.shape[1],train_X.shape[2])\n",
    "    \n",
    "\n",
    "        if do_model=='A':\n",
    "            model = Sequential() \n",
    "            model.add(LSTM(n_neurons,input_shape=(train_X.shape[1], train_X.shape[2])))\n",
    "            model.add(Dropout(drop_rate))\n",
    "            \n",
    "            model.add(Dense(n_neurons))\n",
    "            model.add(Dropout(drop_rate))\n",
    "            \n",
    "            model.add(Dense(1))\n",
    "#            model.add(Activation('sigmoid'))\n",
    "            model.add(Activation('linear'))\n",
    "        \n",
    "        elif do_model=='B':   \n",
    "            input_layer=Input(shape=(train_X.shape[1], train_X.shape[2]),dtype='float32')\n",
    "            lstm_layer1=LSTM(n_neurons,input_shape=(train_X.shape[1],train_X.shape[2]),\n",
    "                         dropout=drop_rate, \n",
    "                         recurrent_dropout=drop_rate,\n",
    "                         return_sequences=True)(input_layer)\n",
    "            lstm_layer2=LSTM(n_neurons,input_shape=(train_X.shape[1],n_neurons),\n",
    "                         dropout=drop_rate, \n",
    "                         recurrent_dropout=drop_rate,\n",
    "                         return_sequences=False)(lstm_layer1)\n",
    "            dropout_layer=Dropout(drop_rate)(lstm_layer2)\n",
    "\n",
    "            output_layer=Dense(1,activation=\"linear\")(dropout_layer)\n",
    "#            output_layer=Dense(1,activation=\"linear\")(lstm_layer2)\n",
    "         \n",
    "\n",
    "        #ix layerlarda Activation için RELU Output için linear uygun oluyor. Kaynak Siraj Raval\n",
    "        \n",
    "            model=Model(inputs=input_layer, outputs=output_layer)\n",
    "        \n",
    "        \n",
    "        #decay_rate = learning_rate / n_epochs\n",
    "        \n",
    "        decay_rate = 0.8\n",
    "        momentum = 0.9\n",
    "         \n",
    "        sgd = optimizers.SGD(lr=learning_rate, clipvalue=0.3,momentum=momentum, decay=decay_rate,nesterov=True)\n",
    "        adam = optimizers.Adam(lr=learning_rate, beta_1=0.9, beta_2=0.999, epsilon=None, decay=decay_rate, amsgrad=False)\n",
    "\n",
    "        #model.compile(loss='mean_squared_error', optimizer='adam')\n",
    "        \n",
    "        \n",
    "#        model.compile(loss='mean_squared_error', optimizer=sgd, metrics=['accuracy'])\n",
    "        model.compile(loss='mean_squared_error', optimizer=adam, metrics=['accuracy'])\n",
    "\n",
    "#        model=load_model(os.path.join('Data','train_dataset{}-{}neurons.hdf5'.format(Productname,n_neurons)))\n",
    "#        model=load_model(os.path.join('Data','train_dataset{}-{}neurons.hdf5'.format(Productname,n_neurons)))\n",
    "\n",
    "        model.summary()\n",
    "        \n",
    "        save_weights_at=os.path.join('Data','train_dataset{}-{}neurons.hdf5'.format(Productname,n_neurons))\n",
    "\n",
    "        save_best=ModelCheckpoint(save_weights_at, monitor='val_loss', verbose=0,\n",
    "                                 save_best_only=True, save_weights_only=False, mode='min',\n",
    "                                 period=1)\n",
    "        \n",
    "        reduce_lr = ReduceLROnPlateau(monitor='val_loss', factor=0.2,\n",
    "                              patience=5, min_lr=0.00001)\n",
    "        early_stop = EarlyStopping(monitor='loss', patience=10, verbose=1)\n",
    "        \n",
    "        history = model.fit(train_X, train_y, epochs=n_epochs, batch_size=bs, \n",
    "\n",
    "                            validation_data=(test_X, test_y), verbose=1, \n",
    "#                            callbacks=[reduce_lr],\n",
    "                           # callbacks=[save_best],\n",
    "\n",
    "                           # callbacks=[early_stop],\n",
    "                            shuffle=False)\n",
    "\n",
    "#        best_model=load_model(os.path.join('Data','train_dataset.hdf5')\n",
    "#        model=load_model(os.path.join('Data','train_dataset{}-{}neurons.hdf5'.format(Productname,n_neurons)))\n",
    "\n",
    "        #model=best_model\n",
    "\n",
    "        \n",
    "        \n",
    "\n",
    "        \n",
    "        # summarize history for loss\n",
    "        plt.gcf().clear()\n",
    "        plt.plot(history.history['loss'])\n",
    "        plt.plot(history.history['val_loss'])\n",
    "        plt.title('model loss')\n",
    "        plt.ylabel('loss')\n",
    "        plt.xlabel('epoch')\n",
    "        plt.legend(['train', 'test'], loc='upper left')\n",
    "        plt.show()\n",
    "\n",
    "        \n",
    "        # summarize history for accuracy\n",
    "#        plt.plot(history.history['acc'])\n",
    "#        plt.plot(history.history['val_acc'])\n",
    "#        plt.title('model accuracy')\n",
    "#        plt.ylabel('accuracy')\n",
    "#        plt.xlabel('epoch')\n",
    "#        plt.legend(['train', 'test'], loc='upper left')\n",
    "#        plt.show()\n",
    "\n",
    "\n",
    "#        test_X_reshaped = test_X.reshape((test_X.shape[0], test_X.shape[1]))\n",
    "\n",
    "        test_X_reshaped = test_X.reshape((test_X.shape[0], test_X.shape[2]))\n",
    "        inv_x_test = scaler_x.inverse_transform(test_X_reshaped)\n",
    "        inv_x_test = pd.DataFrame(data=inv_x_test[:,:])\n",
    "\n",
    "        # make a prediction\n",
    "        y_predict_test = model.predict(test_X)\n",
    "        y_predict_train = model.predict(train_X)\n",
    "\n",
    "        # invert scaling for forecast\n",
    "        inv_y_predict_test = scaler_y.inverse_transform(y_predict_test)\n",
    "        inv_y_predict_test = inv_y_predict_test[:,0]\n",
    "        inv_y_predict_train = scaler_y.inverse_transform(y_predict_train)\n",
    "        inv_y_predict_train = inv_y_predict_train[:,0]\n",
    "\n",
    "        # invert scaling for actual\n",
    "        y_test = test_y.reshape((len(test_y), 1))\n",
    "        inv_y_test = scaler_y.inverse_transform(test_y)\n",
    "        inv_y_test = inv_y_test[:,0]\n",
    "\n",
    "        y_train = train_y.reshape((len(train_y), 1))\n",
    "        inv_y_train = scaler_y.inverse_transform(train_y)\n",
    "        inv_y_train = inv_y_train[:,0]\n",
    "\n",
    "        # calculate RMSE for DIFFERENCE\n",
    "        rmse_test = sqrt(mean_squared_error(inv_y_test, inv_y_predict_test))\n",
    "        print('Test RMSE: %.3f' % rmse_test)\n",
    "        R2_test=int(1000*(metrics.r2_score(inv_y_test, inv_y_predict_test)))/1000\n",
    "        print('R2_test: %.3f' % R2_test)\n",
    "\n",
    "        rmse_train = sqrt(mean_squared_error(inv_y_train, inv_y_predict_train))\n",
    "        print('Train RMSE: %.3f' % rmse_train)\n",
    "        R2_train=int(1000*(metrics.r2_score(inv_y_train, inv_y_predict_train)))/1000\n",
    "        print('R2_train: %.3f' % R2_train)\n",
    "\n",
    "        # calculate RMSE for REAL VALUE\n",
    "\n",
    "        real_y_test= inv_x_test.iloc[:,0]+inv_y_test\n",
    "        real_y_predict_test=inv_x_test.iloc[:,0]+inv_y_predict_test\n",
    "        \n",
    "        real_rmse_test = sqrt(mean_squared_error(real_y_test, real_y_predict_test))\n",
    "        print('Test RMSE: %.3f' % real_rmse_test)\n",
    "        real_R2_test=int(1000*(metrics.r2_score(real_y_test, real_y_predict_test)))/1000\n",
    "        print('R2_test: %.3f' % real_R2_test)\n",
    "        \n",
    "        error_rmse.append(real_rmse_test)\n",
    "        error_r2hat.append(real_R2_test)\n",
    "        error_r2.append(R2_test)\n",
    "        \n",
    "        \n",
    "        plt.gcf().clear()\n",
    "        plt.figure(figsize=(5.5, 5.5))\n",
    "        plt.plot(range(len(inv_y_test)), inv_y_test, linestyle='-', marker='*', color='r')\n",
    "        plt.plot(range(len(inv_y_predict_test)), inv_y_predict_test, linestyle='-', marker='.', color='b')\n",
    "        plt.legend(['Actual','Predicted'], loc=2)\n",
    "        plt.title('Actual vs Predicted for {}'.format(Productname))\n",
    "        plt.ylabel('Trade Value')\n",
    "        plt.xlabel('Index')\n",
    "        plt.savefig('LSTM-LinePlt{} ,{} epochs,{} neurons,{} learning_rate,{} batch size, {} random, {} R2.png'.format(Productname,\n",
    "                                n_epochs,n_neurons,learning_rate,bs,rs,R2_test), format='png', dpi=300)\n",
    "       \n",
    "\n",
    "        \n",
    "        \n",
    "    return error_rmse,error_r2,error_r2hat,train_y,history"
   ]
  },
  {
   "cell_type": "code",
   "execution_count": null,
   "metadata": {
    "collapsed": true
   },
   "outputs": [],
   "source": [
    "results = DataFrame()\n",
    "\n",
    "repeats = 1\n",
    "\n",
    "# vary training epochs\"\n",
    "epochs = [50, 500, 1000,2000]\n",
    "neurons = [5, 50,100]\n",
    "learning_rates= [0.001, 0.01, 0.05, 0.1]\n",
    "batch_sizes=[5, 12, 24,50,100]\n",
    "\n",
    "\n",
    "e=3000\n",
    "n=200\n",
    "lr=0.02\n",
    "b=50\n",
    "\n",
    "\n",
    "e=500\n",
    "n=100\n",
    "lr=0.05\n",
    "b=50\n",
    "results_exp = DataFrame()\n",
    "results = DataFrame()\n",
    "for r in range (0,50):\n",
    "        rs=random.randint(1,100)\n",
    "        SplitData=TrainTestSplit(rs,X,y,date,th,random_split)\n",
    "#        print(rs)\n",
    "        train_X=SplitData[0] \n",
    "        test_X=SplitData[1] \n",
    "        train_y=SplitData[2] \n",
    "        test_y=SplitData[3]\n",
    "        scaler_x=SplitData[4]\n",
    "        scaler_y=SplitData[5]\n",
    "        split_succesfull=SplitData[7]\n",
    "\n",
    "\n",
    "\n",
    "        for e in epochs:\n",
    "            results_exp[str(e)] = experiment_LSTM(repeats,e,n,lr,b,drop_rate,do_batch,do_model,train_X, test_X, train_y, test_y,scaler_x,scaler_y)[1]\n",
    "        results=pd.concat([results,results_exp])\n",
    "\n",
    "## summarize results\n",
    "print('Size:',results.size)\n",
    "#print(results.describe())\n",
    "#save boxplot\n",
    "plt.gcf().clear()\n",
    "\n",
    "results.boxplot()\n",
    "plt.title(\"LSTM-Box Plot for {}-{}, {} epochs,{} neurons,{} learning_rate, {}batch size \"\n",
    "          .format(Productname,MonthSeries,epochs,n,lr,b))\n",
    "plt.savefig('Data/LSTM-Box Plot for {}-{}, {} epochs,{} neurons {}lr,{}b.png'\n",
    "               .format(Productname,MonthSeries,epochs,n,lr,b))\n",
    "\n",
    "\n"
   ]
  }
 ],
 "metadata": {
  "kernelspec": {
   "display_name": "Python 3",
   "language": "python",
   "name": "python3"
  },
  "language_info": {
   "codemirror_mode": {
    "name": "ipython",
    "version": 3
   },
   "file_extension": ".py",
   "mimetype": "text/x-python",
   "name": "python",
   "nbconvert_exporter": "python",
   "pygments_lexer": "ipython3",
   "version": "3.6.2"
  }
 },
 "nbformat": 4,
 "nbformat_minor": 2
}
