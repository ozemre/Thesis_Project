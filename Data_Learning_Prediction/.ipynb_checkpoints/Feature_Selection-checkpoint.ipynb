{
 "cells": [
  {
   "cell_type": "code",
   "execution_count": 1,
   "metadata": {
    "collapsed": true
   },
   "outputs": [],
   "source": [
    "from __future__ import absolute_import\n",
    "from __future__ import division\n",
    "from __future__ import print_function\n",
    "\n",
    "import numpy as np\n",
    "import pandas as pd\n",
    "from time import time\n",
    "import matplotlib.pyplot as plt\n",
    "#from sklearn.cross_validation import train_test_split\n",
    "import seaborn as sns\n",
    "%matplotlib inline\n",
    "\n",
    "\n",
    "import sys\n",
    "import warnings\n",
    "\n",
    "if not sys.warnoptions:\n",
    "    warnings.simplefilter(\"ignore\")"
   ]
  },
  {
   "cell_type": "code",
   "execution_count": 2,
   "metadata": {
    "collapsed": true
   },
   "outputs": [],
   "source": [
    "from scipy.stats.stats import pearsonr"
   ]
  },
  {
   "cell_type": "code",
   "execution_count": 3,
   "metadata": {
    "collapsed": true
   },
   "outputs": [],
   "source": [
    "from sklearn.model_selection import train_test_split"
   ]
  },
  {
   "cell_type": "code",
   "execution_count": 4,
   "metadata": {},
   "outputs": [
    {
     "name": "stderr",
     "output_type": "stream",
     "text": [
      "C:\\Users\\murat.ozemre\\AppData\\Local\\Continuum\\Anaconda3\\envs\\Tensor_1\\lib\\site-packages\\sklearn\\ensemble\\weight_boosting.py:29: DeprecationWarning: numpy.core.umath_tests is an internal NumPy module and should not be imported. It will be removed in a future NumPy release.\n",
      "  from numpy.core.umath_tests import inner1d\n"
     ]
    }
   ],
   "source": [
    "import Experiment_Ready as exp\n"
   ]
  },
  {
   "cell_type": "code",
   "execution_count": 5,
   "metadata": {
    "collapsed": true
   },
   "outputs": [],
   "source": [
    "\n",
    "import os\n",
    "import sys\n",
    "os.chdir('C:/Users/murat.ozemre/Desktop/Thesis_Project/Data_Sources_and_Preparation')\n",
    "#os.chdir('C:/Users/murat.ozemre/Documents/MOZEMRE-OZEL/Doktora/2017 Tez/Veri Analizi/Ver 3 Tez Izleme Calısmaları')"
   ]
  },
  {
   "cell_type": "code",
   "execution_count": 6,
   "metadata": {},
   "outputs": [
    {
     "data": {
      "text/plain": [
       "'02-11 22:06'"
      ]
     },
     "execution_count": 6,
     "metadata": {},
     "output_type": "execute_result"
    }
   ],
   "source": [
    "from sklearn import metrics\n",
    "import statsmodels\n",
    "from math import sqrt\n",
    "from math import log\n",
    "from sklearn.ensemble import RandomForestRegressor\n",
    "from datetime import datetime\n",
    "datetime.now().strftime('%m-%d %H:%M')"
   ]
  },
  {
   "cell_type": "code",
   "execution_count": 7,
   "metadata": {
    "collapsed": true
   },
   "outputs": [],
   "source": [
    "from sklearn.preprocessing import MinMaxScaler\n",
    "from sklearn.preprocessing import minmax_scale\n",
    "from sklearn.preprocessing import MaxAbsScaler\n",
    "from sklearn.preprocessing import StandardScaler\n",
    "from sklearn.preprocessing import RobustScaler\n",
    "from sklearn.preprocessing import Normalizer"
   ]
  },
  {
   "cell_type": "code",
   "execution_count": 9,
   "metadata": {
    "collapsed": true
   },
   "outputs": [],
   "source": [
    "Product_Type_Options = [841810,841840,841850]\n",
    "\n",
    "Product=Product_Type_Options[1] #841810\n",
    "Exp_Country='CHN' # 'CHN'\n",
    "Imp_Country='GBR'\n",
    "\n",
    "if Exp_Country=='CHN':\n",
    "    Currency='CNY'\n",
    "    EXP0='TUR'   \n",
    "elif Exp_Country=='TUR':\n",
    "    Currency='TRY'\n",
    "    EXP0='CHN'   "
   ]
  },
  {
   "cell_type": "code",
   "execution_count": 10,
   "metadata": {
    "collapsed": true
   },
   "outputs": [],
   "source": [
    "MonthSeries=\"3\"\n",
    "MonthSeries_option=[\"1\",\"2\",\"3\",\"6\",\"12\"]    "
   ]
  },
  {
   "cell_type": "markdown",
   "metadata": {},
   "source": [
    "# For Single Combination of Month  and Feature"
   ]
  },
  {
   "cell_type": "code",
   "execution_count": 10,
   "metadata": {
    "collapsed": true
   },
   "outputs": [],
   "source": [
    "Data_Core1 = pd.ExcelFile('Data_{}_{}_{}.xlsx'.format(Exp_Country,Imp_Country,Product))\n",
    "y = Data_Core1.parse('Y', header=0,index_col=None, na_values=['NA'])['{}_{}_{}'.format(Exp_Country,Imp_Country,Product)]\n",
    "Z = Data_Core1.parse('Y', header=0,index_col=None, na_values=['NA'])[['Date','Year','Month']]\n",
    "\n",
    "X = Data_Core1.parse('X{}'.format(MonthSeries), header=0,index_col=None, na_values=['NA'])\n",
    "X.drop(['Date','Year','Month'], axis=1, inplace=True)\n",
    "X_Column_Names=list(X.columns.values)\n",
    "n_feature=X.shape[1]\n",
    "\n",
    "Xhat = Data_Core1.parse('Xhat', header=0,index_col=None, na_values=['NA'])\n",
    "Xhat.drop(['Date','Year','Month'], axis=1, inplace=True)\n"
   ]
  },
  {
   "cell_type": "code",
   "execution_count": 11,
   "metadata": {
    "collapsed": true
   },
   "outputs": [],
   "source": [
    "Scaled_Train_Test_Split=exp.X_Y_scaler_train_test_Split(X,y,Z)\n",
    "\n",
    "X_train = Scaled_Train_Test_Split[0]\n",
    "X_test = Scaled_Train_Test_Split[1]\n",
    "y_train = Scaled_Train_Test_Split[2]\n",
    "y_test = Scaled_Train_Test_Split[3]\n",
    "scaler_X = Scaled_Train_Test_Split[4]  \n",
    "scaler_y = Scaled_Train_Test_Split[5]\n",
    "scaled_value_X=Scaled_Train_Test_Split[6]\n",
    "scaled_value_y=Scaled_Train_Test_Split[7]"
   ]
  },
  {
   "cell_type": "code",
   "execution_count": 12,
   "metadata": {
    "scrolled": true
   },
   "outputs": [
    {
     "data": {
      "text/plain": [
       "(2169, 2887, 0.521)"
      ]
     },
     "execution_count": 12,
     "metadata": {},
     "output_type": "execute_result"
    },
    {
     "data": {
      "image/png": "[encoded data removed]",
      "text/plain": [
       "<matplotlib.figure.Figure at 0x27df6c52b70>"
      ]
     },
     "metadata": {},
     "output_type": "display_data"
    }
   ],
   "source": [
    "from sklearn.tree import DecisionTreeRegressor\n",
    "\n",
    "# Decison tree regressor model\n",
    "dt = DecisionTreeRegressor()\n",
    "\n",
    "# Decison tree regressor model train\n",
    "DecisionTreeRegressor.fit(dt,X_train,y_train)\n",
    "\n",
    "# Decison tree regressor model predict\n",
    "y_predict_test = dt.predict(X_test)\n",
    "\n",
    "# Compare predicted Y and real Y \n",
    "exp.inverse_scale_and_graph_Y_predict_and_test(y_predict_test,y_test,scaler_y,'YES')\n"
   ]
  },
  {
   "cell_type": "code",
   "execution_count": 13,
   "metadata": {},
   "outputs": [
    {
     "data": {
      "text/plain": [
       "(1925, 2557, 0.64)"
      ]
     },
     "execution_count": 13,
     "metadata": {},
     "output_type": "execute_result"
    },
    {
     "data": {
      "image/png": "[encoded data removed]",
      "text/plain": [
       "<matplotlib.figure.Figure at 0x27df6a81940>"
      ]
     },
     "metadata": {},
     "output_type": "display_data"
    }
   ],
   "source": [
    "# Random Foest Regressor model\n",
    "rfc=RandomForestRegressor(n_estimators=3000)\n",
    "\n",
    "# Random Foest Regressor model train\n",
    "RandomForestRegressor.fit(rfc,X_train,y_train)\n",
    "\n",
    "# Random Foest Regressor mode predict\n",
    "y_predict_test = rfc.predict(X_test)\n",
    "\n",
    "# Compare predicted Y and real Y \n",
    "exp.inverse_scale_and_graph_Y_predict_and_test(y_predict_test,y_test,scaler_y,'YES')"
   ]
  },
  {
   "cell_type": "code",
   "execution_count": 14,
   "metadata": {},
   "outputs": [
    {
     "data": {
      "text/plain": [
       "array([0.0178866 , 0.05783344, 0.03492017, 0.01812357, 0.01665547,\n",
       "       0.01981845, 0.01543509, 0.02652502, 0.01009838, 0.02874383,\n",
       "       0.01157966, 0.02188716, 0.00754728, 0.03019108, 0.00786169,\n",
       "       0.03717302, 0.01504859, 0.05353936, 0.01842263, 0.05913628,\n",
       "       0.010236  , 0.00978014, 0.01371128, 0.28939118, 0.07277087,\n",
       "       0.00673593, 0.02710917, 0.06183864])"
      ]
     },
     "execution_count": 14,
     "metadata": {},
     "output_type": "execute_result"
    }
   ],
   "source": [
    "rfc.feature_importances_"
   ]
  },
  {
   "cell_type": "markdown",
   "metadata": {},
   "source": [
    "# For single combination calling Feature Selection Functions"
   ]
  },
  {
   "cell_type": "code",
   "execution_count": 15,
   "metadata": {
    "scrolled": true
   },
   "outputs": [
    {
     "name": "stdout",
     "output_type": "stream",
     "text": [
      "Features scores:\n",
      "1. important feature CPI_CHN-3 (original rank 23)\n",
      "2. important feature CPI_GBR-3 (original rank 24)\n",
      "3. important feature CLI_GBR-3 (original rank 19)\n",
      "4. important feature CHN_World_841810-3 (original rank 1)\n",
      "5. important feature World-3 (original rank 27)\n",
      "6. important feature BCI_GBR-3 (original rank 17)\n",
      "7. important feature CLI_CHN-3 (original rank 15)\n",
      "8. important feature CHN_USA_841810-3 (original rank 2)\n",
      "9. important feature ITA_GBR_841810-3 (original rank 9)\n",
      "10. important feature CCI_GBR-3 (original rank 18)\n",
      "11. important feature POL_GBR_841810-3 (original rank 7)\n",
      "12. important feature BCI_CHN-3 (original rank 13)\n",
      "13. important feature CHN_AUS_841810-3 (original rank 5)\n",
      "14. important feature GDP_CHN-3 (original rank 16)\n",
      "15. important feature EPU_GBR-3 (original rank 11)\n",
      "16. important feature CHN_FRA_841810-3 (original rank 4)\n",
      "17. important feature PPI_GBR-3 (original rank 22)\n",
      "18. important feature CHN_JPN_841810-3 (original rank 3)\n",
      "19. important feature GBP-3 (original rank 26)\n",
      "20. important feature TUR_GBR_841810-3 (original rank 6)\n",
      "21. important feature EPU_CHN-3 (original rank 10)\n",
      "22. important feature KOR_GBR_841810-3 (original rank 8)\n",
      "23. important feature GDP_GBR-3 (original rank 20)\n",
      "24. important feature CHN_GBR_841810-3 (original rank 0)\n",
      "25. important feature CCI_CHN-3 (original rank 14)\n",
      "26. important feature PPI_CHN-3 (original rank 21)\n",
      "27. important feature EPU_World-3 (original rank 12)\n",
      "28. important feature CNY-3 (original rank 25)\n"
     ]
    },
    {
     "data": {
      "text/plain": [
       "<matplotlib.figure.Figure at 0x27dfa6500f0>"
      ]
     },
     "metadata": {},
     "output_type": "display_data"
    },
    {
     "data": {
      "image/png": "[encoded data removed]",
      "text/plain": [
       "<matplotlib.figure.Figure at 0x27dfa699f28>"
      ]
     },
     "metadata": {},
     "output_type": "display_data"
    }
   ],
   "source": [
    "# Main for 3 Version for Train Test Split and Feature selection \n",
    "# http://blog.datadive.net/selecting-good-features-part-iii-random-forests/\n",
    "# Use both RF Importances and R2 Accuracy with different number of splits\n",
    "\n",
    "\n",
    "number_of_split_for_feature=100\n",
    "result=exp.get_feature_importance_result (X,y,Z,n_feature,number_of_split_for_feature)\n",
    "scored_feature_indices=result[0]\n",
    "feature_score=result[1]\n",
    "\n",
    "print (\"Features scores:\") \n",
    "\n",
    "for f in range(n_feature):\n",
    "\n",
    "    print(\"%d. important feature %s (original rank %d)\" % (f+1, X_Column_Names[scored_feature_indices[f]], scored_feature_indices[f]))\n",
    "\n",
    "\n",
    "# Plot the feature importances of the forest\n",
    "plt.gcf().clear()\n",
    "plt.figure()\n",
    "plt.title(\"{} and {} Month Cumulative Feature and Score Importances with {} Different Splits\".format(Product,MonthSeries,number_of_split_for_feature))\n",
    "plt.bar(range(n_feature), feature_score[scored_feature_indices],\n",
    "       color=\"r\",  align=\"center\")\n",
    "plt.xticks(range(n_feature), scored_feature_indices,rotation=90)\n",
    "plt.xlim([-1, n_feature])\n",
    "\n",
    "#fig_size = plt.rcParams[\"figure.figsize\"]\n",
    "#fig_size[0] = 20\n",
    "#fig_size[1] = 12\n",
    "#plt.rcParams[\"figure.figsize\"] = fig_size\n",
    "plt.savefig(\"Plots_Feature_Selection/{} and {} Month Cumulative Feature and Score Importances with {} Different Splits.png\".format(Product,MonthSeries,number_of_split_for_feature), format='png', dpi=300)\n",
    "\n",
    "plt.show()\n",
    "\n",
    "    \n",
    "    "
   ]
  },
  {
   "cell_type": "code",
   "execution_count": 16,
   "metadata": {
    "collapsed": true,
    "scrolled": true
   },
   "outputs": [],
   "source": [
    "def prepare_ (Product,Exp_Country,Imp_Country,MonthSeries,scored_feature_indices):\n",
    "    \n",
    "    return Product,Exp_Country,Imp_Country,MonthSeries,scored_feature_indices\n",
    "    \n"
   ]
  },
  {
   "cell_type": "code",
   "execution_count": 17,
   "metadata": {},
   "outputs": [
    {
     "data": {
      "text/plain": [
       "(841810,\n",
       " 'CHN',\n",
       " 'GBR',\n",
       " '3',\n",
       " array([23, 24, 19,  1, 27, 17, 15,  2,  9, 18,  7, 13,  5, 16, 11,  4, 22,\n",
       "         3, 26,  6, 10,  8, 20,  0, 14, 21, 12, 25], dtype=int64))"
      ]
     },
     "execution_count": 17,
     "metadata": {},
     "output_type": "execute_result"
    }
   ],
   "source": [
    "prepare_ (Product,Exp_Country,Imp_Country,MonthSeries,scored_feature_indices)\n",
    "    "
   ]
  },
  {
   "cell_type": "code",
   "execution_count": null,
   "metadata": {
    "collapsed": true,
    "scrolled": true
   },
   "outputs": [],
   "source": [
    "# Calling function by single parameter set \n",
    "a=exp.randomforest(X_train, X_test, y_train, y_test,scaler_y,\n",
    "                   rand=50,is_random_fixed='TRUE',\n",
    "                   est=200,min_leaf=5,feat=10,max_leaf=10,min_weight=0.0,min_impurity=1e-07)"
   ]
  },
  {
   "cell_type": "code",
   "execution_count": 18,
   "metadata": {
    "collapsed": true
   },
   "outputs": [],
   "source": [
    "# By using Ver 3 for Feature Selection results\n",
    "# Percentile variable takes the most important variables according to its feature score and omits the others.\n",
    "# ie.25 percentile takes %75 importance variables and omits %25 least important features\n",
    "percent=25\n",
    "percentile=100-percent\n",
    "threshold_for_feature_selection=np.percentile(feature_score[scored_feature_indices], percentile)\n",
    "X_threshold=X.iloc[:,scored_feature_indices[feature_score[scored_feature_indices]>threshold_for_feature_selection]]\n",
    "\n",
    "# Train Test Split after percentile selection\n",
    "\n",
    "Scaled_Train_Test_Split=exp.X_Y_scaler_train_test_Split(X_threshold,y,Z)\n",
    "\n",
    "X_train = Scaled_Train_Test_Split[0]\n",
    "X_test = Scaled_Train_Test_Split[1]\n",
    "y_train = Scaled_Train_Test_Split[2]\n",
    "y_test = Scaled_Train_Test_Split[3]\n",
    "scaler_X = Scaled_Train_Test_Split[4]  \n",
    "scaler_y = Scaled_Train_Test_Split[5]\n",
    "scaled_value_X=Scaled_Train_Test_Split[6]\n",
    "scaled_value_y=Scaled_Train_Test_Split[7]\n"
   ]
  },
  {
   "cell_type": "code",
   "execution_count": 19,
   "metadata": {},
   "outputs": [
    {
     "data": {
      "text/plain": [
       "(1849, 2412, 0.677)"
      ]
     },
     "execution_count": 19,
     "metadata": {},
     "output_type": "execute_result"
    }
   ],
   "source": [
    "# Random Foest Regressor model\n",
    "rfc=RandomForestRegressor(n_estimators=3000,random_state=50)\n",
    "\n",
    "# Random Foest Regressor model train\n",
    "RandomForestRegressor.fit(rfc,X_train,y_train)\n",
    "\n",
    "# Random Foest Regressor mode predict\n",
    "y_predict_test = rfc.predict(X_test)\n",
    "\n",
    "# Compare predicted Y and real Y \n",
    "exp.inverse_scale_and_graph_Y_predict_and_test(y_predict_test,y_test,scaler_y,'NO')"
   ]
  },
  {
   "cell_type": "code",
   "execution_count": 20,
   "metadata": {},
   "outputs": [
    {
     "name": "stdout",
     "output_type": "stream",
     "text": [
      "randomforest rs= 50\n"
     ]
    },
    {
     "data": {
      "text/plain": [
       "((1848, 2411, 0.678), (629, 843, 0.959))"
      ]
     },
     "execution_count": 20,
     "metadata": {},
     "output_type": "execute_result"
    }
   ],
   "source": [
    "exp.randomforest(X_train, X_test, y_train, y_test,scaler_y,est=3000,rand=50)"
   ]
  },
  {
   "cell_type": "markdown",
   "metadata": {
    "collapsed": true
   },
   "source": [
    "# For Combination of Month and Feature with Multiple Runs Start"
   ]
  },
  {
   "cell_type": "code",
   "execution_count": 12,
   "metadata": {
    "scrolled": true
   },
   "outputs": [
    {
     "name": "stdout",
     "output_type": "stream",
     "text": [
      "month 1 percent 100 R2 value 0.51\n",
      "month 1 percent 100 R2 value 0.53\n",
      "month 1 percent 100 R2 value 0.524\n",
      "month 1 percent 100 R2 value 0.508\n",
      "month 1 percent 100 R2 value 0.515\n",
      "month 1 percent 75 R2 value 0.511\n",
      "month 1 percent 75 R2 value 0.511\n",
      "month 1 percent 75 R2 value 0.513\n",
      "month 1 percent 75 R2 value 0.524\n",
      "month 1 percent 75 R2 value 0.521\n",
      "month 1 percent 50 R2 value 0.526\n",
      "month 1 percent 50 R2 value 0.527\n",
      "month 1 percent 50 R2 value 0.539\n",
      "month 1 percent 50 R2 value 0.517\n",
      "month 1 percent 50 R2 value 0.522\n",
      "month _12 percent 100 R2 value 0.479\n",
      "month _12 percent 100 R2 value 0.482\n",
      "month _12 percent 100 R2 value 0.479\n",
      "month _12 percent 100 R2 value 0.487\n",
      "month _12 percent 100 R2 value 0.484\n",
      "month _12 percent 75 R2 value 0.505\n",
      "month _12 percent 75 R2 value 0.508\n",
      "month _12 percent 75 R2 value 0.502\n",
      "month _12 percent 75 R2 value 0.502\n",
      "month _12 percent 75 R2 value 0.511\n",
      "month _12 percent 50 R2 value 0.508\n",
      "month _12 percent 50 R2 value 0.51\n",
      "month _12 percent 50 R2 value 0.514\n",
      "month _12 percent 50 R2 value 0.518\n",
      "month _12 percent 50 R2 value 0.527\n",
      "month _123 percent 100 R2 value 0.501\n",
      "month _123 percent 100 R2 value 0.498\n",
      "month _123 percent 100 R2 value 0.484\n",
      "month _123 percent 100 R2 value 0.495\n",
      "month _123 percent 100 R2 value 0.483\n",
      "month _123 percent 75 R2 value 0.494\n",
      "month _123 percent 75 R2 value 0.498\n",
      "month _123 percent 75 R2 value 0.507\n",
      "month _123 percent 75 R2 value 0.5\n",
      "month _123 percent 75 R2 value 0.517\n",
      "month _123 percent 50 R2 value 0.509\n",
      "month _123 percent 50 R2 value 0.514\n",
      "month _123 percent 50 R2 value 0.519\n",
      "month _123 percent 50 R2 value 0.524\n",
      "month _123 percent 50 R2 value 0.514\n",
      "month 2 percent 100 R2 value 0.344\n",
      "month 2 percent 100 R2 value 0.35\n",
      "month 2 percent 100 R2 value 0.344\n",
      "month 2 percent 100 R2 value 0.338\n",
      "month 2 percent 100 R2 value 0.364\n",
      "month 2 percent 75 R2 value 0.37\n",
      "month 2 percent 75 R2 value 0.342\n",
      "month 2 percent 75 R2 value 0.36\n",
      "month 2 percent 75 R2 value 0.38\n",
      "month 2 percent 75 R2 value 0.352\n",
      "month 2 percent 50 R2 value 0.395\n",
      "month 2 percent 50 R2 value 0.385\n",
      "month 2 percent 50 R2 value 0.384\n",
      "month 2 percent 50 R2 value 0.388\n",
      "month 2 percent 50 R2 value 0.405\n",
      "month _23 percent 100 R2 value 0.383\n",
      "month _23 percent 100 R2 value 0.382\n",
      "month _23 percent 100 R2 value 0.385\n",
      "month _23 percent 100 R2 value 0.392\n",
      "month _23 percent 100 R2 value 0.367\n",
      "month _23 percent 75 R2 value 0.401\n",
      "month _23 percent 75 R2 value 0.399\n",
      "month _23 percent 75 R2 value 0.391\n",
      "month _23 percent 75 R2 value 0.406\n",
      "month _23 percent 75 R2 value 0.402\n",
      "month _23 percent 50 R2 value 0.415\n",
      "month _23 percent 50 R2 value 0.42\n",
      "month _23 percent 50 R2 value 0.416\n",
      "month _23 percent 50 R2 value 0.422\n",
      "month _23 percent 50 R2 value 0.425\n",
      "month _234 percent 100 R2 value 0.418\n",
      "month _234 percent 100 R2 value 0.424\n",
      "month _234 percent 100 R2 value 0.442\n",
      "month _234 percent 100 R2 value 0.426\n",
      "month _234 percent 100 R2 value 0.427\n",
      "month _234 percent 75 R2 value 0.441\n",
      "month _234 percent 75 R2 value 0.441\n",
      "month _234 percent 75 R2 value 0.424\n",
      "month _234 percent 75 R2 value 0.43\n",
      "month _234 percent 75 R2 value 0.418\n",
      "month _234 percent 50 R2 value 0.451\n",
      "month _234 percent 50 R2 value 0.442\n",
      "month _234 percent 50 R2 value 0.441\n",
      "month _234 percent 50 R2 value 0.436\n",
      "month _234 percent 50 R2 value 0.449\n",
      "month 3 percent 100 R2 value 0.437\n",
      "month 3 percent 100 R2 value 0.429\n",
      "month 3 percent 100 R2 value 0.414\n",
      "month 3 percent 100 R2 value 0.419\n",
      "month 3 percent 100 R2 value 0.412\n",
      "month 3 percent 75 R2 value 0.434\n",
      "month 3 percent 75 R2 value 0.437\n",
      "month 3 percent 75 R2 value 0.436\n",
      "month 3 percent 75 R2 value 0.432\n",
      "month 3 percent 75 R2 value 0.44\n",
      "month 3 percent 50 R2 value 0.449\n",
      "month 3 percent 50 R2 value 0.455\n",
      "month 3 percent 50 R2 value 0.452\n",
      "month 3 percent 50 R2 value 0.456\n",
      "month 3 percent 50 R2 value 0.449\n",
      "month _34 percent 100 R2 value 0.468\n",
      "month _34 percent 100 R2 value 0.45\n",
      "month _34 percent 100 R2 value 0.467\n",
      "month _34 percent 100 R2 value 0.468\n",
      "month _34 percent 100 R2 value 0.489\n",
      "month _34 percent 75 R2 value 0.486\n",
      "month _34 percent 75 R2 value 0.483\n",
      "month _34 percent 75 R2 value 0.492\n",
      "month _34 percent 75 R2 value 0.489\n",
      "month _34 percent 75 R2 value 0.469\n",
      "month _34 percent 50 R2 value 0.495\n",
      "month _34 percent 50 R2 value 0.493\n",
      "month _34 percent 50 R2 value 0.491\n",
      "month _34 percent 50 R2 value 0.488\n",
      "month _34 percent 50 R2 value 0.508\n",
      "month _345 percent 100 R2 value 0.491\n",
      "month _345 percent 100 R2 value 0.465\n",
      "month _345 percent 100 R2 value 0.442\n",
      "month _345 percent 100 R2 value 0.484\n",
      "month _345 percent 100 R2 value 0.471\n",
      "month _345 percent 75 R2 value 0.469\n",
      "month _345 percent 75 R2 value 0.485\n",
      "month _345 percent 75 R2 value 0.465\n",
      "month _345 percent 75 R2 value 0.461\n",
      "month _345 percent 75 R2 value 0.47\n",
      "month _345 percent 50 R2 value 0.514\n",
      "month _345 percent 50 R2 value 0.497\n",
      "month _345 percent 50 R2 value 0.503\n",
      "month _345 percent 50 R2 value 0.499\n",
      "month _345 percent 50 R2 value 0.504\n",
      "month 4 percent 100 R2 value 0.485\n",
      "month 4 percent 100 R2 value 0.478\n",
      "month 4 percent 100 R2 value 0.477\n",
      "month 4 percent 100 R2 value 0.469\n",
      "month 4 percent 100 R2 value 0.485\n",
      "month 4 percent 75 R2 value 0.48\n",
      "month 4 percent 75 R2 value 0.494\n",
      "month 4 percent 75 R2 value 0.505\n",
      "month 4 percent 75 R2 value 0.52\n",
      "month 4 percent 75 R2 value 0.5\n",
      "month 4 percent 50 R2 value 0.519\n",
      "month 4 percent 50 R2 value 0.512\n",
      "month 4 percent 50 R2 value 0.525\n",
      "month 4 percent 50 R2 value 0.513\n",
      "month 4 percent 50 R2 value 0.511\n",
      "month _45 percent 100 R2 value 0.486\n",
      "month _45 percent 100 R2 value 0.489\n",
      "month _45 percent 100 R2 value 0.487\n",
      "month _45 percent 100 R2 value 0.485\n",
      "month _45 percent 100 R2 value 0.498\n",
      "month _45 percent 75 R2 value 0.492\n",
      "month _45 percent 75 R2 value 0.496\n",
      "month _45 percent 75 R2 value 0.49\n",
      "month _45 percent 75 R2 value 0.495\n",
      "month _45 percent 75 R2 value 0.495\n",
      "month _45 percent 50 R2 value 0.554\n",
      "month _45 percent 50 R2 value 0.55\n",
      "month _45 percent 50 R2 value 0.542\n",
      "month _45 percent 50 R2 value 0.534\n",
      "month _45 percent 50 R2 value 0.526\n",
      "month _456 percent 100 R2 value 0.409\n",
      "month _456 percent 100 R2 value 0.407\n",
      "month _456 percent 100 R2 value 0.412\n",
      "month _456 percent 100 R2 value 0.435\n",
      "month _456 percent 100 R2 value 0.418\n",
      "month _456 percent 75 R2 value 0.425\n",
      "month _456 percent 75 R2 value 0.424\n",
      "month _456 percent 75 R2 value 0.423\n",
      "month _456 percent 75 R2 value 0.433\n",
      "month _456 percent 75 R2 value 0.427\n",
      "month _456 percent 50 R2 value 0.439\n",
      "month _456 percent 50 R2 value 0.429\n",
      "month _456 percent 50 R2 value 0.437\n",
      "month _456 percent 50 R2 value 0.482\n",
      "month _456 percent 50 R2 value 0.44\n",
      "month 5 percent 100 R2 value 0.454\n",
      "month 5 percent 100 R2 value 0.462\n",
      "month 5 percent 100 R2 value 0.471\n",
      "month 5 percent 100 R2 value 0.468\n",
      "month 5 percent 100 R2 value 0.463\n",
      "month 5 percent 75 R2 value 0.471\n",
      "month 5 percent 75 R2 value 0.459\n",
      "month 5 percent 75 R2 value 0.494\n",
      "month 5 percent 75 R2 value 0.467\n",
      "month 5 percent 75 R2 value 0.491\n",
      "month 5 percent 50 R2 value 0.512\n",
      "month 5 percent 50 R2 value 0.529\n",
      "month 5 percent 50 R2 value 0.5\n",
      "month 5 percent 50 R2 value 0.501\n",
      "month 5 percent 50 R2 value 0.495\n",
      "month _56 percent 100 R2 value 0.371\n",
      "month _56 percent 100 R2 value 0.394\n",
      "month _56 percent 100 R2 value 0.37\n",
      "month _56 percent 100 R2 value 0.382\n",
      "month _56 percent 100 R2 value 0.367\n",
      "month _56 percent 75 R2 value 0.381\n",
      "month _56 percent 75 R2 value 0.379\n",
      "month _56 percent 75 R2 value 0.392\n",
      "month _56 percent 75 R2 value 0.389\n",
      "month _56 percent 75 R2 value 0.393\n",
      "month _56 percent 50 R2 value 0.388\n",
      "month _56 percent 50 R2 value 0.384\n",
      "month _56 percent 50 R2 value 0.367\n",
      "month _56 percent 50 R2 value 0.387\n",
      "month _56 percent 50 R2 value 0.392\n",
      "month _567 percent 100 R2 value 0.337\n",
      "month _567 percent 100 R2 value 0.347\n",
      "month _567 percent 100 R2 value 0.346\n",
      "month _567 percent 100 R2 value 0.361\n",
      "month _567 percent 100 R2 value 0.317\n",
      "month _567 percent 75 R2 value 0.338\n",
      "month _567 percent 75 R2 value 0.331\n",
      "month _567 percent 75 R2 value 0.341\n",
      "month _567 percent 75 R2 value 0.327\n",
      "month _567 percent 75 R2 value 0.337\n",
      "month _567 percent 50 R2 value 0.393\n",
      "month _567 percent 50 R2 value 0.369\n",
      "month _567 percent 50 R2 value 0.357\n",
      "month _567 percent 50 R2 value 0.384\n",
      "month _567 percent 50 R2 value 0.362\n",
      "month 6 percent 100 R2 value 0.322\n",
      "month 6 percent 100 R2 value 0.334\n",
      "month 6 percent 100 R2 value 0.318\n",
      "month 6 percent 100 R2 value 0.309\n"
     ]
    },
    {
     "name": "stdout",
     "output_type": "stream",
     "text": [
      "month 6 percent 100 R2 value 0.304\n",
      "month 6 percent 75 R2 value 0.344\n",
      "month 6 percent 75 R2 value 0.342\n",
      "month 6 percent 75 R2 value 0.332\n",
      "month 6 percent 75 R2 value 0.348\n",
      "month 6 percent 75 R2 value 0.339\n",
      "month 6 percent 50 R2 value 0.318\n",
      "month 6 percent 50 R2 value 0.333\n",
      "month 6 percent 50 R2 value 0.342\n",
      "month 6 percent 50 R2 value 0.32\n",
      "month 6 percent 50 R2 value 0.329\n",
      "month _67 percent 100 R2 value 0.27\n",
      "month _67 percent 100 R2 value 0.285\n",
      "month _67 percent 100 R2 value 0.279\n",
      "month _67 percent 100 R2 value 0.301\n",
      "month _67 percent 100 R2 value 0.294\n",
      "month _67 percent 75 R2 value 0.298\n",
      "month _67 percent 75 R2 value 0.288\n",
      "month _67 percent 75 R2 value 0.293\n",
      "month _67 percent 75 R2 value 0.295\n",
      "month _67 percent 75 R2 value 0.285\n",
      "month _67 percent 50 R2 value 0.346\n",
      "month _67 percent 50 R2 value 0.329\n",
      "month _67 percent 50 R2 value 0.319\n",
      "month _67 percent 50 R2 value 0.344\n",
      "month _67 percent 50 R2 value 0.309\n",
      "month _678 percent 100 R2 value 0.343\n",
      "month _678 percent 100 R2 value 0.358\n",
      "month _678 percent 100 R2 value 0.359\n",
      "month _678 percent 100 R2 value 0.345\n",
      "month _678 percent 100 R2 value 0.346\n",
      "month _678 percent 75 R2 value 0.356\n",
      "month _678 percent 75 R2 value 0.345\n",
      "month _678 percent 75 R2 value 0.358\n",
      "month _678 percent 75 R2 value 0.363\n",
      "month _678 percent 75 R2 value 0.325\n",
      "month _678 percent 50 R2 value 0.379\n",
      "month _678 percent 50 R2 value 0.38\n",
      "month _678 percent 50 R2 value 0.376\n",
      "month _678 percent 50 R2 value 0.4\n",
      "month _678 percent 50 R2 value 0.378\n",
      "month 12 percent 100 R2 value 0.366\n",
      "month 12 percent 100 R2 value 0.362\n",
      "month 12 percent 100 R2 value 0.366\n",
      "month 12 percent 100 R2 value 0.37\n",
      "month 12 percent 100 R2 value 0.361\n",
      "month 12 percent 75 R2 value 0.364\n",
      "month 12 percent 75 R2 value 0.362\n",
      "month 12 percent 75 R2 value 0.375\n",
      "month 12 percent 75 R2 value 0.368\n",
      "month 12 percent 75 R2 value 0.365\n",
      "month 12 percent 50 R2 value 0.391\n",
      "month 12 percent 50 R2 value 0.378\n",
      "month 12 percent 50 R2 value 0.368\n",
      "month 12 percent 50 R2 value 0.381\n",
      "month 12 percent 50 R2 value 0.373\n",
      "month _1236 percent 100 R2 value 0.48\n",
      "month _1236 percent 100 R2 value 0.481\n",
      "month _1236 percent 100 R2 value 0.487\n",
      "month _1236 percent 100 R2 value 0.485\n",
      "month _1236 percent 100 R2 value 0.496\n",
      "month _1236 percent 75 R2 value 0.491\n",
      "month _1236 percent 75 R2 value 0.478\n",
      "month _1236 percent 75 R2 value 0.497\n",
      "month _1236 percent 75 R2 value 0.497\n",
      "month _1236 percent 75 R2 value 0.482\n",
      "month _1236 percent 50 R2 value 0.51\n",
      "month _1236 percent 50 R2 value 0.505\n",
      "month _1236 percent 50 R2 value 0.505\n",
      "month _1236 percent 50 R2 value 0.491\n",
      "month _1236 percent 50 R2 value 0.492\n",
      "month _123456 percent 100 R2 value 0.509\n",
      "month _123456 percent 100 R2 value 0.505\n",
      "month _123456 percent 100 R2 value 0.509\n",
      "month _123456 percent 100 R2 value 0.492\n",
      "month _123456 percent 100 R2 value 0.49\n",
      "month _123456 percent 75 R2 value 0.49\n",
      "month _123456 percent 75 R2 value 0.503\n",
      "month _123456 percent 75 R2 value 0.505\n",
      "month _123456 percent 75 R2 value 0.507\n",
      "month _123456 percent 75 R2 value 0.5\n",
      "month _123456 percent 50 R2 value 0.514\n",
      "month _123456 percent 50 R2 value 0.52\n",
      "month _123456 percent 50 R2 value 0.514\n",
      "month _123456 percent 50 R2 value 0.498\n",
      "month _123456 percent 50 R2 value 0.501\n",
      "month _1236_12 percent 100 R2 value 0.48\n",
      "month _1236_12 percent 100 R2 value 0.464\n",
      "month _1236_12 percent 100 R2 value 0.478\n",
      "month _1236_12 percent 100 R2 value 0.494\n",
      "month _1236_12 percent 100 R2 value 0.466\n",
      "month _1236_12 percent 75 R2 value 0.504\n",
      "month _1236_12 percent 75 R2 value 0.484\n",
      "month _1236_12 percent 75 R2 value 0.487\n",
      "month _1236_12 percent 75 R2 value 0.477\n",
      "month _1236_12 percent 75 R2 value 0.478\n",
      "month _1236_12 percent 50 R2 value 0.493\n",
      "month _1236_12 percent 50 R2 value 0.501\n",
      "month _1236_12 percent 50 R2 value 0.518\n",
      "month _1236_12 percent 50 R2 value 0.497\n",
      "month _1236_12 percent 50 R2 value 0.506\n"
     ]
    },
    {
     "data": {
      "image/png": "[encoded data removed]",
      "text/plain": [
       "<matplotlib.figure.Figure at 0x24540166b38>"
      ]
     },
     "metadata": {},
     "output_type": "display_data"
    }
   ],
   "source": [
    "os.chdir('C:/Users/murat.ozemre/Desktop/Thesis_Project/Data_Sources_and_Preparation')\n",
    "#MonthSeries_option=[\"1\",\"12\"]\n",
    "#MonthSeries_option=[\"1\",'_12','_123','_1236','_1236_12',\"2\",\"3\",\"6\",\"12\",'_12']\n",
    "MonthSeries_option=[\"1\",'_12','_123',\"2\",'_23','_234',\"3\",'_34','_345',\"4\",'_45','_456',\"5\",'_56','_567',\"6\",'_67','_678',\n",
    "                    \"12\",'_1236','_123456','_1236_12',]\n",
    "\n",
    "results_level1 = pd.DataFrame()\n",
    "results_level2 = pd.DataFrame()\n",
    "feature_results_level1 = pd.DataFrame()\n",
    "Percent_option=[100,75,50]\n",
    "\n",
    "number_of_split=5\n",
    " \n",
    "\n",
    "random_state_options=np.random.randint(1,100,size=number_of_split)\n",
    "\n",
    "\n",
    "    \n",
    "for month in MonthSeries_option:\n",
    "\n",
    "#    MonthSeries=month\n",
    "\n",
    "    Data_Core1 = pd.ExcelFile('Data_{}_{}_{}.xlsx'.format(Exp_Country,Imp_Country,Product))\n",
    "    y = Data_Core1.parse('Y', header=0,index_col=None, na_values=['NA'])['{}_{}_{}'.format(Exp_Country,Imp_Country,Product)]\n",
    "    Z = Data_Core1.parse('Y', header=0,index_col=None, na_values=['NA'])[['Date','Year','Month']]\n",
    "\n",
    "    X = Data_Core1.parse('X{}'.format(month), header=0,index_col=None, na_values=['NA'])\n",
    "    X.drop(['Date','Year','Month'], axis=1, inplace=True)\n",
    "    X_Column_Names=list(X.columns.values)\n",
    "    n_feature=X.shape[1]\n",
    "\n",
    "    #Get Feature Importance\n",
    "    number_of_split_for_feature=100\n",
    "    feature_result=exp.get_feature_importance_result (X,y,Z,n_feature,number_of_split_for_feature)\n",
    "    scored_feature_indices=feature_result[0]\n",
    "    feature_score=feature_result[1]\n",
    "    \n",
    "    # Record feature importances\n",
    "    feature_results_level1[str(month)]=feature_result\n",
    "    \n",
    "    # Implement Feature Importance to each month variance    \n",
    "    for percent in Percent_option:\n",
    "    \n",
    "        percentile=100-percent\n",
    "        threshold_for_feature_selection=np.percentile(feature_score[scored_feature_indices], percentile)\n",
    "        X_threshold=X.iloc[:,scored_feature_indices[feature_score[scored_feature_indices]>threshold_for_feature_selection]]\n",
    "    \n",
    "        R2result=[]\n",
    "        for turn in range(number_of_split):\n",
    "            random=random_state_options[turn]\n",
    "            \n",
    "            Scaled_Train_Test_Split=exp.X_Y_scaler_train_test_Split(X_threshold,y,Z,random=random)\n",
    "\n",
    "            X_train = Scaled_Train_Test_Split[0]\n",
    "            X_test = Scaled_Train_Test_Split[1]\n",
    "            y_train = Scaled_Train_Test_Split[2]\n",
    "            y_test = Scaled_Train_Test_Split[3]\n",
    "            scaler_X = Scaled_Train_Test_Split[4]  \n",
    "            scaler_y = Scaled_Train_Test_Split[5]\n",
    "            scaled_value_X=Scaled_Train_Test_Split[6]\n",
    "            scaled_value_y=Scaled_Train_Test_Split[7]\n",
    "\n",
    "            # Random Foest Regressor model\n",
    "            rfc=RandomForestRegressor(n_estimators=300)\n",
    "\n",
    "            # Random Foest Regressor model train\n",
    "            RandomForestRegressor.fit(rfc,X_train,y_train)\n",
    "\n",
    "            # Random Foest Regressor mode predict\n",
    "            y_predict_test = rfc.predict(X_test)\n",
    "\n",
    "            # Compare predicted Y and real Y \n",
    "            R2=exp.inverse_scale_and_graph_Y_predict_and_test(y_predict_test,y_test,scaler_y,'YES')[2]\n",
    "            print ('month',month,'percent',percent,'R2 value',R2)\n",
    "            R2result.append(R2)\n",
    "        \n",
    "        results_level1[str(percent)]=R2result\n",
    "        results_level1['month']=month\n",
    "    \n",
    "    results_level2=pd.concat([results_level2,results_level1])\n",
    "\n",
    "results_level2.set_index(['month'],inplace=True)\n",
    "\n"
   ]
  },
  {
   "cell_type": "code",
   "execution_count": 13,
   "metadata": {
    "collapsed": true
   },
   "outputs": [],
   "source": [
    "os.chdir('C:/Users/murat.ozemre/Desktop/Thesis_Project/Data_Learning_Prediction')\n",
    "\n",
    "# Read from Excel Tuning paremeters\n",
    "\n",
    "#abc = pd.ExcelFile('FeatureSelection.xlsx')\n",
    "#abcd = abc.parse('{}_{}_{}'.format(841810,Exp_Country,Imp_Country), header=0,index_col=None, na_values=['NA'])\n",
    "\n",
    "\n",
    "# Write to Excel this and previous Tuning paremeters\n",
    "writer = pd.ExcelWriter('FeatureSelection_{}_{}_{}.xlsx'.format(Exp_Country,Imp_Country,Product))\n",
    "results_level2.to_excel(writer,'Results')\n",
    "feature_results_level1.to_excel(writer,'Importances')\n",
    "\n",
    "writer.save()"
   ]
  },
  {
   "cell_type": "markdown",
   "metadata": {},
   "source": [
    "# For Combination of Month and Feature with Multiple Runs End"
   ]
  },
  {
   "cell_type": "code",
   "execution_count": null,
   "metadata": {
    "collapsed": true
   },
   "outputs": [],
   "source": [
    "#Read feature importances from Feature Selection excels\n",
    "\n",
    "feature_results_from_excel = pd.ExcelFile('FeatureSelection_{}_{}_{}.xlsx'.format(Exp_Country,Imp_Country,Product))\n",
    "feature_results = feature_results_from_excel.parse('Importances', header=0,index_col=None, na_values=['NA'])\n",
    "scored_feature_indices=feature_results[str(month)][0]\n",
    "feature_score=feature_results[str(month)][1]"
   ]
  },
  {
   "cell_type": "code",
   "execution_count": null,
   "metadata": {
    "collapsed": true
   },
   "outputs": [],
   "source": [
    "results_level2.loc['1'].boxplot()"
   ]
  },
  {
   "cell_type": "code",
   "execution_count": null,
   "metadata": {
    "collapsed": true
   },
   "outputs": [],
   "source": [
    "feature_results_level1['1'][0]"
   ]
  },
  {
   "cell_type": "code",
   "execution_count": null,
   "metadata": {
    "collapsed": true
   },
   "outputs": [],
   "source": [
    "feature_results_level1['1'][1]"
   ]
  },
  {
   "cell_type": "code",
   "execution_count": null,
   "metadata": {
    "collapsed": true
   },
   "outputs": [],
   "source": [
    "results_level2.loc['12'].boxplot()\n"
   ]
  },
  {
   "cell_type": "code",
   "execution_count": null,
   "metadata": {
    "collapsed": true
   },
   "outputs": [],
   "source": [
    "results = DataFrame()\n",
    "results_exp = DataFrame()\n",
    "\n",
    "results_exp[str(slv)] =\n",
    "results=pd.concat([results,results_exp])\n"
   ]
  },
  {
   "cell_type": "code",
   "execution_count": null,
   "metadata": {
    "collapsed": true,
    "scrolled": false
   },
   "outputs": [],
   "source": [
    "# 1 Version for Feature selection\n",
    "# Internetten bulunan kod blogu\n",
    "# Random Forest'a gore Feature Importance Hesaplama\n",
    "# Butun veri setinin girildiği ona göre önemli olan özelliklerin bulundugu kod parçası\n",
    "\n",
    "ScalerType = Scalertype=Scaler_Type_Options[0]\n",
    "n_sample=len(X)\n",
    "\n",
    "rfc=RandomForestRegressor(n_estimators=3000)\n",
    "RandomForestRegressor.fit(rfc,scaled_value_X,scaled_value_y)\n",
    "\n",
    "\n",
    "predictions = rfc.predict(X_test)\n",
    "print('MAE',int(metrics.mean_absolute_error(y_test, predictions)),\n",
    "      'MSE',int(sqrt(metrics.mean_squared_error(y_test, predictions))),\n",
    "      'R2',int(1000*(metrics.r2_score(y_test, predictions)))/1000\n",
    "     )\n",
    "\n",
    "\n",
    "importances = rfc.feature_importances_\n",
    "std = np.std([tree.feature_importances_ for tree in rfc.estimators_],axis=0)\n",
    "\n",
    "indices = np.argsort(importances)[::-1]\n",
    "\n",
    "\n",
    "# Print the feature ranking\n",
    "print(\"Feature ranking:\")\n",
    "\n",
    "for f in range(n_feature):\n",
    "    print(\"%d. feature %s %d (%f) %f\" % (f+1, X_Column_Names[indices[f]], indices[f], importances[indices[f]],std[indices[f]]))\n",
    "\n",
    "# Plot the feature importances of the forest\n",
    "plt.figure()\n",
    "plt.title(\"{} and -{} Month Feature Importances and Standart Deviation of Features with 3000 Different Estimations\".format(Product,MonthSeries))\n",
    "plt.bar(range(n_feature), importances[indices],\n",
    "       color=\"r\", yerr=std[indices], align=\"center\")\n",
    "plt.xticks(range(n_feature), indices,rotation=90)\n",
    "plt.xlim([-1, n_feature])\n",
    "\n",
    "fig_size = plt.rcParams[\"figure.figsize\"]\n",
    "fig_size[0] = 15\n",
    "fig_size[1] = 10\n",
    "plt.rcParams[\"figure.figsize\"] = fig_size\n",
    "plt.savefig(\"Plots_Feature_Selection/{} and -{} Month Feature Importances and Standart Deviation of Features with 3000 Different Estimations.png\".format(Product,MonthSeries), format='png', dpi=300)\n",
    "\n",
    "plt.show()"
   ]
  },
  {
   "cell_type": "code",
   "execution_count": null,
   "metadata": {
    "collapsed": true,
    "scrolled": true
   },
   "outputs": [],
   "source": [
    "#  2 Version for Feature selection \n",
    "# Internetten bulunan kod blogu http://scikit-learn.org/stable/auto_examples/ensemble/plot_forest_importances.html\n",
    "# Feature Importance Hesaplama\n",
    "# Burada asıl özellik bir veri seti yaratılıyor make_regression ile. Ve oaradakilere dogru çalışıp çalışmadığı test ediliyor.\n",
    "# Butun veri setinin girildiği ona göre önemli olan özelliklerin bulundugu kod parçası\n",
    "\n",
    "from sklearn.datasets import make_regression\n",
    "\n",
    "\n",
    "n_sample=len(X)\n",
    "\n",
    "number_of_split=100\n",
    "number_of_row=29\n",
    "\n",
    "random_state_options = np.arange(0,number_of_split)\n",
    "y_predict= np.ones((number_of_row, number_of_split))\n",
    "\n",
    "feature_indices = np.ones((n_feature, number_of_split))\n",
    "feature_importances=np.ones((n_feature, number_of_split))\n",
    "feature_indices_score=np.ones((n_feature))\n",
    "feature_importances_score=np.ones((n_feature))\n",
    "j=0\n",
    "\n",
    "\n",
    "# For different split sets Random Forest Regressor runs.\n",
    "\n",
    "for random_state_i in random_state_options:\n",
    "\n",
    "    X_train, X_test, y_train, y_test = train_test_split(scaled_value_X,scaled_value_y,test_size=0.2,random_state=random_state_i,stratify=Z['Month'])\n",
    "\n",
    "    \n",
    "\n",
    "    rfc=RandomForestRegressor(n_estimators=30)\n",
    "    RandomForestRegressor.fit(rfc,X_train,y_train)\n",
    "\n",
    "    y_predict[:,j] = rfc.predict(X_test)\n",
    "    \n",
    "    result=exp.inverse_scale_and_graph_Y_predict_and_test (y_predict[:,j],y_test,scaler_y,'NO')\n",
    "    \n",
    "    importances = rfc.feature_importances_\n",
    "    std = np.std([tree.feature_importances_ for tree in rfc.estimators_],axis=0)\n",
    "\n",
    "    indices = np.argsort(importances)[::-1]\n",
    "    feature_indices[:,j]=indices\n",
    "    feature_importances[:,j]=importances\n",
    "    j=j+1\n",
    "    \n",
    "\n",
    "print (\"Features scores:\")    \n",
    "for i in range(n_feature):\n",
    "    feature_indices_score[i]=0\n",
    "    feature_importances_score[i]=0\n",
    "    for j in range(number_of_split):\n",
    "        \n",
    "        indice_coeff=feature_indices[i,j]\n",
    "        importances_coeff=feature_importances[i,j]\n",
    "        \n",
    "        feature_indices_score[i]=feature_indices_score[i]+(indice_coeff)\n",
    "        feature_importances_score[i]=feature_importances_score[i]+(importances_coeff)\n",
    "        \n",
    "#        print('feat=',i,'#ofsplit=',j,'tot_indice',feature_indices_score[i],\n",
    "#              'indice=',indice_coeff,'tot_importan=',feature_importances_score[i],'importan',importances_coeff )\n",
    "\n",
    "    print( i,X_Column_Names[i])#,feature_indices_score[i],'number_of_split',j+1) #,X_Column_Names[feature_indices[i,j]])\n",
    "    \n",
    "scored_feature_indices = np.argsort(feature_indices_score)\n",
    "scored_feature_importances = np.argsort(feature_importances_score)\n",
    "    \n",
    " \n",
    "    \n",
    "    \n",
    "# Plot the feature importances of the forest\n",
    "plt.gcf().clear()\n",
    "plt.figure()\n",
    "plt.title(\"{} and -{} Month Cumulative Feature Importances with {} Different Splits.png\".format(Product,MonthSeries,number_of_split))\n",
    "plt.bar(range(n_feature), feature_importances_score[scored_feature_importances][::-1],\n",
    "       color=\"r\",  align=\"center\")\n",
    "plt.xticks(range(n_feature), scored_feature_importances[::-1],rotation=90)\n",
    "plt.xlim([-1, n_feature])\n",
    "\n",
    "fig_size = plt.rcParams[\"figure.figsize\"]\n",
    "fig_size[0] = 20\n",
    "fig_size[1] = 12\n",
    "plt.rcParams[\"figure.figsize\"] = fig_size\n",
    "plt.savefig(\"Plots_Feature_Selection/{} and -{} Month Cumulative Feature Importances with {} Different Splits.png\".format(Product,MonthSeries,number_of_split), format='png', dpi=300)\n",
    "\n",
    "plt.show()"
   ]
  }
 ],
 "metadata": {
  "kernelspec": {
   "display_name": "Python 3",
   "language": "python",
   "name": "python3"
  },
  "language_info": {
   "codemirror_mode": {
    "name": "ipython",
    "version": 3
   },
   "file_extension": ".py",
   "mimetype": "text/x-python",
   "name": "python",
   "nbconvert_exporter": "python",
   "pygments_lexer": "ipython3",
   "version": "3.6.2"
  }
 },
 "nbformat": 4,
 "nbformat_minor": 2
}
