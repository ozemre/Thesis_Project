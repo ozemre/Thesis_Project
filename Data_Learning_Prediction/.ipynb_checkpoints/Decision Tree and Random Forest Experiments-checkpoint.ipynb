{
 "cells": [
  {
   "cell_type": "code",
   "execution_count": 1,
   "metadata": {},
   "outputs": [],
   "source": [
    "import numpy as np\n",
    "import pandas as pd\n",
    "from time import time\n",
    "import matplotlib.pyplot as plt\n",
    "#from sklearn.cross_validation import train_test_split\n",
    "import seaborn as sns\n",
    "%matplotlib inline\n",
    "\n",
    "\n",
    "import sys\n",
    "import warnings\n",
    "\n",
    "if not sys.warnoptions:\n",
    "    warnings.simplefilter(\"ignore\")"
   ]
  },
  {
   "cell_type": "code",
   "execution_count": 2,
   "metadata": {
    "collapsed": true
   },
   "outputs": [],
   "source": [
    "from sklearn.model_selection import train_test_split"
   ]
  },
  {
   "cell_type": "code",
   "execution_count": 3,
   "metadata": {
    "collapsed": true
   },
   "outputs": [],
   "source": [
    "from __future__ import absolute_import\n",
    "from __future__ import division\n",
    "from __future__ import print_function\n",
    "from __future__ import print_function\n",
    "import os\n",
    "import sys\n",
    "os.chdir('C:/Users/murat.ozemre/Desktop/Thesis_Project/Data_Sources_and_Preparation')\n",
    "#os.chdir('C:/Users/murat.ozemre/Documents/MOZEMRE-OZEL/Doktora/2017 Tez/Veri Analizi/Ver 3 Tez Izleme Calısmaları')"
   ]
  },
  {
   "cell_type": "code",
   "execution_count": 4,
   "metadata": {},
   "outputs": [
    {
     "name": "stdout",
     "output_type": "stream",
     "text": [
      "statsmodels: 0.8.0\n"
     ]
    }
   ],
   "source": [
    "from sklearn import metrics\n",
    "import statsmodels\n",
    "print('statsmodels: %s' % statsmodels.__version__)"
   ]
  },
  {
   "cell_type": "code",
   "execution_count": 5,
   "metadata": {},
   "outputs": [
    {
     "data": {
      "text/plain": [
       "'12-12 21:41'"
      ]
     },
     "execution_count": 5,
     "metadata": {},
     "output_type": "execute_result"
    }
   ],
   "source": [
    "from datetime import datetime\n",
    "datetime.now().strftime('%m-%d %H:%M')"
   ]
  },
  {
   "cell_type": "code",
   "execution_count": 6,
   "metadata": {},
   "outputs": [
    {
     "name": "stderr",
     "output_type": "stream",
     "text": [
      "C:\\Users\\murat.ozemre\\AppData\\Local\\Continuum\\Anaconda3\\envs\\Tensor_1\\lib\\site-packages\\sklearn\\ensemble\\weight_boosting.py:29: DeprecationWarning: numpy.core.umath_tests is an internal NumPy module and should not be imported. It will be removed in a future NumPy release.\n",
      "  from numpy.core.umath_tests import inner1d\n"
     ]
    }
   ],
   "source": [
    "from math import sqrt\n",
    "from sklearn.ensemble import RandomForestRegressor"
   ]
  },
  {
   "cell_type": "code",
   "execution_count": 7,
   "metadata": {
    "collapsed": true
   },
   "outputs": [],
   "source": [
    "from sklearn.preprocessing import MinMaxScaler\n",
    "from sklearn.preprocessing import minmax_scale\n",
    "from sklearn.preprocessing import MaxAbsScaler\n",
    "from sklearn.preprocessing import StandardScaler\n",
    "from sklearn.preprocessing import RobustScaler\n",
    "from sklearn.preprocessing import Normalizer"
   ]
  },
  {
   "cell_type": "code",
   "execution_count": 8,
   "metadata": {
    "collapsed": true
   },
   "outputs": [],
   "source": [
    "#Scaler_Type_Options = ['Normalizer', 'MinMaxScaler','MaxAbsScaler','RobustScaler','StandardScaler' ]\n",
    "Scaler_Type_Options = [ 'MinMaxScaler' ]\n",
    "Scalertype=Scaler_Type_Options[0]\n",
    "Product_Type_Options = [841810,841840,841850]"
   ]
  },
  {
   "cell_type": "code",
   "execution_count": 9,
   "metadata": {},
   "outputs": [
    {
     "data": {
      "text/plain": [
       "'MinMaxScaler'"
      ]
     },
     "execution_count": 9,
     "metadata": {},
     "output_type": "execute_result"
    }
   ],
   "source": [
    "Scalertype"
   ]
  },
  {
   "cell_type": "code",
   "execution_count": 10,
   "metadata": {
    "collapsed": true
   },
   "outputs": [],
   "source": [
    "Product=Product_Type_Options[0] #841810\n",
    "Exp_Country='TUR' # 'CHN'\n",
    "Imp_Country='GBR'\n",
    "\n",
    "if Exp_Country=='CHN':\n",
    "    Currency='CNY'\n",
    "    EXP0='TUR'   \n",
    "elif Exp_Country=='TUR':\n",
    "    Currency='TRY'\n",
    "    EXP0='CHN'   "
   ]
  },
  {
   "cell_type": "code",
   "execution_count": 11,
   "metadata": {
    "collapsed": true
   },
   "outputs": [],
   "source": [
    "MonthSeries=\"2\"\n",
    "MonthSeries_option=[\"1\",\"2\",\"3\",\"6\",\"12\"]"
   ]
  },
  {
   "cell_type": "code",
   "execution_count": 12,
   "metadata": {},
   "outputs": [],
   "source": [
    "Data_Core1 = pd.ExcelFile('Data_{}_{}_{}.xlsx'.format(Exp_Country,Imp_Country,Product))\n",
    "y = Data_Core1.parse('Y', header=0,index_col=None, na_values=['NA'])['{}_{}_{}'.format(Exp_Country,Imp_Country,Product)]\n",
    "Z = Data_Core1.parse('Y', header=0,index_col=None, na_values=['NA'])[['Date','Year','Month']]\n",
    "\n",
    "X = Data_Core1.parse('X{}'.format(MonthSeries), header=0,index_col=None, na_values=['NA'])\n",
    "X.drop(['Date','Year','Month'], axis=1, inplace=True)\n",
    "X_Column_Names=list(X.columns.values)\n",
    "n_feature=X.shape[1]\n",
    "\n",
    "Xhat = Data_Core1.parse('Xhat', header=0,index_col=None, na_values=['NA'])\n",
    "Xhat.drop(['Date','Year','Month'], axis=1, inplace=True)\n"
   ]
  },
  {
   "cell_type": "code",
   "execution_count": 13,
   "metadata": {
    "collapsed": true
   },
   "outputs": [],
   "source": [
    "def Xscaler(X,y,scalertype):\n",
    "\n",
    "    if scalertype==\"Normalizer\":\n",
    "        X=pd.DataFrame(Normalizer().fit_transform(X,y))\n",
    "        print(\"normalize\")\n",
    "    elif scalertype==\"MinMaxScaler\":\n",
    "        X=pd.DataFrame(MinMaxScaler().fit_transform(X,y))\n",
    "        print(\"minmax\")\n",
    "    elif scalertype==\"MaxAbsScaler\":\n",
    "        X=pd.DataFrame(MaxAbsScaler().fit_transform(X,y))\n",
    "        print(\"maxabs\")\n",
    "    elif scalertype==\"RobustScaler\":\n",
    "        X=pd.DataFrame(RobustScaler().fit_transform(X,y))\n",
    "    elif scalertype==\"StandardScaler\":\n",
    "        X=pd.DataFrame(StandardScaler().fit_transform(X,y))\n",
    "    return X"
   ]
  },
  {
   "cell_type": "markdown",
   "metadata": {},
   "source": [
    "Scaling Min Max and then spilt test and train according stratify to month."
   ]
  },
  {
   "cell_type": "code",
   "execution_count": 25,
   "metadata": {
    "scrolled": true
   },
   "outputs": [],
   "source": [
    "def X_Y_scaler_train_test_Split(X,y,Z,random=42):\n",
    "\n",
    "    values = X.values\n",
    "    values = values.astype('float32')\n",
    "    X_Column_X_Column_Names=X.columns\n",
    "    \n",
    "    scaler_X= MinMaxScaler(feature_range=(0, 1))\n",
    "\n",
    "    scaled_value_X = scaler_X.fit_transform(values)\n",
    "    scaled_value_X = pd.DataFrame(data=scaled_value_X[:,:])\n",
    "    scaled_value_X.columns=X_Column_X_Column_Names\n",
    "    \n",
    "    values = y.values\n",
    "    values = values.astype('float32')\n",
    "    values = values.reshape(-1, 1)\n",
    "    \n",
    "    scaler_y= MinMaxScaler(feature_range=(0, 1))\n",
    "\n",
    "    scaled_value_y = scaler_y.fit_transform(values)\n",
    "    scaled_value_y = pd.DataFrame(data=scaled_value_y)\n",
    "\n",
    "    X_train, X_test, y_train, y_test = train_test_split(scaled_value_X,scaled_value_y,test_size=0.2,random_state=42,stratify=Z['Month'])\n",
    "\n",
    "    return X_train, X_test, y_train, y_test, scaler_X, scaler_y, scaled_value_X, scaled_value_y\n"
   ]
  },
  {
   "cell_type": "code",
   "execution_count": 26,
   "metadata": {
    "collapsed": true
   },
   "outputs": [],
   "source": [
    "def inverse_scale_and_graph_Y_predict_and_test(y_predict_test,y_test,scaler_y,plot_on):\n",
    "\n",
    "    y_predict_test=y_predict_test.reshape(-1, 1)\n",
    "    inv_y_predict_test = scaler_y.inverse_transform(y_predict_test)\n",
    "    predictions=inv_y_predict_test\n",
    "\n",
    "  \n",
    "    inv_y_test = scaler_y.inverse_transform(y_test)\n",
    "    inv_y_test = inv_y_test[:,0]\n",
    "\n",
    "    MAE=int(metrics.mean_absolute_error(inv_y_test, predictions))\n",
    "    MSE=int(sqrt(metrics.mean_squared_error(inv_y_test, predictions)))\n",
    "    R2=int(1000*(metrics.r2_score(inv_y_test, predictions)))/1000\n",
    "    \n",
    "    \n",
    "    print('MAE',MAE, 'MSE',MSE, 'R2',R2 )\n",
    "    \n",
    "    if plot_on =='YES':\n",
    "        plt.scatter(inv_y_test,predictions)\n",
    "    \n",
    "    return MAE,MSE,R2\n",
    "    \n"
   ]
  },
  {
   "cell_type": "code",
   "execution_count": 27,
   "metadata": {
    "collapsed": true
   },
   "outputs": [],
   "source": [
    "Scaled_Train_Test_Split=X_Y_scaler_train_test_Split(X,y,Z)\n",
    "\n",
    "X_train = Scaled_Train_Test_Split[0]\n",
    "X_test = Scaled_Train_Test_Split[1]\n",
    "y_train = Scaled_Train_Test_Split[2]\n",
    "y_test = Scaled_Train_Test_Split[3]\n",
    "scaler_X = Scaled_Train_Test_Split[4]  \n",
    "scaler_y = Scaled_Train_Test_Split[5]\n",
    "scaled_value_X=Scaled_Train_Test_Split[6]\n",
    "scaled_value_y=Scaled_Train_Test_Split[7]"
   ]
  },
  {
   "cell_type": "code",
   "execution_count": 28,
   "metadata": {},
   "outputs": [
    {
     "name": "stdout",
     "output_type": "stream",
     "text": [
      "MAE 2009 MSE 2921 R2 0.618\n"
     ]
    },
    {
     "data": {
      "text/plain": [
       "(2009, 2921, 0.618)"
      ]
     },
     "execution_count": 28,
     "metadata": {},
     "output_type": "execute_result"
    },
    {
     "data": {
      "image/png": "[encoded data removed]",
      "text/plain": [
       "<matplotlib.figure.Figure at 0x1fdd38141d0>"
      ]
     },
     "metadata": {},
     "output_type": "display_data"
    }
   ],
   "source": [
    "from sklearn.tree import DecisionTreeRegressor\n",
    "\n",
    "# Decison tree regressor model\n",
    "dt = DecisionTreeRegressor()\n",
    "\n",
    "# Decison tree regressor model train\n",
    "DecisionTreeRegressor.fit(dt,X_train,y_train)\n",
    "\n",
    "# Decison tree regressor model predict\n",
    "y_predict_test = dt.predict(X_test)\n",
    "\n",
    "# Compare predicted Y and real Y \n",
    "inverse_scale_and_graph_Y_predict_and_test(y_predict_test,y_test,scaler_y,'YES')"
   ]
  },
  {
   "cell_type": "code",
   "execution_count": 29,
   "metadata": {},
   "outputs": [
    {
     "name": "stdout",
     "output_type": "stream",
     "text": [
      "MAE 1873 MSE 2353 R2 0.752\n"
     ]
    },
    {
     "data": {
      "text/plain": [
       "(1873, 2353, 0.752)"
      ]
     },
     "execution_count": 29,
     "metadata": {},
     "output_type": "execute_result"
    },
    {
     "data": {
      "image/png": "[encoded data removed]",
      "text/plain": [
       "<matplotlib.figure.Figure at 0x1fdd3759da0>"
      ]
     },
     "metadata": {},
     "output_type": "display_data"
    }
   ],
   "source": [
    "# Random Foest Regressor model\n",
    "rfc=RandomForestRegressor(n_estimators=3000)\n",
    "\n",
    "# Random Foest Regressor model train\n",
    "RandomForestRegressor.fit(rfc,X_train,y_train)\n",
    "\n",
    "# Random Foest Regressor mode predict\n",
    "y_predict_test = rfc.predict(X_test)\n",
    "\n",
    "# Compare predicted Y and real Y \n",
    "inverse_scale_and_graph_Y_predict_and_test(y_predict_test,y_test,scaler_y,'YES')"
   ]
  },
  {
   "cell_type": "code",
   "execution_count": null,
   "metadata": {},
   "outputs": [],
   "source": [
    "rfc.feature_importances_"
   ]
  },
  {
   "cell_type": "code",
   "execution_count": null,
   "metadata": {},
   "outputs": [],
   "source": [
    "rfc.score(X,y)"
   ]
  },
  {
   "cell_type": "code",
   "execution_count": null,
   "metadata": {
    "scrolled": false
   },
   "outputs": [],
   "source": [
    "# 1 Nolu Blok\n",
    "# Internetten bulunan kod blogu\n",
    "# Random Forest'a gore Feature Importance Hesaplama\n",
    "# Butun veri setinin girildiği ona göre önemli olan özelliklerin bulundugu kod parçası\n",
    "\n",
    "ScalerType = Scalertype=Scaler_Type_Options[0]\n",
    "n_sample=len(X)\n",
    "\n",
    "rfc=RandomForestRegressor(n_estimators=3000)\n",
    "RandomForestRegressor.fit(rfc,scaled_value_X,scaled_value_y)\n",
    "\n",
    "\n",
    "predictions = rfc.predict(X_test)\n",
    "print('MAE',int(metrics.mean_absolute_error(y_test, predictions)),\n",
    "      'MSE',int(sqrt(metrics.mean_squared_error(y_test, predictions))),\n",
    "      'R2',int(1000*(metrics.r2_score(y_test, predictions)))/1000\n",
    "     )\n",
    "\n",
    "\n",
    "importances = rfc.feature_importances_\n",
    "std = np.std([tree.feature_importances_ for tree in rfc.estimators_],axis=0)\n",
    "\n",
    "indices = np.argsort(importances)[::-1]\n",
    "\n",
    "\n",
    "# Print the feature ranking\n",
    "print(\"Feature ranking:\")\n",
    "\n",
    "for f in range(n_feature):\n",
    "    print(\"%d. feature %s %d (%f) %f\" % (f+1, X_Column_Names[indices[f]], indices[f], importances[indices[f]],std[indices[f]]))\n",
    "\n",
    "# Plot the feature importances of the forest\n",
    "plt.figure()\n",
    "plt.title(\"{} and -{} Month Feature Importances and Standart Deviation of Features with 3000 Different Estimations\".format(Product,MonthSeries))\n",
    "plt.bar(range(n_feature), importances[indices],\n",
    "       color=\"r\", yerr=std[indices], align=\"center\")\n",
    "plt.xticks(range(n_feature), indices,rotation=90)\n",
    "plt.xlim([-1, n_feature])\n",
    "\n",
    "fig_size = plt.rcParams[\"figure.figsize\"]\n",
    "fig_size[0] = 15\n",
    "fig_size[1] = 10\n",
    "plt.rcParams[\"figure.figsize\"] = fig_size\n",
    "plt.savefig(\"Plots_Feature_Selection/{} and -{} Month Feature Importances and Standart Deviation of Features with 3000 Different Estimations.png\".format(Product,MonthSeries), format='png', dpi=300)\n",
    "\n",
    "plt.show()"
   ]
  },
  {
   "cell_type": "code",
   "execution_count": null,
   "metadata": {
    "scrolled": true
   },
   "outputs": [],
   "source": [
    "# 2 Ver Nolu Blok\n",
    "# Internetten bulunan kod blogu http://scikit-learn.org/stable/auto_examples/ensemble/plot_forest_importances.html\n",
    "# Feature Importance Hesaplama\n",
    "# Burada asıl özellik bir veri seti yaratılıyor make_regression ile. Ve oaradakilere dogru çalışıp çalışmadığı test ediliyor.\n",
    "# Butun veri setinin girildiği ona göre önemli olan özelliklerin bulundugu kod parçası\n",
    "\n",
    "from sklearn.datasets import make_regression\n",
    "\n",
    "\n",
    "n_sample=len(X)\n",
    "\n",
    "number_of_split=100\n",
    "number_of_row=29\n",
    "\n",
    "random_state_options = np.arange(0,number_of_split)\n",
    "y_predict= np.ones((number_of_row, number_of_split))\n",
    "\n",
    "feature_indices = np.ones((n_feature, number_of_split))\n",
    "feature_importances=np.ones((n_feature, number_of_split))\n",
    "feature_indices_score=np.ones((n_feature))\n",
    "feature_importances_score=np.ones((n_feature))\n",
    "j=0\n",
    "\n",
    "\n",
    "# For different split sets Random Forest Regressor runs.\n",
    "\n",
    "for random_state_i in random_state_options:\n",
    "\n",
    "    X_train, X_test, y_train, y_test = train_test_split(scaled_value_X,scaled_value_y,test_size=0.2,random_state=random_state_i,stratify=Z['Month'])\n",
    "\n",
    "    \n",
    "\n",
    "    rfc=RandomForestRegressor(n_estimators=30)\n",
    "    RandomForestRegressor.fit(rfc,X_train,y_train)\n",
    "\n",
    "    y_predict[:,j] = rfc.predict(X_test)\n",
    "    \n",
    "    result=inverse_scale_and_graph_Y_predict_and_test (y_predict[:,j],y_test,scaler_y,'NO')\n",
    "    \n",
    "    importances = rfc.feature_importances_\n",
    "    std = np.std([tree.feature_importances_ for tree in rfc.estimators_],axis=0)\n",
    "\n",
    "    indices = np.argsort(importances)[::-1]\n",
    "    feature_indices[:,j]=indices\n",
    "    feature_importances[:,j]=importances\n",
    "    j=j+1\n",
    "    \n",
    "\n",
    "print (\"Features scores:\")    \n",
    "for i in range(n_feature):\n",
    "    feature_indices_score[i]=0\n",
    "    feature_importances_score[i]=0\n",
    "    for j in range(number_of_split):\n",
    "        \n",
    "        indice_coeff=feature_indices[i,j]\n",
    "        importances_coeff=feature_importances[i,j]\n",
    "        \n",
    "        feature_indices_score[i]=feature_indices_score[i]+(indice_coeff)\n",
    "        feature_importances_score[i]=feature_importances_score[i]+(importances_coeff)\n",
    "        \n",
    "#        print('feat=',i,'#ofsplit=',j,'tot_indice',feature_indices_score[i],\n",
    "#              'indice=',indice_coeff,'tot_importan=',feature_importances_score[i],'importan',importances_coeff )\n",
    "\n",
    "    print( i,X_Column_Names[i])#,feature_indices_score[i],'number_of_split',j+1) #,X_Column_Names[feature_indices[i,j]])\n",
    "    \n",
    "scored_feature_indices = np.argsort(feature_indices_score)\n",
    "scored_feature_importances = np.argsort(feature_importances_score)\n",
    "    \n",
    " \n",
    "    \n",
    "    \n",
    "# Plot the feature importances of the forest\n",
    "plt.gcf().clear()\n",
    "plt.figure()\n",
    "plt.title(\"{} and -{} Month Cumulative Feature Importances with {} Different Splits.png\".format(Product,MonthSeries,number_of_split))\n",
    "plt.bar(range(n_feature), feature_importances_score[scored_feature_importances][::-1],\n",
    "       color=\"r\",  align=\"center\")\n",
    "plt.xticks(range(n_feature), scored_feature_importances[::-1],rotation=90)\n",
    "plt.xlim([-1, n_feature])\n",
    "\n",
    "fig_size = plt.rcParams[\"figure.figsize\"]\n",
    "fig_size[0] = 20\n",
    "fig_size[1] = 12\n",
    "plt.rcParams[\"figure.figsize\"] = fig_size\n",
    "plt.savefig(\"Plots_Feature_Selection/{} and -{} Month Cumulative Feature Importances with {} Different Splits.png\".format(Product,MonthSeries,number_of_split), format='png', dpi=300)\n",
    "\n",
    "plt.show()"
   ]
  },
  {
   "cell_type": "code",
   "execution_count": 22,
   "metadata": {
    "scrolled": true
   },
   "outputs": [
    {
     "name": "stdout",
     "output_type": "stream",
     "text": [
      "Features scores:\n",
      "1. feature TUR_FRA_841810-2 2 (0.406435) 0.303800\n",
      "2. feature TUR_World_841810-2 1 (0.128688) 0.244712\n",
      "3. feature TUR_GBR_841810-2 0 (0.037669) 0.045804\n",
      "4. feature TUR_DEU_841810-2 5 (0.159951) 0.267146\n",
      "5. feature TUR_ITA_841810-2 4 (0.015816) 0.018198\n",
      "6. feature CPI_TUR-2 21 (0.020119) 0.024833\n",
      "7. feature CPI_GBR-2 22 (0.009973) 0.015812\n",
      "8. feature TRY-2 23 (0.008877) 0.012949\n",
      "9. feature TUR_USA_841810-2 3 (0.016499) 0.013587\n",
      "10. feature CHN_GBR_841810-2 6 (0.005675) 0.008000\n",
      "11. feature CCI_TUR-2 14 (0.010931) 0.015371\n",
      "12. feature KOR_GBR_841810-2 8 (0.012944) 0.021418\n",
      "13. feature GBP-2 24 (0.019846) 0.030801\n",
      "14. feature BCI_TUR-2 13 (0.017322) 0.022554\n",
      "15. feature GDP_TUR-2 16 (0.031037) 0.041321\n",
      "16. feature EPU_GBR-2 11 (0.014972) 0.015016\n",
      "17. feature EPU_World-2 12 (0.012663) 0.020936\n",
      "18. feature POL_GBR_841810-2 7 (0.025907) 0.022076\n",
      "19. feature TUR_GBR_841810_UV-2 10 (0.002206) 0.002002\n",
      "20. feature BCI_GBR-2 17 (0.003863) 0.003157\n",
      "21. feature World-2 25 (0.005443) 0.005472\n",
      "22. feature CLI_GBR-2 19 (0.009165) 0.011499\n",
      "23. feature CCI_GBR-2 18 (0.005361) 0.011457\n",
      "24. feature ITA_GBR_841810-2 9 (0.006284) 0.008246\n",
      "25. feature CLI_TUR-2 15 (0.007298) 0.012382\n",
      "26. feature GDP_GBR-2 20 (0.005057) 0.006511\n"
     ]
    },
    {
     "data": {
      "text/plain": [
       "<matplotlib.figure.Figure at 0x1fdd48f4f28>"
      ]
     },
     "metadata": {},
     "output_type": "display_data"
    },
    {
     "data": {
      "image/png": "[encoded data removed]",
      "text/plain": [
       "<matplotlib.figure.Figure at 0x1fdd37011d0>"
      ]
     },
     "metadata": {},
     "output_type": "display_data"
    }
   ],
   "source": [
    "# 3 Ver Blok Train Test Split olan\n",
    "# Internetten bulunan kod blogu\n",
    "# http://blog.datadive.net/selecting-good-features-part-iii-random-forests/\n",
    "# Use both RF Importances and R2 Accuracy with different number of splits\n",
    "\n",
    "from sklearn.cross_validation import ShuffleSplit\n",
    "from sklearn.metrics import r2_score\n",
    "from collections import defaultdict\n",
    "from operator import itemgetter, attrgetter\n",
    "\n",
    "def getKey(item):\n",
    "    return item[0]\n",
    "\n",
    "rf = RandomForestRegressor()\n",
    "\n",
    "\n",
    "number_of_split=100\n",
    "number_of_row=29\n",
    "\n",
    "\n",
    "\n",
    "random_state_options = np.arange(0,number_of_split)\n",
    "predictions= np.ones((number_of_row, number_of_split))\n",
    "y_predict= np.ones((number_of_row, number_of_split))\n",
    "\n",
    "feature_indices = np.ones((n_feature, number_of_split))\n",
    "feature_importances=np.ones((n_feature, number_of_split))\n",
    "feature_indices_score=np.ones((n_feature))\n",
    "feature_importances_score=np.ones((n_feature))\n",
    "\n",
    "scores = defaultdict(list)\n",
    "#feature_indices = \n",
    "feature_std = np.ones((n_feature, number_of_split))\n",
    "feature_score=np.zeros((n_feature))\n",
    "\n",
    "#R2=defaultdict(list)\n",
    "R2=np.ones(number_of_split)\n",
    "j=0\n",
    "\n",
    "sonuc =[]\n",
    "\n",
    "\n",
    "for random_state_i in random_state_options:\n",
    "\n",
    "    X_train, X_test, Y_train, Y_test = train_test_split(X,y,test_size=0.2,random_state=random_state_i,stratify=Z['Month'])\n",
    "\n",
    "    RandomForestRegressor.fit(rf,X_train, Y_train)    \n",
    "\n",
    "    y_predict[:,j] = rf.predict(X_test)\n",
    "    \n",
    "    acc = int(1000*(r2_score(Y_test, rf.predict(X_test))))/1000\n",
    "    R2[j] = int(1000*(r2_score(Y_test, rf.predict(X_test))))/1000\n",
    "        \n",
    "    importances = rf.feature_importances_\n",
    "    indices = np.argsort(importances)[::-1]\n",
    "    std = np.std([tree.feature_importances_ for tree in rf.estimators_],axis=0)\n",
    "\n",
    "\n",
    "    feature_importances[:,j]=importances\n",
    "    feature_indices[:,j]=indices\n",
    "    feature_std [:,j]=std\n",
    "\n",
    "    j=j+1\n",
    "\n",
    "R2_Adj=1-R2\n",
    "score_coefficient=n_feature*(R2_Adj - np.max(R2_Adj))/-np.ptp(R2_Adj)\n",
    "\n",
    "    \n",
    "print (\"Features scores:\")    \n",
    "for i in range(n_feature):\n",
    "    feature_score[i]=0\n",
    "    feature_indices_score[i]=0\n",
    "    feature_importances_score[i]=0\n",
    "    \n",
    "    for j in range(number_of_split):\n",
    "        \n",
    "        indice_coeff=feature_indices[i,j]+1\n",
    "        importances_coeff=int((feature_importances[i,j]*10000))/10000\n",
    "        score_coeff=int((score_coefficient[j]+1)*10)/10\n",
    "\n",
    "        feature_indices_score[i]=feature_indices_score[i]+(indice_coeff)\n",
    "        feature_importances_score[i]=feature_importances_score[i]+(importances_coeff)\n",
    "\n",
    "        score=score_coeff*(importances_coeff)\n",
    "        feature_score[i]=feature_score[i]+score\n",
    "\n",
    "\n",
    "#    print( feature_score[i],'number_of_split',j+1) #,X_Column_Names[feature_indices[i,j]])\n",
    "    \n",
    "scored_feature_indices = (np.argsort(feature_score)[::-1])\n",
    "\n",
    "for f in range(n_feature):\n",
    "    print(\"%d. feature %s %d (%f) %f\" % (f+1, X_Column_Names[scored_feature_indices[f]], scored_feature_indices[f], importances[scored_feature_indices[f]],std[scored_feature_indices[f]]))\n",
    "\n",
    "\n",
    "# Plot the feature importances of the forest\n",
    "plt.gcf().clear()\n",
    "plt.figure()\n",
    "plt.title(\"{} and {} Month Cumulative Feature and Score Importances with {} Different Splits\".format(Product,MonthSeries,number_of_split))\n",
    "plt.bar(range(n_feature), feature_score[scored_feature_indices],\n",
    "       color=\"r\",  align=\"center\")\n",
    "plt.xticks(range(n_feature), scored_feature_indices,rotation=90)\n",
    "plt.xlim([-1, n_feature])\n",
    "\n",
    "#fig_size = plt.rcParams[\"figure.figsize\"]\n",
    "#fig_size[0] = 20\n",
    "#fig_size[1] = 12\n",
    "#plt.rcParams[\"figure.figsize\"] = fig_size\n",
    "plt.savefig(\"Plots_Feature_Selection/{} and {} Month Cumulative Feature and Score Importances with {} Different Splits.png\".format(Product,MonthSeries,number_of_split), format='png', dpi=300)\n",
    "\n",
    "plt.show()\n",
    "\n",
    "\n",
    "        "
   ]
  },
  {
   "cell_type": "code",
   "execution_count": 23,
   "metadata": {
    "collapsed": true
   },
   "outputs": [],
   "source": [
    "# RAndom Forest denemeleri için kullanılan metod\n",
    "\n",
    "def randomforest(X_train, X_test, y_train, y_test,scaler_y,est,min_leaf,random,feat,max_leaf,min_weight,min_impurity):\n",
    "    from sklearn.model_selection import cross_val_score   \n",
    "    from sklearn.model_selection import cross_val_predict\n",
    "    \n",
    "    rfc=RandomForestRegressor(n_estimators=est,\n",
    "                              min_samples_leaf=min_leaf,\n",
    "                              random_state =random,\n",
    "                              max_features=feat,\n",
    "                              max_leaf_nodes=max_leaf,\n",
    "                              min_weight_fraction_leaf =min_weight,\n",
    "                              min_impurity_decrease=min_impurity\n",
    "                             )\n",
    "   \n",
    "    RandomForestRegressor.fit(rfc,X_train,y_train)\n",
    "\n",
    "    y_predict_test = rfc.predict(X_test)\n",
    "    \n",
    "    result=inverse_scale_and_graph_Y_predict_and_test(y_predict_test,y_test,scaler_y,'NO')\n",
    "    \n",
    "    return result\n",
    "\n"
   ]
  },
  {
   "cell_type": "code",
   "execution_count": 24,
   "metadata": {},
   "outputs": [
    {
     "name": "stdout",
     "output_type": "stream",
     "text": [
      "MAE 3977 MSE 4735 R2 -0.003\n"
     ]
    },
    {
     "data": {
      "text/plain": [
       "(3977, 4735, -0.003)"
      ]
     },
     "execution_count": 24,
     "metadata": {},
     "output_type": "execute_result"
    }
   ],
   "source": [
    "randomforest(X_train, X_test, y_train, y_test,scaler_y,200,5,10,20,5,0.1,0.01)"
   ]
  },
  {
   "cell_type": "code",
   "execution_count": null,
   "metadata": {},
   "outputs": [],
   "source": [
    "randomforest(X_train, X_test, y_train, y_test,scaler_y,200,5,10,20,5,0.1,0.01)"
   ]
  },
  {
   "cell_type": "code",
   "execution_count": null,
   "metadata": {
    "collapsed": true
   },
   "outputs": [],
   "source": [
    "percentile=0\n",
    "threshold_for_feature_selection=np.percentile(feature_score[scored_feature_indices], percentile)\n",
    "X_threshold=X.iloc[:,scored_feature_indices[feature_score[scored_feature_indices]>threshold_for_feature_selection]]"
   ]
  },
  {
   "cell_type": "code",
   "execution_count": null,
   "metadata": {},
   "outputs": [],
   "source": [
    "Scaled_Train_Test_Split=X_Y_scaler_train_test_Split(X_threshold,y,Z)\n",
    "\n",
    "X_train = Scaled_Train_Test_Split[0]\n",
    "X_test = Scaled_Train_Test_Split[1]\n",
    "y_train = Scaled_Train_Test_Split[2]\n",
    "y_test = Scaled_Train_Test_Split[3]\n",
    "scaler_X = Scaled_Train_Test_Split[4]  \n",
    "scaler_y = Scaled_Train_Test_Split[5]\n",
    "scaled_value_X=Scaled_Train_Test_Split[6]\n",
    "scaled_value_y=Scaled_Train_Test_Split[7]\n"
   ]
  },
  {
   "cell_type": "code",
   "execution_count": null,
   "metadata": {},
   "outputs": [],
   "source": [
    "# Random Foest Regressor model\n",
    "rfc=RandomForestRegressor(n_estimators=3000)\n",
    "\n",
    "# Random Foest Regressor model train\n",
    "RandomForestRegressor.fit(rfc,X_train,y_train)\n",
    "\n",
    "# Random Foest Regressor mode predict\n",
    "y_predict_test = rfc.predict(X_test)\n",
    "\n",
    "# Compare predicted Y and real Y \n",
    "inverse_scale_and_graph_Y_predict_and_test(y_predict_test,y_test,scaler_y,'YES')"
   ]
  },
  {
   "cell_type": "code",
   "execution_count": null,
   "metadata": {
    "collapsed": true
   },
   "outputs": [],
   "source": [
    "def calıstır_randomforest(X_train, X_test, y_train, y_test,scaler_y,Product,MonthSeries,Scaler_Type):\n",
    "#ver2    estimator_options = [200, 300, 350, 400,1000]\n",
    "#ver2    sample_leaf_options = [1,5,10,30,50]\n",
    "    #sample_leaf_options = [1,5,10,20]\n",
    "    #random_state_options =[1,10,50,75,200]\n",
    "#ver2    random_state_options =[10]\n",
    "    #max_features_option=[3,5,10,20]\n",
    "    #max_features_option=[10,20,40,54]\n",
    "#ver2    max_features_option=[10,\"log2\",\"sqrt\",\"auto\"]\n",
    "    \n",
    "    estimation_method='random forest'\n",
    "#ver3    estimator_options = [200, 300]\n",
    "#ver3    min_sample_leaf_options = [5,10]\n",
    "#ver3     random_state_options =[10]\n",
    "#ver3     max_features_option=[10,\"log2\",\"sqrt\",\"auto\"]\n",
    "#ver3    max_leaf_nodes_options=[5] \n",
    "#ver3    min_weight_fraction_leaf_options=[0.01,0.1,0.5] \n",
    "#ver3    min_impurity_decrease_options =[0.00001,0.01,0.05,1]\n",
    "\n",
    "    estimator_options = [200]\n",
    "    min_sample_leaf_options = [5]\n",
    "    random_state_options =[10]\n",
    "    max_features_option=[10]#,\"log2\",\"sqrt\",\"auto\"]\n",
    "    max_leaf_nodes_options=[5] \n",
    "    min_weight_fraction_leaf_options=[0.01] \n",
    "    min_impurity_decrease_options =[0.00001,0.01,0.05,1]\n",
    "\n",
    "\n",
    "    \n",
    "#    estimator_options = [200, 300, 350, 400,1000]\n",
    "#    min_sample_leaf_options = [1,5,10,30,50]\n",
    "#    random_state_options =[10,35,86]\n",
    "#    max_features_option=[10,\"log2\",\"sqrt\",\"auto\"]\n",
    "#    max_leaf_nodes_options=[5,10,35] \n",
    "#    min_weight_fraction_leaf_options=[0.01,0.1,0.5] \n",
    "#    min_impurity_decrease_options =[0.00001,0.01,0.05,1]    \n",
    "    \n",
    "    sonuc = pd.DataFrame(columns='EstMethod Product Scaler MonthSeries EST LEAF FEAT MAX_LEAF MIN_WEIGHT MIN_IMPURITY MAE MSE R2'.split())\n",
    "    i=0\n",
    "    results = pd.DataFrame()\n",
    "    repeats=3\n",
    "    error_r2 = list()\n",
    "    for est in estimator_options:\n",
    "\n",
    "        for min_leaf in min_sample_leaf_options:\n",
    "        \n",
    "            for f in range(0, 1):\n",
    "        \n",
    "                feat=max_features_option[f]\n",
    "       \n",
    "                for random in random_state_options:\n",
    "                    \n",
    "                    for max_leaf in max_leaf_nodes_options:\n",
    "                        \n",
    "                         for min_weight in min_weight_fraction_leaf_options:\n",
    "                                \n",
    "                            for min_impurity in min_impurity_decrease_options:\n",
    "                                \n",
    "                              #  for r in range(repeats):\n",
    "                            \n",
    "                            \n",
    "                                    estimate_metric=randomforest(X_train, X_test, y_train, y_test,scaler_y,est,min_leaf,random,feat,\n",
    "                                                                 max_leaf,min_weight,min_impurity)\n",
    "                                    MAE=estimate_metric[0]\n",
    "                                    MSE=estimate_metric[1]\n",
    "                                    R2=estimate_metric[2]\n",
    "                                    print(MonthSeries,'esti',est,'leaf',min_leaf,'feature',feat,max_leaf,min_weight,min_impurity,MAE,MSE,R2)\n",
    "                                    sonuc.loc[i]=[estimation_method,Product,Scaler_Type,MonthSeries,est,min_leaf,feat,max_leaf,min_weight,min_impurity,MAE,MSE,R2]\n",
    "                                    i=i+1\n",
    "                                    error_r2.append(R2)\n",
    "                                    print(error_r2)\n",
    "                                    \n",
    "                              #  results[str(min_impurity)]=error_r2\n",
    "                              #  print(results)    \n",
    "    return sonuc     "
   ]
  },
  {
   "cell_type": "code",
   "execution_count": null,
   "metadata": {},
   "outputs": [],
   "source": [
    "#Feature Reduction percentile oranına göre oluyor\n",
    "percentile=25\n",
    "threshold_for_feature_selection=np.percentile(feature_score[scored_feature_indices], percentile)\n",
    "sonuc=pd.DataFrame()\n",
    "for ScalerType in Scaler_Type_Options:\n",
    "\n",
    "    Data_Core=readexcel(Product)\n",
    "    XY=set_Data(Product,Data_Core,MonthSeries)\n",
    "    y=set_y(Product,XY)\n",
    "    Z=set_z(Product,XY)\n",
    "    X=set_X(Product,XY)\n",
    "\n",
    "    \n",
    "    X= Xscaler(X,y,ScalerType)\n",
    "    scaler= MinMaxScaler(feature_range=(0, 1))\n",
    "    \n",
    "       \n",
    "    #Feature Reduction percentile oranına göre oluyor\n",
    "    X=X.loc[:,scored_feature_indices[feature_score[scored_feature_indices]>threshold_for_feature_selection]]\n",
    "\n",
    "    X_train, X_test, y_train, y_test = train_test_split(X,y,test_size=0.2,random_state=42)\n",
    "\n",
    "\n",
    "#    sonuc=pd.concat([sonuc,calıstır_randomforest(Product,MonthSeries,ScalerType)])\n",
    "#    sonuc=calıstır_randomforest(Product,MonthSeries,ScalerType)\n",
    "\n",
    "    for MonthSerie in MonthSeries_option:\n",
    "        XY=set_Data(Product,Data_Core,MonthSeries)\n",
    "        y=set_y(Product,XY)\n",
    "        Z=set_z(Product,XY)\n",
    "        X=set_X(Product,XY)\n",
    "\n",
    "        values = y.values\n",
    "        values = values.astype('float32')\n",
    "        scaler_y= MinMaxScaler(feature_range=(0, 1))\n",
    "\n",
    "        scaled_value_y = scaler_y.fit_transform(values)\n",
    "        scaled_value_y = pd.DataFrame(data=scaled_value_y)\n",
    "        \n",
    "        \n",
    "        X= Xscaler(X,y,ScalerType)\n",
    "    \n",
    "        X=X.loc[:,scored_feature_indices[feature_score[scored_feature_indices]>threshold_for_feature_selection]]\n",
    "\n",
    "    \n",
    "#        X_train, X_test, y_train, y_test = train_test_split(X,y,test_size=0.2,random_state=42)\n",
    "        X_train, X_test, y_train, y_test = train_test_split(X,scaled_value_y,test_size=0.2,random_state=42,stratify=Z['Month'])\n",
    "\n",
    "          sonuc=pd.concat([sonuc,calıstır_randomforest(X_train, X_test, y_train, y_test,scaler_y,Product,MonthSerie,ScalerType)])\n",
    "\n",
    "max_R2=int((sonuc['R2'].max())*1000)/1000\n",
    "filename='Out_Random_Predict_Results_{one}_Product{two}_{four}perc_with max{tre}'.format(one=datetime.now().strftime('Date_%m-%d_Time%H_%M'),\n",
    "                                                                                      two=Product,tre=max_R2,four=percentile)\n",
    "sonuc.to_excel('{}.xlsx'.format(filename),index = False)      \n"
   ]
  },
  {
   "cell_type": "code",
   "execution_count": null,
   "metadata": {
    "collapsed": true
   },
   "outputs": [],
   "source": [
    "\n",
    "\n",
    "#rfc=RandomForestRegressor()\n",
    "#RandomForestRegressor.fit(rfc,X,y)\n",
    "\n",
    "est = 200\n",
    "min_leaf = 5\n",
    "random =10\n",
    "feat=\"log2\"\n",
    "max_leaf=5 \n",
    "min_weight=0.01 \n",
    "min_impurity=0.00001\n",
    "\n",
    "\n",
    "rfc=RandomForestRegressor(n_estimators=est,\n",
    "                              min_samples_leaf=min_leaf,\n",
    "                              random_state =random,\n",
    "                              max_features=feat,\n",
    "                              max_leaf_nodes=max_leaf,\n",
    "                              min_weight_fraction_leaf =min_weight,\n",
    "                              min_impurity_split=min_impurity\n",
    "                             )\n",
    "\n",
    "#rfc=RandomForestRegressor()\n",
    "\n",
    "RandomForestRegressor.fit(rfc,X_train,y_train)\n",
    "\n",
    "y_predict_test = rfc.predict(X_test)\n",
    "inv_y_predict_test = scaler_y.inverse_transform(y_predict_test)\n",
    "predictions=inv_y_predict_test\n",
    "\n",
    "inv_y_test = scaler_y.inverse_transform(y_test)\n",
    "inv_y_test = inv_y_test[:,0]\n",
    "\n",
    "\n",
    "print('MAE',int(metrics.mean_absolute_error(inv_y_test, predictions)),\n",
    "      'MSE',int(sqrt(metrics.mean_squared_error(inv_y_test, predictions))),\n",
    "      'R2',int(1000*(metrics.r2_score(inv_y_test, predictions)))/1000\n",
    "     )\n",
    "plt.scatter(inv_y_test,predictions)\n"
   ]
  },
  {
   "cell_type": "code",
   "execution_count": null,
   "metadata": {
    "collapsed": true
   },
   "outputs": [],
   "source": [
    "type(sonuc)"
   ]
  },
  {
   "cell_type": "code",
   "execution_count": null,
   "metadata": {
    "collapsed": true
   },
   "outputs": [],
   "source": [
    "XY=set_Data(Product,Data_Core,MonthSeries)\n",
    "y=set_y(Product,XY)\n",
    "Z=set_z(Product,XY)\n",
    "X=set_X(Product,XY)"
   ]
  },
  {
   "cell_type": "code",
   "execution_count": null,
   "metadata": {},
   "outputs": [],
   "source": [
    "X= Xscaler(X,y,ScalerType)"
   ]
  },
  {
   "cell_type": "code",
   "execution_count": null,
   "metadata": {
    "collapsed": true
   },
   "outputs": [],
   "source": [
    "from sklearn.neural_network import MLPRegressor"
   ]
  },
  {
   "cell_type": "code",
   "execution_count": null,
   "metadata": {
    "collapsed": true
   },
   "outputs": [],
   "source": [
    "def nn (alph,max_iteration,slv,random,hidden_layer):\n",
    "    MLP = MLPRegressor(\n",
    "                              alpha = alph,\n",
    "                              solver=slv ,\n",
    "                              max_iter=max_iteration,\n",
    "                              random_state =random,\n",
    "                              hidden_layer_sizes=hidden_layer\n",
    "    )\n",
    "    MLPRegressor.fit(MLP,X_train,y_train)\n",
    "    \n",
    "    predictions = MLP.predict(X_test)\n",
    "    MAE=int(metrics.mean_absolute_error(y_test, predictions))\n",
    "    MSE=int(sqrt(metrics.mean_squared_error(y_test, predictions)))\n",
    "    R2=int(1000*(metrics.r2_score(y_test, predictions)))/1000\n",
    "    return MAE,MSE,R2 \n"
   ]
  },
  {
   "cell_type": "code",
   "execution_count": null,
   "metadata": {
    "collapsed": true
   },
   "outputs": [],
   "source": [
    " def calıstır_nn(Product,MonthSeries,Scaler_Type):\n",
    "    estimation_method='nn'\n",
    "    alpha_options = [0.0001,0.00000001]\n",
    "    solver_options = ['lbfgs', 'adam' ] # sgd solver cok sapıttı\n",
    "    max_iteration_options = [50000]#,60000,100000]\n",
    "    #random_state_options =[1,10,50,75,200]\n",
    "    #random_state_options =[10,50,90]\n",
    "    random_state_options =[90]\n",
    "    hidden_layer_sizes_options=[(30,100,10)]#,(30,30),(100,100),(30,30,30)]\n",
    "\n",
    "    sonuc = pd.DataFrame(columns='EstMethod Product Scaler MonthSeries alpha max_iteration slv hidden_layer random MAE MSE R2'.split())\n",
    "    i=0\n",
    "\n",
    "    for alpha in alpha_options:\n",
    "    \n",
    "        for max_iteration in max_iteration_options:\n",
    "\n",
    "            for slv in solver_options:\n",
    "        \n",
    "                for hidden_layer in hidden_layer_sizes_options:\n",
    "           \n",
    "                    for random in random_state_options:\n",
    "                \n",
    "                        estimate_metric=nn(alpha,max_iteration,slv,random,hidden_layer)\n",
    "                    \n",
    "                        MAE=estimate_metric[0]\n",
    "                        MSE=estimate_metric[1]\n",
    "                        R2=estimate_metric[2]\n",
    "                        print('iter:',max_iteration,'slvr:',slv,'random:',random,'layers:',hidden_layer,\n",
    "                          MAE,MSE,R2)\n",
    "                        sonuc.loc[i]=[estimation_method,Product,Scaler_Type,MonthSeries,alpha,max_iteration,slv,hidden_layer,random,MAE,MSE,R2]\n",
    "                        i=i+1\n",
    "    return sonuc "
   ]
  },
  {
   "cell_type": "code",
   "execution_count": null,
   "metadata": {
    "scrolled": true
   },
   "outputs": [],
   "source": [
    "Data_Core=readexcel(Product)\n",
    "XY=set_Data(Product,Data_Core,MonthSeries)\n",
    "y=set_y(Product,XY)\n",
    "Z=set_z(Product,XY)\n",
    "X=set_X(Product,XY)\n",
    "\n",
    "values = X.values\n",
    "values = values.astype('float32')\n",
    "scaler_X= MinMaxScaler(feature_range=(0, 1))\n",
    "\n",
    "scaled_value_X = scaler_X.fit_transform(values)\n",
    "scaled_value_X = pd.DataFrame(data=scaled_value_X[:,:])\n",
    "\n",
    "values = y.values\n",
    "values = values.astype('float32')\n",
    "scaler_y= MinMaxScaler(feature_range=(0, 1))\n",
    "\n",
    "scaled_value_y = scaler_y.fit_transform(values)\n",
    "scaled_value_y = pd.DataFrame(data=scaled_value_y)\n",
    "\n",
    "X_train, X_test, y_train, y_test = train_test_split(scaled_value_X,scaled_value_y,test_size=0.2,random_state=42,stratify=Z['Month'])\n",
    "\n",
    "\n",
    "#Data_Core=readexcel(Product)\n",
    "#y=set_y(Product,Data_Core)\n",
    "#X=set_Data(Product,Data_Core,MonthSeries)\n",
    "\n",
    "#X=pd.DataFrame(StandardScaler().fit_transform(X,y))\n",
    "#X= Xscaler(X,y,ScalerType)\n",
    "\n",
    "#X_train, X_test, y_train, y_test = train_test_split(X,y,test_size=0.2,random_state=42)\n",
    "\n",
    "sonuc=calıstır_nn(Product,MonthSeries,ScalerType)\n",
    "filename='Out_NN_Prediction_Results_{one}_Product{two}'.format(one=datetime.now().strftime('Date_%m-%d_Time%H_%M'),two=Product)\n",
    "\n",
    "\"\"\"for MonthSerie in MonthSeries_option:\n",
    "        XY=set_Data(Product,Data_Core,MonthSeries)\n",
    "        y=set_y(Product,XY)\n",
    "        Z=set_z(Product,XY)\n",
    "        X=set_X(Product,XY)\n",
    "\n",
    "        values = X.values\n",
    "        values = values.astype('float32')\n",
    "        scaler_X= MinMaxScaler(feature_range=(0, 1))\n",
    "\n",
    "        scaled_value_X = scaler_X.fit_transform(values)\n",
    "        scaled_value_X = pd.DataFrame(data=scaled_value_X[:,:])\n",
    "\n",
    "        values = y.values\n",
    "        values = values.astype('float32')\n",
    "        scaler_y= MinMaxScaler(feature_range=(0, 1))\n",
    "\n",
    "        scaled_value_y = scaler_y.fit_transform(values)\n",
    "        scaled_value_y = pd.DataFrame(data=scaled_value_y)\n",
    "    \n",
    "        X_train, X_test, y_train, y_test = train_test_split(scaled_value_X,scaled_value_y,test_size=0.2,random_state=42,stratify=Z['Month'])\n",
    "\n",
    "    \n",
    "        sonuc=pd.concat([sonuc,calıstır_nn(Product,MonthSerie,ScalerType)])\n",
    "\"\"\"\n",
    "sonuc.to_excel('{}.xlsx'.format(filename),index = False)"
   ]
  },
  {
   "cell_type": "code",
   "execution_count": null,
   "metadata": {
    "collapsed": true
   },
   "outputs": [],
   "source": [
    "# Diğer Deneme Calısmaları\n",
    "from scipy.stats import randint as sp_randint\n",
    "from sklearn import svm, datasets\n",
    "from sklearn.model_selection import GridSearchCV\n",
    "from sklearn.model_selection import RandomizedSearchCV"
   ]
  },
  {
   "cell_type": "code",
   "execution_count": null,
   "metadata": {
    "collapsed": true
   },
   "outputs": [],
   "source": [
    "# RandomizedSearch ve Grid Search"
   ]
  },
  {
   "cell_type": "raw",
   "metadata": {},
   "source": [
    "clf = RandomForestRegressor()\n",
    "clf = RandomForestClassifier(n_estimators=20)\n",
    "rfc=RandomForestRegressor()\n",
    "# Utility function to report best scores\n",
    "def report(results, n_top=3):\n",
    "    for i in range(1, n_top + 1):\n",
    "        candidates = np.flatnonzero(results['rank_test_score'] == i)\n",
    "        for candidate in candidates:\n",
    "            print(\"Model with rank: {0}\".format(i))\n",
    "            print(\"Mean validation score: {0:.3f} (std: {1:.3f})\".format(\n",
    "                  results['mean_test_score'][candidate],\n",
    "                  results['std_test_score'][candidate]))\n",
    "            print(\"Parameters: {0}\".format(results['params'][candidate]))\n",
    "            print(\"\")"
   ]
  },
  {
   "cell_type": "code",
   "execution_count": null,
   "metadata": {
    "collapsed": true
   },
   "outputs": [],
   "source": [
    "   \n",
    "# specify parameters and distributions to sample from\n",
    "param_dist = {\"max_depth\": [3, None],\n",
    "              \"max_features\": [\"auto\", \"sqrt\",\"log2\",None],\n",
    "              \"min_samples_split\": sp_randint(2,11),\n",
    "#              \"min_weight_fraction_leaf\": sp_randint(0., 0.5),\n",
    "              \"min_samples_leaf\": sp_randint(1, 11),\n",
    "              \"bootstrap\": [True, False],\n",
    "#              \"warm_start\": [True, False],\n",
    "#              \"random_state\": sp_randint(2, 20)\n",
    "             }"
   ]
  },
  {
   "cell_type": "code",
   "execution_count": null,
   "metadata": {
    "collapsed": true
   },
   "outputs": [],
   "source": [
    "# run randomized search\n",
    "n_iter_search = 50\n",
    "random_search = RandomizedSearchCV(clf, param_distributions=param_dist,\n",
    "                                   n_iter=n_iter_search)\n",
    "start = time()\n",
    "random_search.fit(X, y)\n",
    "print(\"RandomizedSearchCV took %.2f seconds for %d candidates\"\n",
    "      \" parameter settings.\" % ((time() - start), n_iter_search))\n",
    "report(random_search.cv_results_)"
   ]
  },
  {
   "cell_type": "code",
   "execution_count": null,
   "metadata": {
    "collapsed": true
   },
   "outputs": [],
   "source": [
    "# use a full grid over all parameters\n",
    "param_grid = {\n",
    "\n",
    "#              \"max_depth\": [3, None],\n",
    "#              \"max_features\": [\"auto\", \"sqrt\",\"log2\",None],\n",
    "#              \"min_samples_split\": [2, 3, 10],\n",
    "#              \"min_samples_split\": [2],\n",
    "#              \"min_samples_leaf\": [1, 3, 10, 20],\n",
    "#              \"bootstrap\": [True, False],\n",
    "#              \"criterion\": [\"gini\", \"entropy\"]\n",
    "    \"n_estimators\":[200, 300, 350, 400,1000],\n",
    "    \"min_samples_leaf\" :[1,5,10],\n",
    "    \"random_state\" : [10],\n",
    "    \"max_features\":[1,2]\n",
    "\n",
    "}\n",
    "\n",
    "\n",
    "\n",
    "    \n",
    "#    \"n_estimators\":[200, 300, 350, 400,1000],\n",
    "#    \"min_samples_leaf\" :[1,5,10],\n",
    "#    \"random_state\" : [10],\n",
    "#    \"max_features\":[3,5,10,20],\n",
    "\n",
    "\n",
    "# run grid search\n",
    "grid_search = GridSearchCV(clf, param_grid=param_grid)\n",
    "start = time()\n",
    "grid_search.fit(X, y)\n",
    "\n",
    "print(\"GridSearchCV took %.2f seconds for %d candidate parameter settings.\"\n",
    "      % (time() - start, len(grid_search.cv_results_['params'])))\n",
    "report(grid_search.cv_results_)"
   ]
  },
  {
   "cell_type": "code",
   "execution_count": null,
   "metadata": {
    "collapsed": true
   },
   "outputs": [],
   "source": []
  }
 ],
 "metadata": {
  "kernelspec": {
   "display_name": "Python 3",
   "language": "python",
   "name": "python3"
  },
  "language_info": {
   "codemirror_mode": {
    "name": "ipython",
    "version": 3
   },
   "file_extension": ".py",
   "mimetype": "text/x-python",
   "name": "python",
   "nbconvert_exporter": "python",
   "pygments_lexer": "ipython3",
   "version": "3.6.2"
  }
 },
 "nbformat": 4,
 "nbformat_minor": 2
}
