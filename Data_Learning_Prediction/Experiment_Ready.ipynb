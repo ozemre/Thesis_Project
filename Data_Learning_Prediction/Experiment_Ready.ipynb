{
 "cells": [
  {
   "cell_type": "code",
   "execution_count": 1,
   "metadata": {
    "collapsed": true
   },
   "outputs": [],
   "source": [
    "from __future__ import absolute_import\n",
    "from __future__ import division\n",
    "from __future__ import print_function\n",
    "\n",
    "import numpy as np\n",
    "import pandas as pd\n",
    "from time import time\n",
    "import matplotlib.pyplot as plt\n",
    "#from sklearn.cross_validation import train_test_split\n",
    "import seaborn as sns\n",
    "%matplotlib inline\n",
    "\n",
    "\n",
    "import sys\n",
    "import warnings\n",
    "\n",
    "if not sys.warnoptions:\n",
    "    warnings.simplefilter(\"ignore\")"
   ]
  },
  {
   "cell_type": "code",
   "execution_count": 2,
   "metadata": {
    "collapsed": true
   },
   "outputs": [],
   "source": [
    "from sklearn.model_selection import train_test_split"
   ]
  },
  {
   "cell_type": "code",
   "execution_count": 3,
   "metadata": {
    "collapsed": true
   },
   "outputs": [],
   "source": [
    "\n",
    "\n",
    "import os\n",
    "import sys\n",
    "os.chdir('C:/Users/murat.ozemre/Desktop/Thesis_Project/Data_Sources_and_Preparation')\n",
    "#os.chdir('C:/Users/murat.ozemre/Documents/MOZEMRE-OZEL/Doktora/2017 Tez/Veri Analizi/Ver 3 Tez Izleme Calısmaları')"
   ]
  },
  {
   "cell_type": "code",
   "execution_count": 4,
   "metadata": {},
   "outputs": [
    {
     "name": "stdout",
     "output_type": "stream",
     "text": [
      "statsmodels: 0.8.0\n"
     ]
    }
   ],
   "source": [
    "from sklearn import metrics\n",
    "import statsmodels\n",
    "print('statsmodels: %s' % statsmodels.__version__)"
   ]
  },
  {
   "cell_type": "code",
   "execution_count": 5,
   "metadata": {},
   "outputs": [
    {
     "data": {
      "text/plain": [
       "'12-27 13:40'"
      ]
     },
     "execution_count": 5,
     "metadata": {},
     "output_type": "execute_result"
    }
   ],
   "source": [
    "from datetime import datetime\n",
    "datetime.now().strftime('%m-%d %H:%M')"
   ]
  },
  {
   "cell_type": "code",
   "execution_count": 22,
   "metadata": {},
   "outputs": [],
   "source": [
    "from math import sqrt\n",
    "from math import log\n",
    "from sklearn.ensemble import RandomForestRegressor"
   ]
  },
  {
   "cell_type": "code",
   "execution_count": 7,
   "metadata": {
    "collapsed": true
   },
   "outputs": [],
   "source": [
    "from sklearn.preprocessing import MinMaxScaler\n",
    "from sklearn.preprocessing import minmax_scale\n",
    "from sklearn.preprocessing import MaxAbsScaler\n",
    "from sklearn.preprocessing import StandardScaler\n",
    "from sklearn.preprocessing import RobustScaler\n",
    "from sklearn.preprocessing import Normalizer"
   ]
  },
  {
   "cell_type": "code",
   "execution_count": 8,
   "metadata": {
    "collapsed": true
   },
   "outputs": [],
   "source": [
    "#Scaler_Type_Options = ['Normalizer', 'MinMaxScaler','MaxAbsScaler','RobustScaler','StandardScaler' ]\n",
    "Scaler_Type_Options = [ 'MinMaxScaler' ]\n",
    "Scalertype=Scaler_Type_Options[0]\n",
    "Product_Type_Options = [841810,841840,841850]"
   ]
  },
  {
   "cell_type": "code",
   "execution_count": 9,
   "metadata": {},
   "outputs": [
    {
     "data": {
      "text/plain": [
       "'MinMaxScaler'"
      ]
     },
     "execution_count": 9,
     "metadata": {},
     "output_type": "execute_result"
    }
   ],
   "source": [
    "Scalertype"
   ]
  },
  {
   "cell_type": "code",
   "execution_count": 10,
   "metadata": {
    "collapsed": true
   },
   "outputs": [],
   "source": [
    "Product=Product_Type_Options[0] #841810\n",
    "Exp_Country='TUR' # 'CHN'\n",
    "Imp_Country='GBR'\n",
    "\n",
    "if Exp_Country=='CHN':\n",
    "    Currency='CNY'\n",
    "    EXP0='TUR'   \n",
    "elif Exp_Country=='TUR':\n",
    "    Currency='TRY'\n",
    "    EXP0='CHN'   "
   ]
  },
  {
   "cell_type": "code",
   "execution_count": 11,
   "metadata": {},
   "outputs": [
    {
     "data": {
      "text/plain": [
       "841810"
      ]
     },
     "execution_count": 11,
     "metadata": {},
     "output_type": "execute_result"
    }
   ],
   "source": [
    "Product"
   ]
  },
  {
   "cell_type": "code",
   "execution_count": 12,
   "metadata": {},
   "outputs": [],
   "source": [
    "\n",
    "\n",
    "MonthSeries=\"3\"\n",
    "MonthSeries_option=[\"1\",\"2\",\"3\",\"6\",\"12\"]\n",
    "    \n",
    "    "
   ]
  },
  {
   "cell_type": "code",
   "execution_count": 13,
   "metadata": {},
   "outputs": [],
   "source": [
    "Data_Core1 = pd.ExcelFile('Data_{}_{}_{}.xlsx'.format(Exp_Country,Imp_Country,Product))\n",
    "y = Data_Core1.parse('Y', header=0,index_col=None, na_values=['NA'])['{}_{}_{}'.format(Exp_Country,Imp_Country,Product)]\n",
    "Z = Data_Core1.parse('Y', header=0,index_col=None, na_values=['NA'])[['Date','Year','Month']]\n",
    "\n",
    "X = Data_Core1.parse('X{}'.format(MonthSeries), header=0,index_col=None, na_values=['NA'])\n",
    "X.drop(['Date','Year','Month'], axis=1, inplace=True)\n",
    "X_Column_Names=list(X.columns.values)\n",
    "n_feature=X.shape[1]\n",
    "\n",
    "Xhat = Data_Core1.parse('Xhat', header=0,index_col=None, na_values=['NA'])\n",
    "Xhat.drop(['Date','Year','Month'], axis=1, inplace=True)\n"
   ]
  },
  {
   "cell_type": "code",
   "execution_count": 14,
   "metadata": {
    "collapsed": true
   },
   "outputs": [],
   "source": [
    "def Xscaler(X,y,scalertype):\n",
    "\n",
    "    if scalertype==\"Normalizer\":\n",
    "        X=pd.DataFrame(Normalizer().fit_transform(X,y))\n",
    "        print(\"normalize\")\n",
    "    elif scalertype==\"MinMaxScaler\":\n",
    "        X=pd.DataFrame(MinMaxScaler().fit_transform(X,y))\n",
    "        print(\"minmax\")\n",
    "    elif scalertype==\"MaxAbsScaler\":\n",
    "        X=pd.DataFrame(MaxAbsScaler().fit_transform(X,y))\n",
    "        print(\"maxabs\")\n",
    "    elif scalertype==\"RobustScaler\":\n",
    "        X=pd.DataFrame(RobustScaler().fit_transform(X,y))\n",
    "    elif scalertype==\"StandardScaler\":\n",
    "        X=pd.DataFrame(StandardScaler().fit_transform(X,y))\n",
    "    return X"
   ]
  },
  {
   "cell_type": "markdown",
   "metadata": {},
   "source": [
    "Scaling Min Max and then spilt test and train according stratify to month."
   ]
  },
  {
   "cell_type": "code",
   "execution_count": 15,
   "metadata": {
    "collapsed": true,
    "scrolled": true
   },
   "outputs": [],
   "source": [
    "def X_Y_scaler_train_test_Split(X,y,Z,random=42):\n",
    "\n",
    "    values = X.values\n",
    "    values = values.astype('float32')\n",
    "    X_Column_X_Column_Names=X.columns\n",
    "    \n",
    "    scaler_X= MinMaxScaler(feature_range=(0, 1))\n",
    "\n",
    "    scaled_value_X = scaler_X.fit_transform(values)\n",
    "    scaled_value_X = pd.DataFrame(data=scaled_value_X[:,:])\n",
    "    scaled_value_X.columns=X_Column_X_Column_Names\n",
    "    \n",
    "    values = y.values\n",
    "    values = values.astype('float32')\n",
    "    values = values.reshape(-1, 1)\n",
    "    \n",
    "    scaler_y= MinMaxScaler(feature_range=(0, 1))\n",
    "\n",
    "    scaled_value_y = scaler_y.fit_transform(values)\n",
    "    scaled_value_y = pd.DataFrame(data=scaled_value_y)\n",
    "\n",
    "    X_train, X_test, y_train, y_test = train_test_split(scaled_value_X,scaled_value_y,test_size=0.2,random_state=42,stratify=Z['Month'])\n",
    "\n",
    "    return X_train, X_test, y_train, y_test, scaler_X, scaler_y, scaled_value_X, scaled_value_y\n"
   ]
  },
  {
   "cell_type": "code",
   "execution_count": 46,
   "metadata": {
    "collapsed": true
   },
   "outputs": [],
   "source": [
    "def inverse_scale_and_graph_Y_predict_and_test(y_predict_test,y_test,scaler_y,plot_on):\n",
    "\n",
    "    y_predict_test=y_predict_test.reshape(-1, 1)\n",
    "    inv_y_predict_test = scaler_y.inverse_transform(y_predict_test)\n",
    "    predictions=inv_y_predict_test\n",
    "\n",
    "  \n",
    "    inv_y_test = scaler_y.inverse_transform(y_test)\n",
    "    inv_y_test = inv_y_test[:,0]\n",
    "\n",
    "    MAE=int(metrics.mean_absolute_error(inv_y_test, predictions))\n",
    "    MSE=int(sqrt(metrics.mean_squared_error(inv_y_test, predictions)))\n",
    "    R2=int(1000*(metrics.r2_score(inv_y_test, predictions)))/1000\n",
    "    \n",
    "    \n",
    "    print('MAE',MAE, 'MSE',MSE, 'R2',R2 )\n",
    "    \n",
    "    if plot_on =='YES':\n",
    "        plt.scatter(inv_y_test,predictions)\n",
    "    \n",
    "    return MAE,MSE,R2\n",
    "    \n"
   ]
  },
  {
   "cell_type": "code",
   "execution_count": 47,
   "metadata": {},
   "outputs": [
    {
     "data": {
      "text/plain": [
       "-0.216"
      ]
     },
     "execution_count": 47,
     "metadata": {},
     "output_type": "execute_result"
    }
   ],
   "source": [
    "a=[1,2,3,4,5]\n",
    "b=[2,2,2,2,2]\n",
    "\n",
    "a=np.log(a)\n",
    "b=np.log(b)\n",
    "R2=int(1000*(metrics.r2_score(a , b )))/1000\n",
    "R2"
   ]
  },
  {
   "cell_type": "code",
   "execution_count": 17,
   "metadata": {
    "collapsed": true
   },
   "outputs": [],
   "source": [
    "Scaled_Train_Test_Split=X_Y_scaler_train_test_Split(X,y,Z)\n",
    "\n",
    "X_train = Scaled_Train_Test_Split[0]\n",
    "X_test = Scaled_Train_Test_Split[1]\n",
    "y_train = Scaled_Train_Test_Split[2]\n",
    "y_test = Scaled_Train_Test_Split[3]\n",
    "scaler_X = Scaled_Train_Test_Split[4]  \n",
    "scaler_y = Scaled_Train_Test_Split[5]\n",
    "scaled_value_X=Scaled_Train_Test_Split[6]\n",
    "scaled_value_y=Scaled_Train_Test_Split[7]"
   ]
  },
  {
   "cell_type": "code",
   "execution_count": null,
   "metadata": {
    "collapsed": true
   },
   "outputs": [],
   "source": []
  },
  {
   "cell_type": "code",
   "execution_count": 18,
   "metadata": {
    "collapsed": true
   },
   "outputs": [],
   "source": [
    "# For Random Forest with variable tuning \n",
    "\n",
    "def randomforest(X_train, X_test, y_train, y_test,scaler_y,est=10,min_leaf=1,random=50,feat='auto',max_leaf=None,min_weight=0.0,min_impurity=1e-07):\n",
    "    from sklearn.model_selection import cross_val_score   \n",
    "    from sklearn.model_selection import cross_val_predict\n",
    "    \n",
    "    rfc=RandomForestRegressor(n_estimators=est,\n",
    "                              min_samples_leaf=min_leaf,\n",
    "                              random_state =random,\n",
    "                              max_features=feat,\n",
    "                              max_leaf_nodes=max_leaf,\n",
    "                              min_weight_fraction_leaf =min_weight,\n",
    "                              min_impurity_decrease=min_impurity\n",
    "                            )\n",
    "   \n",
    "    RandomForestRegressor.fit(rfc,X_train,y_train)\n",
    "\n",
    "    y_predict_test = rfc.predict(X_test)\n",
    "    y_predict_train = rfc.predict(X_train)\n",
    "    \n",
    "    result_test=inverse_scale_and_graph_Y_predict_and_test(y_predict_test,y_test,scaler_y,'NO')\n",
    "    result_train=inverse_scale_and_graph_Y_predict_and_test(y_predict_train,y_train,scaler_y,'NO')\n",
    "    \n",
    "    return result_test, result_train\n",
    "\n",
    "\n"
   ]
  },
  {
   "cell_type": "code",
   "execution_count": 45,
   "metadata": {
    "scrolled": true
   },
   "outputs": [
    {
     "name": "stdout",
     "output_type": "stream",
     "text": [
      "MAE 2569 MSE 3522 R2 0.444\n"
     ]
    },
    {
     "data": {
      "text/plain": [
       "(2569, 3522, 0.444)"
      ]
     },
     "execution_count": 45,
     "metadata": {},
     "output_type": "execute_result"
    },
    {
     "data": {
      "image/png": "[encoded data removed]",
      "text/plain": [
       "<matplotlib.figure.Figure at 0x1cbc0c359b0>"
      ]
     },
     "metadata": {},
     "output_type": "display_data"
    }
   ],
   "source": [
    "from sklearn.tree import DecisionTreeRegressor\n",
    "\n",
    "# Decison tree regressor model\n",
    "dt = DecisionTreeRegressor()\n",
    "\n",
    "# Decison tree regressor model train\n",
    "DecisionTreeRegressor.fit(dt,X_train,y_train)\n",
    "\n",
    "# Decison tree regressor model predict\n",
    "y_predict_test = dt.predict(X_test)\n",
    "\n",
    "# Compare predicted Y and real Y \n",
    "inverse_scale_and_graph_Y_predict_and_test(y_predict_test,y_test,scaler_y,'YES')\n"
   ]
  },
  {
   "cell_type": "code",
   "execution_count": null,
   "metadata": {},
   "outputs": [],
   "source": [
    "# Random Foest Regressor model\n",
    "rfc=RandomForestRegressor(n_estimators=3000)\n",
    "\n",
    "# Random Foest Regressor model train\n",
    "RandomForestRegressor.fit(rfc,X_train,y_train)\n",
    "\n",
    "# Random Foest Regressor mode predict\n",
    "y_predict_test = rfc.predict(X_test)\n",
    "\n",
    "# Compare predicted Y and real Y \n",
    "inverse_scale_and_graph_Y_predict_and_test(y_predict_test,y_test,scaler_y,'YES')"
   ]
  },
  {
   "cell_type": "code",
   "execution_count": null,
   "metadata": {},
   "outputs": [],
   "source": [
    "rfc.feature_importances_"
   ]
  },
  {
   "cell_type": "code",
   "execution_count": null,
   "metadata": {},
   "outputs": [],
   "source": [
    "rfc.score(X,y)"
   ]
  },
  {
   "cell_type": "code",
   "execution_count": null,
   "metadata": {
    "scrolled": false
   },
   "outputs": [],
   "source": [
    "# 1 Version for Feature selection\n",
    "# Internetten bulunan kod blogu\n",
    "# Random Forest'a gore Feature Importance Hesaplama\n",
    "# Butun veri setinin girildiği ona göre önemli olan özelliklerin bulundugu kod parçası\n",
    "\n",
    "ScalerType = Scalertype=Scaler_Type_Options[0]\n",
    "n_sample=len(X)\n",
    "\n",
    "rfc=RandomForestRegressor(n_estimators=3000)\n",
    "RandomForestRegressor.fit(rfc,scaled_value_X,scaled_value_y)\n",
    "\n",
    "\n",
    "predictions = rfc.predict(X_test)\n",
    "print('MAE',int(metrics.mean_absolute_error(y_test, predictions)),\n",
    "      'MSE',int(sqrt(metrics.mean_squared_error(y_test, predictions))),\n",
    "      'R2',int(1000*(metrics.r2_score(y_test, predictions)))/1000\n",
    "     )\n",
    "\n",
    "\n",
    "importances = rfc.feature_importances_\n",
    "std = np.std([tree.feature_importances_ for tree in rfc.estimators_],axis=0)\n",
    "\n",
    "indices = np.argsort(importances)[::-1]\n",
    "\n",
    "\n",
    "# Print the feature ranking\n",
    "print(\"Feature ranking:\")\n",
    "\n",
    "for f in range(n_feature):\n",
    "    print(\"%d. feature %s %d (%f) %f\" % (f+1, X_Column_Names[indices[f]], indices[f], importances[indices[f]],std[indices[f]]))\n",
    "\n",
    "# Plot the feature importances of the forest\n",
    "plt.figure()\n",
    "plt.title(\"{} and -{} Month Feature Importances and Standart Deviation of Features with 3000 Different Estimations\".format(Product,MonthSeries))\n",
    "plt.bar(range(n_feature), importances[indices],\n",
    "       color=\"r\", yerr=std[indices], align=\"center\")\n",
    "plt.xticks(range(n_feature), indices,rotation=90)\n",
    "plt.xlim([-1, n_feature])\n",
    "\n",
    "fig_size = plt.rcParams[\"figure.figsize\"]\n",
    "fig_size[0] = 15\n",
    "fig_size[1] = 10\n",
    "plt.rcParams[\"figure.figsize\"] = fig_size\n",
    "plt.savefig(\"Plots_Feature_Selection/{} and -{} Month Feature Importances and Standart Deviation of Features with 3000 Different Estimations.png\".format(Product,MonthSeries), format='png', dpi=300)\n",
    "\n",
    "plt.show()"
   ]
  },
  {
   "cell_type": "code",
   "execution_count": null,
   "metadata": {
    "scrolled": true
   },
   "outputs": [],
   "source": [
    "#  2 Version for Feature selection \n",
    "# Internetten bulunan kod blogu http://scikit-learn.org/stable/auto_examples/ensemble/plot_forest_importances.html\n",
    "# Feature Importance Hesaplama\n",
    "# Burada asıl özellik bir veri seti yaratılıyor make_regression ile. Ve oaradakilere dogru çalışıp çalışmadığı test ediliyor.\n",
    "# Butun veri setinin girildiği ona göre önemli olan özelliklerin bulundugu kod parçası\n",
    "\n",
    "from sklearn.datasets import make_regression\n",
    "\n",
    "\n",
    "n_sample=len(X)\n",
    "\n",
    "number_of_split=100\n",
    "number_of_row=29\n",
    "\n",
    "random_state_options = np.arange(0,number_of_split)\n",
    "y_predict= np.ones((number_of_row, number_of_split))\n",
    "\n",
    "feature_indices = np.ones((n_feature, number_of_split))\n",
    "feature_importances=np.ones((n_feature, number_of_split))\n",
    "feature_indices_score=np.ones((n_feature))\n",
    "feature_importances_score=np.ones((n_feature))\n",
    "j=0\n",
    "\n",
    "\n",
    "# For different split sets Random Forest Regressor runs.\n",
    "\n",
    "for random_state_i in random_state_options:\n",
    "\n",
    "    X_train, X_test, y_train, y_test = train_test_split(scaled_value_X,scaled_value_y,test_size=0.2,random_state=random_state_i,stratify=Z['Month'])\n",
    "\n",
    "    \n",
    "\n",
    "    rfc=RandomForestRegressor(n_estimators=30)\n",
    "    RandomForestRegressor.fit(rfc,X_train,y_train)\n",
    "\n",
    "    y_predict[:,j] = rfc.predict(X_test)\n",
    "    \n",
    "    result=inverse_scale_and_graph_Y_predict_and_test (y_predict[:,j],y_test,scaler_y,'NO')\n",
    "    \n",
    "    importances = rfc.feature_importances_\n",
    "    std = np.std([tree.feature_importances_ for tree in rfc.estimators_],axis=0)\n",
    "\n",
    "    indices = np.argsort(importances)[::-1]\n",
    "    feature_indices[:,j]=indices\n",
    "    feature_importances[:,j]=importances\n",
    "    j=j+1\n",
    "    \n",
    "\n",
    "print (\"Features scores:\")    \n",
    "for i in range(n_feature):\n",
    "    feature_indices_score[i]=0\n",
    "    feature_importances_score[i]=0\n",
    "    for j in range(number_of_split):\n",
    "        \n",
    "        indice_coeff=feature_indices[i,j]\n",
    "        importances_coeff=feature_importances[i,j]\n",
    "        \n",
    "        feature_indices_score[i]=feature_indices_score[i]+(indice_coeff)\n",
    "        feature_importances_score[i]=feature_importances_score[i]+(importances_coeff)\n",
    "        \n",
    "#        print('feat=',i,'#ofsplit=',j,'tot_indice',feature_indices_score[i],\n",
    "#              'indice=',indice_coeff,'tot_importan=',feature_importances_score[i],'importan',importances_coeff )\n",
    "\n",
    "    print( i,X_Column_Names[i])#,feature_indices_score[i],'number_of_split',j+1) #,X_Column_Names[feature_indices[i,j]])\n",
    "    \n",
    "scored_feature_indices = np.argsort(feature_indices_score)\n",
    "scored_feature_importances = np.argsort(feature_importances_score)\n",
    "    \n",
    " \n",
    "    \n",
    "    \n",
    "# Plot the feature importances of the forest\n",
    "plt.gcf().clear()\n",
    "plt.figure()\n",
    "plt.title(\"{} and -{} Month Cumulative Feature Importances with {} Different Splits.png\".format(Product,MonthSeries,number_of_split))\n",
    "plt.bar(range(n_feature), feature_importances_score[scored_feature_importances][::-1],\n",
    "       color=\"r\",  align=\"center\")\n",
    "plt.xticks(range(n_feature), scored_feature_importances[::-1],rotation=90)\n",
    "plt.xlim([-1, n_feature])\n",
    "\n",
    "fig_size = plt.rcParams[\"figure.figsize\"]\n",
    "fig_size[0] = 20\n",
    "fig_size[1] = 12\n",
    "plt.rcParams[\"figure.figsize\"] = fig_size\n",
    "plt.savefig(\"Plots_Feature_Selection/{} and -{} Month Cumulative Feature Importances with {} Different Splits.png\".format(Product,MonthSeries,number_of_split), format='png', dpi=300)\n",
    "\n",
    "plt.show()"
   ]
  },
  {
   "cell_type": "code",
   "execution_count": null,
   "metadata": {
    "scrolled": true
   },
   "outputs": [],
   "source": [
    "# 3 Version for Train Test Split and Feature selection \n",
    "# http://blog.datadive.net/selecting-good-features-part-iii-random-forests/\n",
    "# Use both RF Importances and R2 Accuracy with different number of splits\n",
    "\n",
    "from sklearn.cross_validation import ShuffleSplit\n",
    "from sklearn.metrics import r2_score\n",
    "from collections import defaultdict\n",
    "from operator import itemgetter, attrgetter\n",
    "\n",
    "def getKey(item):\n",
    "    return item[0]\n",
    "\n",
    "rf = RandomForestRegressor()\n",
    "\n",
    "\n",
    "number_of_split=100\n",
    "number_of_row=29\n",
    "\n",
    "\n",
    "\n",
    "random_state_options = np.arange(0,number_of_split)\n",
    "predictions= np.ones((number_of_row, number_of_split))\n",
    "y_predict= np.ones((number_of_row, number_of_split))\n",
    "\n",
    "feature_indices = np.ones((n_feature, number_of_split))\n",
    "feature_importances=np.ones((n_feature, number_of_split))\n",
    "feature_indices_score=np.ones((n_feature))\n",
    "feature_importances_score=np.ones((n_feature))\n",
    "\n",
    "scores = defaultdict(list)\n",
    "#feature_indices = \n",
    "feature_std = np.ones((n_feature, number_of_split))\n",
    "feature_score=np.zeros((n_feature))\n",
    "\n",
    "#R2=defaultdict(list)\n",
    "R2=np.ones(number_of_split)\n",
    "j=0\n",
    "\n",
    "sonuc =[]\n",
    "\n",
    "\n",
    "for random_state_i in random_state_options:\n",
    "\n",
    "    X_train, X_test, Y_train, Y_test = train_test_split(X,y,test_size=0.2,random_state=random_state_i,stratify=Z['Month'])\n",
    "\n",
    "    RandomForestRegressor.fit(rf,X_train, Y_train)    \n",
    "\n",
    "    y_predict[:,j] = rf.predict(X_test)\n",
    "    \n",
    "    acc = int(1000*(r2_score(Y_test, rf.predict(X_test))))/1000\n",
    "    R2[j] = int(1000*(r2_score(Y_test, rf.predict(X_test))))/1000\n",
    "        \n",
    "    importances = rf.feature_importances_\n",
    "    indices = np.argsort(importances)[::-1]\n",
    "    std = np.std([tree.feature_importances_ for tree in rf.estimators_],axis=0)\n",
    "\n",
    "\n",
    "    feature_importances[:,j]=importances\n",
    "    feature_indices[:,j]=indices\n",
    "    feature_std [:,j]=std\n",
    "\n",
    "    j=j+1\n",
    "\n",
    "R2_Adj=1-R2\n",
    "score_coefficient=n_feature*(R2_Adj - np.max(R2_Adj))/-np.ptp(R2_Adj)\n",
    "\n",
    "    \n",
    "print (\"Features scores:\")    \n",
    "for i in range(n_feature):\n",
    "    feature_score[i]=0\n",
    "    feature_indices_score[i]=0\n",
    "    feature_importances_score[i]=0\n",
    "    \n",
    "    for j in range(number_of_split):\n",
    "        \n",
    "        indice_coeff=feature_indices[i,j]+1\n",
    "        importances_coeff=int((feature_importances[i,j]*10000))/10000\n",
    "        score_coeff=int((score_coefficient[j]+1)*10)/10\n",
    "\n",
    "        feature_indices_score[i]=feature_indices_score[i]+(indice_coeff)\n",
    "        feature_importances_score[i]=feature_importances_score[i]+(importances_coeff)\n",
    "\n",
    "        score=score_coeff*(importances_coeff)\n",
    "        feature_score[i]=feature_score[i]+score\n",
    "\n",
    "\n",
    "#    print( feature_score[i],'number_of_split',j+1) #,X_Column_Names[feature_indices[i,j]])\n",
    "    \n",
    "scored_feature_indices = (np.argsort(feature_score)[::-1])\n",
    "\n",
    "for f in range(n_feature):\n",
    "    print(\"%d. feature %s %d (%f) %f\" % (f+1, X_Column_Names[scored_feature_indices[f]], scored_feature_indices[f], importances[scored_feature_indices[f]],std[scored_feature_indices[f]]))\n",
    "\n",
    "\n",
    "# Plot the feature importances of the forest\n",
    "plt.gcf().clear()\n",
    "plt.figure()\n",
    "plt.title(\"{} and {} Month Cumulative Feature and Score Importances with {} Different Splits\".format(Product,MonthSeries,number_of_split))\n",
    "plt.bar(range(n_feature), feature_score[scored_feature_indices],\n",
    "       color=\"r\",  align=\"center\")\n",
    "plt.xticks(range(n_feature), scored_feature_indices,rotation=90)\n",
    "plt.xlim([-1, n_feature])\n",
    "\n",
    "#fig_size = plt.rcParams[\"figure.figsize\"]\n",
    "#fig_size[0] = 20\n",
    "#fig_size[1] = 12\n",
    "#plt.rcParams[\"figure.figsize\"] = fig_size\n",
    "plt.savefig(\"Plots_Feature_Selection/{} and {} Month Cumulative Feature and Score Importances with {} Different Splits.png\".format(Product,MonthSeries,number_of_split), format='png', dpi=300)\n",
    "\n",
    "plt.show()\n",
    "\n",
    "\n",
    "        "
   ]
  },
  {
   "cell_type": "code",
   "execution_count": null,
   "metadata": {
    "scrolled": true
   },
   "outputs": [],
   "source": [
    "# Calling function by single parameter set \n",
    "a=randomforest(X_train, X_test, y_train, y_test,scaler_y,200,5,10,10,5,0.1,0.01)"
   ]
  },
  {
   "cell_type": "code",
   "execution_count": null,
   "metadata": {
    "collapsed": true
   },
   "outputs": [],
   "source": [
    "# By using Ver 3 for Feature Selection results\n",
    "# Percentile variable takes the most important variables according to its feature score and omits the others.\n",
    "# ie.25 percentile takes %75 importance variables and omits %25 least important features\n",
    "\n",
    "percentile=25\n",
    "threshold_for_feature_selection=np.percentile(feature_score[scored_feature_indices], percentile)\n",
    "X_threshold=X.iloc[:,scored_feature_indices[feature_score[scored_feature_indices]>threshold_for_feature_selection]]\n",
    "\n",
    "# Train Test Split after percentile selection\n",
    "\n",
    "Scaled_Train_Test_Split=X_Y_scaler_train_test_Split(X_threshold,y,Z)\n",
    "\n",
    "X_train = Scaled_Train_Test_Split[0]\n",
    "X_test = Scaled_Train_Test_Split[1]\n",
    "y_train = Scaled_Train_Test_Split[2]\n",
    "y_test = Scaled_Train_Test_Split[3]\n",
    "scaler_X = Scaled_Train_Test_Split[4]  \n",
    "scaler_y = Scaled_Train_Test_Split[5]\n",
    "scaled_value_X=Scaled_Train_Test_Split[6]\n",
    "scaled_value_y=Scaled_Train_Test_Split[7]\n"
   ]
  },
  {
   "cell_type": "code",
   "execution_count": null,
   "metadata": {},
   "outputs": [],
   "source": [
    "# Random Foest Regressor model\n",
    "rfc=RandomForestRegressor(n_estimators=3000,random_state=50)\n",
    "\n",
    "# Random Foest Regressor model train\n",
    "RandomForestRegressor.fit(rfc,X_train,y_train)\n",
    "\n",
    "# Random Foest Regressor mode predict\n",
    "y_predict_test = rfc.predict(X_test)\n",
    "\n",
    "# Compare predicted Y and real Y \n",
    "inverse_scale_and_graph_Y_predict_and_test(y_predict_test,y_test,scaler_y,'NO')"
   ]
  },
  {
   "cell_type": "code",
   "execution_count": null,
   "metadata": {},
   "outputs": [],
   "source": [
    "randomforest(X_train, X_test, y_train, y_test,scaler_y,est=3000,random=50)"
   ]
  }
 ],
 "metadata": {
  "kernelspec": {
   "display_name": "Python 3",
   "language": "python",
   "name": "python3"
  },
  "language_info": {
   "codemirror_mode": {
    "name": "ipython",
    "version": 3
   },
   "file_extension": ".py",
   "mimetype": "text/x-python",
   "name": "python",
   "nbconvert_exporter": "python",
   "pygments_lexer": "ipython3",
   "version": "3.6.2"
  }
 },
 "nbformat": 4,
 "nbformat_minor": 2
}
