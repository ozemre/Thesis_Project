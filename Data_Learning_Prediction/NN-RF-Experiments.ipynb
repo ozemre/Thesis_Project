{
 "cells": [
  {
   "cell_type": "code",
   "execution_count": 56,
   "metadata": {},
   "outputs": [],
   "source": [
    "\n",
    "from __future__ import print_function\n",
    "import os\n",
    "import sys\n",
    "\n",
    "import numpy as np\n",
    "import pandas as pd\n",
    "\n",
    "import datetime\n",
    "from math import sqrt\n",
    "from math import exp\n",
    "import math\n",
    "from numpy import concatenate\n",
    "from matplotlib import pyplot\n",
    "from pandas import read_csv\n",
    "from pandas import DataFrame\n",
    "from pandas import concat\n",
    "from sklearn.preprocessing import MinMaxScaler\n",
    "from sklearn.preprocessing import LabelEncoder\n",
    "from sklearn.metrics import mean_squared_error\n",
    "from sklearn import metrics\n",
    "from sklearn.ensemble import RandomForestRegressor\n",
    "from keras.models import Sequential\n",
    "from keras.models import Model\n",
    "from keras.models import load_model\n",
    "from keras.callbacks import ModelCheckpoint\n",
    "from keras.callbacks import ReduceLROnPlateau\n",
    "from keras.callbacks import EarlyStopping\n",
    "\n",
    "from keras.layers import Dense,Input, Dropout\n",
    "from keras.layers import LSTM\n",
    "from keras.layers import Activation\n",
    "from keras import optimizers\n",
    "import keras.backend as K\n",
    "\n",
    "\n",
    "from matplotlib import pyplot\n",
    "from statsmodels.tsa.seasonal import seasonal_decompose\n",
    "from matplotlib import pyplot\n",
    "import matplotlib.pyplot as plt\n",
    "from random import gauss\n",
    "from random import seed\n",
    "#from pandas import Series\n",
    "from pandas.plotting import autocorrelation_plot\n",
    "from matplotlib import pyplot\n",
    "from statsmodels.graphics.tsaplots import plot_pacf\n",
    "from statsmodels.graphics.tsaplots import plot_acf\n",
    "from statsmodels.tsa.stattools import adfuller\n",
    "from random import randrange\n",
    "\n",
    "from sklearn.cross_validation import train_test_split\n",
    "import seaborn as sns\n",
    "%matplotlib inline\n",
    "import matplotlib.pyplot as plt\n",
    "import random\n",
    "from random import gauss\n",
    "from random import seed\n",
    "import sys\n",
    "import warnings\n",
    "\n",
    "if not sys.warnoptions:\n",
    "    warnings.simplefilter(\"ignore\")\n",
    "    \n",
    "from scipy.stats.stats import pearsonr    \n"
   ]
  },
  {
   "cell_type": "code",
   "execution_count": 57,
   "metadata": {},
   "outputs": [
    {
     "data": {
      "text/plain": [
       "'03-22 16:33'"
      ]
     },
     "execution_count": 57,
     "metadata": {},
     "output_type": "execute_result"
    }
   ],
   "source": [
    "from datetime import datetime\n",
    "datetime.now().strftime('%m-%d %H:%M')"
   ]
  },
  {
   "cell_type": "code",
   "execution_count": 58,
   "metadata": {
    "collapsed": true
   },
   "outputs": [],
   "source": [
    "import Experiment_Ready as experim\n"
   ]
  },
  {
   "cell_type": "code",
   "execution_count": 72,
   "metadata": {},
   "outputs": [
    {
     "data": {
      "text/plain": [
       "'C:\\\\Users\\\\murat.ozemre\\\\Desktop\\\\Thesis_Project\\\\Data_Sources_and_Preparation'"
      ]
     },
     "execution_count": 72,
     "metadata": {},
     "output_type": "execute_result"
    }
   ],
   "source": [
    "os.getcwd()"
   ]
  },
  {
   "cell_type": "code",
   "execution_count": 73,
   "metadata": {
    "collapsed": true
   },
   "outputs": [],
   "source": [
    "Product_Type_Options = [841810,841840,841850]\n",
    "Product=Product_Type_Options[2] #841810\n",
    "\n",
    "Productname=Product\n",
    "Exp_Country='TUR' # 'CHN'\n",
    "Imp_Country='GBR'\n",
    "\n",
    "if Exp_Country=='CHN':\n",
    "    Currency='CNY'\n",
    "    EXP0='TUR'   \n",
    "elif Exp_Country=='TUR':\n",
    "    Currency='TRY'\n",
    "    EXP0='CHN'   "
   ]
  },
  {
   "cell_type": "code",
   "execution_count": 74,
   "metadata": {},
   "outputs": [
    {
     "name": "stdout",
     "output_type": "stream",
     "text": [
      "TUR\n"
     ]
    }
   ],
   "source": [
    "#Default values\n",
    "\n",
    "dependenttype='same'\n",
    "percent=100\n",
    "MonthSeries=\"3\"\n",
    "\n",
    "if Exp_Country=='CHN':\n",
    "        if Product==841810:\n",
    "            MonthSeries=\"_34\"\n",
    "            percent=50\n",
    "            dependenttype='same'\n",
    "        elif Product==841840:\n",
    "            MonthSeries=\"_345\"\n",
    "            percent=50\n",
    "            dependenttype='log'\n",
    "        elif Product==841850:\n",
    "            MonthSeries=\"_34\"\n",
    "            percent=100\n",
    "            dependenttype='log'\n",
    "elif Exp_Country=='TUR':\n",
    "        if Product==841810:\n",
    "            MonthSeries=\"_67\"\n",
    "            percent=50\n",
    "            dependenttype='same'\n",
    "        elif Product==841840:\n",
    "            MonthSeries=\"4\"\n",
    "            percent=50\n",
    "            dependenttype='same'\n",
    "        elif Product==841850:\n",
    "            MonthSeries=\"_45\"\n",
    "            percent=50\n",
    "            dependenttype='same'\n",
    "\n",
    "print(Exp_Country)\n",
    "\n",
    "\n",
    "\n"
   ]
  },
  {
   "cell_type": "code",
   "execution_count": 75,
   "metadata": {},
   "outputs": [],
   "source": [
    "os.chdir('C:/Users/murat.ozemre/Desktop/Thesis_Project/Data_Sources_and_Preparation')\n",
    "\n",
    "Data_Core1 = pd.ExcelFile('Data_{}_{}_{}.xlsx'.format(Exp_Country,Imp_Country,Product))\n",
    "y = Data_Core1.parse('Y', header=0,index_col=None, na_values=['NA'])['{}_{}_{}'.format(Exp_Country,Imp_Country,Product)]\n",
    "Z = Data_Core1.parse('Y', header=0,index_col=None, na_values=['NA'])[['Date','Year','Month']]\n",
    "\n",
    "X = Data_Core1.parse('X{}'.format(MonthSeries), header=0,index_col=None, na_values=['NA'])\n",
    "X.drop(['Date','Year','Month'], axis=1, inplace=True)\n",
    "X_Column_Names=list(X.columns.values)\n",
    "n_feature=X.shape[1]\n",
    "\n",
    "#y=y.iloc[3:]\n",
    "#X=X.iloc[3:,:]\n",
    "#Z=Z.iloc[3:,:]\n",
    "\n",
    "Xhat = Data_Core1.parse('Xhat', header=0,index_col=None, na_values=['NA'])\n",
    "Xhat.drop(['Date','Year','Month'], axis=1, inplace=True)\n",
    "\n",
    "\n"
   ]
  },
  {
   "cell_type": "code",
   "execution_count": 76,
   "metadata": {
    "collapsed": true
   },
   "outputs": [],
   "source": [
    "if dependenttype=='same':\n",
    "    dependent_variable=y\n",
    "elif dependenttype=='log':\n",
    "    dependent_variable=y.apply(np.log)\n",
    "elif dependenttype=='sqrt':\n",
    "    dependent_variable=y.apply(np.sqrt)"
   ]
  },
  {
   "cell_type": "code",
   "execution_count": 77,
   "metadata": {
    "collapsed": true
   },
   "outputs": [],
   "source": [
    "# Calculate Feature Importace according Month Series\n",
    "number_of_split_for_feature=100\n",
    "result=experim.get_feature_importance_result (X,dependent_variable,Z,n_feature,number_of_split_for_feature)\n",
    "scored_feature_indices=result[0]\n",
    "feature_score=result[1]"
   ]
  },
  {
   "cell_type": "code",
   "execution_count": 78,
   "metadata": {
    "collapsed": true
   },
   "outputs": [],
   "source": [
    "# Omit Features according percentage\n",
    "percentile=100-percent\n",
    "threshold_for_feature_selection=np.percentile(feature_score[scored_feature_indices], percentile)\n",
    "X_threshold=X.iloc[:,scored_feature_indices[feature_score[scored_feature_indices]>threshold_for_feature_selection]]\n",
    "  "
   ]
  },
  {
   "cell_type": "code",
   "execution_count": 79,
   "metadata": {},
   "outputs": [
    {
     "data": {
      "text/plain": [
       "array([ 1,  3, 14, 41, 13, 15, 10, 36, 47,  8, 43, 29, 38, 27, 16, 17, 37,\n",
       "       32,  9, 11,  5,  4, 35,  7, 44, 19, 33, 40, 31, 42, 39,  0, 28,  2,\n",
       "       12,  6, 30, 45, 50, 26, 21, 34, 54, 55, 48, 22, 49, 46, 18, 20, 23,\n",
       "       25, 53, 51, 52, 24], dtype=int64)"
      ]
     },
     "execution_count": 79,
     "metadata": {},
     "output_type": "execute_result"
    }
   ],
   "source": [
    "scored_feature_indices"
   ]
  },
  {
   "cell_type": "code",
   "execution_count": 80,
   "metadata": {
    "collapsed": true
   },
   "outputs": [],
   "source": [
    "# Set X train, X test, y train, y test\n",
    "rs=42 # 841810 -3\n",
    "\n",
    "Scaled_Train_Test_Split=experim.X_Y_scaler_train_test_Split(X_threshold,dependent_variable,Z,random=rs)\n",
    "\n",
    "X_train = Scaled_Train_Test_Split[0]\n",
    "X_test = Scaled_Train_Test_Split[1]\n",
    "y_train = Scaled_Train_Test_Split[2]\n",
    "y_test = Scaled_Train_Test_Split[3]\n",
    "scaler_X = Scaled_Train_Test_Split[4]  \n",
    "scaler_y = Scaled_Train_Test_Split[5]\n",
    "scaled_value_X=Scaled_Train_Test_Split[6]\n",
    "scaled_value_y=Scaled_Train_Test_Split[7]"
   ]
  },
  {
   "cell_type": "code",
   "execution_count": 81,
   "metadata": {},
   "outputs": [
    {
     "name": "stdout",
     "output_type": "stream",
     "text": [
      "randomforest rs= 76\n"
     ]
    }
   ],
   "source": [
    "a=experim.randomforest(X_train, X_test, y_train, y_test,scaler_y,est=100,\n",
    "                       rand=20,is_random_fixed='FALSE',dependenttype=dependenttype)"
   ]
  },
  {
   "cell_type": "code",
   "execution_count": 82,
   "metadata": {
    "scrolled": false
   },
   "outputs": [
    {
     "name": "stdout",
     "output_type": "stream",
     "text": [
      "randomforest rs= 33\n",
      "randomforest rs= 11\n",
      "randomforest rs= 47\n",
      "randomforest rs= 20\n",
      "randomforest rs= 1\n",
      "randomforest rs= 67\n",
      "randomforest rs= 31\n",
      "randomforest rs= 6\n",
      "randomforest rs= 19\n",
      "randomforest rs= 65\n"
     ]
    },
    {
     "data": {
      "text/plain": [
       "0.679"
      ]
     },
     "execution_count": 82,
     "metadata": {},
     "output_type": "execute_result"
    }
   ],
   "source": [
    "experim.experiment_RandomForest(10,\n",
    "                  X_train, X_test, y_train, y_test,scaler_y,\n",
    "                                rand=20,is_random_fixed='FALSE',dependenttype=dependenttype)[1][1]\n"
   ]
  },
  {
   "cell_type": "code",
   "execution_count": 83,
   "metadata": {
    "scrolled": true
   },
   "outputs": [
    {
     "name": "stdout",
     "output_type": "stream",
     "text": [
      "randomforest rs= 75\n",
      "randomforest rs= 91\n",
      "randomforest rs= 18\n",
      "randomforest rs= 14\n",
      "randomforest rs= 10\n",
      "randomforest rs= 70\n",
      "randomforest rs= 8\n",
      "randomforest rs= 91\n",
      "randomforest rs= 14\n",
      "randomforest rs= 3\n"
     ]
    },
    {
     "data": {
      "text/plain": [
       "([0.589, 0.654, 0.493, 0.839, 0.516, 0.672, 0.711, 0.654, 0.839, 0.681],\n",
       " [0.589, 0.654, 0.493, 0.839, 0.516, 0.672, 0.711, 0.654, 0.839, 0.681])"
      ]
     },
     "execution_count": 83,
     "metadata": {},
     "output_type": "execute_result"
    }
   ],
   "source": [
    "experim.experiment_RandomForest(10,\n",
    "                  X_train, X_test, y_train, y_test,scaler_y,\n",
    "                                rand=20,is_random_fixed='FALSE',dependenttype=dependenttype)\n"
   ]
  },
  {
   "cell_type": "code",
   "execution_count": 17,
   "metadata": {},
   "outputs": [
    {
     "name": "stdout",
     "output_type": "stream",
     "text": [
      "randomforest rs= 43\n",
      "randomforest rs= 43\n"
     ]
    },
    {
     "data": {
      "text/plain": [
       "([0.842, 0.842], [0.842, 0.842])"
      ]
     },
     "execution_count": 17,
     "metadata": {},
     "output_type": "execute_result"
    }
   ],
   "source": [
    "#TUR 841840 RS =43\n",
    "experim.experiment_RandomForest(2,\n",
    "                  X_train, X_test, y_train, y_test,scaler_y,est=3000,rand=43,dependenttype=dependenttype)"
   ]
  },
  {
   "cell_type": "markdown",
   "metadata": {},
   "source": [
    "# START OF RANDOM FOREST EXPERIMENTS"
   ]
  },
  {
   "cell_type": "code",
   "execution_count": 18,
   "metadata": {
    "collapsed": true
   },
   "outputs": [],
   "source": [
    "os.chdir('C:/Users/murat.ozemre/Desktop/Thesis_Project/Data_Learning_Prediction/Box_Plots_For_RandomForest')"
   ]
  },
  {
   "cell_type": "code",
   "execution_count": 19,
   "metadata": {
    "scrolled": true
   },
   "outputs": [
    {
     "name": "stdout",
     "output_type": "stream",
     "text": [
      "randomforest rs= 44\n",
      "randomforest rs= 26\n",
      "randomforest rs= 3\n",
      "randomforest rs= 77\n",
      "randomforest rs= 35\n",
      "randomforest rs= 53\n",
      "randomforest rs= 82\n",
      "randomforest rs= 84\n",
      "randomforest rs= 11\n",
      "randomforest rs= 2\n",
      "randomforest rs= 30\n",
      "randomforest rs= 22\n",
      "randomforest rs= 41\n",
      "randomforest rs= 80\n",
      "randomforest rs= 14\n",
      "randomforest rs= 53\n",
      "randomforest rs= 60\n",
      "randomforest rs= 50\n",
      "randomforest rs= 30\n",
      "randomforest rs= 69\n",
      "Size: 20\n"
     ]
    },
    {
     "data": {
      "text/plain": [
       "10      0.818\n",
       "log2    0.782\n",
       "sqrt    0.780\n",
       "auto    0.800\n",
       "dtype: float64"
      ]
     },
     "execution_count": 19,
     "metadata": {},
     "output_type": "execute_result"
    },
    {
     "data": {
      "image/png": "[encoded data removed]",
      "text/plain": [
       "<matplotlib.figure.Figure at 0x1f53d448470>"
      ]
     },
     "metadata": {},
     "output_type": "display_data"
    }
   ],
   "source": [
    "# MAIN for Random Forest Experiments\n",
    "# EXPERIMENT (with fixed split set) 1 For \"max_features_options\"\n",
    "repeats=5\n",
    "\n",
    "# Initialize results\n",
    "results = DataFrame()\n",
    "results_exp = DataFrame()\n",
    "results_split= DataFrame()\n",
    "\n",
    "# Defaults for variables for the first experiment\n",
    "feat=10\n",
    "min_leaf=5\n",
    "max_leaf=100\n",
    "min_weight=0.00001\n",
    "min_impurity=0.001\n",
    "est=200\n",
    "\n",
    "# Get the range for variables\n",
    "max_features_options=[10,\"log2\",\"sqrt\",\"auto\"]\n",
    "min_sample_leaf_options = [1,2,5,20,30]\n",
    "max_leaf_nodes_options=[2,5,10,100,200,300] \n",
    "min_impurity_decrease_options =[0.000001,0.00001,0.001,0.01]\n",
    "min_weight_fraction_leaf_options=[0.00001,0.0001,0.001,0.01,0.1] \n",
    "estimator_options = [100,200,500,1000,5000,10000,20000]\n",
    "\n",
    "rs=42\n",
    "\n",
    "    \n",
    "#Scaled_Train_Test_Split=experim.X_Y_scaler_train_test_Split(X_threshold,dependent_variable,Z,random=rs)\n",
    "\n",
    "#X_train = Scaled_Train_Test_Split[0]\n",
    "#X_test = Scaled_Train_Test_Split[1]\n",
    "#y_train = Scaled_Train_Test_Split[2]\n",
    "#y_test = Scaled_Train_Test_Split[3]\n",
    "#scaler_X = Scaled_Train_Test_Split[4]  \n",
    "#scaler_y = Scaled_Train_Test_Split[5]\n",
    "#scaled_value_X=Scaled_Train_Test_Split[6]\n",
    "#scaled_value_y=Scaled_Train_Test_Split[7]\n",
    "    \n",
    "    \n",
    "for feat in max_features_options:\n",
    "        results_exp[str(feat)] =experim.experiment_RandomForest(repeats,\n",
    "                  X_train, X_test, y_train, y_test,scaler_y,\n",
    "                  rand=20,is_random_fixed='FALSE',dependenttype=dependenttype,\n",
    "                  est=est,min_leaf=min_leaf,feat=feat,max_leaf=max_leaf,min_weight=min_weight,min_impurity=min_impurity)[1] \n",
    "    \n",
    "results=pd.concat([results,results_exp])\n",
    "\n",
    "## summarize results\n",
    "print('Size:',results.size)\n",
    "#print(results.describe())\n",
    "#save boxplot\n",
    "plt.gcf().clear()\n",
    "results.boxplot()\n",
    "\n",
    "plt.title(\"RF-Box Plot for {}-{},{} est,{} min_leaf,{} rs_for split,{} feat, {} max_leaf, {} min_weight,{}min_impurity\"\n",
    "          .format(Productname,MonthSeries,  est, min_leaf,rs,max_features_options,max_leaf,min_weight,min_impurity))\n",
    "plt.savefig('RF-Box Plot for {}-{}, {} est,{} min_leaf,{} feat,{} max_leaf, {} min_weight,{}min_impurity.png'\n",
    "               .format(Productname,MonthSeries,est,min_leaf,max_features_options,max_leaf,min_weight,min_impurity))\n",
    "results.median()"
   ]
  },
  {
   "cell_type": "code",
   "execution_count": 20,
   "metadata": {
    "scrolled": true
   },
   "outputs": [
    {
     "name": "stdout",
     "output_type": "stream",
     "text": [
      "randomforest rs= 53\n",
      "randomforest rs= 78\n",
      "randomforest rs= 99\n",
      "randomforest rs= 98\n",
      "randomforest rs= 14\n",
      "randomforest rs= 83\n",
      "randomforest rs= 82\n",
      "randomforest rs= 52\n",
      "randomforest rs= 25\n",
      "randomforest rs= 7\n",
      "randomforest rs= 67\n",
      "randomforest rs= 54\n",
      "randomforest rs= 72\n",
      "randomforest rs= 94\n",
      "randomforest rs= 79\n",
      "randomforest rs= 24\n",
      "randomforest rs= 70\n",
      "randomforest rs= 68\n",
      "randomforest rs= 36\n",
      "randomforest rs= 8\n",
      "randomforest rs= 69\n",
      "randomforest rs= 39\n",
      "randomforest rs= 55\n",
      "randomforest rs= 67\n",
      "randomforest rs= 88\n",
      "Size: 25\n"
     ]
    },
    {
     "data": {
      "text/plain": [
       "1     0.824\n",
       "2     0.829\n",
       "5     0.800\n",
       "20    0.632\n",
       "30    0.576\n",
       "dtype: float64"
      ]
     },
     "execution_count": 20,
     "metadata": {},
     "output_type": "execute_result"
    },
    {
     "data": {
      "image/png": "[encoded data removed]",
      "text/plain": [
       "<matplotlib.figure.Figure at 0x1f538983a90>"
      ]
     },
     "metadata": {},
     "output_type": "display_data"
    }
   ],
   "source": [
    "# MAIN for Random Forest Experiments\n",
    "# EXPERIMENT (with fixed split set) 2 for max_features_options \n",
    "\n",
    "# Get the best of from previous experiment\n",
    "feat=10\n",
    "\n",
    "# Initialize results\n",
    "results = DataFrame()\n",
    "results_exp = DataFrame()\n",
    "results_split= DataFrame()\n",
    "\n",
    "   \n",
    "for min_leaf in min_sample_leaf_options:\n",
    "            results_exp[str(min_leaf)] =experim.experiment_RandomForest(repeats,\n",
    "                  X_train, X_test, y_train, y_test,scaler_y,\n",
    "                  rand=20,is_random_fixed='FALSE',dependenttype=dependenttype,\n",
    "                  est=est,min_leaf=min_leaf,feat=feat,max_leaf=max_leaf,min_weight=min_weight,min_impurity=min_impurity)[1] \n",
    "    \n",
    "        \n",
    "results=pd.concat([results,results_exp])\n",
    "\n",
    "## summarize results\n",
    "print('Size:',results.size)\n",
    "#print(results.describe())\n",
    "#save boxplot\n",
    "\n",
    "\n",
    "plt.gcf().clear()\n",
    "results.boxplot()\n",
    "plt.title(\"RF-Box Plot for {}-{},{} est,{} min_leaf,{} rs_for split,{} feat, {} max_leaf, {} min_weight,{}min_impurity\"\n",
    "          .format(Productname,MonthSeries,  est, min_sample_leaf_options,rs,feat,max_leaf,min_weight,min_impurity))\n",
    "plt.savefig('RF-Box Plot for {}-{}, {} est,{} min_leaf,{} feat,{} max_leaf, {} min_weight,{}min_impurity.png'\n",
    "               .format(Productname,MonthSeries,est,min_sample_leaf_options,feat,max_leaf,min_weight,min_impurity))\n",
    "\n",
    "\n",
    "results.median()\n"
   ]
  },
  {
   "cell_type": "code",
   "execution_count": 21,
   "metadata": {
    "scrolled": true
   },
   "outputs": [
    {
     "name": "stdout",
     "output_type": "stream",
     "text": [
      "randomforest rs= 27\n",
      "randomforest rs= 47\n",
      "randomforest rs= 69\n",
      "randomforest rs= 68\n",
      "randomforest rs= 57\n",
      "randomforest rs= 64\n",
      "randomforest rs= 17\n",
      "randomforest rs= 41\n",
      "randomforest rs= 22\n",
      "randomforest rs= 40\n",
      "randomforest rs= 34\n",
      "randomforest rs= 1\n",
      "randomforest rs= 88\n",
      "randomforest rs= 83\n",
      "randomforest rs= 32\n",
      "randomforest rs= 65\n",
      "randomforest rs= 70\n",
      "randomforest rs= 5\n",
      "randomforest rs= 30\n",
      "randomforest rs= 73\n",
      "randomforest rs= 17\n",
      "randomforest rs= 1\n",
      "randomforest rs= 79\n",
      "randomforest rs= 32\n",
      "randomforest rs= 23\n",
      "randomforest rs= 51\n",
      "randomforest rs= 72\n",
      "randomforest rs= 68\n",
      "randomforest rs= 15\n",
      "randomforest rs= 60\n",
      "Size: 30\n"
     ]
    },
    {
     "data": {
      "text/plain": [
       "2      0.543\n",
       "5      0.745\n",
       "10     0.825\n",
       "100    0.824\n",
       "200    0.818\n",
       "300    0.800\n",
       "dtype: float64"
      ]
     },
     "execution_count": 21,
     "metadata": {},
     "output_type": "execute_result"
    },
    {
     "data": {
      "image/png": "[encoded data removed]",
      "text/plain": [
       "<matplotlib.figure.Figure at 0x1f53dd6f630>"
      ]
     },
     "metadata": {},
     "output_type": "display_data"
    }
   ],
   "source": [
    "# MAIN for Random Forest Experiments\n",
    "# EXPERIMENT (with fixed split set) 3 for max_leaf_nodes_options \n",
    "\n",
    "# Get the best of from previous experiment\n",
    "min_leaf=2\n",
    "\n",
    "# Initialize results\n",
    "results = DataFrame()\n",
    "results_exp = DataFrame()\n",
    "results_split= DataFrame()\n",
    "\n",
    "  \n",
    "for max_leaf in max_leaf_nodes_options:\n",
    "                results_exp[str(max_leaf)]  =experim.experiment_RandomForest(repeats,\n",
    "                X_train, X_test, y_train, y_test,scaler_y,\n",
    "                rand=20,is_random_fixed='FALSE',dependenttype=dependenttype,\n",
    "                est=est,min_leaf=min_leaf,feat=feat,max_leaf=max_leaf,min_weight=min_weight,min_impurity=min_impurity)[1] \n",
    "    \n",
    "results=pd.concat([results,results_exp])\n",
    "            \n",
    "## summarize results\n",
    "print('Size:',results.size)\n",
    "#print(results.describe())\n",
    "#save boxplot\n",
    "plt.gcf().clear()\n",
    "results.boxplot()\n",
    "\n",
    "plt.title(\"RF-Box Plot for {}-{},{} est,{} min_leaf,{} rs_for split,{} feat, {} max_leaf, {} min_weight,{}min_impurity\"\n",
    "          .format(Productname,MonthSeries,  est, min_leaf,rs,feat,max_leaf_nodes_options,min_weight,min_impurity))\n",
    "plt.savefig('RF-Box Plot for {}-{}, {} est,{} min_leaf,{} feat,{} max_leaf, {} min_weight,{}min_impurity.png'\n",
    "               .format(Productname,MonthSeries,est,min_leaf,feat,max_leaf_nodes_options,min_weight,min_impurity))\n",
    "results.median()"
   ]
  },
  {
   "cell_type": "code",
   "execution_count": 22,
   "metadata": {
    "scrolled": true
   },
   "outputs": [
    {
     "name": "stdout",
     "output_type": "stream",
     "text": [
      "randomforest rs= 78\n",
      "randomforest rs= 87\n",
      "randomforest rs= 27\n",
      "randomforest rs= 27\n",
      "randomforest rs= 69\n",
      "randomforest rs= 73\n",
      "randomforest rs= 25\n",
      "randomforest rs= 85\n",
      "randomforest rs= 92\n",
      "randomforest rs= 27\n",
      "randomforest rs= 8\n",
      "randomforest rs= 91\n",
      "randomforest rs= 61\n",
      "randomforest rs= 25\n",
      "randomforest rs= 48\n",
      "randomforest rs= 31\n",
      "randomforest rs= 24\n",
      "randomforest rs= 69\n",
      "randomforest rs= 2\n",
      "randomforest rs= 5\n",
      "Size: 20\n"
     ]
    },
    {
     "data": {
      "text/plain": [
       "1e-06    0.800\n",
       "1e-05    0.813\n",
       "0.001    0.825\n",
       "0.01     0.500\n",
       "dtype: float64"
      ]
     },
     "execution_count": 22,
     "metadata": {},
     "output_type": "execute_result"
    },
    {
     "data": {
      "image/png": "[encoded data removed]",
      "text/plain": [
       "<matplotlib.figure.Figure at 0x1f536f24240>"
      ]
     },
     "metadata": {},
     "output_type": "display_data"
    }
   ],
   "source": [
    "# MAIN for Random Forest Experiments\n",
    "# EXPERIMENT (with fixed split set) 4 for min_impurity_decrease_options\n",
    "\n",
    "# Get the best of from previous experiment\n",
    "max_leaf=10\n",
    "\n",
    "\n",
    "# Initialize results\n",
    "results = DataFrame()\n",
    "results_exp = DataFrame()\n",
    "results_split= DataFrame()\n",
    "\n",
    "for min_impurity in min_impurity_decrease_options:\n",
    "                results_exp[str(min_impurity)]  =experim.experiment_RandomForest(repeats,\n",
    "                X_train, X_test, y_train, y_test,scaler_y,\n",
    "                rand=20,is_random_fixed='FALSE',dependenttype=dependenttype,\n",
    "                est=est,min_leaf=min_leaf,feat=feat,max_leaf=max_leaf,min_weight=min_weight,min_impurity=min_impurity)[1] \n",
    "    \n",
    "results=pd.concat([results,results_exp])\n",
    "\n",
    "## summarize results\n",
    "print('Size:',results.size)\n",
    "#print(results.describe())\n",
    "#save boxplot\n",
    "plt.gcf().clear()\n",
    "results.boxplot()\n",
    "\n",
    "\n",
    "plt.title(\"RF-Box Plot for {}-{},{} est,{} min_leaf,{} rs_for split,{} feat, {} max_leaf, {} min_weight,{}min_impurity\"\n",
    "          .format(Productname,MonthSeries,  est, min_leaf,rs,feat,max_leaf,min_weight,min_impurity_decrease_options))\n",
    "plt.savefig('RF-Box Plot for {}-{}, {} est,{} min_leaf,{} feat,{} max_leaf, {} min_weig,{}min_impu.png'\n",
    "               .format(Productname,MonthSeries,est,min_leaf,feat,max_leaf,min_weight,min_impurity_decrease_options))\n",
    "results.median()"
   ]
  },
  {
   "cell_type": "code",
   "execution_count": 23,
   "metadata": {
    "scrolled": true
   },
   "outputs": [
    {
     "name": "stdout",
     "output_type": "stream",
     "text": [
      "randomforest rs= 42\n",
      "randomforest rs= 85\n",
      "randomforest rs= 32\n",
      "randomforest rs= 92\n",
      "randomforest rs= 92\n",
      "randomforest rs= 79\n",
      "randomforest rs= 80\n",
      "randomforest rs= 70\n",
      "randomforest rs= 89\n",
      "randomforest rs= 68\n",
      "randomforest rs= 74\n",
      "randomforest rs= 71\n",
      "randomforest rs= 100\n",
      "randomforest rs= 4\n",
      "randomforest rs= 18\n",
      "randomforest rs= 19\n",
      "randomforest rs= 45\n",
      "randomforest rs= 10\n",
      "randomforest rs= 24\n",
      "randomforest rs= 75\n",
      "randomforest rs= 52\n",
      "randomforest rs= 93\n",
      "randomforest rs= 87\n",
      "randomforest rs= 67\n",
      "randomforest rs= 77\n",
      "Size: 25\n"
     ]
    },
    {
     "data": {
      "text/plain": [
       "1e-05     0.823\n",
       "0.0001    0.802\n",
       "0.001     0.815\n",
       "0.01      0.809\n",
       "0.1       0.768\n",
       "dtype: float64"
      ]
     },
     "execution_count": 23,
     "metadata": {},
     "output_type": "execute_result"
    },
    {
     "data": {
      "image/png": "[encoded data removed]",
      "text/plain": [
       "<matplotlib.figure.Figure at 0x1f541ef53c8>"
      ]
     },
     "metadata": {},
     "output_type": "display_data"
    }
   ],
   "source": [
    "# MAIN for Random Forest Experiments\n",
    "# EXPERIMENT (with fixed split set) 5 for min_weight_fraction_leaf_options\n",
    "\n",
    "# Get the best of from previous experiment\n",
    "min_impurity=0.001\n",
    "\n",
    "# Initialize results\n",
    "results = DataFrame()\n",
    "results_exp = DataFrame()\n",
    "results_split= DataFrame()\n",
    "\n",
    "for min_weight in min_weight_fraction_leaf_options:\n",
    "                results_exp[str(min_weight)]  =experim.experiment_RandomForest(repeats,\n",
    "                X_train, X_test, y_train, y_test,scaler_y,\n",
    "                rand=20,is_random_fixed='FALSE',dependenttype=dependenttype,\n",
    "                est=est,min_leaf=min_leaf,feat=feat,max_leaf=max_leaf,min_weight=min_weight,min_impurity=min_impurity)[1] \n",
    "    \n",
    "results=pd.concat([results,results_exp])\n",
    "\n",
    "## summarize results\n",
    "print('Size:',results.size)\n",
    "#print(results.describe())\n",
    "#save boxplot\n",
    "plt.gcf().clear()\n",
    "results.boxplot()\n",
    "\n",
    "\n",
    "plt.title(\"RF-Box Plot for {}-{},{} est,{} min_leaf,{} rs_for split,{} feat, {} max_leaf, {} min_weight,{}min_impurity\"\n",
    "          .format(Productname,MonthSeries,  est, min_leaf,rs,feat,max_leaf,min_weight_fraction_leaf_options,min_impurity))\n",
    "plt.savefig('RF-Box Plot for {}-{}, {} est,{} min_leaf,{} feat,{} max_leaf, {} min_weig,{}min_impu.png'\n",
    "               .format(Productname,MonthSeries,est,min_leaf,feat,max_leaf,min_weight_fraction_leaf_options,min_impurity))\n",
    "results.median()"
   ]
  },
  {
   "cell_type": "code",
   "execution_count": 24,
   "metadata": {
    "scrolled": true
   },
   "outputs": [
    {
     "name": "stdout",
     "output_type": "stream",
     "text": [
      "randomforest rs= 93\n",
      "randomforest rs= 79\n",
      "randomforest rs= 12\n",
      "randomforest rs= 65\n",
      "randomforest rs= 99\n",
      "randomforest rs= 28\n",
      "randomforest rs= 72\n",
      "randomforest rs= 33\n",
      "randomforest rs= 49\n",
      "randomforest rs= 73\n",
      "randomforest rs= 87\n",
      "randomforest rs= 64\n",
      "randomforest rs= 69\n",
      "randomforest rs= 52\n",
      "randomforest rs= 64\n",
      "randomforest rs= 98\n",
      "randomforest rs= 48\n",
      "randomforest rs= 14\n",
      "randomforest rs= 82\n",
      "randomforest rs= 79\n",
      "randomforest rs= 37\n",
      "randomforest rs= 62\n",
      "randomforest rs= 99\n",
      "randomforest rs= 77\n",
      "randomforest rs= 93\n",
      "randomforest rs= 76\n",
      "randomforest rs= 52\n",
      "randomforest rs= 2\n",
      "randomforest rs= 4\n",
      "randomforest rs= 87\n",
      "randomforest rs= 14\n",
      "randomforest rs= 77\n",
      "randomforest rs= 81\n",
      "randomforest rs= 82\n",
      "randomforest rs= 93\n",
      "Size: 35\n"
     ]
    },
    {
     "data": {
      "text/plain": [
       "100      0.796\n",
       "200      0.815\n",
       "500      0.821\n",
       "1000     0.822\n",
       "5000     0.825\n",
       "10000    0.825\n",
       "20000    0.826\n",
       "dtype: float64"
      ]
     },
     "execution_count": 24,
     "metadata": {},
     "output_type": "execute_result"
    },
    {
     "data": {
      "image/png": "[encoded data removed]",
      "text/plain": [
       "<matplotlib.figure.Figure at 0x1f5384381d0>"
      ]
     },
     "metadata": {},
     "output_type": "display_data"
    }
   ],
   "source": [
    "# MAIN for Random Forest Experiments\n",
    "# EXPERIMENT (with fixed split set) 6 for estimator_options\n",
    "\n",
    "# Get the best of from previous experiment\n",
    "min_weight=1e-05 \n",
    "\n",
    "\n",
    "# Initialize results\n",
    "results = DataFrame()\n",
    "results_exp = DataFrame()\n",
    "results_split= DataFrame()\n",
    "\n",
    "for est in estimator_options:\n",
    "            results_exp[str(est)] =experim.experiment_RandomForest(repeats,\n",
    "                  X_train, X_test, y_train, y_test,scaler_y,\n",
    "                  rand=20,is_random_fixed='FALSE',dependenttype=dependenttype,\n",
    "                  est=est,min_leaf=min_leaf,feat=feat,max_leaf=max_leaf,min_weight=min_weight,min_impurity=min_impurity)[1] \n",
    "    \n",
    "results=pd.concat([results,results_exp])\n",
    "\n",
    "## summarize results\n",
    "print('Size:',results.size)\n",
    "#print(results.describe())\n",
    "\n",
    "#save boxplot\n",
    "plt.gcf().clear()\n",
    "results.boxplot()\n",
    "\n",
    "plt.title(\"RF-Box Plot for {}-{},{} est,{} min_leaf,{} rs_for split,{} feat, {} max_leaf, {} min_weight,{}min_impurity\"\n",
    "          .format(Productname,MonthSeries,  estimator_options, min_leaf,rs,feat,max_leaf,min_weight,min_impurity))\n",
    "plt.savefig('RF-Box Plot for {}-{}, {} est,{} min_leaf,{} feat,{} max_leaf, {} minweig,{}minimp.png'\n",
    "               .format(Productname,MonthSeries,estimator_options,min_leaf,feat,max_leaf,min_weight,min_impurity))\n",
    "results.median()"
   ]
  },
  {
   "cell_type": "code",
   "execution_count": 26,
   "metadata": {},
   "outputs": [
    {
     "name": "stdout",
     "output_type": "stream",
     "text": [
      "Product= 841850\n",
      "Month =  _45\n",
      "percent = 50\n",
      "dependenttype = same\n",
      "max_features= 10\n",
      "min_sample_leaf= 2\n",
      "max_leaf_nodes= 10\n",
      "min_impurity_decrease= 0.001\n",
      "min_weight_fraction_leaf= 1e-05\n",
      "est= 1000\n"
     ]
    }
   ],
   "source": [
    "# Get the best of from previous experiment\n",
    "est=1000\n",
    "\n",
    "when=datetime.now().strftime('%m-%d %H:%M')\n",
    "print(\"Product=\",Productname)\n",
    "print(\"Month = \",MonthSeries)\n",
    "print(\"percent =\",percent)\n",
    "print(\"dependenttype =\",dependenttype)\n",
    "\n",
    "\n",
    "#Tuned Parameters after experiments\n",
    "print(\"max_features=\",feat) # EXP1\n",
    "print(\"min_sample_leaf=\", min_leaf) # EXP2\n",
    "print(\"max_leaf_nodes=\", max_leaf) # EXP3\n",
    "print(\"min_impurity_decrease=\", min_impurity) # EXP4\n",
    "print(\"min_weight_fraction_leaf=\", min_weight) # EXP5\n",
    "print(\"est=\", est) # EXP6\n",
    "\n",
    "\n",
    "# store as parameters\n",
    "parameters=[Product,Exp_Country,Imp_Country,MonthSeries,percent,dependenttype,rs,feat,min_leaf,max_leaf,min_impurity,min_weight,est,when]\n",
    "\n"
   ]
  },
  {
   "cell_type": "code",
   "execution_count": 27,
   "metadata": {
    "scrolled": true
   },
   "outputs": [
    {
     "name": "stdout",
     "output_type": "stream",
     "text": [
      "Not_Tuned\n",
      "randomforest rs= 38\n",
      "randomforest rs= 14\n",
      "randomforest rs= 30\n",
      "randomforest rs= 17\n",
      "randomforest rs= 39\n",
      "randomforest rs= 78\n",
      "randomforest rs= 45\n",
      "randomforest rs= 25\n",
      "randomforest rs= 56\n",
      "randomforest rs= 21\n",
      "randomforest rs= 54\n",
      "randomforest rs= 65\n",
      "randomforest rs= 57\n",
      "randomforest rs= 88\n",
      "randomforest rs= 3\n",
      "randomforest rs= 81\n",
      "randomforest rs= 47\n",
      "randomforest rs= 83\n",
      "randomforest rs= 7\n",
      "randomforest rs= 37\n",
      "Tuned\n",
      "randomforest rs= 98\n",
      "randomforest rs= 75\n",
      "randomforest rs= 78\n",
      "randomforest rs= 93\n",
      "randomforest rs= 81\n",
      "randomforest rs= 13\n",
      "randomforest rs= 44\n",
      "randomforest rs= 23\n",
      "randomforest rs= 22\n",
      "randomforest rs= 14\n",
      "randomforest rs= 33\n",
      "randomforest rs= 14\n",
      "randomforest rs= 92\n",
      "randomforest rs= 37\n",
      "randomforest rs= 82\n",
      "randomforest rs= 78\n",
      "randomforest rs= 49\n",
      "randomforest rs= 85\n",
      "randomforest rs= 2\n",
      "randomforest rs= 63\n",
      "Size: 40\n"
     ]
    },
    {
     "data": {
      "text/plain": [
       "Not_Tuned    0.6790\n",
       "Tuned        0.8205\n",
       "dtype: float64"
      ]
     },
     "execution_count": 27,
     "metadata": {},
     "output_type": "execute_result"
    },
    {
     "data": {
      "image/png": "[encoded data removed]",
      "text/plain": [
       "<matplotlib.figure.Figure at 0x1f52fa18cf8>"
      ]
     },
     "metadata": {},
     "output_type": "display_data"
    }
   ],
   "source": [
    "# MAIN for Random Forest Experiments\n",
    "# EXPERIMENT (with fixed split set) for Before Tuning and After Tuning \n",
    "\n",
    "tune_options=[ 'Not_Tuned','Tuned']\n",
    "\n",
    "# Initialize results\n",
    "results = DataFrame()\n",
    "results_exp = DataFrame()\n",
    "results_split= DataFrame()\n",
    "repeats=20\n",
    "\n",
    "for tune in tune_options:\n",
    "    \n",
    "            if tune=='Tuned':\n",
    "                print(tune)\n",
    "                \n",
    "                results_exp[str(tune)] =experim.experiment_RandomForest(repeats,\n",
    "                  X_train, X_test, y_train, y_test,scaler_y,\n",
    "                  rand=20,is_random_fixed='FALSE',dependenttype=dependenttype,\n",
    "                  est=est,min_leaf=min_leaf,feat=feat,max_leaf=max_leaf,min_weight=min_weight,min_impurity=min_impurity)[1] \n",
    "    \n",
    "            elif tune=='Not_Tuned':\n",
    "                print(tune)\n",
    "                \n",
    "            # Defaults for variables for the first experiment\n",
    "\n",
    "                results_exp[str(tune)] =experim.experiment_RandomForest(repeats,\n",
    "                  X_train, X_test, y_train, y_test,scaler_y,\n",
    "                  rand=20,is_random_fixed='FALSE',dependenttype=dependenttype)[1] \n",
    "    \n",
    "    \n",
    "    \n",
    "results=pd.concat([results,results_exp])\n",
    "\n",
    "## summarize results\n",
    "print('Size:',results.size)\n",
    "#print(results.describe())\n",
    "\n",
    "#save boxplot\n",
    "plt.gcf().clear()\n",
    "results.boxplot()\n",
    "\n",
    "\n",
    "plt.title(\"RF-Box Plot for {}-{}, Before and After Tuning, {} est,{} min_leaf,{} rs_for split,{} feat, {} max_leaf, {} min_weight,{}min_impurity  \"\n",
    "          .format(Productname,MonthSeries, est, min_leaf,rs,feat,max_leaf,min_weight,min_impurity))\n",
    "\n",
    "plt.savefig(\"RF-BoxPlotfor {}-{}, Before and After Tuning with fixed splits.png \"\n",
    "          .format(Productname,MonthSeries), format='png', dpi=300)\n",
    "\n",
    "tuned_results_fixed_split=[results['Tuned'].describe()[5],results['Tuned'].describe()[6]]\n",
    "results.median()"
   ]
  },
  {
   "cell_type": "code",
   "execution_count": 28,
   "metadata": {
    "scrolled": true
   },
   "outputs": [
    {
     "name": "stdout",
     "output_type": "stream",
     "text": [
      "split rs= 16\n",
      "randomforest rs= 83\n",
      "randomforest rs= 10\n",
      "randomforest rs= 83\n",
      "randomforest rs= 93\n",
      "randomforest rs= 24\n",
      "randomforest rs= 9\n",
      "randomforest rs= 85\n",
      "randomforest rs= 43\n",
      "randomforest rs= 9\n",
      "randomforest rs= 96\n",
      "randomforest rs= 73\n",
      "randomforest rs= 48\n",
      "randomforest rs= 37\n",
      "randomforest rs= 45\n",
      "randomforest rs= 86\n",
      "randomforest rs= 14\n",
      "randomforest rs= 54\n",
      "randomforest rs= 44\n",
      "randomforest rs= 60\n",
      "randomforest rs= 98\n",
      "randomforest rs= 65\n",
      "randomforest rs= 75\n",
      "randomforest rs= 17\n",
      "randomforest rs= 35\n",
      "randomforest rs= 75\n",
      "randomforest rs= 70\n",
      "randomforest rs= 92\n",
      "randomforest rs= 97\n",
      "randomforest rs= 64\n",
      "randomforest rs= 32\n",
      "randomforest rs= 55\n",
      "randomforest rs= 88\n",
      "randomforest rs= 48\n",
      "randomforest rs= 65\n",
      "randomforest rs= 5\n",
      "randomforest rs= 2\n",
      "randomforest rs= 25\n",
      "randomforest rs= 91\n",
      "randomforest rs= 37\n",
      "randomforest rs= 88\n",
      "split rs= 16\n",
      "randomforest rs= 83\n",
      "randomforest rs= 8\n",
      "randomforest rs= 95\n",
      "randomforest rs= 77\n",
      "randomforest rs= 88\n",
      "randomforest rs= 9\n",
      "randomforest rs= 10\n",
      "randomforest rs= 83\n",
      "randomforest rs= 55\n",
      "randomforest rs= 15\n",
      "randomforest rs= 58\n",
      "randomforest rs= 8\n",
      "randomforest rs= 67\n",
      "randomforest rs= 45\n",
      "randomforest rs= 22\n",
      "randomforest rs= 24\n",
      "randomforest rs= 95\n",
      "randomforest rs= 13\n",
      "randomforest rs= 10\n",
      "randomforest rs= 61\n",
      "randomforest rs= 86\n",
      "randomforest rs= 61\n",
      "randomforest rs= 13\n",
      "randomforest rs= 86\n",
      "randomforest rs= 64\n",
      "randomforest rs= 82\n",
      "randomforest rs= 37\n",
      "randomforest rs= 81\n",
      "randomforest rs= 38\n",
      "randomforest rs= 19\n",
      "randomforest rs= 17\n",
      "randomforest rs= 22\n",
      "randomforest rs= 48\n",
      "randomforest rs= 77\n",
      "randomforest rs= 7\n",
      "randomforest rs= 80\n",
      "randomforest rs= 43\n",
      "randomforest rs= 15\n",
      "randomforest rs= 46\n",
      "randomforest rs= 2\n",
      "split rs= 3\n",
      "randomforest rs= 54\n",
      "randomforest rs= 86\n",
      "randomforest rs= 21\n",
      "randomforest rs= 33\n",
      "randomforest rs= 30\n",
      "randomforest rs= 36\n",
      "randomforest rs= 37\n",
      "randomforest rs= 64\n",
      "randomforest rs= 89\n",
      "randomforest rs= 67\n",
      "randomforest rs= 41\n",
      "randomforest rs= 81\n",
      "randomforest rs= 32\n",
      "randomforest rs= 33\n",
      "randomforest rs= 61\n",
      "randomforest rs= 79\n",
      "randomforest rs= 32\n",
      "randomforest rs= 71\n",
      "randomforest rs= 7\n",
      "randomforest rs= 17\n",
      "randomforest rs= 6\n",
      "randomforest rs= 56\n",
      "randomforest rs= 81\n",
      "randomforest rs= 32\n",
      "randomforest rs= 95\n",
      "randomforest rs= 67\n",
      "randomforest rs= 28\n",
      "randomforest rs= 99\n",
      "randomforest rs= 42\n",
      "randomforest rs= 94\n",
      "randomforest rs= 75\n",
      "randomforest rs= 48\n",
      "randomforest rs= 91\n",
      "randomforest rs= 57\n",
      "randomforest rs= 76\n",
      "randomforest rs= 53\n",
      "randomforest rs= 39\n",
      "randomforest rs= 84\n",
      "randomforest rs= 20\n",
      "randomforest rs= 6\n",
      "split rs= 37\n",
      "randomforest rs= 34\n",
      "randomforest rs= 97\n",
      "randomforest rs= 70\n",
      "randomforest rs= 55\n",
      "randomforest rs= 28\n",
      "randomforest rs= 70\n",
      "randomforest rs= 44\n",
      "randomforest rs= 41\n",
      "randomforest rs= 61\n",
      "randomforest rs= 94\n",
      "randomforest rs= 48\n",
      "randomforest rs= 18\n",
      "randomforest rs= 94\n",
      "randomforest rs= 7\n",
      "randomforest rs= 88\n",
      "randomforest rs= 74\n",
      "randomforest rs= 69\n",
      "randomforest rs= 47\n",
      "randomforest rs= 63\n",
      "randomforest rs= 35\n",
      "randomforest rs= 26\n",
      "randomforest rs= 36\n",
      "randomforest rs= 96\n",
      "randomforest rs= 31\n",
      "randomforest rs= 99\n",
      "randomforest rs= 13\n",
      "randomforest rs= 87\n",
      "randomforest rs= 21\n",
      "randomforest rs= 51\n",
      "randomforest rs= 91\n",
      "randomforest rs= 23\n",
      "randomforest rs= 59\n",
      "randomforest rs= 39\n",
      "randomforest rs= 14\n",
      "randomforest rs= 6\n",
      "randomforest rs= 10\n",
      "randomforest rs= 43\n",
      "randomforest rs= 33\n",
      "randomforest rs= 98\n",
      "randomforest rs= 13\n",
      "split rs= 90\n",
      "randomforest rs= 86\n",
      "randomforest rs= 98\n",
      "randomforest rs= 92\n",
      "randomforest rs= 99\n",
      "randomforest rs= 24\n",
      "randomforest rs= 8\n",
      "randomforest rs= 70\n",
      "randomforest rs= 58\n",
      "randomforest rs= 18\n",
      "randomforest rs= 77\n",
      "randomforest rs= 77\n",
      "randomforest rs= 92\n",
      "randomforest rs= 36\n",
      "randomforest rs= 11\n",
      "randomforest rs= 32\n",
      "randomforest rs= 78\n",
      "randomforest rs= 19\n",
      "randomforest rs= 77\n",
      "randomforest rs= 7\n",
      "randomforest rs= 99\n",
      "randomforest rs= 12\n",
      "randomforest rs= 31\n",
      "randomforest rs= 84\n",
      "randomforest rs= 22\n",
      "randomforest rs= 18\n",
      "randomforest rs= 72\n",
      "randomforest rs= 48\n",
      "randomforest rs= 63\n",
      "randomforest rs= 37\n",
      "randomforest rs= 4\n",
      "randomforest rs= 75\n",
      "randomforest rs= 13\n",
      "randomforest rs= 34\n",
      "randomforest rs= 59\n",
      "randomforest rs= 43\n",
      "randomforest rs= 100\n",
      "randomforest rs= 23\n",
      "randomforest rs= 20\n",
      "randomforest rs= 51\n",
      "randomforest rs= 87\n",
      "Size: 200\n"
     ]
    },
    {
     "data": {
      "text/plain": [
       "Not_Tuned    0.6750\n",
       "Tuned        0.8215\n",
       "dtype: float64"
      ]
     },
     "execution_count": 28,
     "metadata": {},
     "output_type": "execute_result"
    },
    {
     "data": {
      "image/png": "[encoded data removed]",
      "text/plain": [
       "<matplotlib.figure.Figure at 0x1f52fa18cf8>"
      ]
     },
     "metadata": {},
     "output_type": "display_data"
    }
   ],
   "source": [
    "# MAIN for Random Forest Experiments\n",
    "# EXPERIMENT (with different split sets) for Before Tuning and After Tuning \n",
    "\n",
    "\n",
    "# Initialize results\n",
    "results = DataFrame()\n",
    "results_exp = DataFrame()\n",
    "results_split= DataFrame()\n",
    "\n",
    "\n",
    "repeats=20\n",
    "random_range_for_split=5\n",
    "\n",
    "for r in range (random_range_for_split):\n",
    "\n",
    "    rs=random.randint(1,100)\n",
    "\n",
    "    print('split rs=',rs)\n",
    "    \n",
    "    Scaled_Train_Test_Split=experim.X_Y_scaler_train_test_Split(X_threshold,dependent_variable,Z,random=rs)\n",
    "\n",
    "    X_train = Scaled_Train_Test_Split[0]\n",
    "    X_test = Scaled_Train_Test_Split[1]\n",
    "    y_train = Scaled_Train_Test_Split[2]\n",
    "    y_test = Scaled_Train_Test_Split[3]\n",
    "    scaler_X = Scaled_Train_Test_Split[4]  \n",
    "    scaler_y = Scaled_Train_Test_Split[5]\n",
    "    scaled_value_X=Scaled_Train_Test_Split[6]\n",
    "    scaled_value_y=Scaled_Train_Test_Split[7]\n",
    "     \n",
    "    \n",
    "    for tune in tune_options:\n",
    "    \n",
    "            if tune=='Not_Tuned':\n",
    "                \n",
    "                results_exp[str(tune)]  =experim.experiment_RandomForest(repeats,\n",
    "                  X_train, X_test, y_train, y_test,scaler_y,\n",
    "                  rand=20,is_random_fixed='FALSE',dependenttype=dependenttype)[1] \n",
    "\n",
    "                            \n",
    "            elif tune=='Tuned':\n",
    "                \n",
    "                results_exp[str(tune)] =experim.experiment_RandomForest(repeats,\n",
    "                  X_train, X_test, y_train, y_test,scaler_y,\n",
    "                  rand=20,is_random_fixed='FALSE',dependenttype=dependenttype,\n",
    "                  est=est,min_leaf=min_leaf,feat=feat,max_leaf=max_leaf,min_weight=min_weight,min_impurity=min_impurity)[1] \n",
    "                \n",
    "    results=pd.concat([results,results_exp])\n",
    "    \n",
    "## summarize results\n",
    "print('Size:',results.size)\n",
    "#print(results.describe())\n",
    "\n",
    "#save boxplot\n",
    "plt.gcf().clear()\n",
    "results.boxplot()\n",
    "\n",
    "\n",
    "plt.title(\"RF-Box Plot for {}-{}, Before and After Tuning, {} est,{} min_leaf,{} rs_for split,{} feat, {} max_leaf, {} min_weight,{}min_impurity  \"\n",
    "          .format(Productname,MonthSeries, est, min_leaf,rs,feat,max_leaf,min_weight,min_impurity))\n",
    "\n",
    "plt.savefig(\"RF-Box Plot for {}-{}, Before and After Tuning with different splits.png \"\n",
    "          .format(Productname,MonthSeries), format='png', dpi=300)\n",
    "\n",
    "tuned_results_mixed_split=[results['Tuned'].describe()[5],results['Tuned'].describe()[6]]\n",
    "results.median()"
   ]
  },
  {
   "cell_type": "code",
   "execution_count": 29,
   "metadata": {},
   "outputs": [],
   "source": [
    "os.chdir('C:/Users/murat.ozemre/Desktop/Thesis_Project/Data_Learning_Prediction')\n",
    "# Read from Excel Tuning paremeters\n",
    "Tuned_set = pd.ExcelFile('Tuned_Parameters.xlsx'.format(Exp_Country,Imp_Country,Product))\n",
    "Tuned_set_RF_all = Tuned_set.parse('RF', header=0,index_col=None, na_values=['NA'])\n",
    "Tuned_set_NN_all = Tuned_set.parse('NN', header=0,index_col=None, na_values=['NA'])\n",
    "\n",
    "\n",
    "# For this experiment \n",
    "tuned_results_RF=tuned_results_fixed_split+tuned_results_mixed_split\n",
    "\n",
    "Tuned_set_RF =  DataFrame(columns='Product Exp Imp Month dependenttype perc rs_split max_features min_sample_leaf max_leaf_nodes min_impurity min_weight est Datetime fix_p50 fix_p75 mix_p50 mix_p75'.split())\n",
    "Tuned_set_RF.loc[0]= parameters + tuned_results_RF\n",
    "\n",
    "# Combine with the other experiments \n",
    "Tuned_set_RF_all= pd.concat([Tuned_set_RF_all,Tuned_set_RF])\n"
   ]
  },
  {
   "cell_type": "code",
   "execution_count": 30,
   "metadata": {
    "collapsed": true
   },
   "outputs": [],
   "source": [
    "os.chdir('C:/Users/murat.ozemre/Desktop/Thesis_Project/Data_Learning_Prediction')\n",
    "# Write to Excel this and previous Tuning paremeters\n",
    "writer = pd.ExcelWriter('Tuned_Parameters.xlsx')\n",
    "Tuned_set_RF_all.to_excel(writer,'RF')\n",
    "Tuned_set_NN_all.to_excel(writer,'NN')\n",
    "writer.save()"
   ]
  },
  {
   "cell_type": "markdown",
   "metadata": {},
   "source": [
    "# END OF RANDOM FOREST EXPERIMENTS"
   ]
  },
  {
   "cell_type": "code",
   "execution_count": null,
   "metadata": {
    "collapsed": true
   },
   "outputs": [],
   "source": []
  },
  {
   "cell_type": "markdown",
   "metadata": {},
   "source": [
    "# START OF NN EXPERIMENTS"
   ]
  },
  {
   "cell_type": "code",
   "execution_count": 31,
   "metadata": {
    "collapsed": true
   },
   "outputs": [],
   "source": [
    "os.chdir('C:/Users/murat.ozemre/Desktop/Thesis_Project/Data_Learning_Prediction/Box_Plots_For_NeuralNetworks')"
   ]
  },
  {
   "cell_type": "code",
   "execution_count": 32,
   "metadata": {
    "scrolled": true
   },
   "outputs": [
    {
     "name": "stdout",
     "output_type": "stream",
     "text": [
      "neuralnetwork rs= 41\n"
     ]
    },
    {
     "data": {
      "text/plain": [
       "((1040,\n",
       "  1248,\n",
       "  0.0,\n",
       "  0.0,\n",
       "  array([ 853.00000828, 1072.99998267, 2215.00009105, 2948.99977589,\n",
       "         1280.00003998, 2016.99989021, 1507.99997564, 2075.99986444,\n",
       "         2932.00003811,  852.00003311, 1853.99993972, 1422.00003217,\n",
       "         2799.9997976 , 5071.9999925 ,  894.00002967, 2483.99996814,\n",
       "         1264.00003748, 4303.00005731, 1831.00003108, 1877.99998345,\n",
       "         1494.9999786 , 1924.00012056, 2899.99987319, 4421.00000578,\n",
       "         3989.99999344,  762.00002905, 1732.99990583,  737.00001015,\n",
       "         3528.99976652]),\n",
       "  array([2597.79392811, 3201.1119285 , 2773.87236879, 2604.63039819,\n",
       "         2557.51647669, 2877.34884035, 2566.02350546, 2198.45938268,\n",
       "         2715.41964592, 2746.78349825, 2103.7464185 , 2391.41350557,\n",
       "         2317.08429595, 2045.94111679, 1850.42368436, 2113.07973594,\n",
       "         3069.75683871, 2664.40680904, 2712.88192331, 2548.37865366,\n",
       "         2497.62987089, 2120.63012302, 2822.07897654, 2774.91576565,\n",
       "         2535.09999843, 2277.99196346, 2587.34659398, 2115.453556  ,\n",
       "         2740.13292789])),\n",
       " (953,\n",
       "  1130,\n",
       "  0.003,\n",
       "  0.003,\n",
       "  array([2087.99988631, 1962.00013649, 3251.99976824, 2438.00015086,\n",
       "         3164.99984961, 3070.99994487,  731.99997439, 3280.00003248,\n",
       "          653.99999219, 1356.00007184, 1449.00000141,  891.99999938,\n",
       "         1389.000052  , 1919.99990005, 1622.99999859, 3546.99995924,\n",
       "         2101.99985851, 2923.99991692, 2319.99988256, 2253.99992223,\n",
       "         2819.99994065, 2480.99988272, 1187.00003045, 3235.00003045,\n",
       "         1429.00001827, 1470.99993488, 2212.00000562, 2416.99987272,\n",
       "          383.99998001, 1320.99998142, 1712.00002749, 1018.99996424,\n",
       "         1898.99994175, 1307.99998438, 2878.99991489, 1392.99995268,\n",
       "         2646.99991863,  544.99998017, 4670.00005966, 2896.99978776,\n",
       "         1162.00001156, 1928.00002124, 3314.99996299, 3214.9998874 ,\n",
       "         3528.99976652, 1004.99999204,  949.00002327, 1485.000067  ,\n",
       "         2589.00007949, 1563.00004919, 3282.99979807, 4104.99985648,\n",
       "          653.00001702, 3083.99978199, 1898.0001265 , 1370.00004404,\n",
       "         2603.00005169, 1113.00002889,  884.00003811, 1919.99990005,\n",
       "         1950.99992988, 1700.00000562, 2083.99998563, 2816.00003998,\n",
       "         1310.00001468, 2004.99986835, 1062.9999911 , 2009.99990411,\n",
       "         3936.00005497,  937.99997657, 3282.99979807,  753.00001265,\n",
       "         3997.99979479, 3495.99978636, 1506.0000253 , 3995.0000292 ,\n",
       "         4331.00000172, 2158.9998824 , 4195.99999563, 1667.00002546,\n",
       "         2279.99991629, 2644.00015305,  826.00003904, 1213.00002452,\n",
       "         1929.99997158, 2260.99990833,  988.00001437, 5750.00010838,\n",
       "         3661.99982228, 2468.0000456 , 1686.00003342, 1123.00002046,\n",
       "         4177.99980291, 1554.99992801, 2352.00004748, 1557.00003826,\n",
       "          650.00001156, 2179.99984071, 2302.00000968, 3223.00000859,\n",
       "         2579.00000796, 2352.00004748, 1314.99997048, 2759.99983134,\n",
       "         2224.99984274, 3098.00007403, 2707.9998432 , 1744.00011244,\n",
       "         3268.99982587, 1346.00000031, 3368.99990146, 2916.99993082,\n",
       "          616.99999141, 1197.99999719, 2727.99998626]),\n",
       "  array([2372.05002504, 2407.29540849, 2558.58704722, 1794.50846068,\n",
       "         2840.84351989, 2099.29010156, 2836.96255388, 2710.27485086,\n",
       "         2599.11022728, 2145.98925725, 2059.35698046, 2246.83949112,\n",
       "         2766.62345394, 2303.87751242, 3528.52603528, 2443.60849364,\n",
       "         2308.24904181, 2426.94714252, 2723.45853075, 2114.64576997,\n",
       "         2714.87008552, 2797.74001855, 3001.10281828, 2076.99257932,\n",
       "         2781.00498503, 1502.45893211, 2336.20018614, 2877.30406144,\n",
       "         2317.89200908, 2449.26752254, 2616.2112708 , 2562.65288699,\n",
       "         2570.37089013, 2594.44079781, 2822.73863966, 2637.39575926,\n",
       "         2360.83491328, 2354.28094077, 2656.1054839 , 2182.70317985,\n",
       "         2392.27889067, 2742.68485322, 2652.36270204, 1959.16484834,\n",
       "         2679.27961588, 1945.27807016, 2598.24283473, 2170.74309656,\n",
       "         2260.26613082, 3085.56175162, 2860.03334598, 2507.05439611,\n",
       "         2733.56018846, 2071.43783896, 1875.19964624, 2936.77585489,\n",
       "         2123.80381573, 2675.26558384, 2607.19173113, 2768.28121047,\n",
       "         2697.58904385, 2180.36117348, 3357.29575566, 2624.43614696,\n",
       "         2223.72587035, 2564.93450171, 3351.088577  , 2731.86352941,\n",
       "         2609.06828865, 2850.02440199, 2582.05171013, 2547.03258831,\n",
       "         2429.69811031, 2307.27950733, 2763.84816623, 2535.06921977,\n",
       "         3163.7147132 , 2501.77954981, 2911.39731318, 2337.65068784,\n",
       "         2866.19417362, 2047.43316672, 2495.36854198, 2421.14422547,\n",
       "         2140.32033481, 3052.76346438, 2437.9902329 , 2954.98628533,\n",
       "         2167.70495006, 2696.40184928, 1936.93920988, 2825.34414695,\n",
       "         2144.22351838, 2168.04658349, 2485.39234401, 2516.00405571,\n",
       "         2676.467492  , 1879.85052823, 2995.21771653, 2591.52336957,\n",
       "         3054.73005057, 3200.21200709, 2206.48441132, 2178.74066363,\n",
       "         2398.19098848, 2620.32891662, 2845.90655111, 2378.14390211,\n",
       "         2480.20374598, 2575.04425277, 3048.81331414, 1998.92994567,\n",
       "         2211.90008487, 2485.45127468, 2855.79180389])))"
      ]
     },
     "execution_count": 32,
     "metadata": {},
     "output_type": "execute_result"
    }
   ],
   "source": [
    "experim.NeuralNetwork(X_train, X_test, y_train, y_test,scaler_y,rand=41,dependenttype=dependenttype)          "
   ]
  },
  {
   "cell_type": "code",
   "execution_count": 33,
   "metadata": {},
   "outputs": [
    {
     "name": "stdout",
     "output_type": "stream",
     "text": [
      "neuralnetwork rs= 4\n",
      "neuralnetwork rs= 91\n",
      "neuralnetwork rs= 27\n"
     ]
    },
    {
     "data": {
      "text/plain": [
       "([0.0, 0.088, 0.149], [0.0, 0.088, 0.149])"
      ]
     },
     "execution_count": 33,
     "metadata": {},
     "output_type": "execute_result"
    }
   ],
   "source": [
    "experim.experiment_NN(3,X_train, X_test, y_train, y_test,scaler_y,is_random_fixed='FALSE',dependenttype=dependenttype)    "
   ]
  },
  {
   "cell_type": "code",
   "execution_count": 34,
   "metadata": {
    "scrolled": true
   },
   "outputs": [
    {
     "name": "stdout",
     "output_type": "stream",
     "text": [
      "neuralnetwork rs= 32\n",
      "neuralnetwork rs= 78\n",
      "neuralnetwork rs= 91\n",
      "neuralnetwork rs= 69\n",
      "neuralnetwork rs= 38\n",
      "neuralnetwork rs= 25\n",
      "neuralnetwork rs= 10\n",
      "neuralnetwork rs= 70\n",
      "neuralnetwork rs= 31\n",
      "neuralnetwork rs= 74\n",
      "neuralnetwork rs= 38\n",
      "neuralnetwork rs= 22\n",
      "neuralnetwork rs= 64\n",
      "neuralnetwork rs= 30\n",
      "neuralnetwork rs= 64\n",
      "Size: 15\n"
     ]
    },
    {
     "data": {
      "text/plain": [
       "lbfgs    0.626\n",
       "adam     0.053\n",
       "sgd      0.091\n",
       "dtype: float64"
      ]
     },
     "execution_count": 34,
     "metadata": {},
     "output_type": "execute_result"
    },
    {
     "data": {
      "image/png": "[encoded data removed]",
      "text/plain": [
       "<matplotlib.figure.Figure at 0x1f53d4ce7f0>"
      ]
     },
     "metadata": {},
     "output_type": "display_data"
    }
   ],
   "source": [
    "# MAIN for Neural Network Experiments\n",
    "# EXPERIMENT (with fixed split set) 1 For \"solver_options\"\n",
    "\n",
    "repeats=5\n",
    "\n",
    "# Initialize results\n",
    "results = DataFrame()\n",
    "results_exp = DataFrame()\n",
    "results_split= DataFrame()\n",
    "\n",
    "# Defaults for variables for the first experiment\n",
    "slv='adam'\n",
    "activ ='identity'\n",
    "alph=0.0001 \n",
    "max_iteration=200  \n",
    "hidden_layer=(30,30)\n",
    "\n",
    "# Get the range for variables\n",
    "solver_options = ['lbfgs', 'adam','sgd' ]\n",
    "activation_options = ['identity', 'logistic', 'tanh', 'relu']\n",
    "alpha_options = [0.001,0.00001,0.0000001]\n",
    "max_iteration_options = [1000,10000,50000,100000]\n",
    "hidden_layer_sizes_options=[(10,10),(30,30),(100,100),(30,30,30),(30,100,30)]\n",
    "\n",
    "rs=42\n",
    "\n",
    "    \n",
    "Scaled_Train_Test_Split=experim.X_Y_scaler_train_test_Split(X_threshold,dependent_variable,Z,random=rs)\n",
    "\n",
    "X_train = Scaled_Train_Test_Split[0]\n",
    "X_test = Scaled_Train_Test_Split[1]\n",
    "y_train = Scaled_Train_Test_Split[2]\n",
    "y_test = Scaled_Train_Test_Split[3]\n",
    "scaler_X = Scaled_Train_Test_Split[4]  \n",
    "scaler_y = Scaled_Train_Test_Split[5]\n",
    "scaled_value_X=Scaled_Train_Test_Split[6]\n",
    "scaled_value_y=Scaled_Train_Test_Split[7]\n",
    "    \n",
    "    \n",
    "for slv in solver_options:\n",
    "        results_exp[str(slv)] =experim.experiment_NN(repeats,\n",
    "                  X_train, X_test, y_train, y_test,scaler_y,\n",
    "                  rand=20,is_random_fixed='FALSE',dependenttype=dependenttype,\n",
    "                  activ=activ,alph=alph,max_iteration=max_iteration, slv=slv, hidden_layer=hidden_layer)[1] \n",
    "    \n",
    "results=pd.concat([results,results_exp])\n",
    "\n",
    "## summarize results\n",
    "print('Size:',results.size)\n",
    "#print(results.describe())\n",
    "#save boxplot\n",
    "plt.gcf().clear()\n",
    "results.boxplot()\n",
    "\n",
    "plt.title(\"NN-Box Plot for {}-{}, {}solver, {}activ, {}alpha, {}max_ite, {}hiddenlayer \"\n",
    "          .format(Productname,MonthSeries, solver_options, activ, alph, max_iteration, hidden_layer))\n",
    "\n",
    "plt.savefig(\"NN-Box Plot for {}-{}, {}solver, {}activ, {}alpha, {}max_ite, {}layer.png \"\n",
    "          .format(Productname,MonthSeries,solver_options, activ,alph, max_iteration,hidden_layer), format='png', dpi=300)\n",
    "results.median()"
   ]
  },
  {
   "cell_type": "code",
   "execution_count": 35,
   "metadata": {},
   "outputs": [
    {
     "name": "stdout",
     "output_type": "stream",
     "text": [
      "neuralnetwork rs= 59\n",
      "neuralnetwork rs= 98\n",
      "neuralnetwork rs= 77\n",
      "neuralnetwork rs= 16\n",
      "neuralnetwork rs= 73\n",
      "neuralnetwork rs= 90\n",
      "neuralnetwork rs= 82\n",
      "neuralnetwork rs= 58\n",
      "neuralnetwork rs= 50\n",
      "neuralnetwork rs= 78\n",
      "neuralnetwork rs= 72\n",
      "neuralnetwork rs= 80\n",
      "neuralnetwork rs= 83\n",
      "neuralnetwork rs= 91\n",
      "neuralnetwork rs= 49\n",
      "neuralnetwork rs= 2\n",
      "neuralnetwork rs= 85\n",
      "neuralnetwork rs= 9\n",
      "neuralnetwork rs= 4\n",
      "neuralnetwork rs= 54\n",
      "Size: 20\n"
     ]
    },
    {
     "data": {
      "text/plain": [
       "identity    0.629\n",
       "logistic    0.415\n",
       "tanh        0.442\n",
       "relu        0.225\n",
       "dtype: float64"
      ]
     },
     "execution_count": 35,
     "metadata": {},
     "output_type": "execute_result"
    },
    {
     "data": {
      "image/png": "[encoded data removed]",
      "text/plain": [
       "<matplotlib.figure.Figure at 0x1f541fc82e8>"
      ]
     },
     "metadata": {},
     "output_type": "display_data"
    }
   ],
   "source": [
    "# MAIN for Neural Network Experiments\n",
    "# EXPERIMENT (with fixed split set) 2 for activation__options \n",
    "\n",
    "slv='lbfgs'\n",
    "# Get the best of from previous experiment\n",
    "\n",
    "# Initialize results\n",
    "results = DataFrame()\n",
    "results_exp = DataFrame()\n",
    "results_split= DataFrame()\n",
    "\n",
    "for activ in activation_options:\n",
    "        results_exp[str(activ)] =experim.experiment_NN(repeats,\n",
    "                  X_train, X_test, y_train, y_test,scaler_y,\n",
    "                  rand=20,is_random_fixed='FALSE',dependenttype=dependenttype,\n",
    "                  activ=activ,alph=alph,max_iteration=max_iteration, slv=slv, hidden_layer=hidden_layer)[1] \n",
    "    \n",
    "results=pd.concat([results,results_exp])\n",
    "\n",
    "## summarize results\n",
    "print('Size:',results.size)\n",
    "#print(results.describe())\n",
    "#save boxplot\n",
    "plt.gcf().clear()\n",
    "results.boxplot()\n",
    "\n",
    "plt.title(\"NN-Box Plot for {}-{}, {}solver, {}activ, {}alpha, {}max_ite, {}hiddenlayer \"\n",
    "          .format(Productname,MonthSeries, slv, activation_options, alph, max_iteration, hidden_layer))\n",
    "\n",
    "plt.savefig(\"NN-Box Plot for {}-{}, {}solver, {}activ, {}alpha, {}max_ite, {}layer.png \"\n",
    "          .format(Productname,MonthSeries, slv, activation_options, alph, max_iteration, hidden_layer), format='png', dpi=300)\n",
    "results.median()"
   ]
  },
  {
   "cell_type": "code",
   "execution_count": 36,
   "metadata": {},
   "outputs": [
    {
     "name": "stdout",
     "output_type": "stream",
     "text": [
      "neuralnetwork rs= 65\n",
      "neuralnetwork rs= 92\n",
      "neuralnetwork rs= 24\n",
      "neuralnetwork rs= 9\n",
      "neuralnetwork rs= 65\n",
      "neuralnetwork rs= 75\n",
      "neuralnetwork rs= 28\n",
      "neuralnetwork rs= 55\n",
      "neuralnetwork rs= 98\n",
      "neuralnetwork rs= 42\n",
      "neuralnetwork rs= 76\n",
      "neuralnetwork rs= 80\n",
      "neuralnetwork rs= 21\n",
      "neuralnetwork rs= 74\n",
      "neuralnetwork rs= 41\n",
      "Size: 15\n"
     ]
    },
    {
     "data": {
      "text/plain": [
       "0.001    0.633\n",
       "1e-05    0.640\n",
       "1e-07    0.623\n",
       "dtype: float64"
      ]
     },
     "execution_count": 36,
     "metadata": {},
     "output_type": "execute_result"
    },
    {
     "data": {
      "image/png": "[encoded data removed]",
      "text/plain": [
       "<matplotlib.figure.Figure at 0x1f53dc8db38>"
      ]
     },
     "metadata": {},
     "output_type": "display_data"
    }
   ],
   "source": [
    "# MAIN for Neural Network Experiments\n",
    "# EXPERIMENT (with fixed split set) 3 for alpha_options \n",
    "\n",
    "activ ='identity'\n",
    "# Get the best of from previous experiment\n",
    "\n",
    "# Initialize results\n",
    "results = DataFrame()\n",
    "results_exp = DataFrame()\n",
    "results_split= DataFrame()\n",
    "\n",
    " \n",
    "for alph in alpha_options:\n",
    "        results_exp[str(alph)] =experim.experiment_NN(repeats,\n",
    "                  X_train, X_test, y_train, y_test,scaler_y,\n",
    "                  rand=20,is_random_fixed='FALSE',dependenttype=dependenttype,\n",
    "                  activ=activ,alph=alph,max_iteration=max_iteration, slv=slv, hidden_layer=hidden_layer)[1] \n",
    "    \n",
    "results=pd.concat([results,results_exp])\n",
    "\n",
    "## summarize results\n",
    "print('Size:',results.size)\n",
    "#print(results.describe())\n",
    "#save boxplot\n",
    "plt.gcf().clear()\n",
    "results.boxplot()\n",
    "\n",
    "plt.title(\"NN-Box Plot for {}-{}, {}solver, {}activ, {}alpha, {}max_ite, {}hiddenlayer \"\n",
    "          .format(Productname,MonthSeries, slv, activ, alpha_options, max_iteration, hidden_layer))\n",
    "\n",
    "plt.savefig(\"NN-Box Plot for {}-{}, {}solver, {}activ, {}alpha, {}max_ite, {}layer.png \"\n",
    "          .format(Productname,MonthSeries, slv, activ, alpha_options, max_iteration, hidden_layer), format='png', dpi=300)\n",
    "results.median()"
   ]
  },
  {
   "cell_type": "code",
   "execution_count": 37,
   "metadata": {
    "scrolled": true
   },
   "outputs": [
    {
     "name": "stdout",
     "output_type": "stream",
     "text": [
      "neuralnetwork rs= 64\n",
      "neuralnetwork rs= 75\n",
      "neuralnetwork rs= 10\n",
      "neuralnetwork rs= 86\n",
      "neuralnetwork rs= 61\n",
      "neuralnetwork rs= 53\n",
      "neuralnetwork rs= 51\n",
      "neuralnetwork rs= 82\n",
      "neuralnetwork rs= 15\n",
      "neuralnetwork rs= 57\n",
      "neuralnetwork rs= 91\n",
      "neuralnetwork rs= 15\n",
      "neuralnetwork rs= 99\n",
      "neuralnetwork rs= 21\n",
      "neuralnetwork rs= 71\n",
      "neuralnetwork rs= 56\n",
      "neuralnetwork rs= 39\n",
      "neuralnetwork rs= 24\n",
      "neuralnetwork rs= 18\n",
      "neuralnetwork rs= 53\n",
      "neuralnetwork rs= 26\n",
      "neuralnetwork rs= 56\n",
      "neuralnetwork rs= 31\n",
      "neuralnetwork rs= 96\n",
      "neuralnetwork rs= 38\n",
      "Size: 25\n"
     ]
    },
    {
     "data": {
      "text/plain": [
       "(10, 10)         0.614\n",
       "(30, 30)         0.639\n",
       "(100, 100)       0.639\n",
       "(30, 30, 30)     0.622\n",
       "(30, 100, 30)    0.633\n",
       "dtype: float64"
      ]
     },
     "execution_count": 37,
     "metadata": {},
     "output_type": "execute_result"
    },
    {
     "data": {
      "image/png": "[encoded data removed]",
      "text/plain": [
       "<matplotlib.figure.Figure at 0x1f53ee07cf8>"
      ]
     },
     "metadata": {},
     "output_type": "display_data"
    }
   ],
   "source": [
    "# MAIN for Neural Network Experiments\n",
    "# EXPERIMENT (with fixed split set) 4 for hidden_layer_sizes_options\n",
    "\n",
    "alph=1e-05\n",
    "\n",
    "# Get the best of from previous experiment\n",
    "\n",
    "# Initialize results\n",
    "results = DataFrame()\n",
    "results_exp = DataFrame()\n",
    "results_split= DataFrame()\n",
    "\n",
    "for hidden_layer in hidden_layer_sizes_options:\n",
    "        results_exp[str(hidden_layer)] =experim.experiment_NN(repeats,\n",
    "                  X_train, X_test, y_train, y_test,scaler_y,\n",
    "                  rand=20,is_random_fixed='FALSE',dependenttype=dependenttype,\n",
    "                  activ=activ,alph=alph,max_iteration=max_iteration, slv=slv, hidden_layer=hidden_layer)[1] \n",
    "    \n",
    "results=pd.concat([results,results_exp])\n",
    "\n",
    "## summarize results\n",
    "print('Size:',results.size)\n",
    "#print(results.describe())\n",
    "#save boxplot\n",
    "plt.gcf().clear()\n",
    "results.boxplot()\n",
    "\n",
    "plt.title(\"NN-Box Plot for {}-{}, {}solver, {}activ, {}alpha, {}max_ite, {}hiddenlayer \"\n",
    "          .format(Productname,MonthSeries, slv, activ, alph, max_iteration, hidden_layer_sizes_options))\n",
    "\n",
    "plt.savefig(\"NN-Box Plot for {}-{}, {}solver, {}activ, {}alpha, {}max_ite, {}layer.png \"\n",
    "          .format(Productname,MonthSeries, slv, activ, alph, max_iteration, hidden_layer_sizes_options), format='png', dpi=300)\n",
    "results.median()"
   ]
  },
  {
   "cell_type": "code",
   "execution_count": 38,
   "metadata": {
    "scrolled": true
   },
   "outputs": [
    {
     "name": "stdout",
     "output_type": "stream",
     "text": [
      "neuralnetwork rs= 82\n",
      "neuralnetwork rs= 32\n",
      "neuralnetwork rs= 64\n",
      "neuralnetwork rs= 70\n",
      "neuralnetwork rs= 19\n",
      "neuralnetwork rs= 21\n",
      "neuralnetwork rs= 21\n",
      "neuralnetwork rs= 85\n",
      "neuralnetwork rs= 65\n",
      "neuralnetwork rs= 54\n",
      "neuralnetwork rs= 97\n",
      "neuralnetwork rs= 6\n",
      "neuralnetwork rs= 8\n",
      "neuralnetwork rs= 49\n",
      "neuralnetwork rs= 80\n",
      "neuralnetwork rs= 67\n",
      "neuralnetwork rs= 68\n",
      "neuralnetwork rs= 27\n",
      "neuralnetwork rs= 29\n",
      "neuralnetwork rs= 16\n",
      "Size: 20\n"
     ]
    },
    {
     "data": {
      "text/plain": [
       "1000      0.596\n",
       "10000     0.600\n",
       "50000     0.599\n",
       "100000    0.594\n",
       "dtype: float64"
      ]
     },
     "execution_count": 38,
     "metadata": {},
     "output_type": "execute_result"
    },
    {
     "data": {
      "image/png": "[encoded data removed]",
      "text/plain": [
       "<matplotlib.figure.Figure at 0x1f5420809b0>"
      ]
     },
     "metadata": {},
     "output_type": "display_data"
    }
   ],
   "source": [
    "# MAIN for Neural Network Experiments\n",
    "# EXPERIMENT (with fixed split set) 5 for max_iteration_options\n",
    "\n",
    "hidden_layer=(30,30)\n",
    "\n",
    "# Get the best of from previous experiment\n",
    "\n",
    "# Initialize results\n",
    "results = DataFrame()\n",
    "results_exp = DataFrame()\n",
    "results_split= DataFrame()\n",
    "\n",
    "for max_iteration in max_iteration_options:\n",
    "        results_exp[str(max_iteration)] =experim.experiment_NN(repeats,\n",
    "                  X_train, X_test, y_train, y_test,scaler_y,\n",
    "                  rand=20,is_random_fixed='FALSE',dependenttype=dependenttype,\n",
    "                  activ=activ,alph=alph,max_iteration=max_iteration, slv=slv, hidden_layer=hidden_layer)[1] \n",
    "    \n",
    "results=pd.concat([results,results_exp])\n",
    "\n",
    "## summarize results\n",
    "print('Size:',results.size)\n",
    "#print(results.describe())\n",
    "#save boxplot\n",
    "plt.gcf().clear()\n",
    "results.boxplot()\n",
    "\n",
    "plt.title(\"NN-Box Plot for {}-{}, {}solver, {}activ, {}alpha, {}max_ite, {}hiddenlayer \"\n",
    "          .format(Productname,MonthSeries, slv, activ, alph, max_iteration_options, hidden_layer))\n",
    "\n",
    "plt.savefig(\"NN-Box Plot for {}-{}, {}solver, {}activ, {}alpha, {}max_ite, {}layer.png \"\n",
    "          .format(Productname,MonthSeries, slv, activ, alph, max_iteration_options, hidden_layer), format='png', dpi=300)\n",
    "results.median()"
   ]
  },
  {
   "cell_type": "code",
   "execution_count": 39,
   "metadata": {},
   "outputs": [
    {
     "name": "stdout",
     "output_type": "stream",
     "text": [
      "Product= 841850\n",
      "Month =  _45\n",
      "rs for split 42\n",
      "percent 50\n",
      "dependenttype same\n",
      "solver= lbfgs\n",
      "activity= identity\n",
      "alpha= 1e-05\n",
      "hidden_layer= (30, 30)\n",
      "max_iteration= 10000\n"
     ]
    }
   ],
   "source": [
    "max_iteration=10000\n",
    "# Get the best of from previous experiment\n",
    "\n",
    "when=datetime.now().strftime('%m-%d %H:%M')\n",
    "\n",
    "print(\"Product=\",Productname)\n",
    "print(\"Month = \",MonthSeries)\n",
    "print(\"rs for split\",rs)\n",
    "\n",
    "\n",
    "print(\"percent\",percent)\n",
    "print(\"dependenttype\",dependenttype)\n",
    "\n",
    "#Tuned Parameters after experiments\n",
    "print(\"solver=\",slv) # EXP1\n",
    "print(\"activity=\", activ) # EXP2\n",
    "print(\"alpha=\", alph) # EXP3\n",
    "print(\"hidden_layer=\", hidden_layer) # EXP4\n",
    "print(\"max_iteration=\", max_iteration) # EXP5\n",
    "\n",
    "# store as parameters\n",
    "parameters=[Product,Exp_Country,Imp_Country,MonthSeries,percent,dependenttype, rs,slv,activ,alph,hidden_layer,max_iteration,when]\n"
   ]
  },
  {
   "cell_type": "code",
   "execution_count": 40,
   "metadata": {},
   "outputs": [
    {
     "name": "stdout",
     "output_type": "stream",
     "text": [
      "Not_Tuned\n",
      "neuralnetwork rs= 35\n",
      "neuralnetwork rs= 75\n",
      "neuralnetwork rs= 63\n",
      "neuralnetwork rs= 38\n",
      "neuralnetwork rs= 35\n",
      "Tuned\n",
      "neuralnetwork rs= 95\n",
      "neuralnetwork rs= 73\n",
      "neuralnetwork rs= 65\n",
      "neuralnetwork rs= 13\n",
      "neuralnetwork rs= 43\n",
      "Size: 10\n"
     ]
    },
    {
     "data": {
      "text/plain": [
       "Not_Tuned    0.16\n",
       "Tuned        0.60\n",
       "dtype: float64"
      ]
     },
     "execution_count": 40,
     "metadata": {},
     "output_type": "execute_result"
    },
    {
     "data": {
      "image/png": "[encoded data removed]",
      "text/plain": [
       "<matplotlib.figure.Figure at 0x1f54216e128>"
      ]
     },
     "metadata": {},
     "output_type": "display_data"
    }
   ],
   "source": [
    "# MAIN for Neural Network Experiments\n",
    "# EXPERIMENT (with fixed split set) for Before Tuning and After Tuning \n",
    "\n",
    "\n",
    "# Initialize results\n",
    "results = DataFrame()\n",
    "results_exp = DataFrame()\n",
    "results_split= DataFrame()\n",
    "\n",
    "tune_options=[ 'Not_Tuned','Tuned']\n",
    "\n",
    "for tune in tune_options:\n",
    "\n",
    "        if tune=='Tuned':\n",
    "            print(tune)\n",
    "            \n",
    "\n",
    "            results_exp[str(tune)] =experim.experiment_NN(repeats,\n",
    "                  X_train, X_test, y_train, y_test,scaler_y,\n",
    "                  rand=20,is_random_fixed='FALSE',dependenttype=dependenttype,\n",
    "                  activ=activ,alph=alph,max_iteration=max_iteration, slv=slv, hidden_layer=hidden_layer)[1] \n",
    "    \n",
    "        elif tune=='Not_Tuned':\n",
    "            print(tune)\n",
    "                \n",
    "            # Defaults for variables for the first experiment\n",
    "            results_exp[str(tune)] =experim.experiment_NN(repeats,\n",
    "                  X_train, X_test, y_train, y_test,scaler_y,\n",
    "                  rand=20,is_random_fixed='FALSE',dependenttype=dependenttype)[1] \n",
    "    \n",
    "    \n",
    "results=pd.concat([results,results_exp])\n",
    "\n",
    "## summarize results\n",
    "print('Size:',results.size)\n",
    "#print(results.describe())\n",
    "#save boxplot\n",
    "plt.gcf().clear()\n",
    "results.boxplot()\n",
    "\n",
    "\n",
    "plt.title(\"NN-Box Plot for {}-{}, Before and After Tuning, {}solver, {}activ, {}alpha, {}max_ite, {}hiddenlayer \"\n",
    "          .format(Productname,MonthSeries, slv, activ, alph, max_iteration,hidden_layer))\n",
    "\n",
    "plt.savefig(\"NN-Box Plot for {}-{}, Before and After Tuning with fixed splits.png \"\n",
    "          .format(Productname,MonthSeries), format='png', dpi=300)\n",
    "\n",
    "tuned_results_fixed_split=[results['Tuned'].describe()[5],results['Tuned'].describe()[6]]\n",
    "results.median()"
   ]
  },
  {
   "cell_type": "code",
   "execution_count": 41,
   "metadata": {
    "scrolled": true
   },
   "outputs": [
    {
     "name": "stdout",
     "output_type": "stream",
     "text": [
      "split rs= 85\n",
      "neuralnetwork rs= 37\n",
      "neuralnetwork rs= 71\n",
      "neuralnetwork rs= 11\n",
      "neuralnetwork rs= 15\n",
      "neuralnetwork rs= 8\n",
      "neuralnetwork rs= 26\n",
      "neuralnetwork rs= 40\n",
      "neuralnetwork rs= 71\n",
      "neuralnetwork rs= 96\n",
      "neuralnetwork rs= 41\n",
      "split rs= 74\n",
      "neuralnetwork rs= 15\n",
      "neuralnetwork rs= 4\n",
      "neuralnetwork rs= 3\n",
      "neuralnetwork rs= 22\n",
      "neuralnetwork rs= 72\n",
      "neuralnetwork rs= 37\n",
      "neuralnetwork rs= 67\n",
      "neuralnetwork rs= 13\n",
      "neuralnetwork rs= 35\n",
      "neuralnetwork rs= 60\n",
      "split rs= 10\n",
      "neuralnetwork rs= 29\n",
      "neuralnetwork rs= 33\n",
      "neuralnetwork rs= 58\n",
      "neuralnetwork rs= 48\n",
      "neuralnetwork rs= 83\n",
      "neuralnetwork rs= 7\n",
      "neuralnetwork rs= 12\n",
      "neuralnetwork rs= 32\n",
      "neuralnetwork rs= 51\n",
      "neuralnetwork rs= 69\n",
      "split rs= 83\n",
      "neuralnetwork rs= 94\n",
      "neuralnetwork rs= 35\n",
      "neuralnetwork rs= 44\n",
      "neuralnetwork rs= 43\n",
      "neuralnetwork rs= 62\n",
      "neuralnetwork rs= 94\n",
      "neuralnetwork rs= 13\n",
      "neuralnetwork rs= 17\n",
      "neuralnetwork rs= 78\n",
      "neuralnetwork rs= 45\n",
      "split rs= 82\n",
      "neuralnetwork rs= 65\n",
      "neuralnetwork rs= 64\n",
      "neuralnetwork rs= 42\n",
      "neuralnetwork rs= 83\n",
      "neuralnetwork rs= 29\n",
      "neuralnetwork rs= 50\n",
      "neuralnetwork rs= 71\n",
      "neuralnetwork rs= 13\n",
      "neuralnetwork rs= 1\n",
      "neuralnetwork rs= 30\n",
      "Size: 50\n"
     ]
    },
    {
     "data": {
      "text/plain": [
       "Not_Tuned    0.156\n",
       "Tuned        0.600\n",
       "dtype: float64"
      ]
     },
     "execution_count": 41,
     "metadata": {},
     "output_type": "execute_result"
    },
    {
     "data": {
      "image/png": "[encoded data removed]",
      "text/plain": [
       "<matplotlib.figure.Figure at 0x1f536dd2240>"
      ]
     },
     "metadata": {},
     "output_type": "display_data"
    }
   ],
   "source": [
    "# MAIN for Neural Network Experiments\n",
    "# EXPERIMENT (with different split sets) for Before Tuning and After Tuning \n",
    "\n",
    "\n",
    "# Initialize results\n",
    "results = DataFrame()\n",
    "results_exp = DataFrame()\n",
    "results_split= DataFrame()\n",
    "\n",
    "\n",
    "repeats=5\n",
    "random_range_for_split=5\n",
    "\n",
    "for r in range (random_range_for_split):\n",
    "\n",
    "    rs=random.randint(1,100)\n",
    "\n",
    "    print('split rs=',rs)\n",
    "    \n",
    "    Scaled_Train_Test_Split=experim.X_Y_scaler_train_test_Split(X_threshold,dependent_variable,Z,random=rs)\n",
    "\n",
    "    X_train = Scaled_Train_Test_Split[0]\n",
    "    X_test = Scaled_Train_Test_Split[1]\n",
    "    y_train = Scaled_Train_Test_Split[2]\n",
    "    y_test = Scaled_Train_Test_Split[3]\n",
    "    scaler_X = Scaled_Train_Test_Split[4]  \n",
    "    scaler_y = Scaled_Train_Test_Split[5]\n",
    "    scaled_value_X=Scaled_Train_Test_Split[6]\n",
    "    scaled_value_y=Scaled_Train_Test_Split[7]\n",
    "     \n",
    "    \n",
    "    for tune in tune_options:\n",
    "    \n",
    "            if tune=='Not_Tuned':\n",
    "                \n",
    "                results_exp[str(tune)] =experim.experiment_NN(repeats,\n",
    "                  X_train, X_test, y_train, y_test,scaler_y,\n",
    "                  rand=20,is_random_fixed='FALSE',dependenttype=dependenttype)[1] \n",
    "                        \n",
    "            elif tune=='Tuned':\n",
    "                \n",
    "                results_exp[str(tune)] =experim.experiment_NN(repeats,\n",
    "                  X_train, X_test, y_train, y_test,scaler_y,\n",
    "                  rand=20,is_random_fixed='FALSE',dependenttype=dependenttype,\n",
    "                  activ=activ,alph=alph,max_iteration=max_iteration, slv=slv, hidden_layer=hidden_layer)[1] \n",
    "              \n",
    "    results=pd.concat([results,results_exp])\n",
    "    \n",
    "## summarize results\n",
    "print('Size:',results.size)\n",
    "#print(results.describe())\n",
    "\n",
    "#save boxplot\n",
    "plt.gcf().clear()\n",
    "results.boxplot()\n",
    "\n",
    "plt.title(\"NN-Box Plot for {}-{}, Before and After Tuning, {}solver, {}activ, {}alpha, {}max_ite, {}hiddenlayer \"\n",
    "          .format(Productname,MonthSeries,slv, activ, alph, max_iteration,hidden_layer))\n",
    "\n",
    "plt.savefig(\"NN-Box Plot for {}-{}, Before and After Tuning with different splits.png \"\n",
    "          .format(Productname,MonthSeries), format='png', dpi=300)\n",
    "\n",
    "tuned_results_mixed_split=[results['Tuned'].describe()[5],results['Tuned'].describe()[6]]\n",
    "results.median()"
   ]
  },
  {
   "cell_type": "code",
   "execution_count": 42,
   "metadata": {
    "collapsed": true
   },
   "outputs": [],
   "source": [
    "# Read from Excel Tuning paremeters\n",
    "os.chdir('C:/Users/murat.ozemre/Desktop/Thesis_Project/Data_Learning_Prediction')\n",
    "Tuned_set = pd.ExcelFile('Tuned_Parameters.xlsx'.format(Exp_Country,Imp_Country,Product))\n",
    "Tuned_set_RF_all = Tuned_set.parse('RF', header=0,index_col=None, na_values=['NA'])\n",
    "Tuned_set_NN_all = Tuned_set.parse('NN', header=0,index_col=None, na_values=['NA'])\n",
    "\n",
    "# For this experiment \n",
    "tuned_results_NN=tuned_results_fixed_split+tuned_results_mixed_split\n",
    "\n",
    "Tuned_set_NN =  DataFrame(columns='Product Exp Imp Month dependenttype perc rs_split Solver Activity Alpha Hidden_layer Max_iteration Datetime fix_p50 fix_p75 mix_p50 mix_p75'.split())\n",
    "Tuned_set_NN.loc[0]= parameters + tuned_results_NN\n",
    "\n",
    "# Combine with the other experiment \n",
    "Tuned_set_NN_all= pd.concat([Tuned_set_NN_all,Tuned_set_NN])\n",
    "\n",
    "\n"
   ]
  },
  {
   "cell_type": "markdown",
   "metadata": {},
   "source": [
    "# END OF NN EXPERIMENTS"
   ]
  },
  {
   "cell_type": "code",
   "execution_count": 43,
   "metadata": {
    "collapsed": true
   },
   "outputs": [],
   "source": [
    "os.chdir('C:/Users/murat.ozemre/Desktop/Thesis_Project/Data_Learning_Prediction')\n",
    "# Write to Excel this and previous Tuning paremeters\n",
    "writer = pd.ExcelWriter('Tuned_Parameters.xlsx')\n",
    "Tuned_set_RF_all.to_excel(writer,'RF')\n",
    "Tuned_set_NN_all.to_excel(writer,'NN')\n",
    "writer.save()\n",
    "\n"
   ]
  },
  {
   "cell_type": "code",
   "execution_count": null,
   "metadata": {
    "collapsed": true
   },
   "outputs": [],
   "source": []
  },
  {
   "cell_type": "markdown",
   "metadata": {},
   "source": [
    "# Start Conclusion Of Experiments"
   ]
  },
  {
   "cell_type": "code",
   "execution_count": null,
   "metadata": {
    "collapsed": true
   },
   "outputs": [],
   "source": []
  },
  {
   "cell_type": "code",
   "execution_count": null,
   "metadata": {
    "collapsed": true
   },
   "outputs": [],
   "source": []
  },
  {
   "cell_type": "code",
   "execution_count": null,
   "metadata": {
    "collapsed": true
   },
   "outputs": [],
   "source": []
  },
  {
   "cell_type": "markdown",
   "metadata": {},
   "source": [
    "# LSTM EXPERIMENT (with fixed split set) SECTION"
   ]
  },
  {
   "cell_type": "code",
   "execution_count": null,
   "metadata": {
    "collapsed": true
   },
   "outputs": [],
   "source": [
    "os.chdir('C:/Users/murat.ozemre/Desktop/Thesis_Project/Data_Learning_Prediction/Plots_for_LSTM')"
   ]
  },
  {
   "cell_type": "code",
   "execution_count": null,
   "metadata": {
    "collapsed": true
   },
   "outputs": [],
   "source": [
    "results = DataFrame()\n",
    "\n",
    "repeats = 1\n",
    "e=500\n",
    "n=100\n",
    "lr=0.001\n",
    "b=50\n",
    "deney=experiment_LSTM(repeats,e,n,lr,b,drop_rate,do_batch,do_model,train_X, test_X, train_y, test_y,scaler_x,scaler_y)\n",
    "deney[1] "
   ]
  },
  {
   "cell_type": "code",
   "execution_count": null,
   "metadata": {
    "collapsed": true,
    "scrolled": true
   },
   "outputs": [],
   "source": [
    "#rs=29\n",
    "rs=42\n",
    "repeats = 1\n",
    "drop_rate=0.0\n",
    "do_batch='TRUE'\n",
    "do_model='B'\n",
    "random_split='TRUE'\n",
    "\n",
    "e=5\n",
    "n=300\n",
    "lr=0.01\n",
    "b=1\n",
    "\n",
    "# Set X train, X test, y train, y test\n",
    "rs=42\n",
    "Scaled_Train_Test_Split=X_Y_scaler_train_test_Split(X,dependent_variable,Z,random=rs)\n",
    "\n",
    "X_train = Scaled_Train_Test_Split[0].values\n",
    "X_test = Scaled_Train_Test_Split[1].values\n",
    "y_train = Scaled_Train_Test_Split[2].values\n",
    "y_test = Scaled_Train_Test_Split[3].values\n",
    "scaler_X = Scaled_Train_Test_Split[4]  \n",
    "scaler_y = Scaled_Train_Test_Split[5]\n",
    "scaled_value_X=Scaled_Train_Test_Split[6]\n",
    "scaled_value_y=Scaled_Train_Test_Split[7]\n",
    "\n",
    "\n",
    "deney=experiment_LSTM(repeats,e,n,lr,b,drop_rate,do_batch,do_model,X_train, X_test, y_train, y_test,scaler_X,scaler_y)\n",
    "\n",
    "error_rmse=deney[0] \n",
    "error_r2=deney[1] \n",
    "error_r2hat=deney[2] \n",
    "train_y=deney[3]\n",
    "history=deney[4]\n",
    "print(error_r2)\n",
    "print(error_r2hat)"
   ]
  },
  {
   "cell_type": "code",
   "execution_count": null,
   "metadata": {
    "collapsed": true
   },
   "outputs": [],
   "source": [
    "results = DataFrame()\n",
    "repeats = 10\n",
    "e=100\n",
    "n=50\n",
    "lr=0.05\n",
    "b=50\n",
    "results_exp = DataFrame()\n",
    "results = DataFrame()\n",
    "for r in range (0,50):\n",
    "        rs=random.randint(1,100)\n",
    "        SplitData=TrainTestSplit(rs,X,y,date,th,random_split)\n",
    "#        print(rs)\n",
    "        train_X=SplitData[0] \n",
    "        test_X=SplitData[1] \n",
    "        train_y=SplitData[2] \n",
    "        test_y=SplitData[3]\n",
    "        scaler_x=SplitData[4]\n",
    "        scaler_y=SplitData[5]\n",
    "        split_succesfull=SplitData[7]\n",
    "\n",
    "        for b in batch_sizes:\n",
    "            results_exp[str(b)] = experiment_LSTM(repeats,e,n,lr,b,drop_rate,do_batch,do_model,train_X, test_X, train_y, test_y,scaler_x,scaler_y)[1]\n",
    "\n",
    "        results=pd.concat([results,results_exp])\n",
    "\n",
    "## summarize results\n",
    "print('Size:',results.size)\n",
    "#print(results.describe())\n",
    "#save boxplot\n",
    "plt.gcf().clear()\n",
    "results.boxplot()\n",
    "plt.title(\"LSTM-Box Plot for {}-{}, {} epochs,{} neurons,{} learning_rate {}batch size \"\n",
    "          .format(Productname,MonthSeries,e,n,lr,batch_sizes))\n",
    "plt.savefig('Data/LSTM-Box Plot for {}-{}, {} epochs,{} neurons{}lr,{}bsize.png'\n",
    "               .format(Productname,MonthSeries,e,n,lr,batch_sizes))"
   ]
  },
  {
   "cell_type": "code",
   "execution_count": null,
   "metadata": {
    "collapsed": true
   },
   "outputs": [],
   "source": [
    "#rs=29\n",
    "rs=42\n",
    "repeats = 1\n",
    "SplitData=TrainTestSplit(rs,X,y,date,th,random_split)\n",
    "\n",
    "e=200\n",
    "n=400\n",
    "lr=0.001\n",
    "b=30\n",
    "\n",
    "train_X=SplitData[0] \n",
    "test_X=SplitData[1] \n",
    "train_y=SplitData[2] \n",
    "test_y=SplitData[3]\n",
    "scaler_x=SplitData[4]\n",
    "scaler_y=SplitData[5]\n",
    "\n",
    "deney=experiment_LSTM(repeats,e,n,lr,b,drop_rate,do_batch,do_model,train_X, test_X, train_y, test_y,scaler_x,scaler_y)\n",
    "\n",
    "error_rmse=deney[0] \n",
    "error_r2=deney[1] \n",
    "error_r2hat=deney[2] \n",
    "train_y=deney[3]\n",
    "history=deney[4]\n",
    "print(error_r2)\n",
    "print(error_r2hat)"
   ]
  },
  {
   "cell_type": "code",
   "execution_count": null,
   "metadata": {
    "collapsed": true,
    "scrolled": true
   },
   "outputs": [],
   "source": [
    "\n",
    "#repeats=5\n",
    "e=2000\n",
    "n=100\n",
    "lr=0.05\n",
    "b=50\n",
    "\n",
    "neurons = [5, 50, 100]\n",
    "results_exp = DataFrame()\n",
    "results = DataFrame()\n",
    "for r in range (0,50):\n",
    "        rs=random.randint(1,100)\n",
    "        SplitData=TrainTestSplit(rs,X,y,date,th,random_split)\n",
    "#        print(rs)\n",
    "        train_X=SplitData[0] \n",
    "        test_X=SplitData[1] \n",
    "        train_y=SplitData[2] \n",
    "        test_y=SplitData[3]\n",
    "        scaler_x=SplitData[4]\n",
    "        scaler_y=SplitData[5]\n",
    "        split_succesfull=SplitData[7]\n",
    "\n",
    "        for n in neurons:\n",
    "            results_exp[str(n)] = experiment_LSTM(repeats,e,n,lr,b,drop_rate,do_batch,do_model,train_X, test_X, train_y, test_y,scaler_x,scaler_y)[1]\n",
    "        results=pd.concat([results,results_exp])\n",
    "\n",
    "## summarize results\n",
    "print('Size:',results.size)\n",
    "#print(results.describe())\n",
    "#save boxplot\n",
    "plt.gcf().clear()\n",
    "results.boxplot()\n",
    "plt.title(\"LSTM-Box Plot for {}-{}, {} epochs,{} neurons,{} learning_rate {}batch size\"\n",
    "          .format(Productname,MonthSeries,e,neurons,lr,b))\n",
    "plt.savefig('Data/LSTM-Box Plot for {}-{}, {} epochs,{} neurons{},lr{}, b.png'\n",
    "               .format(Productname,MonthSeries,e,neurons,lr,b))\n"
   ]
  },
  {
   "cell_type": "code",
   "execution_count": null,
   "metadata": {
    "collapsed": true
   },
   "outputs": [],
   "source": [
    "# LSTM EXPERIMENT\n",
    "\n",
    "#def experiment(repeats,n_epochs,n_neurons,learning_rate,bs,rs,X,y,date):\n",
    "def experiment_LSTM(repeats,n_epochs,n_neurons,learning_rate,bs,drop_rate,do_batch,do_model,train_X, test_X, train_y, test_y,scaler_x,scaler_y):\n",
    "    K.clear_session()\n",
    "\n",
    "#    print(type(train_X))\n",
    "    train_X =train_X.reshape((train_X.shape[0], 1, train_X.shape[1]))\n",
    "    test_X = test_X.reshape((test_X.shape[0], 1, test_X.shape[1]))\n",
    "    print(train_X.shape, train_y.shape, test_X.shape, test_y.shape)\n",
    "\n",
    "#    train_X =train_X.reshape((train_X.shape[0], train_X.shape[1],1))\n",
    "#    test_X = test_X.reshape((test_X.shape[0], test_X.shape[1],1))\n",
    "#    print(train_X.shape, train_y.shape, test_X.shape, test_y.shape)\n",
    " \n",
    "    \n",
    "    error_rmse = list()\n",
    "    error_r2hat = list()\n",
    "    error_r2 = list()\n",
    "    for r in range(repeats):\n",
    "        \n",
    "        print('Shape of X Train',train_X.shape[1],train_X.shape[2])\n",
    "    \n",
    "\n",
    "        if do_model=='A':\n",
    "            model = Sequential() \n",
    "            model.add(LSTM(n_neurons,input_shape=(train_X.shape[1], train_X.shape[2])))\n",
    "            model.add(Dropout(drop_rate))\n",
    "            \n",
    "            model.add(Dense(n_neurons))\n",
    "            model.add(Dropout(drop_rate))\n",
    "            \n",
    "            model.add(Dense(1))\n",
    "#            model.add(Activation('sigmoid'))\n",
    "            model.add(Activation('linear'))\n",
    "        \n",
    "        elif do_model=='B':   \n",
    "            input_layer=Input(shape=(train_X.shape[1], train_X.shape[2]),dtype='float32')\n",
    "            lstm_layer1=LSTM(n_neurons,input_shape=(train_X.shape[1],train_X.shape[2]),\n",
    "                         dropout=drop_rate, \n",
    "                         recurrent_dropout=drop_rate,\n",
    "                         return_sequences=True)(input_layer)\n",
    "            lstm_layer2=LSTM(n_neurons,input_shape=(train_X.shape[1],n_neurons),\n",
    "                         dropout=drop_rate, \n",
    "                         recurrent_dropout=drop_rate,\n",
    "                         return_sequences=False)(lstm_layer1)\n",
    "            dropout_layer=Dropout(drop_rate)(lstm_layer2)\n",
    "\n",
    "            output_layer=Dense(1,activation=\"linear\")(dropout_layer)\n",
    "#            output_layer=Dense(1,activation=\"linear\")(lstm_layer2)\n",
    "         \n",
    "\n",
    "        #ix layerlarda Activation için RELU Output için linear uygun oluyor. Kaynak Siraj Raval\n",
    "        \n",
    "            model=Model(inputs=input_layer, outputs=output_layer)\n",
    "        \n",
    "        \n",
    "        #decay_rate = learning_rate / n_epochs\n",
    "        \n",
    "        decay_rate = 0.8\n",
    "        momentum = 0.9\n",
    "         \n",
    "        sgd = optimizers.SGD(lr=learning_rate, clipvalue=0.3,momentum=momentum, decay=decay_rate,nesterov=True)\n",
    "        adam = optimizers.Adam(lr=learning_rate, beta_1=0.9, beta_2=0.999, epsilon=None, decay=decay_rate, amsgrad=False)\n",
    "\n",
    "        #model.compile(loss='mean_squared_error', optimizer='adam')\n",
    "        \n",
    "        \n",
    "#        model.compile(loss='mean_squared_error', optimizer=sgd, metrics=['accuracy'])\n",
    "        model.compile(loss='mean_squared_error', optimizer=adam, metrics=['accuracy'])\n",
    "\n",
    "#        model=load_model(os.path.join('Data','train_dataset{}-{}neurons.hdf5'.format(Productname,n_neurons)))\n",
    "#        model=load_model(os.path.join('Data','train_dataset{}-{}neurons.hdf5'.format(Productname,n_neurons)))\n",
    "\n",
    "        model.summary()\n",
    "        \n",
    "        save_weights_at=os.path.join('Data','train_dataset{}-{}neurons.hdf5'.format(Productname,n_neurons))\n",
    "\n",
    "        save_best=ModelCheckpoint(save_weights_at, monitor='val_loss', verbose=0,\n",
    "                                 save_best_only=True, save_weights_only=False, mode='min',\n",
    "                                 period=1)\n",
    "        \n",
    "        reduce_lr = ReduceLROnPlateau(monitor='val_loss', factor=0.2,\n",
    "                              patience=5, min_lr=0.00001)\n",
    "        early_stop = EarlyStopping(monitor='loss', patience=10, verbose=1)\n",
    "        \n",
    "        history = model.fit(train_X, train_y, epochs=n_epochs, batch_size=bs, \n",
    "\n",
    "                            validation_data=(test_X, test_y), verbose=1, \n",
    "#                            callbacks=[reduce_lr],\n",
    "                           # callbacks=[save_best],\n",
    "\n",
    "                           # callbacks=[early_stop],\n",
    "                            shuffle=False)\n",
    "\n",
    "#        best_model=load_model(os.path.join('Data','train_dataset.hdf5')\n",
    "#        model=load_model(os.path.join('Data','train_dataset{}-{}neurons.hdf5'.format(Productname,n_neurons)))\n",
    "\n",
    "        #model=best_model\n",
    "\n",
    "        \n",
    "        \n",
    "\n",
    "        \n",
    "        # summarize history for loss\n",
    "        plt.gcf().clear()\n",
    "        plt.plot(history.history['loss'])\n",
    "        plt.plot(history.history['val_loss'])\n",
    "        plt.title('model loss')\n",
    "        plt.ylabel('loss')\n",
    "        plt.xlabel('epoch')\n",
    "        plt.legend(['train', 'test'], loc='upper left')\n",
    "        plt.show()\n",
    "\n",
    "        \n",
    "        # summarize history for accuracy\n",
    "#        plt.plot(history.history['acc'])\n",
    "#        plt.plot(history.history['val_acc'])\n",
    "#        plt.title('model accuracy')\n",
    "#        plt.ylabel('accuracy')\n",
    "#        plt.xlabel('epoch')\n",
    "#        plt.legend(['train', 'test'], loc='upper left')\n",
    "#        plt.show()\n",
    "\n",
    "\n",
    "#        test_X_reshaped = test_X.reshape((test_X.shape[0], test_X.shape[1]))\n",
    "\n",
    "        test_X_reshaped = test_X.reshape((test_X.shape[0], test_X.shape[2]))\n",
    "        inv_x_test = scaler_x.inverse_transform(test_X_reshaped)\n",
    "        inv_x_test = pd.DataFrame(data=inv_x_test[:,:])\n",
    "\n",
    "        # make a prediction\n",
    "        y_predict_test = model.predict(test_X)\n",
    "        y_predict_train = model.predict(train_X)\n",
    "\n",
    "        # invert scaling for forecast\n",
    "        inv_y_predict_test = scaler_y.inverse_transform(y_predict_test)\n",
    "        inv_y_predict_test = inv_y_predict_test[:,0]\n",
    "        inv_y_predict_train = scaler_y.inverse_transform(y_predict_train)\n",
    "        inv_y_predict_train = inv_y_predict_train[:,0]\n",
    "\n",
    "        # invert scaling for actual\n",
    "        y_test = test_y.reshape((len(test_y), 1))\n",
    "        inv_y_test = scaler_y.inverse_transform(test_y)\n",
    "        inv_y_test = inv_y_test[:,0]\n",
    "\n",
    "        y_train = train_y.reshape((len(train_y), 1))\n",
    "        inv_y_train = scaler_y.inverse_transform(train_y)\n",
    "        inv_y_train = inv_y_train[:,0]\n",
    "\n",
    "        # calculate RMSE for DIFFERENCE\n",
    "        rmse_test = sqrt(mean_squared_error(inv_y_test, inv_y_predict_test))\n",
    "        print('Test RMSE: %.3f' % rmse_test)\n",
    "        R2_test=int(1000*(metrics.r2_score(inv_y_test, inv_y_predict_test)))/1000\n",
    "        print('R2_test: %.3f' % R2_test)\n",
    "\n",
    "        rmse_train = sqrt(mean_squared_error(inv_y_train, inv_y_predict_train))\n",
    "        print('Train RMSE: %.3f' % rmse_train)\n",
    "        R2_train=int(1000*(metrics.r2_score(inv_y_train, inv_y_predict_train)))/1000\n",
    "        print('R2_train: %.3f' % R2_train)\n",
    "\n",
    "        # calculate RMSE for REAL VALUE\n",
    "\n",
    "        real_y_test= inv_x_test.iloc[:,0]+inv_y_test\n",
    "        real_y_predict_test=inv_x_test.iloc[:,0]+inv_y_predict_test\n",
    "        \n",
    "        real_rmse_test = sqrt(mean_squared_error(real_y_test, real_y_predict_test))\n",
    "        print('Test RMSE: %.3f' % real_rmse_test)\n",
    "        real_R2_test=int(1000*(metrics.r2_score(real_y_test, real_y_predict_test)))/1000\n",
    "        print('R2_test: %.3f' % real_R2_test)\n",
    "        \n",
    "        error_rmse.append(real_rmse_test)\n",
    "        error_r2hat.append(real_R2_test)\n",
    "        error_r2.append(R2_test)\n",
    "        \n",
    "        \n",
    "        plt.gcf().clear()\n",
    "        plt.figure(figsize=(5.5, 5.5))\n",
    "        plt.plot(range(len(inv_y_test)), inv_y_test, linestyle='-', marker='*', color='r')\n",
    "        plt.plot(range(len(inv_y_predict_test)), inv_y_predict_test, linestyle='-', marker='.', color='b')\n",
    "        plt.legend(['Actual','Predicted'], loc=2)\n",
    "        plt.title('Actual vs Predicted for {}'.format(Productname))\n",
    "        plt.ylabel('Trade Value')\n",
    "        plt.xlabel('Index')\n",
    "        plt.savefig('LSTM-LinePlt{} ,{} epochs,{} neurons,{} learning_rate,{} batch size, {} random, {} R2.png'.format(Productname,\n",
    "                                n_epochs,n_neurons,learning_rate,bs,rs,R2_test), format='png', dpi=300)\n",
    "       \n",
    "\n",
    "        \n",
    "        \n",
    "    return error_rmse,error_r2,error_r2hat,train_y,history"
   ]
  },
  {
   "cell_type": "code",
   "execution_count": null,
   "metadata": {
    "collapsed": true
   },
   "outputs": [],
   "source": [
    "results = DataFrame()\n",
    "\n",
    "repeats = 1\n",
    "\n",
    "# vary training epochs\"\n",
    "epochs = [50, 500, 1000,2000]\n",
    "neurons = [5, 50,100]\n",
    "learning_rates= [0.001, 0.01, 0.05, 0.1]\n",
    "batch_sizes=[5, 12, 24,50,100]\n",
    "\n",
    "\n",
    "e=3000\n",
    "n=200\n",
    "lr=0.02\n",
    "b=50\n",
    "\n",
    "\n",
    "e=500\n",
    "n=100\n",
    "lr=0.05\n",
    "b=50\n",
    "results_exp = DataFrame()\n",
    "results = DataFrame()\n",
    "for r in range (0,50):\n",
    "        rs=random.randint(1,100)\n",
    "        SplitData=TrainTestSplit(rs,X,y,date,th,random_split)\n",
    "#        print(rs)\n",
    "        train_X=SplitData[0] \n",
    "        test_X=SplitData[1] \n",
    "        train_y=SplitData[2] \n",
    "        test_y=SplitData[3]\n",
    "        scaler_x=SplitData[4]\n",
    "        scaler_y=SplitData[5]\n",
    "        split_succesfull=SplitData[7]\n",
    "\n",
    "\n",
    "\n",
    "        for e in epochs:\n",
    "            results_exp[str(e)] = experiment_LSTM(repeats,e,n,lr,b,drop_rate,do_batch,do_model,train_X, test_X, train_y, test_y,scaler_x,scaler_y)[1]\n",
    "        results=pd.concat([results,results_exp])\n",
    "\n",
    "## summarize results\n",
    "print('Size:',results.size)\n",
    "#print(results.describe())\n",
    "#save boxplot\n",
    "plt.gcf().clear()\n",
    "\n",
    "results.boxplot()\n",
    "plt.title(\"LSTM-Box Plot for {}-{}, {} epochs,{} neurons,{} learning_rate, {}batch size \"\n",
    "          .format(Productname,MonthSeries,epochs,n,lr,b))\n",
    "plt.savefig('Data/LSTM-Box Plot for {}-{}, {} epochs,{} neurons {}lr,{}b.png'\n",
    "               .format(Productname,MonthSeries,epochs,n,lr,b))\n",
    "\n",
    "\n"
   ]
  }
 ],
 "metadata": {
  "kernelspec": {
   "display_name": "Python 3",
   "language": "python",
   "name": "python3"
  },
  "language_info": {
   "codemirror_mode": {
    "name": "ipython",
    "version": 3
   },
   "file_extension": ".py",
   "mimetype": "text/x-python",
   "name": "python",
   "nbconvert_exporter": "python",
   "pygments_lexer": "ipython3",
   "version": "3.6.8"
  }
 },
 "nbformat": 4,
 "nbformat_minor": 2
}
