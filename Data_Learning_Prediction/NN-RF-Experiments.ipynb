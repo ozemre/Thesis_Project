{
 "cells": [
  {
   "cell_type": "code",
   "execution_count": 117,
   "metadata": {},
   "outputs": [],
   "source": [
    "\n",
    "from __future__ import print_function\n",
    "import os\n",
    "import sys\n",
    "\n",
    "import numpy as np\n",
    "import pandas as pd\n",
    "\n",
    "import datetime\n",
    "from math import sqrt\n",
    "from math import exp\n",
    "import math\n",
    "from numpy import concatenate\n",
    "from matplotlib import pyplot\n",
    "from pandas import read_csv\n",
    "from pandas import DataFrame\n",
    "from pandas import concat\n",
    "from sklearn.preprocessing import MinMaxScaler\n",
    "from sklearn.preprocessing import LabelEncoder\n",
    "from sklearn.metrics import mean_squared_error\n",
    "from sklearn import metrics\n",
    "from sklearn.ensemble import RandomForestRegressor\n",
    "from keras.models import Sequential\n",
    "from keras.models import Model\n",
    "from keras.models import load_model\n",
    "from keras.callbacks import ModelCheckpoint\n",
    "from keras.callbacks import ReduceLROnPlateau\n",
    "from keras.callbacks import EarlyStopping\n",
    "\n",
    "from keras.layers import Dense,Input, Dropout\n",
    "from keras.layers import LSTM\n",
    "from keras.layers import Activation\n",
    "from keras import optimizers\n",
    "import keras.backend as K\n",
    "\n",
    "\n",
    "from matplotlib import pyplot\n",
    "from statsmodels.tsa.seasonal import seasonal_decompose\n",
    "from matplotlib import pyplot\n",
    "import matplotlib.pyplot as plt\n",
    "from random import gauss\n",
    "from random import seed\n",
    "#from pandas import Series\n",
    "from pandas.plotting import autocorrelation_plot\n",
    "from matplotlib import pyplot\n",
    "from statsmodels.graphics.tsaplots import plot_pacf\n",
    "from statsmodels.graphics.tsaplots import plot_acf\n",
    "from statsmodels.tsa.stattools import adfuller\n",
    "from random import randrange\n",
    "\n",
    "from sklearn.cross_validation import train_test_split\n",
    "import seaborn as sns\n",
    "%matplotlib inline\n",
    "import matplotlib.pyplot as plt\n",
    "import random\n",
    "from random import gauss\n",
    "from random import seed\n",
    "import sys\n",
    "import warnings\n",
    "\n",
    "if not sys.warnoptions:\n",
    "    warnings.simplefilter(\"ignore\")\n",
    "    \n",
    "from scipy.stats.stats import pearsonr    \n"
   ]
  },
  {
   "cell_type": "code",
   "execution_count": 118,
   "metadata": {},
   "outputs": [
    {
     "data": {
      "text/plain": [
       "'03-18 21:58'"
      ]
     },
     "execution_count": 118,
     "metadata": {},
     "output_type": "execute_result"
    }
   ],
   "source": [
    "from datetime import datetime\n",
    "datetime.now().strftime('%m-%d %H:%M')"
   ]
  },
  {
   "cell_type": "code",
   "execution_count": 119,
   "metadata": {
    "collapsed": true
   },
   "outputs": [],
   "source": [
    "import Experiment_Ready as experim\n"
   ]
  },
  {
   "cell_type": "code",
   "execution_count": 120,
   "metadata": {},
   "outputs": [
    {
     "data": {
      "text/plain": [
       "'C:\\\\Users\\\\murat.ozemre\\\\Desktop\\\\Thesis_Project\\\\Data_Learning_Prediction'"
      ]
     },
     "execution_count": 120,
     "metadata": {},
     "output_type": "execute_result"
    }
   ],
   "source": [
    "os.getcwd()"
   ]
  },
  {
   "cell_type": "code",
   "execution_count": 123,
   "metadata": {
    "collapsed": true
   },
   "outputs": [],
   "source": [
    "Product_Type_Options = [841810,841840,841850]\n",
    "Product=Product_Type_Options[2] #841810\n",
    "\n",
    "Productname=Product\n",
    "Exp_Country='CHN' # 'CHN'\n",
    "Imp_Country='GBR'\n",
    "\n",
    "if Exp_Country=='CHN':\n",
    "    Currency='CNY'\n",
    "    EXP0='TUR'   \n",
    "elif Exp_Country=='TUR':\n",
    "    Currency='TRY'\n",
    "    EXP0='CHN'   "
   ]
  },
  {
   "cell_type": "code",
   "execution_count": 124,
   "metadata": {
    "collapsed": true
   },
   "outputs": [],
   "source": [
    "#Default values\n",
    "\n",
    "dependenttype='same'\n",
    "percent=100\n",
    "MonthSeries=\"3\"\n",
    "\n",
    "if Exp_Country=='CHN':\n",
    "        if Product==841810:\n",
    "            MonthSeries=\"_34\"\n",
    "            percent=50\n",
    "            dependenttype='same'\n",
    "        elif Product==841840:\n",
    "            MonthSeries=\"_345\"\n",
    "            percent=50\n",
    "            dependenttype='log'\n",
    "        elif Product==841850:\n",
    "            MonthSeries=\"_34\"\n",
    "            percent=100\n",
    "            dependenttype='log'\n",
    "elif Exp_Country=='TUR':\n",
    "    print(Exp_Country)\n",
    "    MonthSeries=\"3\"\n",
    "    percent=50\n",
    "\n",
    "\n",
    "\n"
   ]
  },
  {
   "cell_type": "code",
   "execution_count": 125,
   "metadata": {
    "collapsed": true
   },
   "outputs": [],
   "source": [
    "os.chdir('C:/Users/murat.ozemre/Desktop/Thesis_Project/Data_Sources_and_Preparation')\n",
    "\n",
    "Data_Core1 = pd.ExcelFile('Data_{}_{}_{}.xlsx'.format(Exp_Country,Imp_Country,Product))\n",
    "y = Data_Core1.parse('Y', header=0,index_col=None, na_values=['NA'])['{}_{}_{}'.format(Exp_Country,Imp_Country,Product)]\n",
    "Z = Data_Core1.parse('Y', header=0,index_col=None, na_values=['NA'])[['Date','Year','Month']]\n",
    "\n",
    "X = Data_Core1.parse('X{}'.format(MonthSeries), header=0,index_col=None, na_values=['NA'])\n",
    "X.drop(['Date','Year','Month'], axis=1, inplace=True)\n",
    "X_Column_Names=list(X.columns.values)\n",
    "n_feature=X.shape[1]\n",
    "\n",
    "#y=y.iloc[3:]\n",
    "#X=X.iloc[3:,:]\n",
    "#Z=Z.iloc[3:,:]\n",
    "\n",
    "Xhat = Data_Core1.parse('Xhat', header=0,index_col=None, na_values=['NA'])\n",
    "Xhat.drop(['Date','Year','Month'], axis=1, inplace=True)\n",
    "\n",
    "\n"
   ]
  },
  {
   "cell_type": "code",
   "execution_count": 126,
   "metadata": {
    "collapsed": true
   },
   "outputs": [],
   "source": [
    "if dependenttype=='same':\n",
    "    dependent_variable=y\n",
    "elif dependenttype=='log':\n",
    "    dependent_variable=y.apply(np.log)\n",
    "elif dependenttype=='sqrt':\n",
    "    dependent_variable=y.apply(np.sqrt)"
   ]
  },
  {
   "cell_type": "code",
   "execution_count": 127,
   "metadata": {
    "collapsed": true
   },
   "outputs": [],
   "source": [
    "# Calculate Feature Importace according Month Series\n",
    "number_of_split_for_feature=100\n",
    "result=experim.get_feature_importance_result (X,dependent_variable,Z,n_feature,number_of_split_for_feature)\n",
    "scored_feature_indices=result[0]\n",
    "feature_score=result[1]"
   ]
  },
  {
   "cell_type": "code",
   "execution_count": 128,
   "metadata": {
    "collapsed": true
   },
   "outputs": [],
   "source": [
    "# Omit Features according percentage\n",
    "percentile=100-percent\n",
    "threshold_for_feature_selection=np.percentile(feature_score[scored_feature_indices], percentile)\n",
    "X_threshold=X.iloc[:,scored_feature_indices[feature_score[scored_feature_indices]>threshold_for_feature_selection]]\n",
    "  "
   ]
  },
  {
   "cell_type": "code",
   "execution_count": 129,
   "metadata": {},
   "outputs": [
    {
     "data": {
      "text/plain": [
       "array([55,  2, 51, 24, 13, 52, 23,  0, 47, 27, 29,  1, 37, 32, 15, 30, 18,\n",
       "       19,  4, 36,  5, 41, 35, 43, 34, 28, 33, 16, 39,  9, 31, 17,  7, 44,\n",
       "       25,  6, 10, 46, 20, 11, 49, 26,  3, 50, 12, 54, 38, 53, 48, 40, 45,\n",
       "        8, 22, 14, 21, 42], dtype=int64)"
      ]
     },
     "execution_count": 129,
     "metadata": {},
     "output_type": "execute_result"
    }
   ],
   "source": [
    "scored_feature_indices"
   ]
  },
  {
   "cell_type": "code",
   "execution_count": 130,
   "metadata": {
    "collapsed": true
   },
   "outputs": [],
   "source": [
    "# Set X train, X test, y train, y test\n",
    "rs=42 # 841810 -3\n",
    "\n",
    "Scaled_Train_Test_Split=experim.X_Y_scaler_train_test_Split(X_threshold,dependent_variable,Z,random=rs)\n",
    "\n",
    "X_train = Scaled_Train_Test_Split[0]\n",
    "X_test = Scaled_Train_Test_Split[1]\n",
    "y_train = Scaled_Train_Test_Split[2]\n",
    "y_test = Scaled_Train_Test_Split[3]\n",
    "scaler_X = Scaled_Train_Test_Split[4]  \n",
    "scaler_y = Scaled_Train_Test_Split[5]\n",
    "scaled_value_X=Scaled_Train_Test_Split[6]\n",
    "scaled_value_y=Scaled_Train_Test_Split[7]"
   ]
  },
  {
   "cell_type": "code",
   "execution_count": 131,
   "metadata": {},
   "outputs": [
    {
     "name": "stdout",
     "output_type": "stream",
     "text": [
      "randomforest rs= 63\n"
     ]
    }
   ],
   "source": [
    "a=experim.randomforest(X_train, X_test, y_train, y_test,scaler_y,est=100,\n",
    "                       rand=20,is_random_fixed='FALSE',dependenttype=dependenttype)"
   ]
  },
  {
   "cell_type": "code",
   "execution_count": 132,
   "metadata": {
    "scrolled": false
   },
   "outputs": [
    {
     "name": "stdout",
     "output_type": "stream",
     "text": [
      "randomforest rs= 23\n",
      "randomforest rs= 8\n",
      "randomforest rs= 53\n",
      "randomforest rs= 86\n",
      "randomforest rs= 67\n",
      "randomforest rs= 38\n",
      "randomforest rs= 21\n",
      "randomforest rs= 5\n",
      "randomforest rs= 58\n",
      "randomforest rs= 37\n"
     ]
    },
    {
     "data": {
      "text/plain": [
       "0.938"
      ]
     },
     "execution_count": 132,
     "metadata": {},
     "output_type": "execute_result"
    }
   ],
   "source": [
    "experim.experiment_RandomForest(10,\n",
    "                  X_train, X_test, y_train, y_test,scaler_y,\n",
    "                                rand=20,is_random_fixed='FALSE',dependenttype=dependenttype)[1][1]\n"
   ]
  },
  {
   "cell_type": "code",
   "execution_count": 133,
   "metadata": {
    "scrolled": true
   },
   "outputs": [
    {
     "name": "stdout",
     "output_type": "stream",
     "text": [
      "randomforest rs= 8\n",
      "randomforest rs= 9\n",
      "randomforest rs= 52\n",
      "randomforest rs= 43\n",
      "randomforest rs= 33\n",
      "randomforest rs= 26\n",
      "randomforest rs= 61\n",
      "randomforest rs= 21\n",
      "randomforest rs= 78\n",
      "randomforest rs= 29\n"
     ]
    },
    {
     "data": {
      "text/plain": [
       "([0.951, 0.945, 0.863, 0.895, 0.919, 0.884, 0.94, 0.924, 0.911, 0.925],\n",
       " [0.938, 0.933, 0.855, 0.892, 0.867, 0.9, 0.923, 0.921, 0.835, 0.902])"
      ]
     },
     "execution_count": 133,
     "metadata": {},
     "output_type": "execute_result"
    }
   ],
   "source": [
    "experim.experiment_RandomForest(10,\n",
    "                  X_train, X_test, y_train, y_test,scaler_y,\n",
    "                                rand=20,is_random_fixed='FALSE',dependenttype=dependenttype)\n"
   ]
  },
  {
   "cell_type": "code",
   "execution_count": 134,
   "metadata": {},
   "outputs": [
    {
     "name": "stdout",
     "output_type": "stream",
     "text": [
      "randomforest rs= 31\n",
      "randomforest rs= 31\n"
     ]
    },
    {
     "data": {
      "text/plain": [
       "([0.942, 0.942], [0.926, 0.926])"
      ]
     },
     "execution_count": 134,
     "metadata": {},
     "output_type": "execute_result"
    }
   ],
   "source": [
    "#841810 RS =31\n",
    "experim.experiment_RandomForest(2,\n",
    "                  X_train, X_test, y_train, y_test,scaler_y,est=3000,rand=31,dependenttype=dependenttype)"
   ]
  },
  {
   "cell_type": "markdown",
   "metadata": {},
   "source": [
    "# START OF RANDOM FOREST EXPERIMENTS"
   ]
  },
  {
   "cell_type": "code",
   "execution_count": 145,
   "metadata": {
    "collapsed": true
   },
   "outputs": [],
   "source": [
    "os.chdir('C:/Users/murat.ozemre/Desktop/Thesis_Project/Data_Learning_Prediction/Box_Plots_For_RandomForest')"
   ]
  },
  {
   "cell_type": "code",
   "execution_count": 135,
   "metadata": {
    "scrolled": true
   },
   "outputs": [
    {
     "name": "stdout",
     "output_type": "stream",
     "text": [
      "randomforest rs= 33\n",
      "randomforest rs= 50\n",
      "randomforest rs= 21\n",
      "randomforest rs= 17\n",
      "randomforest rs= 3\n",
      "randomforest rs= 88\n",
      "randomforest rs= 55\n",
      "randomforest rs= 100\n",
      "randomforest rs= 79\n",
      "randomforest rs= 52\n",
      "randomforest rs= 40\n",
      "randomforest rs= 47\n",
      "randomforest rs= 70\n",
      "randomforest rs= 59\n",
      "randomforest rs= 72\n",
      "randomforest rs= 40\n",
      "randomforest rs= 90\n",
      "randomforest rs= 83\n",
      "randomforest rs= 70\n",
      "randomforest rs= 73\n",
      "Size: 20\n"
     ]
    },
    {
     "data": {
      "text/plain": [
       "10      0.901\n",
       "log2    0.896\n",
       "sqrt    0.892\n",
       "auto    0.912\n",
       "dtype: float64"
      ]
     },
     "execution_count": 135,
     "metadata": {},
     "output_type": "execute_result"
    },
    {
     "data": {
      "image/png": "[encoded data removed]",
      "text/plain": [
       "<matplotlib.figure.Figure at 0x282b4215ef0>"
      ]
     },
     "metadata": {},
     "output_type": "display_data"
    }
   ],
   "source": [
    "# MAIN for Random Forest Experiments\n",
    "# EXPERIMENT (with fixed split set) 1 For \"max_features_options\"\n",
    "repeats=5\n",
    "\n",
    "# Initialize results\n",
    "results = DataFrame()\n",
    "results_exp = DataFrame()\n",
    "results_split= DataFrame()\n",
    "\n",
    "# Defaults for variables for the first experiment\n",
    "feat=10\n",
    "min_leaf=5\n",
    "max_leaf=100\n",
    "min_weight=0.00001\n",
    "min_impurity=0.001\n",
    "est=200\n",
    "\n",
    "# Get the range for variables\n",
    "max_features_options=[10,\"log2\",\"sqrt\",\"auto\"]\n",
    "min_sample_leaf_options = [1,2,5,20,30]\n",
    "max_leaf_nodes_options=[2,5,10,100,200,300] \n",
    "min_impurity_decrease_options =[0.000001,0.00001,0.001,0.01]\n",
    "min_weight_fraction_leaf_options=[0.00001,0.0001,0.001,0.01,0.1] \n",
    "estimator_options = [100,200,500,1000,5000,10000,20000]\n",
    "\n",
    "rs=42\n",
    "\n",
    "    \n",
    "#Scaled_Train_Test_Split=experim.X_Y_scaler_train_test_Split(X_threshold,dependent_variable,Z,random=rs)\n",
    "\n",
    "#X_train = Scaled_Train_Test_Split[0]\n",
    "#X_test = Scaled_Train_Test_Split[1]\n",
    "#y_train = Scaled_Train_Test_Split[2]\n",
    "#y_test = Scaled_Train_Test_Split[3]\n",
    "#scaler_X = Scaled_Train_Test_Split[4]  \n",
    "#scaler_y = Scaled_Train_Test_Split[5]\n",
    "#scaled_value_X=Scaled_Train_Test_Split[6]\n",
    "#scaled_value_y=Scaled_Train_Test_Split[7]\n",
    "    \n",
    "    \n",
    "for feat in max_features_options:\n",
    "        results_exp[str(feat)] =experim.experiment_RandomForest(repeats,\n",
    "                  X_train, X_test, y_train, y_test,scaler_y,\n",
    "                  rand=20,is_random_fixed='FALSE',dependenttype=dependenttype,\n",
    "                  est=est,min_leaf=min_leaf,feat=feat,max_leaf=max_leaf,min_weight=min_weight,min_impurity=min_impurity)[1] \n",
    "    \n",
    "results=pd.concat([results,results_exp])\n",
    "\n",
    "## summarize results\n",
    "print('Size:',results.size)\n",
    "#print(results.describe())\n",
    "#save boxplot\n",
    "plt.gcf().clear()\n",
    "results.boxplot()\n",
    "\n",
    "plt.title(\"RF-Box Plot for {}-{},{} est,{} min_leaf,{} rs_for split,{} feat, {} max_leaf, {} min_weight,{}min_impurity\"\n",
    "          .format(Productname,MonthSeries,  est, min_leaf,rs,max_features_options,max_leaf,min_weight,min_impurity))\n",
    "plt.savefig('RF-Box Plot for {}-{}, {} est,{} min_leaf,{} feat,{} max_leaf, {} min_weight,{}min_impurity.png'\n",
    "               .format(Productname,MonthSeries,est,min_leaf,max_features_options,max_leaf,min_weight,min_impurity))\n",
    "results.median()"
   ]
  },
  {
   "cell_type": "code",
   "execution_count": 136,
   "metadata": {
    "scrolled": true
   },
   "outputs": [
    {
     "name": "stdout",
     "output_type": "stream",
     "text": [
      "randomforest rs= 97\n",
      "randomforest rs= 54\n",
      "randomforest rs= 84\n",
      "randomforest rs= 4\n",
      "randomforest rs= 6\n",
      "randomforest rs= 53\n",
      "randomforest rs= 2\n",
      "randomforest rs= 37\n",
      "randomforest rs= 74\n",
      "randomforest rs= 30\n",
      "randomforest rs= 59\n",
      "randomforest rs= 22\n",
      "randomforest rs= 45\n",
      "randomforest rs= 44\n",
      "randomforest rs= 67\n",
      "randomforest rs= 46\n",
      "randomforest rs= 5\n",
      "randomforest rs= 9\n",
      "randomforest rs= 40\n",
      "randomforest rs= 87\n",
      "randomforest rs= 83\n",
      "randomforest rs= 80\n",
      "randomforest rs= 24\n",
      "randomforest rs= 51\n",
      "randomforest rs= 26\n",
      "Size: 25\n"
     ]
    },
    {
     "data": {
      "text/plain": [
       "1     0.914\n",
       "2     0.917\n",
       "5     0.916\n",
       "20    0.864\n",
       "30    0.825\n",
       "dtype: float64"
      ]
     },
     "execution_count": 136,
     "metadata": {},
     "output_type": "execute_result"
    },
    {
     "data": {
      "image/png": "[encoded data removed]",
      "text/plain": [
       "<matplotlib.figure.Figure at 0x282b6dee7b8>"
      ]
     },
     "metadata": {},
     "output_type": "display_data"
    }
   ],
   "source": [
    "# MAIN for Random Forest Experiments\n",
    "# EXPERIMENT (with fixed split set) 2 for max_features_options \n",
    "\n",
    "# Get the best of from previous experiment\n",
    "feat='auto'\n",
    "\n",
    "# Initialize results\n",
    "results = DataFrame()\n",
    "results_exp = DataFrame()\n",
    "results_split= DataFrame()\n",
    "\n",
    "   \n",
    "for min_leaf in min_sample_leaf_options:\n",
    "            results_exp[str(min_leaf)] =experim.experiment_RandomForest(repeats,\n",
    "                  X_train, X_test, y_train, y_test,scaler_y,\n",
    "                  rand=20,is_random_fixed='FALSE',dependenttype=dependenttype,\n",
    "                  est=est,min_leaf=min_leaf,feat=feat,max_leaf=max_leaf,min_weight=min_weight,min_impurity=min_impurity)[1] \n",
    "    \n",
    "        \n",
    "results=pd.concat([results,results_exp])\n",
    "\n",
    "## summarize results\n",
    "print('Size:',results.size)\n",
    "#print(results.describe())\n",
    "#save boxplot\n",
    "\n",
    "\n",
    "plt.gcf().clear()\n",
    "results.boxplot()\n",
    "plt.title(\"RF-Box Plot for {}-{},{} est,{} min_leaf,{} rs_for split,{} feat, {} max_leaf, {} min_weight,{}min_impurity\"\n",
    "          .format(Productname,MonthSeries,  est, min_sample_leaf_options,rs,feat,max_leaf,min_weight,min_impurity))\n",
    "plt.savefig('RF-Box Plot for {}-{}, {} est,{} min_leaf,{} feat,{} max_leaf, {} min_weight,{}min_impurity.png'\n",
    "               .format(Productname,MonthSeries,est,min_sample_leaf_options,feat,max_leaf,min_weight,min_impurity))\n",
    "\n",
    "\n",
    "results.median()\n"
   ]
  },
  {
   "cell_type": "code",
   "execution_count": 137,
   "metadata": {
    "scrolled": true
   },
   "outputs": [
    {
     "name": "stdout",
     "output_type": "stream",
     "text": [
      "randomforest rs= 14\n",
      "randomforest rs= 28\n",
      "randomforest rs= 90\n",
      "randomforest rs= 53\n",
      "randomforest rs= 77\n",
      "randomforest rs= 71\n",
      "randomforest rs= 86\n",
      "randomforest rs= 34\n",
      "randomforest rs= 21\n",
      "randomforest rs= 74\n",
      "randomforest rs= 39\n",
      "randomforest rs= 97\n",
      "randomforest rs= 77\n",
      "randomforest rs= 25\n",
      "randomforest rs= 32\n",
      "randomforest rs= 16\n",
      "randomforest rs= 98\n",
      "randomforest rs= 50\n",
      "randomforest rs= 34\n",
      "randomforest rs= 44\n",
      "randomforest rs= 11\n",
      "randomforest rs= 49\n",
      "randomforest rs= 45\n",
      "randomforest rs= 12\n",
      "randomforest rs= 3\n",
      "randomforest rs= 28\n",
      "randomforest rs= 43\n",
      "randomforest rs= 99\n",
      "randomforest rs= 93\n",
      "randomforest rs= 57\n",
      "Size: 30\n"
     ]
    },
    {
     "data": {
      "text/plain": [
       "2      0.834\n",
       "5      0.914\n",
       "10     0.917\n",
       "100    0.918\n",
       "200    0.916\n",
       "300    0.915\n",
       "dtype: float64"
      ]
     },
     "execution_count": 137,
     "metadata": {},
     "output_type": "execute_result"
    },
    {
     "data": {
      "image/png": "[encoded data removed]",
      "text/plain": [
       "<matplotlib.figure.Figure at 0x282b7499d68>"
      ]
     },
     "metadata": {},
     "output_type": "display_data"
    }
   ],
   "source": [
    "# MAIN for Random Forest Experiments\n",
    "# EXPERIMENT (with fixed split set) 3 for max_leaf_nodes_options \n",
    "\n",
    "# Get the best of from previous experiment\n",
    "min_leaf=2\n",
    "\n",
    "# Initialize results\n",
    "results = DataFrame()\n",
    "results_exp = DataFrame()\n",
    "results_split= DataFrame()\n",
    "\n",
    "  \n",
    "for max_leaf in max_leaf_nodes_options:\n",
    "                results_exp[str(max_leaf)]  =experim.experiment_RandomForest(repeats,\n",
    "                X_train, X_test, y_train, y_test,scaler_y,\n",
    "                rand=20,is_random_fixed='FALSE',dependenttype=dependenttype,\n",
    "                est=est,min_leaf=min_leaf,feat=feat,max_leaf=max_leaf,min_weight=min_weight,min_impurity=min_impurity)[1] \n",
    "    \n",
    "results=pd.concat([results,results_exp])\n",
    "            \n",
    "## summarize results\n",
    "print('Size:',results.size)\n",
    "#print(results.describe())\n",
    "#save boxplot\n",
    "plt.gcf().clear()\n",
    "results.boxplot()\n",
    "\n",
    "plt.title(\"RF-Box Plot for {}-{},{} est,{} min_leaf,{} rs_for split,{} feat, {} max_leaf, {} min_weight,{}min_impurity\"\n",
    "          .format(Productname,MonthSeries,  est, min_leaf,rs,feat,max_leaf_nodes_options,min_weight,min_impurity))\n",
    "plt.savefig('RF-Box Plot for {}-{}, {} est,{} min_leaf,{} feat,{} max_leaf, {} min_weight,{}min_impurity.png'\n",
    "               .format(Productname,MonthSeries,est,min_leaf,feat,max_leaf_nodes_options,min_weight,min_impurity))\n",
    "results.median()"
   ]
  },
  {
   "cell_type": "code",
   "execution_count": 138,
   "metadata": {
    "scrolled": true
   },
   "outputs": [
    {
     "name": "stdout",
     "output_type": "stream",
     "text": [
      "randomforest rs= 94\n",
      "randomforest rs= 13\n",
      "randomforest rs= 86\n",
      "randomforest rs= 10\n",
      "randomforest rs= 71\n",
      "randomforest rs= 23\n",
      "randomforest rs= 21\n",
      "randomforest rs= 45\n",
      "randomforest rs= 31\n",
      "randomforest rs= 46\n",
      "randomforest rs= 58\n",
      "randomforest rs= 50\n",
      "randomforest rs= 43\n",
      "randomforest rs= 29\n",
      "randomforest rs= 80\n",
      "randomforest rs= 76\n",
      "randomforest rs= 95\n",
      "randomforest rs= 56\n",
      "randomforest rs= 61\n",
      "randomforest rs= 97\n",
      "Size: 20\n"
     ]
    },
    {
     "data": {
      "text/plain": [
       "1e-06    0.927\n",
       "1e-05    0.924\n",
       "0.001    0.918\n",
       "0.01     0.841\n",
       "dtype: float64"
      ]
     },
     "execution_count": 138,
     "metadata": {},
     "output_type": "execute_result"
    },
    {
     "data": {
      "image/png": "[encoded data removed]",
      "text/plain": [
       "<matplotlib.figure.Figure at 0x282b48347b8>"
      ]
     },
     "metadata": {},
     "output_type": "display_data"
    }
   ],
   "source": [
    "# MAIN for Random Forest Experiments\n",
    "# EXPERIMENT (with fixed split set) 4 for min_impurity_decrease_options\n",
    "\n",
    "# Get the best of from previous experiment\n",
    "max_leaf=100\n",
    "\n",
    "\n",
    "# Initialize results\n",
    "results = DataFrame()\n",
    "results_exp = DataFrame()\n",
    "results_split= DataFrame()\n",
    "\n",
    "for min_impurity in min_impurity_decrease_options:\n",
    "                results_exp[str(min_impurity)]  =experim.experiment_RandomForest(repeats,\n",
    "                X_train, X_test, y_train, y_test,scaler_y,\n",
    "                rand=20,is_random_fixed='FALSE',dependenttype=dependenttype,\n",
    "                est=est,min_leaf=min_leaf,feat=feat,max_leaf=max_leaf,min_weight=min_weight,min_impurity=min_impurity)[1] \n",
    "    \n",
    "results=pd.concat([results,results_exp])\n",
    "\n",
    "## summarize results\n",
    "print('Size:',results.size)\n",
    "#print(results.describe())\n",
    "#save boxplot\n",
    "plt.gcf().clear()\n",
    "results.boxplot()\n",
    "\n",
    "\n",
    "plt.title(\"RF-Box Plot for {}-{},{} est,{} min_leaf,{} rs_for split,{} feat, {} max_leaf, {} min_weight,{}min_impurity\"\n",
    "          .format(Productname,MonthSeries,  est, min_leaf,rs,feat,max_leaf,min_weight,min_impurity_decrease_options))\n",
    "plt.savefig('RF-Box Plot for {}-{}, {} est,{} min_leaf,{} feat,{} max_leaf, {} min_weig,{}min_impu.png'\n",
    "               .format(Productname,MonthSeries,est,min_leaf,feat,max_leaf,min_weight,min_impurity_decrease_options))\n",
    "results.median()"
   ]
  },
  {
   "cell_type": "code",
   "execution_count": 139,
   "metadata": {
    "scrolled": true
   },
   "outputs": [
    {
     "name": "stdout",
     "output_type": "stream",
     "text": [
      "randomforest rs= 67\n",
      "randomforest rs= 80\n",
      "randomforest rs= 53\n",
      "randomforest rs= 25\n",
      "randomforest rs= 42\n",
      "randomforest rs= 41\n",
      "randomforest rs= 21\n",
      "randomforest rs= 50\n",
      "randomforest rs= 28\n",
      "randomforest rs= 65\n",
      "randomforest rs= 78\n",
      "randomforest rs= 61\n",
      "randomforest rs= 42\n",
      "randomforest rs= 43\n",
      "randomforest rs= 20\n",
      "randomforest rs= 82\n",
      "randomforest rs= 92\n",
      "randomforest rs= 11\n",
      "randomforest rs= 61\n",
      "randomforest rs= 51\n",
      "randomforest rs= 25\n",
      "randomforest rs= 76\n",
      "randomforest rs= 11\n",
      "randomforest rs= 89\n",
      "randomforest rs= 9\n",
      "Size: 25\n"
     ]
    },
    {
     "data": {
      "text/plain": [
       "1e-05     0.924\n",
       "0.0001    0.923\n",
       "0.001     0.924\n",
       "0.01      0.920\n",
       "0.1       0.916\n",
       "dtype: float64"
      ]
     },
     "execution_count": 139,
     "metadata": {},
     "output_type": "execute_result"
    },
    {
     "data": {
      "image/png": "[encoded data removed]",
      "text/plain": [
       "<matplotlib.figure.Figure at 0x282b854e828>"
      ]
     },
     "metadata": {},
     "output_type": "display_data"
    }
   ],
   "source": [
    "# MAIN for Random Forest Experiments\n",
    "# EXPERIMENT (with fixed split set) 5 for min_weight_fraction_leaf_options\n",
    "\n",
    "# Get the best of from previous experiment\n",
    "min_impurity=1e-06\n",
    "\n",
    "# Initialize results\n",
    "results = DataFrame()\n",
    "results_exp = DataFrame()\n",
    "results_split= DataFrame()\n",
    "\n",
    "for min_weight in min_weight_fraction_leaf_options:\n",
    "                results_exp[str(min_weight)]  =experim.experiment_RandomForest(repeats,\n",
    "                X_train, X_test, y_train, y_test,scaler_y,\n",
    "                rand=20,is_random_fixed='FALSE',dependenttype=dependenttype,\n",
    "                est=est,min_leaf=min_leaf,feat=feat,max_leaf=max_leaf,min_weight=min_weight,min_impurity=min_impurity)[1] \n",
    "    \n",
    "results=pd.concat([results,results_exp])\n",
    "\n",
    "## summarize results\n",
    "print('Size:',results.size)\n",
    "#print(results.describe())\n",
    "#save boxplot\n",
    "plt.gcf().clear()\n",
    "results.boxplot()\n",
    "\n",
    "\n",
    "plt.title(\"RF-Box Plot for {}-{},{} est,{} min_leaf,{} rs_for split,{} feat, {} max_leaf, {} min_weight,{}min_impurity\"\n",
    "          .format(Productname,MonthSeries,  est, min_leaf,rs,feat,max_leaf,min_weight_fraction_leaf_options,min_impurity))\n",
    "plt.savefig('RF-Box Plot for {}-{}, {} est,{} min_leaf,{} feat,{} max_leaf, {} min_weig,{}min_impu.png'\n",
    "               .format(Productname,MonthSeries,est,min_leaf,feat,max_leaf,min_weight_fraction_leaf_options,min_impurity))\n",
    "results.median()"
   ]
  },
  {
   "cell_type": "code",
   "execution_count": 140,
   "metadata": {
    "scrolled": true
   },
   "outputs": [
    {
     "name": "stdout",
     "output_type": "stream",
     "text": [
      "randomforest rs= 89\n",
      "randomforest rs= 59\n",
      "randomforest rs= 15\n",
      "randomforest rs= 68\n",
      "randomforest rs= 36\n",
      "randomforest rs= 75\n",
      "randomforest rs= 16\n",
      "randomforest rs= 20\n",
      "randomforest rs= 73\n",
      "randomforest rs= 4\n",
      "randomforest rs= 35\n",
      "randomforest rs= 54\n",
      "randomforest rs= 49\n",
      "randomforest rs= 16\n",
      "randomforest rs= 96\n",
      "randomforest rs= 32\n",
      "randomforest rs= 28\n",
      "randomforest rs= 83\n",
      "randomforest rs= 57\n",
      "randomforest rs= 25\n",
      "randomforest rs= 60\n",
      "randomforest rs= 68\n",
      "randomforest rs= 51\n",
      "randomforest rs= 60\n",
      "randomforest rs= 80\n",
      "randomforest rs= 3\n",
      "randomforest rs= 18\n",
      "randomforest rs= 20\n",
      "randomforest rs= 8\n",
      "randomforest rs= 30\n",
      "randomforest rs= 95\n",
      "randomforest rs= 25\n",
      "randomforest rs= 70\n",
      "randomforest rs= 97\n",
      "randomforest rs= 86\n",
      "Size: 35\n"
     ]
    },
    {
     "data": {
      "text/plain": [
       "100      0.931\n",
       "200      0.922\n",
       "500      0.927\n",
       "1000     0.926\n",
       "5000     0.928\n",
       "10000    0.928\n",
       "20000    0.928\n",
       "dtype: float64"
      ]
     },
     "execution_count": 140,
     "metadata": {},
     "output_type": "execute_result"
    },
    {
     "data": {
      "image/png": "[encoded data removed]",
      "text/plain": [
       "<matplotlib.figure.Figure at 0x282b6c7b630>"
      ]
     },
     "metadata": {},
     "output_type": "display_data"
    }
   ],
   "source": [
    "# MAIN for Random Forest Experiments\n",
    "# EXPERIMENT (with fixed split set) 6 for estimator_options\n",
    "\n",
    "# Get the best of from previous experiment\n",
    "min_weight=0.001 \n",
    "\n",
    "\n",
    "# Initialize results\n",
    "results = DataFrame()\n",
    "results_exp = DataFrame()\n",
    "results_split= DataFrame()\n",
    "\n",
    "for est in estimator_options:\n",
    "            results_exp[str(est)] =experim.experiment_RandomForest(repeats,\n",
    "                  X_train, X_test, y_train, y_test,scaler_y,\n",
    "                  rand=20,is_random_fixed='FALSE',dependenttype=dependenttype,\n",
    "                  est=est,min_leaf=min_leaf,feat=feat,max_leaf=max_leaf,min_weight=min_weight,min_impurity=min_impurity)[1] \n",
    "    \n",
    "results=pd.concat([results,results_exp])\n",
    "\n",
    "## summarize results\n",
    "print('Size:',results.size)\n",
    "#print(results.describe())\n",
    "\n",
    "#save boxplot\n",
    "plt.gcf().clear()\n",
    "results.boxplot()\n",
    "\n",
    "plt.title(\"RF-Box Plot for {}-{},{} est,{} min_leaf,{} rs_for split,{} feat, {} max_leaf, {} min_weight,{}min_impurity\"\n",
    "          .format(Productname,MonthSeries,  estimator_options, min_leaf,rs,feat,max_leaf,min_weight,min_impurity))\n",
    "plt.savefig('RF-Box Plot for {}-{}, {} est,{} min_leaf,{} feat,{} max_leaf, {} minweig,{}minimp.png'\n",
    "               .format(Productname,MonthSeries,estimator_options,min_leaf,feat,max_leaf,min_weight,min_impurity))\n",
    "results.median()"
   ]
  },
  {
   "cell_type": "code",
   "execution_count": 142,
   "metadata": {},
   "outputs": [
    {
     "name": "stdout",
     "output_type": "stream",
     "text": [
      "Product= 841850\n",
      "Month =  _34\n",
      "percent = 100\n",
      "dependenttype = log\n",
      "max_features= auto\n",
      "min_sample_leaf= 2\n",
      "max_leaf_nodes= 100\n",
      "min_impurity_decrease= 1e-06\n",
      "min_weight_fraction_leaf= 0.001\n",
      "est= 100\n",
      "feat= auto\n",
      "min_leaf= 2\n",
      "max_leaf= 100\n",
      "min_impurity= 1e-06\n",
      "min_weight= 0.001\n",
      "est= 100\n"
     ]
    }
   ],
   "source": [
    "# Get the best of from previous experiment\n",
    "est=100\n",
    "\n",
    "when=datetime.now().strftime('%m-%d %H:%M')\n",
    "print(\"Product=\",Productname)\n",
    "print(\"Month = \",MonthSeries)\n",
    "print(\"percent =\",percent)\n",
    "print(\"dependenttype =\",dependenttype)\n",
    "\n",
    "\n",
    "#Tuned Parameters after experiments\n",
    "print(\"max_features=\",feat) # EXP1\n",
    "print(\"min_sample_leaf=\", min_leaf) # EXP2\n",
    "print(\"max_leaf_nodes=\", max_leaf) # EXP3\n",
    "print(\"min_impurity_decrease=\", min_impurity) # EXP4\n",
    "print(\"min_weight_fraction_leaf=\", min_weight) # EXP5\n",
    "print(\"est=\", est) # EXP6\n",
    "\n",
    "\n",
    "# store as parameters\n",
    "parameters=[Product,Exp_Country,Imp_Country,MonthSeries,percent,dependenttype,rs,feat,min_leaf,max_leaf,min_impurity,min_weight,est,when]\n",
    "\n",
    "print(\"feat=\",feat) # EXP1\n",
    "print(\"min_leaf=\", min_leaf) # EXP2\n",
    "print(\"max_leaf=\", max_leaf) # EXP3\n",
    "print(\"min_impurity=\", min_impurity) # EXP4\n",
    "print(\"min_weight=\", min_weight) # EXP5\n",
    "print(\"est=\", est) # EXP6\n"
   ]
  },
  {
   "cell_type": "code",
   "execution_count": 146,
   "metadata": {
    "scrolled": true
   },
   "outputs": [
    {
     "name": "stdout",
     "output_type": "stream",
     "text": [
      "Not_Tuned\n",
      "randomforest rs= 41\n",
      "randomforest rs= 54\n",
      "randomforest rs= 17\n",
      "randomforest rs= 54\n",
      "randomforest rs= 41\n",
      "randomforest rs= 34\n",
      "randomforest rs= 78\n",
      "randomforest rs= 71\n",
      "randomforest rs= 36\n",
      "randomforest rs= 68\n",
      "randomforest rs= 13\n",
      "randomforest rs= 83\n",
      "randomforest rs= 34\n",
      "randomforest rs= 56\n",
      "randomforest rs= 67\n",
      "randomforest rs= 86\n",
      "randomforest rs= 89\n",
      "randomforest rs= 45\n",
      "randomforest rs= 59\n",
      "randomforest rs= 98\n",
      "Tuned\n",
      "randomforest rs= 68\n",
      "randomforest rs= 83\n",
      "randomforest rs= 64\n",
      "randomforest rs= 100\n",
      "randomforest rs= 16\n",
      "randomforest rs= 52\n",
      "randomforest rs= 40\n",
      "randomforest rs= 55\n",
      "randomforest rs= 84\n",
      "randomforest rs= 38\n",
      "randomforest rs= 83\n",
      "randomforest rs= 4\n",
      "randomforest rs= 69\n",
      "randomforest rs= 18\n",
      "randomforest rs= 72\n",
      "randomforest rs= 17\n",
      "randomforest rs= 98\n",
      "randomforest rs= 12\n",
      "randomforest rs= 6\n",
      "randomforest rs= 68\n",
      "Size: 40\n"
     ]
    },
    {
     "data": {
      "text/plain": [
       "Not_Tuned    0.8815\n",
       "Tuned        0.9225\n",
       "dtype: float64"
      ]
     },
     "execution_count": 146,
     "metadata": {},
     "output_type": "execute_result"
    },
    {
     "data": {
      "image/png": "[encoded data removed]",
      "text/plain": [
       "<matplotlib.figure.Figure at 0x282b4602da0>"
      ]
     },
     "metadata": {},
     "output_type": "display_data"
    }
   ],
   "source": [
    "# MAIN for Random Forest Experiments\n",
    "# EXPERIMENT (with fixed split set) for Before Tuning and After Tuning \n",
    "\n",
    "tune_options=[ 'Not_Tuned','Tuned']\n",
    "\n",
    "# Initialize results\n",
    "results = DataFrame()\n",
    "results_exp = DataFrame()\n",
    "results_split= DataFrame()\n",
    "repeats=20\n",
    "\n",
    "for tune in tune_options:\n",
    "    \n",
    "            if tune=='Tuned':\n",
    "                print(tune)\n",
    "                \n",
    "                results_exp[str(tune)] =experim.experiment_RandomForest(repeats,\n",
    "                  X_train, X_test, y_train, y_test,scaler_y,\n",
    "                  rand=20,is_random_fixed='FALSE',dependenttype=dependenttype,\n",
    "                  est=est,min_leaf=min_leaf,feat=feat,max_leaf=max_leaf,min_weight=min_weight,min_impurity=min_impurity)[1] \n",
    "    \n",
    "            elif tune=='Not_Tuned':\n",
    "                print(tune)\n",
    "                \n",
    "            # Defaults for variables for the first experiment\n",
    "\n",
    "                results_exp[str(tune)] =experim.experiment_RandomForest(repeats,\n",
    "                  X_train, X_test, y_train, y_test,scaler_y,\n",
    "                  rand=20,is_random_fixed='FALSE',dependenttype=dependenttype)[1] \n",
    "    \n",
    "    \n",
    "    \n",
    "results=pd.concat([results,results_exp])\n",
    "\n",
    "## summarize results\n",
    "print('Size:',results.size)\n",
    "#print(results.describe())\n",
    "\n",
    "#save boxplot\n",
    "plt.gcf().clear()\n",
    "results.boxplot()\n",
    "\n",
    "\n",
    "plt.title(\"RF-Box Plot for {}-{}, Before and After Tuning, {} est,{} min_leaf,{} rs_for split,{} feat, {} max_leaf, {} min_weight,{}min_impurity  \"\n",
    "          .format(Productname,MonthSeries, est, min_leaf,rs,feat,max_leaf,min_weight,min_impurity))\n",
    "\n",
    "plt.savefig(\"RF-BoxPlotfor {}-{}, Before and After Tuning with fixed splits.png \"\n",
    "          .format(Productname,MonthSeries), format='png', dpi=300)\n",
    "\n",
    "tuned_results_fixed_split=[results['Tuned'].describe()[5],results['Tuned'].describe()[6]]\n",
    "results.median()"
   ]
  },
  {
   "cell_type": "code",
   "execution_count": 147,
   "metadata": {
    "scrolled": true
   },
   "outputs": [
    {
     "name": "stdout",
     "output_type": "stream",
     "text": [
      "split rs= 53\n",
      "randomforest rs= 9\n",
      "randomforest rs= 26\n",
      "randomforest rs= 42\n",
      "randomforest rs= 77\n",
      "randomforest rs= 85\n",
      "randomforest rs= 32\n",
      "randomforest rs= 96\n",
      "randomforest rs= 76\n",
      "randomforest rs= 59\n",
      "randomforest rs= 65\n",
      "randomforest rs= 90\n",
      "randomforest rs= 35\n",
      "randomforest rs= 24\n",
      "randomforest rs= 60\n",
      "randomforest rs= 29\n",
      "randomforest rs= 49\n",
      "randomforest rs= 89\n",
      "randomforest rs= 94\n",
      "randomforest rs= 86\n",
      "randomforest rs= 76\n",
      "randomforest rs= 19\n",
      "randomforest rs= 48\n",
      "randomforest rs= 8\n",
      "randomforest rs= 78\n",
      "randomforest rs= 82\n",
      "randomforest rs= 37\n",
      "randomforest rs= 63\n",
      "randomforest rs= 91\n",
      "randomforest rs= 34\n",
      "randomforest rs= 28\n",
      "randomforest rs= 39\n",
      "randomforest rs= 12\n",
      "randomforest rs= 34\n",
      "randomforest rs= 13\n",
      "randomforest rs= 95\n",
      "randomforest rs= 83\n",
      "randomforest rs= 34\n",
      "randomforest rs= 78\n",
      "randomforest rs= 35\n",
      "randomforest rs= 29\n",
      "split rs= 60\n",
      "randomforest rs= 95\n",
      "randomforest rs= 23\n",
      "randomforest rs= 18\n",
      "randomforest rs= 98\n",
      "randomforest rs= 67\n",
      "randomforest rs= 50\n",
      "randomforest rs= 91\n",
      "randomforest rs= 97\n",
      "randomforest rs= 4\n",
      "randomforest rs= 67\n",
      "randomforest rs= 80\n",
      "randomforest rs= 51\n",
      "randomforest rs= 24\n",
      "randomforest rs= 73\n",
      "randomforest rs= 84\n",
      "randomforest rs= 89\n",
      "randomforest rs= 55\n",
      "randomforest rs= 66\n",
      "randomforest rs= 80\n",
      "randomforest rs= 36\n",
      "randomforest rs= 29\n",
      "randomforest rs= 100\n",
      "randomforest rs= 38\n",
      "randomforest rs= 98\n",
      "randomforest rs= 66\n",
      "randomforest rs= 78\n",
      "randomforest rs= 37\n",
      "randomforest rs= 17\n",
      "randomforest rs= 45\n",
      "randomforest rs= 23\n",
      "randomforest rs= 19\n",
      "randomforest rs= 53\n",
      "randomforest rs= 29\n",
      "randomforest rs= 58\n",
      "randomforest rs= 43\n",
      "randomforest rs= 25\n",
      "randomforest rs= 81\n",
      "randomforest rs= 4\n",
      "randomforest rs= 50\n",
      "randomforest rs= 41\n",
      "split rs= 56\n",
      "randomforest rs= 64\n",
      "randomforest rs= 63\n",
      "randomforest rs= 84\n",
      "randomforest rs= 100\n",
      "randomforest rs= 54\n",
      "randomforest rs= 42\n",
      "randomforest rs= 87\n",
      "randomforest rs= 65\n",
      "randomforest rs= 65\n",
      "randomforest rs= 91\n",
      "randomforest rs= 81\n",
      "randomforest rs= 65\n",
      "randomforest rs= 45\n",
      "randomforest rs= 24\n",
      "randomforest rs= 34\n",
      "randomforest rs= 87\n",
      "randomforest rs= 64\n",
      "randomforest rs= 54\n",
      "randomforest rs= 13\n",
      "randomforest rs= 4\n",
      "randomforest rs= 97\n",
      "randomforest rs= 30\n",
      "randomforest rs= 60\n",
      "randomforest rs= 71\n",
      "randomforest rs= 99\n",
      "randomforest rs= 37\n",
      "randomforest rs= 63\n",
      "randomforest rs= 34\n",
      "randomforest rs= 88\n",
      "randomforest rs= 31\n",
      "randomforest rs= 33\n",
      "randomforest rs= 65\n",
      "randomforest rs= 8\n",
      "randomforest rs= 32\n",
      "randomforest rs= 76\n",
      "randomforest rs= 42\n",
      "randomforest rs= 86\n",
      "randomforest rs= 67\n",
      "randomforest rs= 36\n",
      "randomforest rs= 67\n",
      "split rs= 51\n",
      "randomforest rs= 35\n",
      "randomforest rs= 90\n",
      "randomforest rs= 40\n",
      "randomforest rs= 89\n",
      "randomforest rs= 49\n",
      "randomforest rs= 75\n",
      "randomforest rs= 54\n",
      "randomforest rs= 17\n",
      "randomforest rs= 53\n",
      "randomforest rs= 30\n",
      "randomforest rs= 39\n",
      "randomforest rs= 41\n",
      "randomforest rs= 67\n",
      "randomforest rs= 21\n",
      "randomforest rs= 2\n",
      "randomforest rs= 75\n",
      "randomforest rs= 18\n",
      "randomforest rs= 65\n",
      "randomforest rs= 100\n",
      "randomforest rs= 87\n",
      "randomforest rs= 80\n",
      "randomforest rs= 50\n",
      "randomforest rs= 1\n",
      "randomforest rs= 85\n",
      "randomforest rs= 47\n",
      "randomforest rs= 100\n",
      "randomforest rs= 75\n",
      "randomforest rs= 69\n",
      "randomforest rs= 53\n",
      "randomforest rs= 33\n",
      "randomforest rs= 9\n",
      "randomforest rs= 59\n",
      "randomforest rs= 84\n",
      "randomforest rs= 76\n",
      "randomforest rs= 4\n",
      "randomforest rs= 96\n",
      "randomforest rs= 33\n",
      "randomforest rs= 38\n",
      "randomforest rs= 67\n",
      "randomforest rs= 87\n",
      "split rs= 23\n",
      "randomforest rs= 54\n",
      "randomforest rs= 12\n",
      "randomforest rs= 80\n",
      "randomforest rs= 91\n",
      "randomforest rs= 89\n",
      "randomforest rs= 74\n",
      "randomforest rs= 26\n",
      "randomforest rs= 91\n",
      "randomforest rs= 15\n",
      "randomforest rs= 43\n",
      "randomforest rs= 21\n",
      "randomforest rs= 5\n",
      "randomforest rs= 12\n",
      "randomforest rs= 62\n",
      "randomforest rs= 66\n",
      "randomforest rs= 57\n",
      "randomforest rs= 61\n",
      "randomforest rs= 32\n",
      "randomforest rs= 16\n",
      "randomforest rs= 18\n",
      "randomforest rs= 85\n",
      "randomforest rs= 16\n",
      "randomforest rs= 29\n",
      "randomforest rs= 46\n",
      "randomforest rs= 20\n",
      "randomforest rs= 66\n",
      "randomforest rs= 50\n",
      "randomforest rs= 58\n",
      "randomforest rs= 8\n",
      "randomforest rs= 47\n",
      "randomforest rs= 46\n",
      "randomforest rs= 28\n",
      "randomforest rs= 48\n",
      "randomforest rs= 57\n",
      "randomforest rs= 35\n",
      "randomforest rs= 84\n",
      "randomforest rs= 50\n",
      "randomforest rs= 50\n",
      "randomforest rs= 36\n",
      "randomforest rs= 22\n",
      "Size: 200\n"
     ]
    },
    {
     "data": {
      "text/plain": [
       "Not_Tuned    0.889\n",
       "Tuned        0.921\n",
       "dtype: float64"
      ]
     },
     "execution_count": 147,
     "metadata": {},
     "output_type": "execute_result"
    },
    {
     "data": {
      "image/png": "[encoded data removed]",
      "text/plain": [
       "<matplotlib.figure.Figure at 0x282b419c780>"
      ]
     },
     "metadata": {},
     "output_type": "display_data"
    }
   ],
   "source": [
    "# MAIN for Random Forest Experiments\n",
    "# EXPERIMENT (with different split sets) for Before Tuning and After Tuning \n",
    "\n",
    "\n",
    "# Initialize results\n",
    "results = DataFrame()\n",
    "results_exp = DataFrame()\n",
    "results_split= DataFrame()\n",
    "\n",
    "\n",
    "repeats=20\n",
    "random_range_for_split=5\n",
    "\n",
    "for r in range (random_range_for_split):\n",
    "\n",
    "    rs=random.randint(1,100)\n",
    "\n",
    "    print('split rs=',rs)\n",
    "    \n",
    "    Scaled_Train_Test_Split=experim.X_Y_scaler_train_test_Split(X_threshold,dependent_variable,Z,random=rs)\n",
    "\n",
    "    X_train = Scaled_Train_Test_Split[0]\n",
    "    X_test = Scaled_Train_Test_Split[1]\n",
    "    y_train = Scaled_Train_Test_Split[2]\n",
    "    y_test = Scaled_Train_Test_Split[3]\n",
    "    scaler_X = Scaled_Train_Test_Split[4]  \n",
    "    scaler_y = Scaled_Train_Test_Split[5]\n",
    "    scaled_value_X=Scaled_Train_Test_Split[6]\n",
    "    scaled_value_y=Scaled_Train_Test_Split[7]\n",
    "     \n",
    "    \n",
    "    for tune in tune_options:\n",
    "    \n",
    "            if tune=='Not_Tuned':\n",
    "                \n",
    "                results_exp[str(tune)]  =experim.experiment_RandomForest(repeats,\n",
    "                  X_train, X_test, y_train, y_test,scaler_y,\n",
    "                  rand=20,is_random_fixed='FALSE',dependenttype=dependenttype)[1] \n",
    "\n",
    "                            \n",
    "            elif tune=='Tuned':\n",
    "                \n",
    "                results_exp[str(tune)] =experim.experiment_RandomForest(repeats,\n",
    "                  X_train, X_test, y_train, y_test,scaler_y,\n",
    "                  rand=20,is_random_fixed='FALSE',dependenttype=dependenttype,\n",
    "                  est=est,min_leaf=min_leaf,feat=feat,max_leaf=max_leaf,min_weight=min_weight,min_impurity=min_impurity)[1] \n",
    "                \n",
    "    results=pd.concat([results,results_exp])\n",
    "    \n",
    "## summarize results\n",
    "print('Size:',results.size)\n",
    "#print(results.describe())\n",
    "\n",
    "#save boxplot\n",
    "plt.gcf().clear()\n",
    "results.boxplot()\n",
    "\n",
    "\n",
    "plt.title(\"RF-Box Plot for {}-{}, Before and After Tuning, {} est,{} min_leaf,{} rs_for split,{} feat, {} max_leaf, {} min_weight,{}min_impurity  \"\n",
    "          .format(Productname,MonthSeries, est, min_leaf,rs,feat,max_leaf,min_weight,min_impurity))\n",
    "\n",
    "plt.savefig(\"RF-Box Plot for {}-{}, Before and After Tuning with different splits.png \"\n",
    "          .format(Productname,MonthSeries), format='png', dpi=300)\n",
    "\n",
    "tuned_results_mixed_split=[results['Tuned'].describe()[5],results['Tuned'].describe()[6]]\n",
    "results.median()"
   ]
  },
  {
   "cell_type": "code",
   "execution_count": 148,
   "metadata": {
    "collapsed": true
   },
   "outputs": [],
   "source": [
    "os.chdir('C:/Users/murat.ozemre/Desktop/Thesis_Project/Data_Learning_Prediction')\n",
    "# Read from Excel Tuning paremeters\n",
    "Tuned_set = pd.ExcelFile('Tuned_Parameters.xlsx'.format(Exp_Country,Imp_Country,Product))\n",
    "Tuned_set_RF_all = Tuned_set.parse('RF', header=0,index_col=None, na_values=['NA'])\n",
    "Tuned_set_NN_all = Tuned_set.parse('NN', header=0,index_col=None, na_values=['NA'])\n",
    "\n",
    "\n",
    "# For this experiment \n",
    "tuned_results_RF=tuned_results_fixed_split+tuned_results_mixed_split\n",
    "\n",
    "Tuned_set_RF =  DataFrame(columns='Product Exp Imp Month dependenttype perc rs_split max_features min_sample_leaf max_leaf_nodes min_impurity min_weight est Datetime fix_p50 fix_p75 mix_p50 mix_p75'.split())\n",
    "Tuned_set_RF.loc[0]= parameters + tuned_results_RF\n",
    "\n",
    "# Combine with the other experiments \n",
    "Tuned_set_RF_all= pd.concat([Tuned_set_RF_all,Tuned_set_RF])\n"
   ]
  },
  {
   "cell_type": "code",
   "execution_count": 149,
   "metadata": {
    "collapsed": true
   },
   "outputs": [],
   "source": [
    "os.chdir('C:/Users/murat.ozemre/Desktop/Thesis_Project/Data_Learning_Prediction')\n",
    "# Write to Excel this and previous Tuning paremeters\n",
    "writer = pd.ExcelWriter('Tuned_Parameters.xlsx')\n",
    "Tuned_set_RF_all.to_excel(writer,'RF')\n",
    "Tuned_set_NN_all.to_excel(writer,'NN')\n",
    "writer.save()"
   ]
  },
  {
   "cell_type": "markdown",
   "metadata": {},
   "source": [
    "# END OF RANDOM FOREST EXPERIMENTS"
   ]
  },
  {
   "cell_type": "code",
   "execution_count": null,
   "metadata": {
    "collapsed": true
   },
   "outputs": [],
   "source": []
  },
  {
   "cell_type": "markdown",
   "metadata": {},
   "source": [
    "# START OF NN EXPERIMENTS"
   ]
  },
  {
   "cell_type": "code",
   "execution_count": 150,
   "metadata": {
    "collapsed": true
   },
   "outputs": [],
   "source": [
    "os.chdir('C:/Users/murat.ozemre/Desktop/Thesis_Project/Data_Learning_Prediction/Box_Plots_For_NeuralNetworks')"
   ]
  },
  {
   "cell_type": "code",
   "execution_count": 151,
   "metadata": {
    "scrolled": true
   },
   "outputs": [
    {
     "name": "stdout",
     "output_type": "stream",
     "text": [
      "neuralnetwork rs= 41\n"
     ]
    },
    {
     "data": {
      "text/plain": [
       "((0,\n",
       "  0,\n",
       "  0.826,\n",
       "  0.847,\n",
       "  [1147.9998554466865,\n",
       "   1622.0001291090064,\n",
       "   2130.999534066557,\n",
       "   1737.9995398995286,\n",
       "   1200.0001510833804,\n",
       "   1081.9999813569661,\n",
       "   4226.9999505895985,\n",
       "   1532.9998377400525,\n",
       "   2155.9998613759235,\n",
       "   609.0000636625964,\n",
       "   4122.000211561258,\n",
       "   3274.001344455908,\n",
       "   3779.0010182211226,\n",
       "   3852.998072707958,\n",
       "   3149.9990401201685,\n",
       "   3911.9993893534843,\n",
       "   556.9999377044724,\n",
       "   3734.9984860561844,\n",
       "   1468.999941658727,\n",
       "   1754.00024552681,\n",
       "   3285.000596264826,\n",
       "   3683.000004185603,\n",
       "   2391.999909870989,\n",
       "   3282.000018415069,\n",
       "   4836.999789952369,\n",
       "   1425.9997869335239,\n",
       "   2057.000266327388,\n",
       "   1050.9999479321784,\n",
       "   1779.0000257871939],\n",
       "  [1499.662856356092,\n",
       "   1249.007475290645,\n",
       "   1630.3528144381478,\n",
       "   1729.7473157234194,\n",
       "   1407.095235702627,\n",
       "   1126.3207676237848,\n",
       "   4719.133526579942,\n",
       "   1051.896526338821,\n",
       "   2117.2307443528125,\n",
       "   976.1071828945833,\n",
       "   3180.6962879855987,\n",
       "   2913.1468197125546,\n",
       "   3520.913033689111,\n",
       "   2855.029225354732,\n",
       "   3240.527471099218,\n",
       "   2808.5970502072287,\n",
       "   850.0219544613569,\n",
       "   3291.3685443386044,\n",
       "   1875.5287889387787,\n",
       "   1583.778489710756,\n",
       "   2393.9877453991194,\n",
       "   2847.3754476862086,\n",
       "   3142.9334117622407,\n",
       "   2312.6847452433904,\n",
       "   3610.2631706358943,\n",
       "   1315.9312703302662,\n",
       "   1807.894574546925,\n",
       "   845.405111868139,\n",
       "   1892.8275475743962]),\n",
       " (0,\n",
       "  0,\n",
       "  0.656,\n",
       "  0.697,\n",
       "  [2901.000604636768,\n",
       "   2628.9991844994006,\n",
       "   992.0000592548104,\n",
       "   4483.000689609914,\n",
       "   3491.0016907728336,\n",
       "   2312.9994613216436,\n",
       "   1477.000036464812,\n",
       "   1577.9999297951888,\n",
       "   750.9998888844967,\n",
       "   1885.0004364100837,\n",
       "   3269.0002522486957,\n",
       "   1018.9999877537081,\n",
       "   1144.999779875296,\n",
       "   763.9998873628033,\n",
       "   1337.0002749395996,\n",
       "   3035.9995575425337,\n",
       "   2155.0006828754117,\n",
       "   1363.0002874089146,\n",
       "   3308.0012992249517,\n",
       "   2795.9989725393275,\n",
       "   992.0000592548104,\n",
       "   4032.0019921225485,\n",
       "   1122.9998376899653,\n",
       "   2493.000157571211,\n",
       "   1442.0006444535816,\n",
       "   3266.9988040870917,\n",
       "   1684.9991054320037,\n",
       "   1523.9999214150423,\n",
       "   790.9997072896842,\n",
       "   1495.9996786288966,\n",
       "   1091.0000508869002,\n",
       "   3769.9978808366272,\n",
       "   1509.9999760433998,\n",
       "   1334.9998297704549,\n",
       "   1559.9999812484707,\n",
       "   1728.0002608258294,\n",
       "   2952.9989521873727,\n",
       "   3141.0002164394655,\n",
       "   2923.000117544155,\n",
       "   1599.0003427482245,\n",
       "   2968.9984988839115,\n",
       "   1857.0003939972796,\n",
       "   2098.9999435135087,\n",
       "   4217.9997870014795,\n",
       "   2957.9997793651823,\n",
       "   992.9997727586992,\n",
       "   1505.0002500016424,\n",
       "   2409.999989145769,\n",
       "   2623.9993233594705,\n",
       "   1633.9999992998303,\n",
       "   1977.99922162114,\n",
       "   2548.9997293929678,\n",
       "   403.99995100640956,\n",
       "   2220.0008120064354,\n",
       "   2634.000633745422,\n",
       "   827.0001419386992,\n",
       "   3083.9992511287105,\n",
       "   1826.9995118205045,\n",
       "   455.9998549634075,\n",
       "   3420.000449823429,\n",
       "   3272.9989359587885,\n",
       "   3877.999939704364,\n",
       "   1253.9997935855235,\n",
       "   2964.0005172397455,\n",
       "   2858.0000692792087,\n",
       "   3031.99797922206,\n",
       "   716.0002544810006,\n",
       "   1973.0001675295416,\n",
       "   1294.9998510626704,\n",
       "   1286.999913558908,\n",
       "   2139.000582824367,\n",
       "   3436.998839950829,\n",
       "   1124.9999352155141,\n",
       "   1570.9993915817001,\n",
       "   1296.000208492591,\n",
       "   2264.000355167317,\n",
       "   1952.0000607780592,\n",
       "   3226.0008385970627,\n",
       "   1322.0003617463526,\n",
       "   1205.9993924592084,\n",
       "   1631.999776051053,\n",
       "   1467.9996630399723,\n",
       "   1561.9995225340836,\n",
       "   2065.999588948216,\n",
       "   1391.999961842104,\n",
       "   1728.0002608258294,\n",
       "   3922.998986523952,\n",
       "   1618.0002813326994,\n",
       "   3677.9993215435716,\n",
       "   1698.0002832417886,\n",
       "   3729.9991499527937,\n",
       "   1862.000704104901,\n",
       "   3291.000065348279,\n",
       "   3940.0005011686276,\n",
       "   3003.000828744724,\n",
       "   5063.000456522226,\n",
       "   1507.9997317956954,\n",
       "   1191.000122034925,\n",
       "   1391.999961842104,\n",
       "   4003.001965120454,\n",
       "   1744.0003674625484,\n",
       "   2132.9992361659592,\n",
       "   3158.0012339608757,\n",
       "   3146.0008093497877,\n",
       "   1572.9997566655925,\n",
       "   2130.0003861523974,\n",
       "   1572.9997566655925,\n",
       "   1639.9995728586491,\n",
       "   1084.0002383841634,\n",
       "   2702.0003538576666,\n",
       "   2092.999797885565,\n",
       "   1127.0001982288438,\n",
       "   1361.999936244448,\n",
       "   1678.999873735275,\n",
       "   1139.9998865389578],\n",
       "  [3372.842655310765,\n",
       "   2475.432542467912,\n",
       "   1325.0974276244629,\n",
       "   3669.1235511450404,\n",
       "   3342.953922183037,\n",
       "   2212.99434529572,\n",
       "   1449.5830959654386,\n",
       "   1466.7681802138848,\n",
       "   653.6564456441683,\n",
       "   2660.2133027587374,\n",
       "   2838.0646824220025,\n",
       "   1446.439870136229,\n",
       "   868.237400123497,\n",
       "   1532.8602864420375,\n",
       "   1258.4097980798292,\n",
       "   3219.5929757990243,\n",
       "   1766.1020428094805,\n",
       "   1965.65518265087,\n",
       "   3269.835731202714,\n",
       "   1732.4051362257942,\n",
       "   1391.1827169598794,\n",
       "   3334.931808817197,\n",
       "   1196.801504953805,\n",
       "   1824.8751459163307,\n",
       "   1094.088621078064,\n",
       "   3588.480407907078,\n",
       "   1370.723093715929,\n",
       "   1803.8450409699863,\n",
       "   1424.3420805918397,\n",
       "   1669.8727364463757,\n",
       "   1388.7644355889379,\n",
       "   2809.9399609585457,\n",
       "   1565.7551876081475,\n",
       "   1359.801690243305,\n",
       "   1489.9397255869092,\n",
       "   1717.8759731577131,\n",
       "   4265.076789120156,\n",
       "   3351.391797990114,\n",
       "   2300.6375378493535,\n",
       "   2072.400901141799,\n",
       "   2595.3312313838596,\n",
       "   1648.5167054428275,\n",
       "   2488.037360481827,\n",
       "   3057.4773365145106,\n",
       "   2699.918242493726,\n",
       "   1032.65633040925,\n",
       "   1434.0289144792525,\n",
       "   2706.3199046935497,\n",
       "   3147.593815497939,\n",
       "   1475.5211873868566,\n",
       "   1575.9312966188509,\n",
       "   4069.5347745779873,\n",
       "   628.3966273007139,\n",
       "   2298.7836507118773,\n",
       "   1919.7809843215182,\n",
       "   1241.92276074332,\n",
       "   3000.220842565527,\n",
       "   1669.5081607122795,\n",
       "   837.7881142267698,\n",
       "   3234.036836302892,\n",
       "   3849.2380004171355,\n",
       "   2139.9572075967667,\n",
       "   1143.4528677083779,\n",
       "   3573.9964421041277,\n",
       "   3735.8655079640776,\n",
       "   4300.317726816231,\n",
       "   1153.2036488384322,\n",
       "   2573.8055401446295,\n",
       "   1796.243608554284,\n",
       "   1438.0092231723697,\n",
       "   1643.7591437737135,\n",
       "   3323.5653389603262,\n",
       "   1484.9392594673764,\n",
       "   1483.085037222535,\n",
       "   1432.2467263696917,\n",
       "   1816.7515595773907,\n",
       "   1718.4942120123408,\n",
       "   3444.0603842223286,\n",
       "   1132.7704078848521,\n",
       "   1604.2019760447413,\n",
       "   1393.3775559546068,\n",
       "   1212.5694303416508,\n",
       "   1508.254517384011,\n",
       "   1671.1277572890424,\n",
       "   1324.3994776685824,\n",
       "   1342.8936454752593,\n",
       "   3460.551884052111,\n",
       "   1686.0564936224187,\n",
       "   2712.6922852531616,\n",
       "   1689.635191415292,\n",
       "   1763.6008421987553,\n",
       "   1695.4525435060418,\n",
       "   3029.031321102543,\n",
       "   2691.2965150951295,\n",
       "   3341.464907542091,\n",
       "   3525.3656894844617,\n",
       "   1502.4399007867103,\n",
       "   1681.8973106334481,\n",
       "   1291.2773068344693,\n",
       "   3445.3633818063317,\n",
       "   1521.8147126560914,\n",
       "   1555.7533809484553,\n",
       "   3974.676814145983,\n",
       "   2658.515912053123,\n",
       "   1351.2118114407947,\n",
       "   1548.8684473405006,\n",
       "   1717.5496727204986,\n",
       "   2787.481769107281,\n",
       "   2513.3938657858616,\n",
       "   2582.8921294329275,\n",
       "   1494.7683188586861,\n",
       "   1780.3530481629807,\n",
       "   1839.3405659950563,\n",
       "   1141.9390084332836,\n",
       "   1360.9717529565735]))"
      ]
     },
     "execution_count": 151,
     "metadata": {},
     "output_type": "execute_result"
    }
   ],
   "source": [
    "experim.NeuralNetwork(X_train, X_test, y_train, y_test,scaler_y,rand=41,dependenttype=dependenttype)          "
   ]
  },
  {
   "cell_type": "code",
   "execution_count": 152,
   "metadata": {},
   "outputs": [
    {
     "name": "stdout",
     "output_type": "stream",
     "text": [
      "neuralnetwork rs= 52\n",
      "neuralnetwork rs= 78\n",
      "neuralnetwork rs= 59\n"
     ]
    },
    {
     "data": {
      "text/plain": [
       "([0, 0, 0], [0.573, 0.212, 0.289])"
      ]
     },
     "execution_count": 152,
     "metadata": {},
     "output_type": "execute_result"
    }
   ],
   "source": [
    "experim.experiment_NN(3,X_train, X_test, y_train, y_test,scaler_y,is_random_fixed='FALSE',dependenttype=dependenttype)    "
   ]
  },
  {
   "cell_type": "code",
   "execution_count": 153,
   "metadata": {
    "scrolled": true
   },
   "outputs": [
    {
     "name": "stdout",
     "output_type": "stream",
     "text": [
      "neuralnetwork rs= 23\n",
      "neuralnetwork rs= 4\n",
      "neuralnetwork rs= 7\n",
      "neuralnetwork rs= 89\n",
      "neuralnetwork rs= 56\n",
      "neuralnetwork rs= 21\n",
      "neuralnetwork rs= 98\n",
      "neuralnetwork rs= 87\n",
      "neuralnetwork rs= 56\n",
      "neuralnetwork rs= 42\n",
      "neuralnetwork rs= 32\n",
      "neuralnetwork rs= 72\n",
      "neuralnetwork rs= 27\n",
      "neuralnetwork rs= 79\n",
      "neuralnetwork rs= 41\n",
      "Size: 15\n"
     ]
    },
    {
     "data": {
      "text/plain": [
       "lbfgs    0.839\n",
       "adam     0.407\n",
       "sgd      0.377\n",
       "dtype: float64"
      ]
     },
     "execution_count": 153,
     "metadata": {},
     "output_type": "execute_result"
    },
    {
     "data": {
      "image/png": "[encoded data removed]",
      "text/plain": [
       "<matplotlib.figure.Figure at 0x282b42cc668>"
      ]
     },
     "metadata": {},
     "output_type": "display_data"
    }
   ],
   "source": [
    "# MAIN for Neural Network Experiments\n",
    "# EXPERIMENT (with fixed split set) 1 For \"solver_options\"\n",
    "\n",
    "repeats=5\n",
    "\n",
    "# Initialize results\n",
    "results = DataFrame()\n",
    "results_exp = DataFrame()\n",
    "results_split= DataFrame()\n",
    "\n",
    "# Defaults for variables for the first experiment\n",
    "slv='adam'\n",
    "activ ='identity'\n",
    "alph=0.0001 \n",
    "max_iteration=200  \n",
    "hidden_layer=(30,30)\n",
    "\n",
    "# Get the range for variables\n",
    "solver_options = ['lbfgs', 'adam','sgd' ]\n",
    "activation_options = ['identity', 'logistic', 'tanh', 'relu']\n",
    "alpha_options = [0.001,0.00001,0.0000001]\n",
    "max_iteration_options = [1000,10000,50000,100000]\n",
    "hidden_layer_sizes_options=[(10,10),(30,30),(100,100),(30,30,30),(30,100,30)]\n",
    "\n",
    "rs=42\n",
    "\n",
    "    \n",
    "Scaled_Train_Test_Split=experim.X_Y_scaler_train_test_Split(X_threshold,dependent_variable,Z,random=rs)\n",
    "\n",
    "X_train = Scaled_Train_Test_Split[0]\n",
    "X_test = Scaled_Train_Test_Split[1]\n",
    "y_train = Scaled_Train_Test_Split[2]\n",
    "y_test = Scaled_Train_Test_Split[3]\n",
    "scaler_X = Scaled_Train_Test_Split[4]  \n",
    "scaler_y = Scaled_Train_Test_Split[5]\n",
    "scaled_value_X=Scaled_Train_Test_Split[6]\n",
    "scaled_value_y=Scaled_Train_Test_Split[7]\n",
    "    \n",
    "    \n",
    "for slv in solver_options:\n",
    "        results_exp[str(slv)] =experim.experiment_NN(repeats,\n",
    "                  X_train, X_test, y_train, y_test,scaler_y,\n",
    "                  rand=20,is_random_fixed='FALSE',dependenttype=dependenttype,\n",
    "                  activ=activ,alph=alph,max_iteration=max_iteration, slv=slv, hidden_layer=hidden_layer)[1] \n",
    "    \n",
    "results=pd.concat([results,results_exp])\n",
    "\n",
    "## summarize results\n",
    "print('Size:',results.size)\n",
    "#print(results.describe())\n",
    "#save boxplot\n",
    "plt.gcf().clear()\n",
    "results.boxplot()\n",
    "\n",
    "plt.title(\"NN-Box Plot for {}-{}, {}solver, {}activ, {}alpha, {}max_ite, {}hiddenlayer \"\n",
    "          .format(Productname,MonthSeries, solver_options, activ, alph, max_iteration, hidden_layer))\n",
    "\n",
    "plt.savefig(\"NN-Box Plot for {}-{}, {}solver, {}activ, {}alpha, {}max_ite, {}layer.png \"\n",
    "          .format(Productname,MonthSeries,solver_options, activ,alph, max_iteration,hidden_layer), format='png', dpi=300)\n",
    "results.median()"
   ]
  },
  {
   "cell_type": "code",
   "execution_count": 154,
   "metadata": {},
   "outputs": [
    {
     "name": "stdout",
     "output_type": "stream",
     "text": [
      "neuralnetwork rs= 76\n",
      "neuralnetwork rs= 18\n",
      "neuralnetwork rs= 90\n",
      "neuralnetwork rs= 28\n",
      "neuralnetwork rs= 66\n",
      "neuralnetwork rs= 67\n",
      "neuralnetwork rs= 47\n",
      "neuralnetwork rs= 52\n",
      "neuralnetwork rs= 16\n",
      "neuralnetwork rs= 54\n",
      "neuralnetwork rs= 79\n",
      "neuralnetwork rs= 89\n",
      "neuralnetwork rs= 26\n",
      "neuralnetwork rs= 99\n",
      "neuralnetwork rs= 44\n",
      "neuralnetwork rs= 9\n",
      "neuralnetwork rs= 40\n",
      "neuralnetwork rs= 38\n",
      "neuralnetwork rs= 62\n",
      "neuralnetwork rs= 100\n",
      "Size: 20\n"
     ]
    },
    {
     "data": {
      "text/plain": [
       "identity    0.850\n",
       "logistic    0.847\n",
       "tanh        0.749\n",
       "relu        0.719\n",
       "dtype: float64"
      ]
     },
     "execution_count": 154,
     "metadata": {},
     "output_type": "execute_result"
    },
    {
     "data": {
      "image/png": "[encoded data removed]",
      "text/plain": [
       "<matplotlib.figure.Figure at 0x282b42cd908>"
      ]
     },
     "metadata": {},
     "output_type": "display_data"
    }
   ],
   "source": [
    "# MAIN for Neural Network Experiments\n",
    "# EXPERIMENT (with fixed split set) 2 for activation__options \n",
    "\n",
    "slv='lbfgs'\n",
    "# Get the best of from previous experiment\n",
    "\n",
    "# Initialize results\n",
    "results = DataFrame()\n",
    "results_exp = DataFrame()\n",
    "results_split= DataFrame()\n",
    "\n",
    "for activ in activation_options:\n",
    "        results_exp[str(activ)] =experim.experiment_NN(repeats,\n",
    "                  X_train, X_test, y_train, y_test,scaler_y,\n",
    "                  rand=20,is_random_fixed='FALSE',dependenttype=dependenttype,\n",
    "                  activ=activ,alph=alph,max_iteration=max_iteration, slv=slv, hidden_layer=hidden_layer)[1] \n",
    "    \n",
    "results=pd.concat([results,results_exp])\n",
    "\n",
    "## summarize results\n",
    "print('Size:',results.size)\n",
    "#print(results.describe())\n",
    "#save boxplot\n",
    "plt.gcf().clear()\n",
    "results.boxplot()\n",
    "\n",
    "plt.title(\"NN-Box Plot for {}-{}, {}solver, {}activ, {}alpha, {}max_ite, {}hiddenlayer \"\n",
    "          .format(Productname,MonthSeries, slv, activation_options, alph, max_iteration, hidden_layer))\n",
    "\n",
    "plt.savefig(\"NN-Box Plot for {}-{}, {}solver, {}activ, {}alpha, {}max_ite, {}layer.png \"\n",
    "          .format(Productname,MonthSeries, slv, activation_options, alph, max_iteration, hidden_layer), format='png', dpi=300)\n",
    "results.median()"
   ]
  },
  {
   "cell_type": "code",
   "execution_count": 155,
   "metadata": {},
   "outputs": [
    {
     "name": "stdout",
     "output_type": "stream",
     "text": [
      "neuralnetwork rs= 14\n",
      "neuralnetwork rs= 94\n",
      "neuralnetwork rs= 44\n",
      "neuralnetwork rs= 23\n",
      "neuralnetwork rs= 76\n",
      "neuralnetwork rs= 33\n",
      "neuralnetwork rs= 74\n",
      "neuralnetwork rs= 35\n",
      "neuralnetwork rs= 85\n",
      "neuralnetwork rs= 67\n",
      "neuralnetwork rs= 54\n",
      "neuralnetwork rs= 51\n",
      "neuralnetwork rs= 14\n",
      "neuralnetwork rs= 74\n",
      "neuralnetwork rs= 2\n",
      "Size: 15\n"
     ]
    },
    {
     "data": {
      "text/plain": [
       "0.001    0.856\n",
       "1e-05    0.872\n",
       "1e-07    0.852\n",
       "dtype: float64"
      ]
     },
     "execution_count": 155,
     "metadata": {},
     "output_type": "execute_result"
    },
    {
     "data": {
      "image/png": "[encoded data removed]",
      "text/plain": [
       "<matplotlib.figure.Figure at 0x282b6c65a58>"
      ]
     },
     "metadata": {},
     "output_type": "display_data"
    }
   ],
   "source": [
    "# MAIN for Neural Network Experiments\n",
    "# EXPERIMENT (with fixed split set) 3 for alpha_options \n",
    "\n",
    "activ ='identity'\n",
    "# Get the best of from previous experiment\n",
    "\n",
    "# Initialize results\n",
    "results = DataFrame()\n",
    "results_exp = DataFrame()\n",
    "results_split= DataFrame()\n",
    "\n",
    " \n",
    "for alph in alpha_options:\n",
    "        results_exp[str(alph)] =experim.experiment_NN(repeats,\n",
    "                  X_train, X_test, y_train, y_test,scaler_y,\n",
    "                  rand=20,is_random_fixed='FALSE',dependenttype=dependenttype,\n",
    "                  activ=activ,alph=alph,max_iteration=max_iteration, slv=slv, hidden_layer=hidden_layer)[1] \n",
    "    \n",
    "results=pd.concat([results,results_exp])\n",
    "\n",
    "## summarize results\n",
    "print('Size:',results.size)\n",
    "#print(results.describe())\n",
    "#save boxplot\n",
    "plt.gcf().clear()\n",
    "results.boxplot()\n",
    "\n",
    "plt.title(\"NN-Box Plot for {}-{}, {}solver, {}activ, {}alpha, {}max_ite, {}hiddenlayer \"\n",
    "          .format(Productname,MonthSeries, slv, activ, alpha_options, max_iteration, hidden_layer))\n",
    "\n",
    "plt.savefig(\"NN-Box Plot for {}-{}, {}solver, {}activ, {}alpha, {}max_ite, {}layer.png \"\n",
    "          .format(Productname,MonthSeries, slv, activ, alpha_options, max_iteration, hidden_layer), format='png', dpi=300)\n",
    "results.median()"
   ]
  },
  {
   "cell_type": "code",
   "execution_count": 156,
   "metadata": {
    "scrolled": true
   },
   "outputs": [
    {
     "name": "stdout",
     "output_type": "stream",
     "text": [
      "neuralnetwork rs= 87\n",
      "neuralnetwork rs= 46\n",
      "neuralnetwork rs= 6\n",
      "neuralnetwork rs= 37\n",
      "neuralnetwork rs= 72\n",
      "neuralnetwork rs= 13\n",
      "neuralnetwork rs= 31\n",
      "neuralnetwork rs= 68\n",
      "neuralnetwork rs= 18\n",
      "neuralnetwork rs= 16\n",
      "neuralnetwork rs= 70\n",
      "neuralnetwork rs= 9\n",
      "neuralnetwork rs= 53\n",
      "neuralnetwork rs= 22\n",
      "neuralnetwork rs= 24\n",
      "neuralnetwork rs= 29\n",
      "neuralnetwork rs= 33\n",
      "neuralnetwork rs= 94\n",
      "neuralnetwork rs= 80\n",
      "neuralnetwork rs= 77\n",
      "neuralnetwork rs= 83\n",
      "neuralnetwork rs= 60\n",
      "neuralnetwork rs= 79\n",
      "neuralnetwork rs= 70\n",
      "neuralnetwork rs= 97\n",
      "Size: 25\n"
     ]
    },
    {
     "data": {
      "text/plain": [
       "(10, 10)         0.860\n",
       "(30, 30)         0.854\n",
       "(100, 100)       0.860\n",
       "(30, 30, 30)     0.838\n",
       "(30, 100, 30)    0.839\n",
       "dtype: float64"
      ]
     },
     "execution_count": 156,
     "metadata": {},
     "output_type": "execute_result"
    },
    {
     "data": {
      "image/png": "[encoded data removed]",
      "text/plain": [
       "<matplotlib.figure.Figure at 0x282b744a1d0>"
      ]
     },
     "metadata": {},
     "output_type": "display_data"
    }
   ],
   "source": [
    "# MAIN for Neural Network Experiments\n",
    "# EXPERIMENT (with fixed split set) 4 for hidden_layer_sizes_options\n",
    "\n",
    "alph=1e-05\n",
    "\n",
    "# Get the best of from previous experiment\n",
    "\n",
    "# Initialize results\n",
    "results = DataFrame()\n",
    "results_exp = DataFrame()\n",
    "results_split= DataFrame()\n",
    "\n",
    "for hidden_layer in hidden_layer_sizes_options:\n",
    "        results_exp[str(hidden_layer)] =experim.experiment_NN(repeats,\n",
    "                  X_train, X_test, y_train, y_test,scaler_y,\n",
    "                  rand=20,is_random_fixed='FALSE',dependenttype=dependenttype,\n",
    "                  activ=activ,alph=alph,max_iteration=max_iteration, slv=slv, hidden_layer=hidden_layer)[1] \n",
    "    \n",
    "results=pd.concat([results,results_exp])\n",
    "\n",
    "## summarize results\n",
    "print('Size:',results.size)\n",
    "#print(results.describe())\n",
    "#save boxplot\n",
    "plt.gcf().clear()\n",
    "results.boxplot()\n",
    "\n",
    "plt.title(\"NN-Box Plot for {}-{}, {}solver, {}activ, {}alpha, {}max_ite, {}hiddenlayer \"\n",
    "          .format(Productname,MonthSeries, slv, activ, alph, max_iteration, hidden_layer_sizes_options))\n",
    "\n",
    "plt.savefig(\"NN-Box Plot for {}-{}, {}solver, {}activ, {}alpha, {}max_ite, {}layer.png \"\n",
    "          .format(Productname,MonthSeries, slv, activ, alph, max_iteration, hidden_layer_sizes_options), format='png', dpi=300)\n",
    "results.median()"
   ]
  },
  {
   "cell_type": "code",
   "execution_count": 157,
   "metadata": {
    "scrolled": true
   },
   "outputs": [
    {
     "name": "stdout",
     "output_type": "stream",
     "text": [
      "neuralnetwork rs= 30\n",
      "neuralnetwork rs= 30\n",
      "neuralnetwork rs= 94\n",
      "neuralnetwork rs= 33\n",
      "neuralnetwork rs= 45\n",
      "neuralnetwork rs= 79\n",
      "neuralnetwork rs= 14\n",
      "neuralnetwork rs= 2\n",
      "neuralnetwork rs= 43\n",
      "neuralnetwork rs= 74\n",
      "neuralnetwork rs= 87\n",
      "neuralnetwork rs= 48\n",
      "neuralnetwork rs= 76\n",
      "neuralnetwork rs= 34\n",
      "neuralnetwork rs= 34\n",
      "neuralnetwork rs= 18\n",
      "neuralnetwork rs= 43\n",
      "neuralnetwork rs= 100\n",
      "neuralnetwork rs= 14\n",
      "neuralnetwork rs= 53\n",
      "Size: 20\n"
     ]
    },
    {
     "data": {
      "text/plain": [
       "1000      0.811\n",
       "10000     0.798\n",
       "50000     0.823\n",
       "100000    0.802\n",
       "dtype: float64"
      ]
     },
     "execution_count": 157,
     "metadata": {},
     "output_type": "execute_result"
    },
    {
     "data": {
      "image/png": "[encoded data removed]",
      "text/plain": [
       "<matplotlib.figure.Figure at 0x282bd987978>"
      ]
     },
     "metadata": {},
     "output_type": "display_data"
    }
   ],
   "source": [
    "# MAIN for Neural Network Experiments\n",
    "# EXPERIMENT (with fixed split set) 5 for max_iteration_options\n",
    "\n",
    "hidden_layer=(10,10)\n",
    "\n",
    "# Get the best of from previous experiment\n",
    "\n",
    "# Initialize results\n",
    "results = DataFrame()\n",
    "results_exp = DataFrame()\n",
    "results_split= DataFrame()\n",
    "\n",
    "for max_iteration in max_iteration_options:\n",
    "        results_exp[str(max_iteration)] =experim.experiment_NN(repeats,\n",
    "                  X_train, X_test, y_train, y_test,scaler_y,\n",
    "                  rand=20,is_random_fixed='FALSE',dependenttype=dependenttype,\n",
    "                  activ=activ,alph=alph,max_iteration=max_iteration, slv=slv, hidden_layer=hidden_layer)[1] \n",
    "    \n",
    "results=pd.concat([results,results_exp])\n",
    "\n",
    "## summarize results\n",
    "print('Size:',results.size)\n",
    "#print(results.describe())\n",
    "#save boxplot\n",
    "plt.gcf().clear()\n",
    "results.boxplot()\n",
    "\n",
    "plt.title(\"NN-Box Plot for {}-{}, {}solver, {}activ, {}alpha, {}max_ite, {}hiddenlayer \"\n",
    "          .format(Productname,MonthSeries, slv, activ, alph, max_iteration_options, hidden_layer))\n",
    "\n",
    "plt.savefig(\"NN-Box Plot for {}-{}, {}solver, {}activ, {}alpha, {}max_ite, {}layer.png \"\n",
    "          .format(Productname,MonthSeries, slv, activ, alph, max_iteration_options, hidden_layer), format='png', dpi=300)\n",
    "results.median()"
   ]
  },
  {
   "cell_type": "code",
   "execution_count": 158,
   "metadata": {},
   "outputs": [
    {
     "name": "stdout",
     "output_type": "stream",
     "text": [
      "Product= 841850\n",
      "Month =  _34\n",
      "rs for split 42\n",
      "percent 100\n",
      "dependenttype log\n",
      "solver= lbfgs\n",
      "activity= identity\n",
      "alpha= 1e-05\n",
      "hidden_layer= (10, 10)\n",
      "max_iteration 50000\n"
     ]
    }
   ],
   "source": [
    "max_iteration=50000\n",
    "# Get the best of from previous experiment\n",
    "\n",
    "when=datetime.now().strftime('%m-%d %H:%M')\n",
    "\n",
    "print(\"Product=\",Productname)\n",
    "print(\"Month = \",MonthSeries)\n",
    "print(\"rs for split\",rs)\n",
    "\n",
    "\n",
    "print(\"percent\",percent)\n",
    "print(\"dependenttype\",dependenttype)\n",
    "\n",
    "#Tuned Parameters after experiments\n",
    "print(\"solver=\",slv) # EXP1\n",
    "print(\"activity=\", activ) # EXP2\n",
    "print(\"alpha=\", alph) # EXP3\n",
    "print(\"hidden_layer=\", hidden_layer) # EXP4\n",
    "print(\"max_iteration\", max_iteration) # EXP5\n",
    "\n",
    "# store as parameters\n",
    "parameters=[Product,Exp_Country,Imp_Country,MonthSeries,percent,dependenttype, rs,slv,activ,alph,hidden_layer,max_iteration,when]\n"
   ]
  },
  {
   "cell_type": "code",
   "execution_count": 159,
   "metadata": {},
   "outputs": [
    {
     "name": "stdout",
     "output_type": "stream",
     "text": [
      "Not_Tuned\n",
      "neuralnetwork rs= 53\n",
      "neuralnetwork rs= 45\n",
      "neuralnetwork rs= 50\n",
      "neuralnetwork rs= 56\n",
      "neuralnetwork rs= 48\n",
      "Tuned\n",
      "neuralnetwork rs= 44\n",
      "neuralnetwork rs= 93\n",
      "neuralnetwork rs= 63\n",
      "neuralnetwork rs= 92\n",
      "neuralnetwork rs= 45\n",
      "Size: 10\n"
     ]
    },
    {
     "data": {
      "text/plain": [
       "Not_Tuned    0.436\n",
       "Tuned        0.802\n",
       "dtype: float64"
      ]
     },
     "execution_count": 159,
     "metadata": {},
     "output_type": "execute_result"
    },
    {
     "data": {
      "image/png": "[encoded data removed]",
      "text/plain": [
       "<matplotlib.figure.Figure at 0x282b6c47908>"
      ]
     },
     "metadata": {},
     "output_type": "display_data"
    }
   ],
   "source": [
    "# MAIN for Neural Network Experiments\n",
    "# EXPERIMENT (with fixed split set) for Before Tuning and After Tuning \n",
    "\n",
    "\n",
    "# Initialize results\n",
    "results = DataFrame()\n",
    "results_exp = DataFrame()\n",
    "results_split= DataFrame()\n",
    "\n",
    "tune_options=[ 'Not_Tuned','Tuned']\n",
    "\n",
    "for tune in tune_options:\n",
    "\n",
    "        if tune=='Tuned':\n",
    "            print(tune)\n",
    "            \n",
    "\n",
    "            results_exp[str(tune)] =experim.experiment_NN(repeats,\n",
    "                  X_train, X_test, y_train, y_test,scaler_y,\n",
    "                  rand=20,is_random_fixed='FALSE',dependenttype=dependenttype,\n",
    "                  activ=activ,alph=alph,max_iteration=max_iteration, slv=slv, hidden_layer=hidden_layer)[1] \n",
    "    \n",
    "        elif tune=='Not_Tuned':\n",
    "            print(tune)\n",
    "                \n",
    "            # Defaults for variables for the first experiment\n",
    "            results_exp[str(tune)] =experim.experiment_NN(repeats,\n",
    "                  X_train, X_test, y_train, y_test,scaler_y,\n",
    "                  rand=20,is_random_fixed='FALSE',dependenttype=dependenttype)[1] \n",
    "    \n",
    "    \n",
    "results=pd.concat([results,results_exp])\n",
    "\n",
    "## summarize results\n",
    "print('Size:',results.size)\n",
    "#print(results.describe())\n",
    "#save boxplot\n",
    "plt.gcf().clear()\n",
    "results.boxplot()\n",
    "\n",
    "\n",
    "plt.title(\"NN-Box Plot for {}-{}, Before and After Tuning, {}solver, {}activ, {}alpha, {}max_ite, {}hiddenlayer \"\n",
    "          .format(Productname,MonthSeries, slv, activ, alph, max_iteration,hidden_layer))\n",
    "\n",
    "plt.savefig(\"NN-Box Plot for {}-{}, Before and After Tuning with fixed splits.png \"\n",
    "          .format(Productname,MonthSeries), format='png', dpi=300)\n",
    "\n",
    "tuned_results_fixed_split=[results['Tuned'].describe()[5],results['Tuned'].describe()[6]]\n",
    "results.median()"
   ]
  },
  {
   "cell_type": "code",
   "execution_count": 160,
   "metadata": {
    "scrolled": true
   },
   "outputs": [
    {
     "name": "stdout",
     "output_type": "stream",
     "text": [
      "split rs= 23\n",
      "neuralnetwork rs= 79\n",
      "neuralnetwork rs= 34\n",
      "neuralnetwork rs= 49\n",
      "neuralnetwork rs= 47\n",
      "neuralnetwork rs= 45\n",
      "neuralnetwork rs= 96\n",
      "neuralnetwork rs= 42\n",
      "neuralnetwork rs= 69\n",
      "neuralnetwork rs= 53\n",
      "neuralnetwork rs= 54\n",
      "split rs= 68\n",
      "neuralnetwork rs= 100\n",
      "neuralnetwork rs= 20\n",
      "neuralnetwork rs= 89\n",
      "neuralnetwork rs= 1\n",
      "neuralnetwork rs= 33\n",
      "neuralnetwork rs= 45\n",
      "neuralnetwork rs= 47\n",
      "neuralnetwork rs= 23\n",
      "neuralnetwork rs= 81\n",
      "neuralnetwork rs= 80\n",
      "split rs= 83\n",
      "neuralnetwork rs= 44\n",
      "neuralnetwork rs= 56\n",
      "neuralnetwork rs= 48\n",
      "neuralnetwork rs= 26\n",
      "neuralnetwork rs= 40\n",
      "neuralnetwork rs= 27\n",
      "neuralnetwork rs= 11\n",
      "neuralnetwork rs= 43\n",
      "neuralnetwork rs= 66\n",
      "neuralnetwork rs= 4\n",
      "split rs= 84\n",
      "neuralnetwork rs= 64\n",
      "neuralnetwork rs= 64\n",
      "neuralnetwork rs= 96\n",
      "neuralnetwork rs= 44\n",
      "neuralnetwork rs= 37\n",
      "neuralnetwork rs= 45\n",
      "neuralnetwork rs= 80\n",
      "neuralnetwork rs= 61\n",
      "neuralnetwork rs= 76\n",
      "neuralnetwork rs= 35\n",
      "split rs= 46\n",
      "neuralnetwork rs= 21\n",
      "neuralnetwork rs= 47\n",
      "neuralnetwork rs= 48\n",
      "neuralnetwork rs= 14\n",
      "neuralnetwork rs= 86\n",
      "neuralnetwork rs= 100\n",
      "neuralnetwork rs= 91\n",
      "neuralnetwork rs= 47\n",
      "neuralnetwork rs= 31\n",
      "neuralnetwork rs= 69\n",
      "Size: 50\n"
     ]
    },
    {
     "data": {
      "text/plain": [
       "Not_Tuned    0.655\n",
       "Tuned        0.802\n",
       "dtype: float64"
      ]
     },
     "execution_count": 160,
     "metadata": {},
     "output_type": "execute_result"
    },
    {
     "data": {
      "image/png": "[encoded data removed]",
      "text/plain": [
       "<matplotlib.figure.Figure at 0x282bf528e10>"
      ]
     },
     "metadata": {},
     "output_type": "display_data"
    }
   ],
   "source": [
    "# MAIN for Neural Network Experiments\n",
    "# EXPERIMENT (with different split sets) for Before Tuning and After Tuning \n",
    "\n",
    "\n",
    "# Initialize results\n",
    "results = DataFrame()\n",
    "results_exp = DataFrame()\n",
    "results_split= DataFrame()\n",
    "\n",
    "\n",
    "repeats=5\n",
    "random_range_for_split=5\n",
    "\n",
    "for r in range (random_range_for_split):\n",
    "\n",
    "    rs=random.randint(1,100)\n",
    "\n",
    "    print('split rs=',rs)\n",
    "    \n",
    "    Scaled_Train_Test_Split=experim.X_Y_scaler_train_test_Split(X_threshold,dependent_variable,Z,random=rs)\n",
    "\n",
    "    X_train = Scaled_Train_Test_Split[0]\n",
    "    X_test = Scaled_Train_Test_Split[1]\n",
    "    y_train = Scaled_Train_Test_Split[2]\n",
    "    y_test = Scaled_Train_Test_Split[3]\n",
    "    scaler_X = Scaled_Train_Test_Split[4]  \n",
    "    scaler_y = Scaled_Train_Test_Split[5]\n",
    "    scaled_value_X=Scaled_Train_Test_Split[6]\n",
    "    scaled_value_y=Scaled_Train_Test_Split[7]\n",
    "     \n",
    "    \n",
    "    for tune in tune_options:\n",
    "    \n",
    "            if tune=='Not_Tuned':\n",
    "                \n",
    "                results_exp[str(tune)] =experim.experiment_NN(repeats,\n",
    "                  X_train, X_test, y_train, y_test,scaler_y,\n",
    "                  rand=20,is_random_fixed='FALSE',dependenttype=dependenttype)[1] \n",
    "                        \n",
    "            elif tune=='Tuned':\n",
    "                \n",
    "                results_exp[str(tune)] =experim.experiment_NN(repeats,\n",
    "                  X_train, X_test, y_train, y_test,scaler_y,\n",
    "                  rand=20,is_random_fixed='FALSE',dependenttype=dependenttype,\n",
    "                  activ=activ,alph=alph,max_iteration=max_iteration, slv=slv, hidden_layer=hidden_layer)[1] \n",
    "              \n",
    "    results=pd.concat([results,results_exp])\n",
    "    \n",
    "## summarize results\n",
    "print('Size:',results.size)\n",
    "#print(results.describe())\n",
    "\n",
    "#save boxplot\n",
    "plt.gcf().clear()\n",
    "results.boxplot()\n",
    "\n",
    "plt.title(\"NN-Box Plot for {}-{}, Before and After Tuning, {}solver, {}activ, {}alpha, {}max_ite, {}hiddenlayer \"\n",
    "          .format(Productname,MonthSeries,slv, activ, alph, max_iteration,hidden_layer))\n",
    "\n",
    "plt.savefig(\"NN-Box Plot for {}-{}, Before and After Tuning with different splits.png \"\n",
    "          .format(Productname,MonthSeries), format='png', dpi=300)\n",
    "\n",
    "tuned_results_mixed_split=[results['Tuned'].describe()[5],results['Tuned'].describe()[6]]\n",
    "results.median()"
   ]
  },
  {
   "cell_type": "code",
   "execution_count": 161,
   "metadata": {
    "collapsed": true
   },
   "outputs": [],
   "source": [
    "# Read from Excel Tuning paremeters\n",
    "os.chdir('C:/Users/murat.ozemre/Desktop/Thesis_Project/Data_Learning_Prediction')\n",
    "Tuned_set = pd.ExcelFile('Tuned_Parameters.xlsx'.format(Exp_Country,Imp_Country,Product))\n",
    "Tuned_set_RF_all = Tuned_set.parse('RF', header=0,index_col=None, na_values=['NA'])\n",
    "Tuned_set_NN_all = Tuned_set.parse('NN', header=0,index_col=None, na_values=['NA'])\n",
    "\n",
    "# For this experiment \n",
    "tuned_results_NN=tuned_results_fixed_split+tuned_results_mixed_split\n",
    "\n",
    "Tuned_set_NN =  DataFrame(columns='Product Exp Imp Month dependenttype perc rs_split Solver Activity Alpha Hidden_layer Max_iteration Datetime fix_p50 fix_p75 mix_p50 mix_p75'.split())\n",
    "Tuned_set_NN.loc[0]= parameters + tuned_results_NN\n",
    "\n",
    "# Combine with the other experiment \n",
    "Tuned_set_NN_all= pd.concat([Tuned_set_NN_all,Tuned_set_NN])\n",
    "\n",
    "\n"
   ]
  },
  {
   "cell_type": "markdown",
   "metadata": {},
   "source": [
    "# END OF NN EXPERIMENTS"
   ]
  },
  {
   "cell_type": "code",
   "execution_count": 162,
   "metadata": {},
   "outputs": [],
   "source": [
    "os.chdir('C:/Users/murat.ozemre/Desktop/Thesis_Project/Data_Learning_Prediction')\n",
    "# Write to Excel this and previous Tuning paremeters\n",
    "writer = pd.ExcelWriter('Tuned_Parameters.xlsx')\n",
    "Tuned_set_RF_all.to_excel(writer,'RF')\n",
    "Tuned_set_NN_all.to_excel(writer,'NN')\n",
    "writer.save()\n",
    "\n"
   ]
  },
  {
   "cell_type": "code",
   "execution_count": null,
   "metadata": {
    "collapsed": true
   },
   "outputs": [],
   "source": []
  },
  {
   "cell_type": "markdown",
   "metadata": {},
   "source": [
    "# Start Conclusion Of Experiments"
   ]
  },
  {
   "cell_type": "code",
   "execution_count": null,
   "metadata": {
    "collapsed": true
   },
   "outputs": [],
   "source": []
  },
  {
   "cell_type": "code",
   "execution_count": null,
   "metadata": {
    "collapsed": true
   },
   "outputs": [],
   "source": []
  },
  {
   "cell_type": "code",
   "execution_count": null,
   "metadata": {
    "collapsed": true
   },
   "outputs": [],
   "source": []
  },
  {
   "cell_type": "markdown",
   "metadata": {},
   "source": [
    "# LSTM EXPERIMENT (with fixed split set) SECTION"
   ]
  },
  {
   "cell_type": "code",
   "execution_count": null,
   "metadata": {
    "collapsed": true
   },
   "outputs": [],
   "source": [
    "os.chdir('C:/Users/murat.ozemre/Desktop/Thesis_Project/Data_Learning_Prediction/Plots_for_LSTM')"
   ]
  },
  {
   "cell_type": "code",
   "execution_count": null,
   "metadata": {
    "collapsed": true
   },
   "outputs": [],
   "source": [
    "results = DataFrame()\n",
    "\n",
    "repeats = 1\n",
    "e=500\n",
    "n=100\n",
    "lr=0.001\n",
    "b=50\n",
    "deney=experiment_LSTM(repeats,e,n,lr,b,drop_rate,do_batch,do_model,train_X, test_X, train_y, test_y,scaler_x,scaler_y)\n",
    "deney[1] "
   ]
  },
  {
   "cell_type": "code",
   "execution_count": null,
   "metadata": {
    "collapsed": true,
    "scrolled": true
   },
   "outputs": [],
   "source": [
    "#rs=29\n",
    "rs=42\n",
    "repeats = 1\n",
    "drop_rate=0.0\n",
    "do_batch='TRUE'\n",
    "do_model='B'\n",
    "random_split='TRUE'\n",
    "\n",
    "e=5\n",
    "n=300\n",
    "lr=0.01\n",
    "b=1\n",
    "\n",
    "# Set X train, X test, y train, y test\n",
    "rs=42\n",
    "Scaled_Train_Test_Split=X_Y_scaler_train_test_Split(X,dependent_variable,Z,random=rs)\n",
    "\n",
    "X_train = Scaled_Train_Test_Split[0].values\n",
    "X_test = Scaled_Train_Test_Split[1].values\n",
    "y_train = Scaled_Train_Test_Split[2].values\n",
    "y_test = Scaled_Train_Test_Split[3].values\n",
    "scaler_X = Scaled_Train_Test_Split[4]  \n",
    "scaler_y = Scaled_Train_Test_Split[5]\n",
    "scaled_value_X=Scaled_Train_Test_Split[6]\n",
    "scaled_value_y=Scaled_Train_Test_Split[7]\n",
    "\n",
    "\n",
    "deney=experiment_LSTM(repeats,e,n,lr,b,drop_rate,do_batch,do_model,X_train, X_test, y_train, y_test,scaler_X,scaler_y)\n",
    "\n",
    "error_rmse=deney[0] \n",
    "error_r2=deney[1] \n",
    "error_r2hat=deney[2] \n",
    "train_y=deney[3]\n",
    "history=deney[4]\n",
    "print(error_r2)\n",
    "print(error_r2hat)"
   ]
  },
  {
   "cell_type": "code",
   "execution_count": null,
   "metadata": {
    "collapsed": true
   },
   "outputs": [],
   "source": [
    "results = DataFrame()\n",
    "repeats = 10\n",
    "e=100\n",
    "n=50\n",
    "lr=0.05\n",
    "b=50\n",
    "results_exp = DataFrame()\n",
    "results = DataFrame()\n",
    "for r in range (0,50):\n",
    "        rs=random.randint(1,100)\n",
    "        SplitData=TrainTestSplit(rs,X,y,date,th,random_split)\n",
    "#        print(rs)\n",
    "        train_X=SplitData[0] \n",
    "        test_X=SplitData[1] \n",
    "        train_y=SplitData[2] \n",
    "        test_y=SplitData[3]\n",
    "        scaler_x=SplitData[4]\n",
    "        scaler_y=SplitData[5]\n",
    "        split_succesfull=SplitData[7]\n",
    "\n",
    "        for b in batch_sizes:\n",
    "            results_exp[str(b)] = experiment_LSTM(repeats,e,n,lr,b,drop_rate,do_batch,do_model,train_X, test_X, train_y, test_y,scaler_x,scaler_y)[1]\n",
    "\n",
    "        results=pd.concat([results,results_exp])\n",
    "\n",
    "## summarize results\n",
    "print('Size:',results.size)\n",
    "#print(results.describe())\n",
    "#save boxplot\n",
    "plt.gcf().clear()\n",
    "results.boxplot()\n",
    "plt.title(\"LSTM-Box Plot for {}-{}, {} epochs,{} neurons,{} learning_rate {}batch size \"\n",
    "          .format(Productname,MonthSeries,e,n,lr,batch_sizes))\n",
    "plt.savefig('Data/LSTM-Box Plot for {}-{}, {} epochs,{} neurons{}lr,{}bsize.png'\n",
    "               .format(Productname,MonthSeries,e,n,lr,batch_sizes))"
   ]
  },
  {
   "cell_type": "code",
   "execution_count": null,
   "metadata": {
    "collapsed": true
   },
   "outputs": [],
   "source": [
    "#rs=29\n",
    "rs=42\n",
    "repeats = 1\n",
    "SplitData=TrainTestSplit(rs,X,y,date,th,random_split)\n",
    "\n",
    "e=200\n",
    "n=400\n",
    "lr=0.001\n",
    "b=30\n",
    "\n",
    "train_X=SplitData[0] \n",
    "test_X=SplitData[1] \n",
    "train_y=SplitData[2] \n",
    "test_y=SplitData[3]\n",
    "scaler_x=SplitData[4]\n",
    "scaler_y=SplitData[5]\n",
    "\n",
    "deney=experiment_LSTM(repeats,e,n,lr,b,drop_rate,do_batch,do_model,train_X, test_X, train_y, test_y,scaler_x,scaler_y)\n",
    "\n",
    "error_rmse=deney[0] \n",
    "error_r2=deney[1] \n",
    "error_r2hat=deney[2] \n",
    "train_y=deney[3]\n",
    "history=deney[4]\n",
    "print(error_r2)\n",
    "print(error_r2hat)"
   ]
  },
  {
   "cell_type": "code",
   "execution_count": null,
   "metadata": {
    "collapsed": true,
    "scrolled": true
   },
   "outputs": [],
   "source": [
    "\n",
    "#repeats=5\n",
    "e=2000\n",
    "n=100\n",
    "lr=0.05\n",
    "b=50\n",
    "\n",
    "neurons = [5, 50, 100]\n",
    "results_exp = DataFrame()\n",
    "results = DataFrame()\n",
    "for r in range (0,50):\n",
    "        rs=random.randint(1,100)\n",
    "        SplitData=TrainTestSplit(rs,X,y,date,th,random_split)\n",
    "#        print(rs)\n",
    "        train_X=SplitData[0] \n",
    "        test_X=SplitData[1] \n",
    "        train_y=SplitData[2] \n",
    "        test_y=SplitData[3]\n",
    "        scaler_x=SplitData[4]\n",
    "        scaler_y=SplitData[5]\n",
    "        split_succesfull=SplitData[7]\n",
    "\n",
    "        for n in neurons:\n",
    "            results_exp[str(n)] = experiment_LSTM(repeats,e,n,lr,b,drop_rate,do_batch,do_model,train_X, test_X, train_y, test_y,scaler_x,scaler_y)[1]\n",
    "        results=pd.concat([results,results_exp])\n",
    "\n",
    "## summarize results\n",
    "print('Size:',results.size)\n",
    "#print(results.describe())\n",
    "#save boxplot\n",
    "plt.gcf().clear()\n",
    "results.boxplot()\n",
    "plt.title(\"LSTM-Box Plot for {}-{}, {} epochs,{} neurons,{} learning_rate {}batch size\"\n",
    "          .format(Productname,MonthSeries,e,neurons,lr,b))\n",
    "plt.savefig('Data/LSTM-Box Plot for {}-{}, {} epochs,{} neurons{},lr{}, b.png'\n",
    "               .format(Productname,MonthSeries,e,neurons,lr,b))\n"
   ]
  },
  {
   "cell_type": "code",
   "execution_count": null,
   "metadata": {
    "collapsed": true
   },
   "outputs": [],
   "source": [
    "# LSTM EXPERIMENT\n",
    "\n",
    "#def experiment(repeats,n_epochs,n_neurons,learning_rate,bs,rs,X,y,date):\n",
    "def experiment_LSTM(repeats,n_epochs,n_neurons,learning_rate,bs,drop_rate,do_batch,do_model,train_X, test_X, train_y, test_y,scaler_x,scaler_y):\n",
    "    K.clear_session()\n",
    "\n",
    "#    print(type(train_X))\n",
    "    train_X =train_X.reshape((train_X.shape[0], 1, train_X.shape[1]))\n",
    "    test_X = test_X.reshape((test_X.shape[0], 1, test_X.shape[1]))\n",
    "    print(train_X.shape, train_y.shape, test_X.shape, test_y.shape)\n",
    "\n",
    "#    train_X =train_X.reshape((train_X.shape[0], train_X.shape[1],1))\n",
    "#    test_X = test_X.reshape((test_X.shape[0], test_X.shape[1],1))\n",
    "#    print(train_X.shape, train_y.shape, test_X.shape, test_y.shape)\n",
    " \n",
    "    \n",
    "    error_rmse = list()\n",
    "    error_r2hat = list()\n",
    "    error_r2 = list()\n",
    "    for r in range(repeats):\n",
    "        \n",
    "        print('Shape of X Train',train_X.shape[1],train_X.shape[2])\n",
    "    \n",
    "\n",
    "        if do_model=='A':\n",
    "            model = Sequential() \n",
    "            model.add(LSTM(n_neurons,input_shape=(train_X.shape[1], train_X.shape[2])))\n",
    "            model.add(Dropout(drop_rate))\n",
    "            \n",
    "            model.add(Dense(n_neurons))\n",
    "            model.add(Dropout(drop_rate))\n",
    "            \n",
    "            model.add(Dense(1))\n",
    "#            model.add(Activation('sigmoid'))\n",
    "            model.add(Activation('linear'))\n",
    "        \n",
    "        elif do_model=='B':   \n",
    "            input_layer=Input(shape=(train_X.shape[1], train_X.shape[2]),dtype='float32')\n",
    "            lstm_layer1=LSTM(n_neurons,input_shape=(train_X.shape[1],train_X.shape[2]),\n",
    "                         dropout=drop_rate, \n",
    "                         recurrent_dropout=drop_rate,\n",
    "                         return_sequences=True)(input_layer)\n",
    "            lstm_layer2=LSTM(n_neurons,input_shape=(train_X.shape[1],n_neurons),\n",
    "                         dropout=drop_rate, \n",
    "                         recurrent_dropout=drop_rate,\n",
    "                         return_sequences=False)(lstm_layer1)\n",
    "            dropout_layer=Dropout(drop_rate)(lstm_layer2)\n",
    "\n",
    "            output_layer=Dense(1,activation=\"linear\")(dropout_layer)\n",
    "#            output_layer=Dense(1,activation=\"linear\")(lstm_layer2)\n",
    "         \n",
    "\n",
    "        #ix layerlarda Activation için RELU Output için linear uygun oluyor. Kaynak Siraj Raval\n",
    "        \n",
    "            model=Model(inputs=input_layer, outputs=output_layer)\n",
    "        \n",
    "        \n",
    "        #decay_rate = learning_rate / n_epochs\n",
    "        \n",
    "        decay_rate = 0.8\n",
    "        momentum = 0.9\n",
    "         \n",
    "        sgd = optimizers.SGD(lr=learning_rate, clipvalue=0.3,momentum=momentum, decay=decay_rate,nesterov=True)\n",
    "        adam = optimizers.Adam(lr=learning_rate, beta_1=0.9, beta_2=0.999, epsilon=None, decay=decay_rate, amsgrad=False)\n",
    "\n",
    "        #model.compile(loss='mean_squared_error', optimizer='adam')\n",
    "        \n",
    "        \n",
    "#        model.compile(loss='mean_squared_error', optimizer=sgd, metrics=['accuracy'])\n",
    "        model.compile(loss='mean_squared_error', optimizer=adam, metrics=['accuracy'])\n",
    "\n",
    "#        model=load_model(os.path.join('Data','train_dataset{}-{}neurons.hdf5'.format(Productname,n_neurons)))\n",
    "#        model=load_model(os.path.join('Data','train_dataset{}-{}neurons.hdf5'.format(Productname,n_neurons)))\n",
    "\n",
    "        model.summary()\n",
    "        \n",
    "        save_weights_at=os.path.join('Data','train_dataset{}-{}neurons.hdf5'.format(Productname,n_neurons))\n",
    "\n",
    "        save_best=ModelCheckpoint(save_weights_at, monitor='val_loss', verbose=0,\n",
    "                                 save_best_only=True, save_weights_only=False, mode='min',\n",
    "                                 period=1)\n",
    "        \n",
    "        reduce_lr = ReduceLROnPlateau(monitor='val_loss', factor=0.2,\n",
    "                              patience=5, min_lr=0.00001)\n",
    "        early_stop = EarlyStopping(monitor='loss', patience=10, verbose=1)\n",
    "        \n",
    "        history = model.fit(train_X, train_y, epochs=n_epochs, batch_size=bs, \n",
    "\n",
    "                            validation_data=(test_X, test_y), verbose=1, \n",
    "#                            callbacks=[reduce_lr],\n",
    "                           # callbacks=[save_best],\n",
    "\n",
    "                           # callbacks=[early_stop],\n",
    "                            shuffle=False)\n",
    "\n",
    "#        best_model=load_model(os.path.join('Data','train_dataset.hdf5')\n",
    "#        model=load_model(os.path.join('Data','train_dataset{}-{}neurons.hdf5'.format(Productname,n_neurons)))\n",
    "\n",
    "        #model=best_model\n",
    "\n",
    "        \n",
    "        \n",
    "\n",
    "        \n",
    "        # summarize history for loss\n",
    "        plt.gcf().clear()\n",
    "        plt.plot(history.history['loss'])\n",
    "        plt.plot(history.history['val_loss'])\n",
    "        plt.title('model loss')\n",
    "        plt.ylabel('loss')\n",
    "        plt.xlabel('epoch')\n",
    "        plt.legend(['train', 'test'], loc='upper left')\n",
    "        plt.show()\n",
    "\n",
    "        \n",
    "        # summarize history for accuracy\n",
    "#        plt.plot(history.history['acc'])\n",
    "#        plt.plot(history.history['val_acc'])\n",
    "#        plt.title('model accuracy')\n",
    "#        plt.ylabel('accuracy')\n",
    "#        plt.xlabel('epoch')\n",
    "#        plt.legend(['train', 'test'], loc='upper left')\n",
    "#        plt.show()\n",
    "\n",
    "\n",
    "#        test_X_reshaped = test_X.reshape((test_X.shape[0], test_X.shape[1]))\n",
    "\n",
    "        test_X_reshaped = test_X.reshape((test_X.shape[0], test_X.shape[2]))\n",
    "        inv_x_test = scaler_x.inverse_transform(test_X_reshaped)\n",
    "        inv_x_test = pd.DataFrame(data=inv_x_test[:,:])\n",
    "\n",
    "        # make a prediction\n",
    "        y_predict_test = model.predict(test_X)\n",
    "        y_predict_train = model.predict(train_X)\n",
    "\n",
    "        # invert scaling for forecast\n",
    "        inv_y_predict_test = scaler_y.inverse_transform(y_predict_test)\n",
    "        inv_y_predict_test = inv_y_predict_test[:,0]\n",
    "        inv_y_predict_train = scaler_y.inverse_transform(y_predict_train)\n",
    "        inv_y_predict_train = inv_y_predict_train[:,0]\n",
    "\n",
    "        # invert scaling for actual\n",
    "        y_test = test_y.reshape((len(test_y), 1))\n",
    "        inv_y_test = scaler_y.inverse_transform(test_y)\n",
    "        inv_y_test = inv_y_test[:,0]\n",
    "\n",
    "        y_train = train_y.reshape((len(train_y), 1))\n",
    "        inv_y_train = scaler_y.inverse_transform(train_y)\n",
    "        inv_y_train = inv_y_train[:,0]\n",
    "\n",
    "        # calculate RMSE for DIFFERENCE\n",
    "        rmse_test = sqrt(mean_squared_error(inv_y_test, inv_y_predict_test))\n",
    "        print('Test RMSE: %.3f' % rmse_test)\n",
    "        R2_test=int(1000*(metrics.r2_score(inv_y_test, inv_y_predict_test)))/1000\n",
    "        print('R2_test: %.3f' % R2_test)\n",
    "\n",
    "        rmse_train = sqrt(mean_squared_error(inv_y_train, inv_y_predict_train))\n",
    "        print('Train RMSE: %.3f' % rmse_train)\n",
    "        R2_train=int(1000*(metrics.r2_score(inv_y_train, inv_y_predict_train)))/1000\n",
    "        print('R2_train: %.3f' % R2_train)\n",
    "\n",
    "        # calculate RMSE for REAL VALUE\n",
    "\n",
    "        real_y_test= inv_x_test.iloc[:,0]+inv_y_test\n",
    "        real_y_predict_test=inv_x_test.iloc[:,0]+inv_y_predict_test\n",
    "        \n",
    "        real_rmse_test = sqrt(mean_squared_error(real_y_test, real_y_predict_test))\n",
    "        print('Test RMSE: %.3f' % real_rmse_test)\n",
    "        real_R2_test=int(1000*(metrics.r2_score(real_y_test, real_y_predict_test)))/1000\n",
    "        print('R2_test: %.3f' % real_R2_test)\n",
    "        \n",
    "        error_rmse.append(real_rmse_test)\n",
    "        error_r2hat.append(real_R2_test)\n",
    "        error_r2.append(R2_test)\n",
    "        \n",
    "        \n",
    "        plt.gcf().clear()\n",
    "        plt.figure(figsize=(5.5, 5.5))\n",
    "        plt.plot(range(len(inv_y_test)), inv_y_test, linestyle='-', marker='*', color='r')\n",
    "        plt.plot(range(len(inv_y_predict_test)), inv_y_predict_test, linestyle='-', marker='.', color='b')\n",
    "        plt.legend(['Actual','Predicted'], loc=2)\n",
    "        plt.title('Actual vs Predicted for {}'.format(Productname))\n",
    "        plt.ylabel('Trade Value')\n",
    "        plt.xlabel('Index')\n",
    "        plt.savefig('LSTM-LinePlt{} ,{} epochs,{} neurons,{} learning_rate,{} batch size, {} random, {} R2.png'.format(Productname,\n",
    "                                n_epochs,n_neurons,learning_rate,bs,rs,R2_test), format='png', dpi=300)\n",
    "       \n",
    "\n",
    "        \n",
    "        \n",
    "    return error_rmse,error_r2,error_r2hat,train_y,history"
   ]
  },
  {
   "cell_type": "code",
   "execution_count": null,
   "metadata": {
    "collapsed": true
   },
   "outputs": [],
   "source": [
    "results = DataFrame()\n",
    "\n",
    "repeats = 1\n",
    "\n",
    "# vary training epochs\"\n",
    "epochs = [50, 500, 1000,2000]\n",
    "neurons = [5, 50,100]\n",
    "learning_rates= [0.001, 0.01, 0.05, 0.1]\n",
    "batch_sizes=[5, 12, 24,50,100]\n",
    "\n",
    "\n",
    "e=3000\n",
    "n=200\n",
    "lr=0.02\n",
    "b=50\n",
    "\n",
    "\n",
    "e=500\n",
    "n=100\n",
    "lr=0.05\n",
    "b=50\n",
    "results_exp = DataFrame()\n",
    "results = DataFrame()\n",
    "for r in range (0,50):\n",
    "        rs=random.randint(1,100)\n",
    "        SplitData=TrainTestSplit(rs,X,y,date,th,random_split)\n",
    "#        print(rs)\n",
    "        train_X=SplitData[0] \n",
    "        test_X=SplitData[1] \n",
    "        train_y=SplitData[2] \n",
    "        test_y=SplitData[3]\n",
    "        scaler_x=SplitData[4]\n",
    "        scaler_y=SplitData[5]\n",
    "        split_succesfull=SplitData[7]\n",
    "\n",
    "\n",
    "\n",
    "        for e in epochs:\n",
    "            results_exp[str(e)] = experiment_LSTM(repeats,e,n,lr,b,drop_rate,do_batch,do_model,train_X, test_X, train_y, test_y,scaler_x,scaler_y)[1]\n",
    "        results=pd.concat([results,results_exp])\n",
    "\n",
    "## summarize results\n",
    "print('Size:',results.size)\n",
    "#print(results.describe())\n",
    "#save boxplot\n",
    "plt.gcf().clear()\n",
    "\n",
    "results.boxplot()\n",
    "plt.title(\"LSTM-Box Plot for {}-{}, {} epochs,{} neurons,{} learning_rate, {}batch size \"\n",
    "          .format(Productname,MonthSeries,epochs,n,lr,b))\n",
    "plt.savefig('Data/LSTM-Box Plot for {}-{}, {} epochs,{} neurons {}lr,{}b.png'\n",
    "               .format(Productname,MonthSeries,epochs,n,lr,b))\n",
    "\n",
    "\n"
   ]
  }
 ],
 "metadata": {
  "kernelspec": {
   "display_name": "Python 3",
   "language": "python",
   "name": "python3"
  },
  "language_info": {
   "codemirror_mode": {
    "name": "ipython",
    "version": 3
   },
   "file_extension": ".py",
   "mimetype": "text/x-python",
   "name": "python",
   "nbconvert_exporter": "python",
   "pygments_lexer": "ipython3",
   "version": "3.6.2"
  }
 },
 "nbformat": 4,
 "nbformat_minor": 2
}
