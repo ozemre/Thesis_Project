{
 "cells": [
  {
   "cell_type": "code",
   "execution_count": 273,
   "metadata": {},
   "outputs": [],
   "source": [
    "\n",
    "from __future__ import print_function\n",
    "import os\n",
    "import sys\n",
    "\n",
    "import numpy as np\n",
    "import pandas as pd\n",
    "\n",
    "import datetime\n",
    "from math import sqrt\n",
    "from math import exp\n",
    "import math\n",
    "from numpy import concatenate\n",
    "from matplotlib import pyplot\n",
    "from pandas import read_csv\n",
    "from pandas import DataFrame\n",
    "from pandas import concat\n",
    "from sklearn.preprocessing import MinMaxScaler\n",
    "from sklearn.preprocessing import LabelEncoder\n",
    "from sklearn.metrics import mean_squared_error\n",
    "from sklearn import metrics\n",
    "from sklearn.ensemble import RandomForestRegressor\n",
    "#from keras.models import Sequential\n",
    "#from keras.models import Model\n",
    "#from keras.models import load_model\n",
    "#from keras.callbacks import ModelCheckpoint\n",
    "#from keras.callbacks import ReduceLROnPlateau\n",
    "#from keras.callbacks import EarlyStopping\n",
    "\n",
    "#from keras.layers import Dense,Input, Dropout\n",
    "#from keras.layers import LSTM\n",
    "#from keras.layers import Activation\n",
    "#from keras import optimizers\n",
    "#import keras.backend as K\n",
    "\n",
    "\n",
    "from matplotlib import pyplot\n",
    "from statsmodels.tsa.seasonal import seasonal_decompose\n",
    "from matplotlib import pyplot\n",
    "import matplotlib.pyplot as plt\n",
    "from random import gauss\n",
    "from random import seed\n",
    "#from pandas import Series\n",
    "from pandas.plotting import autocorrelation_plot\n",
    "from matplotlib import pyplot\n",
    "from statsmodels.graphics.tsaplots import plot_pacf\n",
    "from statsmodels.graphics.tsaplots import plot_acf\n",
    "from statsmodels.tsa.stattools import adfuller\n",
    "from random import randrange\n",
    "\n",
    "from sklearn.cross_validation import train_test_split\n",
    "import seaborn as sns\n",
    "%matplotlib inline\n",
    "import matplotlib.pyplot as plt\n",
    "import random\n",
    "from random import gauss\n",
    "from random import seed\n",
    "import sys\n",
    "import warnings\n",
    "\n",
    "if not sys.warnoptions:\n",
    "    warnings.simplefilter(\"ignore\")\n",
    "    \n",
    "from scipy.stats.stats import pearsonr    \n"
   ]
  },
  {
   "cell_type": "code",
   "execution_count": 274,
   "metadata": {},
   "outputs": [
    {
     "data": {
      "text/plain": [
       "'07-18 07:57'"
      ]
     },
     "execution_count": 274,
     "metadata": {},
     "output_type": "execute_result"
    }
   ],
   "source": [
    "from datetime import datetime\n",
    "datetime.now().strftime('%m-%d %H:%M')"
   ]
  },
  {
   "cell_type": "code",
   "execution_count": 275,
   "metadata": {
    "collapsed": true
   },
   "outputs": [],
   "source": [
    "import Experiment_Ready as experim"
   ]
  },
  {
   "cell_type": "code",
   "execution_count": 276,
   "metadata": {},
   "outputs": [
    {
     "data": {
      "text/plain": [
       "'C:\\\\Users\\\\murat.ozemre\\\\Desktop\\\\Thesis_Project\\\\Data_Learning_Prediction\\\\Result_Plots'"
      ]
     },
     "execution_count": 276,
     "metadata": {},
     "output_type": "execute_result"
    }
   ],
   "source": [
    "os.getcwd()"
   ]
  },
  {
   "cell_type": "code",
   "execution_count": 277,
   "metadata": {
    "collapsed": true
   },
   "outputs": [],
   "source": [
    "Product_Type_Options = [841810,841840,841850]\n",
    "Product=Product_Type_Options[2] #841810\n",
    "\n",
    "Productname=Product\n",
    "Exp_Country='CHN' # 'CHN'\n",
    "Imp_Country='GBR'\n",
    "\n",
    "if Exp_Country=='CHN':\n",
    "    Currency='CNY'\n",
    "    EXP0='TUR'   \n",
    "elif Exp_Country=='TUR':\n",
    "    Currency='TRY'\n",
    "    EXP0='CHN'   "
   ]
  },
  {
   "cell_type": "code",
   "execution_count": 278,
   "metadata": {
    "collapsed": true
   },
   "outputs": [],
   "source": [
    "#Default values\n",
    "\n",
    "dependenttype='same'\n",
    "percent=100\n",
    "MonthSeries=\"3\"\n",
    "\n",
    "if Exp_Country=='CHN':\n",
    "        if Product==841810:\n",
    "            MonthSeries=\"_34\"\n",
    "            percent=50\n",
    "            dependenttype='same'\n",
    "        elif Product==841840:\n",
    "            MonthSeries=\"_345\"\n",
    "            percent=50\n",
    "            dependenttype='log'\n",
    "        elif Product==841850:\n",
    "            MonthSeries=\"_34\"\n",
    "            percent=100\n",
    "            dependenttype='log'\n",
    "elif Exp_Country=='TUR':\n",
    "        if Product==841810:\n",
    "            MonthSeries=\"_456\"\n",
    "            percent=50\n",
    "            dependenttype='same'\n",
    "        elif Product==841840:\n",
    "            MonthSeries=\"4\"\n",
    "            percent=50\n",
    "            dependenttype='log'\n",
    "        elif Product==841850:\n",
    "            MonthSeries=\"_45\"\n",
    "            percent=50\n",
    "            dependenttype='same'\n"
   ]
  },
  {
   "cell_type": "code",
   "execution_count": 279,
   "metadata": {
    "collapsed": true
   },
   "outputs": [],
   "source": [
    "os.chdir('C:/Users/murat.ozemre/Desktop/Thesis_Project/Data_Sources_and_Preparation')\n",
    "\n",
    "Data_Core1 = pd.ExcelFile('Data_{}_{}_{}.xlsx'.format(Exp_Country,Imp_Country,Product))\n",
    "\n",
    "# For BCG MAtrix Additional Test Set is created for CHN but not for Turkey\n",
    "\n",
    "\n",
    "y = Data_Core1.parse('Y_Test', header=0,index_col=None, na_values=['NA'])['{}_{}_{}'.format(Exp_Country,Imp_Country,Product)]\n",
    "Z = Data_Core1.parse('Y_Test', header=0,index_col=None, na_values=['NA'])[['Date','Year','Month']]\n",
    "\n",
    "X = Data_Core1.parse('X{}_Test'.format(MonthSeries), header=0,index_col=None, na_values=['NA'])\n",
    "    \n",
    "X.drop(['Date','Year','Month'], axis=1, inplace=True)\n",
    "\n",
    "X_Column_Names=list(X.columns.values)\n",
    "n_feature=X.shape[1]\n",
    "\n",
    "#y=y.iloc[3:]\n",
    "#X=X.iloc[3:,:]\n",
    "#Z=Z.iloc[3:,:]\n",
    "\n",
    "\n"
   ]
  },
  {
   "cell_type": "code",
   "execution_count": 280,
   "metadata": {},
   "outputs": [
    {
     "name": "stdout",
     "output_type": "stream",
     "text": [
      "Log of Dependent Variable\n"
     ]
    }
   ],
   "source": [
    "if dependenttype=='same':\n",
    "    dependent_variable=y\n",
    "    print(\"Same Dependent Variable\")\n",
    "elif dependenttype=='log':\n",
    "    dependent_variable=y.apply(np.log)\n",
    "    print(\"Log of Dependent Variable\")\n",
    "elif dependenttype=='sqrt':\n",
    "    dependent_variable=y.apply(np.sqrt)\n",
    "    print(\"SQRT of Dependent Variable\")\n"
   ]
  },
  {
   "cell_type": "code",
   "execution_count": 281,
   "metadata": {
    "collapsed": true
   },
   "outputs": [],
   "source": [
    "# Calculate Feature Importace according Month Series\n",
    "number_of_split_for_feature=100\n",
    "# For split take only train test for X\n",
    "\n",
    "#X_train_test_only=X.iloc[:len(y),:]\n",
    "#X_train_test_only=X\n",
    "\n",
    "result=experim.get_feature_importance_result (X,dependent_variable,Z,n_feature,number_of_split_for_feature)\n",
    "scored_feature_indices=result[0]\n",
    "feature_score=result[1]"
   ]
  },
  {
   "cell_type": "code",
   "execution_count": 282,
   "metadata": {
    "collapsed": true
   },
   "outputs": [],
   "source": [
    "# Omit Features according percentage\n",
    "\n",
    "percentile=100-percent\n",
    "threshold_for_feature_selection=np.percentile(feature_score[scored_feature_indices], percentile)\n",
    "\n",
    "# X for all values\n",
    "X_threshold=X.iloc[:,scored_feature_indices[feature_score[scored_feature_indices]>threshold_for_feature_selection]]\n",
    "  "
   ]
  },
  {
   "cell_type": "code",
   "execution_count": 283,
   "metadata": {},
   "outputs": [],
   "source": [
    "# Buraya Kadar Deneme_Result_Plots ile NN-FR Experiments aynı"
   ]
  },
  {
   "cell_type": "code",
   "execution_count": 284,
   "metadata": {},
   "outputs": [],
   "source": [
    "# Set X train, X test, y train, y test\n",
    "rs=42 # 841810 -3\n",
    "lag=0\n",
    "\n",
    "# en sondaki 4 adet veriyi eğitime sokmamak için\n",
    "Scaled_Train_Test_Split=experim.X_Y_scaler_train_test_Split(X_threshold.iloc[:len(y)-lag,:],\n",
    "                                                            dependent_variable[:len(y)-lag],\n",
    "                                                            Z.iloc[:len(y)-lag,:],random=rs)\n",
    "\n",
    "\n",
    "X_train = Scaled_Train_Test_Split[0]\n",
    "X_test = Scaled_Train_Test_Split[1]\n",
    "y_train = Scaled_Train_Test_Split[2]\n",
    "y_test = Scaled_Train_Test_Split[3]\n",
    "scaler_X = Scaled_Train_Test_Split[4]  \n",
    "scaler_y = Scaled_Train_Test_Split[5]\n",
    "scaled_value_X=Scaled_Train_Test_Split[6]\n",
    "scaled_value_y=Scaled_Train_Test_Split[7]"
   ]
  },
  {
   "cell_type": "code",
   "execution_count": 285,
   "metadata": {},
   "outputs": [
    {
     "name": "stdout",
     "output_type": "stream",
     "text": [
      "randomforest rs= 16\n",
      "R2_Test 0.817 R2_Train 0.967\n"
     ]
    }
   ],
   "source": [
    "a=experim.randomforest(X_train, X_test, y_train, y_test,scaler_y,est=100,\n",
    "                       rand=20,is_random_fixed='FALSE',dependenttype=dependenttype)"
   ]
  },
  {
   "cell_type": "code",
   "execution_count": null,
   "metadata": {},
   "outputs": [],
   "source": []
  },
  {
   "cell_type": "code",
   "execution_count": 286,
   "metadata": {
    "collapsed": true,
    "scrolled": true
   },
   "outputs": [],
   "source": [
    "\n",
    "\n",
    "\n",
    "# Initialize results\n",
    "repeats=5\n",
    "results = DataFrame()\n",
    "results_exp = DataFrame()\n",
    "results_split= DataFrame()\n",
    "\n",
    "\n"
   ]
  },
  {
   "cell_type": "markdown",
   "metadata": {},
   "source": [
    "# After Training Show Results"
   ]
  },
  {
   "cell_type": "code",
   "execution_count": 287,
   "metadata": {
    "scrolled": true
   },
   "outputs": [],
   "source": [
    "\n",
    "    \n",
    "if Exp_Country=='CHN':\n",
    "        if Product==841810:\n",
    "        \n",
    "            feat= 'auto'\n",
    "            min_leaf= 1\n",
    "            max_leaf= 100\n",
    "            min_impurity= 1e-06\n",
    "            min_weight= 1e-05\n",
    "            est= 1000\n",
    "\n",
    "            #841810 \n",
    "            rs=31\n",
    "            limit=20000  \n",
    "        elif Product==841840:\n",
    "            feat= 'auto'\n",
    "            min_leaf= 2\n",
    "            max_leaf= 100\n",
    "            min_impurity= 1e-05\n",
    "            min_weight= 0.001\n",
    "            est= 200\n",
    "   \n",
    "            rs=51\n",
    "            limit=2500 \n",
    "\n",
    "        elif Product==841850:\n",
    "            feat= 'auto'\n",
    "            min_leaf= 1\n",
    "            max_leaf= 200\n",
    "            min_impurity= 1e-05\n",
    "            min_weight= 0.01\n",
    "            est= 200\n",
    "   \n",
    "            rs=35\n",
    "            limit= 5000\n",
    "elif Exp_Country=='TUR':\n",
    "        if Product==841810:\n",
    "            \n",
    "            feat= 'auto'\n",
    "            min_leaf= 2\n",
    "            max_leaf= 200\n",
    "            min_impurity= 1e-06\n",
    "            min_weight=0.00001\n",
    "\n",
    "            est= 200\n",
    "\n",
    "            #841810 \n",
    "            rs=79\n",
    "            limit=20000  \n",
    "        elif Product==841840:\n",
    "            feat= 10\n",
    "            min_leaf= 5\n",
    "            max_leaf= 10\n",
    "            min_impurity= 0.000001\n",
    "            min_weight= 0.1\n",
    "            est= 1000\n",
    "\n",
    "            #841810 \n",
    "            rs=92\n",
    "            limit=5000  \n",
    "            \n",
    "        elif Product==841850:\n",
    "            feat= 10\n",
    "            min_leaf= 2 \n",
    "            max_leaf= 100\n",
    "            min_impurity= 0.000001\n",
    "            min_weight=0.01\n",
    "            est= 20000\n",
    "\n",
    "            #841810 \n",
    "            rs=4\n",
    "            limit=  5000\n",
    "\n",
    "    \n",
    "#experim.experiment_RandomForest(repeats,\n",
    "#                  X_train, X_test, y_train, y_test,scaler_y,\n",
    "#                  rand=20,is_random_fixed='FALSE',dependenttype=dependenttype,\n",
    "#                  est=est,min_leaf=min_leaf,feat=feat,max_leaf=max_leaf,min_weight=min_weight,min_impurity=min_impurity)[1] \n",
    "    "
   ]
  },
  {
   "cell_type": "code",
   "execution_count": 288,
   "metadata": {},
   "outputs": [
    {
     "name": "stdout",
     "output_type": "stream",
     "text": [
      "Tuned Results\n",
      "randomforest rs= 20\n",
      "R2_Test 0.829 R2_Train 0.954\n",
      "Before Tun Results\n",
      "randomforest rs= 20\n",
      "R2_Test 0.856 R2_Train 0.94\n"
     ]
    }
   ],
   "source": [
    "rs=20\n",
    "print('Tuned Results')\n",
    "result=experim.randomforest(X_train, X_test, y_train, y_test,scaler_y,\n",
    "                            rand=rs,is_random_fixed='TRUE',dependenttype=dependenttype,\n",
    "                            est=est,min_leaf=min_leaf,feat=feat,max_leaf=max_leaf,\n",
    "                            min_weight=min_weight,min_impurity=min_impurity)\n",
    "\n",
    "print('Before Tun Results')    \n",
    "result=experim.randomforest(X_train, X_test, y_train, y_test,scaler_y,\n",
    "                            rand=rs,is_random_fixed='TRUE',dependenttype=dependenttype\n",
    "                            )      \n",
    "rmse_test=result[0][1]\n",
    "R2_test=result[0][2]\n",
    "        \n",
    "rmse_train=result[1][1]\n",
    "R2_train=result[1][2]"
   ]
  },
  {
   "cell_type": "code",
   "execution_count": 289,
   "metadata": {},
   "outputs": [],
   "source": [
    "#Hepsini dahil edince\n",
    "# TUR 841810 R2_Test 0.83 R2_Train 0.96\n",
    "# TUR 841840 R2_Test 0.196 R2_Train 0.696\n",
    "# TUR 841850 R2_Test 0.829 R2_Train 0.94\n",
    "\n",
    "\n",
    "\n",
    "# TUR 841810 R2_Test 0.765 R2_Train 0.965\n",
    "# TUR 841840 R2_Test 0.341 R2_Train 0.719\n",
    "# TUR 841850 R2_Test 0.452 R2_Train 0.941\n",
    "# CHN 841810  R2_Test 0.623 R2_Train 0.956\n",
    "# CHN 841840 R2_Test 0.487 R2_Train 0.924\n",
    "# CHN 841850 R2_Test 0.931 R2_Train 0.947"
   ]
  },
  {
   "cell_type": "code",
   "execution_count": 290,
   "metadata": {},
   "outputs": [
    {
     "name": "stdout",
     "output_type": "stream",
     "text": [
      "R2_train 0.96 R2_test 0.789 R2_all 0.903\n"
     ]
    }
   ],
   "source": [
    "rfc=RandomForestRegressor(n_estimators=est,\n",
    "                              min_samples_leaf=min_leaf,\n",
    "                              random_state =rs,\n",
    "                              max_features=feat,\n",
    "                              max_leaf_nodes=max_leaf,\n",
    "                              min_weight_fraction_leaf =min_weight,\n",
    "                              min_impurity_decrease=min_impurity\n",
    "                            )\n",
    "   \n",
    "RandomForestRegressor.fit(rfc,X_train,y_train)\n",
    "    \n",
    "y_predict_test = rfc.predict(X_test)\n",
    "y_predict_train = rfc.predict(X_train)\n",
    "y_predict=rfc.predict(scaled_value_X.iloc[:len(y),:])\n",
    "\n",
    "#if Exp_Country=='CHN':\n",
    "y_predict_future=rfc.predict(scaled_value_X.iloc[len(y)-6:,:])\n",
    "\n",
    "# Inverse for test train and all data\n",
    "result_test=experim.inverse_scale_and_graph_Y_predict_and_test(y_predict_test,y_test,scaler_y,'NO',dependenttype)\n",
    "result_train=experim.inverse_scale_and_graph_Y_predict_and_test(y_predict_train,y_train,scaler_y,'NO',dependenttype)\n",
    "result_all=experim.inverse_scale_and_graph_Y_predict_and_test(y_predict,scaled_value_y,scaler_y,'NO',dependenttype)\n",
    "\n",
    "\n",
    "inv_y_train=pd.Series(result_train[4])\n",
    "inv_y_predict_train=pd.Series(result_train[5])\n",
    "R2_train=result_train[3]\n",
    "inv_y_test=pd.Series(result_test[4])\n",
    "inv_y_predict_test=pd.Series(result_test[5])\n",
    "R2_test=result_test[3]\n",
    "inv_y_all=pd.Series(result_all[4])\n",
    "inv_y_predict_all=pd.Series(result_all[5])\n",
    "R2_all=result_all[3]\n",
    "\n",
    "print('R2_train',R2_train, 'R2_test',R2_test,'R2_all',R2_all )\n",
    "\n",
    "if Exp_Country=='CHN' or Exp_Country=='TUR':\n",
    "    # Inverse for future data\n",
    "    y_predict_future=y_predict_future.reshape(-1, 1)\n",
    "    predictions = scaler_y.inverse_transform(y_predict_future)\n",
    "    inv_y_predict_future=predictions.flatten()\n",
    "  \n",
    "\n",
    "    if dependenttype=='same':\n",
    "        con_y_predict_test=inv_y_predict_future\n",
    "    elif dependenttype=='log':\n",
    "        con_y_predict_test=[exp(num) for num in inv_y_predict_future]\n",
    "    elif dependenttype=='sqrt':\n",
    "        con_y_predict_test=[num**2 for num in inv_y_predict_future]\n",
    "\n",
    "    inv_y_predict_future=con_y_predict_test   \n",
    "\n",
    "\n"
   ]
  },
  {
   "cell_type": "code",
   "execution_count": 291,
   "metadata": {},
   "outputs": [
    {
     "data": {
      "image/png": "[encoded data removed]",
      "text/plain": [
       "<Figure size 504x504 with 1 Axes>"
      ]
     },
     "metadata": {},
     "output_type": "display_data"
    }
   ],
   "source": [
    "\n",
    "os.chdir('C:/Users/murat.ozemre/Desktop/Thesis_Project/Data_Learning_Prediction/Result_Plots')\n",
    "fig = plt.figure(figsize=(7, 7))\n",
    "\n",
    "plt.scatter(inv_y_train,inv_y_predict_train,label='Train Data')\n",
    "plt.scatter(inv_y_test,inv_y_predict_test,marker='+' ,label='Test Data')\n",
    "\n",
    "plt.legend()\n",
    "plt.xlim(0, limit)\n",
    "plt.ylim(0, limit)\n",
    "plt.title(\"Scatter Diagram for Train and Test {}_{}_{} Data\".format(Exp_Country,Imp_Country,Productname))\n",
    "plt.xlabel(\"actual (Thousand USD)\")\n",
    "plt.ylabel(\"predictions (Thousand USD)\")\n",
    "plt.savefig('Scatter Diagram {}_{}_{}.png'.format(Exp_Country,Imp_Country,Productname))\n",
    "plt.show()\n",
    "\n"
   ]
  },
  {
   "cell_type": "code",
   "execution_count": 292,
   "metadata": {
    "collapsed": true
   },
   "outputs": [],
   "source": [
    "def format_func(value, tick_number):\n",
    "    # find number of multiples of pi/2\n",
    "    N = tick_number # int(np.round(2 * value / np.pi))\n",
    "    \n",
    "    if N == 1:\n",
    "        return \"200604\"\n",
    "    elif N == 2:\n",
    "        return \"200712\"\n",
    "    elif N == 3:\n",
    "        return \"200908\"\n",
    "    elif N ==4: \n",
    "        return \"201104\"\n",
    "    elif N == 5:\n",
    "        return \"201212\"\n",
    "    elif N == 6:\n",
    "        return \"201408\"\n",
    "    elif N == 7: \n",
    "        return \"201604\"\n",
    "    elif N == 8: \n",
    "        return \"201712\"\n",
    "    else:\n",
    "        return \"\""
   ]
  },
  {
   "cell_type": "code",
   "execution_count": 293,
   "metadata": {},
   "outputs": [
    {
     "data": {
      "image/png": "[encoded data removed]",
      "text/plain": [
       "<Figure size 1080x360 with 1 Axes>"
      ]
     },
     "metadata": {},
     "output_type": "display_data"
    }
   ],
   "source": [
    "real=inv_y_all\n",
    "predict=inv_y_predict_all\n",
    "\n",
    "error=real-predict\n",
    "\n",
    "\n",
    "fig = plt.figure(figsize=(15, 5))\n",
    "\n",
    "ax = plt.axes()\n",
    "x = Z['Date']\n",
    "xi = [i for i in range(0, len(x))]\n",
    "\n",
    "\n",
    "ax.plot(xi, predict, lw=2, color='darkslateblue',label='Predicted Data')\n",
    "ax.plot(xi, real, lw=2, color='crimson', label='Actual Data')\n",
    "\n",
    "ax.plot(xi, error, lw=2, color='green', label='Error')\n",
    "\n",
    "# Set up grid, legend, and limits\n",
    "ax.grid(True)\n",
    "ax.xaxis.set_major_formatter(plt.FuncFormatter(format_func))\n",
    "ax.legend(frameon=True), \n",
    "plt.title(\"Line Plot {}_{}_{} Data\".format(Exp_Country, Imp_Country,Productname))\n",
    "plt.xlabel('Year Month')\n",
    "plt.ylabel('Value (Thousand USD)') \n",
    "\n",
    "plt.savefig('Line Plot {}_{}_{}.png'.format(Exp_Country,Imp_Country,Productname))"
   ]
  },
  {
   "cell_type": "code",
   "execution_count": 294,
   "metadata": {
    "collapsed": true
   },
   "outputs": [
    {
     "data": {
      "text/plain": [
       "135    3491.001691\n",
       "136    4836.999790\n",
       "137    3226.000839\n",
       "138    3003.000829\n",
       "139    1973.000168\n",
       "140    5063.000457\n",
       "141    3683.000004\n",
       "142    3274.001344\n",
       "143    3158.001234\n",
       "144    4052.999798\n",
       "145    4702.998325\n",
       "146    5016.998175\n",
       "dtype: float64"
      ]
     },
     "execution_count": 294,
     "metadata": {},
     "output_type": "execute_result"
    }
   ],
   "source": [
    "inv_y_all.iloc[135:]"
   ]
  },
  {
   "cell_type": "code",
   "execution_count": 295,
   "metadata": {
    "collapsed": true
   },
   "outputs": [
    {
     "data": {
      "text/plain": [
       "[3549.2867939971716,\n",
       " 3211.342943872403,\n",
       " 3386.9309498335447,\n",
       " 3910.1703807062327,\n",
       " 4167.958256184074,\n",
       " 3802.8993213923777]"
      ]
     },
     "execution_count": 295,
     "metadata": {},
     "output_type": "execute_result"
    }
   ],
   "source": [
    "inv_y_predict_future"
   ]
  },
  {
   "cell_type": "code",
   "execution_count": 296,
   "metadata": {},
   "outputs": [
    {
     "data": {
      "text/plain": [
       "135    3685.167069\n",
       "136    4277.811212\n",
       "137    3316.329110\n",
       "138    3735.491841\n",
       "139    2384.227941\n",
       "140    4177.567548\n",
       "141    3549.286794\n",
       "142    3211.342944\n",
       "143    3386.930950\n",
       "144    3910.170381\n",
       "145    4167.958256\n",
       "146    3802.899321\n",
       "dtype: float64"
      ]
     },
     "execution_count": 296,
     "metadata": {},
     "output_type": "execute_result"
    }
   ],
   "source": [
    "inv_y_predict_all.iloc[135:]"
   ]
  },
  {
   "cell_type": "code",
   "execution_count": 297,
   "metadata": {},
   "outputs": [],
   "source": [
    "#TUR \n",
    "# 841810\n",
    "\n",
    "#201803 - 7479.84717487,  \n",
    "#201804 - 9818.65161552,  \n",
    "#201805- 9319.58659757,\n",
    "#201806 - 10666.23343132\n",
    "\n",
    "# 841840\n",
    "#135    2450.215410\n",
    "#136    2412.266238\n",
    "#201803 -   2580\n",
    "#201804 -  2613\n",
    "#201805-  3025\n",
    "#201806 - \n",
    "\n",
    "# 841850\n",
    "#137    1897.986336\n",
    "#138    1957.960376\n",
    "#139    1694.103558\n",
    "#201803 -   2030\n",
    "#201804 -  2371\n",
    "#201805-   2548\n",
    "#201806 - 2649\n"
   ]
  },
  {
   "cell_type": "code",
   "execution_count": 298,
   "metadata": {
    "collapsed": true
   },
   "outputs": [],
   "source": [
    "#CHN\n",
    "# 841810\n",
    "#141    13139.621904\n",
    "#142    12722.146073\n",
    "#143    12152.009882\n",
    "# [12869, 12334, 12427 ]\n",
    "# 841840\n",
    "#140    1820.114674\n",
    "#141    1741.121139\n",
    "#142    1653.749971\n",
    "#143    1566.685755\n",
    "#[1707, 1650, 1573]\n",
    "# 841850\n",
    "#141    2927.422839\n",
    "#142    3222.260451\n",
    "#143    3361.269723\n",
    "# [3329, 3280, 3436]"
   ]
  },
  {
   "cell_type": "code",
   "execution_count": 299,
   "metadata": {
    "collapsed": true
   },
   "outputs": [],
   "source": [
    "Deneme_Sonuc =  DataFrame(columns='Date Real Predict'.split())\n"
   ]
  },
  {
   "cell_type": "code",
   "execution_count": 300,
   "metadata": {},
   "outputs": [],
   "source": [
    "Deneme_Sonuc['Real']=real"
   ]
  },
  {
   "cell_type": "code",
   "execution_count": 301,
   "metadata": {},
   "outputs": [],
   "source": [
    "Deneme_Sonuc['Predict']=predict"
   ]
  },
  {
   "cell_type": "code",
   "execution_count": 302,
   "metadata": {},
   "outputs": [],
   "source": [
    "Deneme_Sonuc['Date']=Z['Date']"
   ]
  },
  {
   "cell_type": "code",
   "execution_count": 303,
   "metadata": {},
   "outputs": [],
   "source": [
    "os.chdir('C:/Users/murat.ozemre/Desktop/Thesis_Project/Data_Learning_Prediction/Result_Plots')\n",
    "\n",
    "writer = pd.ExcelWriter('Predictions{}_{}_{}.xlsx'.format(Exp_Country,Imp_Country,Productname))\n",
    "Deneme_Sonuc.to_excel(writer,'Sonuc')\n",
    "writer.save()"
   ]
  }
 ],
 "metadata": {
  "kernelspec": {
   "display_name": "Python 3",
   "language": "python",
   "name": "python3"
  },
  "language_info": {
   "codemirror_mode": {
    "name": "ipython",
    "version": 3
   },
   "file_extension": ".py",
   "mimetype": "text/x-python",
   "name": "python",
   "nbconvert_exporter": "python",
   "pygments_lexer": "ipython3",
   "version": "3.6.8"
  }
 },
 "nbformat": 4,
 "nbformat_minor": 2
}
