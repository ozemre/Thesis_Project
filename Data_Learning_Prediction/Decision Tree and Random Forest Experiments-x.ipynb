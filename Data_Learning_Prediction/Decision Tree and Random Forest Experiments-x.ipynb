{
 "cells": [
  {
   "cell_type": "code",
   "execution_count": 1,
   "metadata": {
    "collapsed": true
   },
   "outputs": [],
   "source": [
    "import numpy as np\n",
    "import pandas as pd\n",
    "from time import time\n",
    "import matplotlib.pyplot as plt\n",
    "#from sklearn.cross_validation import train_test_split\n",
    "import seaborn as sns\n",
    "%matplotlib inline\n",
    "\n",
    "\n",
    "import sys\n",
    "import warnings\n",
    "\n",
    "if not sys.warnoptions:\n",
    "    warnings.simplefilter(\"ignore\")"
   ]
  },
  {
   "cell_type": "code",
   "execution_count": 2,
   "metadata": {
    "collapsed": true
   },
   "outputs": [],
   "source": [
    "from sklearn.model_selection import train_test_split"
   ]
  },
  {
   "cell_type": "code",
   "execution_count": 3,
   "metadata": {
    "collapsed": true
   },
   "outputs": [],
   "source": [
    "from __future__ import absolute_import\n",
    "from __future__ import division\n",
    "from __future__ import print_function\n",
    "from __future__ import print_function\n",
    "import os\n",
    "import sys\n",
    "os.chdir('C:/Users/murat.ozemre/Desktop/Thesis_Project/Data_Sources_and_Preparation')\n",
    "#os.chdir('C:/Users/murat.ozemre/Documents/MOZEMRE-OZEL/Doktora/2017 Tez/Veri Analizi/Ver 3 Tez Izleme Calısmaları')"
   ]
  },
  {
   "cell_type": "code",
   "execution_count": 4,
   "metadata": {},
   "outputs": [
    {
     "name": "stdout",
     "output_type": "stream",
     "text": [
      "statsmodels: 0.8.0\n"
     ]
    }
   ],
   "source": [
    "from sklearn import metrics\n",
    "import statsmodels\n",
    "print('statsmodels: %s' % statsmodels.__version__)"
   ]
  },
  {
   "cell_type": "code",
   "execution_count": 5,
   "metadata": {},
   "outputs": [
    {
     "data": {
      "text/plain": [
       "'12-12 10:48'"
      ]
     },
     "execution_count": 5,
     "metadata": {},
     "output_type": "execute_result"
    }
   ],
   "source": [
    "from datetime import datetime\n",
    "datetime.now().strftime('%m-%d %H:%M')"
   ]
  },
  {
   "cell_type": "code",
   "execution_count": 6,
   "metadata": {},
   "outputs": [
    {
     "name": "stderr",
     "output_type": "stream",
     "text": [
      "C:\\Users\\murat.ozemre\\AppData\\Local\\Continuum\\Anaconda3\\envs\\Tensor_1\\lib\\site-packages\\sklearn\\ensemble\\weight_boosting.py:29: DeprecationWarning: numpy.core.umath_tests is an internal NumPy module and should not be imported. It will be removed in a future NumPy release.\n",
      "  from numpy.core.umath_tests import inner1d\n"
     ]
    }
   ],
   "source": [
    "from math import sqrt\n",
    "from sklearn.ensemble import RandomForestRegressor"
   ]
  },
  {
   "cell_type": "code",
   "execution_count": 7,
   "metadata": {
    "collapsed": true
   },
   "outputs": [],
   "source": [
    "from sklearn.preprocessing import MinMaxScaler\n",
    "from sklearn.preprocessing import minmax_scale\n",
    "from sklearn.preprocessing import MaxAbsScaler\n",
    "from sklearn.preprocessing import StandardScaler\n",
    "from sklearn.preprocessing import RobustScaler\n",
    "from sklearn.preprocessing import Normalizer"
   ]
  },
  {
   "cell_type": "code",
   "execution_count": 8,
   "metadata": {
    "collapsed": true
   },
   "outputs": [],
   "source": [
    "#Scaler_Type_Options = ['Normalizer', 'MinMaxScaler','MaxAbsScaler','RobustScaler','StandardScaler' ]\n",
    "Scaler_Type_Options = [ 'MinMaxScaler' ]\n",
    "Scalertype=Scaler_Type_Options[0]\n",
    "Product_Type_Options = [841810,841840,841850]"
   ]
  },
  {
   "cell_type": "code",
   "execution_count": 9,
   "metadata": {},
   "outputs": [
    {
     "data": {
      "text/plain": [
       "'MinMaxScaler'"
      ]
     },
     "execution_count": 9,
     "metadata": {},
     "output_type": "execute_result"
    }
   ],
   "source": [
    "Scalertype"
   ]
  },
  {
   "cell_type": "code",
   "execution_count": 59,
   "metadata": {
    "collapsed": true
   },
   "outputs": [],
   "source": [
    "Product=Product_Type_Options[0] #841810\n",
    "Exp_Country='TUR' # 'CHN'\n",
    "Imp_Country='GBR'\n",
    "\n",
    "if Exp_Country=='CHN':\n",
    "    Currency='CNY'\n",
    "    EXP0='TUR'   \n",
    "elif Exp_Country=='TUR':\n",
    "    Currency='TRY'\n",
    "    EXP0='CHN'   "
   ]
  },
  {
   "cell_type": "code",
   "execution_count": 68,
   "metadata": {
    "collapsed": true
   },
   "outputs": [],
   "source": [
    "MonthSeries=\"1\"\n",
    "MonthSeries_option=[\"1\",\"2\",\"3\",\"6\",\"12\"]"
   ]
  },
  {
   "cell_type": "code",
   "execution_count": 69,
   "metadata": {
    "collapsed": true
   },
   "outputs": [],
   "source": [
    "Data_Core1 = pd.ExcelFile('Data_{}_{}_{}.xlsx'.format(Exp_Country,Imp_Country,Product))\n",
    "y = Data_Core1.parse('Y', header=0,index_col=None, na_values=['NA'])['{}_{}_{}'.format(Exp_Country,Imp_Country,Product)]\n",
    "Z = Data_Core1.parse('Y', header=0,index_col=None, na_values=['NA'])[['Date','Year','Month']]\n",
    "\n",
    "X = Data_Core1.parse('X{}'.format(MonthSeries), header=0,index_col=None, na_values=['NA'])\n",
    "X.drop(['Date','Year','Month'], axis=1, inplace=True)\n",
    "X_Column_Names=list(X.columns.values)\n",
    "n_feature=X.shape[1]\n",
    "\n",
    "Xhat = Data_Core1.parse('Xhat', header=0,index_col=None, na_values=['NA'])\n",
    "Xhat.drop(['Date','Year','Month'], axis=1, inplace=True)\n"
   ]
  },
  {
   "cell_type": "code",
   "execution_count": 70,
   "metadata": {
    "collapsed": true
   },
   "outputs": [],
   "source": [
    "def Xscaler(X,y,scalertype):\n",
    "\n",
    "    if scalertype==\"Normalizer\":\n",
    "        X=pd.DataFrame(Normalizer().fit_transform(X,y))\n",
    "        print(\"normalize\")\n",
    "    elif scalertype==\"MinMaxScaler\":\n",
    "        X=pd.DataFrame(MinMaxScaler().fit_transform(X,y))\n",
    "        print(\"minmax\")\n",
    "    elif scalertype==\"MaxAbsScaler\":\n",
    "        X=pd.DataFrame(MaxAbsScaler().fit_transform(X,y))\n",
    "        print(\"maxabs\")\n",
    "    elif scalertype==\"RobustScaler\":\n",
    "        X=pd.DataFrame(RobustScaler().fit_transform(X,y))\n",
    "    elif scalertype==\"StandardScaler\":\n",
    "        X=pd.DataFrame(StandardScaler().fit_transform(X,y))\n",
    "    return X"
   ]
  },
  {
   "cell_type": "markdown",
   "metadata": {},
   "source": [
    "Scaling Min Max and then spilt test and train according stratify to month."
   ]
  },
  {
   "cell_type": "code",
   "execution_count": 71,
   "metadata": {
    "collapsed": true,
    "scrolled": true
   },
   "outputs": [],
   "source": [
    "def X_Y_scaler_train_test_Split(X,y,Z):\n",
    "\n",
    "    values = X.values\n",
    "    values = values.astype('float32')\n",
    "    X_Column_X_Column_Names=X.columns\n",
    "    \n",
    "    scaler_X= MinMaxScaler(feature_range=(0, 1))\n",
    "\n",
    "    scaled_value_X = scaler_X.fit_transform(values)\n",
    "    scaled_value_X = pd.DataFrame(data=scaled_value_X[:,:])\n",
    "    scaled_value_X.columns=X_Column_X_Column_Names\n",
    "    \n",
    "    values = y.values\n",
    "    values = values.astype('float32')\n",
    "    values = values.reshape(-1, 1)\n",
    "    \n",
    "    scaler_y= MinMaxScaler(feature_range=(0, 1))\n",
    "\n",
    "    scaled_value_y = scaler_y.fit_transform(values)\n",
    "    scaled_value_y = pd.DataFrame(data=scaled_value_y)\n",
    "\n",
    "    X_train, X_test, y_train, y_test = train_test_split(scaled_value_X,scaled_value_y,test_size=0.2,random_state=42,stratify=Z['Month'])\n",
    "\n",
    "    return X_train, X_test, y_train, y_test, scaler_X, scaler_y, scaled_value_X, scaled_value_y\n",
    "#for Scaler in Scaler_Type_Options:\n",
    "#    X= Xscaler(X,y,Scaler)"
   ]
  },
  {
   "cell_type": "code",
   "execution_count": 72,
   "metadata": {
    "collapsed": true
   },
   "outputs": [],
   "source": [
    "def inverse_scale_and_graph_Y_predict_and_test(y_predict_test,y_test,scaler_y,plot_on):\n",
    "\n",
    "    y_predict_test=y_predict_test.reshape(-1, 1)\n",
    "    inv_y_predict_test = scaler_y.inverse_transform(y_predict_test)\n",
    "    predictions=inv_y_predict_test\n",
    "\n",
    "  \n",
    "    inv_y_test = scaler_y.inverse_transform(y_test)\n",
    "    inv_y_test = inv_y_test[:,0]\n",
    "\n",
    "    MAE=int(metrics.mean_absolute_error(inv_y_test, predictions))\n",
    "    MSE=int(sqrt(metrics.mean_squared_error(inv_y_test, predictions)))\n",
    "    R2=int(1000*(metrics.r2_score(inv_y_test, predictions)))/1000\n",
    "    \n",
    "    \n",
    "    print('MAE',MAE, 'MSE',MSE, 'R2',R2 )\n",
    "    \n",
    "    if plot_on =='YES':\n",
    "        plt.scatter(inv_y_test,predictions)\n",
    "    \n",
    "    return MAE,MSE,R2\n",
    "    \n"
   ]
  },
  {
   "cell_type": "code",
   "execution_count": 73,
   "metadata": {
    "collapsed": true
   },
   "outputs": [],
   "source": [
    "Scaled_Train_Test_Split=X_Y_scaler_train_test_Split(X,y,Z)\n",
    "\n",
    "\n",
    "X_train = Scaled_Train_Test_Split[0]\n",
    "X_test = Scaled_Train_Test_Split[1]\n",
    "y_train = Scaled_Train_Test_Split[2]\n",
    "y_test = Scaled_Train_Test_Split[3]\n",
    "scaler_X = Scaled_Train_Test_Split[4]  \n",
    "scaler_y = Scaled_Train_Test_Split[5]\n",
    "scaled_value_X=Scaled_Train_Test_Split[6]\n",
    "scaled_value_y=Scaled_Train_Test_Split[7]"
   ]
  },
  {
   "cell_type": "code",
   "execution_count": 76,
   "metadata": {},
   "outputs": [
    {
     "name": "stdout",
     "output_type": "stream",
     "text": [
      "MAE 2803 MSE 3623 R2 0.412\n"
     ]
    },
    {
     "data": {
      "text/plain": [
       "(2803, 3623, 0.412)"
      ]
     },
     "execution_count": 76,
     "metadata": {},
     "output_type": "execute_result"
    },
    {
     "data": {
      "image/png": "[encoded data removed]",
      "text/plain": [
       "<matplotlib.figure.Figure at 0x18d3f8a2e48>"
      ]
     },
     "metadata": {},
     "output_type": "display_data"
    }
   ],
   "source": [
    "from sklearn.tree import DecisionTreeRegressor\n",
    "\n",
    "# Decison tree regressor model\n",
    "dt = DecisionTreeRegressor()\n",
    "\n",
    "# Decison tree regressor model train\n",
    "DecisionTreeRegressor.fit(dt,X_train,y_train)\n",
    "\n",
    "# Decison tree regressor model predict\n",
    "y_predict_test = dt.predict(X_test)\n",
    "\n",
    "# Compare predicted Y and real Y \n",
    "inverse_scale_and_graph_Y_predict_and_test(y_predict_test,y_test,scaler_y,'YES')"
   ]
  },
  {
   "cell_type": "code",
   "execution_count": 67,
   "metadata": {},
   "outputs": [
    {
     "name": "stdout",
     "output_type": "stream",
     "text": [
      "MAE 1722 MSE 2150 R2 0.793\n"
     ]
    },
    {
     "data": {
      "text/plain": [
       "(1722, 2150, 0.793)"
      ]
     },
     "execution_count": 67,
     "metadata": {},
     "output_type": "execute_result"
    },
    {
     "data": {
      "image/png": "[encoded data removed]",
      "text/plain": [
       "<matplotlib.figure.Figure at 0x18d40d17240>"
      ]
     },
     "metadata": {},
     "output_type": "display_data"
    }
   ],
   "source": [
    "# Random Foest Regressor model\n",
    "rfc=RandomForestRegressor(n_estimators=3000)\n",
    "\n",
    "# Random Foest Regressor model train\n",
    "RandomForestRegressor.fit(rfc,X_train,y_train)\n",
    "\n",
    "# Random Foest Regressor mode predict\n",
    "y_predict_test = rfc.predict(X_test)\n",
    "\n",
    "# Compare predicted Y and real Y \n",
    "inverse_scale_and_graph_Y_predict_and_test(y_predict_test,y_test,scaler_y,'YES')"
   ]
  },
  {
   "cell_type": "code",
   "execution_count": 19,
   "metadata": {},
   "outputs": [
    {
     "data": {
      "text/plain": [
       "array([0.08437444, 0.06464064, 0.32008163, 0.02041041, 0.0754031 ,\n",
       "       0.08940238, 0.01242519, 0.01985957, 0.01440273, 0.0080515 ,\n",
       "       0.01705437, 0.01760856, 0.01380177, 0.01404749, 0.02343072,\n",
       "       0.00995501, 0.02097446, 0.01287663, 0.00580844, 0.00945807,\n",
       "       0.00614087, 0.04657481, 0.03944477, 0.03224404, 0.01381961,\n",
       "       0.00770881])"
      ]
     },
     "execution_count": 19,
     "metadata": {},
     "output_type": "execute_result"
    }
   ],
   "source": [
    "rfc.feature_importances_"
   ]
  },
  {
   "cell_type": "code",
   "execution_count": 20,
   "metadata": {},
   "outputs": [
    {
     "data": {
      "text/plain": [
       "-3.8835563698952345"
      ]
     },
     "execution_count": 20,
     "metadata": {},
     "output_type": "execute_result"
    }
   ],
   "source": [
    "rfc.score(X,y)"
   ]
  },
  {
   "cell_type": "code",
   "execution_count": 21,
   "metadata": {
    "scrolled": false
   },
   "outputs": [
    {
     "name": "stdout",
     "output_type": "stream",
     "text": [
      "MAE 0 MSE 0 R2 0.962\n",
      "Feature ranking:\n",
      "1. feature TUR_FRA_841810-2 2 (0.336963) 0.301282\n",
      "2. feature TUR_ITA_841810-2 4 (0.083496) 0.187244\n",
      "3. feature TUR_World_841810-2 1 (0.081180) 0.188127\n",
      "4. feature TUR_GBR_841810-2 0 (0.065088) 0.155941\n",
      "5. feature CPI_TUR-2 21 (0.064380) 0.153925\n",
      "6. feature CPI_GBR-2 22 (0.056803) 0.142954\n",
      "7. feature TUR_DEU_841810-2 5 (0.054567) 0.152187\n",
      "8. feature TRY-2 23 (0.028604) 0.081124\n",
      "9. feature CHN_GBR_841810-2 6 (0.022914) 0.029847\n",
      "10. feature CCI_TUR-2 14 (0.021674) 0.033559\n",
      "11. feature KOR_GBR_841810-2 8 (0.018870) 0.023561\n",
      "12. feature TUR_USA_841810-2 3 (0.018515) 0.043529\n",
      "13. feature BCI_TUR-2 13 (0.017206) 0.023592\n",
      "14. feature GBP-2 24 (0.015910) 0.030687\n",
      "15. feature EPU_GBR-2 11 (0.014286) 0.021583\n",
      "16. feature GDP_TUR-2 16 (0.014113) 0.024280\n",
      "17. feature EPU_World-2 12 (0.011658) 0.015599\n",
      "18. feature BCI_GBR-2 17 (0.009994) 0.013699\n",
      "19. feature POL_GBR_841810-2 7 (0.009617) 0.014045\n",
      "20. feature TUR_GBR_841810_UV-2 10 (0.009288) 0.022357\n",
      "21. feature CCI_GBR-2 18 (0.008808) 0.016075\n",
      "22. feature CLI_GBR-2 19 (0.008762) 0.015266\n",
      "23. feature CLI_TUR-2 15 (0.007615) 0.011277\n",
      "24. feature ITA_GBR_841810-2 9 (0.007054) 0.010791\n",
      "25. feature GDP_GBR-2 20 (0.006502) 0.009902\n",
      "26. feature World-2 25 (0.006134) 0.020854\n"
     ]
    },
    {
     "data": {
      "image/png": "[encoded data removed]",
      "text/plain": [
       "<matplotlib.figure.Figure at 0x26ba23231d0>"
      ]
     },
     "metadata": {},
     "output_type": "display_data"
    }
   ],
   "source": [
    "# 1 Nolu Blok\n",
    "# Internetten bulunan kod blogu\n",
    "# Random Forest'a gore Feature Importance Hesaplama\n",
    "# Butun veri setinin girildiği ona göre önemli olan özelliklerin bulundugu kod parçası\n",
    "\n",
    "ScalerType = Scalertype=Scaler_Type_Options[0]\n",
    "n_sample=len(X)\n",
    "\n",
    "rfc=RandomForestRegressor(n_estimators=3000)\n",
    "RandomForestRegressor.fit(rfc,scaled_value_X,scaled_value_y)\n",
    "\n",
    "\n",
    "predictions = rfc.predict(X_test)\n",
    "print('MAE',int(metrics.mean_absolute_error(y_test, predictions)),\n",
    "      'MSE',int(sqrt(metrics.mean_squared_error(y_test, predictions))),\n",
    "      'R2',int(1000*(metrics.r2_score(y_test, predictions)))/1000\n",
    "     )\n",
    "\n",
    "\n",
    "importances = rfc.feature_importances_\n",
    "std = np.std([tree.feature_importances_ for tree in rfc.estimators_],axis=0)\n",
    "\n",
    "indices = np.argsort(importances)[::-1]\n",
    "\n",
    "\n",
    "# Print the feature ranking\n",
    "print(\"Feature ranking:\")\n",
    "\n",
    "for f in range(n_feature):\n",
    "    print(\"%d. feature %s %d (%f) %f\" % (f+1, X_Column_Names[indices[f]], indices[f], importances[indices[f]],std[indices[f]]))\n",
    "\n",
    "# Plot the feature importances of the forest\n",
    "plt.figure()\n",
    "plt.title(\"{} and -{} Month Feature Importances and Standart Deviation of Features with 3000 Different Estimations\".format(Product,MonthSeries))\n",
    "plt.bar(range(n_feature), importances[indices],\n",
    "       color=\"r\", yerr=std[indices], align=\"center\")\n",
    "plt.xticks(range(n_feature), indices,rotation=90)\n",
    "plt.xlim([-1, n_feature])\n",
    "\n",
    "fig_size = plt.rcParams[\"figure.figsize\"]\n",
    "fig_size[0] = 15\n",
    "fig_size[1] = 10\n",
    "plt.rcParams[\"figure.figsize\"] = fig_size\n",
    "plt.savefig(\"Plots_Feature_Selection/{} and -{} Month Feature Importances and Standart Deviation of Features with 3000 Different Estimations.png\".format(Product,MonthSeries), format='png', dpi=300)\n",
    "\n",
    "plt.show()"
   ]
  },
  {
   "cell_type": "code",
   "execution_count": 22,
   "metadata": {
    "scrolled": true
   },
   "outputs": [
    {
     "name": "stdout",
     "output_type": "stream",
     "text": [
      "MAE 1973 MSE 2291 R2 0.699\n",
      "MAE 2236 MSE 2773 R2 0.537\n",
      "MAE 1911 MSE 2297 R2 0.723\n",
      "MAE 2085 MSE 2755 R2 0.579\n",
      "MAE 1763 MSE 2121 R2 0.641\n",
      "MAE 1942 MSE 2350 R2 0.721\n",
      "MAE 1954 MSE 2552 R2 0.587\n",
      "MAE 1857 MSE 2189 R2 0.638\n",
      "MAE 2053 MSE 2535 R2 0.603\n",
      "MAE 2110 MSE 2647 R2 0.673\n",
      "MAE 1395 MSE 1688 R2 0.826\n",
      "MAE 1942 MSE 2378 R2 0.731\n",
      "MAE 2152 MSE 2677 R2 0.361\n",
      "MAE 1670 MSE 2071 R2 0.722\n",
      "MAE 1980 MSE 2552 R2 0.566\n",
      "MAE 2225 MSE 2769 R2 0.56\n",
      "MAE 1737 MSE 2062 R2 0.607\n",
      "MAE 2441 MSE 2806 R2 0.649\n",
      "MAE 2121 MSE 2778 R2 0.675\n",
      "MAE 2002 MSE 2293 R2 0.692\n",
      "MAE 1981 MSE 2398 R2 0.726\n",
      "MAE 2416 MSE 2918 R2 0.551\n",
      "MAE 2157 MSE 2623 R2 0.657\n",
      "MAE 1865 MSE 2305 R2 0.781\n",
      "MAE 1690 MSE 2083 R2 0.764\n",
      "MAE 2358 MSE 3005 R2 0.555\n",
      "MAE 2327 MSE 2824 R2 0.705\n",
      "MAE 1917 MSE 2376 R2 0.73\n",
      "MAE 2133 MSE 2690 R2 0.293\n",
      "MAE 1847 MSE 2426 R2 0.551\n",
      "MAE 1882 MSE 2545 R2 0.62\n",
      "MAE 1690 MSE 2130 R2 0.699\n",
      "MAE 2070 MSE 2539 R2 0.696\n",
      "MAE 2105 MSE 2691 R2 0.648\n",
      "MAE 1670 MSE 2194 R2 0.746\n",
      "MAE 1606 MSE 1906 R2 0.777\n",
      "MAE 1858 MSE 2432 R2 0.695\n",
      "MAE 1703 MSE 2224 R2 0.647\n",
      "MAE 1857 MSE 2360 R2 0.751\n",
      "MAE 2070 MSE 2572 R2 0.477\n",
      "MAE 2604 MSE 3296 R2 0.511\n",
      "MAE 2228 MSE 2848 R2 0.358\n",
      "MAE 1859 MSE 2300 R2 0.763\n",
      "MAE 1802 MSE 2291 R2 0.701\n",
      "MAE 2567 MSE 2948 R2 0.344\n",
      "MAE 2001 MSE 2720 R2 0.558\n",
      "MAE 2156 MSE 2732 R2 0.656\n",
      "MAE 1786 MSE 2150 R2 0.75\n",
      "MAE 1874 MSE 2205 R2 0.78\n",
      "MAE 1862 MSE 2255 R2 0.732\n",
      "MAE 1533 MSE 1750 R2 0.791\n",
      "MAE 1946 MSE 2405 R2 0.66\n",
      "MAE 1851 MSE 2343 R2 0.733\n",
      "MAE 1999 MSE 2452 R2 0.557\n",
      "MAE 2190 MSE 2613 R2 0.657\n",
      "MAE 2331 MSE 2782 R2 0.628\n",
      "MAE 2137 MSE 2799 R2 0.671\n",
      "MAE 2168 MSE 2474 R2 0.672\n",
      "MAE 1582 MSE 2056 R2 0.824\n",
      "MAE 1819 MSE 2258 R2 0.736\n",
      "MAE 2276 MSE 2829 R2 0.517\n",
      "MAE 1575 MSE 2046 R2 0.777\n",
      "MAE 1900 MSE 2234 R2 0.736\n",
      "MAE 1930 MSE 2421 R2 0.531\n",
      "MAE 2346 MSE 2865 R2 0.418\n",
      "MAE 1757 MSE 2190 R2 0.508\n",
      "MAE 1760 MSE 2113 R2 0.688\n",
      "MAE 2057 MSE 2502 R2 0.681\n",
      "MAE 1496 MSE 1973 R2 0.673\n",
      "MAE 1881 MSE 2379 R2 0.67\n",
      "MAE 1966 MSE 2424 R2 0.689\n",
      "MAE 1923 MSE 2534 R2 0.63\n",
      "MAE 2193 MSE 2687 R2 0.637\n",
      "MAE 2261 MSE 2796 R2 0.549\n",
      "MAE 1709 MSE 2258 R2 0.724\n",
      "MAE 1810 MSE 2453 R2 0.721\n",
      "MAE 1685 MSE 1950 R2 0.774\n",
      "MAE 2105 MSE 2866 R2 0.628\n",
      "MAE 2437 MSE 2894 R2 0.411\n",
      "MAE 2472 MSE 2868 R2 0.602\n",
      "MAE 1592 MSE 1913 R2 0.788\n",
      "MAE 1449 MSE 1987 R2 0.756\n",
      "MAE 1690 MSE 2183 R2 0.762\n",
      "MAE 1836 MSE 2405 R2 0.676\n",
      "MAE 1838 MSE 2306 R2 0.678\n",
      "MAE 1723 MSE 2071 R2 0.678\n",
      "MAE 2104 MSE 2543 R2 0.503\n",
      "MAE 1580 MSE 1988 R2 0.76\n",
      "MAE 1866 MSE 2563 R2 0.753\n",
      "MAE 2069 MSE 2596 R2 0.335\n",
      "MAE 1696 MSE 2222 R2 0.736\n",
      "MAE 1892 MSE 2336 R2 0.698\n",
      "MAE 1863 MSE 2280 R2 0.719\n",
      "MAE 2250 MSE 2684 R2 0.741\n",
      "MAE 1604 MSE 2027 R2 0.733\n",
      "MAE 1436 MSE 1793 R2 0.837\n",
      "MAE 2262 MSE 2800 R2 0.685\n",
      "MAE 1650 MSE 2135 R2 0.601\n",
      "MAE 2055 MSE 2530 R2 0.454\n",
      "MAE 2030 MSE 2674 R2 0.677\n",
      "Features scores:\n",
      "0 TUR_GBR_841810-2\n",
      "1 TUR_World_841810-2\n",
      "2 TUR_FRA_841810-2\n",
      "3 TUR_USA_841810-2\n",
      "4 TUR_ITA_841810-2\n",
      "5 TUR_DEU_841810-2\n",
      "6 CHN_GBR_841810-2\n",
      "7 POL_GBR_841810-2\n",
      "8 KOR_GBR_841810-2\n",
      "9 ITA_GBR_841810-2\n",
      "10 TUR_GBR_841810_UV-2\n",
      "11 EPU_GBR-2\n",
      "12 EPU_World-2\n",
      "13 BCI_TUR-2\n",
      "14 CCI_TUR-2\n",
      "15 CLI_TUR-2\n",
      "16 GDP_TUR-2\n",
      "17 BCI_GBR-2\n",
      "18 CCI_GBR-2\n",
      "19 CLI_GBR-2\n",
      "20 GDP_GBR-2\n",
      "21 CPI_TUR-2\n",
      "22 CPI_GBR-2\n",
      "23 TRY-2\n",
      "24 GBP-2\n",
      "25 World-2\n"
     ]
    },
    {
     "data": {
      "text/plain": [
       "<matplotlib.figure.Figure at 0x26ba241bb00>"
      ]
     },
     "metadata": {},
     "output_type": "display_data"
    },
    {
     "data": {
      "image/png": "[encoded data removed]",
      "text/plain": [
       "<matplotlib.figure.Figure at 0x26ba2405be0>"
      ]
     },
     "metadata": {},
     "output_type": "display_data"
    }
   ],
   "source": [
    "# 2 Ver Nolu Blok\n",
    "# Internetten bulunan kod blogu http://scikit-learn.org/stable/auto_examples/ensemble/plot_forest_importances.html\n",
    "# Feature Importance Hesaplama\n",
    "# Burada asıl özellik bir veri seti yaratılıyor make_regression ile. Ve oaradakilere dogru çalışıp çalışmadığı test ediliyor.\n",
    "# Butun veri setinin girildiği ona göre önemli olan özelliklerin bulundugu kod parçası\n",
    "\n",
    "from sklearn.datasets import make_regression\n",
    "\n",
    "\n",
    "n_sample=len(X)\n",
    "\n",
    "number_of_split=100\n",
    "number_of_row=29\n",
    "\n",
    "random_state_options = np.arange(0,number_of_split)\n",
    "y_predict= np.ones((number_of_row, number_of_split))\n",
    "\n",
    "feature_indices = np.ones((n_feature, number_of_split))\n",
    "feature_importances=np.ones((n_feature, number_of_split))\n",
    "feature_indices_score=np.ones((n_feature))\n",
    "feature_importances_score=np.ones((n_feature))\n",
    "j=0\n",
    "\n",
    "\n",
    "# For different split sets Random Forest Regressor runs.\n",
    "\n",
    "for random_state_i in random_state_options:\n",
    "\n",
    "    X_train, X_test, y_train, y_test = train_test_split(scaled_value_X,scaled_value_y,test_size=0.2,random_state=random_state_i,stratify=Z['Month'])\n",
    "\n",
    "    \n",
    "\n",
    "    rfc=RandomForestRegressor(n_estimators=30)\n",
    "    RandomForestRegressor.fit(rfc,X_train,y_train)\n",
    "\n",
    "    y_predict[:,j] = rfc.predict(X_test)\n",
    "    \n",
    "    result=inverse_scale_and_graph_Y_predict_and_test (y_predict[:,j],y_test,scaler_y,'NO')\n",
    "    \n",
    "    importances = rfc.feature_importances_\n",
    "    std = np.std([tree.feature_importances_ for tree in rfc.estimators_],axis=0)\n",
    "\n",
    "    indices = np.argsort(importances)[::-1]\n",
    "    feature_indices[:,j]=indices\n",
    "    feature_importances[:,j]=importances\n",
    "    j=j+1\n",
    "    \n",
    "\n",
    "print (\"Features scores:\")    \n",
    "for i in range(n_feature):\n",
    "    feature_indices_score[i]=0\n",
    "    feature_importances_score[i]=0\n",
    "    for j in range(number_of_split):\n",
    "        \n",
    "        indice_coeff=feature_indices[i,j]\n",
    "        importances_coeff=feature_importances[i,j]\n",
    "        \n",
    "        feature_indices_score[i]=feature_indices_score[i]+(indice_coeff)\n",
    "        feature_importances_score[i]=feature_importances_score[i]+(importances_coeff)\n",
    "        \n",
    "#        print('feat=',i,'#ofsplit=',j,'tot_indice',feature_indices_score[i],\n",
    "#              'indice=',indice_coeff,'tot_importan=',feature_importances_score[i],'importan',importances_coeff )\n",
    "\n",
    "    print( i,X_Column_Names[i])#,feature_indices_score[i],'number_of_split',j+1) #,X_Column_Names[feature_indices[i,j]])\n",
    "    \n",
    "scored_feature_indices = np.argsort(feature_indices_score)\n",
    "scored_feature_importances = np.argsort(feature_importances_score)\n",
    "    \n",
    " \n",
    "    \n",
    "    \n",
    "# Plot the feature importances of the forest\n",
    "plt.gcf().clear()\n",
    "plt.figure()\n",
    "plt.title(\"{} and -{} Month Cumulative Feature Importances with {} Different Splits.png\".format(Product,MonthSeries,number_of_split))\n",
    "plt.bar(range(n_feature), feature_importances_score[scored_feature_importances][::-1],\n",
    "       color=\"r\",  align=\"center\")\n",
    "plt.xticks(range(n_feature), scored_feature_importances[::-1],rotation=90)\n",
    "plt.xlim([-1, n_feature])\n",
    "\n",
    "fig_size = plt.rcParams[\"figure.figsize\"]\n",
    "fig_size[0] = 20\n",
    "fig_size[1] = 12\n",
    "plt.rcParams[\"figure.figsize\"] = fig_size\n",
    "plt.savefig(\"Plots_Feature_Selection/{} and -{} Month Cumulative Feature Importances with {} Different Splits.png\".format(Product,MonthSeries,number_of_split), format='png', dpi=300)\n",
    "\n",
    "plt.show()"
   ]
  },
  {
   "cell_type": "code",
   "execution_count": 23,
   "metadata": {
    "scrolled": true
   },
   "outputs": [
    {
     "name": "stderr",
     "output_type": "stream",
     "text": [
      "C:\\Users\\murat.ozemre\\AppData\\Local\\Continuum\\Anaconda3\\envs\\Tensor_1\\lib\\site-packages\\sklearn\\cross_validation.py:41: DeprecationWarning: This module was deprecated in version 0.18 in favor of the model_selection module into which all the refactored classes and functions are moved. Also note that the interface of the new CV iterators are different from that of this module. This module will be removed in 0.20.\n",
      "  \"This module will be removed in 0.20.\", DeprecationWarning)\n"
     ]
    },
    {
     "name": "stdout",
     "output_type": "stream",
     "text": [
      "153.19570000000002 number_of_split 100\n",
      "130.54471000000004 number_of_split 100\n",
      "475.1304899999999 number_of_split 100\n",
      "40.188910000000014 number_of_split 100\n",
      "110.40343000000001 number_of_split 100\n",
      "108.16972999999999 number_of_split 100\n",
      "36.399910000000006 number_of_split 100\n",
      "18.31439999999999 number_of_split 100\n",
      "35.42650999999999 number_of_split 100\n",
      "13.39972 number_of_split 100\n",
      "17.42134000000001 number_of_split 100\n",
      "24.751369999999998 number_of_split 100\n",
      "19.415050000000008 number_of_split 100\n",
      "25.402369999999994 number_of_split 100\n",
      "34.129990000000014 number_of_split 100\n",
      "10.36291 number_of_split 100\n",
      "22.399670000000015 number_of_split 100\n",
      "15.30131 number_of_split 100\n",
      "12.39432 number_of_split 100\n",
      "14.477809999999998 number_of_split 100\n",
      "10.075189999999997 number_of_split 100\n",
      "100.64006 number_of_split 100\n",
      "79.38655999999999 number_of_split 100\n",
      "51.626349999999995 number_of_split 100\n",
      "26.33814 number_of_split 100\n",
      "13.36571 number_of_split 100\n"
     ]
    },
    {
     "data": {
      "text/plain": [
       "<matplotlib.figure.Figure at 0x26ba48f8940>"
      ]
     },
     "metadata": {},
     "output_type": "display_data"
    },
    {
     "data": {
      "image/png": "[encoded data removed]",
      "text/plain": [
       "<matplotlib.figure.Figure at 0x26ba3684d68>"
      ]
     },
     "metadata": {},
     "output_type": "display_data"
    }
   ],
   "source": [
    "# 3 Nolu Blok\n",
    "# Internetten bulunan kod blogu\n",
    "# http://blog.datadive.net/selecting-good-features-part-iii-random-forests/\n",
    "\n",
    "from sklearn.cross_validation import ShuffleSplit\n",
    "from sklearn.metrics import r2_score\n",
    "from collections import defaultdict\n",
    "from operator import itemgetter, attrgetter\n",
    "\n",
    "def getKey(item):\n",
    "    return item[0]\n",
    "\n",
    "rf = RandomForestRegressor()\n",
    "\n",
    "number_of_split=100\n",
    "number_of_row=27\n",
    "\n",
    "\n",
    "\n",
    "scores = defaultdict(list)\n",
    "#feature_indices = \n",
    "random_state_options = np.arange(0,number_of_split)\n",
    "predictions= np.ones((number_of_row, number_of_split))\n",
    "feature_indices = np.ones((n_feature, number_of_split))\n",
    "feature_importances=np.ones((n_feature, number_of_split))\n",
    "\n",
    "feature_score=np.zeros((n_feature))\n",
    "feature_indices_score=np.ones((n_feature))\n",
    "feature_importances_score=np.ones((n_feature))\n",
    "\n",
    "#R2=defaultdict(list)\n",
    "R2=np.ones(number_of_split)\n",
    "j=0\n",
    "\n",
    "sonuc =[]\n",
    "#crossvalidate the scores on a number of different random splits of the data\n",
    "\n",
    "#for train_idx, test_idx in ShuffleSplit(len(X), 10, .2):\n",
    "for train_idx, test_idx in ShuffleSplit(len(X), number_of_split, .2):\n",
    "     \n",
    "    X_train, X_test = X.iloc[train_idx], X.iloc[test_idx]\n",
    "    Y_train, Y_test = y.iloc[train_idx], y.iloc[test_idx]\n",
    "#    r = rf.fit(X_train, Y_train)\n",
    "    RandomForestRegressor.fit(rf,X_train, Y_train)    \n",
    "\n",
    "    y_predict[:,j] = rf.predict(X_test)\n",
    "    acc = int(1000*(r2_score(Y_test, rf.predict(X_test))))/1000\n",
    "    R2[j] = int(1000*(r2_score(Y_test, rf.predict(X_test))))/1000\n",
    "    \n",
    "\n",
    "    \n",
    "    importances = rf.feature_importances_\n",
    "    indices = np.argsort(importances)[::-1]\n",
    "    std = np.std([tree.feature_importances_ for tree in rf.estimators_],axis=0)\n",
    "\n",
    "    feature_indices[:,j]=indices\n",
    "    feature_importances[:,j]=importances\n",
    "#    feature_std [:,j]=std\n",
    "\n",
    "    j=j+1\n",
    "\n",
    "R2_Adj=1-R2\n",
    "score_coefficient=n_feature*(R2_Adj - np.max(R2_Adj))/-np.ptp(R2_Adj)\n",
    "\n",
    "    \n",
    "for i in range(n_feature):\n",
    "    feature_score[i]=0\n",
    "    feature_indices_score[i]=0\n",
    "    feature_importances_score[i]=0\n",
    "    \n",
    "    for j in range(number_of_split):\n",
    "        \n",
    "        indice_coeff=feature_indices[i,j]+1\n",
    "        importances_coeff=int((feature_importances[i,j]*10000))/10000\n",
    "        score_coeff=int((score_coefficient[j]+1)*10)/10\n",
    "\n",
    "        feature_indices_score[i]=feature_indices_score[i]+(indice_coeff)\n",
    "        feature_importances_score[i]=feature_importances_score[i]+(importances_coeff)\n",
    "\n",
    "        \n",
    "\n",
    "        score=score_coeff*(importances_coeff)\n",
    "        feature_score[i]=feature_score[i]+score\n",
    "\n",
    "\n",
    "    print( feature_score[i],'number_of_split',j+1) #,X_Column_Names[feature_indices[i,j]])\n",
    "    \n",
    "scored_feature_indices = np.argsort(feature_score)\n",
    " \n",
    "    \n",
    "# Plot the feature importances of the forest\n",
    "plt.gcf().clear()\n",
    "plt.figure()\n",
    "plt.title(\"{} and -{} Month Cumulative Feature and Score Importances with {} Different Splits\".format(Product,MonthSeries,number_of_split))\n",
    "\n",
    "plt.bar(range(n_feature), feature_score[scored_feature_indices][::-1],\n",
    "       color=\"r\",  align=\"center\")\n",
    "plt.xticks(range(n_feature), scored_feature_indices[::-1],rotation=90)\n",
    "plt.xlim([-1, n_feature])\n",
    "\n",
    "fig_size = plt.rcParams[\"figure.figsize\"]\n",
    "fig_size[0] = 20\n",
    "fig_size[1] = 12\n",
    "plt.rcParams[\"figure.figsize\"] = fig_size\n",
    "plt.savefig(\"Plots_Feature_Selection/Model 3 -{} and -{} Month Cumulative Feature and Score Importances with {} Different Splits.png\".format(Product,MonthSeries,number_of_split), format='png', dpi=300)\n",
    "\n",
    "plt.show()"
   ]
  },
  {
   "cell_type": "code",
   "execution_count": 24,
   "metadata": {},
   "outputs": [
    {
     "data": {
      "text/plain": [
       "['TUR_GBR_841810-2',\n",
       " 'TUR_World_841810-2',\n",
       " 'TUR_FRA_841810-2',\n",
       " 'TUR_USA_841810-2',\n",
       " 'TUR_ITA_841810-2',\n",
       " 'TUR_DEU_841810-2',\n",
       " 'CHN_GBR_841810-2',\n",
       " 'POL_GBR_841810-2',\n",
       " 'KOR_GBR_841810-2',\n",
       " 'ITA_GBR_841810-2',\n",
       " 'TUR_GBR_841810_UV-2',\n",
       " 'EPU_GBR-2',\n",
       " 'EPU_World-2',\n",
       " 'BCI_TUR-2',\n",
       " 'CCI_TUR-2',\n",
       " 'CLI_TUR-2',\n",
       " 'GDP_TUR-2',\n",
       " 'BCI_GBR-2',\n",
       " 'CCI_GBR-2',\n",
       " 'CLI_GBR-2',\n",
       " 'GDP_GBR-2',\n",
       " 'CPI_TUR-2',\n",
       " 'CPI_GBR-2',\n",
       " 'TRY-2',\n",
       " 'GBP-2',\n",
       " 'World-2']"
      ]
     },
     "execution_count": 24,
     "metadata": {},
     "output_type": "execute_result"
    }
   ],
   "source": [
    "X_Column_Names"
   ]
  },
  {
   "cell_type": "code",
   "execution_count": 29,
   "metadata": {
    "scrolled": false
   },
   "outputs": [
    {
     "name": "stdout",
     "output_type": "stream",
     "text": [
      "Features scores:\n",
      "1. feature TUR_FRA_841810-2 2 (0.333677) 0.317331\n",
      "2. feature CPI_GBR-2 22 (0.157569) 0.262587\n",
      "3. feature TUR_GBR_841810-2 0 (0.154910) 0.263022\n",
      "4. feature CPI_TUR-2 21 (0.082431) 0.216095\n",
      "5. feature TUR_DEU_841810-2 5 (0.058915) 0.066491\n",
      "6. feature POL_GBR_841810-2 7 (0.020705) 0.021214\n",
      "7. feature TUR_World_841810-2 1 (0.018617) 0.017710\n",
      "8. feature EPU_World-2 12 (0.018147) 0.031777\n",
      "9. feature GDP_TUR-2 16 (0.015756) 0.029313\n",
      "10. feature GBP-2 24 (0.015364) 0.042892\n",
      "11. feature TUR_ITA_841810-2 4 (0.013428) 0.017990\n",
      "12. feature EPU_GBR-2 11 (0.013296) 0.027171\n",
      "13. feature KOR_GBR_841810-2 8 (0.012055) 0.019037\n",
      "14. feature CCI_TUR-2 14 (0.011189) 0.012899\n",
      "15. feature ITA_GBR_841810-2 9 (0.010966) 0.014796\n",
      "16. feature BCI_GBR-2 17 (0.009564) 0.008831\n",
      "17. feature CLI_GBR-2 19 (0.009534) 0.013073\n",
      "18. feature CCI_GBR-2 18 (0.008815) 0.011379\n",
      "19. feature TUR_USA_841810-2 3 (0.007589) 0.004972\n",
      "20. feature World-2 25 (0.006693) 0.009725\n",
      "21. feature CHN_GBR_841810-2 6 (0.006356) 0.007850\n",
      "22. feature GDP_GBR-2 20 (0.005933) 0.006567\n",
      "23. feature CLI_TUR-2 15 (0.004127) 0.005158\n",
      "24. feature TRY-2 23 (0.002613) 0.005233\n",
      "25. feature BCI_TUR-2 13 (0.000924) 0.001752\n",
      "26. feature TUR_GBR_841810_UV-2 10 (0.000826) 0.001175\n"
     ]
    },
    {
     "data": {
      "text/plain": [
       "<matplotlib.figure.Figure at 0x26ba23257f0>"
      ]
     },
     "metadata": {},
     "output_type": "display_data"
    },
    {
     "data": {
      "image/png": "[encoded data removed]",
      "text/plain": [
       "<matplotlib.figure.Figure at 0x26b9f0e2198>"
      ]
     },
     "metadata": {},
     "output_type": "display_data"
    }
   ],
   "source": [
    "# 4 Nolu Blok Train Test Split olan\n",
    "# Internetten bulunan kod blogu\n",
    "# http://blog.datadive.net/selecting-good-features-part-iii-random-forests/\n",
    "\n",
    "from sklearn.cross_validation import ShuffleSplit\n",
    "from sklearn.metrics import r2_score\n",
    "from collections import defaultdict\n",
    "from operator import itemgetter, attrgetter\n",
    "\n",
    "def getKey(item):\n",
    "    return item[0]\n",
    "\n",
    "rf = RandomForestRegressor()\n",
    "\n",
    "\n",
    "number_of_split=100\n",
    "number_of_row=27\n",
    "n_feature = n_feature\n",
    "\n",
    "\n",
    "random_state_options = np.arange(0,number_of_split)\n",
    "predictions= np.ones((number_of_row, number_of_split))\n",
    "feature_indices = np.ones((n_feature, number_of_split))\n",
    "feature_importances=np.ones((n_feature, number_of_split))\n",
    "feature_indices_score=np.ones((n_feature))\n",
    "feature_importances_score=np.ones((n_feature))\n",
    "\n",
    "scores = defaultdict(list)\n",
    "#feature_indices = \n",
    "feature_std = np.ones((n_feature, number_of_split))\n",
    "feature_score=np.zeros((n_feature))\n",
    "\n",
    "#R2=defaultdict(list)\n",
    "R2=np.ones(number_of_split)\n",
    "j=0\n",
    "\n",
    "sonuc =[]\n",
    "\n",
    "\n",
    "for random_state_i in random_state_options:\n",
    "\n",
    "    X_train, X_test, Y_train, Y_test = train_test_split(X,y,test_size=0.2,random_state=random_state_i,stratify=Z['Month'])\n",
    "\n",
    "    RandomForestRegressor.fit(rf,X_train, Y_train)    \n",
    "\n",
    "    y_predict[:,j] = rf.predict(X_test)\n",
    "    acc = int(1000*(r2_score(Y_test, rf.predict(X_test))))/1000\n",
    "    R2[j] = int(1000*(r2_score(Y_test, rf.predict(X_test))))/1000\n",
    "        \n",
    "    importances = rf.feature_importances_\n",
    "    indices = np.argsort(importances)[::-1]\n",
    "    std = np.std([tree.feature_importances_ for tree in rf.estimators_],axis=0)\n",
    "\n",
    "\n",
    "    feature_importances[:,j]=importances\n",
    "    feature_indices[:,j]=indices\n",
    "    feature_std [:,j]=std\n",
    "\n",
    "    j=j+1\n",
    "\n",
    "R2_Adj=1-R2\n",
    "score_coefficient=n_feature*(R2_Adj - np.max(R2_Adj))/-np.ptp(R2_Adj)\n",
    "\n",
    "    \n",
    "print (\"Features scores:\")    \n",
    "for i in range(n_feature):\n",
    "    feature_score[i]=0\n",
    "    feature_indices_score[i]=0\n",
    "    feature_importances_score[i]=0\n",
    "    \n",
    "    for j in range(number_of_split):\n",
    "        \n",
    "        indice_coeff=feature_indices[i,j]+1\n",
    "        importances_coeff=int((feature_importances[i,j]*10000))/10000\n",
    "        score_coeff=int((score_coefficient[j]+1)*10)/10\n",
    "\n",
    "        feature_indices_score[i]=feature_indices_score[i]+(indice_coeff)\n",
    "        feature_importances_score[i]=feature_importances_score[i]+(importances_coeff)\n",
    "\n",
    "        score=score_coeff*(importances_coeff)\n",
    "        feature_score[i]=feature_score[i]+score\n",
    "\n",
    "\n",
    "#    print( feature_score[i],'number_of_split',j+1) #,X_Column_Names[feature_indices[i,j]])\n",
    "    \n",
    "scored_feature_indices = (np.argsort(feature_score))\n",
    "\n",
    "for f in range(n_feature):\n",
    "    print(\"%d. feature %s %d (%f) %f\" % (f+1, X_Column_Names[indices[f]], indices[f], importances[indices[f]],std[indices[f]]))\n",
    "\n",
    "\n",
    "# Plot the feature importances of the forest\n",
    "plt.gcf().clear()\n",
    "plt.figure()\n",
    "plt.title(\"{} and {} Month Cumulative Feature and Score Importances with {} Different Splits\".format(Product,MonthSeries,number_of_split))\n",
    "plt.bar(range(n_feature), feature_score[scored_feature_indices][::-1],\n",
    "       color=\"r\",  align=\"center\")\n",
    "plt.xticks(range(n_feature), scored_feature_indices[::-1],rotation=90)\n",
    "plt.xlim([-1, n_feature])\n",
    "\n",
    "fig_size = plt.rcParams[\"figure.figsize\"]\n",
    "fig_size[0] = 20\n",
    "fig_size[1] = 12\n",
    "plt.rcParams[\"figure.figsize\"] = fig_size\n",
    "plt.savefig(\"Plots_Feature_Selection/{} and {} Month Cumulative Feature and Score Importances with {} Different Splits.png\".format(Product,MonthSeries,number_of_split), format='png', dpi=300)\n",
    "\n",
    "plt.show()\n",
    "\n",
    "\n",
    "        "
   ]
  },
  {
   "cell_type": "code",
   "execution_count": null,
   "metadata": {
    "collapsed": true
   },
   "outputs": [],
   "source": [
    "# RAndom Forest denemeleri için kullanılan metod\n",
    "\n",
    "def randomforest(X_train, X_test, y_train, y_test,scaler_y,est,min_leaf,random,feat,max_leaf,min_weight,min_impurity):\n",
    "    from sklearn.model_selection import cross_val_score   \n",
    "    from sklearn.model_selection import cross_val_predict\n",
    "    \n",
    "    rfc=RandomForestRegressor(n_estimators=est,\n",
    "                              min_samples_leaf=min_leaf,\n",
    "                              random_state =random,\n",
    "                              max_features=feat,\n",
    "                              max_leaf_nodes=max_leaf,\n",
    "                              min_weight_fraction_leaf =min_weight,\n",
    "                              min_impurity_decrease=min_impurity\n",
    "                             )\n",
    "   \n",
    "    RandomForestRegressor.fit(rfc,X_train,y_train)\n",
    "\n",
    "    y_predict_test = rfc.predict(X_test)\n",
    "    \n",
    "    result=inverse_scale_and_graph_Y_predict_and_test(y_predict_test,y_test,scaler_y,'NO')\n",
    "    \n",
    "    return result\n",
    "\n"
   ]
  },
  {
   "cell_type": "code",
   "execution_count": null,
   "metadata": {
    "collapsed": true
   },
   "outputs": [],
   "source": [
    "randomforest(X_train, X_test, y_train, y_test,scaler_y,200,5,10,20,5,0.1,0.01)"
   ]
  },
  {
   "cell_type": "code",
   "execution_count": null,
   "metadata": {
    "collapsed": true
   },
   "outputs": [],
   "source": [
    "def calıstır_randomforest(X_train, X_test, y_train, y_test,scaler_y,Product,MonthSeries,Scaler_Type):\n",
    "#ver2    estimator_options = [200, 300, 350, 400,1000]\n",
    "#ver2    sample_leaf_options = [1,5,10,30,50]\n",
    "    #sample_leaf_options = [1,5,10,20]\n",
    "    #random_state_options =[1,10,50,75,200]\n",
    "#ver2    random_state_options =[10]\n",
    "    #max_features_option=[3,5,10,20]\n",
    "    #max_features_option=[10,20,40,54]\n",
    "#ver2    max_features_option=[10,\"log2\",\"sqrt\",\"auto\"]\n",
    "    \n",
    "    estimation_method='random forest'\n",
    "#ver3    estimator_options = [200, 300]\n",
    "#ver3    min_sample_leaf_options = [5,10]\n",
    "#ver3     random_state_options =[10]\n",
    "#ver3     max_features_option=[10,\"log2\",\"sqrt\",\"auto\"]\n",
    "#ver3    max_leaf_nodes_options=[5] \n",
    "#ver3    min_weight_fraction_leaf_options=[0.01,0.1,0.5] \n",
    "#ver3    min_impurity_decrease_options =[0.00001,0.01,0.05,1]\n",
    "\n",
    "    estimator_options = [200]\n",
    "    min_sample_leaf_options = [5]\n",
    "    random_state_options =[10]\n",
    "    max_features_option=[10]#,\"log2\",\"sqrt\",\"auto\"]\n",
    "    max_leaf_nodes_options=[5] \n",
    "    min_weight_fraction_leaf_options=[0.01] \n",
    "    min_impurity_decrease_options =[0.00001,0.01,0.05,1]\n",
    "\n",
    "\n",
    "    \n",
    "#    estimator_options = [200, 300, 350, 400,1000]\n",
    "#    min_sample_leaf_options = [1,5,10,30,50]\n",
    "#    random_state_options =[10,35,86]\n",
    "#    max_features_option=[10,\"log2\",\"sqrt\",\"auto\"]\n",
    "#    max_leaf_nodes_options=[5,10,35] \n",
    "#    min_weight_fraction_leaf_options=[0.01,0.1,0.5] \n",
    "#    min_impurity_decrease_options =[0.00001,0.01,0.05,1]    \n",
    "    \n",
    "    sonuc = pd.DataFrame(columns='EstMethod Product Scaler MonthSeries EST LEAF FEAT MAX_LEAF MIN_WEIGHT MIN_IMPURITY MAE MSE R2'.split())\n",
    "    i=0\n",
    "    results = pd.DataFrame()\n",
    "    repeats=3\n",
    "    error_r2 = list()\n",
    "    for est in estimator_options:\n",
    "\n",
    "        for min_leaf in min_sample_leaf_options:\n",
    "        \n",
    "            for f in range(0, 1):\n",
    "        \n",
    "                feat=max_features_option[f]\n",
    "       \n",
    "                for random in random_state_options:\n",
    "                    \n",
    "                    for max_leaf in max_leaf_nodes_options:\n",
    "                        \n",
    "                         for min_weight in min_weight_fraction_leaf_options:\n",
    "                                \n",
    "                            for min_impurity in min_impurity_decrease_options:\n",
    "                                \n",
    "                              #  for r in range(repeats):\n",
    "                            \n",
    "                            \n",
    "                                    estimate_metric=randomforest(X_train, X_test, y_train, y_test,scaler_y,est,min_leaf,random,feat,\n",
    "                                                                 max_leaf,min_weight,min_impurity)\n",
    "                                    MAE=estimate_metric[0]\n",
    "                                    MSE=estimate_metric[1]\n",
    "                                    R2=estimate_metric[2]\n",
    "                                    print(MonthSeries,'esti',est,'leaf',min_leaf,'feature',feat,max_leaf,min_weight,min_impurity,MAE,MSE,R2)\n",
    "                                    sonuc.loc[i]=[estimation_method,Product,Scaler_Type,MonthSeries,est,min_leaf,feat,max_leaf,min_weight,min_impurity,MAE,MSE,R2]\n",
    "                                    i=i+1\n",
    "                                    error_r2.append(R2)\n",
    "                                    print(error_r2)\n",
    "                                    \n",
    "                              #  results[str(min_impurity)]=error_r2\n",
    "                              #  print(results)    \n",
    "    return sonuc     "
   ]
  },
  {
   "cell_type": "code",
   "execution_count": null,
   "metadata": {
    "collapsed": true
   },
   "outputs": [],
   "source": [
    "#Feature Reduction percentile oranına göre oluyor\n",
    "percentile=25\n",
    "threshold_for_feature_selection=np.percentile(feature_score[scored_feature_indices], percentile)\n",
    "sonuc=pd.DataFrame()\n",
    "for ScalerType in Scaler_Type_Options:\n",
    "\n",
    "    Data_Core=readexcel(Product)\n",
    "    XY=set_Data(Product,Data_Core,MonthSeries)\n",
    "    y=set_y(Product,XY)\n",
    "    Z=set_z(Product,XY)\n",
    "    X=set_X(Product,XY)\n",
    "\n",
    "    \n",
    "    X= Xscaler(X,y,ScalerType)\n",
    "    scaler= MinMaxScaler(feature_range=(0, 1))\n",
    "    \n",
    "       \n",
    "    #Feature Reduction percentile oranına göre oluyor\n",
    "    X=X.loc[:,scored_feature_indices[feature_score[scored_feature_indices]>threshold_for_feature_selection]]\n",
    "\n",
    "    X_train, X_test, y_train, y_test = train_test_split(X,y,test_size=0.2,random_state=42)\n",
    "\n",
    "\n",
    "#    sonuc=pd.concat([sonuc,calıstır_randomforest(Product,MonthSeries,ScalerType)])\n",
    "#    sonuc=calıstır_randomforest(Product,MonthSeries,ScalerType)\n",
    "\n",
    "    for MonthSerie in MonthSeries_option:\n",
    "        XY=set_Data(Product,Data_Core,MonthSeries)\n",
    "        y=set_y(Product,XY)\n",
    "        Z=set_z(Product,XY)\n",
    "        X=set_X(Product,XY)\n",
    "\n",
    "        values = y.values\n",
    "        values = values.astype('float32')\n",
    "        scaler_y= MinMaxScaler(feature_range=(0, 1))\n",
    "\n",
    "        scaled_value_y = scaler_y.fit_transform(values)\n",
    "        scaled_value_y = pd.DataFrame(data=scaled_value_y)\n",
    "        \n",
    "        \n",
    "        X= Xscaler(X,y,ScalerType)\n",
    "    \n",
    "        X=X.loc[:,scored_feature_indices[feature_score[scored_feature_indices]>threshold_for_feature_selection]]\n",
    "\n",
    "    \n",
    "#        X_train, X_test, y_train, y_test = train_test_split(X,y,test_size=0.2,random_state=42)\n",
    "        X_train, X_test, y_train, y_test = train_test_split(X,scaled_value_y,test_size=0.2,random_state=42,stratify=Z['Month'])\n",
    "\n",
    "          sonuc=pd.concat([sonuc,calıstır_randomforest(X_train, X_test, y_train, y_test,scaler_y,Product,MonthSerie,ScalerType)])\n",
    "\n",
    "max_R2=int((sonuc['R2'].max())*1000)/1000\n",
    "filename='Out_Random_Predict_Results_{one}_Product{two}_{four}perc_with max{tre}'.format(one=datetime.now().strftime('Date_%m-%d_Time%H_%M'),\n",
    "                                                                                      two=Product,tre=max_R2,four=percentile)\n",
    "sonuc.to_excel('{}.xlsx'.format(filename),index = False)      \n"
   ]
  },
  {
   "cell_type": "code",
   "execution_count": null,
   "metadata": {
    "collapsed": true
   },
   "outputs": [],
   "source": [
    "Data_Core=readexcel(Product)\n",
    "XY=set_Data(Product,Data_Core,MonthSeries)\n",
    "y=set_y(Product,XY)\n",
    "Z=set_z(Product,XY)\n",
    "X=set_X(Product,XY)\n",
    "\n",
    "values = X.values\n",
    "values = values.astype('float32')\n",
    "scaler_X= MinMaxScaler(feature_range=(0, 1))\n",
    "\n",
    "scaled_value_X = scaler_X.fit_transform(values)\n",
    "scaled_value_X = pd.DataFrame(data=scaled_value_X[:,:])\n",
    "\n",
    "values = y.values\n",
    "values = values.astype('float32')\n",
    "scaler_y= MinMaxScaler(feature_range=(0, 1))\n",
    "\n",
    "scaled_value_y = scaler_y.fit_transform(values)\n",
    "scaled_value_y = pd.DataFrame(data=scaled_value_y)\n",
    "\n",
    "X_train, X_test, y_train, y_test = train_test_split(scaled_value_X,scaled_value_y,test_size=0.2,random_state=42,stratify=Z['Month'])\n",
    "\n",
    "\n",
    "#rfc=RandomForestRegressor()\n",
    "#RandomForestRegressor.fit(rfc,X,y)\n",
    "\n",
    "est = 200\n",
    "min_leaf = 5\n",
    "random =10\n",
    "feat=\"log2\"\n",
    "max_leaf=5 \n",
    "min_weight=0.01 \n",
    "min_impurity=0.00001\n",
    "\n",
    "\n",
    "rfc=RandomForestRegressor(n_estimators=est,\n",
    "                              min_samples_leaf=min_leaf,\n",
    "                              random_state =random,\n",
    "                              max_features=feat,\n",
    "                              max_leaf_nodes=max_leaf,\n",
    "                              min_weight_fraction_leaf =min_weight,\n",
    "                              min_impurity_split=min_impurity\n",
    "                             )\n",
    "\n",
    "#rfc=RandomForestRegressor()\n",
    "\n",
    "RandomForestRegressor.fit(rfc,X_train,y_train)\n",
    "\n",
    "y_predict_test = rfc.predict(X_test)\n",
    "inv_y_predict_test = scaler_y.inverse_transform(y_predict_test)\n",
    "predictions=inv_y_predict_test\n",
    "\n",
    "inv_y_test = scaler_y.inverse_transform(y_test)\n",
    "inv_y_test = inv_y_test[:,0]\n",
    "\n",
    "\n",
    "print('MAE',int(metrics.mean_absolute_error(inv_y_test, predictions)),\n",
    "      'MSE',int(sqrt(metrics.mean_squared_error(inv_y_test, predictions))),\n",
    "      'R2',int(1000*(metrics.r2_score(inv_y_test, predictions)))/1000\n",
    "     )\n",
    "plt.scatter(inv_y_test,predictions)\n"
   ]
  },
  {
   "cell_type": "code",
   "execution_count": null,
   "metadata": {
    "collapsed": true
   },
   "outputs": [],
   "source": [
    "type(sonuc)"
   ]
  },
  {
   "cell_type": "code",
   "execution_count": null,
   "metadata": {
    "collapsed": true
   },
   "outputs": [],
   "source": [
    "XY=set_Data(Product,Data_Core,MonthSeries)\n",
    "y=set_y(Product,XY)\n",
    "Z=set_z(Product,XY)\n",
    "X=set_X(Product,XY)"
   ]
  },
  {
   "cell_type": "code",
   "execution_count": null,
   "metadata": {
    "collapsed": true
   },
   "outputs": [],
   "source": [
    "X= Xscaler(X,y,ScalerType)"
   ]
  },
  {
   "cell_type": "code",
   "execution_count": null,
   "metadata": {
    "collapsed": true
   },
   "outputs": [],
   "source": [
    "from sklearn.neural_network import MLPRegressor"
   ]
  },
  {
   "cell_type": "code",
   "execution_count": null,
   "metadata": {
    "collapsed": true
   },
   "outputs": [],
   "source": [
    "def nn (alph,max_iteration,slv,random,hidden_layer):\n",
    "    MLP = MLPRegressor(\n",
    "                              alpha = alph,\n",
    "                              solver=slv ,\n",
    "                              max_iter=max_iteration,\n",
    "                              random_state =random,\n",
    "                              hidden_layer_sizes=hidden_layer\n",
    "    )\n",
    "    MLPRegressor.fit(MLP,X_train,y_train)\n",
    "    \n",
    "    predictions = MLP.predict(X_test)\n",
    "    MAE=int(metrics.mean_absolute_error(y_test, predictions))\n",
    "    MSE=int(sqrt(metrics.mean_squared_error(y_test, predictions)))\n",
    "    R2=int(1000*(metrics.r2_score(y_test, predictions)))/1000\n",
    "    return MAE,MSE,R2 \n"
   ]
  },
  {
   "cell_type": "code",
   "execution_count": null,
   "metadata": {
    "collapsed": true
   },
   "outputs": [],
   "source": [
    " def calıstır_nn(Product,MonthSeries,Scaler_Type):\n",
    "    estimation_method='nn'\n",
    "    alpha_options = [0.0001,0.00000001]\n",
    "    solver_options = ['lbfgs', 'adam' ] # sgd solver cok sapıttı\n",
    "    max_iteration_options = [50000]#,60000,100000]\n",
    "    #random_state_options =[1,10,50,75,200]\n",
    "    #random_state_options =[10,50,90]\n",
    "    random_state_options =[90]\n",
    "    hidden_layer_sizes_options=[(30,100,10)]#,(30,30),(100,100),(30,30,30)]\n",
    "\n",
    "    sonuc = pd.DataFrame(columns='EstMethod Product Scaler MonthSeries alpha max_iteration slv hidden_layer random MAE MSE R2'.split())\n",
    "    i=0\n",
    "\n",
    "    for alpha in alpha_options:\n",
    "    \n",
    "        for max_iteration in max_iteration_options:\n",
    "\n",
    "            for slv in solver_options:\n",
    "        \n",
    "                for hidden_layer in hidden_layer_sizes_options:\n",
    "           \n",
    "                    for random in random_state_options:\n",
    "                \n",
    "                        estimate_metric=nn(alpha,max_iteration,slv,random,hidden_layer)\n",
    "                    \n",
    "                        MAE=estimate_metric[0]\n",
    "                        MSE=estimate_metric[1]\n",
    "                        R2=estimate_metric[2]\n",
    "                        print('iter:',max_iteration,'slvr:',slv,'random:',random,'layers:',hidden_layer,\n",
    "                          MAE,MSE,R2)\n",
    "                        sonuc.loc[i]=[estimation_method,Product,Scaler_Type,MonthSeries,alpha,max_iteration,slv,hidden_layer,random,MAE,MSE,R2]\n",
    "                        i=i+1\n",
    "    return sonuc "
   ]
  },
  {
   "cell_type": "code",
   "execution_count": null,
   "metadata": {
    "collapsed": true,
    "scrolled": true
   },
   "outputs": [],
   "source": [
    "Data_Core=readexcel(Product)\n",
    "XY=set_Data(Product,Data_Core,MonthSeries)\n",
    "y=set_y(Product,XY)\n",
    "Z=set_z(Product,XY)\n",
    "X=set_X(Product,XY)\n",
    "\n",
    "values = X.values\n",
    "values = values.astype('float32')\n",
    "scaler_X= MinMaxScaler(feature_range=(0, 1))\n",
    "\n",
    "scaled_value_X = scaler_X.fit_transform(values)\n",
    "scaled_value_X = pd.DataFrame(data=scaled_value_X[:,:])\n",
    "\n",
    "values = y.values\n",
    "values = values.astype('float32')\n",
    "scaler_y= MinMaxScaler(feature_range=(0, 1))\n",
    "\n",
    "scaled_value_y = scaler_y.fit_transform(values)\n",
    "scaled_value_y = pd.DataFrame(data=scaled_value_y)\n",
    "\n",
    "X_train, X_test, y_train, y_test = train_test_split(scaled_value_X,scaled_value_y,test_size=0.2,random_state=42,stratify=Z['Month'])\n",
    "\n",
    "\n",
    "#Data_Core=readexcel(Product)\n",
    "#y=set_y(Product,Data_Core)\n",
    "#X=set_Data(Product,Data_Core,MonthSeries)\n",
    "\n",
    "#X=pd.DataFrame(StandardScaler().fit_transform(X,y))\n",
    "#X= Xscaler(X,y,ScalerType)\n",
    "\n",
    "#X_train, X_test, y_train, y_test = train_test_split(X,y,test_size=0.2,random_state=42)\n",
    "\n",
    "sonuc=calıstır_nn(Product,MonthSeries,ScalerType)\n",
    "filename='Out_NN_Prediction_Results_{one}_Product{two}'.format(one=datetime.now().strftime('Date_%m-%d_Time%H_%M'),two=Product)\n",
    "\n",
    "\"\"\"for MonthSerie in MonthSeries_option:\n",
    "        XY=set_Data(Product,Data_Core,MonthSeries)\n",
    "        y=set_y(Product,XY)\n",
    "        Z=set_z(Product,XY)\n",
    "        X=set_X(Product,XY)\n",
    "\n",
    "        values = X.values\n",
    "        values = values.astype('float32')\n",
    "        scaler_X= MinMaxScaler(feature_range=(0, 1))\n",
    "\n",
    "        scaled_value_X = scaler_X.fit_transform(values)\n",
    "        scaled_value_X = pd.DataFrame(data=scaled_value_X[:,:])\n",
    "\n",
    "        values = y.values\n",
    "        values = values.astype('float32')\n",
    "        scaler_y= MinMaxScaler(feature_range=(0, 1))\n",
    "\n",
    "        scaled_value_y = scaler_y.fit_transform(values)\n",
    "        scaled_value_y = pd.DataFrame(data=scaled_value_y)\n",
    "    \n",
    "        X_train, X_test, y_train, y_test = train_test_split(scaled_value_X,scaled_value_y,test_size=0.2,random_state=42,stratify=Z['Month'])\n",
    "\n",
    "    \n",
    "        sonuc=pd.concat([sonuc,calıstır_nn(Product,MonthSerie,ScalerType)])\n",
    "\"\"\"\n",
    "sonuc.to_excel('{}.xlsx'.format(filename),index = False)"
   ]
  },
  {
   "cell_type": "code",
   "execution_count": null,
   "metadata": {
    "collapsed": true
   },
   "outputs": [],
   "source": [
    "# Diğer Deneme Calısmaları\n",
    "from scipy.stats import randint as sp_randint\n",
    "from sklearn import svm, datasets\n",
    "from sklearn.model_selection import GridSearchCV\n",
    "from sklearn.model_selection import RandomizedSearchCV"
   ]
  },
  {
   "cell_type": "code",
   "execution_count": null,
   "metadata": {
    "collapsed": true
   },
   "outputs": [],
   "source": [
    "# RandomizedSearch ve Grid Search"
   ]
  },
  {
   "cell_type": "raw",
   "metadata": {},
   "source": [
    "clf = RandomForestRegressor()\n",
    "clf = RandomForestClassifier(n_estimators=20)\n",
    "rfc=RandomForestRegressor()\n",
    "# Utility function to report best scores\n",
    "def report(results, n_top=3):\n",
    "    for i in range(1, n_top + 1):\n",
    "        candidates = np.flatnonzero(results['rank_test_score'] == i)\n",
    "        for candidate in candidates:\n",
    "            print(\"Model with rank: {0}\".format(i))\n",
    "            print(\"Mean validation score: {0:.3f} (std: {1:.3f})\".format(\n",
    "                  results['mean_test_score'][candidate],\n",
    "                  results['std_test_score'][candidate]))\n",
    "            print(\"Parameters: {0}\".format(results['params'][candidate]))\n",
    "            print(\"\")"
   ]
  },
  {
   "cell_type": "code",
   "execution_count": null,
   "metadata": {
    "collapsed": true
   },
   "outputs": [],
   "source": [
    "   \n",
    "# specify parameters and distributions to sample from\n",
    "param_dist = {\"max_depth\": [3, None],\n",
    "              \"max_features\": [\"auto\", \"sqrt\",\"log2\",None],\n",
    "              \"min_samples_split\": sp_randint(2,11),\n",
    "#              \"min_weight_fraction_leaf\": sp_randint(0., 0.5),\n",
    "              \"min_samples_leaf\": sp_randint(1, 11),\n",
    "              \"bootstrap\": [True, False],\n",
    "#              \"warm_start\": [True, False],\n",
    "#              \"random_state\": sp_randint(2, 20)\n",
    "             }"
   ]
  },
  {
   "cell_type": "code",
   "execution_count": null,
   "metadata": {
    "collapsed": true
   },
   "outputs": [],
   "source": [
    "# run randomized search\n",
    "n_iter_search = 50\n",
    "random_search = RandomizedSearchCV(clf, param_distributions=param_dist,\n",
    "                                   n_iter=n_iter_search)\n",
    "start = time()\n",
    "random_search.fit(X, y)\n",
    "print(\"RandomizedSearchCV took %.2f seconds for %d candidates\"\n",
    "      \" parameter settings.\" % ((time() - start), n_iter_search))\n",
    "report(random_search.cv_results_)"
   ]
  },
  {
   "cell_type": "code",
   "execution_count": null,
   "metadata": {
    "collapsed": true
   },
   "outputs": [],
   "source": [
    "# use a full grid over all parameters\n",
    "param_grid = {\n",
    "\n",
    "#              \"max_depth\": [3, None],\n",
    "#              \"max_features\": [\"auto\", \"sqrt\",\"log2\",None],\n",
    "#              \"min_samples_split\": [2, 3, 10],\n",
    "#              \"min_samples_split\": [2],\n",
    "#              \"min_samples_leaf\": [1, 3, 10, 20],\n",
    "#              \"bootstrap\": [True, False],\n",
    "#              \"criterion\": [\"gini\", \"entropy\"]\n",
    "    \"n_estimators\":[200, 300, 350, 400,1000],\n",
    "    \"min_samples_leaf\" :[1,5,10],\n",
    "    \"random_state\" : [10],\n",
    "    \"max_features\":[1,2]\n",
    "\n",
    "}\n",
    "\n",
    "\n",
    "\n",
    "    \n",
    "#    \"n_estimators\":[200, 300, 350, 400,1000],\n",
    "#    \"min_samples_leaf\" :[1,5,10],\n",
    "#    \"random_state\" : [10],\n",
    "#    \"max_features\":[3,5,10,20],\n",
    "\n",
    "\n",
    "# run grid search\n",
    "grid_search = GridSearchCV(clf, param_grid=param_grid)\n",
    "start = time()\n",
    "grid_search.fit(X, y)\n",
    "\n",
    "print(\"GridSearchCV took %.2f seconds for %d candidate parameter settings.\"\n",
    "      % (time() - start, len(grid_search.cv_results_['params'])))\n",
    "report(grid_search.cv_results_)"
   ]
  },
  {
   "cell_type": "code",
   "execution_count": null,
   "metadata": {
    "collapsed": true
   },
   "outputs": [],
   "source": []
  }
 ],
 "metadata": {
  "kernelspec": {
   "display_name": "Python 3",
   "language": "python",
   "name": "python3"
  },
  "language_info": {
   "codemirror_mode": {
    "name": "ipython",
    "version": 3
   },
   "file_extension": ".py",
   "mimetype": "text/x-python",
   "name": "python",
   "nbconvert_exporter": "python",
   "pygments_lexer": "ipython3",
   "version": "3.6.2"
  }
 },
 "nbformat": 4,
 "nbformat_minor": 2
}
