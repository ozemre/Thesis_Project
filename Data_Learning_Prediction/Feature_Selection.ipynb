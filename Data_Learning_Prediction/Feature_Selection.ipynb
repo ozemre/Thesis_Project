{
 "cells": [
  {
   "cell_type": "code",
   "execution_count": 1,
   "metadata": {
    "collapsed": true
   },
   "outputs": [],
   "source": [
    "from __future__ import absolute_import\n",
    "from __future__ import division\n",
    "from __future__ import print_function\n",
    "\n",
    "import numpy as np\n",
    "import pandas as pd\n",
    "from time import time\n",
    "import matplotlib.pyplot as plt\n",
    "#from sklearn.cross_validation import train_test_split\n",
    "import seaborn as sns\n",
    "%matplotlib inline\n",
    "\n",
    "\n",
    "import sys\n",
    "import warnings\n",
    "\n",
    "if not sys.warnoptions:\n",
    "    warnings.simplefilter(\"ignore\")"
   ]
  },
  {
   "cell_type": "code",
   "execution_count": 2,
   "metadata": {
    "collapsed": true
   },
   "outputs": [],
   "source": [
    "from scipy.stats.stats import pearsonr"
   ]
  },
  {
   "cell_type": "code",
   "execution_count": 3,
   "metadata": {
    "collapsed": true
   },
   "outputs": [],
   "source": [
    "from sklearn.model_selection import train_test_split"
   ]
  },
  {
   "cell_type": "code",
   "execution_count": 4,
   "metadata": {},
   "outputs": [
    {
     "name": "stderr",
     "output_type": "stream",
     "text": [
      "C:\\Users\\murat.ozemre\\AppData\\Local\\Continuum\\Anaconda3\\envs\\Tensor_1\\lib\\site-packages\\sklearn\\ensemble\\weight_boosting.py:29: DeprecationWarning: numpy.core.umath_tests is an internal NumPy module and should not be imported. It will be removed in a future NumPy release.\n",
      "  from numpy.core.umath_tests import inner1d\n"
     ]
    }
   ],
   "source": [
    "import Experiment_Ready as exp\n"
   ]
  },
  {
   "cell_type": "code",
   "execution_count": 5,
   "metadata": {
    "collapsed": true
   },
   "outputs": [],
   "source": [
    "\n",
    "import os\n",
    "import sys\n",
    "os.chdir('C:/Users/murat.ozemre/Desktop/Thesis_Project/Data_Sources_and_Preparation')\n",
    "#os.chdir('C:/Users/murat.ozemre/Documents/MOZEMRE-OZEL/Doktora/2017 Tez/Veri Analizi/Ver 3 Tez Izleme Calısmaları')"
   ]
  },
  {
   "cell_type": "code",
   "execution_count": 6,
   "metadata": {},
   "outputs": [
    {
     "data": {
      "text/plain": [
       "'02-01 14:16'"
      ]
     },
     "execution_count": 6,
     "metadata": {},
     "output_type": "execute_result"
    }
   ],
   "source": [
    "from sklearn import metrics\n",
    "import statsmodels\n",
    "from math import sqrt\n",
    "from math import log\n",
    "from sklearn.ensemble import RandomForestRegressor\n",
    "from datetime import datetime\n",
    "datetime.now().strftime('%m-%d %H:%M')"
   ]
  },
  {
   "cell_type": "code",
   "execution_count": null,
   "metadata": {
    "collapsed": true
   },
   "outputs": [],
   "source": []
  },
  {
   "cell_type": "code",
   "execution_count": null,
   "metadata": {
    "collapsed": true
   },
   "outputs": [],
   "source": []
  },
  {
   "cell_type": "code",
   "execution_count": 7,
   "metadata": {
    "collapsed": true
   },
   "outputs": [],
   "source": [
    "from sklearn.preprocessing import MinMaxScaler\n",
    "from sklearn.preprocessing import minmax_scale\n",
    "from sklearn.preprocessing import MaxAbsScaler\n",
    "from sklearn.preprocessing import StandardScaler\n",
    "from sklearn.preprocessing import RobustScaler\n",
    "from sklearn.preprocessing import Normalizer"
   ]
  },
  {
   "cell_type": "code",
   "execution_count": 8,
   "metadata": {
    "collapsed": true
   },
   "outputs": [],
   "source": [
    "#Scaler_Type_Options = ['Normalizer', 'MinMaxScaler','MaxAbsScaler','RobustScaler','StandardScaler' ]\n",
    "Scaler_Type_Options = [ 'MinMaxScaler' ]\n",
    "Scalertype=Scaler_Type_Options[0]\n",
    "Product_Type_Options = [841810,841840,841850]"
   ]
  },
  {
   "cell_type": "code",
   "execution_count": 9,
   "metadata": {},
   "outputs": [
    {
     "data": {
      "text/plain": [
       "'MinMaxScaler'"
      ]
     },
     "execution_count": 9,
     "metadata": {},
     "output_type": "execute_result"
    }
   ],
   "source": [
    "Scalertype"
   ]
  },
  {
   "cell_type": "code",
   "execution_count": 10,
   "metadata": {
    "collapsed": true
   },
   "outputs": [],
   "source": [
    "Product=Product_Type_Options[0] #841810\n",
    "Exp_Country='CHN' # 'CHN'\n",
    "Imp_Country='GBR'\n",
    "\n",
    "if Exp_Country=='CHN':\n",
    "    Currency='CNY'\n",
    "    EXP0='TUR'   \n",
    "elif Exp_Country=='TUR':\n",
    "    Currency='TRY'\n",
    "    EXP0='CHN'   "
   ]
  },
  {
   "cell_type": "code",
   "execution_count": 11,
   "metadata": {},
   "outputs": [
    {
     "data": {
      "text/plain": [
       "841810"
      ]
     },
     "execution_count": 11,
     "metadata": {},
     "output_type": "execute_result"
    }
   ],
   "source": [
    "Product"
   ]
  },
  {
   "cell_type": "code",
   "execution_count": 12,
   "metadata": {
    "collapsed": true
   },
   "outputs": [],
   "source": [
    "\n",
    "\n",
    "MonthSeries=\"3\"\n",
    "MonthSeries_option=[\"1\",\"2\",\"3\",\"6\",\"12\"]\n",
    "    \n",
    "    "
   ]
  },
  {
   "cell_type": "code",
   "execution_count": 13,
   "metadata": {
    "collapsed": true
   },
   "outputs": [],
   "source": [
    "Data_Core1 = pd.ExcelFile('Data_{}_{}_{}.xlsx'.format(Exp_Country,Imp_Country,Product))\n",
    "y = Data_Core1.parse('Y', header=0,index_col=None, na_values=['NA'])['{}_{}_{}'.format(Exp_Country,Imp_Country,Product)]\n",
    "Z = Data_Core1.parse('Y', header=0,index_col=None, na_values=['NA'])[['Date','Year','Month']]\n",
    "\n",
    "X = Data_Core1.parse('X{}'.format(MonthSeries), header=0,index_col=None, na_values=['NA'])\n",
    "X.drop(['Date','Year','Month'], axis=1, inplace=True)\n",
    "X_Column_Names=list(X.columns.values)\n",
    "n_feature=X.shape[1]\n",
    "\n",
    "Xhat = Data_Core1.parse('Xhat', header=0,index_col=None, na_values=['NA'])\n",
    "Xhat.drop(['Date','Year','Month'], axis=1, inplace=True)\n"
   ]
  },
  {
   "cell_type": "code",
   "execution_count": 14,
   "metadata": {
    "collapsed": true
   },
   "outputs": [],
   "source": [
    "Scaled_Train_Test_Split=exp.X_Y_scaler_train_test_Split(X,y,Z)\n",
    "\n",
    "X_train = Scaled_Train_Test_Split[0]\n",
    "X_test = Scaled_Train_Test_Split[1]\n",
    "y_train = Scaled_Train_Test_Split[2]\n",
    "y_test = Scaled_Train_Test_Split[3]\n",
    "scaler_X = Scaled_Train_Test_Split[4]  \n",
    "scaler_y = Scaled_Train_Test_Split[5]\n",
    "scaled_value_X=Scaled_Train_Test_Split[6]\n",
    "scaled_value_y=Scaled_Train_Test_Split[7]"
   ]
  },
  {
   "cell_type": "code",
   "execution_count": 15,
   "metadata": {
    "scrolled": true
   },
   "outputs": [
    {
     "data": {
      "text/plain": [
       "(2567, 3454, 0.375)"
      ]
     },
     "execution_count": 15,
     "metadata": {},
     "output_type": "execute_result"
    },
    {
     "data": {
      "image/png": "[encoded data removed]",
      "text/plain": [
       "<matplotlib.figure.Figure at 0x18ca399d4e0>"
      ]
     },
     "metadata": {},
     "output_type": "display_data"
    }
   ],
   "source": [
    "from sklearn.tree import DecisionTreeRegressor\n",
    "\n",
    "# Decison tree regressor model\n",
    "dt = DecisionTreeRegressor()\n",
    "\n",
    "# Decison tree regressor model train\n",
    "DecisionTreeRegressor.fit(dt,X_train,y_train)\n",
    "\n",
    "# Decison tree regressor model predict\n",
    "y_predict_test = dt.predict(X_test)\n",
    "\n",
    "# Compare predicted Y and real Y \n",
    "exp.inverse_scale_and_graph_Y_predict_and_test(y_predict_test,y_test,scaler_y,'YES')\n"
   ]
  },
  {
   "cell_type": "code",
   "execution_count": 16,
   "metadata": {},
   "outputs": [
    {
     "data": {
      "text/plain": [
       "(1919, 2545, 0.646)"
      ]
     },
     "execution_count": 16,
     "metadata": {},
     "output_type": "execute_result"
    },
    {
     "data": {
      "image/png": "[encoded data removed]",
      "text/plain": [
       "<matplotlib.figure.Figure at 0x18ca6f32fd0>"
      ]
     },
     "metadata": {},
     "output_type": "display_data"
    }
   ],
   "source": [
    "# Random Foest Regressor model\n",
    "rfc=RandomForestRegressor(n_estimators=3000)\n",
    "\n",
    "# Random Foest Regressor model train\n",
    "RandomForestRegressor.fit(rfc,X_train,y_train)\n",
    "\n",
    "# Random Foest Regressor mode predict\n",
    "y_predict_test = rfc.predict(X_test)\n",
    "\n",
    "# Compare predicted Y and real Y \n",
    "exp.inverse_scale_and_graph_Y_predict_and_test(y_predict_test,y_test,scaler_y,'YES')"
   ]
  },
  {
   "cell_type": "code",
   "execution_count": 17,
   "metadata": {},
   "outputs": [
    {
     "data": {
      "text/plain": [
       "array([0.01943472, 0.06026852, 0.03433019, 0.01923247, 0.0177854 ,\n",
       "       0.02043085, 0.01593426, 0.02791242, 0.01039028, 0.03019204,\n",
       "       0.01265629, 0.02045132, 0.00805582, 0.03503778, 0.0084928 ,\n",
       "       0.03735996, 0.01612452, 0.05370203, 0.01865435, 0.06117783,\n",
       "       0.0133751 , 0.27897317, 0.07926847, 0.00706251, 0.0265486 ,\n",
       "       0.06714829])"
      ]
     },
     "execution_count": 17,
     "metadata": {},
     "output_type": "execute_result"
    }
   ],
   "source": [
    "rfc.feature_importances_"
   ]
  },
  {
   "cell_type": "code",
   "execution_count": 18,
   "metadata": {},
   "outputs": [
    {
     "data": {
      "text/plain": [
       "-3.8835770434595287"
      ]
     },
     "execution_count": 18,
     "metadata": {},
     "output_type": "execute_result"
    }
   ],
   "source": [
    "rfc.score(X,y)"
   ]
  },
  {
   "cell_type": "code",
   "execution_count": 16,
   "metadata": {
    "scrolled": false
   },
   "outputs": [
    {
     "name": "stdout",
     "output_type": "stream",
     "text": [
      "MAE 0 MSE 0 R2 -0.408\n",
      "Feature ranking:\n",
      "1. feature CPI_CHN-3 21 (0.367046) 0.219117\n",
      "2. feature CPI_GBR-3 22 (0.103280) 0.193044\n",
      "3. feature CLI_GBR-3 19 (0.065898) 0.070235\n",
      "4. feature CHN_World_841810-3 1 (0.044571) 0.075229\n",
      "5. feature BCI_GBR-3 17 (0.042049) 0.043403\n",
      "6. feature CLI_CHN-3 15 (0.040883) 0.045357\n",
      "7. feature ITA_GBR_841810-3 9 (0.028529) 0.033943\n",
      "8. feature CHN_AUS_841810-3 5 (0.025249) 0.030335\n",
      "9. feature BCI_CHN-3 13 (0.024590) 0.027722\n",
      "10. feature CCI_GBR-3 18 (0.024351) 0.027731\n",
      "11. feature POL_GBR_841810-3 7 (0.024334) 0.026717\n",
      "12. feature GDP_CHN-3 16 (0.023531) 0.030324\n",
      "13. feature CHN_USA_841810-3 2 (0.020608) 0.051253\n",
      "14. feature World-3 25 (0.019482) 0.077270\n",
      "15. feature GDP_GBR-3 20 (0.018374) 0.026950\n",
      "16. feature CHN_JPN_841810-3 3 (0.014626) 0.021302\n",
      "17. feature CHN_FRA_841810-3 4 (0.014500) 0.023591\n",
      "18. feature GBP-3 24 (0.013338) 0.021371\n",
      "19. feature EPU_CHN-3 10 (0.013167) 0.021586\n",
      "20. feature EPU_GBR-3 11 (0.012578) 0.026070\n",
      "21. feature TUR_GBR_841810-3 6 (0.011903) 0.018204\n",
      "22. feature CHN_GBR_841810-3 0 (0.010749) 0.015578\n",
      "23. feature KOR_GBR_841810-3 8 (0.010429) 0.016999\n",
      "24. feature CCI_CHN-3 14 (0.010191) 0.017842\n",
      "25. feature EPU_World-3 12 (0.008661) 0.012423\n",
      "26. feature CNY-3 23 (0.007084) 0.013046\n"
     ]
    },
    {
     "data": {
      "image/png": "[encoded data removed]",
      "text/plain": [
       "<matplotlib.figure.Figure at 0x20a425edf60>"
      ]
     },
     "metadata": {},
     "output_type": "display_data"
    }
   ],
   "source": [
    "# 1 Version for Feature selection\n",
    "# Internetten bulunan kod blogu\n",
    "# Random Forest'a gore Feature Importance Hesaplama\n",
    "# Butun veri setinin girildiği ona göre önemli olan özelliklerin bulundugu kod parçası\n",
    "\n",
    "ScalerType = Scalertype=Scaler_Type_Options[0]\n",
    "n_sample=len(X)\n",
    "\n",
    "rfc=RandomForestRegressor(n_estimators=3000)\n",
    "RandomForestRegressor.fit(rfc,scaled_value_X,scaled_value_y)\n",
    "\n",
    "\n",
    "predictions = rfc.predict(X_test)\n",
    "print('MAE',int(metrics.mean_absolute_error(y_test, predictions)),\n",
    "      'MSE',int(sqrt(metrics.mean_squared_error(y_test, predictions))),\n",
    "      'R2',int(1000*(metrics.r2_score(y_test, predictions)))/1000\n",
    "     )\n",
    "\n",
    "\n",
    "importances = rfc.feature_importances_\n",
    "std = np.std([tree.feature_importances_ for tree in rfc.estimators_],axis=0)\n",
    "\n",
    "indices = np.argsort(importances)[::-1]\n",
    "\n",
    "\n",
    "# Print the feature ranking\n",
    "print(\"Feature ranking:\")\n",
    "\n",
    "for f in range(n_feature):\n",
    "    print(\"%d. feature %s %d (%f) %f\" % (f+1, X_Column_Names[indices[f]], indices[f], importances[indices[f]],std[indices[f]]))\n",
    "\n",
    "# Plot the feature importances of the forest\n",
    "plt.figure()\n",
    "plt.title(\"{} and -{} Month Feature Importances and Standart Deviation of Features with 3000 Different Estimations\".format(Product,MonthSeries))\n",
    "plt.bar(range(n_feature), importances[indices],\n",
    "       color=\"r\", yerr=std[indices], align=\"center\")\n",
    "plt.xticks(range(n_feature), indices,rotation=90)\n",
    "plt.xlim([-1, n_feature])\n",
    "\n",
    "fig_size = plt.rcParams[\"figure.figsize\"]\n",
    "fig_size[0] = 15\n",
    "fig_size[1] = 10\n",
    "plt.rcParams[\"figure.figsize\"] = fig_size\n",
    "plt.savefig(\"Plots_Feature_Selection/{} and -{} Month Feature Importances and Standart Deviation of Features with 3000 Different Estimations.png\".format(Product,MonthSeries), format='png', dpi=300)\n",
    "\n",
    "plt.show()"
   ]
  },
  {
   "cell_type": "code",
   "execution_count": 17,
   "metadata": {
    "scrolled": true
   },
   "outputs": [
    {
     "name": "stdout",
     "output_type": "stream",
     "text": [
      "Features scores:\n",
      "0 CHN_GBR_841810-3\n",
      "1 CHN_World_841810-3\n",
      "2 CHN_USA_841810-3\n",
      "3 CHN_JPN_841810-3\n",
      "4 CHN_FRA_841810-3\n",
      "5 CHN_AUS_841810-3\n",
      "6 TUR_GBR_841810-3\n",
      "7 POL_GBR_841810-3\n",
      "8 KOR_GBR_841810-3\n",
      "9 ITA_GBR_841810-3\n",
      "10 EPU_CHN-3\n",
      "11 EPU_GBR-3\n",
      "12 EPU_World-3\n",
      "13 BCI_CHN-3\n",
      "14 CCI_CHN-3\n",
      "15 CLI_CHN-3\n",
      "16 GDP_CHN-3\n",
      "17 BCI_GBR-3\n",
      "18 CCI_GBR-3\n",
      "19 CLI_GBR-3\n",
      "20 GDP_GBR-3\n",
      "21 CPI_CHN-3\n",
      "22 CPI_GBR-3\n",
      "23 CNY-3\n",
      "24 GBP-3\n",
      "25 World-3\n"
     ]
    },
    {
     "data": {
      "text/plain": [
       "<matplotlib.figure.Figure at 0x20a403411d0>"
      ]
     },
     "metadata": {},
     "output_type": "display_data"
    },
    {
     "data": {
      "image/png": "[encoded data removed]",
      "text/plain": [
       "<matplotlib.figure.Figure at 0x20a3f13bfd0>"
      ]
     },
     "metadata": {},
     "output_type": "display_data"
    }
   ],
   "source": [
    "#  2 Version for Feature selection \n",
    "# Internetten bulunan kod blogu http://scikit-learn.org/stable/auto_examples/ensemble/plot_forest_importances.html\n",
    "# Feature Importance Hesaplama\n",
    "# Burada asıl özellik bir veri seti yaratılıyor make_regression ile. Ve oaradakilere dogru çalışıp çalışmadığı test ediliyor.\n",
    "# Butun veri setinin girildiği ona göre önemli olan özelliklerin bulundugu kod parçası\n",
    "\n",
    "from sklearn.datasets import make_regression\n",
    "\n",
    "\n",
    "n_sample=len(X)\n",
    "\n",
    "number_of_split=100\n",
    "number_of_row=29\n",
    "\n",
    "random_state_options = np.arange(0,number_of_split)\n",
    "y_predict= np.ones((number_of_row, number_of_split))\n",
    "\n",
    "feature_indices = np.ones((n_feature, number_of_split))\n",
    "feature_importances=np.ones((n_feature, number_of_split))\n",
    "feature_indices_score=np.ones((n_feature))\n",
    "feature_importances_score=np.ones((n_feature))\n",
    "j=0\n",
    "\n",
    "\n",
    "# For different split sets Random Forest Regressor runs.\n",
    "\n",
    "for random_state_i in random_state_options:\n",
    "\n",
    "    X_train, X_test, y_train, y_test = train_test_split(scaled_value_X,scaled_value_y,test_size=0.2,random_state=random_state_i,stratify=Z['Month'])\n",
    "\n",
    "    \n",
    "\n",
    "    rfc=RandomForestRegressor(n_estimators=30)\n",
    "    RandomForestRegressor.fit(rfc,X_train,y_train)\n",
    "\n",
    "    y_predict[:,j] = rfc.predict(X_test)\n",
    "    \n",
    "    result=exp.inverse_scale_and_graph_Y_predict_and_test (y_predict[:,j],y_test,scaler_y,'NO')\n",
    "    \n",
    "    importances = rfc.feature_importances_\n",
    "    std = np.std([tree.feature_importances_ for tree in rfc.estimators_],axis=0)\n",
    "\n",
    "    indices = np.argsort(importances)[::-1]\n",
    "    feature_indices[:,j]=indices\n",
    "    feature_importances[:,j]=importances\n",
    "    j=j+1\n",
    "    \n",
    "\n",
    "print (\"Features scores:\")    \n",
    "for i in range(n_feature):\n",
    "    feature_indices_score[i]=0\n",
    "    feature_importances_score[i]=0\n",
    "    for j in range(number_of_split):\n",
    "        \n",
    "        indice_coeff=feature_indices[i,j]\n",
    "        importances_coeff=feature_importances[i,j]\n",
    "        \n",
    "        feature_indices_score[i]=feature_indices_score[i]+(indice_coeff)\n",
    "        feature_importances_score[i]=feature_importances_score[i]+(importances_coeff)\n",
    "        \n",
    "#        print('feat=',i,'#ofsplit=',j,'tot_indice',feature_indices_score[i],\n",
    "#              'indice=',indice_coeff,'tot_importan=',feature_importances_score[i],'importan',importances_coeff )\n",
    "\n",
    "    print( i,X_Column_Names[i])#,feature_indices_score[i],'number_of_split',j+1) #,X_Column_Names[feature_indices[i,j]])\n",
    "    \n",
    "scored_feature_indices = np.argsort(feature_indices_score)\n",
    "scored_feature_importances = np.argsort(feature_importances_score)\n",
    "    \n",
    " \n",
    "    \n",
    "    \n",
    "# Plot the feature importances of the forest\n",
    "plt.gcf().clear()\n",
    "plt.figure()\n",
    "plt.title(\"{} and -{} Month Cumulative Feature Importances with {} Different Splits.png\".format(Product,MonthSeries,number_of_split))\n",
    "plt.bar(range(n_feature), feature_importances_score[scored_feature_importances][::-1],\n",
    "       color=\"r\",  align=\"center\")\n",
    "plt.xticks(range(n_feature), scored_feature_importances[::-1],rotation=90)\n",
    "plt.xlim([-1, n_feature])\n",
    "\n",
    "fig_size = plt.rcParams[\"figure.figsize\"]\n",
    "fig_size[0] = 20\n",
    "fig_size[1] = 12\n",
    "plt.rcParams[\"figure.figsize\"] = fig_size\n",
    "plt.savefig(\"Plots_Feature_Selection/{} and -{} Month Cumulative Feature Importances with {} Different Splits.png\".format(Product,MonthSeries,number_of_split), format='png', dpi=300)\n",
    "\n",
    "plt.show()"
   ]
  },
  {
   "cell_type": "code",
   "execution_count": 18,
   "metadata": {
    "scrolled": true
   },
   "outputs": [
    {
     "name": "stderr",
     "output_type": "stream",
     "text": [
      "C:\\Users\\murat.ozemre\\AppData\\Local\\Continuum\\Anaconda3\\envs\\Tensor_1\\lib\\site-packages\\sklearn\\cross_validation.py:41: DeprecationWarning: This module was deprecated in version 0.18 in favor of the model_selection module into which all the refactored classes and functions are moved. Also note that the interface of the new CV iterators are different from that of this module. This module will be removed in 0.20.\n",
      "  \"This module will be removed in 0.20.\", DeprecationWarning)\n"
     ]
    },
    {
     "name": "stdout",
     "output_type": "stream",
     "text": [
      "Features scores:\n",
      "1. feature CPI_CHN-3 21 (0.195408) 0.238434\n",
      "2. feature CPI_GBR-3 22 (0.280699) 0.232692\n",
      "3. feature CHN_World_841810-3 1 (0.020428) 0.015744\n",
      "4. feature CLI_GBR-3 19 (0.043400) 0.048371\n",
      "5. feature BCI_GBR-3 17 (0.032142) 0.038650\n",
      "6. feature CLI_CHN-3 15 (0.008853) 0.011284\n",
      "7. feature CHN_USA_841810-3 2 (0.073037) 0.165439\n",
      "8. feature World-3 25 (0.008187) 0.012740\n",
      "9. feature ITA_GBR_841810-3 9 (0.039738) 0.043640\n",
      "10. feature CCI_GBR-3 18 (0.030652) 0.033971\n",
      "11. feature BCI_CHN-3 13 (0.010358) 0.013402\n",
      "12. feature POL_GBR_841810-3 7 (0.005307) 0.008047\n",
      "13. feature GDP_CHN-3 16 (0.031220) 0.035037\n",
      "14. feature CHN_AUS_841810-3 5 (0.033099) 0.043342\n",
      "15. feature EPU_GBR-3 11 (0.031268) 0.040072\n",
      "16. feature CHN_FRA_841810-3 4 (0.003168) 0.002355\n",
      "17. feature CHN_JPN_841810-3 3 (0.018257) 0.024485\n",
      "18. feature GDP_GBR-3 20 (0.022466) 0.034452\n",
      "19. feature GBP-3 24 (0.025106) 0.030184\n",
      "20. feature EPU_CHN-3 10 (0.027622) 0.034772\n",
      "21. feature KOR_GBR_841810-3 8 (0.007299) 0.010836\n",
      "22. feature TUR_GBR_841810-3 6 (0.008390) 0.012888\n",
      "23. feature CCI_CHN-3 14 (0.007865) 0.020868\n",
      "24. feature CHN_GBR_841810-3 0 (0.006709) 0.006160\n",
      "25. feature EPU_World-3 12 (0.017065) 0.028194\n",
      "26. feature CNY-3 23 (0.012259) 0.019547\n"
     ]
    },
    {
     "data": {
      "text/plain": [
       "<matplotlib.figure.Figure at 0x237d5d9b320>"
      ]
     },
     "metadata": {},
     "output_type": "display_data"
    },
    {
     "data": {
      "image/png": "[encoded data removed]",
      "text/plain": [
       "<matplotlib.figure.Figure at 0x237d6f0e208>"
      ]
     },
     "metadata": {},
     "output_type": "display_data"
    }
   ],
   "source": [
    "# 3 Version for Train Test Split and Feature selection \n",
    "# http://blog.datadive.net/selecting-good-features-part-iii-random-forests/\n",
    "# Use both RF Importances and R2 Accuracy with different number of splits\n",
    "\n",
    "from sklearn.cross_validation import ShuffleSplit\n",
    "from sklearn.metrics import r2_score\n",
    "from collections import defaultdict\n",
    "from operator import itemgetter, attrgetter\n",
    "\n",
    "def getKey(item):\n",
    "    return item[0]\n",
    "\n",
    "rf = RandomForestRegressor()\n",
    "\n",
    "\n",
    "number_of_split=100\n",
    "number_of_row=29\n",
    "\n",
    "\n",
    "\n",
    "random_state_options = np.arange(0,number_of_split)\n",
    "predictions= np.ones((number_of_row, number_of_split))\n",
    "y_predict= np.ones((number_of_row, number_of_split))\n",
    "\n",
    "feature_indices = np.ones((n_feature, number_of_split))\n",
    "feature_importances=np.ones((n_feature, number_of_split))\n",
    "feature_indices_score=np.ones((n_feature))\n",
    "feature_importances_score=np.ones((n_feature))\n",
    "\n",
    "scores = defaultdict(list)\n",
    "#feature_indices = \n",
    "feature_std = np.ones((n_feature, number_of_split))\n",
    "feature_score=np.zeros((n_feature))\n",
    "\n",
    "#R2=defaultdict(list)\n",
    "R2=np.ones(number_of_split)\n",
    "j=0\n",
    "\n",
    "sonuc =[]\n",
    "\n",
    "\n",
    "for random_state_i in random_state_options:\n",
    "\n",
    "    X_train, X_test, Y_train, Y_test = train_test_split(X,y,test_size=0.2,random_state=random_state_i,stratify=Z['Month'])\n",
    "\n",
    "    RandomForestRegressor.fit(rf,X_train, Y_train)    \n",
    "\n",
    "    y_predict[:,j] = rf.predict(X_test)\n",
    "    \n",
    "    acc = int(1000*(r2_score(Y_test, rf.predict(X_test))))/1000\n",
    "    R2[j] = int(1000*(r2_score(Y_test, rf.predict(X_test))))/1000\n",
    "        \n",
    "    importances = rf.feature_importances_\n",
    "    indices = np.argsort(importances)[::-1]\n",
    "    std = np.std([tree.feature_importances_ for tree in rf.estimators_],axis=0)\n",
    "\n",
    "\n",
    "    feature_importances[:,j]=importances\n",
    "    feature_indices[:,j]=indices\n",
    "    feature_std [:,j]=std\n",
    "\n",
    "    j=j+1\n",
    "\n",
    "R2_Adj=1-R2\n",
    "score_coefficient=n_feature*(R2_Adj - np.max(R2_Adj))/-np.ptp(R2_Adj)\n",
    "\n",
    "    \n",
    "print (\"Features scores:\")    \n",
    "for i in range(n_feature):\n",
    "    feature_score[i]=0\n",
    "    feature_indices_score[i]=0\n",
    "    feature_importances_score[i]=0\n",
    "    \n",
    "    for j in range(number_of_split):\n",
    "        \n",
    "        indice_coeff=feature_indices[i,j]+1\n",
    "        importances_coeff=int((feature_importances[i,j]*10000))/10000\n",
    "        score_coeff=int((score_coefficient[j]+1)*10)/10\n",
    "\n",
    "        feature_indices_score[i]=feature_indices_score[i]+(indice_coeff)\n",
    "        feature_importances_score[i]=feature_importances_score[i]+(importances_coeff)\n",
    "\n",
    "        score=score_coeff*(importances_coeff)\n",
    "        feature_score[i]=feature_score[i]+score\n",
    "\n",
    "\n",
    "#    print( feature_score[i],'number_of_split',j+1) #,X_Column_Names[feature_indices[i,j]])\n",
    "    \n",
    "scored_feature_indices = (np.argsort(feature_score)[::-1])\n",
    "\n",
    "for f in range(n_feature):\n",
    "    print(\"%d. feature %s %d (%f) %f\" % (f+1, X_Column_Names[scored_feature_indices[f]], scored_feature_indices[f], importances[scored_feature_indices[f]],std[scored_feature_indices[f]]))\n",
    "\n",
    "\n",
    "# Plot the feature importances of the forest\n",
    "plt.gcf().clear()\n",
    "plt.figure()\n",
    "plt.title(\"{} and {} Month Cumulative Feature and Score Importances with {} Different Splits\".format(Product,MonthSeries,number_of_split))\n",
    "plt.bar(range(n_feature), feature_score[scored_feature_indices],\n",
    "       color=\"r\",  align=\"center\")\n",
    "plt.xticks(range(n_feature), scored_feature_indices,rotation=90)\n",
    "plt.xlim([-1, n_feature])\n",
    "\n",
    "#fig_size = plt.rcParams[\"figure.figsize\"]\n",
    "#fig_size[0] = 20\n",
    "#fig_size[1] = 12\n",
    "#plt.rcParams[\"figure.figsize\"] = fig_size\n",
    "plt.savefig(\"Plots_Feature_Selection/{} and {} Month Cumulative Feature and Score Importances with {} Different Splits.png\".format(Product,MonthSeries,number_of_split), format='png', dpi=300)\n",
    "\n",
    "plt.show()\n",
    "\n",
    "\n",
    "        "
   ]
  },
  {
   "cell_type": "code",
   "execution_count": 19,
   "metadata": {
    "collapsed": true,
    "scrolled": true
   },
   "outputs": [],
   "source": [
    "# Calling function by single parameter set \n",
    "a=exp.randomforest(X_train, X_test, y_train, y_test,scaler_y,\n",
    "                   rand=50,is_random_fixed='TRUE',\n",
    "                   est=200,min_leaf=5,feat=10,max_leaf=10,min_weight=0.0,min_impurity=1e-07)"
   ]
  },
  {
   "cell_type": "code",
   "execution_count": 20,
   "metadata": {
    "collapsed": true
   },
   "outputs": [],
   "source": [
    "# By using Ver 3 for Feature Selection results\n",
    "# Percentile variable takes the most important variables according to its feature score and omits the others.\n",
    "# ie.25 percentile takes %75 importance variables and omits %25 least important features\n",
    "\n",
    "percentile=25\n",
    "threshold_for_feature_selection=np.percentile(feature_score[scored_feature_indices], percentile)\n",
    "X_threshold=X.iloc[:,scored_feature_indices[feature_score[scored_feature_indices]>threshold_for_feature_selection]]\n",
    "\n",
    "# Train Test Split after percentile selection\n",
    "\n",
    "Scaled_Train_Test_Split=exp.X_Y_scaler_train_test_Split(X_threshold,y,Z)\n",
    "\n",
    "X_train = Scaled_Train_Test_Split[0]\n",
    "X_test = Scaled_Train_Test_Split[1]\n",
    "y_train = Scaled_Train_Test_Split[2]\n",
    "y_test = Scaled_Train_Test_Split[3]\n",
    "scaler_X = Scaled_Train_Test_Split[4]  \n",
    "scaler_y = Scaled_Train_Test_Split[5]\n",
    "scaled_value_X=Scaled_Train_Test_Split[6]\n",
    "scaled_value_y=Scaled_Train_Test_Split[7]\n"
   ]
  },
  {
   "cell_type": "code",
   "execution_count": 21,
   "metadata": {},
   "outputs": [
    {
     "data": {
      "text/plain": [
       "(1892, 2537, 0.645)"
      ]
     },
     "execution_count": 21,
     "metadata": {},
     "output_type": "execute_result"
    }
   ],
   "source": [
    "# Random Foest Regressor model\n",
    "rfc=RandomForestRegressor(n_estimators=3000,random_state=50)\n",
    "\n",
    "# Random Foest Regressor model train\n",
    "RandomForestRegressor.fit(rfc,X_train,y_train)\n",
    "\n",
    "# Random Foest Regressor mode predict\n",
    "y_predict_test = rfc.predict(X_test)\n",
    "\n",
    "# Compare predicted Y and real Y \n",
    "exp.inverse_scale_and_graph_Y_predict_and_test(y_predict_test,y_test,scaler_y,'NO')"
   ]
  },
  {
   "cell_type": "code",
   "execution_count": null,
   "metadata": {
    "collapsed": true
   },
   "outputs": [],
   "source": [
    "exp.randomforest(X_train, X_test, y_train, y_test,scaler_y,est=3000,rand=50)"
   ]
  },
  {
   "cell_type": "markdown",
   "metadata": {
    "collapsed": true
   },
   "source": [
    "Month Selection"
   ]
  },
  {
   "cell_type": "code",
   "execution_count": 17,
   "metadata": {},
   "outputs": [
    {
     "name": "stdout",
     "output_type": "stream",
     "text": [
      "month 1 R2 value 0.566\n",
      "month _12 R2 value 0.593\n",
      "month _123 R2 value 0.597\n",
      "month _1236 R2 value 0.637\n",
      "month _1236_12 R2 value 0.639\n",
      "month 2 R2 value 0.612\n",
      "month 3 R2 value 0.639\n",
      "month 6 R2 value 0.601\n",
      "month 12 R2 value 0.557\n",
      "month _12 R2 value 0.591\n"
     ]
    },
    {
     "data": {
      "image/png": "[encoded data removed]",
      "text/plain": [
       "<matplotlib.figure.Figure at 0x18ca3aa8198>"
      ]
     },
     "metadata": {},
     "output_type": "display_data"
    }
   ],
   "source": [
    "#MonthSeries_option=[\"1\",\"2\",\"3\",\"6\",\"12\",'_12']\n",
    "MonthSeries_option=[\"1\",'_12','_123','_1236','_1236_12',\"2\",\"3\",\"6\",\"12\",'_12']\n",
    "\n",
    "for month in MonthSeries_option:\n",
    "\n",
    "    MonthSeries=month\n",
    "\n",
    "\n",
    "    Data_Core1 = pd.ExcelFile('Data_{}_{}_{}.xlsx'.format(Exp_Country,Imp_Country,Product))\n",
    "    y = Data_Core1.parse('Y', header=0,index_col=None, na_values=['NA'])['{}_{}_{}'.format(Exp_Country,Imp_Country,Product)]\n",
    "    Z = Data_Core1.parse('Y', header=0,index_col=None, na_values=['NA'])[['Date','Year','Month']]\n",
    "\n",
    "    X = Data_Core1.parse('X{}'.format(MonthSeries), header=0,index_col=None, na_values=['NA'])\n",
    "    X.drop(['Date','Year','Month'], axis=1, inplace=True)\n",
    "    X_Column_Names=list(X.columns.values)\n",
    "    n_feature=X.shape[1]\n",
    "\n",
    "    Xhat = Data_Core1.parse('Xhat', header=0,index_col=None, na_values=['NA'])\n",
    "    Xhat.drop(['Date','Year','Month'], axis=1, inplace=True)\n",
    "\n",
    "    Scaled_Train_Test_Split=exp.X_Y_scaler_train_test_Split(X,y,Z)\n",
    "\n",
    "    X_train = Scaled_Train_Test_Split[0]\n",
    "    X_test = Scaled_Train_Test_Split[1]\n",
    "    y_train = Scaled_Train_Test_Split[2]\n",
    "    y_test = Scaled_Train_Test_Split[3]\n",
    "    scaler_X = Scaled_Train_Test_Split[4]  \n",
    "    scaler_y = Scaled_Train_Test_Split[5]\n",
    "    scaled_value_X=Scaled_Train_Test_Split[6]\n",
    "    scaled_value_y=Scaled_Train_Test_Split[7]\n",
    "\n",
    "    # Random Foest Regressor model\n",
    "    rfc=RandomForestRegressor(n_estimators=3000)\n",
    "\n",
    "    # Random Foest Regressor model train\n",
    "    RandomForestRegressor.fit(rfc,X_train,y_train)\n",
    "\n",
    "    # Random Foest Regressor mode predict\n",
    "    y_predict_test = rfc.predict(X_test)\n",
    "\n",
    "    # Compare predicted Y and real Y \n",
    "    R2=exp.inverse_scale_and_graph_Y_predict_and_test(y_predict_test,y_test,scaler_y,'YES')[2]\n",
    "    print ('month',month,'R2 value',R2)"
   ]
  },
  {
   "cell_type": "code",
   "execution_count": null,
   "metadata": {
    "collapsed": true
   },
   "outputs": [],
   "source": [
    "month 1 R2 value 0.561\n",
    "month 2 R2 value 0.605\n",
    "month 3 R2 value 0.644\n",
    "month 6 R2 value 0.613\n",
    "month 12 R2 value 0.543"
   ]
  }
 ],
 "metadata": {
  "kernelspec": {
   "display_name": "Python 3",
   "language": "python",
   "name": "python3"
  },
  "language_info": {
   "codemirror_mode": {
    "name": "ipython",
    "version": 3
   },
   "file_extension": ".py",
   "mimetype": "text/x-python",
   "name": "python",
   "nbconvert_exporter": "python",
   "pygments_lexer": "ipython3",
   "version": "3.6.2"
  }
 },
 "nbformat": 4,
 "nbformat_minor": 2
}
