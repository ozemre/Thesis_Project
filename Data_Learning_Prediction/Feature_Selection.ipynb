{
 "cells": [
  {
   "cell_type": "code",
   "execution_count": 85,
   "metadata": {
    "collapsed": true
   },
   "outputs": [],
   "source": [
    "from __future__ import absolute_import\n",
    "from __future__ import division\n",
    "from __future__ import print_function\n",
    "\n",
    "import numpy as np\n",
    "import pandas as pd\n",
    "from time import time\n",
    "import matplotlib.pyplot as plt\n",
    "#from sklearn.cross_validation import train_test_split\n",
    "import seaborn as sns\n",
    "%matplotlib inline\n",
    "\n",
    "\n",
    "import sys\n",
    "import warnings\n",
    "\n",
    "if not sys.warnoptions:\n",
    "    warnings.simplefilter(\"ignore\")"
   ]
  },
  {
   "cell_type": "code",
   "execution_count": 86,
   "metadata": {
    "collapsed": true
   },
   "outputs": [],
   "source": [
    "from scipy.stats.stats import pearsonr"
   ]
  },
  {
   "cell_type": "code",
   "execution_count": 87,
   "metadata": {
    "collapsed": true
   },
   "outputs": [],
   "source": [
    "from sklearn.model_selection import train_test_split"
   ]
  },
  {
   "cell_type": "code",
   "execution_count": 88,
   "metadata": {},
   "outputs": [],
   "source": [
    "import Experiment_Ready as exp\n"
   ]
  },
  {
   "cell_type": "code",
   "execution_count": 115,
   "metadata": {
    "collapsed": true
   },
   "outputs": [],
   "source": [
    "\n",
    "import os\n",
    "import sys\n",
    "os.chdir('C:/Users/murat.ozemre/Desktop/Thesis_Project/Data_Sources_and_Preparation')\n",
    "#os.chdir('C:/Users/murat.ozemre/Documents/MOZEMRE-OZEL/Doktora/2017 Tez/Veri Analizi/Ver 3 Tez Izleme Calısmaları')"
   ]
  },
  {
   "cell_type": "code",
   "execution_count": 116,
   "metadata": {},
   "outputs": [
    {
     "data": {
      "text/plain": [
       "'02-14 13:41'"
      ]
     },
     "execution_count": 116,
     "metadata": {},
     "output_type": "execute_result"
    }
   ],
   "source": [
    "from sklearn import metrics\n",
    "import statsmodels\n",
    "from math import sqrt\n",
    "from math import log\n",
    "from sklearn.ensemble import RandomForestRegressor\n",
    "from datetime import datetime\n",
    "datetime.now().strftime('%m-%d %H:%M')"
   ]
  },
  {
   "cell_type": "code",
   "execution_count": 117,
   "metadata": {
    "collapsed": true
   },
   "outputs": [],
   "source": [
    "from sklearn.preprocessing import MinMaxScaler\n",
    "from sklearn.preprocessing import minmax_scale\n",
    "from sklearn.preprocessing import MaxAbsScaler\n",
    "from sklearn.preprocessing import StandardScaler\n",
    "from sklearn.preprocessing import RobustScaler\n",
    "from sklearn.preprocessing import Normalizer"
   ]
  },
  {
   "cell_type": "code",
   "execution_count": 118,
   "metadata": {
    "collapsed": true
   },
   "outputs": [],
   "source": [
    "Product_Type_Options = [841810,841840,841850]\n",
    "\n",
    "Product=Product_Type_Options[0] #841810\n",
    "Exp_Country='CHN' # 'CHN'\n",
    "Imp_Country='GBR'\n",
    "\n",
    "if Exp_Country=='CHN':\n",
    "    Currency='CNY'\n",
    "    EXP0='TUR'   \n",
    "elif Exp_Country=='TUR':\n",
    "    Currency='TRY'\n",
    "    EXP0='CHN'   "
   ]
  },
  {
   "cell_type": "code",
   "execution_count": 119,
   "metadata": {
    "collapsed": true
   },
   "outputs": [],
   "source": [
    "MonthSeries=\"3\"\n",
    "MonthSeries_option=[\"1\",\"2\",\"3\",\"6\",\"12\"]    "
   ]
  },
  {
   "cell_type": "markdown",
   "metadata": {},
   "source": [
    "# For Single Combination of Month  and Feature"
   ]
  },
  {
   "cell_type": "code",
   "execution_count": 120,
   "metadata": {},
   "outputs": [],
   "source": [
    "Data_Core1 = pd.ExcelFile('Data_{}_{}_{}.xlsx'.format(Exp_Country,Imp_Country,Product))\n",
    "y = Data_Core1.parse('Y', header=0,index_col=None, na_values=['NA'])['{}_{}_{}'.format(Exp_Country,Imp_Country,Product)]\n",
    "Z = Data_Core1.parse('Y', header=0,index_col=None, na_values=['NA'])[['Date','Year','Month']]\n",
    "\n",
    "X = Data_Core1.parse('X{}'.format(MonthSeries), header=0,index_col=None, na_values=['NA'])\n",
    "X.drop(['Date','Year','Month'], axis=1, inplace=True)\n",
    "X_Column_Names=list(X.columns.values)\n",
    "n_feature=X.shape[1]\n",
    "\n",
    "Xhat = Data_Core1.parse('Xhat', header=0,index_col=None, na_values=['NA'])\n",
    "Xhat.drop(['Date','Year','Month'], axis=1, inplace=True)\n",
    "\n",
    "dependent_variable_type='sqrt'\n",
    "\n",
    "if dependent_variable_type=='same':\n",
    "    dependent_variable=y\n",
    "elif dependent_variable_type=='log':\n",
    "    dependent_variable=y.apply(np.log)\n",
    "elif dependent_variable_type=='sqrt':\n",
    "    dependent_variable=y.apply(np.sqrt)"
   ]
  },
  {
   "cell_type": "code",
   "execution_count": null,
   "metadata": {},
   "outputs": [],
   "source": []
  },
  {
   "cell_type": "code",
   "execution_count": 121,
   "metadata": {
    "collapsed": true
   },
   "outputs": [],
   "source": [
    "Scaled_Train_Test_Split=exp.X_Y_scaler_train_test_Split(X,dependent_variable,Z)\n",
    "\n",
    "X_train = Scaled_Train_Test_Split[0]\n",
    "X_test = Scaled_Train_Test_Split[1]\n",
    "y_train = Scaled_Train_Test_Split[2]\n",
    "y_test = Scaled_Train_Test_Split[3]\n",
    "scaler_X = Scaled_Train_Test_Split[4]  \n",
    "scaler_y = Scaled_Train_Test_Split[5]\n",
    "scaled_value_X=Scaled_Train_Test_Split[6]\n",
    "scaled_value_y=Scaled_Train_Test_Split[7]"
   ]
  },
  {
   "cell_type": "code",
   "execution_count": 99,
   "metadata": {
    "scrolled": true
   },
   "outputs": [
    {
     "data": {
      "text/plain": [
       "(0, 0, 0.802)"
      ]
     },
     "execution_count": 99,
     "metadata": {},
     "output_type": "execute_result"
    },
    {
     "data": {
      "image/png": "[encoded data removed]",
      "text/plain": [
       "<matplotlib.figure.Figure at 0x27c397cd470>"
      ]
     },
     "metadata": {},
     "output_type": "display_data"
    }
   ],
   "source": [
    "from sklearn.tree import DecisionTreeRegressor\n",
    "\n",
    "# Decison tree regressor model\n",
    "dt = DecisionTreeRegressor()\n",
    "\n",
    "# Decison tree regressor model train\n",
    "DecisionTreeRegressor.fit(dt,X_train,y_train)\n",
    "\n",
    "# Decison tree regressor model predict\n",
    "y_predict_test = dt.predict(X_test)\n",
    "\n",
    "# Compare predicted Y and real Y \n",
    "exp.inverse_scale_and_graph_Y_predict_and_test(y_predict_test,y_test,scaler_y,'YES')\n"
   ]
  },
  {
   "cell_type": "code",
   "execution_count": 100,
   "metadata": {},
   "outputs": [
    {
     "data": {
      "text/plain": [
       "(0, 0, 0.94)"
      ]
     },
     "execution_count": 100,
     "metadata": {},
     "output_type": "execute_result"
    },
    {
     "data": {
      "image/png": "[encoded data removed]",
      "text/plain": [
       "<matplotlib.figure.Figure at 0x27c359bea58>"
      ]
     },
     "metadata": {},
     "output_type": "display_data"
    }
   ],
   "source": [
    "# Random Foest Regressor model\n",
    "rfc=RandomForestRegressor(n_estimators=3000)\n",
    "\n",
    "# Random Foest Regressor model train\n",
    "RandomForestRegressor.fit(rfc,X_train,y_train)\n",
    "\n",
    "# Random Foest Regressor mode predict\n",
    "y_predict_test = rfc.predict(X_test)\n",
    "\n",
    "# Compare predicted Y and real Y \n",
    "exp.inverse_scale_and_graph_Y_predict_and_test(y_predict_test,y_test,scaler_y,'YES')"
   ]
  },
  {
   "cell_type": "code",
   "execution_count": 101,
   "metadata": {},
   "outputs": [
    {
     "data": {
      "text/plain": [
       "array([0.1196543 , 0.0414344 , 0.09635205, 0.00758808, 0.02547233,\n",
       "       0.01509708, 0.01361049, 0.0150741 , 0.01093029, 0.01289106,\n",
       "       0.00973598, 0.01030321, 0.00950582, 0.06803866, 0.00577134,\n",
       "       0.02973626, 0.01184209, 0.00860609, 0.01623516, 0.06508836,\n",
       "       0.00961614, 0.00815668, 0.00639717, 0.09438979, 0.22311786,\n",
       "       0.01129015, 0.0119249 , 0.04214015])"
      ]
     },
     "execution_count": 101,
     "metadata": {},
     "output_type": "execute_result"
    }
   ],
   "source": [
    "rfc.feature_importances_"
   ]
  },
  {
   "cell_type": "markdown",
   "metadata": {},
   "source": [
    "# For single combination calling Feature Selection Functions"
   ]
  },
  {
   "cell_type": "code",
   "execution_count": 102,
   "metadata": {
    "scrolled": true
   },
   "outputs": [
    {
     "name": "stdout",
     "output_type": "stream",
     "text": [
      "Features scores:\n",
      "1. important feature CPI_GBR-3 (original rank 24)\n",
      "2. important feature CHN_USA_841850-3 (original rank 2)\n",
      "3. important feature CPI_CHN-3 (original rank 23)\n",
      "4. important feature BCI_CHN-3 (original rank 13)\n",
      "5. important feature World-3 (original rank 27)\n",
      "6. important feature CHN_GBR_841850-3 (original rank 0)\n",
      "7. important feature CLI_GBR-3 (original rank 19)\n",
      "8. important feature CHN_World_841850-3 (original rank 1)\n",
      "9. important feature CLI_CHN-3 (original rank 15)\n",
      "10. important feature CCI_GBR-3 (original rank 18)\n",
      "11. important feature CHN_IDN_841850-3 (original rank 5)\n",
      "12. important feature CHN_ITA_841850-3 (original rank 4)\n",
      "13. important feature GDP_CHN-3 (original rank 16)\n",
      "14. important feature AUT_GBR_841850-3 (original rank 7)\n",
      "15. important feature GBP-3 (original rank 26)\n",
      "16. important feature ITA_GBR_841850-3 (original rank 9)\n",
      "17. important feature BCI_GBR-3 (original rank 17)\n",
      "18. important feature CNY-3 (original rank 25)\n",
      "19. important feature TUR_GBR_841850-3 (original rank 6)\n",
      "20. important feature GDP_GBR-3 (original rank 20)\n",
      "21. important feature EPU_World-3 (original rank 12)\n",
      "22. important feature EPU_GBR-3 (original rank 11)\n",
      "23. important feature CHZ_GBR_841850-3 (original rank 8)\n",
      "24. important feature EPU_CHN-3 (original rank 10)\n",
      "25. important feature CCI_CHN-3 (original rank 14)\n",
      "26. important feature PPI_GBR-3 (original rank 22)\n",
      "27. important feature CHN_AUS_841850-3 (original rank 3)\n",
      "28. important feature PPI_CHN-3 (original rank 21)\n"
     ]
    },
    {
     "data": {
      "text/plain": [
       "<matplotlib.figure.Figure at 0x27c264c6710>"
      ]
     },
     "metadata": {},
     "output_type": "display_data"
    },
    {
     "data": {
      "image/png": "[encoded data removed]",
      "text/plain": [
       "<matplotlib.figure.Figure at 0x27c3592dd68>"
      ]
     },
     "metadata": {},
     "output_type": "display_data"
    }
   ],
   "source": [
    "# Main for 3 Version for Train Test Split and Feature selection \n",
    "# http://blog.datadive.net/selecting-good-features-part-iii-random-forests/\n",
    "# Use both RF Importances and R2 Accuracy with different number of splits\n",
    "\n",
    "\n",
    "number_of_split_for_feature=100\n",
    "result=exp.get_feature_importance_result (X,dependent_variable,Z,n_feature,number_of_split_for_feature)\n",
    "scored_feature_indices=result[0]\n",
    "feature_score=result[1]\n",
    "\n",
    "print (\"Features scores:\") \n",
    "\n",
    "for f in range(n_feature):\n",
    "\n",
    "    print(\"%d. important feature %s (original rank %d)\" % (f+1, X_Column_Names[scored_feature_indices[f]], scored_feature_indices[f]))\n",
    "\n",
    "\n",
    "# Plot the feature importances of the forest\n",
    "plt.gcf().clear()\n",
    "plt.figure()\n",
    "plt.title(\"{} and {} Month Cumulative Feature and Score Importances with {} Different Splits\".format(Product,MonthSeries,number_of_split_for_feature))\n",
    "plt.bar(range(n_feature), feature_score[scored_feature_indices],\n",
    "       color=\"r\",  align=\"center\")\n",
    "plt.xticks(range(n_feature), scored_feature_indices,rotation=90)\n",
    "plt.xlim([-1, n_feature])\n",
    "\n",
    "#fig_size = plt.rcParams[\"figure.figsize\"]\n",
    "#fig_size[0] = 20\n",
    "#fig_size[1] = 12\n",
    "#plt.rcParams[\"figure.figsize\"] = fig_size\n",
    "plt.savefig(\"Plots_Feature_Selection/{} and {} Month Cumulative Feature and Score Importances with {} Different Splits.png\".format(Product,MonthSeries,number_of_split_for_feature), format='png', dpi=300)\n",
    "\n",
    "plt.show()\n",
    "\n",
    "    \n",
    "    "
   ]
  },
  {
   "cell_type": "code",
   "execution_count": 47,
   "metadata": {
    "collapsed": true,
    "scrolled": true
   },
   "outputs": [],
   "source": [
    "def prepare_ (Product,Exp_Country,Imp_Country,MonthSeries,scored_feature_indices):\n",
    "    \n",
    "    return Product,Exp_Country,Imp_Country,MonthSeries,scored_feature_indices\n",
    "    \n"
   ]
  },
  {
   "cell_type": "code",
   "execution_count": 48,
   "metadata": {},
   "outputs": [
    {
     "data": {
      "text/plain": [
       "(841840,\n",
       " 'CHN',\n",
       " 'GBR',\n",
       " '3',\n",
       " array([23, 24, 27, 15,  2,  1,  7, 20, 13, 17, 16,  5, 10, 21,  8, 18,  4,\n",
       "        26, 12,  0,  9, 22,  3, 14,  6, 19, 11, 25], dtype=int64))"
      ]
     },
     "execution_count": 48,
     "metadata": {},
     "output_type": "execute_result"
    }
   ],
   "source": [
    "prepare_ (Product,Exp_Country,Imp_Country,MonthSeries,scored_feature_indices)\n",
    "    "
   ]
  },
  {
   "cell_type": "code",
   "execution_count": 49,
   "metadata": {
    "scrolled": true
   },
   "outputs": [
    {
     "name": "stdout",
     "output_type": "stream",
     "text": [
      "randomforest rs= 50\n"
     ]
    }
   ],
   "source": [
    "# Calling function by single parameter set \n",
    "a=exp.randomforest(X_train, X_test, y_train, y_test,scaler_y,\n",
    "                   rand=50,is_random_fixed='TRUE',\n",
    "                   est=200,min_leaf=5,feat=10,max_leaf=10,min_weight=0.0,min_impurity=1e-07)"
   ]
  },
  {
   "cell_type": "code",
   "execution_count": 50,
   "metadata": {
    "collapsed": true
   },
   "outputs": [],
   "source": [
    "# By using Ver 3 for Feature Selection results\n",
    "# Percentile variable takes the most important variables according to its feature score and omits the others.\n",
    "# ie.25 percentile takes %75 importance variables and omits %25 least important features\n",
    "percent=25\n",
    "percentile=100-percent\n",
    "threshold_for_feature_selection=np.percentile(feature_score[scored_feature_indices], percentile)\n",
    "X_threshold=X.iloc[:,scored_feature_indices[feature_score[scored_feature_indices]>threshold_for_feature_selection]]\n",
    "\n",
    "# Train Test Split after percentile selection\n",
    "\n",
    "Scaled_Train_Test_Split=exp.X_Y_scaler_train_test_Split(X_threshold,dependent_variable,Z)\n",
    "\n",
    "X_train = Scaled_Train_Test_Split[0]\n",
    "X_test = Scaled_Train_Test_Split[1]\n",
    "y_train = Scaled_Train_Test_Split[2]\n",
    "y_test = Scaled_Train_Test_Split[3]\n",
    "scaler_X = Scaled_Train_Test_Split[4]  \n",
    "scaler_y = Scaled_Train_Test_Split[5]\n",
    "scaled_value_X=Scaled_Train_Test_Split[6]\n",
    "scaled_value_y=Scaled_Train_Test_Split[7]\n"
   ]
  },
  {
   "cell_type": "code",
   "execution_count": 51,
   "metadata": {},
   "outputs": [
    {
     "data": {
      "text/plain": [
       "(4, 5, 0.431)"
      ]
     },
     "execution_count": 51,
     "metadata": {},
     "output_type": "execute_result"
    }
   ],
   "source": [
    "# Random Foest Regressor model\n",
    "rfc=RandomForestRegressor(n_estimators=3000,random_state=50)\n",
    "\n",
    "# Random Foest Regressor model train\n",
    "RandomForestRegressor.fit(rfc,X_train,y_train)\n",
    "\n",
    "# Random Foest Regressor mode predict\n",
    "y_predict_test = rfc.predict(X_test)\n",
    "\n",
    "# Compare predicted Y and real Y \n",
    "exp.inverse_scale_and_graph_Y_predict_and_test(y_predict_test,y_test,scaler_y,'NO')"
   ]
  },
  {
   "cell_type": "code",
   "execution_count": 52,
   "metadata": {},
   "outputs": [
    {
     "name": "stdout",
     "output_type": "stream",
     "text": [
      "randomforest rs= 50\n"
     ]
    },
    {
     "data": {
      "text/plain": [
       "((4, 5, 0.431), (1, 1, 0.942))"
      ]
     },
     "execution_count": 52,
     "metadata": {},
     "output_type": "execute_result"
    }
   ],
   "source": [
    "exp.randomforest(X_train, X_test, y_train, y_test,scaler_y,est=3000,rand=50)"
   ]
  },
  {
   "cell_type": "markdown",
   "metadata": {
    "collapsed": true
   },
   "source": [
    "# For Combination of Month and Feature with Multiple Runs Start"
   ]
  },
  {
   "cell_type": "code",
   "execution_count": 122,
   "metadata": {
    "scrolled": true
   },
   "outputs": [
    {
     "name": "stdout",
     "output_type": "stream",
     "text": [
      "month 1 percent 100 R2 value 0.624\n",
      "month 1 percent 100 R2 value 0.609\n",
      "month 1 percent 100 R2 value 0.606\n",
      "month 1 percent 100 R2 value 0.616\n",
      "month 1 percent 100 R2 value 0.601\n",
      "month 1 percent 75 R2 value 0.633\n",
      "month 1 percent 75 R2 value 0.617\n",
      "month 1 percent 75 R2 value 0.612\n",
      "month 1 percent 75 R2 value 0.631\n",
      "month 1 percent 75 R2 value 0.618\n",
      "month 1 percent 50 R2 value 0.627\n",
      "month 1 percent 50 R2 value 0.617\n",
      "month 1 percent 50 R2 value 0.618\n",
      "month 1 percent 50 R2 value 0.613\n",
      "month 1 percent 50 R2 value 0.631\n",
      "month _12 percent 100 R2 value 0.637\n",
      "month _12 percent 100 R2 value 0.641\n",
      "month _12 percent 100 R2 value 0.643\n",
      "month _12 percent 100 R2 value 0.63\n",
      "month _12 percent 100 R2 value 0.651\n",
      "month _12 percent 75 R2 value 0.649\n",
      "month _12 percent 75 R2 value 0.646\n",
      "month _12 percent 75 R2 value 0.625\n",
      "month _12 percent 75 R2 value 0.652\n",
      "month _12 percent 75 R2 value 0.65\n",
      "month _12 percent 50 R2 value 0.659\n",
      "month _12 percent 50 R2 value 0.649\n",
      "month _12 percent 50 R2 value 0.643\n",
      "month _12 percent 50 R2 value 0.644\n",
      "month _12 percent 50 R2 value 0.646\n",
      "month _123 percent 100 R2 value 0.648\n",
      "month _123 percent 100 R2 value 0.647\n",
      "month _123 percent 100 R2 value 0.65\n",
      "month _123 percent 100 R2 value 0.649\n",
      "month _123 percent 100 R2 value 0.633\n",
      "month _123 percent 75 R2 value 0.656\n",
      "month _123 percent 75 R2 value 0.661\n",
      "month _123 percent 75 R2 value 0.632\n",
      "month _123 percent 75 R2 value 0.666\n",
      "month _123 percent 75 R2 value 0.659\n",
      "month _123 percent 50 R2 value 0.67\n",
      "month _123 percent 50 R2 value 0.68\n",
      "month _123 percent 50 R2 value 0.671\n",
      "month _123 percent 50 R2 value 0.665\n",
      "month _123 percent 50 R2 value 0.667\n",
      "month 2 percent 100 R2 value 0.666\n",
      "month 2 percent 100 R2 value 0.67\n",
      "month 2 percent 100 R2 value 0.669\n",
      "month 2 percent 100 R2 value 0.667\n",
      "month 2 percent 100 R2 value 0.664\n",
      "month 2 percent 75 R2 value 0.671\n",
      "month 2 percent 75 R2 value 0.698\n",
      "month 2 percent 75 R2 value 0.672\n",
      "month 2 percent 75 R2 value 0.674\n",
      "month 2 percent 75 R2 value 0.689\n",
      "month 2 percent 50 R2 value 0.685\n",
      "month 2 percent 50 R2 value 0.688\n",
      "month 2 percent 50 R2 value 0.689\n",
      "month 2 percent 50 R2 value 0.695\n",
      "month 2 percent 50 R2 value 0.682\n",
      "month _23 percent 100 R2 value 0.668\n",
      "month _23 percent 100 R2 value 0.678\n",
      "month _23 percent 100 R2 value 0.669\n",
      "month _23 percent 100 R2 value 0.667\n",
      "month _23 percent 100 R2 value 0.669\n",
      "month _23 percent 75 R2 value 0.693\n",
      "month _23 percent 75 R2 value 0.676\n",
      "month _23 percent 75 R2 value 0.679\n",
      "month _23 percent 75 R2 value 0.676\n",
      "month _23 percent 75 R2 value 0.687\n",
      "month _23 percent 50 R2 value 0.698\n",
      "month _23 percent 50 R2 value 0.703\n",
      "month _23 percent 50 R2 value 0.685\n",
      "month _23 percent 50 R2 value 0.682\n",
      "month _23 percent 50 R2 value 0.684\n",
      "month _234 percent 100 R2 value 0.683\n",
      "month _234 percent 100 R2 value 0.68\n",
      "month _234 percent 100 R2 value 0.698\n",
      "month _234 percent 100 R2 value 0.668\n",
      "month _234 percent 100 R2 value 0.698\n",
      "month _234 percent 75 R2 value 0.702\n",
      "month _234 percent 75 R2 value 0.693\n",
      "month _234 percent 75 R2 value 0.679\n",
      "month _234 percent 75 R2 value 0.697\n",
      "month _234 percent 75 R2 value 0.69\n",
      "month _234 percent 50 R2 value 0.715\n",
      "month _234 percent 50 R2 value 0.7\n",
      "month _234 percent 50 R2 value 0.717\n",
      "month _234 percent 50 R2 value 0.705\n",
      "month _234 percent 50 R2 value 0.701\n",
      "month 3 percent 100 R2 value 0.655\n",
      "month 3 percent 100 R2 value 0.673\n",
      "month 3 percent 100 R2 value 0.66\n",
      "month 3 percent 100 R2 value 0.67\n",
      "month 3 percent 100 R2 value 0.674\n",
      "month 3 percent 75 R2 value 0.673\n",
      "month 3 percent 75 R2 value 0.678\n",
      "month 3 percent 75 R2 value 0.682\n",
      "month 3 percent 75 R2 value 0.694\n",
      "month 3 percent 75 R2 value 0.689\n",
      "month 3 percent 50 R2 value 0.692\n",
      "month 3 percent 50 R2 value 0.684\n",
      "month 3 percent 50 R2 value 0.688\n",
      "month 3 percent 50 R2 value 0.683\n",
      "month 3 percent 50 R2 value 0.686\n",
      "month _34 percent 100 R2 value 0.675\n",
      "month _34 percent 100 R2 value 0.652\n",
      "month _34 percent 100 R2 value 0.681\n",
      "month _34 percent 100 R2 value 0.67\n",
      "month _34 percent 100 R2 value 0.682\n",
      "month _34 percent 75 R2 value 0.667\n",
      "month _34 percent 75 R2 value 0.677\n",
      "month _34 percent 75 R2 value 0.676\n",
      "month _34 percent 75 R2 value 0.666\n",
      "month _34 percent 75 R2 value 0.663\n",
      "month _34 percent 50 R2 value 0.699\n",
      "month _34 percent 50 R2 value 0.683\n",
      "month _34 percent 50 R2 value 0.703\n",
      "month _34 percent 50 R2 value 0.682\n",
      "month _34 percent 50 R2 value 0.708\n",
      "month _345 percent 100 R2 value 0.66\n",
      "month _345 percent 100 R2 value 0.668\n",
      "month _345 percent 100 R2 value 0.642\n",
      "month _345 percent 100 R2 value 0.661\n",
      "month _345 percent 100 R2 value 0.671\n",
      "month _345 percent 75 R2 value 0.653\n",
      "month _345 percent 75 R2 value 0.666\n",
      "month _345 percent 75 R2 value 0.703\n",
      "month _345 percent 75 R2 value 0.673\n",
      "month _345 percent 75 R2 value 0.675\n",
      "month _345 percent 50 R2 value 0.708\n",
      "month _345 percent 50 R2 value 0.704\n",
      "month _345 percent 50 R2 value 0.711\n",
      "month _345 percent 50 R2 value 0.698\n",
      "month _345 percent 50 R2 value 0.713\n",
      "month 4 percent 100 R2 value 0.641\n",
      "month 4 percent 100 R2 value 0.644\n",
      "month 4 percent 100 R2 value 0.622\n",
      "month 4 percent 100 R2 value 0.649\n",
      "month 4 percent 100 R2 value 0.645\n",
      "month 4 percent 75 R2 value 0.643\n",
      "month 4 percent 75 R2 value 0.64\n",
      "month 4 percent 75 R2 value 0.626\n",
      "month 4 percent 75 R2 value 0.639\n",
      "month 4 percent 75 R2 value 0.652\n",
      "month 4 percent 50 R2 value 0.624\n",
      "month 4 percent 50 R2 value 0.628\n",
      "month 4 percent 50 R2 value 0.641\n",
      "month 4 percent 50 R2 value 0.648\n",
      "month 4 percent 50 R2 value 0.634\n",
      "month _45 percent 100 R2 value 0.647\n",
      "month _45 percent 100 R2 value 0.643\n",
      "month _45 percent 100 R2 value 0.636\n",
      "month _45 percent 100 R2 value 0.653\n",
      "month _45 percent 100 R2 value 0.655\n",
      "month _45 percent 75 R2 value 0.669\n",
      "month _45 percent 75 R2 value 0.67\n",
      "month _45 percent 75 R2 value 0.675\n",
      "month _45 percent 75 R2 value 0.672\n",
      "month _45 percent 75 R2 value 0.658\n",
      "month _45 percent 50 R2 value 0.688\n",
      "month _45 percent 50 R2 value 0.682\n",
      "month _45 percent 50 R2 value 0.668\n",
      "month _45 percent 50 R2 value 0.689\n",
      "month _45 percent 50 R2 value 0.687\n",
      "month _456 percent 100 R2 value 0.655\n",
      "month _456 percent 100 R2 value 0.66\n",
      "month _456 percent 100 R2 value 0.651\n",
      "month _456 percent 100 R2 value 0.663\n",
      "month _456 percent 100 R2 value 0.629\n",
      "month _456 percent 75 R2 value 0.67\n",
      "month _456 percent 75 R2 value 0.671\n",
      "month _456 percent 75 R2 value 0.661\n",
      "month _456 percent 75 R2 value 0.674\n",
      "month _456 percent 75 R2 value 0.65\n",
      "month _456 percent 50 R2 value 0.691\n",
      "month _456 percent 50 R2 value 0.709\n",
      "month _456 percent 50 R2 value 0.698\n",
      "month _456 percent 50 R2 value 0.705\n",
      "month _456 percent 50 R2 value 0.7\n",
      "month 5 percent 100 R2 value 0.61\n",
      "month 5 percent 100 R2 value 0.617\n",
      "month 5 percent 100 R2 value 0.648\n",
      "month 5 percent 100 R2 value 0.637\n",
      "month 5 percent 100 R2 value 0.623\n",
      "month 5 percent 75 R2 value 0.633\n",
      "month 5 percent 75 R2 value 0.613\n",
      "month 5 percent 75 R2 value 0.632\n",
      "month 5 percent 75 R2 value 0.646\n",
      "month 5 percent 75 R2 value 0.63\n",
      "month 5 percent 50 R2 value 0.647\n",
      "month 5 percent 50 R2 value 0.636\n",
      "month 5 percent 50 R2 value 0.623\n",
      "month 5 percent 50 R2 value 0.641\n",
      "month 5 percent 50 R2 value 0.65\n",
      "month _56 percent 100 R2 value 0.627\n",
      "month _56 percent 100 R2 value 0.615\n",
      "month _56 percent 100 R2 value 0.622\n",
      "month _56 percent 100 R2 value 0.578\n",
      "month _56 percent 100 R2 value 0.616\n",
      "month _56 percent 75 R2 value 0.652\n",
      "month _56 percent 75 R2 value 0.667\n",
      "month _56 percent 75 R2 value 0.658\n",
      "month _56 percent 75 R2 value 0.647\n",
      "month _56 percent 75 R2 value 0.662\n",
      "month _56 percent 50 R2 value 0.644\n",
      "month _56 percent 50 R2 value 0.669\n",
      "month _56 percent 50 R2 value 0.644\n",
      "month _56 percent 50 R2 value 0.653\n",
      "month _56 percent 50 R2 value 0.667\n",
      "month _567 percent 100 R2 value 0.466\n",
      "month _567 percent 100 R2 value 0.536\n",
      "month _567 percent 100 R2 value 0.501\n",
      "month _567 percent 100 R2 value 0.517\n",
      "month _567 percent 100 R2 value 0.51\n",
      "month _567 percent 75 R2 value 0.521\n",
      "month _567 percent 75 R2 value 0.512\n",
      "month _567 percent 75 R2 value 0.534\n",
      "month _567 percent 75 R2 value 0.55\n",
      "month _567 percent 75 R2 value 0.477\n",
      "month _567 percent 50 R2 value 0.533\n",
      "month _567 percent 50 R2 value 0.526\n",
      "month _567 percent 50 R2 value 0.533\n",
      "month _567 percent 50 R2 value 0.537\n",
      "month _567 percent 50 R2 value 0.562\n",
      "month 6 percent 100 R2 value 0.595\n",
      "month 6 percent 100 R2 value 0.609\n",
      "month 6 percent 100 R2 value 0.615\n",
      "month 6 percent 100 R2 value 0.596\n"
     ]
    },
    {
     "name": "stdout",
     "output_type": "stream",
     "text": [
      "month 6 percent 100 R2 value 0.621\n",
      "month 6 percent 75 R2 value 0.657\n",
      "month 6 percent 75 R2 value 0.664\n",
      "month 6 percent 75 R2 value 0.662\n",
      "month 6 percent 75 R2 value 0.671\n",
      "month 6 percent 75 R2 value 0.664\n",
      "month 6 percent 50 R2 value 0.603\n",
      "month 6 percent 50 R2 value 0.616\n",
      "month 6 percent 50 R2 value 0.621\n",
      "month 6 percent 50 R2 value 0.625\n",
      "month 6 percent 50 R2 value 0.628\n",
      "month _67 percent 100 R2 value 0.498\n",
      "month _67 percent 100 R2 value 0.547\n",
      "month _67 percent 100 R2 value 0.503\n",
      "month _67 percent 100 R2 value 0.515\n",
      "month _67 percent 100 R2 value 0.504\n",
      "month _67 percent 75 R2 value 0.516\n",
      "month _67 percent 75 R2 value 0.528\n",
      "month _67 percent 75 R2 value 0.537\n",
      "month _67 percent 75 R2 value 0.517\n",
      "month _67 percent 75 R2 value 0.532\n",
      "month _67 percent 50 R2 value 0.542\n",
      "month _67 percent 50 R2 value 0.572\n",
      "month _67 percent 50 R2 value 0.56\n",
      "month _67 percent 50 R2 value 0.59\n",
      "month _67 percent 50 R2 value 0.542\n",
      "month _678 percent 100 R2 value 0.582\n",
      "month _678 percent 100 R2 value 0.571\n",
      "month _678 percent 100 R2 value 0.574\n",
      "month _678 percent 100 R2 value 0.553\n",
      "month _678 percent 100 R2 value 0.564\n",
      "month _678 percent 75 R2 value 0.595\n",
      "month _678 percent 75 R2 value 0.597\n",
      "month _678 percent 75 R2 value 0.596\n",
      "month _678 percent 75 R2 value 0.578\n",
      "month _678 percent 75 R2 value 0.6\n",
      "month _678 percent 50 R2 value 0.607\n",
      "month _678 percent 50 R2 value 0.61\n",
      "month _678 percent 50 R2 value 0.607\n",
      "month _678 percent 50 R2 value 0.626\n",
      "month _678 percent 50 R2 value 0.624\n",
      "month 12 percent 100 R2 value 0.605\n",
      "month 12 percent 100 R2 value 0.61\n",
      "month 12 percent 100 R2 value 0.61\n",
      "month 12 percent 100 R2 value 0.599\n",
      "month 12 percent 100 R2 value 0.603\n",
      "month 12 percent 75 R2 value 0.603\n",
      "month 12 percent 75 R2 value 0.617\n",
      "month 12 percent 75 R2 value 0.608\n",
      "month 12 percent 75 R2 value 0.595\n",
      "month 12 percent 75 R2 value 0.631\n",
      "month 12 percent 50 R2 value 0.615\n",
      "month 12 percent 50 R2 value 0.58\n",
      "month 12 percent 50 R2 value 0.6\n",
      "month 12 percent 50 R2 value 0.585\n",
      "month 12 percent 50 R2 value 0.586\n",
      "month _1236 percent 100 R2 value 0.679\n",
      "month _1236 percent 100 R2 value 0.676\n",
      "month _1236 percent 100 R2 value 0.678\n",
      "month _1236 percent 100 R2 value 0.654\n",
      "month _1236 percent 100 R2 value 0.678\n",
      "month _1236 percent 75 R2 value 0.69\n",
      "month _1236 percent 75 R2 value 0.69\n",
      "month _1236 percent 75 R2 value 0.695\n",
      "month _1236 percent 75 R2 value 0.679\n",
      "month _1236 percent 75 R2 value 0.691\n",
      "month _1236 percent 50 R2 value 0.698\n",
      "month _1236 percent 50 R2 value 0.687\n",
      "month _1236 percent 50 R2 value 0.685\n",
      "month _1236 percent 50 R2 value 0.691\n",
      "month _1236 percent 50 R2 value 0.7\n",
      "month _123456 percent 100 R2 value 0.687\n",
      "month _123456 percent 100 R2 value 0.672\n",
      "month _123456 percent 100 R2 value 0.692\n",
      "month _123456 percent 100 R2 value 0.681\n",
      "month _123456 percent 100 R2 value 0.7\n",
      "month _123456 percent 75 R2 value 0.69\n",
      "month _123456 percent 75 R2 value 0.698\n",
      "month _123456 percent 75 R2 value 0.694\n",
      "month _123456 percent 75 R2 value 0.697\n",
      "month _123456 percent 75 R2 value 0.714\n",
      "month _123456 percent 50 R2 value 0.713\n",
      "month _123456 percent 50 R2 value 0.73\n",
      "month _123456 percent 50 R2 value 0.712\n",
      "month _123456 percent 50 R2 value 0.711\n",
      "month _123456 percent 50 R2 value 0.707\n",
      "month _1236_12 percent 100 R2 value 0.665\n",
      "month _1236_12 percent 100 R2 value 0.68\n",
      "month _1236_12 percent 100 R2 value 0.681\n",
      "month _1236_12 percent 100 R2 value 0.686\n",
      "month _1236_12 percent 100 R2 value 0.681\n",
      "month _1236_12 percent 75 R2 value 0.683\n",
      "month _1236_12 percent 75 R2 value 0.672\n",
      "month _1236_12 percent 75 R2 value 0.675\n",
      "month _1236_12 percent 75 R2 value 0.692\n",
      "month _1236_12 percent 75 R2 value 0.68\n",
      "month _1236_12 percent 50 R2 value 0.699\n",
      "month _1236_12 percent 50 R2 value 0.696\n",
      "month _1236_12 percent 50 R2 value 0.694\n",
      "month _1236_12 percent 50 R2 value 0.694\n",
      "month _1236_12 percent 50 R2 value 0.705\n"
     ]
    },
    {
     "data": {
      "image/png": "[encoded data removed]",
      "text/plain": [
       "<matplotlib.figure.Figure at 0x27c36ffbeb8>"
      ]
     },
     "metadata": {},
     "output_type": "display_data"
    }
   ],
   "source": [
    "os.chdir('C:/Users/murat.ozemre/Desktop/Thesis_Project/Data_Sources_and_Preparation')\n",
    "#MonthSeries_option=[\"1\",\"12\"]\n",
    "#MonthSeries_option=[\"1\",'_12','_123','_1236','_1236_12',\"2\",\"3\",\"6\",\"12\",'_12']\n",
    "MonthSeries_option=[\"1\",'_12','_123',\"2\",'_23','_234',\"3\",'_34','_345',\"4\",'_45','_456',\"5\",'_56','_567',\"6\",'_67','_678',\n",
    "                    \"12\",'_1236','_123456','_1236_12',]\n",
    "\n",
    "results_level1 = pd.DataFrame()\n",
    "results_level2 = pd.DataFrame()\n",
    "feature_results_level1 = pd.DataFrame()\n",
    "Percent_option=[100,75,50]\n",
    "\n",
    "number_of_split=5\n",
    " \n",
    "\n",
    "random_state_options=np.random.randint(1,100,size=number_of_split)\n",
    "\n",
    "\n",
    "    \n",
    "for month in MonthSeries_option:\n",
    "\n",
    "#    MonthSeries=month\n",
    "\n",
    "    Data_Core1 = pd.ExcelFile('Data_{}_{}_{}.xlsx'.format(Exp_Country,Imp_Country,Product))\n",
    "    y = Data_Core1.parse('Y', header=0,index_col=None, na_values=['NA'])['{}_{}_{}'.format(Exp_Country,Imp_Country,Product)]\n",
    "    Z = Data_Core1.parse('Y', header=0,index_col=None, na_values=['NA'])[['Date','Year','Month']]\n",
    "\n",
    "    X = Data_Core1.parse('X{}'.format(month), header=0,index_col=None, na_values=['NA'])\n",
    "    X.drop(['Date','Year','Month'], axis=1, inplace=True)\n",
    "    X_Column_Names=list(X.columns.values)\n",
    "    n_feature=X.shape[1]\n",
    "\n",
    "    #Get Feature Importance\n",
    "    number_of_split_for_feature=100\n",
    "    feature_result=exp.get_feature_importance_result (X,dependent_variable,Z,n_feature,number_of_split_for_feature)\n",
    "    scored_feature_indices=feature_result[0]\n",
    "    feature_score=feature_result[1]\n",
    "    \n",
    "    # Record feature importances\n",
    "    feature_results_level1[str(month)]=feature_result\n",
    "    \n",
    "    # Implement Feature Importance to each month variance    \n",
    "    for percent in Percent_option:\n",
    "    \n",
    "        percentile=100-percent\n",
    "        threshold_for_feature_selection=np.percentile(feature_score[scored_feature_indices], percentile)\n",
    "        X_threshold=X.iloc[:,scored_feature_indices[feature_score[scored_feature_indices]>threshold_for_feature_selection]]\n",
    "    \n",
    "        R2result=[]\n",
    "        for turn in range(number_of_split):\n",
    "            random=random_state_options[turn]\n",
    "            \n",
    "            Scaled_Train_Test_Split=exp.X_Y_scaler_train_test_Split(X_threshold,dependent_variable,Z,random=random)\n",
    "\n",
    "            X_train = Scaled_Train_Test_Split[0]\n",
    "            X_test = Scaled_Train_Test_Split[1]\n",
    "            y_train = Scaled_Train_Test_Split[2]\n",
    "            y_test = Scaled_Train_Test_Split[3]\n",
    "            scaler_X = Scaled_Train_Test_Split[4]  \n",
    "            scaler_y = Scaled_Train_Test_Split[5]\n",
    "            scaled_value_X=Scaled_Train_Test_Split[6]\n",
    "            scaled_value_y=Scaled_Train_Test_Split[7]\n",
    "\n",
    "            # Random Foest Regressor model\n",
    "            rfc=RandomForestRegressor(n_estimators=300)\n",
    "\n",
    "            # Random Foest Regressor model train\n",
    "            RandomForestRegressor.fit(rfc,X_train,y_train)\n",
    "\n",
    "            # Random Foest Regressor mode predict\n",
    "            y_predict_test = rfc.predict(X_test)\n",
    "\n",
    "            # Compare predicted Y and real Y \n",
    "            R2=exp.inverse_scale_and_graph_Y_predict_and_test(y_predict_test,y_test,scaler_y,'YES')[2]\n",
    "            print ('month',month,'percent',percent,'R2 value',R2)\n",
    "            R2result.append(R2)\n",
    "        \n",
    "        results_level1[str(percent)]=R2result\n",
    "        results_level1['month']=month\n",
    "    \n",
    "    results_level2=pd.concat([results_level2,results_level1])\n",
    "\n",
    "results_level2.set_index(['month'],inplace=True)\n",
    "\n"
   ]
  },
  {
   "cell_type": "code",
   "execution_count": 123,
   "metadata": {
    "collapsed": true
   },
   "outputs": [],
   "source": [
    "os.chdir('C:/Users/murat.ozemre/Desktop/Thesis_Project/Data_Learning_Prediction')\n",
    "\n",
    "# Read from Excel Tuning paremeters\n",
    "\n",
    "#abc = pd.ExcelFile('FeatureSelection.xlsx')\n",
    "#abcd = abc.parse('{}_{}_{}'.format(841810,Exp_Country,Imp_Country), header=0,index_col=None, na_values=['NA'])\n",
    "\n",
    "\n",
    "# Write to Excel this and previous Tuning paremeters\n",
    "writer = pd.ExcelWriter('FeatureSelection_{}_{}_{}_{}.xlsx'.format(Exp_Country,Imp_Country,Product,dependent_variable_type))\n",
    "results_level2.to_excel(writer,'Results')\n",
    "feature_results_level1.to_excel(writer,'Importances')\n",
    "\n",
    "writer.save()"
   ]
  },
  {
   "cell_type": "markdown",
   "metadata": {},
   "source": [
    "# For Combination of Month and Feature with Multiple Runs End"
   ]
  },
  {
   "cell_type": "code",
   "execution_count": null,
   "metadata": {
    "collapsed": true
   },
   "outputs": [],
   "source": [
    "#Read feature importances from Feature Selection excels\n",
    "\n",
    "feature_results_from_excel = pd.ExcelFile('FeatureSelection_{}_{}_{}.xlsx'.format(Exp_Country,Imp_Country,Product))\n",
    "feature_results = feature_results_from_excel.parse('Importances', header=0,index_col=None, na_values=['NA'])\n",
    "scored_feature_indices=feature_results[str(month)][0]\n",
    "feature_score=feature_results[str(month)][1]"
   ]
  },
  {
   "cell_type": "code",
   "execution_count": null,
   "metadata": {
    "collapsed": true
   },
   "outputs": [],
   "source": [
    "results_level2.loc['1'].boxplot()"
   ]
  },
  {
   "cell_type": "code",
   "execution_count": null,
   "metadata": {
    "collapsed": true
   },
   "outputs": [],
   "source": [
    "feature_results_level1['1'][0]"
   ]
  },
  {
   "cell_type": "code",
   "execution_count": null,
   "metadata": {
    "collapsed": true
   },
   "outputs": [],
   "source": [
    "feature_results_level1['1'][1]"
   ]
  },
  {
   "cell_type": "code",
   "execution_count": null,
   "metadata": {
    "collapsed": true
   },
   "outputs": [],
   "source": [
    "results_level2.loc['12'].boxplot()\n"
   ]
  },
  {
   "cell_type": "code",
   "execution_count": null,
   "metadata": {
    "collapsed": true
   },
   "outputs": [],
   "source": [
    "results = DataFrame()\n",
    "results_exp = DataFrame()\n",
    "\n",
    "results_exp[str(slv)] =\n",
    "results=pd.concat([results,results_exp])\n"
   ]
  },
  {
   "cell_type": "code",
   "execution_count": null,
   "metadata": {
    "collapsed": true,
    "scrolled": false
   },
   "outputs": [],
   "source": [
    "# 1 Version for Feature selection\n",
    "# Internetten bulunan kod blogu\n",
    "# Random Forest'a gore Feature Importance Hesaplama\n",
    "# Butun veri setinin girildiği ona göre önemli olan özelliklerin bulundugu kod parçası\n",
    "\n",
    "ScalerType = Scalertype=Scaler_Type_Options[0]\n",
    "n_sample=len(X)\n",
    "\n",
    "rfc=RandomForestRegressor(n_estimators=3000)\n",
    "RandomForestRegressor.fit(rfc,scaled_value_X,scaled_value_y)\n",
    "\n",
    "\n",
    "predictions = rfc.predict(X_test)\n",
    "print('MAE',int(metrics.mean_absolute_error(y_test, predictions)),\n",
    "      'MSE',int(sqrt(metrics.mean_squared_error(y_test, predictions))),\n",
    "      'R2',int(1000*(metrics.r2_score(y_test, predictions)))/1000\n",
    "     )\n",
    "\n",
    "\n",
    "importances = rfc.feature_importances_\n",
    "std = np.std([tree.feature_importances_ for tree in rfc.estimators_],axis=0)\n",
    "\n",
    "indices = np.argsort(importances)[::-1]\n",
    "\n",
    "\n",
    "# Print the feature ranking\n",
    "print(\"Feature ranking:\")\n",
    "\n",
    "for f in range(n_feature):\n",
    "    print(\"%d. feature %s %d (%f) %f\" % (f+1, X_Column_Names[indices[f]], indices[f], importances[indices[f]],std[indices[f]]))\n",
    "\n",
    "# Plot the feature importances of the forest\n",
    "plt.figure()\n",
    "plt.title(\"{} and -{} Month Feature Importances and Standart Deviation of Features with 3000 Different Estimations\".format(Product,MonthSeries))\n",
    "plt.bar(range(n_feature), importances[indices],\n",
    "       color=\"r\", yerr=std[indices], align=\"center\")\n",
    "plt.xticks(range(n_feature), indices,rotation=90)\n",
    "plt.xlim([-1, n_feature])\n",
    "\n",
    "fig_size = plt.rcParams[\"figure.figsize\"]\n",
    "fig_size[0] = 15\n",
    "fig_size[1] = 10\n",
    "plt.rcParams[\"figure.figsize\"] = fig_size\n",
    "plt.savefig(\"Plots_Feature_Selection/{} and -{} Month Feature Importances and Standart Deviation of Features with 3000 Different Estimations.png\".format(Product,MonthSeries), format='png', dpi=300)\n",
    "\n",
    "plt.show()"
   ]
  },
  {
   "cell_type": "code",
   "execution_count": null,
   "metadata": {
    "collapsed": true,
    "scrolled": true
   },
   "outputs": [],
   "source": [
    "#  2 Version for Feature selection \n",
    "# Internetten bulunan kod blogu http://scikit-learn.org/stable/auto_examples/ensemble/plot_forest_importances.html\n",
    "# Feature Importance Hesaplama\n",
    "# Burada asıl özellik bir veri seti yaratılıyor make_regression ile. Ve oaradakilere dogru çalışıp çalışmadığı test ediliyor.\n",
    "# Butun veri setinin girildiği ona göre önemli olan özelliklerin bulundugu kod parçası\n",
    "\n",
    "from sklearn.datasets import make_regression\n",
    "\n",
    "\n",
    "n_sample=len(X)\n",
    "\n",
    "number_of_split=100\n",
    "number_of_row=29\n",
    "\n",
    "random_state_options = np.arange(0,number_of_split)\n",
    "y_predict= np.ones((number_of_row, number_of_split))\n",
    "\n",
    "feature_indices = np.ones((n_feature, number_of_split))\n",
    "feature_importances=np.ones((n_feature, number_of_split))\n",
    "feature_indices_score=np.ones((n_feature))\n",
    "feature_importances_score=np.ones((n_feature))\n",
    "j=0\n",
    "\n",
    "\n",
    "# For different split sets Random Forest Regressor runs.\n",
    "\n",
    "for random_state_i in random_state_options:\n",
    "\n",
    "    X_train, X_test, y_train, y_test = train_test_split(scaled_value_X,scaled_value_y,test_size=0.2,random_state=random_state_i,stratify=Z['Month'])\n",
    "\n",
    "    \n",
    "\n",
    "    rfc=RandomForestRegressor(n_estimators=30)\n",
    "    RandomForestRegressor.fit(rfc,X_train,y_train)\n",
    "\n",
    "    y_predict[:,j] = rfc.predict(X_test)\n",
    "    \n",
    "    result=exp.inverse_scale_and_graph_Y_predict_and_test (y_predict[:,j],y_test,scaler_y,'NO')\n",
    "    \n",
    "    importances = rfc.feature_importances_\n",
    "    std = np.std([tree.feature_importances_ for tree in rfc.estimators_],axis=0)\n",
    "\n",
    "    indices = np.argsort(importances)[::-1]\n",
    "    feature_indices[:,j]=indices\n",
    "    feature_importances[:,j]=importances\n",
    "    j=j+1\n",
    "    \n",
    "\n",
    "print (\"Features scores:\")    \n",
    "for i in range(n_feature):\n",
    "    feature_indices_score[i]=0\n",
    "    feature_importances_score[i]=0\n",
    "    for j in range(number_of_split):\n",
    "        \n",
    "        indice_coeff=feature_indices[i,j]\n",
    "        importances_coeff=feature_importances[i,j]\n",
    "        \n",
    "        feature_indices_score[i]=feature_indices_score[i]+(indice_coeff)\n",
    "        feature_importances_score[i]=feature_importances_score[i]+(importances_coeff)\n",
    "        \n",
    "#        print('feat=',i,'#ofsplit=',j,'tot_indice',feature_indices_score[i],\n",
    "#              'indice=',indice_coeff,'tot_importan=',feature_importances_score[i],'importan',importances_coeff )\n",
    "\n",
    "    print( i,X_Column_Names[i])#,feature_indices_score[i],'number_of_split',j+1) #,X_Column_Names[feature_indices[i,j]])\n",
    "    \n",
    "scored_feature_indices = np.argsort(feature_indices_score)\n",
    "scored_feature_importances = np.argsort(feature_importances_score)\n",
    "    \n",
    " \n",
    "    \n",
    "    \n",
    "# Plot the feature importances of the forest\n",
    "plt.gcf().clear()\n",
    "plt.figure()\n",
    "plt.title(\"{} and -{} Month Cumulative Feature Importances with {} Different Splits.png\".format(Product,MonthSeries,number_of_split))\n",
    "plt.bar(range(n_feature), feature_importances_score[scored_feature_importances][::-1],\n",
    "       color=\"r\",  align=\"center\")\n",
    "plt.xticks(range(n_feature), scored_feature_importances[::-1],rotation=90)\n",
    "plt.xlim([-1, n_feature])\n",
    "\n",
    "fig_size = plt.rcParams[\"figure.figsize\"]\n",
    "fig_size[0] = 20\n",
    "fig_size[1] = 12\n",
    "plt.rcParams[\"figure.figsize\"] = fig_size\n",
    "plt.savefig(\"Plots_Feature_Selection/{} and -{} Month Cumulative Feature Importances with {} Different Splits.png\".format(Product,MonthSeries,number_of_split), format='png', dpi=300)\n",
    "\n",
    "plt.show()"
   ]
  }
 ],
 "metadata": {
  "kernelspec": {
   "display_name": "Python 3",
   "language": "python",
   "name": "python3"
  },
  "language_info": {
   "codemirror_mode": {
    "name": "ipython",
    "version": 3
   },
   "file_extension": ".py",
   "mimetype": "text/x-python",
   "name": "python",
   "nbconvert_exporter": "python",
   "pygments_lexer": "ipython3",
   "version": "3.6.2"
  }
 },
 "nbformat": 4,
 "nbformat_minor": 2
}
