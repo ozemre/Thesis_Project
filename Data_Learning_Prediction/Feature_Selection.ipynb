{
 "cells": [
  {
   "cell_type": "code",
   "execution_count": 85,
   "metadata": {
    "collapsed": true
   },
   "outputs": [],
   "source": [
    "from scipy.stats.stats import pearsonr"
   ]
  },
  {
   "cell_type": "code",
   "execution_count": 86,
   "metadata": {
    "collapsed": true
   },
   "outputs": [],
   "source": [
    "from __future__ import absolute_import\n",
    "from __future__ import division\n",
    "from __future__ import print_function\n",
    "\n",
    "import numpy as np\n",
    "import pandas as pd\n",
    "from time import time\n",
    "import matplotlib.pyplot as plt\n",
    "#from sklearn.cross_validation import train_test_split\n",
    "import seaborn as sns\n",
    "%matplotlib inline\n",
    "\n",
    "\n",
    "import sys\n",
    "import warnings\n",
    "\n",
    "if not sys.warnoptions:\n",
    "    warnings.simplefilter(\"ignore\")"
   ]
  },
  {
   "cell_type": "code",
   "execution_count": 87,
   "metadata": {
    "collapsed": true
   },
   "outputs": [],
   "source": [
    "from sklearn.model_selection import train_test_split"
   ]
  },
  {
   "cell_type": "code",
   "execution_count": 128,
   "metadata": {
    "collapsed": true
   },
   "outputs": [],
   "source": [
    "import Experiment_Ready as experim\n"
   ]
  },
  {
   "cell_type": "code",
   "execution_count": 129,
   "metadata": {
    "collapsed": true
   },
   "outputs": [],
   "source": [
    "\n",
    "import os\n",
    "import sys\n",
    "os.chdir('C:/Users/murat.ozemre/Desktop/Thesis_Project/Data_Sources_and_Preparation')\n",
    "#os.chdir('C:/Users/murat.ozemre/Documents/MOZEMRE-OZEL/Doktora/2017 Tez/Veri Analizi/Ver 3 Tez Izleme Calısmaları')"
   ]
  },
  {
   "cell_type": "code",
   "execution_count": 130,
   "metadata": {},
   "outputs": [
    {
     "data": {
      "text/plain": [
       "'03-04 11:20'"
      ]
     },
     "execution_count": 130,
     "metadata": {},
     "output_type": "execute_result"
    }
   ],
   "source": [
    "from sklearn import metrics\n",
    "import statsmodels\n",
    "from math import sqrt\n",
    "from math import log\n",
    "from sklearn.ensemble import RandomForestRegressor\n",
    "from datetime import datetime\n",
    "datetime.now().strftime('%m-%d %H:%M')"
   ]
  },
  {
   "cell_type": "code",
   "execution_count": 131,
   "metadata": {
    "collapsed": true
   },
   "outputs": [],
   "source": [
    "from sklearn.preprocessing import MinMaxScaler\n",
    "from sklearn.preprocessing import minmax_scale\n",
    "from sklearn.preprocessing import MaxAbsScaler\n",
    "from sklearn.preprocessing import StandardScaler\n",
    "from sklearn.preprocessing import RobustScaler\n",
    "from sklearn.preprocessing import Normalizer"
   ]
  },
  {
   "cell_type": "code",
   "execution_count": 132,
   "metadata": {
    "collapsed": true
   },
   "outputs": [],
   "source": [
    "Product_Type_Options = [841810,841840,841850]\n",
    "\n",
    "Product=Product_Type_Options[2] #841810\n",
    "Exp_Country='CHN' # 'CHN'\n",
    "Imp_Country='GBR'\n",
    "\n",
    "if Exp_Country=='CHN':\n",
    "    Currency='CNY'\n",
    "    EXP0='TUR'   \n",
    "elif Exp_Country=='TUR':\n",
    "    Currency='TRY'\n",
    "    EXP0='CHN'   "
   ]
  },
  {
   "cell_type": "code",
   "execution_count": 133,
   "metadata": {
    "collapsed": true
   },
   "outputs": [],
   "source": [
    "MonthSeries=\"3\"\n",
    "MonthSeries_option=[\"1\",\"2\",\"3\",\"6\",\"12\"]    "
   ]
  },
  {
   "cell_type": "markdown",
   "metadata": {},
   "source": [
    "# For Single Combination of Month  and Feature"
   ]
  },
  {
   "cell_type": "code",
   "execution_count": 134,
   "metadata": {
    "collapsed": true
   },
   "outputs": [],
   "source": [
    "Data_Core1 = pd.ExcelFile('Data_{}_{}_{}.xlsx'.format(Exp_Country,Imp_Country,Product))\n",
    "y = Data_Core1.parse('Y', header=0,index_col=None, na_values=['NA'])['{}_{}_{}'.format(Exp_Country,Imp_Country,Product)]\n",
    "Z = Data_Core1.parse('Y', header=0,index_col=None, na_values=['NA'])[['Date','Year','Month']]\n",
    "\n",
    "X = Data_Core1.parse('X{}'.format(MonthSeries), header=0,index_col=None, na_values=['NA'])\n",
    "X.drop(['Date','Year','Month'], axis=1, inplace=True)\n",
    "X_Column_Names=list(X.columns.values)\n",
    "n_feature=X.shape[1]\n",
    "\n",
    "Xhat = Data_Core1.parse('Xhat', header=0,index_col=None, na_values=['NA'])\n",
    "Xhat.drop(['Date','Year','Month'], axis=1, inplace=True)\n",
    "\n",
    "dependent_variable_type='sqrt'\n",
    "\n",
    "if dependent_variable_type=='same':\n",
    "    dependent_variable=y\n",
    "elif dependent_variable_type=='log':\n",
    "    dependent_variable=y.apply(np.log)\n",
    "elif dependent_variable_type=='sqrt':\n",
    "    dependent_variable=y.apply(np.sqrt)"
   ]
  },
  {
   "cell_type": "code",
   "execution_count": null,
   "metadata": {
    "collapsed": true
   },
   "outputs": [],
   "source": []
  },
  {
   "cell_type": "code",
   "execution_count": 135,
   "metadata": {
    "collapsed": true
   },
   "outputs": [],
   "source": [
    "Scaled_Train_Test_Split=experim.X_Y_scaler_train_test_Split(X,dependent_variable,Z)\n",
    "\n",
    "X_train = Scaled_Train_Test_Split[0]\n",
    "X_test = Scaled_Train_Test_Split[1]\n",
    "y_train = Scaled_Train_Test_Split[2]\n",
    "y_test = Scaled_Train_Test_Split[3]\n",
    "scaler_X = Scaled_Train_Test_Split[4]  \n",
    "scaler_y = Scaled_Train_Test_Split[5]\n",
    "scaled_value_X=Scaled_Train_Test_Split[6]\n",
    "scaled_value_y=Scaled_Train_Test_Split[7]"
   ]
  },
  {
   "cell_type": "code",
   "execution_count": 136,
   "metadata": {
    "scrolled": true
   },
   "outputs": [
    {
     "data": {
      "text/plain": [
       "(5,\n",
       " 6,\n",
       " 0.836,\n",
       " 0.821,\n",
       " [1148.0000122799183,\n",
       "  1621.999783687818,\n",
       "  2130.9998404315747,\n",
       "  1737.9999360536215,\n",
       "  1200.0000415181776,\n",
       "  1082.0000522715218,\n",
       "  4226.999599763715,\n",
       "  1533.0002180078357,\n",
       "  2155.9998215542487,\n",
       "  609.0000100042694,\n",
       "  4122.000417946332,\n",
       "  3274.000283331219,\n",
       "  3779.0005880395015,\n",
       "  3853.0003031990154,\n",
       "  3150.0001440647884,\n",
       "  3911.9999301487765,\n",
       "  556.9999635832309,\n",
       "  3735.0000676466484,\n",
       "  1469.0002107988205,\n",
       "  1754.0000714672735,\n",
       "  3285.000193845262,\n",
       "  3683.000353837319,\n",
       "  2391.999938161201,\n",
       "  3282.0002271870508,\n",
       "  4837.000114365623,\n",
       "  1426.0001165996086,\n",
       "  2056.999821213607,\n",
       "  1050.9998824108084,\n",
       "  1778.9997781291622],\n",
       " [791.000036091962,\n",
       "  1337.000066699711,\n",
       "  2066.000134856166,\n",
       "  1856.999837800169,\n",
       "  1573.0001061422092,\n",
       "  1391.9999752159847,\n",
       "  5063.00021357853,\n",
       "  1253.9999938008903,\n",
       "  2624.0001373766127,\n",
       "  456.00001552928177,\n",
       "  3770.000345113588,\n",
       "  2900.9997791296887,\n",
       "  3141.000248460542,\n",
       "  3291.0000487317216,\n",
       "  3141.000248460542,\n",
       "  2313.000083815534,\n",
       "  403.999992437067,\n",
       "  3291.0000487317216,\n",
       "  1727.9998573862595,\n",
       "  1391.9999752159847,\n",
       "  2313.000083815534,\n",
       "  2964.0003694481056,\n",
       "  1599.0001883828663,\n",
       "  2629.000144974315,\n",
       "  4217.999876487393,\n",
       "  764.000057578348,\n",
       "  1083.9999635503395,\n",
       "  992.9999980244976,\n",
       "  2264.000016935663])"
      ]
     },
     "execution_count": 136,
     "metadata": {},
     "output_type": "execute_result"
    },
    {
     "data": {
      "image/png": "[encoded data removed]",
      "text/plain": [
       "<matplotlib.figure.Figure at 0x1367e0e2390>"
      ]
     },
     "metadata": {},
     "output_type": "display_data"
    }
   ],
   "source": [
    "from sklearn.tree import DecisionTreeRegressor\n",
    "\n",
    "# Decison tree regressor model\n",
    "dt = DecisionTreeRegressor()\n",
    "\n",
    "# Decison tree regressor model train\n",
    "DecisionTreeRegressor.fit(dt,X_train,y_train)\n",
    "\n",
    "# Decison tree regressor model predict\n",
    "y_predict_test = dt.predict(X_test)\n",
    "\n",
    "# Compare predicted Y and real Y \n",
    "experim.inverse_scale_and_graph_Y_predict_and_test(y_predict_test,y_test,scaler_y,'YES',dependent_variable_type)\n"
   ]
  },
  {
   "cell_type": "code",
   "execution_count": 137,
   "metadata": {
    "scrolled": true
   },
   "outputs": [
    {
     "data": {
      "text/plain": [
       "0.896"
      ]
     },
     "execution_count": 137,
     "metadata": {},
     "output_type": "execute_result"
    },
    {
     "data": {
      "image/png": "[encoded data removed]",
      "text/plain": [
       "<matplotlib.figure.Figure at 0x1367f62ca20>"
      ]
     },
     "metadata": {},
     "output_type": "display_data"
    }
   ],
   "source": [
    "# Random Foest Regressor model\n",
    "rfc=RandomForestRegressor(n_estimators=3000)\n",
    "\n",
    "# Random Foest Regressor model train\n",
    "RandomForestRegressor.fit(rfc,X_train,y_train)\n",
    "\n",
    "# Random Foest Regressor mode predict\n",
    "y_predict_test = rfc.predict(X_test)\n",
    "\n",
    "# Compare predicted Y and real Y \n",
    "experim.inverse_scale_and_graph_Y_predict_and_test(y_predict_test,y_test,scaler_y,'YES',dependent_variable_type)[3]"
   ]
  },
  {
   "cell_type": "code",
   "execution_count": 138,
   "metadata": {},
   "outputs": [
    {
     "data": {
      "text/plain": [
       "array([0.13917157, 0.03839826, 0.10031445, 0.00773245, 0.02366206,\n",
       "       0.01516968, 0.01331739, 0.01432511, 0.01185758, 0.01297377,\n",
       "       0.00741802, 0.01004846, 0.00801461, 0.03463791, 0.00901858,\n",
       "       0.02690017, 0.01149724, 0.00849531, 0.01233349, 0.05016119,\n",
       "       0.00758353, 0.01279632, 0.00600266, 0.10953057, 0.23717965,\n",
       "       0.01356644, 0.0135231 , 0.04437045])"
      ]
     },
     "execution_count": 138,
     "metadata": {},
     "output_type": "execute_result"
    }
   ],
   "source": [
    "rfc.feature_importances_"
   ]
  },
  {
   "cell_type": "markdown",
   "metadata": {},
   "source": [
    "# For single combination calling Feature Selection Functions"
   ]
  },
  {
   "cell_type": "code",
   "execution_count": 139,
   "metadata": {
    "scrolled": true
   },
   "outputs": [
    {
     "name": "stdout",
     "output_type": "stream",
     "text": [
      "Features scores:\n",
      "1. important feature CPI_GBR-3 (original rank 24)\n",
      "2. important feature CPI_CHN-3 (original rank 23)\n",
      "3. important feature CHN_USA_841850-3 (original rank 2)\n",
      "4. important feature World-3 (original rank 27)\n",
      "5. important feature CHN_GBR_841850-3 (original rank 0)\n",
      "6. important feature CLI_GBR-3 (original rank 19)\n",
      "7. important feature CLI_CHN-3 (original rank 15)\n",
      "8. important feature CHN_World_841850-3 (original rank 1)\n",
      "9. important feature BCI_CHN-3 (original rank 13)\n",
      "10. important feature CCI_GBR-3 (original rank 18)\n",
      "11. important feature AUT_GBR_841850-3 (original rank 7)\n",
      "12. important feature CHN_ITA_841850-3 (original rank 4)\n",
      "13. important feature GBP-3 (original rank 26)\n",
      "14. important feature CHN_IDN_841850-3 (original rank 5)\n",
      "15. important feature GDP_CHN-3 (original rank 16)\n",
      "16. important feature BCI_GBR-3 (original rank 17)\n",
      "17. important feature ITA_GBR_841850-3 (original rank 9)\n",
      "18. important feature CNY-3 (original rank 25)\n",
      "19. important feature PPI_GBR-3 (original rank 22)\n",
      "20. important feature EPU_GBR-3 (original rank 11)\n",
      "21. important feature TUR_GBR_841850-3 (original rank 6)\n",
      "22. important feature CHZ_GBR_841850-3 (original rank 8)\n",
      "23. important feature EPU_World-3 (original rank 12)\n",
      "24. important feature GDP_GBR-3 (original rank 20)\n",
      "25. important feature CCI_CHN-3 (original rank 14)\n",
      "26. important feature EPU_CHN-3 (original rank 10)\n",
      "27. important feature CHN_AUS_841850-3 (original rank 3)\n",
      "28. important feature PPI_CHN-3 (original rank 21)\n"
     ]
    },
    {
     "data": {
      "text/plain": [
       "<matplotlib.figure.Figure at 0x1367fe0e3c8>"
      ]
     },
     "metadata": {},
     "output_type": "display_data"
    },
    {
     "data": {
      "image/png": "[encoded data removed]",
      "text/plain": [
       "<matplotlib.figure.Figure at 0x1367be08da0>"
      ]
     },
     "metadata": {},
     "output_type": "display_data"
    }
   ],
   "source": [
    "# Main for 3 Version for Train Test Split and Feature selection \n",
    "# http://blog.datadive.net/selecting-good-features-part-iii-random-forests/\n",
    "# Use both RF Importances and R2 Accuracy with different number of splits\n",
    "\n",
    "\n",
    "number_of_split_for_feature=100\n",
    "result=experim.get_feature_importance_result (X,dependent_variable,Z,n_feature,number_of_split_for_feature)\n",
    "scored_feature_indices=result[0]\n",
    "feature_score=result[1]\n",
    "\n",
    "print (\"Features scores:\") \n",
    "\n",
    "for f in range(n_feature):\n",
    "\n",
    "    print(\"%d. important feature %s (original rank %d)\" % (f+1, X_Column_Names[scored_feature_indices[f]], scored_feature_indices[f]))\n",
    "\n",
    "\n",
    "# Plot the feature importances of the forest\n",
    "plt.gcf().clear()\n",
    "plt.figure()\n",
    "plt.title(\"{} and {} Month Cumulative Feature and Score Importances with {} Different Splits\".format(Product,MonthSeries,number_of_split_for_feature))\n",
    "plt.bar(range(n_feature), feature_score[scored_feature_indices],\n",
    "       color=\"r\",  align=\"center\")\n",
    "plt.xticks(range(n_feature), scored_feature_indices,rotation=90)\n",
    "plt.xlim([-1, n_feature])\n",
    "\n",
    "#fig_size = plt.rcParams[\"figure.figsize\"]\n",
    "#fig_size[0] = 20\n",
    "#fig_size[1] = 12\n",
    "#plt.rcParams[\"figure.figsize\"] = fig_size\n",
    "plt.savefig(\"Plots_Feature_Selection/{} and {} Month Cumulative Feature and Score Importances with {} Different Splits.png\".format(Product,MonthSeries,number_of_split_for_feature), format='png', dpi=300)\n",
    "\n",
    "plt.show()\n",
    "\n",
    "    \n",
    "    "
   ]
  },
  {
   "cell_type": "code",
   "execution_count": 140,
   "metadata": {
    "collapsed": true,
    "scrolled": true
   },
   "outputs": [],
   "source": [
    "def prepare_ (Product,Exp_Country,Imp_Country,MonthSeries,scored_feature_indices):\n",
    "    \n",
    "    return Product,Exp_Country,Imp_Country,MonthSeries,scored_feature_indices\n",
    "    \n"
   ]
  },
  {
   "cell_type": "code",
   "execution_count": 141,
   "metadata": {
    "scrolled": true
   },
   "outputs": [
    {
     "data": {
      "text/plain": [
       "(841850,\n",
       " 'CHN',\n",
       " 'GBR',\n",
       " '3',\n",
       " array([24, 23,  2, 27,  0, 19, 15,  1, 13, 18,  7,  4, 26,  5, 16, 17,  9,\n",
       "        25, 22, 11,  6,  8, 12, 20, 14, 10,  3, 21], dtype=int64))"
      ]
     },
     "execution_count": 141,
     "metadata": {},
     "output_type": "execute_result"
    }
   ],
   "source": [
    "prepare_ (Product,Exp_Country,Imp_Country,MonthSeries,scored_feature_indices)\n",
    "    "
   ]
  },
  {
   "cell_type": "code",
   "execution_count": 142,
   "metadata": {
    "scrolled": true
   },
   "outputs": [
    {
     "name": "stdout",
     "output_type": "stream",
     "text": [
      "randomforest rs= 50\n"
     ]
    }
   ],
   "source": [
    "# Calling function by single parameter set \n",
    "a=experim.randomforest(X_train, X_test, y_train, y_test,scaler_y,\n",
    "                   rand=50,is_random_fixed='TRUE',dependenttype=dependent_variable_type,\n",
    "                   est=200,min_leaf=5,feat=10,max_leaf=10,min_weight=0.0,min_impurity=1e-07)"
   ]
  },
  {
   "cell_type": "code",
   "execution_count": 143,
   "metadata": {
    "collapsed": true
   },
   "outputs": [],
   "source": [
    "# By using Ver 3 for Feature Selection results\n",
    "# Percentile variable takes the most important variables according to its feature score and omits the others.\n",
    "# ie.25 percentile takes %75 importance variables and omits %25 least important features\n",
    "percent=25\n",
    "percentile=100-percent\n",
    "threshold_for_feature_selection=np.percentile(feature_score[scored_feature_indices], percentile)\n",
    "X_threshold=X.iloc[:,scored_feature_indices[feature_score[scored_feature_indices]>threshold_for_feature_selection]]\n",
    "\n",
    "# Train Test Split after percentile selection\n",
    "\n",
    "Scaled_Train_Test_Split=experim.X_Y_scaler_train_test_Split(X_threshold,dependent_variable,Z)\n",
    "\n",
    "X_train = Scaled_Train_Test_Split[0]\n",
    "X_test = Scaled_Train_Test_Split[1]\n",
    "y_train = Scaled_Train_Test_Split[2]\n",
    "y_test = Scaled_Train_Test_Split[3]\n",
    "scaler_X = Scaled_Train_Test_Split[4]  \n",
    "scaler_y = Scaled_Train_Test_Split[5]\n",
    "scaled_value_X=Scaled_Train_Test_Split[6]\n",
    "scaled_value_y=Scaled_Train_Test_Split[7]\n"
   ]
  },
  {
   "cell_type": "code",
   "execution_count": 144,
   "metadata": {
    "scrolled": true
   },
   "outputs": [
    {
     "data": {
      "text/plain": [
       "0.889"
      ]
     },
     "execution_count": 144,
     "metadata": {},
     "output_type": "execute_result"
    }
   ],
   "source": [
    "# Random Foest Regressor model\n",
    "rfc=RandomForestRegressor(n_estimators=3000,random_state=50)\n",
    "\n",
    "# Random Foest Regressor model train\n",
    "RandomForestRegressor.fit(rfc,X_train,y_train)\n",
    "\n",
    "# Random Foest Regressor mode predict\n",
    "y_predict_test = rfc.predict(X_test)\n",
    "\n",
    "# Compare predicted Y and real Y \n",
    "experim.inverse_scale_and_graph_Y_predict_and_test(y_predict_test,y_test,scaler_y,'NO',dependent_variable_type)[3]"
   ]
  },
  {
   "cell_type": "code",
   "execution_count": 145,
   "metadata": {
    "scrolled": true
   },
   "outputs": [
    {
     "name": "stdout",
     "output_type": "stream",
     "text": [
      "randomforest rs= 50\n"
     ]
    },
    {
     "data": {
      "text/plain": [
       "((4,\n",
       "  5,\n",
       "  0.91,\n",
       "  0.91,\n",
       "  array([33.88214887, 40.27405845, 46.16275382, 41.6893264 , 34.64101675,\n",
       "         32.8937692 , 65.01537972, 39.15354668, 46.43274514, 24.67792556,\n",
       "         64.20280693, 57.21888048, 61.47357634, 62.07254065, 56.12486209,\n",
       "         62.54598253, 23.60084667, 61.11464692, 38.32753854, 41.88078404,\n",
       "         57.31492121, 60.6877282 , 48.90807641, 57.28874433, 69.54854502,\n",
       "         37.76241672, 45.35415991, 32.41912834, 42.17819079]),\n",
       "  array([33.88656044, 35.73647343, 38.58140405, 37.88240089, 33.54117527,\n",
       "         31.22516223, 57.65147938, 37.10739132, 42.7204726 , 28.83558633,\n",
       "         54.50203937, 59.86724872, 53.63894013, 55.15234217, 51.3046808 ,\n",
       "         54.10543124, 29.22255249, 54.84309448, 40.35504614, 37.27753245,\n",
       "         52.76905936, 63.19771468, 49.7741077 , 47.70173445, 59.59164667,\n",
       "         33.64438886, 41.24511032, 30.68530262, 38.62867461])),\n",
       " (1,\n",
       "  2,\n",
       "  0.957,\n",
       "  0.957,\n",
       "  array([53.86092999, 51.27377639, 31.49602959, 66.95520781, 59.08468782,\n",
       "         48.0936595 , 38.43175917, 39.72404874, 27.40437779, 43.41658677,\n",
       "         57.17517525, 31.92177975, 33.83784719, 27.64055096, 36.56501151,\n",
       "         55.09991025, 46.4219786 , 36.91883154, 57.5152191 , 52.87721846,\n",
       "         31.49602959, 63.49803348, 33.51119306, 49.92994862, 37.97367591,\n",
       "         57.15767733, 41.04875053, 39.03844083, 28.12472286, 38.67815722,\n",
       "         33.03028946, 61.40032854, 38.85871745, 36.53765086, 39.49683449,\n",
       "         41.56921767, 54.34151101, 56.04462729, 54.06477614, 39.9875004 ,\n",
       "         54.48853002, 43.09292097, 45.81484656, 64.94613057, 54.38749858,\n",
       "         31.51190248, 38.79433121, 49.09175279, 51.22499524, 40.42276639,\n",
       "         44.47471161, 50.48762393, 20.09975105, 47.1168741 , 51.32250884,\n",
       "         28.75760879, 55.53377944, 42.74341912, 21.35415687, 58.48076931,\n",
       "         57.21014065, 62.27359323, 35.41186233, 54.44263375, 53.46026727,\n",
       "         55.06359979, 26.75817823, 44.4184657 , 35.98610742, 35.87478111,\n",
       "         46.24932438, 58.62593811, 33.54101863, 39.63584098, 35.99999924,\n",
       "         47.58150919, 44.1814435 , 56.79788975, 36.35931818, 34.72751123,\n",
       "         40.39801673, 38.31448662, 39.52214409, 45.45327419, 37.30951588,\n",
       "         41.56921767, 62.63386162, 40.22437045, 60.64651832, 41.20679475,\n",
       "         61.07372918, 43.15089841, 57.36723846, 62.76942026, 54.79963992,\n",
       "         71.15476241, 38.83297878, 34.51086877, 37.30951588, 63.26926421,\n",
       "         41.7612261 , 46.18441472, 56.19608925, 56.08921503, 39.66106537,\n",
       "         46.15192642, 39.66106537, 40.49691495, 32.92415471, 51.98076523,\n",
       "         45.74931611, 33.57081987, 36.90528359, 40.97560011, 33.76388426]),\n",
       "  array([55.51673048, 50.59810371, 31.92721047, 63.91126153, 60.17165738,\n",
       "         50.41280316, 40.00267334, 38.50184671, 27.11885154, 47.91266983,\n",
       "         55.72183659, 34.48729711, 30.97382439, 31.89057315, 35.26553317,\n",
       "         55.36801639, 47.70937764, 40.13705482, 56.66193463, 52.58307825,\n",
       "         32.1461774 , 59.7492813 , 35.3513327 , 47.18346842, 37.58818408,\n",
       "         57.82607313, 40.38290303, 38.83460147, 30.30039124, 39.74017817,\n",
       "         32.83822836, 56.5355833 , 38.56751338, 35.84367866, 37.65665355,\n",
       "         41.25325896, 53.595064  , 54.936967  , 51.79543884, 44.0789224 ,\n",
       "         53.15701249, 41.15806476, 47.83720242, 61.60078252, 53.5240062 ,\n",
       "         33.02266316, 36.46597117, 51.15374029, 52.26008663, 39.44741177,\n",
       "         42.06585456, 51.46506487, 24.64025233, 46.80793417, 50.96182816,\n",
       "         31.36501931, 54.71829432, 41.30327874, 25.97164465, 57.10942754,\n",
       "         57.34944115, 57.56492451, 36.13608872, 56.24308486, 54.35862959,\n",
       "         55.48964564, 31.82187127, 50.17542997, 37.29037252, 34.81026474,\n",
       "         45.83695193, 57.54017861, 35.95644081, 39.01539805, 35.87501294,\n",
       "         43.74229765, 43.66698449, 56.94210646, 37.131888  , 36.65721606,\n",
       "         39.05092653, 37.77737398, 38.05202943, 44.61210493, 38.13007314,\n",
       "         40.22215205, 59.69826866, 39.01980888, 59.33949911, 40.00542385,\n",
       "         57.09924763, 43.10922045, 55.64608624, 57.39255791, 57.07472328,\n",
       "         64.81844169, 39.20748033, 38.32268076, 35.48456998, 60.30053508,\n",
       "         39.05670334, 45.80245568, 58.01758316, 53.32434453, 38.47269468,\n",
       "         45.58176124, 39.17236435, 47.58963424, 37.36194518, 52.18806717,\n",
       "         44.71567108, 36.84989096, 40.60031119, 39.95554784, 35.6682362 ])))"
      ]
     },
     "execution_count": 145,
     "metadata": {},
     "output_type": "execute_result"
    }
   ],
   "source": [
    "experim.randomforest(X_train, X_test, y_train, y_test,scaler_y,est=3000,rand=50)"
   ]
  },
  {
   "cell_type": "markdown",
   "metadata": {
    "collapsed": true
   },
   "source": [
    "# For Combination of Month and Feature with Multiple Runs Start"
   ]
  },
  {
   "cell_type": "code",
   "execution_count": 148,
   "metadata": {
    "scrolled": true
   },
   "outputs": [
    {
     "name": "stdout",
     "output_type": "stream",
     "text": [
      "month 1 percent 100 R2 value in log 0.904 R2 value with inverse log 0.855\n",
      "month 1 percent 100 R2 value in log 0.904 R2 value with inverse log 0.863\n",
      "month 1 percent 100 R2 value in log 0.904 R2 value with inverse log 0.86\n",
      "month 1 percent 100 R2 value in log 0.904 R2 value with inverse log 0.865\n",
      "month 1 percent 100 R2 value in log 0.904 R2 value with inverse log 0.856\n",
      "month 1 percent 75 R2 value in log 0.904 R2 value with inverse log 0.864\n",
      "month 1 percent 75 R2 value in log 0.904 R2 value with inverse log 0.863\n",
      "month 1 percent 75 R2 value in log 0.904 R2 value with inverse log 0.87\n",
      "month 1 percent 75 R2 value in log 0.904 R2 value with inverse log 0.86\n",
      "month 1 percent 75 R2 value in log 0.904 R2 value with inverse log 0.87\n",
      "month 1 percent 50 R2 value in log 0.904 R2 value with inverse log 0.88\n",
      "month 1 percent 50 R2 value in log 0.904 R2 value with inverse log 0.866\n",
      "month 1 percent 50 R2 value in log 0.904 R2 value with inverse log 0.869\n",
      "month 1 percent 50 R2 value in log 0.904 R2 value with inverse log 0.865\n",
      "month 1 percent 50 R2 value in log 0.904 R2 value with inverse log 0.876\n",
      "month 12 percent 100 R2 value in log 0.904 R2 value with inverse log 0.871\n",
      "month 12 percent 100 R2 value in log 0.904 R2 value with inverse log 0.88\n",
      "month 12 percent 100 R2 value in log 0.904 R2 value with inverse log 0.876\n",
      "month 12 percent 100 R2 value in log 0.904 R2 value with inverse log 0.878\n",
      "month 12 percent 100 R2 value in log 0.904 R2 value with inverse log 0.873\n",
      "month 12 percent 75 R2 value in log 0.904 R2 value with inverse log 0.88\n",
      "month 12 percent 75 R2 value in log 0.904 R2 value with inverse log 0.881\n",
      "month 12 percent 75 R2 value in log 0.904 R2 value with inverse log 0.879\n",
      "month 12 percent 75 R2 value in log 0.904 R2 value with inverse log 0.877\n",
      "month 12 percent 75 R2 value in log 0.904 R2 value with inverse log 0.88\n",
      "month 12 percent 50 R2 value in log 0.904 R2 value with inverse log 0.885\n",
      "month 12 percent 50 R2 value in log 0.904 R2 value with inverse log 0.885\n",
      "month 12 percent 50 R2 value in log 0.904 R2 value with inverse log 0.889\n",
      "month 12 percent 50 R2 value in log 0.904 R2 value with inverse log 0.883\n",
      "month 12 percent 50 R2 value in log 0.904 R2 value with inverse log 0.881\n"
     ]
    },
    {
     "data": {
      "image/png": "[encoded data removed]",
      "text/plain": [
       "<matplotlib.figure.Figure at 0x1367f917898>"
      ]
     },
     "metadata": {},
     "output_type": "display_data"
    }
   ],
   "source": [
    "os.chdir('C:/Users/murat.ozemre/Desktop/Thesis_Project/Data_Sources_and_Preparation')\n",
    "MonthSeries_option=[\"1\",\"12\"]\n",
    "#MonthSeries_option=[\"1\",'_12','_123','_1236','_1236_12',\"2\",\"3\",\"6\",\"12\",'_12']\n",
    "#MonthSeries_option=[\"1\",'_12','_123',\"2\",'_23','_234',\"3\",'_34','_345',\"4\",'_45','_456',\"5\",'_56','_567',\"6\",'_67','_678',\n",
    "#                    \"12\",'_1236','_123456','_1236_12',]\n",
    "\n",
    "results_level1 = pd.DataFrame()\n",
    "results_level2 = pd.DataFrame()\n",
    "feature_results_level1 = pd.DataFrame()\n",
    "Percent_option=[100,75,50]\n",
    "\n",
    "number_of_split=5\n",
    " \n",
    "\n",
    "random_state_options=np.random.randint(1,100,size=number_of_split)\n",
    "\n",
    "\n",
    "    \n",
    "for month in MonthSeries_option:\n",
    "\n",
    "#    MonthSeries=month\n",
    "\n",
    "    Data_Core1 = pd.ExcelFile('Data_{}_{}_{}.xlsx'.format(Exp_Country,Imp_Country,Product))\n",
    "    y = Data_Core1.parse('Y', header=0,index_col=None, na_values=['NA'])['{}_{}_{}'.format(Exp_Country,Imp_Country,Product)]\n",
    "    Z = Data_Core1.parse('Y', header=0,index_col=None, na_values=['NA'])[['Date','Year','Month']]\n",
    "\n",
    "    X = Data_Core1.parse('X{}'.format(month), header=0,index_col=None, na_values=['NA'])\n",
    "    X.drop(['Date','Year','Month'], axis=1, inplace=True)\n",
    "    X_Column_Names=list(X.columns.values)\n",
    "    n_feature=X.shape[1]\n",
    "\n",
    "    #Get Feature Importance\n",
    "    number_of_split_for_feature=100\n",
    "    feature_result=experim.get_feature_importance_result (X,dependent_variable,Z,n_feature,number_of_split_for_feature)\n",
    "    scored_feature_indices=feature_result[0]\n",
    "    feature_score=feature_result[1]\n",
    "    \n",
    "    # Record feature importances\n",
    "    feature_results_level1[str(month)]=feature_result\n",
    "    \n",
    "    # Implement Feature Importance to each month variance    \n",
    "    for percent in Percent_option:\n",
    "    \n",
    "        percentile=100-percent\n",
    "        threshold_for_feature_selection=np.percentile(feature_score[scored_feature_indices], percentile)\n",
    "        X_threshold=X.iloc[:,scored_feature_indices[feature_score[scored_feature_indices]>threshold_for_feature_selection]]\n",
    "    \n",
    "        R2result=[]\n",
    "        Convert_R2result=[]\n",
    "        \n",
    "        for turn in range(number_of_split):\n",
    "            random=random_state_options[turn]\n",
    "            \n",
    "            Scaled_Train_Test_Split=experim.X_Y_scaler_train_test_Split(X_threshold,dependent_variable,Z,random=random)\n",
    "\n",
    "            X_train = Scaled_Train_Test_Split[0]\n",
    "            X_test = Scaled_Train_Test_Split[1]\n",
    "            y_train = Scaled_Train_Test_Split[2]\n",
    "            y_test = Scaled_Train_Test_Split[3]\n",
    "            scaler_X = Scaled_Train_Test_Split[4]  \n",
    "            scaler_y = Scaled_Train_Test_Split[5]\n",
    "            scaled_value_X=Scaled_Train_Test_Split[6]\n",
    "            scaled_value_y=Scaled_Train_Test_Split[7]\n",
    "\n",
    "            # Random Foest Regressor model\n",
    "            rfc=RandomForestRegressor(n_estimators=300)\n",
    "\n",
    "            # Random Foest Regressor model train\n",
    "            RandomForestRegressor.fit(rfc,X_train,y_train)\n",
    "\n",
    "            # Random Foest Regressor mode predict\n",
    "            y_predict_test = rfc.predict(X_test)\n",
    "\n",
    "            # Compare predicted Y and real Y \n",
    "            #R2=experim.inverse_scale_and_graph_Y_predict_and_test(y_predict_test,y_test,scaler_y,'YES',dependent_variable_type)[3]\n",
    "            Converted_R2=experim.inverse_scale_and_graph_Y_predict_and_test(y_predict_test,y_test,scaler_y,'YES',dependent_variable_type)[2]\n",
    "            print ('month',month,'percent',percent,'R2 value in log',R2,'R2 value with inverse log',Converted_R2)\n",
    "            #R2result.append(R2)\n",
    "            Convert_R2result.append(Converted_R2)\n",
    "        \n",
    "        #results_level1[str(percent)]=R2result\n",
    "        results_level1[str(percent)]=Convert_R2result\n",
    "        results_level1['month']=month\n",
    "    \n",
    "    results_level2=pd.concat([results_level2,results_level1])\n",
    "\n",
    "results_level2.set_index(['month'],inplace=True)\n",
    "\n"
   ]
  },
  {
   "cell_type": "code",
   "execution_count": 147,
   "metadata": {
    "collapsed": true
   },
   "outputs": [],
   "source": [
    "os.chdir('C:/Users/murat.ozemre/Desktop/Thesis_Project/Data_Learning_Prediction')\n",
    "\n",
    "# Read from Excel Tuning paremeters\n",
    "\n",
    "#abc = pd.ExcelFile('FeatureSelection.xlsx')\n",
    "#abcd = abc.parse('{}_{}_{}'.format(841810,Exp_Country,Imp_Country), header=0,index_col=None, na_values=['NA'])\n",
    "\n",
    "\n",
    "# Write to Excel this and previous Tuning paremeters\n",
    "writer = pd.ExcelWriter('FeatureSelection_{}_{}_{}_{}.xlsx'.format(Exp_Country,Imp_Country,Product,dependent_variable_type))\n",
    "results_level2.to_excel(writer,'Results')\n",
    "feature_results_level1.to_excel(writer,'Importances')\n",
    "\n",
    "writer.save()"
   ]
  },
  {
   "cell_type": "markdown",
   "metadata": {},
   "source": [
    "# For Combination of Month and Feature with Multiple Runs End"
   ]
  },
  {
   "cell_type": "code",
   "execution_count": 108,
   "metadata": {},
   "outputs": [
    {
     "ename": "FileNotFoundError",
     "evalue": "[Errno 2] No such file or directory: 'FeatureSelection_CHN_GBR_841850.xlsx'",
     "output_type": "error",
     "traceback": [
      "\u001b[1;31m---------------------------------------------------------------------------\u001b[0m",
      "\u001b[1;31mFileNotFoundError\u001b[0m                         Traceback (most recent call last)",
      "\u001b[1;32m<ipython-input-108-209759840e0d>\u001b[0m in \u001b[0;36m<module>\u001b[1;34m()\u001b[0m\n\u001b[0;32m      1\u001b[0m \u001b[1;31m#Read feature importances from Feature Selection excels\u001b[0m\u001b[1;33m\u001b[0m\u001b[1;33m\u001b[0m\u001b[0m\n\u001b[0;32m      2\u001b[0m \u001b[1;33m\u001b[0m\u001b[0m\n\u001b[1;32m----> 3\u001b[1;33m \u001b[0mfeature_results_from_excel\u001b[0m \u001b[1;33m=\u001b[0m \u001b[0mpd\u001b[0m\u001b[1;33m.\u001b[0m\u001b[0mExcelFile\u001b[0m\u001b[1;33m(\u001b[0m\u001b[1;34m'FeatureSelection_{}_{}_{}.xlsx'\u001b[0m\u001b[1;33m.\u001b[0m\u001b[0mformat\u001b[0m\u001b[1;33m(\u001b[0m\u001b[0mExp_Country\u001b[0m\u001b[1;33m,\u001b[0m\u001b[0mImp_Country\u001b[0m\u001b[1;33m,\u001b[0m\u001b[0mProduct\u001b[0m\u001b[1;33m)\u001b[0m\u001b[1;33m)\u001b[0m\u001b[1;33m\u001b[0m\u001b[0m\n\u001b[0m\u001b[0;32m      4\u001b[0m \u001b[0mfeature_results\u001b[0m \u001b[1;33m=\u001b[0m \u001b[0mfeature_results_from_excel\u001b[0m\u001b[1;33m.\u001b[0m\u001b[0mparse\u001b[0m\u001b[1;33m(\u001b[0m\u001b[1;34m'Importances'\u001b[0m\u001b[1;33m,\u001b[0m \u001b[0mheader\u001b[0m\u001b[1;33m=\u001b[0m\u001b[1;36m0\u001b[0m\u001b[1;33m,\u001b[0m\u001b[0mindex_col\u001b[0m\u001b[1;33m=\u001b[0m\u001b[1;32mNone\u001b[0m\u001b[1;33m,\u001b[0m \u001b[0mna_values\u001b[0m\u001b[1;33m=\u001b[0m\u001b[1;33m[\u001b[0m\u001b[1;34m'NA'\u001b[0m\u001b[1;33m]\u001b[0m\u001b[1;33m)\u001b[0m\u001b[1;33m\u001b[0m\u001b[0m\n\u001b[0;32m      5\u001b[0m \u001b[0mscored_feature_indices\u001b[0m\u001b[1;33m=\u001b[0m\u001b[0mfeature_results\u001b[0m\u001b[1;33m[\u001b[0m\u001b[0mstr\u001b[0m\u001b[1;33m(\u001b[0m\u001b[0mmonth\u001b[0m\u001b[1;33m)\u001b[0m\u001b[1;33m]\u001b[0m\u001b[1;33m[\u001b[0m\u001b[1;36m0\u001b[0m\u001b[1;33m]\u001b[0m\u001b[1;33m\u001b[0m\u001b[0m\n",
      "\u001b[1;32m~\\AppData\\Local\\Continuum\\Anaconda3\\envs\\Tensor_1\\lib\\site-packages\\pandas\\io\\excel.py\u001b[0m in \u001b[0;36m__init__\u001b[1;34m(self, io, **kwds)\u001b[0m\n\u001b[0;32m    258\u001b[0m             \u001b[0mself\u001b[0m\u001b[1;33m.\u001b[0m\u001b[0mbook\u001b[0m \u001b[1;33m=\u001b[0m \u001b[0mxlrd\u001b[0m\u001b[1;33m.\u001b[0m\u001b[0mopen_workbook\u001b[0m\u001b[1;33m(\u001b[0m\u001b[0mfile_contents\u001b[0m\u001b[1;33m=\u001b[0m\u001b[0mdata\u001b[0m\u001b[1;33m)\u001b[0m\u001b[1;33m\u001b[0m\u001b[0m\n\u001b[0;32m    259\u001b[0m         \u001b[1;32melif\u001b[0m \u001b[0misinstance\u001b[0m\u001b[1;33m(\u001b[0m\u001b[0mio\u001b[0m\u001b[1;33m,\u001b[0m \u001b[0mcompat\u001b[0m\u001b[1;33m.\u001b[0m\u001b[0mstring_types\u001b[0m\u001b[1;33m)\u001b[0m\u001b[1;33m:\u001b[0m\u001b[1;33m\u001b[0m\u001b[0m\n\u001b[1;32m--> 260\u001b[1;33m             \u001b[0mself\u001b[0m\u001b[1;33m.\u001b[0m\u001b[0mbook\u001b[0m \u001b[1;33m=\u001b[0m \u001b[0mxlrd\u001b[0m\u001b[1;33m.\u001b[0m\u001b[0mopen_workbook\u001b[0m\u001b[1;33m(\u001b[0m\u001b[0mio\u001b[0m\u001b[1;33m)\u001b[0m\u001b[1;33m\u001b[0m\u001b[0m\n\u001b[0m\u001b[0;32m    261\u001b[0m         \u001b[1;32melse\u001b[0m\u001b[1;33m:\u001b[0m\u001b[1;33m\u001b[0m\u001b[0m\n\u001b[0;32m    262\u001b[0m             raise ValueError('Must explicitly set engine if not passing in'\n",
      "\u001b[1;32m~\\AppData\\Local\\Continuum\\Anaconda3\\envs\\Tensor_1\\lib\\site-packages\\xlrd\\__init__.py\u001b[0m in \u001b[0;36mopen_workbook\u001b[1;34m(filename, logfile, verbosity, use_mmap, file_contents, encoding_override, formatting_info, on_demand, ragged_rows)\u001b[0m\n\u001b[0;32m    114\u001b[0m         \u001b[0mpeek\u001b[0m \u001b[1;33m=\u001b[0m \u001b[0mfile_contents\u001b[0m\u001b[1;33m[\u001b[0m\u001b[1;33m:\u001b[0m\u001b[0mpeeksz\u001b[0m\u001b[1;33m]\u001b[0m\u001b[1;33m\u001b[0m\u001b[0m\n\u001b[0;32m    115\u001b[0m     \u001b[1;32melse\u001b[0m\u001b[1;33m:\u001b[0m\u001b[1;33m\u001b[0m\u001b[0m\n\u001b[1;32m--> 116\u001b[1;33m         \u001b[1;32mwith\u001b[0m \u001b[0mopen\u001b[0m\u001b[1;33m(\u001b[0m\u001b[0mfilename\u001b[0m\u001b[1;33m,\u001b[0m \u001b[1;34m\"rb\"\u001b[0m\u001b[1;33m)\u001b[0m \u001b[1;32mas\u001b[0m \u001b[0mf\u001b[0m\u001b[1;33m:\u001b[0m\u001b[1;33m\u001b[0m\u001b[0m\n\u001b[0m\u001b[0;32m    117\u001b[0m             \u001b[0mpeek\u001b[0m \u001b[1;33m=\u001b[0m \u001b[0mf\u001b[0m\u001b[1;33m.\u001b[0m\u001b[0mread\u001b[0m\u001b[1;33m(\u001b[0m\u001b[0mpeeksz\u001b[0m\u001b[1;33m)\u001b[0m\u001b[1;33m\u001b[0m\u001b[0m\n\u001b[0;32m    118\u001b[0m     \u001b[1;32mif\u001b[0m \u001b[0mpeek\u001b[0m \u001b[1;33m==\u001b[0m \u001b[1;34mb\"PK\\x03\\x04\"\u001b[0m\u001b[1;33m:\u001b[0m \u001b[1;31m# a ZIP file\u001b[0m\u001b[1;33m\u001b[0m\u001b[0m\n",
      "\u001b[1;31mFileNotFoundError\u001b[0m: [Errno 2] No such file or directory: 'FeatureSelection_CHN_GBR_841850.xlsx'"
     ]
    }
   ],
   "source": [
    "#Read feature importances from Feature Selection excels\n",
    "\n",
    "feature_results_from_excel = pd.ExcelFile('FeatureSelection_{}_{}_{}.xlsx'.format(Exp_Country,Imp_Country,Product))\n",
    "feature_results = feature_results_from_excel.parse('Importances', header=0,index_col=None, na_values=['NA'])\n",
    "scored_feature_indices=feature_results[str(month)][0]\n",
    "feature_score=feature_results[str(month)][1]"
   ]
  },
  {
   "cell_type": "code",
   "execution_count": null,
   "metadata": {
    "collapsed": true
   },
   "outputs": [],
   "source": [
    "results_level2.loc['1'].boxplot()"
   ]
  },
  {
   "cell_type": "code",
   "execution_count": null,
   "metadata": {
    "collapsed": true
   },
   "outputs": [],
   "source": [
    "feature_results_level1['1'][0]"
   ]
  },
  {
   "cell_type": "code",
   "execution_count": null,
   "metadata": {
    "collapsed": true
   },
   "outputs": [],
   "source": [
    "feature_results_level1['1'][1]"
   ]
  },
  {
   "cell_type": "code",
   "execution_count": null,
   "metadata": {
    "collapsed": true
   },
   "outputs": [],
   "source": [
    "results_level2.loc['12'].boxplot()\n"
   ]
  },
  {
   "cell_type": "code",
   "execution_count": null,
   "metadata": {
    "collapsed": true
   },
   "outputs": [],
   "source": [
    "results = DataFrame()\n",
    "results_exp = DataFrame()\n",
    "\n",
    "results_exp[str(slv)] =\n",
    "results=pd.concat([results,results_exp])\n"
   ]
  },
  {
   "cell_type": "code",
   "execution_count": null,
   "metadata": {
    "collapsed": true,
    "scrolled": false
   },
   "outputs": [],
   "source": [
    "# 1 Version for Feature selection\n",
    "# Internetten bulunan kod blogu\n",
    "# Random Forest'a gore Feature Importance Hesaplama\n",
    "# Butun veri setinin girildiği ona göre önemli olan özelliklerin bulundugu kod parçası\n",
    "\n",
    "ScalerType = Scalertype=Scaler_Type_Options[0]\n",
    "n_sample=len(X)\n",
    "\n",
    "rfc=RandomForestRegressor(n_estimators=3000)\n",
    "RandomForestRegressor.fit(rfc,scaled_value_X,scaled_value_y)\n",
    "\n",
    "\n",
    "predictions = rfc.predict(X_test)\n",
    "print('MAE',int(metrics.mean_absolute_error(y_test, predictions)),\n",
    "      'MSE',int(sqrt(metrics.mean_squared_error(y_test, predictions))),\n",
    "      'R2',int(1000*(metrics.r2_score(y_test, predictions)))/1000\n",
    "     )\n",
    "\n",
    "\n",
    "importances = rfc.feature_importances_\n",
    "std = np.std([tree.feature_importances_ for tree in rfc.estimators_],axis=0)\n",
    "\n",
    "indices = np.argsort(importances)[::-1]\n",
    "\n",
    "\n",
    "# Print the feature ranking\n",
    "print(\"Feature ranking:\")\n",
    "\n",
    "for f in range(n_feature):\n",
    "    print(\"%d. feature %s %d (%f) %f\" % (f+1, X_Column_Names[indices[f]], indices[f], importances[indices[f]],std[indices[f]]))\n",
    "\n",
    "# Plot the feature importances of the forest\n",
    "plt.figure()\n",
    "plt.title(\"{} and -{} Month Feature Importances and Standart Deviation of Features with 3000 Different Estimations\".format(Product,MonthSeries))\n",
    "plt.bar(range(n_feature), importances[indices],\n",
    "       color=\"r\", yerr=std[indices], align=\"center\")\n",
    "plt.xticks(range(n_feature), indices,rotation=90)\n",
    "plt.xlim([-1, n_feature])\n",
    "\n",
    "fig_size = plt.rcParams[\"figure.figsize\"]\n",
    "fig_size[0] = 15\n",
    "fig_size[1] = 10\n",
    "plt.rcParams[\"figure.figsize\"] = fig_size\n",
    "plt.savefig(\"Plots_Feature_Selection/{} and -{} Month Feature Importances and Standart Deviation of Features with 3000 Different Estimations.png\".format(Product,MonthSeries), format='png', dpi=300)\n",
    "\n",
    "plt.show()"
   ]
  },
  {
   "cell_type": "code",
   "execution_count": null,
   "metadata": {
    "collapsed": true,
    "scrolled": true
   },
   "outputs": [],
   "source": [
    "#  2 Version for Feature selection \n",
    "# Internetten bulunan kod blogu http://scikit-learn.org/stable/auto_examples/ensemble/plot_forest_importances.html\n",
    "# Feature Importance Hesaplama\n",
    "# Burada asıl özellik bir veri seti yaratılıyor make_regression ile. Ve oaradakilere dogru çalışıp çalışmadığı test ediliyor.\n",
    "# Butun veri setinin girildiği ona göre önemli olan özelliklerin bulundugu kod parçası\n",
    "\n",
    "from sklearn.datasets import make_regression\n",
    "\n",
    "\n",
    "n_sample=len(X)\n",
    "\n",
    "number_of_split=100\n",
    "number_of_row=29\n",
    "\n",
    "random_state_options = np.arange(0,number_of_split)\n",
    "y_predict= np.ones((number_of_row, number_of_split))\n",
    "\n",
    "feature_indices = np.ones((n_feature, number_of_split))\n",
    "feature_importances=np.ones((n_feature, number_of_split))\n",
    "feature_indices_score=np.ones((n_feature))\n",
    "feature_importances_score=np.ones((n_feature))\n",
    "j=0\n",
    "\n",
    "\n",
    "# For different split sets Random Forest Regressor runs.\n",
    "\n",
    "for random_state_i in random_state_options:\n",
    "\n",
    "    X_train, X_test, y_train, y_test = train_test_split(scaled_value_X,scaled_value_y,test_size=0.2,random_state=random_state_i,stratify=Z['Month'])\n",
    "\n",
    "    \n",
    "\n",
    "    rfc=RandomForestRegressor(n_estimators=30)\n",
    "    RandomForestRegressor.fit(rfc,X_train,y_train)\n",
    "\n",
    "    y_predict[:,j] = rfc.predict(X_test)\n",
    "    \n",
    "    result=experiminverse_scale_and_graph_Y_predict_and_test (y_predict[:,j],y_test,scaler_y,'NO')\n",
    "    \n",
    "    importances = rfc.feature_importances_\n",
    "    std = np.std([tree.feature_importances_ for tree in rfc.estimators_],axis=0)\n",
    "\n",
    "    indices = np.argsort(importances)[::-1]\n",
    "    feature_indices[:,j]=indices\n",
    "    feature_importances[:,j]=importances\n",
    "    j=j+1\n",
    "    \n",
    "\n",
    "print (\"Features scores:\")    \n",
    "for i in range(n_feature):\n",
    "    feature_indices_score[i]=0\n",
    "    feature_importances_score[i]=0\n",
    "    for j in range(number_of_split):\n",
    "        \n",
    "        indice_coeff=feature_indices[i,j]\n",
    "        importances_coeff=feature_importances[i,j]\n",
    "        \n",
    "        feature_indices_score[i]=feature_indices_score[i]+(indice_coeff)\n",
    "        feature_importances_score[i]=feature_importances_score[i]+(importances_coeff)\n",
    "        \n",
    "#        print('feat=',i,'#ofsplit=',j,'tot_indice',feature_indices_score[i],\n",
    "#              'indice=',indice_coeff,'tot_importan=',feature_importances_score[i],'importan',importances_coeff )\n",
    "\n",
    "    print( i,X_Column_Names[i])#,feature_indices_score[i],'number_of_split',j+1) #,X_Column_Names[feature_indices[i,j]])\n",
    "    \n",
    "scored_feature_indices = np.argsort(feature_indices_score)\n",
    "scored_feature_importances = np.argsort(feature_importances_score)\n",
    "    \n",
    " \n",
    "    \n",
    "    \n",
    "# Plot the feature importances of the forest\n",
    "plt.gcf().clear()\n",
    "plt.figure()\n",
    "plt.title(\"{} and -{} Month Cumulative Feature Importances with {} Different Splits.png\".format(Product,MonthSeries,number_of_split))\n",
    "plt.bar(range(n_feature), feature_importances_score[scored_feature_importances][::-1],\n",
    "       color=\"r\",  align=\"center\")\n",
    "plt.xticks(range(n_feature), scored_feature_importances[::-1],rotation=90)\n",
    "plt.xlim([-1, n_feature])\n",
    "\n",
    "fig_size = plt.rcParams[\"figure.figsize\"]\n",
    "fig_size[0] = 20\n",
    "fig_size[1] = 12\n",
    "plt.rcParams[\"figure.figsize\"] = fig_size\n",
    "plt.savefig(\"Plots_Feature_Selection/{} and -{} Month Cumulative Feature Importances with {} Different Splits.png\".format(Product,MonthSeries,number_of_split), format='png', dpi=300)\n",
    "\n",
    "plt.show()"
   ]
  }
 ],
 "metadata": {
  "kernelspec": {
   "display_name": "Python 3",
   "language": "python",
   "name": "python3"
  },
  "language_info": {
   "codemirror_mode": {
    "name": "ipython",
    "version": 3
   },
   "file_extension": ".py",
   "mimetype": "text/x-python",
   "name": "python",
   "nbconvert_exporter": "python",
   "pygments_lexer": "ipython3",
   "version": "3.6.1"
  }
 },
 "nbformat": 4,
 "nbformat_minor": 2
}
