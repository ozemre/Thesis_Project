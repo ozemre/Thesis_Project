{
 "cells": [
  {
   "cell_type": "code",
   "execution_count": 48,
   "metadata": {
    "collapsed": true
   },
   "outputs": [],
   "source": [
    "from scipy.stats.stats import pearsonr"
   ]
  },
  {
   "cell_type": "code",
   "execution_count": 49,
   "metadata": {
    "collapsed": true
   },
   "outputs": [],
   "source": [
    "from __future__ import absolute_import\n",
    "from __future__ import division\n",
    "from __future__ import print_function\n",
    "\n",
    "import numpy as np\n",
    "import pandas as pd\n",
    "from time import time\n",
    "import matplotlib.pyplot as plt\n",
    "#from sklearn.cross_validation import train_test_split\n",
    "import seaborn as sns\n",
    "%matplotlib inline\n",
    "\n",
    "\n",
    "import sys\n",
    "import warnings\n",
    "\n",
    "if not sys.warnoptions:\n",
    "    warnings.simplefilter(\"ignore\")"
   ]
  },
  {
   "cell_type": "code",
   "execution_count": 50,
   "metadata": {
    "collapsed": true
   },
   "outputs": [],
   "source": [
    "from sklearn.model_selection import train_test_split"
   ]
  },
  {
   "cell_type": "code",
   "execution_count": 51,
   "metadata": {},
   "outputs": [],
   "source": [
    "import Experiment_Ready as experim\n"
   ]
  },
  {
   "cell_type": "code",
   "execution_count": 52,
   "metadata": {
    "collapsed": true
   },
   "outputs": [],
   "source": [
    "\n",
    "import os\n",
    "import sys\n",
    "\n",
    "#os.chdir('C:/Users/murat.ozemre/Documents/MOZEMRE-OZEL/Doktora/2017 Tez/Veri Analizi/Ver 3 Tez Izleme Calısmaları')"
   ]
  },
  {
   "cell_type": "code",
   "execution_count": 53,
   "metadata": {},
   "outputs": [
    {
     "data": {
      "text/plain": [
       "'07-20 13:06'"
      ]
     },
     "execution_count": 53,
     "metadata": {},
     "output_type": "execute_result"
    }
   ],
   "source": [
    "from sklearn import metrics\n",
    "import statsmodels\n",
    "from math import sqrt\n",
    "from math import log\n",
    "from sklearn.ensemble import RandomForestRegressor\n",
    "from datetime import datetime\n",
    "datetime.now().strftime('%m-%d %H:%M')"
   ]
  },
  {
   "cell_type": "code",
   "execution_count": 54,
   "metadata": {
    "collapsed": true
   },
   "outputs": [],
   "source": [
    "from sklearn.preprocessing import MinMaxScaler\n",
    "from sklearn.preprocessing import minmax_scale\n",
    "from sklearn.preprocessing import MaxAbsScaler\n",
    "from sklearn.preprocessing import StandardScaler\n",
    "from sklearn.preprocessing import RobustScaler\n",
    "from sklearn.preprocessing import Normalizer"
   ]
  },
  {
   "cell_type": "code",
   "execution_count": 56,
   "metadata": {
    "collapsed": true
   },
   "outputs": [],
   "source": [
    "Product_Type_Options = [841810,841840,841850]\n",
    "\n",
    "Product=Product_Type_Options[1] #841810\n",
    "Productname=Product\n",
    "\n",
    "Exp_Country='TUR' # 'CHN'\n",
    "Imp_Country='GBR'\n",
    "\n",
    "if Exp_Country=='CHN':\n",
    "    Currency='CNY'\n",
    "    EXP0='TUR'   \n",
    "elif Exp_Country=='TUR':\n",
    "    Currency='TRY'\n",
    "    EXP0='CHN'   \n",
    "    \n",
    "os.chdir('C:/Users/murat.ozemre/Desktop/Thesis_Project/Data_Sources_and_Preparation')    "
   ]
  },
  {
   "cell_type": "code",
   "execution_count": 57,
   "metadata": {
    "collapsed": true
   },
   "outputs": [],
   "source": [
    "MonthSeries=\"1\"\n",
    "MonthSeries_option=[\"1\",\"2\",\"3\",\"6\",\"12\"]    "
   ]
  },
  {
   "cell_type": "markdown",
   "metadata": {},
   "source": [
    "# For Single Combination of Month  and Feature"
   ]
  },
  {
   "cell_type": "code",
   "execution_count": 61,
   "metadata": {
    "collapsed": true
   },
   "outputs": [],
   "source": [
    "Data_Core1 = pd.ExcelFile('Data_{}_{}_{}.xlsx'.format(Exp_Country,Imp_Country,Product))\n",
    "y = Data_Core1.parse('Y', header=0,index_col=None, na_values=['NA'])['{}_{}_{}'.format(Exp_Country,Imp_Country,Product)]\n",
    "Z = Data_Core1.parse('Y', header=0,index_col=None, na_values=['NA'])[['Date','Year','Month']]\n",
    "\n",
    "X = Data_Core1.parse('X{}'.format(MonthSeries), header=0,index_col=None, na_values=['NA'])\n",
    "X.drop(['Date','Year','Month'], axis=1, inplace=True)\n",
    "X_Column_Names=list(X.columns.values)\n",
    "n_feature=X.shape[1]\n",
    "\n",
    "Xhat = Data_Core1.parse('Xhat', header=0,index_col=None, na_values=['NA'])\n",
    "Xhat.drop(['Date','Year','Month'], axis=1, inplace=True)\n",
    "\n",
    "dependent_variable_type='log'\n",
    "\n",
    "if dependent_variable_type=='same':\n",
    "    dependent_variable=y\n",
    "elif dependent_variable_type=='log':\n",
    "    dependent_variable=y.apply(np.log)\n",
    "elif dependent_variable_type=='sqrt':\n",
    "    dependent_variable=y.apply(np.sqrt)"
   ]
  },
  {
   "cell_type": "code",
   "execution_count": null,
   "metadata": {
    "collapsed": true
   },
   "outputs": [],
   "source": []
  },
  {
   "cell_type": "code",
   "execution_count": null,
   "metadata": {
    "collapsed": true
   },
   "outputs": [],
   "source": []
  },
  {
   "cell_type": "code",
   "execution_count": 64,
   "metadata": {
    "collapsed": true
   },
   "outputs": [],
   "source": [
    "rs=3\n",
    "Scaled_Train_Test_Split=experim.X_Y_scaler_train_test_Split(X,dependent_variable,Z,random=rs)\n",
    "\n",
    "X_train = Scaled_Train_Test_Split[0]\n",
    "X_test = Scaled_Train_Test_Split[1]\n",
    "y_train = Scaled_Train_Test_Split[2]\n",
    "y_test = Scaled_Train_Test_Split[3]\n",
    "scaler_X = Scaled_Train_Test_Split[4]  \n",
    "scaler_y = Scaled_Train_Test_Split[5]\n",
    "scaled_value_X=Scaled_Train_Test_Split[6]\n",
    "scaled_value_y=Scaled_Train_Test_Split[7]"
   ]
  },
  {
   "cell_type": "code",
   "execution_count": 65,
   "metadata": {
    "scrolled": true
   },
   "outputs": [
    {
     "data": {
      "text/plain": [
       "(867,\n",
       " 1010,\n",
       " 0.086,\n",
       " 0.086,\n",
       " array([1732.9999674 , 1425.99996823, 2327.99998508, 1684.0000589 ,\n",
       "        2741.99993762, 2861.99991242, 3207.99997582, 3557.99992425,\n",
       "        3327.99995061, 1288.99995531, 3741.0000636 , 3826.00012257,\n",
       "        1544.00000051, 2712.00000977, 3961.99990084, 2032.00006482,\n",
       "        3386.0001272 , 2823.00011157, 2664.9999121 , 3194.99995441,\n",
       "        2020.99998592, 2564.9998892 , 1831.00004778, 3940.00000643,\n",
       "        2052.99998797, 3211.00002128, 4064.00012964, 2115.00004958]),\n",
       " array([1953.99993634, 2754.00011948, 2941.99998341, 3747.99999408,\n",
       "        2014.00005543, 3774.00003691, 2577.00007106, 2692.00005787,\n",
       "        2554.00007369, 2396.99997717, 2567.99993467, 2035.99994984,\n",
       "        1421.99995151, 2026.99994515, 2710.00006726, 2754.00011948,\n",
       "        5581.00011607, 3774.00003691, 1701.9999366 , 2692.00005787,\n",
       "        2026.99994515, 3081.00007054, 2154.99995338, 2743.00004058,\n",
       "        2554.00007369, 2657.99998161, 4606.99992997, 3156.99999312]))"
      ]
     },
     "execution_count": 65,
     "metadata": {},
     "output_type": "execute_result"
    },
    {
     "data": {
      "image/png": "[encoded data removed]",
      "text/plain": [
       "<Figure size 432x288 with 1 Axes>"
      ]
     },
     "metadata": {},
     "output_type": "display_data"
    }
   ],
   "source": [
    "from sklearn.tree import DecisionTreeRegressor\n",
    "\n",
    "# Decison tree regressor model\n",
    "dt = DecisionTreeRegressor()\n",
    "\n",
    "# Decison tree regressor model train\n",
    "DecisionTreeRegressor.fit(dt,X_train,y_train)\n",
    "\n",
    "# Decison tree regressor model predict\n",
    "y_predict_test = dt.predict(X_test)\n",
    "\n",
    "# Compare predicted Y and real Y \n",
    "experim.inverse_scale_and_graph_Y_predict_and_test(y_predict_test,y_test,scaler_y,'YES',dependent_variable_type)\n"
   ]
  },
  {
   "cell_type": "code",
   "execution_count": 66,
   "metadata": {
    "scrolled": true
   },
   "outputs": [
    {
     "data": {
      "text/plain": [
       "0.043"
      ]
     },
     "execution_count": 66,
     "metadata": {},
     "output_type": "execute_result"
    },
    {
     "data": {
      "image/png": "[encoded data removed]",
      "text/plain": [
       "<Figure size 432x288 with 1 Axes>"
      ]
     },
     "metadata": {},
     "output_type": "display_data"
    }
   ],
   "source": [
    "# Random Foest Regressor model\n",
    "rfc=RandomForestRegressor(n_estimators=3000)\n",
    "\n",
    "# Random Foest Regressor model train\n",
    "RandomForestRegressor.fit(rfc,X_train,y_train)\n",
    "\n",
    "# Random Foest Regressor mode predict\n",
    "y_predict_test = rfc.predict(X_test)\n",
    "\n",
    "# Compare predicted Y and real Y \n",
    "experim.inverse_scale_and_graph_Y_predict_and_test(y_predict_test,y_test,scaler_y,'YES',dependent_variable_type)[3]"
   ]
  },
  {
   "cell_type": "code",
   "execution_count": 67,
   "metadata": {},
   "outputs": [
    {
     "data": {
      "text/plain": [
       "array([0.3561193 , 0.0031086 , 0.00281077, 0.00602687, 0.02055463,\n",
       "       0.01092441, 0.00602215, 0.01780333, 0.02285457, 0.01589844,\n",
       "       0.01014392, 0.0027313 , 0.00575309, 0.00563465, 0.00988762,\n",
       "       0.00350413, 0.00267334, 0.0023182 , 0.00549669, 0.00519419,\n",
       "       0.00268363, 0.00694738, 0.00818685, 0.00112435, 0.00107506,\n",
       "       0.00391101, 0.04844695, 0.00263902, 0.0216979 , 0.00450346,\n",
       "       0.00128225, 0.00480253, 0.01812931, 0.00292896, 0.00566984,\n",
       "       0.00432297, 0.0066078 , 0.00966659, 0.00552458, 0.00489308,\n",
       "       0.00461961, 0.00428422, 0.00462626, 0.00259648, 0.00301126,\n",
       "       0.00256054, 0.01001538, 0.00337017, 0.00283846, 0.00611139,\n",
       "       0.01753491, 0.0011153 , 0.00104043, 0.00441562, 0.01085191,\n",
       "       0.00135119, 0.01024574, 0.00486183, 0.00357821, 0.02852024,\n",
       "       0.01394042, 0.00334042, 0.00632254, 0.00798002, 0.01455431,\n",
       "       0.02172404, 0.01224042, 0.0044867 , 0.00518262, 0.00318658,\n",
       "       0.00590952, 0.00280519, 0.00641096, 0.00291147, 0.03605633,\n",
       "       0.00274857, 0.00468673, 0.00561362, 0.00798923, 0.00137651,\n",
       "       0.00105248, 0.00612053, 0.00663991, 0.00866802])"
      ]
     },
     "execution_count": 67,
     "metadata": {},
     "output_type": "execute_result"
    }
   ],
   "source": [
    "rfc.feature_importances_"
   ]
  },
  {
   "cell_type": "code",
   "execution_count": null,
   "metadata": {
    "collapsed": true
   },
   "outputs": [],
   "source": []
  },
  {
   "cell_type": "code",
   "execution_count": null,
   "metadata": {
    "collapsed": true
   },
   "outputs": [],
   "source": []
  },
  {
   "cell_type": "code",
   "execution_count": null,
   "metadata": {
    "collapsed": true
   },
   "outputs": [],
   "source": []
  },
  {
   "cell_type": "code",
   "execution_count": null,
   "metadata": {
    "collapsed": true
   },
   "outputs": [],
   "source": []
  },
  {
   "cell_type": "code",
   "execution_count": 15,
   "metadata": {
    "collapsed": true
   },
   "outputs": [],
   "source": [
    "if Exp_Country=='CHN':\n",
    "        if Product==841810:\n",
    "            MonthSeries=\"_34\"\n",
    "            percent=50\n",
    "            dependenttype='same'\n",
    "        elif Product==841840:\n",
    "            MonthSeries=\"_345\"\n",
    "            percent=50\n",
    "            dependenttype='log'\n",
    "        elif Product==841850:\n",
    "            MonthSeries=\"_34\"\n",
    "            percent=100\n",
    "            dependenttype='log'\n",
    "elif Exp_Country=='TUR':\n",
    "        if Product==841810:\n",
    "            MonthSeries=\"_67\"\n",
    "            percent=50\n",
    "            dependenttype='same'\n",
    "        elif Product==841840:\n",
    "            MonthSeries=\"4\"\n",
    "            percent=50\n",
    "            dependenttype='same'\n",
    "        elif Product==841850:\n",
    "            MonthSeries=\"_45\"\n",
    "            percent=50\n",
    "            dependenttype='same'"
   ]
  },
  {
   "cell_type": "code",
   "execution_count": 31,
   "metadata": {
    "collapsed": true
   },
   "outputs": [],
   "source": [
    "y = Data_Core1.parse('Y', header=0,index_col=None, na_values=['NA'])['{}_{}_{}'.format(Exp_Country,Imp_Country,Product)]\n",
    "Z = Data_Core1.parse('Y', header=0,index_col=None, na_values=['NA'])[['Date','Year','Month']]\n",
    "\n",
    "X = Data_Core1.parse('X{}'.format(MonthSeries), header=0,index_col=None, na_values=['NA'])\n",
    "X.drop(['Date','Year','Month'], axis=1, inplace=True)\n",
    "X_Column_Names=list(X.columns.values)\n",
    "n_feature=X.shape[1]\n",
    "\n",
    "Xhat = Data_Core1.parse('Xhat', header=0,index_col=None, na_values=['NA'])\n",
    "Xhat.drop(['Date','Year','Month'], axis=1, inplace=True)\n",
    "\n",
    "if dependent_variable_type=='same':\n",
    "    dependent_variable=y\n",
    "elif dependent_variable_type=='log':\n",
    "    dependent_variable=y.apply(np.log)\n",
    "elif dependent_variable_type=='sqrt':\n",
    "    dependent_variable=y.apply(np.sqrt)"
   ]
  },
  {
   "cell_type": "markdown",
   "metadata": {},
   "source": [
    "# Start -- For single combination calling Feature Selection Functions"
   ]
  },
  {
   "cell_type": "code",
   "execution_count": 20,
   "metadata": {
    "scrolled": true
   },
   "outputs": [
    {
     "name": "stdout",
     "output_type": "stream",
     "text": [
      "Features scores:\n",
      "1. important feature TUR_FRA_841840-4 (original rank 4)\n",
      "2. important feature CCI_GBR-4 (original rank 18)\n",
      "3. important feature GDP_GBR-4 (original rank 20)\n",
      "4. important feature NLD_GBR_841840-4 (original rank 8)\n",
      "5. important feature TUR_DEU_841840-4 (original rank 3)\n",
      "6. important feature HUN_GBR_841840-4 (original rank 9)\n",
      "7. important feature EPU_World-4 (original rank 12)\n",
      "8. important feature GBP-4 (original rank 26)\n",
      "9. important feature TRY-4 (original rank 25)\n",
      "10. important feature TUR_SWE_841840-4 (original rank 5)\n",
      "11. important feature GDP_TUR-4 (original rank 16)\n",
      "12. important feature TUR_GBR_841840_UV-4 (original rank 10)\n",
      "13. important feature CCI_TUR-4 (original rank 14)\n",
      "14. important feature World-4 (original rank 27)\n",
      "15. important feature EPU_GBR-4 (original rank 11)\n",
      "16. important feature CLI_GBR-4 (original rank 19)\n",
      "17. important feature CLI_TUR-4 (original rank 15)\n",
      "18. important feature CHN_GBR_841840-4 (original rank 6)\n",
      "19. important feature BCI_TUR-4 (original rank 13)\n",
      "20. important feature PPI_TUR-4 (original rank 21)\n",
      "21. important feature PPI_GBR-4 (original rank 22)\n",
      "22. important feature TUR_World_841840-4 (original rank 1)\n",
      "23. important feature BCI_GBR-4 (original rank 17)\n",
      "24. important feature TUR_GBR_841840-4 (original rank 0)\n",
      "25. important feature DEU_GBR_841840-4 (original rank 7)\n",
      "26. important feature TUR_USA_841840-4 (original rank 2)\n",
      "27. important feature CPI_TUR-4 (original rank 23)\n",
      "28. important feature CPI_GBR-4 (original rank 24)\n"
     ]
    },
    {
     "data": {
      "text/plain": [
       "<matplotlib.figure.Figure at 0x20500df7ac8>"
      ]
     },
     "metadata": {},
     "output_type": "display_data"
    },
    {
     "data": {
      "image/png": "[encoded data removed]",
      "text/plain": [
       "<matplotlib.figure.Figure at 0x205057bdcc0>"
      ]
     },
     "metadata": {},
     "output_type": "display_data"
    }
   ],
   "source": [
    "# Main for 3 Version for Train Test Split and Feature selection \n",
    "# http://blog.datadive.net/selecting-good-features-part-iii-random-forests/\n",
    "# Use both RF Importances and R2 Accuracy with different number of splits\n",
    "\n",
    "\n",
    "number_of_split_for_feature=100\n",
    "result=experim.get_feature_importance_result (X,dependent_variable,Z,n_feature,number_of_split_for_feature)\n",
    "scored_feature_indices=result[0]\n",
    "feature_score=result[1]\n",
    "\n",
    "print (\"Features scores:\") \n",
    "\n",
    "for f in range(n_feature):\n",
    "\n",
    "    print(\"%d. important feature %s (original rank %d)\" % (f+1, X_Column_Names[scored_feature_indices[f]], scored_feature_indices[f]))\n",
    "\n",
    "\n",
    "# Plot the feature importances of the forest\n",
    "plt.gcf().clear()\n",
    "plt.figure()\n",
    "plt.title(\"{} and {} Month Cumulative Feature and Score Importances with {} Different Splits\".format(Product,MonthSeries,number_of_split_for_feature))\n",
    "plt.bar(range(n_feature), feature_score[scored_feature_indices],\n",
    "       color=\"r\",  align=\"center\")\n",
    "plt.xticks(range(n_feature), scored_feature_indices,rotation=90)\n",
    "plt.xlim([-1, n_feature])\n",
    "\n",
    "#fig_size = plt.rcParams[\"figure.figsize\"]\n",
    "#fig_size[0] = 20\n",
    "#fig_size[1] = 12\n",
    "#plt.rcParams[\"figure.figsize\"] = fig_size\n",
    "plt.savefig(\"Plots_Feature_Selection/{} and {} Month Cumulative Feature and Score Importances with {} Different Splits.png\".format(Product,MonthSeries,number_of_split_for_feature), format='png', dpi=300)\n",
    "\n",
    "plt.show()\n",
    "\n",
    "    \n",
    "    "
   ]
  },
  {
   "cell_type": "markdown",
   "metadata": {},
   "source": [
    "# End -- For single combination calling Feature Selection Functions"
   ]
  },
  {
   "cell_type": "code",
   "execution_count": 32,
   "metadata": {
    "scrolled": true
   },
   "outputs": [
    {
     "name": "stdout",
     "output_type": "stream",
     "text": [
      "randomforest rs= 50\n",
      "R2_Test 0.952 R2_Train 0.0\n"
     ]
    }
   ],
   "source": [
    "# Calling function by single parameter set \n",
    "a=experim.randomforest(X_train, X_test, y_train, y_test,scaler_y,\n",
    "                   rand=50,is_random_fixed='TRUE',dependenttype=dependent_variable_type,\n",
    "                   est=200,min_leaf=5,feat=10,max_leaf=10,min_weight=0.0,min_impurity=1e-07)"
   ]
  },
  {
   "cell_type": "code",
   "execution_count": 33,
   "metadata": {
    "collapsed": true
   },
   "outputs": [
    {
     "ename": "IndexError",
     "evalue": "positional indexers are out-of-bounds",
     "output_type": "error",
     "traceback": [
      "\u001b[1;31m---------------------------------------------------------------------------\u001b[0m",
      "\u001b[1;31mIndexError\u001b[0m                                Traceback (most recent call last)",
      "\u001b[1;32m<ipython-input-33-b8d481e1cc53>\u001b[0m in \u001b[0;36m<module>\u001b[1;34m()\u001b[0m\n\u001b[0;32m      5\u001b[0m \u001b[0mpercentile\u001b[0m\u001b[1;33m=\u001b[0m\u001b[1;36m100\u001b[0m\u001b[1;33m-\u001b[0m\u001b[0mpercent\u001b[0m\u001b[1;33m\u001b[0m\u001b[1;33m\u001b[0m\u001b[0m\n\u001b[0;32m      6\u001b[0m \u001b[0mthreshold_for_feature_selection\u001b[0m\u001b[1;33m=\u001b[0m\u001b[0mnp\u001b[0m\u001b[1;33m.\u001b[0m\u001b[0mpercentile\u001b[0m\u001b[1;33m(\u001b[0m\u001b[0mfeature_score\u001b[0m\u001b[1;33m[\u001b[0m\u001b[0mscored_feature_indices\u001b[0m\u001b[1;33m]\u001b[0m\u001b[1;33m,\u001b[0m \u001b[0mpercentile\u001b[0m\u001b[1;33m)\u001b[0m\u001b[1;33m\u001b[0m\u001b[1;33m\u001b[0m\u001b[0m\n\u001b[1;32m----> 7\u001b[1;33m \u001b[0mX_threshold\u001b[0m\u001b[1;33m=\u001b[0m\u001b[0mX\u001b[0m\u001b[1;33m.\u001b[0m\u001b[0miloc\u001b[0m\u001b[1;33m[\u001b[0m\u001b[1;33m:\u001b[0m\u001b[1;33m,\u001b[0m\u001b[0mscored_feature_indices\u001b[0m\u001b[1;33m[\u001b[0m\u001b[0mfeature_score\u001b[0m\u001b[1;33m[\u001b[0m\u001b[0mscored_feature_indices\u001b[0m\u001b[1;33m]\u001b[0m\u001b[1;33m>\u001b[0m\u001b[0mthreshold_for_feature_selection\u001b[0m\u001b[1;33m]\u001b[0m\u001b[1;33m]\u001b[0m\u001b[1;33m\u001b[0m\u001b[1;33m\u001b[0m\u001b[0m\n\u001b[0m\u001b[0;32m      8\u001b[0m \u001b[1;33m\u001b[0m\u001b[0m\n\u001b[0;32m      9\u001b[0m \u001b[1;31m# Train Test Split after percentile selection\u001b[0m\u001b[1;33m\u001b[0m\u001b[1;33m\u001b[0m\u001b[1;33m\u001b[0m\u001b[0m\n",
      "\u001b[1;32m~\\AppData\\Local\\Continuum\\Anaconda3\\envs\\Tensor_1\\lib\\site-packages\\pandas\\core\\indexing.py\u001b[0m in \u001b[0;36m__getitem__\u001b[1;34m(self, key)\u001b[0m\n\u001b[0;32m   1323\u001b[0m             \u001b[1;32mexcept\u001b[0m \u001b[1;33m(\u001b[0m\u001b[0mKeyError\u001b[0m\u001b[1;33m,\u001b[0m \u001b[0mIndexError\u001b[0m\u001b[1;33m)\u001b[0m\u001b[1;33m:\u001b[0m\u001b[1;33m\u001b[0m\u001b[1;33m\u001b[0m\u001b[0m\n\u001b[0;32m   1324\u001b[0m                 \u001b[1;32mpass\u001b[0m\u001b[1;33m\u001b[0m\u001b[1;33m\u001b[0m\u001b[0m\n\u001b[1;32m-> 1325\u001b[1;33m             \u001b[1;32mreturn\u001b[0m \u001b[0mself\u001b[0m\u001b[1;33m.\u001b[0m\u001b[0m_getitem_tuple\u001b[0m\u001b[1;33m(\u001b[0m\u001b[0mkey\u001b[0m\u001b[1;33m)\u001b[0m\u001b[1;33m\u001b[0m\u001b[1;33m\u001b[0m\u001b[0m\n\u001b[0m\u001b[0;32m   1326\u001b[0m         \u001b[1;32melse\u001b[0m\u001b[1;33m:\u001b[0m\u001b[1;33m\u001b[0m\u001b[1;33m\u001b[0m\u001b[0m\n\u001b[0;32m   1327\u001b[0m             \u001b[0mkey\u001b[0m \u001b[1;33m=\u001b[0m \u001b[0mcom\u001b[0m\u001b[1;33m.\u001b[0m\u001b[0m_apply_if_callable\u001b[0m\u001b[1;33m(\u001b[0m\u001b[0mkey\u001b[0m\u001b[1;33m,\u001b[0m \u001b[0mself\u001b[0m\u001b[1;33m.\u001b[0m\u001b[0mobj\u001b[0m\u001b[1;33m)\u001b[0m\u001b[1;33m\u001b[0m\u001b[1;33m\u001b[0m\u001b[0m\n",
      "\u001b[1;32m~\\AppData\\Local\\Continuum\\Anaconda3\\envs\\Tensor_1\\lib\\site-packages\\pandas\\core\\indexing.py\u001b[0m in \u001b[0;36m_getitem_tuple\u001b[1;34m(self, tup)\u001b[0m\n\u001b[0;32m   1660\u001b[0m     \u001b[1;32mdef\u001b[0m \u001b[0m_getitem_tuple\u001b[0m\u001b[1;33m(\u001b[0m\u001b[0mself\u001b[0m\u001b[1;33m,\u001b[0m \u001b[0mtup\u001b[0m\u001b[1;33m)\u001b[0m\u001b[1;33m:\u001b[0m\u001b[1;33m\u001b[0m\u001b[1;33m\u001b[0m\u001b[0m\n\u001b[0;32m   1661\u001b[0m \u001b[1;33m\u001b[0m\u001b[0m\n\u001b[1;32m-> 1662\u001b[1;33m         \u001b[0mself\u001b[0m\u001b[1;33m.\u001b[0m\u001b[0m_has_valid_tuple\u001b[0m\u001b[1;33m(\u001b[0m\u001b[0mtup\u001b[0m\u001b[1;33m)\u001b[0m\u001b[1;33m\u001b[0m\u001b[1;33m\u001b[0m\u001b[0m\n\u001b[0m\u001b[0;32m   1663\u001b[0m         \u001b[1;32mtry\u001b[0m\u001b[1;33m:\u001b[0m\u001b[1;33m\u001b[0m\u001b[1;33m\u001b[0m\u001b[0m\n\u001b[0;32m   1664\u001b[0m             \u001b[1;32mreturn\u001b[0m \u001b[0mself\u001b[0m\u001b[1;33m.\u001b[0m\u001b[0m_getitem_lowerdim\u001b[0m\u001b[1;33m(\u001b[0m\u001b[0mtup\u001b[0m\u001b[1;33m)\u001b[0m\u001b[1;33m\u001b[0m\u001b[1;33m\u001b[0m\u001b[0m\n",
      "\u001b[1;32m~\\AppData\\Local\\Continuum\\Anaconda3\\envs\\Tensor_1\\lib\\site-packages\\pandas\\core\\indexing.py\u001b[0m in \u001b[0;36m_has_valid_tuple\u001b[1;34m(self, key)\u001b[0m\n\u001b[0;32m    187\u001b[0m             \u001b[1;32mif\u001b[0m \u001b[0mi\u001b[0m \u001b[1;33m>=\u001b[0m \u001b[0mself\u001b[0m\u001b[1;33m.\u001b[0m\u001b[0mobj\u001b[0m\u001b[1;33m.\u001b[0m\u001b[0mndim\u001b[0m\u001b[1;33m:\u001b[0m\u001b[1;33m\u001b[0m\u001b[1;33m\u001b[0m\u001b[0m\n\u001b[0;32m    188\u001b[0m                 \u001b[1;32mraise\u001b[0m \u001b[0mIndexingError\u001b[0m\u001b[1;33m(\u001b[0m\u001b[1;34m'Too many indexers'\u001b[0m\u001b[1;33m)\u001b[0m\u001b[1;33m\u001b[0m\u001b[1;33m\u001b[0m\u001b[0m\n\u001b[1;32m--> 189\u001b[1;33m             \u001b[1;32mif\u001b[0m \u001b[1;32mnot\u001b[0m \u001b[0mself\u001b[0m\u001b[1;33m.\u001b[0m\u001b[0m_has_valid_type\u001b[0m\u001b[1;33m(\u001b[0m\u001b[0mk\u001b[0m\u001b[1;33m,\u001b[0m \u001b[0mi\u001b[0m\u001b[1;33m)\u001b[0m\u001b[1;33m:\u001b[0m\u001b[1;33m\u001b[0m\u001b[1;33m\u001b[0m\u001b[0m\n\u001b[0m\u001b[0;32m    190\u001b[0m                 raise ValueError(\"Location based indexing can only have [%s] \"\n\u001b[0;32m    191\u001b[0m                                  \"types\" % self._valid_types)\n",
      "\u001b[1;32m~\\AppData\\Local\\Continuum\\Anaconda3\\envs\\Tensor_1\\lib\\site-packages\\pandas\\core\\indexing.py\u001b[0m in \u001b[0;36m_has_valid_type\u001b[1;34m(self, key, axis)\u001b[0m\n\u001b[0;32m   1597\u001b[0m             \u001b[1;32mreturn\u001b[0m \u001b[0mself\u001b[0m\u001b[1;33m.\u001b[0m\u001b[0m_is_valid_integer\u001b[0m\u001b[1;33m(\u001b[0m\u001b[0mkey\u001b[0m\u001b[1;33m,\u001b[0m \u001b[0maxis\u001b[0m\u001b[1;33m)\u001b[0m\u001b[1;33m\u001b[0m\u001b[1;33m\u001b[0m\u001b[0m\n\u001b[0;32m   1598\u001b[0m         \u001b[1;32melif\u001b[0m \u001b[0mis_list_like_indexer\u001b[0m\u001b[1;33m(\u001b[0m\u001b[0mkey\u001b[0m\u001b[1;33m)\u001b[0m\u001b[1;33m:\u001b[0m\u001b[1;33m\u001b[0m\u001b[1;33m\u001b[0m\u001b[0m\n\u001b[1;32m-> 1599\u001b[1;33m             \u001b[1;32mreturn\u001b[0m \u001b[0mself\u001b[0m\u001b[1;33m.\u001b[0m\u001b[0m_is_valid_list_like\u001b[0m\u001b[1;33m(\u001b[0m\u001b[0mkey\u001b[0m\u001b[1;33m,\u001b[0m \u001b[0maxis\u001b[0m\u001b[1;33m)\u001b[0m\u001b[1;33m\u001b[0m\u001b[1;33m\u001b[0m\u001b[0m\n\u001b[0m\u001b[0;32m   1600\u001b[0m         \u001b[1;32mreturn\u001b[0m \u001b[1;32mFalse\u001b[0m\u001b[1;33m\u001b[0m\u001b[1;33m\u001b[0m\u001b[0m\n\u001b[0;32m   1601\u001b[0m \u001b[1;33m\u001b[0m\u001b[0m\n",
      "\u001b[1;32m~\\AppData\\Local\\Continuum\\Anaconda3\\envs\\Tensor_1\\lib\\site-packages\\pandas\\core\\indexing.py\u001b[0m in \u001b[0;36m_is_valid_list_like\u001b[1;34m(self, key, axis)\u001b[0m\n\u001b[0;32m   1654\u001b[0m         if (hasattr(arr, '__len__') and len(arr) and\n\u001b[0;32m   1655\u001b[0m                 (arr.max() >= l or arr.min() < -l)):\n\u001b[1;32m-> 1656\u001b[1;33m             \u001b[1;32mraise\u001b[0m \u001b[0mIndexError\u001b[0m\u001b[1;33m(\u001b[0m\u001b[1;34m\"positional indexers are out-of-bounds\"\u001b[0m\u001b[1;33m)\u001b[0m\u001b[1;33m\u001b[0m\u001b[1;33m\u001b[0m\u001b[0m\n\u001b[0m\u001b[0;32m   1657\u001b[0m \u001b[1;33m\u001b[0m\u001b[0m\n\u001b[0;32m   1658\u001b[0m         \u001b[1;32mreturn\u001b[0m \u001b[1;32mTrue\u001b[0m\u001b[1;33m\u001b[0m\u001b[1;33m\u001b[0m\u001b[0m\n",
      "\u001b[1;31mIndexError\u001b[0m: positional indexers are out-of-bounds"
     ]
    }
   ],
   "source": [
    "# By using Ver 3 for Feature Selection results\n",
    "# Percentile variable takes the most important variables according to its feature score and omits the others.\n",
    "# ie.25 percentile takes %75 importance variables and omits %25 least important features\n",
    "percent=50\n",
    "percentile=100-percent\n",
    "threshold_for_feature_selection=np.percentile(feature_score[scored_feature_indices], percentile)\n",
    "X_threshold=X.iloc[:,scored_feature_indices[feature_score[scored_feature_indices]>threshold_for_feature_selection]]\n",
    "\n",
    "# Train Test Split after percentile selection\n",
    "\n",
    "Scaled_Train_Test_Split=experim.X_Y_scaler_train_test_Split(X_threshold,dependent_variable,Z)\n",
    "\n",
    "X_train = Scaled_Train_Test_Split[0]\n",
    "X_test = Scaled_Train_Test_Split[1]\n",
    "y_train = Scaled_Train_Test_Split[2]\n",
    "y_test = Scaled_Train_Test_Split[3]\n",
    "scaler_X = Scaled_Train_Test_Split[4]  \n",
    "scaler_y = Scaled_Train_Test_Split[5]\n",
    "scaled_value_X=Scaled_Train_Test_Split[6]\n",
    "scaled_value_y=Scaled_Train_Test_Split[7]\n"
   ]
  },
  {
   "cell_type": "code",
   "execution_count": 32,
   "metadata": {
    "scrolled": true
   },
   "outputs": [
    {
     "data": {
      "text/plain": [
       "0.439"
      ]
     },
     "execution_count": 32,
     "metadata": {},
     "output_type": "execute_result"
    }
   ],
   "source": [
    "# Random Foest Regressor model\n",
    "rfc=RandomForestRegressor(n_estimators=3000,random_state=50)\n",
    "\n",
    "# Random Foest Regressor model train\n",
    "RandomForestRegressor.fit(rfc,X_train,y_train)\n",
    "\n",
    "# Random Foest Regressor mode predict\n",
    "y_predict_test = rfc.predict(X_test)\n",
    "\n",
    "# Compare predicted Y and real Y \n",
    "experim.inverse_scale_and_graph_Y_predict_and_test(y_predict_test,y_test,scaler_y,'NO',dependent_variable_type)[3]"
   ]
  },
  {
   "cell_type": "code",
   "execution_count": 33,
   "metadata": {
    "scrolled": true
   },
   "outputs": [
    {
     "name": "stdout",
     "output_type": "stream",
     "text": [
      "randomforest rs= 50\n"
     ]
    },
    {
     "data": {
      "text/plain": [
       "((0,\n",
       "  0,\n",
       "  0.44,\n",
       "  0.44,\n",
       "  array([7.45760912, 7.26262856, 7.75276437, 7.42892739, 7.6270574 ,\n",
       "         7.61579078, 7.43955948, 8.17695412, 8.1101266 , 8.309923  ,\n",
       "         8.22710806, 8.24957545, 7.34213168, 7.90544179, 8.2845037 ,\n",
       "         7.95927569, 8.12740403, 7.94555551, 7.88795934, 8.06934244,\n",
       "         7.61677624, 7.84971403, 7.5126178 , 8.27893661, 8.27078053,\n",
       "         8.07433785, 7.61431221, 7.61134758]),\n",
       "  array([7.80919681, 7.66886291, 7.78799838, 7.93796917, 7.93216803,\n",
       "         7.78661549, 7.73246132, 7.99487145, 7.88247624, 8.2220038 ,\n",
       "         7.92349586, 7.80785296, 7.51652422, 7.88599881, 7.94883336,\n",
       "         8.01565725, 8.01791283, 8.09517884, 7.83817963, 7.7779209 ,\n",
       "         7.78201273, 7.83220294, 7.84900285, 7.96955185, 8.22538857,\n",
       "         7.99624201, 7.72047911, 7.95936439])),\n",
       " (0,\n",
       "  0,\n",
       "  0.956,\n",
       "  0.956,\n",
       "  array([7.88532919, 7.1616218 , 7.56786218, 7.65207039, 8.2395936 ,\n",
       "         8.19450542, 7.74586836, 8.47114935, 7.84031283, 8.19836422,\n",
       "         7.5745584 , 8.23589044, 7.66575316, 8.04302148, 8.33278922,\n",
       "         8.13944062, 8.10016121, 7.8018004 , 7.86441968, 8.36007095,\n",
       "         7.38150163, 7.57763377, 7.98275774, 7.76937884, 8.03527918,\n",
       "         7.67554645, 8.35983749, 7.35755641, 8.51258301, 7.96797352,\n",
       "         8.52317544, 7.99867183, 7.91644278, 8.1738578 , 8.25296659,\n",
       "         8.09162725, 8.31360746, 7.89729618, 8.39276338, 7.904704  ,\n",
       "         7.60787788, 7.79069615, 7.845416  , 7.61874268, 8.4042485 ,\n",
       "         8.24800559, 7.90581069, 7.83557931, 7.0578981 , 7.71912987,\n",
       "         7.78197363, 8.47512039, 8.25400817, 8.53385318, 8.0330097 ,\n",
       "         8.62712287, 8.02616981, 7.81963604, 7.92080965, 7.8001632 ,\n",
       "         8.27690283, 8.30573047, 7.54802868, 7.57147331, 8.25842293,\n",
       "         7.91680793, 8.20248192, 7.61431221, 8.05737768, 8.16137525,\n",
       "         8.32263751, 8.1285848 , 7.87511911, 7.85438096, 8.03947994,\n",
       "         7.93343812, 8.09742631, 8.1553622 , 7.38956418, 8.42332176,\n",
       "         8.23297221, 8.44784389, 8.27664917, 8.07340327, 8.12177783,\n",
       "         8.1670688 , 7.89655241, 7.88570556, 7.89803996, 7.65681065,\n",
       "         7.58528104, 8.20357813, 7.78862645, 7.80506732, 7.25981957,\n",
       "         8.31801024, 8.22897722, 8.09955437, 8.37101058, 8.1247432 ,\n",
       "         7.85088282, 7.78197363, 8.54383503, 7.88457643, 8.43533216,\n",
       "         7.88231443, 7.55955944, 7.46336328, 7.98684476]),\n",
       "  array([7.93336408, 7.40077495, 7.66293769, 7.76351455, 8.20932346,\n",
       "         8.13211722, 7.90135832, 8.35480804, 7.89580157, 8.18110123,\n",
       "         7.61098669, 8.18214302, 7.64644423, 8.09165816, 8.25369874,\n",
       "         8.01471568, 8.01452955, 7.91040273, 7.90106674, 8.3275383 ,\n",
       "         7.48923746, 7.56155657, 8.02278062, 7.88993693, 8.08139339,\n",
       "         7.7371005 , 8.25544739, 7.56963128, 8.41734413, 7.95140068,\n",
       "         8.41832607, 7.99747698, 7.98061877, 8.17546652, 8.16564629,\n",
       "         8.05822289, 8.27719393, 7.9297867 , 8.28782255, 7.90436595,\n",
       "         7.81154438, 7.86844835, 7.82921121, 7.68279054, 8.2837611 ,\n",
       "         8.2503966 , 7.86347495, 7.81311037, 7.33575989, 7.78163093,\n",
       "         7.93992979, 8.38800271, 8.23479924, 8.42703635, 7.88629095,\n",
       "         8.448807  , 7.98806345, 7.83046884, 7.90129208, 7.82687527,\n",
       "         8.26462504, 8.24823667, 7.63870124, 7.62389161, 8.25781391,\n",
       "         7.93534794, 8.03968429, 7.70757117, 8.08721765, 8.12614566,\n",
       "         8.20566553, 8.15180614, 7.83791723, 7.89839802, 7.86785201,\n",
       "         7.94068378, 7.96707922, 8.13753878, 7.58460341, 8.34256612,\n",
       "         8.22262914, 8.38261297, 8.29592784, 7.97660087, 8.10258559,\n",
       "         8.02914915, 7.8949349 , 7.90716267, 7.89310134, 7.74421007,\n",
       "         7.66585721, 8.2030458 , 7.83909434, 7.79305397, 7.40680304,\n",
       "         8.25770787, 8.11638524, 7.96373983, 8.22118954, 8.04819919,\n",
       "         7.88260971, 7.85479578, 8.4098612 , 7.87702275, 8.2876239 ,\n",
       "         7.93397389, 7.69889197, 7.48191832, 7.97564371])))"
      ]
     },
     "execution_count": 33,
     "metadata": {},
     "output_type": "execute_result"
    }
   ],
   "source": [
    "experim.randomforest(X_train, X_test, y_train, y_test,scaler_y,est=3000,rand=50)"
   ]
  },
  {
   "cell_type": "markdown",
   "metadata": {},
   "source": [
    "# PLOT FOR RESULTS"
   ]
  },
  {
   "cell_type": "code",
   "execution_count": 69,
   "metadata": {
    "collapsed": true
   },
   "outputs": [],
   "source": [
    "# Yeni Tune parametresi\n",
    "\n",
    "feat= 10\n",
    "min_leaf= 5\n",
    "max_leaf= 100\n",
    "min_impurity= 0.000001 \n",
    "min_weight= 0.0001\n",
    "est= 5000\n",
    "#######################\n",
    " \n",
    "\n",
    "dependenttype=dependent_variable_type\n",
    "\n",
    "# Default Tune parametresi\n",
    "feat= 'auto'\n",
    "min_leaf= 1\n",
    "max_leaf= 100\n",
    "min_impurity= 1e-06\n",
    "min_weight= 1e-05\n",
    "est= 1000\n",
    "\n",
    "#841810 \n",
    "rs=31\n",
    "limit=5000\n",
    "\n",
    "\n"
   ]
  },
  {
   "cell_type": "code",
   "execution_count": 70,
   "metadata": {},
   "outputs": [
    {
     "name": "stdout",
     "output_type": "stream",
     "text": [
      "0.042 R2_y_test 0.947 R2_y_train 0.765 R2_y_all\n"
     ]
    }
   ],
   "source": [
    " rfc=RandomForestRegressor(n_estimators=est,\n",
    "                              min_samples_leaf=min_leaf,\n",
    "                              random_state =rs,              \n",
    "                              max_features=feat,\n",
    "                              max_leaf_nodes=max_leaf,\n",
    "                              min_weight_fraction_leaf =min_weight,\n",
    "                              min_impurity_decrease=min_impurity\n",
    "                            )\n",
    "   \n",
    "RandomForestRegressor.fit(rfc,X_train,y_train)\n",
    "    \n",
    "y_predict_test = rfc.predict(X_test)\n",
    "y_predict_train = rfc.predict(X_train)\n",
    "y_predict=rfc.predict(scaled_value_X.iloc[:len(y),:])\n",
    "#y_predict_future=rfc.predict(scaled_value_X.iloc[len(y):,:])\n",
    "\n",
    "# Inverse for test train and all data\n",
    "result_test=experim.inverse_scale_and_graph_Y_predict_and_test(y_predict_test,y_test,scaler_y,'NO',dependenttype)\n",
    "result_train=experim.inverse_scale_and_graph_Y_predict_and_test(y_predict_train,y_train,scaler_y,'NO',dependenttype)\n",
    "result_all=experim.inverse_scale_and_graph_Y_predict_and_test(y_predict,scaled_value_y,scaler_y,'NO',dependenttype)\n",
    "\n",
    "\n",
    "inv_y_train=pd.Series(result_train[4])\n",
    "inv_y_predict_train=pd.Series(result_train[5])\n",
    "inv_y_test=pd.Series(result_test[4])\n",
    "inv_y_predict_test=pd.Series(result_test[5])\n",
    "inv_y_all=pd.Series(result_all[4])\n",
    "inv_y_predict_all=pd.Series(result_all[5])\n",
    "\n",
    "\n",
    "R2_y_test=int(1000*pearsonr(inv_y_test,inv_y_predict_test )[0]**2)/1000\n",
    "R2_y_train=int(1000*pearsonr(inv_y_train,inv_y_predict_train )[0]**2)/1000\n",
    "R2_y_all=int(1000*pearsonr(inv_y_all,inv_y_predict_all )[0]**2)/1000\n",
    "\n",
    "print (R2_y_test,'R2_y_test',R2_y_train,'R2_y_train',R2_y_all,'R2_y_all' )"
   ]
  },
  {
   "cell_type": "code",
   "execution_count": 71,
   "metadata": {},
   "outputs": [
    {
     "data": {
      "image/png": "[encoded data removed]",
      "text/plain": [
       "<Figure size 504x504 with 1 Axes>"
      ]
     },
     "metadata": {},
     "output_type": "display_data"
    }
   ],
   "source": [
    "\n",
    "os.chdir('C:/Users/murat.ozemre/Desktop/Thesis_Project/Data_Learning_Prediction/Result_Plots')\n",
    "fig = plt.figure(figsize=(7, 7))\n",
    "\n",
    "plt.scatter(inv_y_train,inv_y_predict_train,label='Train Data')\n",
    "plt.scatter(inv_y_test,inv_y_predict_test,marker='+' ,label='Test Data')\n",
    "\n",
    "plt.legend()\n",
    "plt.xlim(1500, limit)\n",
    "plt.ylim(1500, limit)\n",
    "plt.title(\"Scatter Diagram for Train and Test {} Data\".format(Productname))\n",
    "plt.xlabel(\"actual (Thousand USD)\")\n",
    "plt.ylabel(\"predictions (Thousand USD)\")\n",
    "plt.savefig('Scatter Diagram  {}_{}-{}.png'.format(Exp_Country,Imp_Country,Productname))\n",
    "plt.show()\n",
    "\n",
    "\n"
   ]
  },
  {
   "cell_type": "code",
   "execution_count": 72,
   "metadata": {
    "collapsed": true
   },
   "outputs": [],
   "source": [
    "def format_func(value, tick_number):\n",
    "    # find number of multiples of pi/2\n",
    "    N = tick_number # int(np.round(2 * value / np.pi))\n",
    "    \n",
    "    if N == 1:\n",
    "        return \"200604\"\n",
    "    elif N == 2:\n",
    "        return \"200712\"\n",
    "    elif N == 3:\n",
    "        return \"200908\"\n",
    "    elif N ==4: \n",
    "        return \"201104\"\n",
    "    elif N == 5:\n",
    "        return \"201212\"\n",
    "    elif N == 6:\n",
    "        return \"201408\"\n",
    "    elif N == 7: \n",
    "        return \"201604\"\n",
    "    elif N == 8: \n",
    "        return \"201712\"\n",
    "    else:\n",
    "        return \"\""
   ]
  },
  {
   "cell_type": "code",
   "execution_count": 73,
   "metadata": {},
   "outputs": [
    {
     "data": {
      "image/png": "[encoded data removed]",
      "text/plain": [
       "<Figure size 1080x360 with 1 Axes>"
      ]
     },
     "metadata": {},
     "output_type": "display_data"
    }
   ],
   "source": [
    "\n",
    "fig = plt.figure(figsize=(15, 5))\n",
    "\n",
    "#predict=inv_y_predict_all\n",
    "#real=inv_y_all\n",
    "\n",
    "predict=inv_y_all\n",
    "real=inv_y_predict_all\n",
    "\n",
    "error=real-predict\n",
    "\n",
    "ax = plt.axes()\n",
    "#x = Z['Date']\n",
    "xi = [i for i in range(0, len(predict))]\n",
    "\n",
    "\n",
    "#inv_y_train\n",
    "#inv_y_predict_train\n",
    "#inv_y_test=pd.Series(result_test[4])\n",
    "#inv_y_predict_test=pd.Series(result_test[5])\n",
    "\n",
    "\n",
    "\n",
    "ax.plot(xi, predict, lw=2, color='darkslateblue',label='Predicted Data')\n",
    "ax.plot(xi, real, lw=2, color='crimson', label='Actual Data')\n",
    "\n",
    "ax.plot(xi, error, lw=2, color='green', label='Error')\n",
    "\n",
    "\n",
    "# Set up grid, legend, and limits\n",
    "ax.grid(True)\n",
    "ax.xaxis.set_major_formatter(plt.FuncFormatter(format_func))\n",
    "ax.legend(frameon=True)\n",
    "plt.title(\"Line Plot {}_{}-{} Data\".format(Exp_Country,Imp_Country,Productname))\n",
    "plt.xlabel('Year Month')\n",
    "plt.ylabel('Value (Thousand USD)') \n",
    "\n",
    "plt.savefig('Line Plot Test Data  {}_{}-{}.png'.format(Exp_Country,Imp_Country,Productname))"
   ]
  },
  {
   "cell_type": "code",
   "execution_count": null,
   "metadata": {
    "collapsed": true
   },
   "outputs": [],
   "source": []
  },
  {
   "cell_type": "code",
   "execution_count": null,
   "metadata": {
    "collapsed": true
   },
   "outputs": [],
   "source": []
  },
  {
   "cell_type": "code",
   "execution_count": null,
   "metadata": {
    "collapsed": true
   },
   "outputs": [],
   "source": []
  },
  {
   "cell_type": "markdown",
   "metadata": {},
   "source": [
    "# For Combination of Month and Feature with Multiple Runs Start"
   ]
  },
  {
   "cell_type": "code",
   "execution_count": 77,
   "metadata": {
    "collapsed": true
   },
   "outputs": [],
   "source": [
    "y = Data_Core1.parse('Y', header=0,index_col=None, na_values=['NA'])['{}_{}_{}'.format(Exp_Country,Imp_Country,Product)]\n",
    "Z = Data_Core1.parse('Y', header=0,index_col=None, na_values=['NA'])[['Date','Year','Month']]\n",
    "\n",
    "dependent_variable_type='log'\n",
    "\n",
    "if dependent_variable_type=='same':\n",
    "    dependent_variable=y\n",
    "elif dependent_variable_type=='log':\n",
    "    dependent_variable=y.apply(np.log)\n",
    "elif dependent_variable_type=='sqrt':\n",
    "    dependent_variable=y.apply(np.sqrt)\n"
   ]
  },
  {
   "cell_type": "code",
   "execution_count": 78,
   "metadata": {
    "scrolled": true
   },
   "outputs": [
    {
     "name": "stdout",
     "output_type": "stream",
     "text": [
      "month 1 percent 100 Original R2 value 0.05 R2 value converted 0.035\n",
      "month 1 percent 100 Original R2 value 0.05 R2 value converted 0.036\n",
      "month 1 percent 100 Original R2 value 0.052 R2 value converted 0.039\n",
      "month 1 percent 100 Original R2 value 0.052 R2 value converted 0.035\n",
      "month 1 percent 100 Original R2 value 0.047 R2 value converted 0.033\n",
      "month 1 percent 75 Original R2 value 0.062 R2 value converted 0.043\n",
      "month 1 percent 75 Original R2 value 0.072 R2 value converted 0.053\n",
      "month 1 percent 75 Original R2 value 0.055 R2 value converted 0.04\n",
      "month 1 percent 75 Original R2 value 0.048 R2 value converted 0.036\n",
      "month 1 percent 75 Original R2 value 0.068 R2 value converted 0.05\n",
      "month 1 percent 50 Original R2 value 0.093 R2 value converted 0.066\n",
      "month 1 percent 50 Original R2 value 0.097 R2 value converted 0.071\n",
      "month 1 percent 50 Original R2 value 0.084 R2 value converted 0.063\n",
      "month 1 percent 50 Original R2 value 0.089 R2 value converted 0.065\n",
      "month 1 percent 50 Original R2 value 0.103 R2 value converted 0.077\n",
      "month 1 percent 25 Original R2 value 0.138 R2 value converted 0.103\n",
      "month 1 percent 25 Original R2 value 0.128 R2 value converted 0.096\n",
      "month 1 percent 25 Original R2 value 0.126 R2 value converted 0.095\n",
      "month 1 percent 25 Original R2 value 0.146 R2 value converted 0.109\n",
      "month 1 percent 25 Original R2 value 0.135 R2 value converted 0.096\n",
      "month _12 percent 100 Original R2 value 0.07 R2 value converted 0.046\n",
      "month _12 percent 100 Original R2 value 0.077 R2 value converted 0.055\n",
      "month _12 percent 100 Original R2 value 0.078 R2 value converted 0.052\n",
      "month _12 percent 100 Original R2 value 0.058 R2 value converted 0.04\n",
      "month _12 percent 100 Original R2 value 0.072 R2 value converted 0.048\n",
      "month _12 percent 75 Original R2 value 0.066 R2 value converted 0.047\n",
      "month _12 percent 75 Original R2 value 0.062 R2 value converted 0.041\n",
      "month _12 percent 75 Original R2 value 0.076 R2 value converted 0.055\n",
      "month _12 percent 75 Original R2 value 0.051 R2 value converted 0.035\n",
      "month _12 percent 75 Original R2 value 0.073 R2 value converted 0.051\n",
      "month _12 percent 50 Original R2 value 0.11 R2 value converted 0.079\n",
      "month _12 percent 50 Original R2 value 0.105 R2 value converted 0.073\n",
      "month _12 percent 50 Original R2 value 0.086 R2 value converted 0.058\n",
      "month _12 percent 50 Original R2 value 0.102 R2 value converted 0.074\n",
      "month _12 percent 50 Original R2 value 0.103 R2 value converted 0.073\n",
      "month _12 percent 25 Original R2 value 0.1 R2 value converted 0.077\n",
      "month _12 percent 25 Original R2 value 0.11 R2 value converted 0.088\n",
      "month _12 percent 25 Original R2 value 0.126 R2 value converted 0.102\n",
      "month _12 percent 25 Original R2 value 0.105 R2 value converted 0.084\n",
      "month _12 percent 25 Original R2 value 0.113 R2 value converted 0.087\n",
      "month _123 percent 100 Original R2 value 0.076 R2 value converted 0.05\n",
      "month _123 percent 100 Original R2 value 0.068 R2 value converted 0.046\n",
      "month _123 percent 100 Original R2 value 0.067 R2 value converted 0.043\n",
      "month _123 percent 100 Original R2 value 0.089 R2 value converted 0.056\n",
      "month _123 percent 100 Original R2 value 0.059 R2 value converted 0.039\n",
      "month _123 percent 75 Original R2 value 0.073 R2 value converted 0.048\n",
      "month _123 percent 75 Original R2 value 0.071 R2 value converted 0.046\n",
      "month _123 percent 75 Original R2 value 0.074 R2 value converted 0.05\n",
      "month _123 percent 75 Original R2 value 0.056 R2 value converted 0.037\n",
      "month _123 percent 75 Original R2 value 0.062 R2 value converted 0.042\n",
      "month _123 percent 50 Original R2 value 0.085 R2 value converted 0.056\n",
      "month _123 percent 50 Original R2 value 0.094 R2 value converted 0.061\n",
      "month _123 percent 50 Original R2 value 0.076 R2 value converted 0.049\n",
      "month _123 percent 50 Original R2 value 0.083 R2 value converted 0.054\n",
      "month _123 percent 50 Original R2 value 0.095 R2 value converted 0.067\n",
      "month _123 percent 25 Original R2 value 0.12 R2 value converted 0.096\n",
      "month _123 percent 25 Original R2 value 0.115 R2 value converted 0.091\n",
      "month _123 percent 25 Original R2 value 0.127 R2 value converted 0.101\n",
      "month _123 percent 25 Original R2 value 0.112 R2 value converted 0.089\n",
      "month _123 percent 25 Original R2 value 0.118 R2 value converted 0.096\n",
      "month 2 percent 100 Original R2 value 0.067 R2 value converted 0.065\n",
      "month 2 percent 100 Original R2 value 0.094 R2 value converted 0.085\n",
      "month 2 percent 100 Original R2 value 0.075 R2 value converted 0.069\n",
      "month 2 percent 100 Original R2 value 0.063 R2 value converted 0.059\n",
      "month 2 percent 100 Original R2 value 0.097 R2 value converted 0.092\n",
      "month 2 percent 75 Original R2 value 0.098 R2 value converted 0.09\n",
      "month 2 percent 75 Original R2 value 0.082 R2 value converted 0.071\n",
      "month 2 percent 75 Original R2 value 0.076 R2 value converted 0.068\n",
      "month 2 percent 75 Original R2 value 0.084 R2 value converted 0.078\n",
      "month 2 percent 75 Original R2 value 0.086 R2 value converted 0.082\n",
      "month 2 percent 50 Original R2 value 0.126 R2 value converted 0.112\n",
      "month 2 percent 50 Original R2 value 0.107 R2 value converted 0.094\n",
      "month 2 percent 50 Original R2 value 0.099 R2 value converted 0.086\n",
      "month 2 percent 50 Original R2 value 0.106 R2 value converted 0.097\n",
      "month 2 percent 50 Original R2 value 0.097 R2 value converted 0.085\n",
      "month 2 percent 25 Original R2 value 0.067 R2 value converted 0.057\n",
      "month 2 percent 25 Original R2 value 0.065 R2 value converted 0.059\n",
      "month 2 percent 25 Original R2 value 0.07 R2 value converted 0.064\n",
      "month 2 percent 25 Original R2 value 0.065 R2 value converted 0.062\n",
      "month 2 percent 25 Original R2 value 0.068 R2 value converted 0.062\n",
      "month _23 percent 100 Original R2 value 0.096 R2 value converted 0.082\n",
      "month _23 percent 100 Original R2 value 0.095 R2 value converted 0.084\n",
      "month _23 percent 100 Original R2 value 0.125 R2 value converted 0.111\n",
      "month _23 percent 100 Original R2 value 0.104 R2 value converted 0.088\n",
      "month _23 percent 100 Original R2 value 0.125 R2 value converted 0.111\n",
      "month _23 percent 75 Original R2 value 0.107 R2 value converted 0.094\n",
      "month _23 percent 75 Original R2 value 0.099 R2 value converted 0.092\n",
      "month _23 percent 75 Original R2 value 0.105 R2 value converted 0.095\n",
      "month _23 percent 75 Original R2 value 0.108 R2 value converted 0.095\n",
      "month _23 percent 75 Original R2 value 0.112 R2 value converted 0.097\n",
      "month _23 percent 50 Original R2 value 0.119 R2 value converted 0.109\n",
      "month _23 percent 50 Original R2 value 0.119 R2 value converted 0.107\n",
      "month _23 percent 50 Original R2 value 0.118 R2 value converted 0.102\n",
      "month _23 percent 50 Original R2 value 0.095 R2 value converted 0.09\n",
      "month _23 percent 50 Original R2 value 0.103 R2 value converted 0.093\n",
      "month _23 percent 25 Original R2 value 0.146 R2 value converted 0.128\n",
      "month _23 percent 25 Original R2 value 0.185 R2 value converted 0.164\n",
      "month _23 percent 25 Original R2 value 0.159 R2 value converted 0.135\n",
      "month _23 percent 25 Original R2 value 0.158 R2 value converted 0.14\n",
      "month _23 percent 25 Original R2 value 0.151 R2 value converted 0.131\n",
      "month _234 percent 100 Original R2 value 0.128 R2 value converted 0.109\n",
      "month _234 percent 100 Original R2 value 0.119 R2 value converted 0.107\n",
      "month _234 percent 100 Original R2 value 0.139 R2 value converted 0.119\n",
      "month _234 percent 100 Original R2 value 0.144 R2 value converted 0.127\n",
      "month _234 percent 100 Original R2 value 0.138 R2 value converted 0.126\n",
      "month _234 percent 75 Original R2 value 0.119 R2 value converted 0.109\n",
      "month _234 percent 75 Original R2 value 0.155 R2 value converted 0.137\n",
      "month _234 percent 75 Original R2 value 0.13 R2 value converted 0.114\n",
      "month _234 percent 75 Original R2 value 0.118 R2 value converted 0.101\n",
      "month _234 percent 75 Original R2 value 0.103 R2 value converted 0.092\n",
      "month _234 percent 50 Original R2 value 0.151 R2 value converted 0.135\n",
      "month _234 percent 50 Original R2 value 0.129 R2 value converted 0.116\n",
      "month _234 percent 50 Original R2 value 0.149 R2 value converted 0.137\n",
      "month _234 percent 50 Original R2 value 0.132 R2 value converted 0.12\n",
      "month _234 percent 50 Original R2 value 0.121 R2 value converted 0.108\n",
      "month _234 percent 25 Original R2 value 0.128 R2 value converted 0.118\n",
      "month _234 percent 25 Original R2 value 0.141 R2 value converted 0.13\n",
      "month _234 percent 25 Original R2 value 0.153 R2 value converted 0.135\n",
      "month _234 percent 25 Original R2 value 0.124 R2 value converted 0.11\n",
      "month _234 percent 25 Original R2 value 0.137 R2 value converted 0.12\n",
      "month 3 percent 100 Original R2 value 0.132 R2 value converted 0.117\n",
      "month 3 percent 100 Original R2 value 0.104 R2 value converted 0.094\n",
      "month 3 percent 100 Original R2 value 0.107 R2 value converted 0.094\n",
      "month 3 percent 100 Original R2 value 0.115 R2 value converted 0.103\n",
      "month 3 percent 100 Original R2 value 0.125 R2 value converted 0.111\n",
      "month 3 percent 75 Original R2 value 0.087 R2 value converted 0.086\n",
      "month 3 percent 75 Original R2 value 0.111 R2 value converted 0.099\n",
      "month 3 percent 75 Original R2 value 0.087 R2 value converted 0.076\n",
      "month 3 percent 75 Original R2 value 0.092 R2 value converted 0.085\n",
      "month 3 percent 75 Original R2 value 0.096 R2 value converted 0.086\n",
      "month 3 percent 50 Original R2 value 0.074 R2 value converted 0.072\n",
      "month 3 percent 50 Original R2 value 0.09 R2 value converted 0.083\n",
      "month 3 percent 50 Original R2 value 0.089 R2 value converted 0.088\n",
      "month 3 percent 50 Original R2 value 0.093 R2 value converted 0.086\n",
      "month 3 percent 50 Original R2 value 0.109 R2 value converted 0.105\n",
      "month 3 percent 25 Original R2 value 0.126 R2 value converted 0.127\n",
      "month 3 percent 25 Original R2 value 0.159 R2 value converted 0.163\n",
      "month 3 percent 25 Original R2 value 0.127 R2 value converted 0.124\n",
      "month 3 percent 25 Original R2 value 0.128 R2 value converted 0.126\n",
      "month 3 percent 25 Original R2 value 0.136 R2 value converted 0.143\n",
      "month _34 percent 100 Original R2 value 0.126 R2 value converted 0.116\n",
      "month _34 percent 100 Original R2 value 0.149 R2 value converted 0.131\n",
      "month _34 percent 100 Original R2 value 0.162 R2 value converted 0.143\n",
      "month _34 percent 100 Original R2 value 0.131 R2 value converted 0.119\n",
      "month _34 percent 100 Original R2 value 0.126 R2 value converted 0.111\n",
      "month _34 percent 75 Original R2 value 0.148 R2 value converted 0.138\n",
      "month _34 percent 75 Original R2 value 0.127 R2 value converted 0.111\n",
      "month _34 percent 75 Original R2 value 0.126 R2 value converted 0.11\n",
      "month _34 percent 75 Original R2 value 0.119 R2 value converted 0.11\n",
      "month _34 percent 75 Original R2 value 0.114 R2 value converted 0.102\n",
      "month _34 percent 50 Original R2 value 0.145 R2 value converted 0.134\n",
      "month _34 percent 50 Original R2 value 0.168 R2 value converted 0.156\n",
      "month _34 percent 50 Original R2 value 0.133 R2 value converted 0.119\n",
      "month _34 percent 50 Original R2 value 0.135 R2 value converted 0.122\n",
      "month _34 percent 50 Original R2 value 0.158 R2 value converted 0.146\n",
      "month _34 percent 25 Original R2 value 0.158 R2 value converted 0.136\n",
      "month _34 percent 25 Original R2 value 0.139 R2 value converted 0.116\n",
      "month _34 percent 25 Original R2 value 0.168 R2 value converted 0.146\n",
      "month _34 percent 25 Original R2 value 0.176 R2 value converted 0.151\n",
      "month _34 percent 25 Original R2 value 0.171 R2 value converted 0.139\n",
      "month _345 percent 100 Original R2 value 0.117 R2 value converted 0.115\n",
      "month _345 percent 100 Original R2 value 0.138 R2 value converted 0.135\n",
      "month _345 percent 100 Original R2 value 0.147 R2 value converted 0.138\n",
      "month _345 percent 100 Original R2 value 0.105 R2 value converted 0.105\n",
      "month _345 percent 100 Original R2 value 0.138 R2 value converted 0.123\n",
      "month _345 percent 75 Original R2 value 0.134 R2 value converted 0.132\n",
      "month _345 percent 75 Original R2 value 0.137 R2 value converted 0.133\n",
      "month _345 percent 75 Original R2 value 0.133 R2 value converted 0.131\n",
      "month _345 percent 75 Original R2 value 0.135 R2 value converted 0.13\n",
      "month _345 percent 75 Original R2 value 0.132 R2 value converted 0.124\n",
      "month _345 percent 50 Original R2 value 0.098 R2 value converted 0.095\n",
      "month _345 percent 50 Original R2 value 0.158 R2 value converted 0.152\n",
      "month _345 percent 50 Original R2 value 0.146 R2 value converted 0.131\n",
      "month _345 percent 50 Original R2 value 0.114 R2 value converted 0.106\n",
      "month _345 percent 50 Original R2 value 0.147 R2 value converted 0.143\n",
      "month _345 percent 25 Original R2 value 0.156 R2 value converted 0.144\n",
      "month _345 percent 25 Original R2 value 0.167 R2 value converted 0.159\n",
      "month _345 percent 25 Original R2 value 0.171 R2 value converted 0.157\n",
      "month _345 percent 25 Original R2 value 0.175 R2 value converted 0.159\n",
      "month _345 percent 25 Original R2 value 0.184 R2 value converted 0.173\n",
      "month 4 percent 100 Original R2 value 0.154 R2 value converted 0.137\n",
      "month 4 percent 100 Original R2 value 0.158 R2 value converted 0.136\n",
      "month 4 percent 100 Original R2 value 0.152 R2 value converted 0.129\n",
      "month 4 percent 100 Original R2 value 0.168 R2 value converted 0.141\n",
      "month 4 percent 100 Original R2 value 0.174 R2 value converted 0.152\n",
      "month 4 percent 75 Original R2 value 0.198 R2 value converted 0.177\n",
      "month 4 percent 75 Original R2 value 0.207 R2 value converted 0.179\n",
      "month 4 percent 75 Original R2 value 0.233 R2 value converted 0.206\n",
      "month 4 percent 75 Original R2 value 0.183 R2 value converted 0.152\n",
      "month 4 percent 75 Original R2 value 0.202 R2 value converted 0.176\n",
      "month 4 percent 50 Original R2 value 0.222 R2 value converted 0.195\n",
      "month 4 percent 50 Original R2 value 0.221 R2 value converted 0.196\n",
      "month 4 percent 50 Original R2 value 0.206 R2 value converted 0.187\n",
      "month 4 percent 50 Original R2 value 0.24 R2 value converted 0.21\n",
      "month 4 percent 50 Original R2 value 0.241 R2 value converted 0.219\n",
      "month 4 percent 25 Original R2 value 0.177 R2 value converted 0.16\n",
      "month 4 percent 25 Original R2 value 0.194 R2 value converted 0.169\n",
      "month 4 percent 25 Original R2 value 0.193 R2 value converted 0.172\n",
      "month 4 percent 25 Original R2 value 0.197 R2 value converted 0.177\n",
      "month 4 percent 25 Original R2 value 0.187 R2 value converted 0.167\n",
      "month _45 percent 100 Original R2 value 0.13 R2 value converted 0.119\n",
      "month _45 percent 100 Original R2 value 0.126 R2 value converted 0.122\n",
      "month _45 percent 100 Original R2 value 0.125 R2 value converted 0.119\n",
      "month _45 percent 100 Original R2 value 0.129 R2 value converted 0.12\n",
      "month _45 percent 100 Original R2 value 0.137 R2 value converted 0.134\n",
      "month _45 percent 75 Original R2 value 0.152 R2 value converted 0.148\n",
      "month _45 percent 75 Original R2 value 0.156 R2 value converted 0.146\n",
      "month _45 percent 75 Original R2 value 0.156 R2 value converted 0.15\n",
      "month _45 percent 75 Original R2 value 0.166 R2 value converted 0.152\n",
      "month _45 percent 75 Original R2 value 0.134 R2 value converted 0.124\n",
      "month _45 percent 50 Original R2 value 0.187 R2 value converted 0.177\n",
      "month _45 percent 50 Original R2 value 0.179 R2 value converted 0.178\n",
      "month _45 percent 50 Original R2 value 0.18 R2 value converted 0.181\n",
      "month _45 percent 50 Original R2 value 0.209 R2 value converted 0.209\n",
      "month _45 percent 50 Original R2 value 0.178 R2 value converted 0.165\n",
      "month _45 percent 25 Original R2 value 0.207 R2 value converted 0.199\n",
      "month _45 percent 25 Original R2 value 0.181 R2 value converted 0.178\n",
      "month _45 percent 25 Original R2 value 0.233 R2 value converted 0.22\n",
      "month _45 percent 25 Original R2 value 0.223 R2 value converted 0.216\n",
      "month _45 percent 25 Original R2 value 0.208 R2 value converted 0.2\n",
      "month _456 percent 100 Original R2 value 0.215 R2 value converted 0.198\n",
      "month _456 percent 100 Original R2 value 0.193 R2 value converted 0.172\n",
      "month _456 percent 100 Original R2 value 0.17 R2 value converted 0.154\n",
      "month _456 percent 100 Original R2 value 0.236 R2 value converted 0.22\n",
      "month _456 percent 100 Original R2 value 0.223 R2 value converted 0.197\n",
      "month _456 percent 75 Original R2 value 0.203 R2 value converted 0.18\n",
      "month _456 percent 75 Original R2 value 0.184 R2 value converted 0.175\n",
      "month _456 percent 75 Original R2 value 0.183 R2 value converted 0.171\n",
      "month _456 percent 75 Original R2 value 0.178 R2 value converted 0.164\n",
      "month _456 percent 75 Original R2 value 0.2 R2 value converted 0.179\n",
      "month _456 percent 50 Original R2 value 0.267 R2 value converted 0.231\n",
      "month _456 percent 50 Original R2 value 0.296 R2 value converted 0.266\n",
      "month _456 percent 50 Original R2 value 0.297 R2 value converted 0.259\n",
      "month _456 percent 50 Original R2 value 0.295 R2 value converted 0.264\n",
      "month _456 percent 50 Original R2 value 0.298 R2 value converted 0.257\n",
      "month _456 percent 25 Original R2 value 0.296 R2 value converted 0.284\n",
      "month _456 percent 25 Original R2 value 0.345 R2 value converted 0.332\n",
      "month _456 percent 25 Original R2 value 0.285 R2 value converted 0.276\n",
      "month _456 percent 25 Original R2 value 0.309 R2 value converted 0.296\n",
      "month _456 percent 25 Original R2 value 0.336 R2 value converted 0.314\n",
      "month 5 percent 100 Original R2 value 0.092 R2 value converted 0.092\n",
      "month 5 percent 100 Original R2 value 0.086 R2 value converted 0.089\n",
      "month 5 percent 100 Original R2 value 0.084 R2 value converted 0.087\n",
      "month 5 percent 100 Original R2 value 0.092 R2 value converted 0.09\n",
      "month 5 percent 100 Original R2 value 0.086 R2 value converted 0.091\n",
      "month 5 percent 75 Original R2 value 0.076 R2 value converted 0.081\n",
      "month 5 percent 75 Original R2 value 0.087 R2 value converted 0.088\n",
      "month 5 percent 75 Original R2 value 0.074 R2 value converted 0.078\n",
      "month 5 percent 75 Original R2 value 0.094 R2 value converted 0.094\n",
      "month 5 percent 75 Original R2 value 0.087 R2 value converted 0.088\n",
      "month 5 percent 50 Original R2 value 0.096 R2 value converted 0.101\n",
      "month 5 percent 50 Original R2 value 0.089 R2 value converted 0.101\n",
      "month 5 percent 50 Original R2 value 0.078 R2 value converted 0.085\n",
      "month 5 percent 50 Original R2 value 0.091 R2 value converted 0.099\n",
      "month 5 percent 50 Original R2 value 0.083 R2 value converted 0.092\n",
      "month 5 percent 25 Original R2 value 0.125 R2 value converted 0.122\n",
      "month 5 percent 25 Original R2 value 0.135 R2 value converted 0.131\n",
      "month 5 percent 25 Original R2 value 0.123 R2 value converted 0.121\n",
      "month 5 percent 25 Original R2 value 0.135 R2 value converted 0.127\n",
      "month 5 percent 25 Original R2 value 0.119 R2 value converted 0.114\n",
      "month _56 percent 100 Original R2 value 0.159 R2 value converted 0.155\n",
      "month _56 percent 100 Original R2 value 0.171 R2 value converted 0.155\n",
      "month _56 percent 100 Original R2 value 0.155 R2 value converted 0.14\n",
      "month _56 percent 100 Original R2 value 0.182 R2 value converted 0.161\n",
      "month _56 percent 100 Original R2 value 0.17 R2 value converted 0.158\n",
      "month _56 percent 75 Original R2 value 0.208 R2 value converted 0.186\n",
      "month _56 percent 75 Original R2 value 0.161 R2 value converted 0.15\n",
      "month _56 percent 75 Original R2 value 0.198 R2 value converted 0.182\n",
      "month _56 percent 75 Original R2 value 0.213 R2 value converted 0.193\n",
      "month _56 percent 75 Original R2 value 0.206 R2 value converted 0.183\n",
      "month _56 percent 50 Original R2 value 0.232 R2 value converted 0.193\n",
      "month _56 percent 50 Original R2 value 0.263 R2 value converted 0.219\n",
      "month _56 percent 50 Original R2 value 0.214 R2 value converted 0.188\n",
      "month _56 percent 50 Original R2 value 0.241 R2 value converted 0.202\n",
      "month _56 percent 50 Original R2 value 0.221 R2 value converted 0.185\n",
      "month _56 percent 25 Original R2 value 0.254 R2 value converted 0.221\n",
      "month _56 percent 25 Original R2 value 0.234 R2 value converted 0.208\n",
      "month _56 percent 25 Original R2 value 0.26 R2 value converted 0.229\n",
      "month _56 percent 25 Original R2 value 0.253 R2 value converted 0.215\n",
      "month _56 percent 25 Original R2 value 0.219 R2 value converted 0.198\n",
      "month _567 percent 100 Original R2 value 0.187 R2 value converted 0.146\n",
      "month _567 percent 100 Original R2 value 0.194 R2 value converted 0.145\n",
      "month _567 percent 100 Original R2 value 0.202 R2 value converted 0.153\n",
      "month _567 percent 100 Original R2 value 0.226 R2 value converted 0.181\n",
      "month _567 percent 100 Original R2 value 0.211 R2 value converted 0.159\n",
      "month _567 percent 75 Original R2 value 0.199 R2 value converted 0.157\n",
      "month _567 percent 75 Original R2 value 0.214 R2 value converted 0.165\n",
      "month _567 percent 75 Original R2 value 0.261 R2 value converted 0.203\n",
      "month _567 percent 75 Original R2 value 0.21 R2 value converted 0.158\n",
      "month _567 percent 75 Original R2 value 0.217 R2 value converted 0.167\n",
      "month _567 percent 50 Original R2 value 0.251 R2 value converted 0.19\n",
      "month _567 percent 50 Original R2 value 0.268 R2 value converted 0.202\n",
      "month _567 percent 50 Original R2 value 0.277 R2 value converted 0.221\n",
      "month _567 percent 50 Original R2 value 0.243 R2 value converted 0.184\n",
      "month _567 percent 50 Original R2 value 0.263 R2 value converted 0.203\n",
      "month _567 percent 25 Original R2 value 0.309 R2 value converted 0.237\n",
      "month _567 percent 25 Original R2 value 0.302 R2 value converted 0.228\n",
      "month _567 percent 25 Original R2 value 0.307 R2 value converted 0.239\n",
      "month _567 percent 25 Original R2 value 0.274 R2 value converted 0.209\n",
      "month _567 percent 25 Original R2 value 0.313 R2 value converted 0.244\n",
      "month 6 percent 100 Original R2 value 0.246 R2 value converted 0.205\n",
      "month 6 percent 100 Original R2 value 0.228 R2 value converted 0.198\n",
      "month 6 percent 100 Original R2 value 0.252 R2 value converted 0.21\n",
      "month 6 percent 100 Original R2 value 0.259 R2 value converted 0.219\n",
      "month 6 percent 100 Original R2 value 0.261 R2 value converted 0.219\n",
      "month 6 percent 75 Original R2 value 0.28 R2 value converted 0.231\n",
      "month 6 percent 75 Original R2 value 0.25 R2 value converted 0.211\n",
      "month 6 percent 75 Original R2 value 0.249 R2 value converted 0.211\n",
      "month 6 percent 75 Original R2 value 0.235 R2 value converted 0.2\n",
      "month 6 percent 75 Original R2 value 0.243 R2 value converted 0.208\n",
      "month 6 percent 50 Original R2 value 0.284 R2 value converted 0.23\n",
      "month 6 percent 50 Original R2 value 0.3 R2 value converted 0.236\n",
      "month 6 percent 50 Original R2 value 0.268 R2 value converted 0.21\n",
      "month 6 percent 50 Original R2 value 0.29 R2 value converted 0.226\n",
      "month 6 percent 50 Original R2 value 0.284 R2 value converted 0.226\n",
      "month 6 percent 25 Original R2 value 0.262 R2 value converted 0.238\n",
      "month 6 percent 25 Original R2 value 0.295 R2 value converted 0.27\n",
      "month 6 percent 25 Original R2 value 0.279 R2 value converted 0.253\n",
      "month 6 percent 25 Original R2 value 0.283 R2 value converted 0.258\n",
      "month 6 percent 25 Original R2 value 0.298 R2 value converted 0.272\n",
      "month _67 percent 100 Original R2 value 0.233 R2 value converted 0.168\n",
      "month _67 percent 100 Original R2 value 0.222 R2 value converted 0.154\n",
      "month _67 percent 100 Original R2 value 0.221 R2 value converted 0.163\n",
      "month _67 percent 100 Original R2 value 0.23 R2 value converted 0.164\n",
      "month _67 percent 100 Original R2 value 0.218 R2 value converted 0.158\n",
      "month _67 percent 75 Original R2 value 0.231 R2 value converted 0.162\n",
      "month _67 percent 75 Original R2 value 0.234 R2 value converted 0.169\n",
      "month _67 percent 75 Original R2 value 0.236 R2 value converted 0.176\n",
      "month _67 percent 75 Original R2 value 0.227 R2 value converted 0.159\n",
      "month _67 percent 75 Original R2 value 0.222 R2 value converted 0.158\n",
      "month _67 percent 50 Original R2 value 0.223 R2 value converted 0.158\n",
      "month _67 percent 50 Original R2 value 0.263 R2 value converted 0.19\n",
      "month _67 percent 50 Original R2 value 0.215 R2 value converted 0.153\n",
      "month _67 percent 50 Original R2 value 0.219 R2 value converted 0.15\n",
      "month _67 percent 50 Original R2 value 0.237 R2 value converted 0.173\n",
      "month _67 percent 25 Original R2 value 0.263 R2 value converted 0.191\n",
      "month _67 percent 25 Original R2 value 0.268 R2 value converted 0.204\n",
      "month _67 percent 25 Original R2 value 0.203 R2 value converted 0.149\n",
      "month _67 percent 25 Original R2 value 0.264 R2 value converted 0.193\n",
      "month _67 percent 25 Original R2 value 0.224 R2 value converted 0.163\n",
      "month _678 percent 100 Original R2 value 0.217 R2 value converted 0.176\n",
      "month _678 percent 100 Original R2 value 0.237 R2 value converted 0.197\n",
      "month _678 percent 100 Original R2 value 0.184 R2 value converted 0.156\n",
      "month _678 percent 100 Original R2 value 0.227 R2 value converted 0.191\n",
      "month _678 percent 100 Original R2 value 0.207 R2 value converted 0.168\n",
      "month _678 percent 75 Original R2 value 0.268 R2 value converted 0.222\n",
      "month _678 percent 75 Original R2 value 0.214 R2 value converted 0.175\n",
      "month _678 percent 75 Original R2 value 0.226 R2 value converted 0.181\n",
      "month _678 percent 75 Original R2 value 0.211 R2 value converted 0.178\n",
      "month _678 percent 75 Original R2 value 0.198 R2 value converted 0.162\n",
      "month _678 percent 50 Original R2 value 0.247 R2 value converted 0.2\n",
      "month _678 percent 50 Original R2 value 0.188 R2 value converted 0.154\n",
      "month _678 percent 50 Original R2 value 0.231 R2 value converted 0.191\n",
      "month _678 percent 50 Original R2 value 0.255 R2 value converted 0.209\n",
      "month _678 percent 50 Original R2 value 0.235 R2 value converted 0.19\n",
      "month _678 percent 25 Original R2 value 0.225 R2 value converted 0.184\n",
      "month _678 percent 25 Original R2 value 0.268 R2 value converted 0.23\n",
      "month _678 percent 25 Original R2 value 0.236 R2 value converted 0.201\n",
      "month _678 percent 25 Original R2 value 0.236 R2 value converted 0.205\n",
      "month _678 percent 25 Original R2 value 0.234 R2 value converted 0.192\n",
      "month 12 percent 100 Original R2 value 0.216 R2 value converted 0.184\n",
      "month 12 percent 100 Original R2 value 0.198 R2 value converted 0.168\n",
      "month 12 percent 100 Original R2 value 0.191 R2 value converted 0.156\n",
      "month 12 percent 100 Original R2 value 0.176 R2 value converted 0.148\n",
      "month 12 percent 100 Original R2 value 0.201 R2 value converted 0.176\n",
      "month 12 percent 75 Original R2 value 0.198 R2 value converted 0.181\n",
      "month 12 percent 75 Original R2 value 0.184 R2 value converted 0.158\n",
      "month 12 percent 75 Original R2 value 0.178 R2 value converted 0.15\n",
      "month 12 percent 75 Original R2 value 0.212 R2 value converted 0.182\n",
      "month 12 percent 75 Original R2 value 0.181 R2 value converted 0.158\n",
      "month 12 percent 50 Original R2 value 0.183 R2 value converted 0.161\n",
      "month 12 percent 50 Original R2 value 0.17 R2 value converted 0.145\n",
      "month 12 percent 50 Original R2 value 0.198 R2 value converted 0.171\n",
      "month 12 percent 50 Original R2 value 0.209 R2 value converted 0.186\n",
      "month 12 percent 50 Original R2 value 0.177 R2 value converted 0.154\n",
      "month 12 percent 25 Original R2 value 0.184 R2 value converted 0.164\n",
      "month 12 percent 25 Original R2 value 0.172 R2 value converted 0.157\n",
      "month 12 percent 25 Original R2 value 0.193 R2 value converted 0.17\n",
      "month 12 percent 25 Original R2 value 0.178 R2 value converted 0.158\n",
      "month 12 percent 25 Original R2 value 0.183 R2 value converted 0.165\n",
      "month _1236 percent 100 Original R2 value 0.093 R2 value converted 0.065\n",
      "month _1236 percent 100 Original R2 value 0.104 R2 value converted 0.075\n",
      "month _1236 percent 100 Original R2 value 0.088 R2 value converted 0.065\n",
      "month _1236 percent 100 Original R2 value 0.109 R2 value converted 0.085\n",
      "month _1236 percent 100 Original R2 value 0.093 R2 value converted 0.07\n",
      "month _1236 percent 75 Original R2 value 0.105 R2 value converted 0.079\n",
      "month _1236 percent 75 Original R2 value 0.117 R2 value converted 0.087\n",
      "month _1236 percent 75 Original R2 value 0.146 R2 value converted 0.113\n",
      "month _1236 percent 75 Original R2 value 0.109 R2 value converted 0.081\n",
      "month _1236 percent 75 Original R2 value 0.104 R2 value converted 0.075\n",
      "month _1236 percent 50 Original R2 value 0.139 R2 value converted 0.105\n",
      "month _1236 percent 50 Original R2 value 0.1 R2 value converted 0.075\n",
      "month _1236 percent 50 Original R2 value 0.121 R2 value converted 0.087\n",
      "month _1236 percent 50 Original R2 value 0.109 R2 value converted 0.08\n",
      "month _1236 percent 50 Original R2 value 0.12 R2 value converted 0.09\n",
      "month _1236 percent 25 Original R2 value 0.158 R2 value converted 0.122\n",
      "month _1236 percent 25 Original R2 value 0.148 R2 value converted 0.113\n",
      "month _1236 percent 25 Original R2 value 0.147 R2 value converted 0.109\n",
      "month _1236 percent 25 Original R2 value 0.151 R2 value converted 0.12\n",
      "month _1236 percent 25 Original R2 value 0.147 R2 value converted 0.117\n",
      "month _123456 percent 100 Original R2 value 0.097 R2 value converted 0.072\n",
      "month _123456 percent 100 Original R2 value 0.093 R2 value converted 0.068\n",
      "month _123456 percent 100 Original R2 value 0.114 R2 value converted 0.085\n",
      "month _123456 percent 100 Original R2 value 0.096 R2 value converted 0.072\n",
      "month _123456 percent 100 Original R2 value 0.128 R2 value converted 0.096\n",
      "month _123456 percent 75 Original R2 value 0.121 R2 value converted 0.095\n",
      "month _123456 percent 75 Original R2 value 0.111 R2 value converted 0.087\n",
      "month _123456 percent 75 Original R2 value 0.106 R2 value converted 0.083\n",
      "month _123456 percent 75 Original R2 value 0.102 R2 value converted 0.078\n",
      "month _123456 percent 75 Original R2 value 0.105 R2 value converted 0.078\n",
      "month _123456 percent 50 Original R2 value 0.118 R2 value converted 0.088\n",
      "month _123456 percent 50 Original R2 value 0.119 R2 value converted 0.09\n",
      "month _123456 percent 50 Original R2 value 0.111 R2 value converted 0.088\n",
      "month _123456 percent 50 Original R2 value 0.111 R2 value converted 0.083\n",
      "month _123456 percent 50 Original R2 value 0.115 R2 value converted 0.087\n",
      "month _123456 percent 25 Original R2 value 0.148 R2 value converted 0.122\n",
      "month _123456 percent 25 Original R2 value 0.16 R2 value converted 0.129\n",
      "month _123456 percent 25 Original R2 value 0.155 R2 value converted 0.122\n",
      "month _123456 percent 25 Original R2 value 0.17 R2 value converted 0.136\n",
      "month _123456 percent 25 Original R2 value 0.156 R2 value converted 0.129\n",
      "month _1236_12 percent 100 Original R2 value 0.109 R2 value converted 0.078\n",
      "month _1236_12 percent 100 Original R2 value 0.126 R2 value converted 0.089\n",
      "month _1236_12 percent 100 Original R2 value 0.103 R2 value converted 0.076\n",
      "month _1236_12 percent 100 Original R2 value 0.125 R2 value converted 0.095\n",
      "month _1236_12 percent 100 Original R2 value 0.093 R2 value converted 0.065\n",
      "month _1236_12 percent 75 Original R2 value 0.114 R2 value converted 0.082\n",
      "month _1236_12 percent 75 Original R2 value 0.077 R2 value converted 0.055\n",
      "month _1236_12 percent 75 Original R2 value 0.103 R2 value converted 0.073\n",
      "month _1236_12 percent 75 Original R2 value 0.103 R2 value converted 0.073\n",
      "month _1236_12 percent 75 Original R2 value 0.105 R2 value converted 0.083\n",
      "month _1236_12 percent 50 Original R2 value 0.133 R2 value converted 0.1\n",
      "month _1236_12 percent 50 Original R2 value 0.101 R2 value converted 0.073\n",
      "month _1236_12 percent 50 Original R2 value 0.128 R2 value converted 0.097\n",
      "month _1236_12 percent 50 Original R2 value 0.108 R2 value converted 0.075\n",
      "month _1236_12 percent 50 Original R2 value 0.131 R2 value converted 0.094\n",
      "month _1236_12 percent 25 Original R2 value 0.143 R2 value converted 0.101\n",
      "month _1236_12 percent 25 Original R2 value 0.163 R2 value converted 0.121\n",
      "month _1236_12 percent 25 Original R2 value 0.151 R2 value converted 0.116\n",
      "month _1236_12 percent 25 Original R2 value 0.151 R2 value converted 0.112\n",
      "month _1236_12 percent 25 Original R2 value 0.132 R2 value converted 0.098\n"
     ]
    },
    {
     "data": {
      "image/png": "[encoded data removed]",
      "text/plain": [
       "<Figure size 432x288 with 1 Axes>"
      ]
     },
     "metadata": {},
     "output_type": "display_data"
    }
   ],
   "source": [
    "os.chdir('C:/Users/murat.ozemre/Desktop/Thesis_Project/Data_Sources_and_Preparation')\n",
    "#MonthSeries_option=[\"1\",\"12\"]\n",
    "#MonthSeries_option=[\"1\",'_12','_123','_1236','_1236_12',\"2\",\"3\",\"6\",\"12\",'_12']\n",
    "MonthSeries_option=[\"1\",'_12','_123',\"2\",'_23','_234',\"3\",'_34','_345',\"4\",'_45','_456',\"5\",'_56','_567',\"6\",'_67','_678',\n",
    "                    \"12\",'_1236','_123456','_1236_12',]\n",
    "\n",
    "results_level1 = pd.DataFrame()\n",
    "results_level2 = pd.DataFrame()\n",
    "feature_results_level1 = pd.DataFrame()\n",
    "Percent_option=[100,75,50,25]\n",
    "\n",
    "number_of_split=5\n",
    " \n",
    "\n",
    "random_state_options=np.random.randint(1,100,size=number_of_split)\n",
    "\n",
    "\n",
    "    \n",
    "for month in MonthSeries_option:\n",
    "\n",
    "#    MonthSeries=month\n",
    "\n",
    "    X = Data_Core1.parse('X{}'.format(month), header=0,index_col=None, na_values=['NA'])\n",
    "    X.drop(['Date','Year','Month'], axis=1, inplace=True)\n",
    "    X_Column_Names=list(X.columns.values)\n",
    "    n_feature=X.shape[1]\n",
    "\n",
    "    #Get Feature Importance\n",
    "    number_of_split_for_feature=100\n",
    "    feature_result=experim.get_feature_importance_result (X,dependent_variable,Z,n_feature,number_of_split_for_feature)\n",
    "    scored_feature_indices=feature_result[0]\n",
    "    feature_score=feature_result[1]\n",
    "    \n",
    "    # Record feature importances\n",
    "    feature_results_level1[str(month)]=feature_result\n",
    "    \n",
    "    # Implement Feature Importance to each month variance    \n",
    "    for percent in Percent_option:\n",
    "    \n",
    "        percentile=100-percent\n",
    "        threshold_for_feature_selection=np.percentile(feature_score[scored_feature_indices], percentile)\n",
    "        X_threshold=X.iloc[:,scored_feature_indices[feature_score[scored_feature_indices]>threshold_for_feature_selection]]\n",
    "    \n",
    "        R2result=[]\n",
    "        Convert_R2result=[]\n",
    "        \n",
    "        for turn in range(number_of_split):\n",
    "            random=random_state_options[turn]\n",
    "            \n",
    "            lag=0\n",
    "\n",
    "            # en sondaki x adet veriyi eğitime sokmamak için\n",
    "            Scaled_Train_Test_Split=experim.X_Y_scaler_train_test_Split(X_threshold.iloc[:len(y)-lag,:],\n",
    "                                                            dependent_variable[:len(y)-lag],\n",
    "                                                            Z.iloc[:len(y)-lag,:],random=random)\n",
    "\n",
    "            \n",
    "\n",
    "            X_train = Scaled_Train_Test_Split[0]\n",
    "            X_test = Scaled_Train_Test_Split[1]\n",
    "            y_train = Scaled_Train_Test_Split[2]\n",
    "            y_test = Scaled_Train_Test_Split[3]\n",
    "            scaler_X = Scaled_Train_Test_Split[4]  \n",
    "            scaler_y = Scaled_Train_Test_Split[5]\n",
    "            scaled_value_X=Scaled_Train_Test_Split[6]\n",
    "            scaled_value_y=Scaled_Train_Test_Split[7]\n",
    "\n",
    "            # Random Foest Regressor model\n",
    "            rfc=RandomForestRegressor(n_estimators=300)\n",
    "\n",
    "            # Random Foest Regressor model train\n",
    "            RandomForestRegressor.fit(rfc,X_train,y_train)\n",
    "\n",
    "            # Random Foest Regressor mode predict\n",
    "            y_predict_test = rfc.predict(X_test)\n",
    "\n",
    "            # Compare predicted Y and real Y \n",
    "            #R2=experim.inverse_scale_and_graph_Y_predict_and_test(y_predict_test,y_test,scaler_y,'YES',dependent_variable_type)[3]\n",
    "            \n",
    "            exp_result=experim.inverse_scale_and_graph_Y_predict_and_test(y_predict_test,y_test,scaler_y,'YES',dependent_variable_type)\n",
    "            \n",
    "            Converted_R2=exp_result[2]\n",
    "            Original_R2=exp_result[3]\n",
    "            \n",
    "            print ('month',month,'percent',percent,'Original R2 value',Original_R2,'R2 value converted',Converted_R2)\n",
    "            #R2result.append(R2)\n",
    "            Convert_R2result.append(Converted_R2)\n",
    "        \n",
    "        #results_level1[str(percent)]=R2result\n",
    "        results_level1[str(percent)]=Convert_R2result\n",
    "        results_level1['month']=month\n",
    "    \n",
    "    results_level2=pd.concat([results_level2,results_level1])\n",
    "\n",
    "results_level2.set_index(['month'],inplace=True)\n",
    "\n"
   ]
  },
  {
   "cell_type": "code",
   "execution_count": 79,
   "metadata": {
    "collapsed": true
   },
   "outputs": [],
   "source": [
    "os.chdir('C:/Users/murat.ozemre/Desktop/Thesis_Project/Data_Learning_Prediction')\n",
    "\n",
    "# Read from Excel Tuning paremeters\n",
    "\n",
    "#abc = pd.ExcelFile('FeatureSelection.xlsx')\n",
    "#abcd = abc.parse('{}_{}_{}'.format(841810,Exp_Country,Imp_Country), header=0,index_col=None, na_values=['NA'])\n",
    "\n",
    "\n",
    "# Write to Excel this and previous Tuning paremeters\n",
    "writer = pd.ExcelWriter('FeatureSelection_{}_{}_{}_{}.xlsx'.format(Exp_Country,Imp_Country,Product,dependent_variable_type))\n",
    "results_level2.to_excel(writer,'Results')\n",
    "feature_results_level1.to_excel(writer,'Importances')\n",
    "\n",
    "writer.save()"
   ]
  },
  {
   "cell_type": "code",
   "execution_count": null,
   "metadata": {
    "collapsed": true
   },
   "outputs": [],
   "source": []
  },
  {
   "cell_type": "markdown",
   "metadata": {},
   "source": [
    "# For Combination of Month and Feature with Multiple Runs End"
   ]
  },
  {
   "cell_type": "code",
   "execution_count": null,
   "metadata": {
    "collapsed": true
   },
   "outputs": [],
   "source": []
  },
  {
   "cell_type": "code",
   "execution_count": null,
   "metadata": {
    "collapsed": true
   },
   "outputs": [],
   "source": [
    "#Read feature importances from Feature Selection excels\n",
    "\n",
    "feature_results_from_excel = pd.ExcelFile('FeatureSelection_{}_{}_{}.xlsx'.format(Exp_Country,Imp_Country,Product))\n",
    "feature_results = feature_results_from_excel.parse('Importances', header=0,index_col=None, na_values=['NA'])\n",
    "scored_feature_indices=feature_results[str(month)][0]\n",
    "feature_score=feature_results[str(month)][1]"
   ]
  },
  {
   "cell_type": "code",
   "execution_count": null,
   "metadata": {
    "collapsed": true
   },
   "outputs": [],
   "source": [
    "results_level2.loc['1'].boxplot()"
   ]
  },
  {
   "cell_type": "code",
   "execution_count": null,
   "metadata": {
    "collapsed": true
   },
   "outputs": [],
   "source": [
    "feature_results_level1['1'][0]"
   ]
  },
  {
   "cell_type": "code",
   "execution_count": null,
   "metadata": {
    "collapsed": true
   },
   "outputs": [],
   "source": [
    "feature_results_level1['1'][1]"
   ]
  },
  {
   "cell_type": "code",
   "execution_count": null,
   "metadata": {
    "collapsed": true
   },
   "outputs": [],
   "source": [
    "results_level2.loc['12'].boxplot()\n"
   ]
  },
  {
   "cell_type": "code",
   "execution_count": null,
   "metadata": {
    "collapsed": true
   },
   "outputs": [],
   "source": [
    "results = DataFrame()\n",
    "results_exp = DataFrame()\n",
    "\n",
    "results_exp[str(slv)] =\n",
    "results=pd.concat([results,results_exp])\n"
   ]
  },
  {
   "cell_type": "code",
   "execution_count": null,
   "metadata": {
    "collapsed": true,
    "scrolled": false
   },
   "outputs": [],
   "source": [
    "# 1 Version for Feature selection\n",
    "# Internetten bulunan kod blogu\n",
    "# Random Forest'a gore Feature Importance Hesaplama\n",
    "# Butun veri setinin girildiği ona göre önemli olan özelliklerin bulundugu kod parçası\n",
    "\n",
    "ScalerType = Scalertype=Scaler_Type_Options[0]\n",
    "n_sample=len(X)\n",
    "\n",
    "rfc=RandomForestRegressor(n_estimators=3000)\n",
    "RandomForestRegressor.fit(rfc,scaled_value_X,scaled_value_y)\n",
    "\n",
    "\n",
    "predictions = rfc.predict(X_test)\n",
    "print('MAE',int(metrics.mean_absolute_error(y_test, predictions)),\n",
    "      'MSE',int(sqrt(metrics.mean_squared_error(y_test, predictions))),\n",
    "      'R2',int(1000*(metrics.r2_score(y_test, predictions)))/1000\n",
    "     )\n",
    "\n",
    "\n",
    "importances = rfc.feature_importances_\n",
    "std = np.std([tree.feature_importances_ for tree in rfc.estimators_],axis=0)\n",
    "\n",
    "indices = np.argsort(importances)[::-1]\n",
    "\n",
    "\n",
    "# Print the feature ranking\n",
    "print(\"Feature ranking:\")\n",
    "\n",
    "for f in range(n_feature):\n",
    "    print(\"%d. feature %s %d (%f) %f\" % (f+1, X_Column_Names[indices[f]], indices[f], importances[indices[f]],std[indices[f]]))\n",
    "\n",
    "# Plot the feature importances of the forest\n",
    "plt.figure()\n",
    "plt.title(\"{} and -{} Month Feature Importances and Standart Deviation of Features with 3000 Different Estimations\".format(Product,MonthSeries))\n",
    "plt.bar(range(n_feature), importances[indices],\n",
    "       color=\"r\", yerr=std[indices], align=\"center\")\n",
    "plt.xticks(range(n_feature), indices,rotation=90)\n",
    "plt.xlim([-1, n_feature])\n",
    "\n",
    "fig_size = plt.rcParams[\"figure.figsize\"]\n",
    "fig_size[0] = 15\n",
    "fig_size[1] = 10\n",
    "plt.rcParams[\"figure.figsize\"] = fig_size\n",
    "plt.savefig(\"Plots_Feature_Selection/{} and -{} Month Feature Importances and Standart Deviation of Features with 3000 Different Estimations.png\".format(Product,MonthSeries), format='png', dpi=300)\n",
    "\n",
    "plt.show()"
   ]
  },
  {
   "cell_type": "code",
   "execution_count": null,
   "metadata": {
    "collapsed": true,
    "scrolled": true
   },
   "outputs": [],
   "source": [
    "#  2 Version for Feature selection \n",
    "# Internetten bulunan kod blogu http://scikit-learn.org/stable/auto_examples/ensemble/plot_forest_importances.html\n",
    "# Feature Importance Hesaplama\n",
    "# Burada asıl özellik bir veri seti yaratılıyor make_regression ile. Ve oaradakilere dogru çalışıp çalışmadığı test ediliyor.\n",
    "# Butun veri setinin girildiği ona göre önemli olan özelliklerin bulundugu kod parçası\n",
    "\n",
    "from sklearn.datasets import make_regression\n",
    "\n",
    "\n",
    "n_sample=len(X)\n",
    "\n",
    "number_of_split=100\n",
    "number_of_row=29\n",
    "\n",
    "random_state_options = np.arange(0,number_of_split)\n",
    "y_predict= np.ones((number_of_row, number_of_split))\n",
    "\n",
    "feature_indices = np.ones((n_feature, number_of_split))\n",
    "feature_importances=np.ones((n_feature, number_of_split))\n",
    "feature_indices_score=np.ones((n_feature))\n",
    "feature_importances_score=np.ones((n_feature))\n",
    "j=0\n",
    "\n",
    "\n",
    "# For different split sets Random Forest Regressor runs.\n",
    "\n",
    "for random_state_i in random_state_options:\n",
    "\n",
    "    X_train, X_test, y_train, y_test = train_test_split(scaled_value_X,scaled_value_y,test_size=0.2,random_state=random_state_i,stratify=Z['Month'])\n",
    "\n",
    "    \n",
    "\n",
    "    rfc=RandomForestRegressor(n_estimators=30)\n",
    "    RandomForestRegressor.fit(rfc,X_train,y_train)\n",
    "\n",
    "    y_predict[:,j] = rfc.predict(X_test)\n",
    "    \n",
    "    result=experiminverse_scale_and_graph_Y_predict_and_test (y_predict[:,j],y_test,scaler_y,'NO')\n",
    "    \n",
    "    importances = rfc.feature_importances_\n",
    "    std = np.std([tree.feature_importances_ for tree in rfc.estimators_],axis=0)\n",
    "\n",
    "    indices = np.argsort(importances)[::-1]\n",
    "    feature_indices[:,j]=indices\n",
    "    feature_importances[:,j]=importances\n",
    "    j=j+1\n",
    "    \n",
    "\n",
    "print (\"Features scores:\")    \n",
    "for i in range(n_feature):\n",
    "    feature_indices_score[i]=0\n",
    "    feature_importances_score[i]=0\n",
    "    for j in range(number_of_split):\n",
    "        \n",
    "        indice_coeff=feature_indices[i,j]\n",
    "        importances_coeff=feature_importances[i,j]\n",
    "        \n",
    "        feature_indices_score[i]=feature_indices_score[i]+(indice_coeff)\n",
    "        feature_importances_score[i]=feature_importances_score[i]+(importances_coeff)\n",
    "        \n",
    "#        print('feat=',i,'#ofsplit=',j,'tot_indice',feature_indices_score[i],\n",
    "#              'indice=',indice_coeff,'tot_importan=',feature_importances_score[i],'importan',importances_coeff )\n",
    "\n",
    "    print( i,X_Column_Names[i])#,feature_indices_score[i],'number_of_split',j+1) #,X_Column_Names[feature_indices[i,j]])\n",
    "    \n",
    "scored_feature_indices = np.argsort(feature_indices_score)\n",
    "scored_feature_importances = np.argsort(feature_importances_score)\n",
    "    \n",
    " \n",
    "    \n",
    "    \n",
    "# Plot the feature importances of the forest\n",
    "plt.gcf().clear()\n",
    "plt.figure()\n",
    "plt.title(\"{} and -{} Month Cumulative Feature Importances with {} Different Splits.png\".format(Product,MonthSeries,number_of_split))\n",
    "plt.bar(range(n_feature), feature_importances_score[scored_feature_importances][::-1],\n",
    "       color=\"r\",  align=\"center\")\n",
    "plt.xticks(range(n_feature), scored_feature_importances[::-1],rotation=90)\n",
    "plt.xlim([-1, n_feature])\n",
    "\n",
    "fig_size = plt.rcParams[\"figure.figsize\"]\n",
    "fig_size[0] = 20\n",
    "fig_size[1] = 12\n",
    "plt.rcParams[\"figure.figsize\"] = fig_size\n",
    "plt.savefig(\"Plots_Feature_Selection/{} and -{} Month Cumulative Feature Importances with {} Different Splits.png\".format(Product,MonthSeries,number_of_split), format='png', dpi=300)\n",
    "\n",
    "plt.show()"
   ]
  }
 ],
 "metadata": {
  "kernelspec": {
   "display_name": "Python 3",
   "language": "python",
   "name": "python3"
  },
  "language_info": {
   "codemirror_mode": {
    "name": "ipython",
    "version": 3
   },
   "file_extension": ".py",
   "mimetype": "text/x-python",
   "name": "python",
   "nbconvert_exporter": "python",
   "pygments_lexer": "ipython3",
   "version": "3.6.8"
  }
 },
 "nbformat": 4,
 "nbformat_minor": 2
}
