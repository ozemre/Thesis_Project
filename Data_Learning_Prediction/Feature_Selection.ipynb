{
 "cells": [
  {
   "cell_type": "code",
   "execution_count": 1,
   "metadata": {
    "collapsed": true
   },
   "outputs": [],
   "source": [
    "from scipy.stats.stats import pearsonr"
   ]
  },
  {
   "cell_type": "code",
   "execution_count": 2,
   "metadata": {
    "collapsed": true
   },
   "outputs": [],
   "source": [
    "from __future__ import absolute_import\n",
    "from __future__ import division\n",
    "from __future__ import print_function\n",
    "\n",
    "import numpy as np\n",
    "import pandas as pd\n",
    "from time import time\n",
    "import matplotlib.pyplot as plt\n",
    "#from sklearn.cross_validation import train_test_split\n",
    "import seaborn as sns\n",
    "%matplotlib inline\n",
    "\n",
    "\n",
    "import sys\n",
    "import warnings\n",
    "\n",
    "if not sys.warnoptions:\n",
    "    warnings.simplefilter(\"ignore\")"
   ]
  },
  {
   "cell_type": "code",
   "execution_count": 3,
   "metadata": {
    "collapsed": true
   },
   "outputs": [],
   "source": [
    "from sklearn.model_selection import train_test_split"
   ]
  },
  {
   "cell_type": "code",
   "execution_count": 4,
   "metadata": {},
   "outputs": [
    {
     "name": "stderr",
     "output_type": "stream",
     "text": [
      "C:\\Users\\murat.ozemre\\AppData\\Local\\Continuum\\Anaconda3\\envs\\Tensor_1\\lib\\site-packages\\sklearn\\ensemble\\weight_boosting.py:29: DeprecationWarning: numpy.core.umath_tests is an internal NumPy module and should not be imported. It will be removed in a future NumPy release.\n",
      "  from numpy.core.umath_tests import inner1d\n"
     ]
    }
   ],
   "source": [
    "import Experiment_Ready as experim\n"
   ]
  },
  {
   "cell_type": "code",
   "execution_count": 5,
   "metadata": {
    "collapsed": true
   },
   "outputs": [],
   "source": [
    "\n",
    "import os\n",
    "import sys\n",
    "\n",
    "#os.chdir('C:/Users/murat.ozemre/Documents/MOZEMRE-OZEL/Doktora/2017 Tez/Veri Analizi/Ver 3 Tez Izleme Calısmaları')"
   ]
  },
  {
   "cell_type": "code",
   "execution_count": 6,
   "metadata": {},
   "outputs": [
    {
     "data": {
      "text/plain": [
       "'07-15 12:27'"
      ]
     },
     "execution_count": 6,
     "metadata": {},
     "output_type": "execute_result"
    }
   ],
   "source": [
    "from sklearn import metrics\n",
    "import statsmodels\n",
    "from math import sqrt\n",
    "from math import log\n",
    "from sklearn.ensemble import RandomForestRegressor\n",
    "from datetime import datetime\n",
    "datetime.now().strftime('%m-%d %H:%M')"
   ]
  },
  {
   "cell_type": "code",
   "execution_count": 7,
   "metadata": {
    "collapsed": true
   },
   "outputs": [],
   "source": [
    "from sklearn.preprocessing import MinMaxScaler\n",
    "from sklearn.preprocessing import minmax_scale\n",
    "from sklearn.preprocessing import MaxAbsScaler\n",
    "from sklearn.preprocessing import StandardScaler\n",
    "from sklearn.preprocessing import RobustScaler\n",
    "from sklearn.preprocessing import Normalizer"
   ]
  },
  {
   "cell_type": "code",
   "execution_count": 8,
   "metadata": {
    "collapsed": true
   },
   "outputs": [],
   "source": [
    "Product_Type_Options = [841810,841840,841850]\n",
    "\n",
    "Product=Product_Type_Options[1] #841810\n",
    "Productname=Product\n",
    "\n",
    "Exp_Country='TUR' # 'CHN'\n",
    "Imp_Country='GBR'\n",
    "\n",
    "if Exp_Country=='CHN':\n",
    "    Currency='CNY'\n",
    "    EXP0='TUR'   \n",
    "elif Exp_Country=='TUR':\n",
    "    Currency='TRY'\n",
    "    EXP0='CHN'   \n",
    "    \n",
    "os.chdir('C:/Users/murat.ozemre/Desktop/Thesis_Project/Data_Sources_and_Preparation')    "
   ]
  },
  {
   "cell_type": "code",
   "execution_count": 9,
   "metadata": {
    "collapsed": true
   },
   "outputs": [],
   "source": [
    "MonthSeries=\"1\"\n",
    "MonthSeries_option=[\"1\",\"2\",\"3\",\"6\",\"12\"]    "
   ]
  },
  {
   "cell_type": "markdown",
   "metadata": {},
   "source": [
    "# For Single Combination of Month  and Feature"
   ]
  },
  {
   "cell_type": "code",
   "execution_count": 10,
   "metadata": {
    "collapsed": true
   },
   "outputs": [],
   "source": [
    "Data_Core1 = pd.ExcelFile('Data_{}_{}_{}.xlsx'.format(Exp_Country,Imp_Country,Product))\n",
    "y = Data_Core1.parse('Y', header=0,index_col=None, na_values=['NA'])['{}_{}_{}'.format(Exp_Country,Imp_Country,Product)]\n",
    "Z = Data_Core1.parse('Y', header=0,index_col=None, na_values=['NA'])[['Date','Year','Month']]\n",
    "\n",
    "X = Data_Core1.parse('X{}'.format(MonthSeries), header=0,index_col=None, na_values=['NA'])\n",
    "X.drop(['Date','Year','Month'], axis=1, inplace=True)\n",
    "X_Column_Names=list(X.columns.values)\n",
    "n_feature=X.shape[1]\n",
    "\n",
    "Xhat = Data_Core1.parse('Xhat', header=0,index_col=None, na_values=['NA'])\n",
    "Xhat.drop(['Date','Year','Month'], axis=1, inplace=True)\n",
    "\n",
    "dependent_variable_type='log'\n",
    "\n",
    "if dependent_variable_type=='same':\n",
    "    dependent_variable=y\n",
    "elif dependent_variable_type=='log':\n",
    "    dependent_variable=y.apply(np.log)\n",
    "elif dependent_variable_type=='sqrt':\n",
    "    dependent_variable=y.apply(np.sqrt)"
   ]
  },
  {
   "cell_type": "code",
   "execution_count": null,
   "metadata": {
    "collapsed": true
   },
   "outputs": [],
   "source": []
  },
  {
   "cell_type": "code",
   "execution_count": null,
   "metadata": {
    "collapsed": true
   },
   "outputs": [],
   "source": []
  },
  {
   "cell_type": "code",
   "execution_count": 11,
   "metadata": {
    "collapsed": true
   },
   "outputs": [],
   "source": [
    "rs=3\n",
    "Scaled_Train_Test_Split=experim.X_Y_scaler_train_test_Split(X,dependent_variable,Z,random=rs)\n",
    "\n",
    "X_train = Scaled_Train_Test_Split[0]\n",
    "X_test = Scaled_Train_Test_Split[1]\n",
    "y_train = Scaled_Train_Test_Split[2]\n",
    "y_test = Scaled_Train_Test_Split[3]\n",
    "scaler_X = Scaled_Train_Test_Split[4]  \n",
    "scaler_y = Scaled_Train_Test_Split[5]\n",
    "scaled_value_X=Scaled_Train_Test_Split[6]\n",
    "scaled_value_y=Scaled_Train_Test_Split[7]"
   ]
  },
  {
   "cell_type": "code",
   "execution_count": 12,
   "metadata": {
    "scrolled": true
   },
   "outputs": [
    {
     "data": {
      "text/plain": [
       "(0,\n",
       " 0,\n",
       " 0.337,\n",
       " 0.401,\n",
       " [1732.9997097723813,\n",
       "  1425.9999366493137,\n",
       "  2327.998979121778,\n",
       "  1684.0003266408764,\n",
       "  2052.999966099053,\n",
       "  2029.9994055619534,\n",
       "  1702.00029356758,\n",
       "  3558.0009003439063,\n",
       "  3327.9993367348143,\n",
       "  4064.000042935012,\n",
       "  3740.99934037492,\n",
       "  3826.001160527769,\n",
       "  1543.999920152843,\n",
       "  2712.0003884754187,\n",
       "  3961.9979124125143,\n",
       "  2861.9992405340745,\n",
       "  3385.9982102498975,\n",
       "  2823.00024084737,\n",
       "  2664.9999992118233,\n",
       "  3195.0002217680235,\n",
       "  2032.0008841137185,\n",
       "  2565.0007036842344,\n",
       "  1831.0004679478118,\n",
       "  3940.0023988292633,\n",
       "  3907.9980966079124,\n",
       "  3211.0005045805933,\n",
       "  2027.000125163519,\n",
       "  2020.9997294522086],\n",
       " [1568.000323144871,\n",
       "  1934.9991798584977,\n",
       "  2753.999925714913,\n",
       "  2930.000102409807,\n",
       "  2687.9992104108564,\n",
       "  1941.9993360608219,\n",
       "  2036.0006224134515,\n",
       "  2692.0007196190595,\n",
       "  2133.9994202790203,\n",
       "  3389.9986284434963,\n",
       "  4606.99997865954,\n",
       "  1941.9993360608219,\n",
       "  1421.999943936745,\n",
       "  3059.9988188261855,\n",
       "  3747.998425236679,\n",
       "  3547.001231700421,\n",
       "  4977.002125566685,\n",
       "  3773.9989231024215,\n",
       "  2453.000684351509,\n",
       "  4466.000289413862,\n",
       "  2529.0001655427736,\n",
       "  4466.000289413862,\n",
       "  2036.0006224134515,\n",
       "  3059.9988188261855,\n",
       "  4272.997926796439,\n",
       "  2657.9998582712947,\n",
       "  2036.0006224134515,\n",
       "  2687.9992104108564])"
      ]
     },
     "execution_count": 12,
     "metadata": {},
     "output_type": "execute_result"
    },
    {
     "data": {
      "image/png": "[encoded data removed]",
      "text/plain": [
       "<matplotlib.figure.Figure at 0x2057f236f28>"
      ]
     },
     "metadata": {},
     "output_type": "display_data"
    }
   ],
   "source": [
    "from sklearn.tree import DecisionTreeRegressor\n",
    "\n",
    "# Decison tree regressor model\n",
    "dt = DecisionTreeRegressor()\n",
    "\n",
    "# Decison tree regressor model train\n",
    "DecisionTreeRegressor.fit(dt,X_train,y_train)\n",
    "\n",
    "# Decison tree regressor model predict\n",
    "y_predict_test = dt.predict(X_test)\n",
    "\n",
    "# Compare predicted Y and real Y \n",
    "experim.inverse_scale_and_graph_Y_predict_and_test(y_predict_test,y_test,scaler_y,'YES',dependent_variable_type)\n"
   ]
  },
  {
   "cell_type": "code",
   "execution_count": 13,
   "metadata": {
    "scrolled": true
   },
   "outputs": [
    {
     "data": {
      "text/plain": [
       "0.151"
      ]
     },
     "execution_count": 13,
     "metadata": {},
     "output_type": "execute_result"
    },
    {
     "data": {
      "image/png": "[encoded data removed]",
      "text/plain": [
       "<matplotlib.figure.Figure at 0x205046a7fd0>"
      ]
     },
     "metadata": {},
     "output_type": "display_data"
    }
   ],
   "source": [
    "# Random Foest Regressor model\n",
    "rfc=RandomForestRegressor(n_estimators=3000)\n",
    "\n",
    "# Random Foest Regressor model train\n",
    "RandomForestRegressor.fit(rfc,X_train,y_train)\n",
    "\n",
    "# Random Foest Regressor mode predict\n",
    "y_predict_test = rfc.predict(X_test)\n",
    "\n",
    "# Compare predicted Y and real Y \n",
    "experim.inverse_scale_and_graph_Y_predict_and_test(y_predict_test,y_test,scaler_y,'YES',dependent_variable_type)[3]"
   ]
  },
  {
   "cell_type": "code",
   "execution_count": 14,
   "metadata": {},
   "outputs": [
    {
     "data": {
      "text/plain": [
       "array([0.32305766, 0.01979133, 0.01773255, 0.03334839, 0.06484303,\n",
       "       0.02015855, 0.03439813, 0.03114752, 0.02308731, 0.02171684,\n",
       "       0.01171674, 0.01999452, 0.02603757, 0.03247382, 0.02652462,\n",
       "       0.02205254, 0.00931306, 0.02158937, 0.02213331, 0.02632152,\n",
       "       0.01575697, 0.02652956, 0.00558972, 0.00957656, 0.01626321,\n",
       "       0.10706452, 0.0117811 ])"
      ]
     },
     "execution_count": 14,
     "metadata": {},
     "output_type": "execute_result"
    }
   ],
   "source": [
    "rfc.feature_importances_"
   ]
  },
  {
   "cell_type": "code",
   "execution_count": null,
   "metadata": {
    "collapsed": true
   },
   "outputs": [],
   "source": []
  },
  {
   "cell_type": "code",
   "execution_count": null,
   "metadata": {
    "collapsed": true
   },
   "outputs": [],
   "source": []
  },
  {
   "cell_type": "code",
   "execution_count": null,
   "metadata": {
    "collapsed": true
   },
   "outputs": [],
   "source": []
  },
  {
   "cell_type": "code",
   "execution_count": null,
   "metadata": {
    "collapsed": true
   },
   "outputs": [],
   "source": []
  },
  {
   "cell_type": "code",
   "execution_count": 15,
   "metadata": {
    "collapsed": true
   },
   "outputs": [],
   "source": [
    "if Exp_Country=='CHN':\n",
    "        if Product==841810:\n",
    "            MonthSeries=\"_34\"\n",
    "            percent=50\n",
    "            dependenttype='same'\n",
    "        elif Product==841840:\n",
    "            MonthSeries=\"_345\"\n",
    "            percent=50\n",
    "            dependenttype='log'\n",
    "        elif Product==841850:\n",
    "            MonthSeries=\"_34\"\n",
    "            percent=100\n",
    "            dependenttype='log'\n",
    "elif Exp_Country=='TUR':\n",
    "        if Product==841810:\n",
    "            MonthSeries=\"_67\"\n",
    "            percent=50\n",
    "            dependenttype='same'\n",
    "        elif Product==841840:\n",
    "            MonthSeries=\"4\"\n",
    "            percent=50\n",
    "            dependenttype='same'\n",
    "        elif Product==841850:\n",
    "            MonthSeries=\"_45\"\n",
    "            percent=50\n",
    "            dependenttype='same'"
   ]
  },
  {
   "cell_type": "code",
   "execution_count": 16,
   "metadata": {
    "collapsed": true
   },
   "outputs": [],
   "source": [
    "y = Data_Core1.parse('Y', header=0,index_col=None, na_values=['NA'])['{}_{}_{}'.format(Exp_Country,Imp_Country,Product)]\n",
    "Z = Data_Core1.parse('Y', header=0,index_col=None, na_values=['NA'])[['Date','Year','Month']]\n",
    "\n",
    "X = Data_Core1.parse('X{}'.format(MonthSeries), header=0,index_col=None, na_values=['NA'])\n",
    "X.drop(['Date','Year','Month'], axis=1, inplace=True)\n",
    "X_Column_Names=list(X.columns.values)\n",
    "n_feature=X.shape[1]\n",
    "\n",
    "Xhat = Data_Core1.parse('Xhat', header=0,index_col=None, na_values=['NA'])\n",
    "Xhat.drop(['Date','Year','Month'], axis=1, inplace=True)\n",
    "\n",
    "if dependent_variable_type=='same':\n",
    "    dependent_variable=y\n",
    "elif dependent_variable_type=='log':\n",
    "    dependent_variable=y.apply(np.log)\n",
    "elif dependent_variable_type=='sqrt':\n",
    "    dependent_variable=y.apply(np.sqrt)"
   ]
  },
  {
   "cell_type": "markdown",
   "metadata": {},
   "source": [
    "# Start -- For single combination calling Feature Selection Functions"
   ]
  },
  {
   "cell_type": "code",
   "execution_count": 20,
   "metadata": {
    "scrolled": true
   },
   "outputs": [
    {
     "name": "stdout",
     "output_type": "stream",
     "text": [
      "Features scores:\n",
      "1. important feature TUR_FRA_841840-4 (original rank 4)\n",
      "2. important feature CCI_GBR-4 (original rank 18)\n",
      "3. important feature GDP_GBR-4 (original rank 20)\n",
      "4. important feature NLD_GBR_841840-4 (original rank 8)\n",
      "5. important feature TUR_DEU_841840-4 (original rank 3)\n",
      "6. important feature HUN_GBR_841840-4 (original rank 9)\n",
      "7. important feature EPU_World-4 (original rank 12)\n",
      "8. important feature GBP-4 (original rank 26)\n",
      "9. important feature TRY-4 (original rank 25)\n",
      "10. important feature TUR_SWE_841840-4 (original rank 5)\n",
      "11. important feature GDP_TUR-4 (original rank 16)\n",
      "12. important feature TUR_GBR_841840_UV-4 (original rank 10)\n",
      "13. important feature CCI_TUR-4 (original rank 14)\n",
      "14. important feature World-4 (original rank 27)\n",
      "15. important feature EPU_GBR-4 (original rank 11)\n",
      "16. important feature CLI_GBR-4 (original rank 19)\n",
      "17. important feature CLI_TUR-4 (original rank 15)\n",
      "18. important feature CHN_GBR_841840-4 (original rank 6)\n",
      "19. important feature BCI_TUR-4 (original rank 13)\n",
      "20. important feature PPI_TUR-4 (original rank 21)\n",
      "21. important feature PPI_GBR-4 (original rank 22)\n",
      "22. important feature TUR_World_841840-4 (original rank 1)\n",
      "23. important feature BCI_GBR-4 (original rank 17)\n",
      "24. important feature TUR_GBR_841840-4 (original rank 0)\n",
      "25. important feature DEU_GBR_841840-4 (original rank 7)\n",
      "26. important feature TUR_USA_841840-4 (original rank 2)\n",
      "27. important feature CPI_TUR-4 (original rank 23)\n",
      "28. important feature CPI_GBR-4 (original rank 24)\n"
     ]
    },
    {
     "data": {
      "text/plain": [
       "<matplotlib.figure.Figure at 0x20500df7ac8>"
      ]
     },
     "metadata": {},
     "output_type": "display_data"
    },
    {
     "data": {
      "image/png": "[encoded data removed]",
      "text/plain": [
       "<matplotlib.figure.Figure at 0x205057bdcc0>"
      ]
     },
     "metadata": {},
     "output_type": "display_data"
    }
   ],
   "source": [
    "# Main for 3 Version for Train Test Split and Feature selection \n",
    "# http://blog.datadive.net/selecting-good-features-part-iii-random-forests/\n",
    "# Use both RF Importances and R2 Accuracy with different number of splits\n",
    "\n",
    "\n",
    "number_of_split_for_feature=100\n",
    "result=experim.get_feature_importance_result (X,dependent_variable,Z,n_feature,number_of_split_for_feature)\n",
    "scored_feature_indices=result[0]\n",
    "feature_score=result[1]\n",
    "\n",
    "print (\"Features scores:\") \n",
    "\n",
    "for f in range(n_feature):\n",
    "\n",
    "    print(\"%d. important feature %s (original rank %d)\" % (f+1, X_Column_Names[scored_feature_indices[f]], scored_feature_indices[f]))\n",
    "\n",
    "\n",
    "# Plot the feature importances of the forest\n",
    "plt.gcf().clear()\n",
    "plt.figure()\n",
    "plt.title(\"{} and {} Month Cumulative Feature and Score Importances with {} Different Splits\".format(Product,MonthSeries,number_of_split_for_feature))\n",
    "plt.bar(range(n_feature), feature_score[scored_feature_indices],\n",
    "       color=\"r\",  align=\"center\")\n",
    "plt.xticks(range(n_feature), scored_feature_indices,rotation=90)\n",
    "plt.xlim([-1, n_feature])\n",
    "\n",
    "#fig_size = plt.rcParams[\"figure.figsize\"]\n",
    "#fig_size[0] = 20\n",
    "#fig_size[1] = 12\n",
    "#plt.rcParams[\"figure.figsize\"] = fig_size\n",
    "plt.savefig(\"Plots_Feature_Selection/{} and {} Month Cumulative Feature and Score Importances with {} Different Splits.png\".format(Product,MonthSeries,number_of_split_for_feature), format='png', dpi=300)\n",
    "\n",
    "plt.show()\n",
    "\n",
    "    \n",
    "    "
   ]
  },
  {
   "cell_type": "markdown",
   "metadata": {},
   "source": [
    "# End -- For single combination calling Feature Selection Functions"
   ]
  },
  {
   "cell_type": "code",
   "execution_count": 21,
   "metadata": {
    "scrolled": true
   },
   "outputs": [
    {
     "name": "stdout",
     "output_type": "stream",
     "text": [
      "randomforest rs= 50\n"
     ]
    }
   ],
   "source": [
    "# Calling function by single parameter set \n",
    "a=experim.randomforest(X_train, X_test, y_train, y_test,scaler_y,\n",
    "                   rand=50,is_random_fixed='TRUE',dependenttype=dependent_variable_type,\n",
    "                   est=200,min_leaf=5,feat=10,max_leaf=10,min_weight=0.0,min_impurity=1e-07)"
   ]
  },
  {
   "cell_type": "code",
   "execution_count": 31,
   "metadata": {
    "collapsed": true
   },
   "outputs": [],
   "source": [
    "# By using Ver 3 for Feature Selection results\n",
    "# Percentile variable takes the most important variables according to its feature score and omits the others.\n",
    "# ie.25 percentile takes %75 importance variables and omits %25 least important features\n",
    "percent=50\n",
    "percentile=100-percent\n",
    "threshold_for_feature_selection=np.percentile(feature_score[scored_feature_indices], percentile)\n",
    "X_threshold=X.iloc[:,scored_feature_indices[feature_score[scored_feature_indices]>threshold_for_feature_selection]]\n",
    "\n",
    "# Train Test Split after percentile selection\n",
    "\n",
    "Scaled_Train_Test_Split=experim.X_Y_scaler_train_test_Split(X_threshold,dependent_variable,Z)\n",
    "\n",
    "X_train = Scaled_Train_Test_Split[0]\n",
    "X_test = Scaled_Train_Test_Split[1]\n",
    "y_train = Scaled_Train_Test_Split[2]\n",
    "y_test = Scaled_Train_Test_Split[3]\n",
    "scaler_X = Scaled_Train_Test_Split[4]  \n",
    "scaler_y = Scaled_Train_Test_Split[5]\n",
    "scaled_value_X=Scaled_Train_Test_Split[6]\n",
    "scaled_value_y=Scaled_Train_Test_Split[7]\n"
   ]
  },
  {
   "cell_type": "code",
   "execution_count": 32,
   "metadata": {
    "scrolled": true
   },
   "outputs": [
    {
     "data": {
      "text/plain": [
       "0.439"
      ]
     },
     "execution_count": 32,
     "metadata": {},
     "output_type": "execute_result"
    }
   ],
   "source": [
    "# Random Foest Regressor model\n",
    "rfc=RandomForestRegressor(n_estimators=3000,random_state=50)\n",
    "\n",
    "# Random Foest Regressor model train\n",
    "RandomForestRegressor.fit(rfc,X_train,y_train)\n",
    "\n",
    "# Random Foest Regressor mode predict\n",
    "y_predict_test = rfc.predict(X_test)\n",
    "\n",
    "# Compare predicted Y and real Y \n",
    "experim.inverse_scale_and_graph_Y_predict_and_test(y_predict_test,y_test,scaler_y,'NO',dependent_variable_type)[3]"
   ]
  },
  {
   "cell_type": "code",
   "execution_count": 33,
   "metadata": {
    "scrolled": true
   },
   "outputs": [
    {
     "name": "stdout",
     "output_type": "stream",
     "text": [
      "randomforest rs= 50\n"
     ]
    },
    {
     "data": {
      "text/plain": [
       "((0,\n",
       "  0,\n",
       "  0.44,\n",
       "  0.44,\n",
       "  array([7.45760912, 7.26262856, 7.75276437, 7.42892739, 7.6270574 ,\n",
       "         7.61579078, 7.43955948, 8.17695412, 8.1101266 , 8.309923  ,\n",
       "         8.22710806, 8.24957545, 7.34213168, 7.90544179, 8.2845037 ,\n",
       "         7.95927569, 8.12740403, 7.94555551, 7.88795934, 8.06934244,\n",
       "         7.61677624, 7.84971403, 7.5126178 , 8.27893661, 8.27078053,\n",
       "         8.07433785, 7.61431221, 7.61134758]),\n",
       "  array([7.80919681, 7.66886291, 7.78799838, 7.93796917, 7.93216803,\n",
       "         7.78661549, 7.73246132, 7.99487145, 7.88247624, 8.2220038 ,\n",
       "         7.92349586, 7.80785296, 7.51652422, 7.88599881, 7.94883336,\n",
       "         8.01565725, 8.01791283, 8.09517884, 7.83817963, 7.7779209 ,\n",
       "         7.78201273, 7.83220294, 7.84900285, 7.96955185, 8.22538857,\n",
       "         7.99624201, 7.72047911, 7.95936439])),\n",
       " (0,\n",
       "  0,\n",
       "  0.956,\n",
       "  0.956,\n",
       "  array([7.88532919, 7.1616218 , 7.56786218, 7.65207039, 8.2395936 ,\n",
       "         8.19450542, 7.74586836, 8.47114935, 7.84031283, 8.19836422,\n",
       "         7.5745584 , 8.23589044, 7.66575316, 8.04302148, 8.33278922,\n",
       "         8.13944062, 8.10016121, 7.8018004 , 7.86441968, 8.36007095,\n",
       "         7.38150163, 7.57763377, 7.98275774, 7.76937884, 8.03527918,\n",
       "         7.67554645, 8.35983749, 7.35755641, 8.51258301, 7.96797352,\n",
       "         8.52317544, 7.99867183, 7.91644278, 8.1738578 , 8.25296659,\n",
       "         8.09162725, 8.31360746, 7.89729618, 8.39276338, 7.904704  ,\n",
       "         7.60787788, 7.79069615, 7.845416  , 7.61874268, 8.4042485 ,\n",
       "         8.24800559, 7.90581069, 7.83557931, 7.0578981 , 7.71912987,\n",
       "         7.78197363, 8.47512039, 8.25400817, 8.53385318, 8.0330097 ,\n",
       "         8.62712287, 8.02616981, 7.81963604, 7.92080965, 7.8001632 ,\n",
       "         8.27690283, 8.30573047, 7.54802868, 7.57147331, 8.25842293,\n",
       "         7.91680793, 8.20248192, 7.61431221, 8.05737768, 8.16137525,\n",
       "         8.32263751, 8.1285848 , 7.87511911, 7.85438096, 8.03947994,\n",
       "         7.93343812, 8.09742631, 8.1553622 , 7.38956418, 8.42332176,\n",
       "         8.23297221, 8.44784389, 8.27664917, 8.07340327, 8.12177783,\n",
       "         8.1670688 , 7.89655241, 7.88570556, 7.89803996, 7.65681065,\n",
       "         7.58528104, 8.20357813, 7.78862645, 7.80506732, 7.25981957,\n",
       "         8.31801024, 8.22897722, 8.09955437, 8.37101058, 8.1247432 ,\n",
       "         7.85088282, 7.78197363, 8.54383503, 7.88457643, 8.43533216,\n",
       "         7.88231443, 7.55955944, 7.46336328, 7.98684476]),\n",
       "  array([7.93336408, 7.40077495, 7.66293769, 7.76351455, 8.20932346,\n",
       "         8.13211722, 7.90135832, 8.35480804, 7.89580157, 8.18110123,\n",
       "         7.61098669, 8.18214302, 7.64644423, 8.09165816, 8.25369874,\n",
       "         8.01471568, 8.01452955, 7.91040273, 7.90106674, 8.3275383 ,\n",
       "         7.48923746, 7.56155657, 8.02278062, 7.88993693, 8.08139339,\n",
       "         7.7371005 , 8.25544739, 7.56963128, 8.41734413, 7.95140068,\n",
       "         8.41832607, 7.99747698, 7.98061877, 8.17546652, 8.16564629,\n",
       "         8.05822289, 8.27719393, 7.9297867 , 8.28782255, 7.90436595,\n",
       "         7.81154438, 7.86844835, 7.82921121, 7.68279054, 8.2837611 ,\n",
       "         8.2503966 , 7.86347495, 7.81311037, 7.33575989, 7.78163093,\n",
       "         7.93992979, 8.38800271, 8.23479924, 8.42703635, 7.88629095,\n",
       "         8.448807  , 7.98806345, 7.83046884, 7.90129208, 7.82687527,\n",
       "         8.26462504, 8.24823667, 7.63870124, 7.62389161, 8.25781391,\n",
       "         7.93534794, 8.03968429, 7.70757117, 8.08721765, 8.12614566,\n",
       "         8.20566553, 8.15180614, 7.83791723, 7.89839802, 7.86785201,\n",
       "         7.94068378, 7.96707922, 8.13753878, 7.58460341, 8.34256612,\n",
       "         8.22262914, 8.38261297, 8.29592784, 7.97660087, 8.10258559,\n",
       "         8.02914915, 7.8949349 , 7.90716267, 7.89310134, 7.74421007,\n",
       "         7.66585721, 8.2030458 , 7.83909434, 7.79305397, 7.40680304,\n",
       "         8.25770787, 8.11638524, 7.96373983, 8.22118954, 8.04819919,\n",
       "         7.88260971, 7.85479578, 8.4098612 , 7.87702275, 8.2876239 ,\n",
       "         7.93397389, 7.69889197, 7.48191832, 7.97564371])))"
      ]
     },
     "execution_count": 33,
     "metadata": {},
     "output_type": "execute_result"
    }
   ],
   "source": [
    "experim.randomforest(X_train, X_test, y_train, y_test,scaler_y,est=3000,rand=50)"
   ]
  },
  {
   "cell_type": "markdown",
   "metadata": {},
   "source": [
    "# PLOT FOR RESULTS"
   ]
  },
  {
   "cell_type": "code",
   "execution_count": 53,
   "metadata": {
    "collapsed": true
   },
   "outputs": [],
   "source": [
    "# Yeni Tune parametresi\n",
    "\n",
    "feat= 10\n",
    "min_leaf= 5\n",
    "max_leaf= 100\n",
    "min_impurity= 0.000001 \n",
    "min_weight= 0.0001\n",
    "est= 5000\n",
    "#######################\n",
    " \n",
    "\n",
    "dependenttype=dependent_variable_type\n",
    "\n",
    "# Default Tune parametresi\n",
    "feat= 'auto'\n",
    "min_leaf= 1\n",
    "max_leaf= 100\n",
    "min_impurity= 1e-06\n",
    "min_weight= 1e-05\n",
    "est= 1000\n",
    "\n",
    "#841810 \n",
    "rs=31\n",
    "limit=5000\n",
    "\n",
    "\n"
   ]
  },
  {
   "cell_type": "code",
   "execution_count": 54,
   "metadata": {},
   "outputs": [
    {
     "name": "stdout",
     "output_type": "stream",
     "text": [
      "0.42 R2_y_test 0.958 R2_y_train 0.87 R2_y_all\n"
     ]
    }
   ],
   "source": [
    " rfc=RandomForestRegressor(n_estimators=est,\n",
    "                              min_samples_leaf=min_leaf,\n",
    "                              random_state =rs,              \n",
    "                              max_features=feat,\n",
    "                              max_leaf_nodes=max_leaf,\n",
    "                              min_weight_fraction_leaf =min_weight,\n",
    "                              min_impurity_decrease=min_impurity\n",
    "                            )\n",
    "   \n",
    "RandomForestRegressor.fit(rfc,X_train,y_train)\n",
    "    \n",
    "y_predict_test = rfc.predict(X_test)\n",
    "y_predict_train = rfc.predict(X_train)\n",
    "y_predict=rfc.predict(scaled_value_X.iloc[:len(y),:])\n",
    "#y_predict_future=rfc.predict(scaled_value_X.iloc[len(y):,:])\n",
    "\n",
    "# Inverse for test train and all data\n",
    "result_test=experim.inverse_scale_and_graph_Y_predict_and_test(y_predict_test,y_test,scaler_y,'NO',dependenttype)\n",
    "result_train=experim.inverse_scale_and_graph_Y_predict_and_test(y_predict_train,y_train,scaler_y,'NO',dependenttype)\n",
    "result_all=experim.inverse_scale_and_graph_Y_predict_and_test(y_predict,scaled_value_y,scaler_y,'NO',dependenttype)\n",
    "\n",
    "\n",
    "inv_y_train=pd.Series(result_train[4])\n",
    "inv_y_predict_train=pd.Series(result_train[5])\n",
    "inv_y_test=pd.Series(result_test[4])\n",
    "inv_y_predict_test=pd.Series(result_test[5])\n",
    "inv_y_all=pd.Series(result_all[4])\n",
    "inv_y_predict_all=pd.Series(result_all[5])\n",
    "\n",
    "\n",
    "R2_y_test=int(1000*pearsonr(inv_y_test,inv_y_predict_test )[0]**2)/1000\n",
    "R2_y_train=int(1000*pearsonr(inv_y_train,inv_y_predict_train )[0]**2)/1000\n",
    "R2_y_all=int(1000*pearsonr(inv_y_all,inv_y_predict_all )[0]**2)/1000\n",
    "\n",
    "print (R2_y_test,'R2_y_test',R2_y_train,'R2_y_train',R2_y_all,'R2_y_all' )"
   ]
  },
  {
   "cell_type": "code",
   "execution_count": 57,
   "metadata": {},
   "outputs": [
    {
     "data": {
      "image/png": "[encoded data removed]",
      "text/plain": [
       "<matplotlib.figure.Figure at 0x20505941e10>"
      ]
     },
     "metadata": {},
     "output_type": "display_data"
    }
   ],
   "source": [
    "\n",
    "os.chdir('C:/Users/murat.ozemre/Desktop/Thesis_Project/Data_Learning_Prediction/Result_Plots')\n",
    "fig = plt.figure(figsize=(7, 7))\n",
    "\n",
    "plt.scatter(inv_y_train,inv_y_predict_train,label='Train Data')\n",
    "plt.scatter(inv_y_test,inv_y_predict_test,marker='+' ,label='Test Data')\n",
    "\n",
    "plt.legend()\n",
    "plt.xlim(1500, limit)\n",
    "plt.ylim(1500, limit)\n",
    "plt.title(\"Scatter Diagram for Train and Test {} Data\".format(Productname))\n",
    "plt.xlabel(\"actual (Thousand USD)\")\n",
    "plt.ylabel(\"predictions (Thousand USD)\")\n",
    "plt.savefig('Scatter Diagram  {}_{}-{}.png'.format(Exp_Country,Imp_Country,Productname))\n",
    "plt.show()\n",
    "\n",
    "\n"
   ]
  },
  {
   "cell_type": "code",
   "execution_count": 58,
   "metadata": {
    "collapsed": true
   },
   "outputs": [],
   "source": [
    "def format_func(value, tick_number):\n",
    "    # find number of multiples of pi/2\n",
    "    N = tick_number # int(np.round(2 * value / np.pi))\n",
    "    \n",
    "    if N == 1:\n",
    "        return \"200604\"\n",
    "    elif N == 2:\n",
    "        return \"200712\"\n",
    "    elif N == 3:\n",
    "        return \"200908\"\n",
    "    elif N ==4: \n",
    "        return \"201104\"\n",
    "    elif N == 5:\n",
    "        return \"201212\"\n",
    "    elif N == 6:\n",
    "        return \"201408\"\n",
    "    elif N == 7: \n",
    "        return \"201604\"\n",
    "    elif N == 8: \n",
    "        return \"201712\"\n",
    "    else:\n",
    "        return \"\""
   ]
  },
  {
   "cell_type": "code",
   "execution_count": 60,
   "metadata": {},
   "outputs": [
    {
     "data": {
      "image/png": "[encoded data removed]",
      "text/plain": [
       "<matplotlib.figure.Figure at 0x20505c058d0>"
      ]
     },
     "metadata": {},
     "output_type": "display_data"
    }
   ],
   "source": [
    "\n",
    "fig = plt.figure(figsize=(15, 5))\n",
    "\n",
    "#predict=inv_y_predict_all\n",
    "#real=inv_y_all\n",
    "\n",
    "predict=inv_y_all\n",
    "real=inv_y_predict_all\n",
    "\n",
    "error=real-predict\n",
    "\n",
    "ax = plt.axes()\n",
    "#x = Z['Date']\n",
    "xi = [i for i in range(0, len(predict))]\n",
    "\n",
    "\n",
    "#inv_y_train\n",
    "#inv_y_predict_train\n",
    "#inv_y_test=pd.Series(result_test[4])\n",
    "#inv_y_predict_test=pd.Series(result_test[5])\n",
    "\n",
    "\n",
    "\n",
    "ax.plot(xi, predict, lw=2, color='darkslateblue',label='Predicted Data')\n",
    "ax.plot(xi, real, lw=2, color='crimson', label='Actual Data')\n",
    "\n",
    "ax.plot(xi, error, lw=2, color='green', label='Error')\n",
    "\n",
    "\n",
    "# Set up grid, legend, and limits\n",
    "ax.grid(True)\n",
    "ax.xaxis.set_major_formatter(plt.FuncFormatter(format_func))\n",
    "ax.legend(frameon=True)\n",
    "plt.title(\"Line Plot {}_{}-{} Data\".format(Exp_Country,Imp_Country,Productname))\n",
    "plt.xlabel('Year Month')\n",
    "plt.ylabel('Value (Thousand USD)') \n",
    "\n",
    "plt.savefig('Line Plot Test Data  {}_{}-{}.png'.format(Exp_Country,Imp_Country,Productname))"
   ]
  },
  {
   "cell_type": "code",
   "execution_count": null,
   "metadata": {
    "collapsed": true
   },
   "outputs": [],
   "source": []
  },
  {
   "cell_type": "code",
   "execution_count": null,
   "metadata": {
    "collapsed": true
   },
   "outputs": [],
   "source": []
  },
  {
   "cell_type": "code",
   "execution_count": null,
   "metadata": {
    "collapsed": true
   },
   "outputs": [],
   "source": []
  },
  {
   "cell_type": "markdown",
   "metadata": {},
   "source": [
    "# For Combination of Month and Feature with Multiple Runs Start"
   ]
  },
  {
   "cell_type": "code",
   "execution_count": 45,
   "metadata": {
    "collapsed": true
   },
   "outputs": [],
   "source": [
    "y = Data_Core1.parse('Y', header=0,index_col=None, na_values=['NA'])['{}_{}_{}'.format(Exp_Country,Imp_Country,Product)]\n",
    "Z = Data_Core1.parse('Y', header=0,index_col=None, na_values=['NA'])[['Date','Year','Month']]\n",
    "\n",
    "dependent_variable_type='same'\n",
    "\n",
    "if dependent_variable_type=='same':\n",
    "    dependent_variable=y\n",
    "elif dependent_variable_type=='log':\n",
    "    dependent_variable=y.apply(np.log)\n",
    "elif dependent_variable_type=='sqrt':\n",
    "    dependent_variable=y.apply(np.sqrt)\n"
   ]
  },
  {
   "cell_type": "code",
   "execution_count": 46,
   "metadata": {
    "scrolled": true
   },
   "outputs": [
    {
     "name": "stdout",
     "output_type": "stream",
     "text": [
      "month 1 percent 100 Original R2 value 0.13 R2 value converted 0.13\n",
      "month 1 percent 100 Original R2 value 0.141 R2 value converted 0.141\n",
      "month 1 percent 100 Original R2 value 0.141 R2 value converted 0.141\n",
      "month 1 percent 100 Original R2 value 0.145 R2 value converted 0.145\n",
      "month 1 percent 100 Original R2 value 0.125 R2 value converted 0.125\n",
      "month 1 percent 75 Original R2 value 0.145 R2 value converted 0.145\n",
      "month 1 percent 75 Original R2 value 0.14 R2 value converted 0.14\n",
      "month 1 percent 75 Original R2 value 0.136 R2 value converted 0.136\n",
      "month 1 percent 75 Original R2 value 0.125 R2 value converted 0.125\n",
      "month 1 percent 75 Original R2 value 0.14 R2 value converted 0.14\n",
      "month 1 percent 50 Original R2 value 0.134 R2 value converted 0.134\n",
      "month 1 percent 50 Original R2 value 0.136 R2 value converted 0.136\n",
      "month 1 percent 50 Original R2 value 0.119 R2 value converted 0.119\n",
      "month 1 percent 50 Original R2 value 0.148 R2 value converted 0.148\n",
      "month 1 percent 50 Original R2 value 0.13 R2 value converted 0.13\n",
      "month 1 percent 25 Original R2 value 0.169 R2 value converted 0.169\n",
      "month 1 percent 25 Original R2 value 0.165 R2 value converted 0.165\n",
      "month 1 percent 25 Original R2 value 0.168 R2 value converted 0.168\n",
      "month 1 percent 25 Original R2 value 0.151 R2 value converted 0.151\n",
      "month 1 percent 25 Original R2 value 0.149 R2 value converted 0.149\n",
      "month _12 percent 100 Original R2 value 0.159 R2 value converted 0.159\n",
      "month _12 percent 100 Original R2 value 0.188 R2 value converted 0.188\n",
      "month _12 percent 100 Original R2 value 0.182 R2 value converted 0.182\n",
      "month _12 percent 100 Original R2 value 0.154 R2 value converted 0.154\n",
      "month _12 percent 100 Original R2 value 0.163 R2 value converted 0.163\n",
      "month _12 percent 75 Original R2 value 0.184 R2 value converted 0.184\n",
      "month _12 percent 75 Original R2 value 0.168 R2 value converted 0.168\n",
      "month _12 percent 75 Original R2 value 0.2 R2 value converted 0.2\n",
      "month _12 percent 75 Original R2 value 0.155 R2 value converted 0.155\n",
      "month _12 percent 75 Original R2 value 0.185 R2 value converted 0.185\n",
      "month _12 percent 50 Original R2 value 0.191 R2 value converted 0.191\n",
      "month _12 percent 50 Original R2 value 0.159 R2 value converted 0.159\n",
      "month _12 percent 50 Original R2 value 0.17 R2 value converted 0.17\n",
      "month _12 percent 50 Original R2 value 0.169 R2 value converted 0.169\n",
      "month _12 percent 50 Original R2 value 0.169 R2 value converted 0.169\n",
      "month _12 percent 25 Original R2 value 0.185 R2 value converted 0.185\n",
      "month _12 percent 25 Original R2 value 0.193 R2 value converted 0.193\n",
      "month _12 percent 25 Original R2 value 0.181 R2 value converted 0.181\n",
      "month _12 percent 25 Original R2 value 0.191 R2 value converted 0.191\n",
      "month _12 percent 25 Original R2 value 0.165 R2 value converted 0.165\n",
      "month _123 percent 100 Original R2 value 0.137 R2 value converted 0.137\n",
      "month _123 percent 100 Original R2 value 0.15 R2 value converted 0.15\n",
      "month _123 percent 100 Original R2 value 0.14 R2 value converted 0.14\n",
      "month _123 percent 100 Original R2 value 0.157 R2 value converted 0.157\n",
      "month _123 percent 100 Original R2 value 0.157 R2 value converted 0.157\n",
      "month _123 percent 75 Original R2 value 0.153 R2 value converted 0.153\n",
      "month _123 percent 75 Original R2 value 0.131 R2 value converted 0.131\n",
      "month _123 percent 75 Original R2 value 0.15 R2 value converted 0.15\n",
      "month _123 percent 75 Original R2 value 0.152 R2 value converted 0.152\n",
      "month _123 percent 75 Original R2 value 0.132 R2 value converted 0.132\n",
      "month _123 percent 50 Original R2 value 0.167 R2 value converted 0.167\n",
      "month _123 percent 50 Original R2 value 0.166 R2 value converted 0.166\n",
      "month _123 percent 50 Original R2 value 0.166 R2 value converted 0.166\n",
      "month _123 percent 50 Original R2 value 0.147 R2 value converted 0.147\n",
      "month _123 percent 50 Original R2 value 0.155 R2 value converted 0.155\n",
      "month _123 percent 25 Original R2 value 0.177 R2 value converted 0.177\n",
      "month _123 percent 25 Original R2 value 0.185 R2 value converted 0.185\n",
      "month _123 percent 25 Original R2 value 0.173 R2 value converted 0.173\n",
      "month _123 percent 25 Original R2 value 0.175 R2 value converted 0.175\n",
      "month _123 percent 25 Original R2 value 0.175 R2 value converted 0.175\n",
      "month 2 percent 100 Original R2 value 0.178 R2 value converted 0.178\n",
      "month 2 percent 100 Original R2 value 0.158 R2 value converted 0.158\n",
      "month 2 percent 100 Original R2 value 0.208 R2 value converted 0.208\n",
      "month 2 percent 100 Original R2 value 0.153 R2 value converted 0.153\n",
      "month 2 percent 100 Original R2 value 0.185 R2 value converted 0.185\n",
      "month 2 percent 75 Original R2 value 0.147 R2 value converted 0.147\n",
      "month 2 percent 75 Original R2 value 0.193 R2 value converted 0.193\n",
      "month 2 percent 75 Original R2 value 0.152 R2 value converted 0.152\n",
      "month 2 percent 75 Original R2 value 0.196 R2 value converted 0.196\n",
      "month 2 percent 75 Original R2 value 0.14 R2 value converted 0.14\n",
      "month 2 percent 50 Original R2 value 0.185 R2 value converted 0.185\n",
      "month 2 percent 50 Original R2 value 0.176 R2 value converted 0.176\n",
      "month 2 percent 50 Original R2 value 0.192 R2 value converted 0.192\n",
      "month 2 percent 50 Original R2 value 0.171 R2 value converted 0.171\n",
      "month 2 percent 50 Original R2 value 0.16 R2 value converted 0.16\n",
      "month 2 percent 25 Original R2 value 0.122 R2 value converted 0.122\n",
      "month 2 percent 25 Original R2 value 0.118 R2 value converted 0.118\n",
      "month 2 percent 25 Original R2 value 0.137 R2 value converted 0.137\n",
      "month 2 percent 25 Original R2 value 0.124 R2 value converted 0.124\n",
      "month 2 percent 25 Original R2 value 0.134 R2 value converted 0.134\n",
      "month _23 percent 100 Original R2 value 0.189 R2 value converted 0.189\n",
      "month _23 percent 100 Original R2 value 0.229 R2 value converted 0.229\n",
      "month _23 percent 100 Original R2 value 0.198 R2 value converted 0.198\n",
      "month _23 percent 100 Original R2 value 0.181 R2 value converted 0.181\n",
      "month _23 percent 100 Original R2 value 0.187 R2 value converted 0.187\n",
      "month _23 percent 75 Original R2 value 0.17 R2 value converted 0.17\n",
      "month _23 percent 75 Original R2 value 0.129 R2 value converted 0.129\n",
      "month _23 percent 75 Original R2 value 0.2 R2 value converted 0.2\n",
      "month _23 percent 75 Original R2 value 0.183 R2 value converted 0.183\n",
      "month _23 percent 75 Original R2 value 0.181 R2 value converted 0.181\n",
      "month _23 percent 50 Original R2 value 0.205 R2 value converted 0.205\n",
      "month _23 percent 50 Original R2 value 0.227 R2 value converted 0.227\n",
      "month _23 percent 50 Original R2 value 0.216 R2 value converted 0.216\n",
      "month _23 percent 50 Original R2 value 0.245 R2 value converted 0.245\n",
      "month _23 percent 50 Original R2 value 0.226 R2 value converted 0.226\n",
      "month _23 percent 25 Original R2 value 0.224 R2 value converted 0.224\n",
      "month _23 percent 25 Original R2 value 0.212 R2 value converted 0.212\n",
      "month _23 percent 25 Original R2 value 0.243 R2 value converted 0.243\n",
      "month _23 percent 25 Original R2 value 0.229 R2 value converted 0.229\n",
      "month _23 percent 25 Original R2 value 0.236 R2 value converted 0.236\n",
      "month _234 percent 100 Original R2 value 0.283 R2 value converted 0.283\n",
      "month _234 percent 100 Original R2 value 0.263 R2 value converted 0.263\n",
      "month _234 percent 100 Original R2 value 0.299 R2 value converted 0.299\n",
      "month _234 percent 100 Original R2 value 0.297 R2 value converted 0.297\n",
      "month _234 percent 100 Original R2 value 0.269 R2 value converted 0.269\n",
      "month _234 percent 75 Original R2 value 0.284 R2 value converted 0.284\n",
      "month _234 percent 75 Original R2 value 0.3 R2 value converted 0.3\n",
      "month _234 percent 75 Original R2 value 0.263 R2 value converted 0.263\n",
      "month _234 percent 75 Original R2 value 0.301 R2 value converted 0.301\n",
      "month _234 percent 75 Original R2 value 0.3 R2 value converted 0.3\n",
      "month _234 percent 50 Original R2 value 0.302 R2 value converted 0.302\n",
      "month _234 percent 50 Original R2 value 0.288 R2 value converted 0.288\n",
      "month _234 percent 50 Original R2 value 0.282 R2 value converted 0.282\n",
      "month _234 percent 50 Original R2 value 0.291 R2 value converted 0.291\n",
      "month _234 percent 50 Original R2 value 0.326 R2 value converted 0.326\n",
      "month _234 percent 25 Original R2 value 0.322 R2 value converted 0.322\n",
      "month _234 percent 25 Original R2 value 0.321 R2 value converted 0.321\n",
      "month _234 percent 25 Original R2 value 0.307 R2 value converted 0.307\n",
      "month _234 percent 25 Original R2 value 0.295 R2 value converted 0.295\n",
      "month _234 percent 25 Original R2 value 0.33 R2 value converted 0.33\n",
      "month 3 percent 100 Original R2 value 0.17 R2 value converted 0.17\n",
      "month 3 percent 100 Original R2 value 0.176 R2 value converted 0.176\n",
      "month 3 percent 100 Original R2 value 0.197 R2 value converted 0.197\n",
      "month 3 percent 100 Original R2 value 0.191 R2 value converted 0.191\n",
      "month 3 percent 100 Original R2 value 0.201 R2 value converted 0.201\n",
      "month 3 percent 75 Original R2 value 0.21 R2 value converted 0.21\n",
      "month 3 percent 75 Original R2 value 0.205 R2 value converted 0.205\n",
      "month 3 percent 75 Original R2 value 0.196 R2 value converted 0.196\n",
      "month 3 percent 75 Original R2 value 0.18 R2 value converted 0.18\n",
      "month 3 percent 75 Original R2 value 0.172 R2 value converted 0.172\n",
      "month 3 percent 50 Original R2 value 0.199 R2 value converted 0.199\n",
      "month 3 percent 50 Original R2 value 0.205 R2 value converted 0.205\n",
      "month 3 percent 50 Original R2 value 0.23 R2 value converted 0.23\n",
      "month 3 percent 50 Original R2 value 0.176 R2 value converted 0.176\n",
      "month 3 percent 50 Original R2 value 0.186 R2 value converted 0.186\n",
      "month 3 percent 25 Original R2 value 0.227 R2 value converted 0.227\n",
      "month 3 percent 25 Original R2 value 0.24 R2 value converted 0.24\n",
      "month 3 percent 25 Original R2 value 0.245 R2 value converted 0.245\n",
      "month 3 percent 25 Original R2 value 0.247 R2 value converted 0.247\n",
      "month 3 percent 25 Original R2 value 0.223 R2 value converted 0.223\n",
      "month _34 percent 100 Original R2 value 0.316 R2 value converted 0.316\n",
      "month _34 percent 100 Original R2 value 0.282 R2 value converted 0.282\n",
      "month _34 percent 100 Original R2 value 0.29 R2 value converted 0.29\n",
      "month _34 percent 100 Original R2 value 0.291 R2 value converted 0.291\n",
      "month _34 percent 100 Original R2 value 0.296 R2 value converted 0.296\n",
      "month _34 percent 75 Original R2 value 0.295 R2 value converted 0.295\n",
      "month _34 percent 75 Original R2 value 0.303 R2 value converted 0.303\n",
      "month _34 percent 75 Original R2 value 0.276 R2 value converted 0.276\n",
      "month _34 percent 75 Original R2 value 0.285 R2 value converted 0.285\n",
      "month _34 percent 75 Original R2 value 0.321 R2 value converted 0.321\n",
      "month _34 percent 50 Original R2 value 0.276 R2 value converted 0.276\n",
      "month _34 percent 50 Original R2 value 0.294 R2 value converted 0.294\n",
      "month _34 percent 50 Original R2 value 0.296 R2 value converted 0.296\n",
      "month _34 percent 50 Original R2 value 0.314 R2 value converted 0.314\n",
      "month _34 percent 50 Original R2 value 0.327 R2 value converted 0.327\n",
      "month _34 percent 25 Original R2 value 0.367 R2 value converted 0.367\n",
      "month _34 percent 25 Original R2 value 0.378 R2 value converted 0.378\n",
      "month _34 percent 25 Original R2 value 0.383 R2 value converted 0.383\n",
      "month _34 percent 25 Original R2 value 0.39 R2 value converted 0.39\n",
      "month _34 percent 25 Original R2 value 0.373 R2 value converted 0.373\n",
      "month _345 percent 100 Original R2 value 0.315 R2 value converted 0.315\n",
      "month _345 percent 100 Original R2 value 0.246 R2 value converted 0.246\n",
      "month _345 percent 100 Original R2 value 0.297 R2 value converted 0.297\n",
      "month _345 percent 100 Original R2 value 0.308 R2 value converted 0.308\n",
      "month _345 percent 100 Original R2 value 0.28 R2 value converted 0.28\n",
      "month _345 percent 75 Original R2 value 0.263 R2 value converted 0.263\n",
      "month _345 percent 75 Original R2 value 0.264 R2 value converted 0.264\n",
      "month _345 percent 75 Original R2 value 0.321 R2 value converted 0.321\n",
      "month _345 percent 75 Original R2 value 0.306 R2 value converted 0.306\n",
      "month _345 percent 75 Original R2 value 0.283 R2 value converted 0.283\n",
      "month _345 percent 50 Original R2 value 0.343 R2 value converted 0.343\n",
      "month _345 percent 50 Original R2 value 0.325 R2 value converted 0.325\n",
      "month _345 percent 50 Original R2 value 0.328 R2 value converted 0.328\n",
      "month _345 percent 50 Original R2 value 0.267 R2 value converted 0.267\n",
      "month _345 percent 50 Original R2 value 0.33 R2 value converted 0.33\n",
      "month _345 percent 25 Original R2 value 0.338 R2 value converted 0.338\n",
      "month _345 percent 25 Original R2 value 0.318 R2 value converted 0.318\n",
      "month _345 percent 25 Original R2 value 0.32 R2 value converted 0.32\n",
      "month _345 percent 25 Original R2 value 0.325 R2 value converted 0.325\n",
      "month _345 percent 25 Original R2 value 0.394 R2 value converted 0.394\n",
      "month 4 percent 100 Original R2 value 0.358 R2 value converted 0.358\n",
      "month 4 percent 100 Original R2 value 0.389 R2 value converted 0.389\n",
      "month 4 percent 100 Original R2 value 0.359 R2 value converted 0.359\n",
      "month 4 percent 100 Original R2 value 0.354 R2 value converted 0.354\n",
      "month 4 percent 100 Original R2 value 0.375 R2 value converted 0.375\n",
      "month 4 percent 75 Original R2 value 0.389 R2 value converted 0.389\n",
      "month 4 percent 75 Original R2 value 0.41 R2 value converted 0.41\n",
      "month 4 percent 75 Original R2 value 0.425 R2 value converted 0.425\n",
      "month 4 percent 75 Original R2 value 0.429 R2 value converted 0.429\n",
      "month 4 percent 75 Original R2 value 0.397 R2 value converted 0.397\n",
      "month 4 percent 50 Original R2 value 0.391 R2 value converted 0.391\n",
      "month 4 percent 50 Original R2 value 0.423 R2 value converted 0.423\n",
      "month 4 percent 50 Original R2 value 0.388 R2 value converted 0.388\n",
      "month 4 percent 50 Original R2 value 0.395 R2 value converted 0.395\n",
      "month 4 percent 50 Original R2 value 0.44 R2 value converted 0.44\n",
      "month 4 percent 25 Original R2 value 0.397 R2 value converted 0.397\n",
      "month 4 percent 25 Original R2 value 0.433 R2 value converted 0.433\n",
      "month 4 percent 25 Original R2 value 0.418 R2 value converted 0.418\n",
      "month 4 percent 25 Original R2 value 0.411 R2 value converted 0.411\n",
      "month 4 percent 25 Original R2 value 0.41 R2 value converted 0.41\n",
      "month _45 percent 100 Original R2 value 0.302 R2 value converted 0.302\n",
      "month _45 percent 100 Original R2 value 0.354 R2 value converted 0.354\n",
      "month _45 percent 100 Original R2 value 0.312 R2 value converted 0.312\n",
      "month _45 percent 100 Original R2 value 0.304 R2 value converted 0.304\n",
      "month _45 percent 100 Original R2 value 0.301 R2 value converted 0.301\n",
      "month _45 percent 75 Original R2 value 0.294 R2 value converted 0.294\n",
      "month _45 percent 75 Original R2 value 0.342 R2 value converted 0.342\n",
      "month _45 percent 75 Original R2 value 0.305 R2 value converted 0.305\n",
      "month _45 percent 75 Original R2 value 0.334 R2 value converted 0.334\n",
      "month _45 percent 75 Original R2 value 0.362 R2 value converted 0.362\n",
      "month _45 percent 50 Original R2 value 0.382 R2 value converted 0.382\n",
      "month _45 percent 50 Original R2 value 0.412 R2 value converted 0.412\n",
      "month _45 percent 50 Original R2 value 0.352 R2 value converted 0.352\n",
      "month _45 percent 50 Original R2 value 0.391 R2 value converted 0.391\n",
      "month _45 percent 50 Original R2 value 0.36 R2 value converted 0.36\n",
      "month _45 percent 25 Original R2 value 0.397 R2 value converted 0.397\n",
      "month _45 percent 25 Original R2 value 0.396 R2 value converted 0.396\n",
      "month _45 percent 25 Original R2 value 0.389 R2 value converted 0.389\n",
      "month _45 percent 25 Original R2 value 0.403 R2 value converted 0.403\n",
      "month _45 percent 25 Original R2 value 0.418 R2 value converted 0.418\n",
      "month _456 percent 100 Original R2 value 0.349 R2 value converted 0.349\n",
      "month _456 percent 100 Original R2 value 0.329 R2 value converted 0.329\n",
      "month _456 percent 100 Original R2 value 0.391 R2 value converted 0.391\n",
      "month _456 percent 100 Original R2 value 0.349 R2 value converted 0.349\n",
      "month _456 percent 100 Original R2 value 0.362 R2 value converted 0.362\n",
      "month _456 percent 75 Original R2 value 0.373 R2 value converted 0.373\n",
      "month _456 percent 75 Original R2 value 0.391 R2 value converted 0.391\n",
      "month _456 percent 75 Original R2 value 0.35 R2 value converted 0.35\n",
      "month _456 percent 75 Original R2 value 0.347 R2 value converted 0.347\n",
      "month _456 percent 75 Original R2 value 0.364 R2 value converted 0.364\n",
      "month _456 percent 50 Original R2 value 0.386 R2 value converted 0.386\n",
      "month _456 percent 50 Original R2 value 0.408 R2 value converted 0.408\n",
      "month _456 percent 50 Original R2 value 0.372 R2 value converted 0.372\n",
      "month _456 percent 50 Original R2 value 0.388 R2 value converted 0.388\n",
      "month _456 percent 50 Original R2 value 0.379 R2 value converted 0.379\n",
      "month _456 percent 25 Original R2 value 0.391 R2 value converted 0.391\n",
      "month _456 percent 25 Original R2 value 0.363 R2 value converted 0.363\n",
      "month _456 percent 25 Original R2 value 0.378 R2 value converted 0.378\n",
      "month _456 percent 25 Original R2 value 0.389 R2 value converted 0.389\n",
      "month _456 percent 25 Original R2 value 0.392 R2 value converted 0.392\n",
      "month 5 percent 100 Original R2 value 0.186 R2 value converted 0.186\n",
      "month 5 percent 100 Original R2 value 0.179 R2 value converted 0.179\n",
      "month 5 percent 100 Original R2 value 0.177 R2 value converted 0.177\n",
      "month 5 percent 100 Original R2 value 0.194 R2 value converted 0.194\n",
      "month 5 percent 100 Original R2 value 0.188 R2 value converted 0.188\n",
      "month 5 percent 75 Original R2 value 0.156 R2 value converted 0.156\n",
      "month 5 percent 75 Original R2 value 0.212 R2 value converted 0.212\n",
      "month 5 percent 75 Original R2 value 0.156 R2 value converted 0.156\n",
      "month 5 percent 75 Original R2 value 0.17 R2 value converted 0.17\n",
      "month 5 percent 75 Original R2 value 0.181 R2 value converted 0.181\n",
      "month 5 percent 50 Original R2 value 0.219 R2 value converted 0.219\n",
      "month 5 percent 50 Original R2 value 0.246 R2 value converted 0.246\n",
      "month 5 percent 50 Original R2 value 0.234 R2 value converted 0.234\n",
      "month 5 percent 50 Original R2 value 0.24 R2 value converted 0.24\n",
      "month 5 percent 50 Original R2 value 0.235 R2 value converted 0.235\n",
      "month 5 percent 25 Original R2 value 0.268 R2 value converted 0.268\n",
      "month 5 percent 25 Original R2 value 0.291 R2 value converted 0.291\n",
      "month 5 percent 25 Original R2 value 0.284 R2 value converted 0.284\n",
      "month 5 percent 25 Original R2 value 0.261 R2 value converted 0.261\n",
      "month 5 percent 25 Original R2 value 0.271 R2 value converted 0.271\n",
      "month _56 percent 100 Original R2 value 0.264 R2 value converted 0.264\n",
      "month _56 percent 100 Original R2 value 0.282 R2 value converted 0.282\n",
      "month _56 percent 100 Original R2 value 0.261 R2 value converted 0.261\n",
      "month _56 percent 100 Original R2 value 0.274 R2 value converted 0.274\n",
      "month _56 percent 100 Original R2 value 0.269 R2 value converted 0.269\n",
      "month _56 percent 75 Original R2 value 0.289 R2 value converted 0.289\n",
      "month _56 percent 75 Original R2 value 0.28 R2 value converted 0.28\n",
      "month _56 percent 75 Original R2 value 0.249 R2 value converted 0.249\n",
      "month _56 percent 75 Original R2 value 0.249 R2 value converted 0.249\n",
      "month _56 percent 75 Original R2 value 0.267 R2 value converted 0.267\n",
      "month _56 percent 50 Original R2 value 0.276 R2 value converted 0.276\n",
      "month _56 percent 50 Original R2 value 0.256 R2 value converted 0.256\n",
      "month _56 percent 50 Original R2 value 0.254 R2 value converted 0.254\n",
      "month _56 percent 50 Original R2 value 0.288 R2 value converted 0.288\n",
      "month _56 percent 50 Original R2 value 0.28 R2 value converted 0.28\n",
      "month _56 percent 25 Original R2 value 0.249 R2 value converted 0.249\n",
      "month _56 percent 25 Original R2 value 0.232 R2 value converted 0.232\n",
      "month _56 percent 25 Original R2 value 0.256 R2 value converted 0.256\n",
      "month _56 percent 25 Original R2 value 0.222 R2 value converted 0.222\n",
      "month _56 percent 25 Original R2 value 0.234 R2 value converted 0.234\n",
      "month _567 percent 100 Original R2 value 0.255 R2 value converted 0.255\n",
      "month _567 percent 100 Original R2 value 0.252 R2 value converted 0.252\n",
      "month _567 percent 100 Original R2 value 0.225 R2 value converted 0.225\n",
      "month _567 percent 100 Original R2 value 0.256 R2 value converted 0.256\n",
      "month _567 percent 100 Original R2 value 0.251 R2 value converted 0.251\n",
      "month _567 percent 75 Original R2 value 0.273 R2 value converted 0.273\n",
      "month _567 percent 75 Original R2 value 0.238 R2 value converted 0.238\n",
      "month _567 percent 75 Original R2 value 0.266 R2 value converted 0.266\n",
      "month _567 percent 75 Original R2 value 0.253 R2 value converted 0.253\n",
      "month _567 percent 75 Original R2 value 0.244 R2 value converted 0.244\n",
      "month _567 percent 50 Original R2 value 0.253 R2 value converted 0.253\n",
      "month _567 percent 50 Original R2 value 0.234 R2 value converted 0.234\n",
      "month _567 percent 50 Original R2 value 0.274 R2 value converted 0.274\n",
      "month _567 percent 50 Original R2 value 0.286 R2 value converted 0.286\n",
      "month _567 percent 50 Original R2 value 0.27 R2 value converted 0.27\n",
      "month _567 percent 25 Original R2 value 0.233 R2 value converted 0.233\n",
      "month _567 percent 25 Original R2 value 0.22 R2 value converted 0.22\n",
      "month _567 percent 25 Original R2 value 0.233 R2 value converted 0.233\n",
      "month _567 percent 25 Original R2 value 0.213 R2 value converted 0.213\n",
      "month _567 percent 25 Original R2 value 0.23 R2 value converted 0.23\n",
      "month 6 percent 100 Original R2 value 0.289 R2 value converted 0.289\n",
      "month 6 percent 100 Original R2 value 0.295 R2 value converted 0.295\n",
      "month 6 percent 100 Original R2 value 0.26 R2 value converted 0.26\n",
      "month 6 percent 100 Original R2 value 0.256 R2 value converted 0.256\n",
      "month 6 percent 100 Original R2 value 0.273 R2 value converted 0.273\n",
      "month 6 percent 75 Original R2 value 0.235 R2 value converted 0.235\n",
      "month 6 percent 75 Original R2 value 0.248 R2 value converted 0.248\n",
      "month 6 percent 75 Original R2 value 0.251 R2 value converted 0.251\n",
      "month 6 percent 75 Original R2 value 0.249 R2 value converted 0.249\n",
      "month 6 percent 75 Original R2 value 0.257 R2 value converted 0.257\n",
      "month 6 percent 50 Original R2 value 0.251 R2 value converted 0.251\n",
      "month 6 percent 50 Original R2 value 0.249 R2 value converted 0.249\n",
      "month 6 percent 50 Original R2 value 0.249 R2 value converted 0.249\n",
      "month 6 percent 50 Original R2 value 0.266 R2 value converted 0.266\n",
      "month 6 percent 50 Original R2 value 0.256 R2 value converted 0.256\n",
      "month 6 percent 25 Original R2 value 0.175 R2 value converted 0.175\n",
      "month 6 percent 25 Original R2 value 0.191 R2 value converted 0.191\n",
      "month 6 percent 25 Original R2 value 0.166 R2 value converted 0.166\n",
      "month 6 percent 25 Original R2 value 0.179 R2 value converted 0.179\n",
      "month 6 percent 25 Original R2 value 0.173 R2 value converted 0.173\n",
      "month _67 percent 100 Original R2 value 0.255 R2 value converted 0.255\n",
      "month _67 percent 100 Original R2 value 0.264 R2 value converted 0.264\n",
      "month _67 percent 100 Original R2 value 0.255 R2 value converted 0.255\n",
      "month _67 percent 100 Original R2 value 0.265 R2 value converted 0.265\n",
      "month _67 percent 100 Original R2 value 0.269 R2 value converted 0.269\n",
      "month _67 percent 75 Original R2 value 0.267 R2 value converted 0.267\n",
      "month _67 percent 75 Original R2 value 0.263 R2 value converted 0.263\n",
      "month _67 percent 75 Original R2 value 0.244 R2 value converted 0.244\n",
      "month _67 percent 75 Original R2 value 0.226 R2 value converted 0.226\n",
      "month _67 percent 75 Original R2 value 0.26 R2 value converted 0.26\n",
      "month _67 percent 50 Original R2 value 0.24 R2 value converted 0.24\n",
      "month _67 percent 50 Original R2 value 0.203 R2 value converted 0.203\n",
      "month _67 percent 50 Original R2 value 0.21 R2 value converted 0.21\n",
      "month _67 percent 50 Original R2 value 0.223 R2 value converted 0.223\n",
      "month _67 percent 50 Original R2 value 0.262 R2 value converted 0.262\n",
      "month _67 percent 25 Original R2 value 0.198 R2 value converted 0.198\n",
      "month _67 percent 25 Original R2 value 0.197 R2 value converted 0.197\n",
      "month _67 percent 25 Original R2 value 0.206 R2 value converted 0.206\n",
      "month _67 percent 25 Original R2 value 0.189 R2 value converted 0.189\n",
      "month _67 percent 25 Original R2 value 0.206 R2 value converted 0.206\n",
      "month _678 percent 100 Original R2 value 0.277 R2 value converted 0.277\n",
      "month _678 percent 100 Original R2 value 0.253 R2 value converted 0.253\n",
      "month _678 percent 100 Original R2 value 0.271 R2 value converted 0.271\n",
      "month _678 percent 100 Original R2 value 0.273 R2 value converted 0.273\n",
      "month _678 percent 100 Original R2 value 0.282 R2 value converted 0.282\n",
      "month _678 percent 75 Original R2 value 0.307 R2 value converted 0.307\n",
      "month _678 percent 75 Original R2 value 0.306 R2 value converted 0.306\n",
      "month _678 percent 75 Original R2 value 0.284 R2 value converted 0.284\n",
      "month _678 percent 75 Original R2 value 0.274 R2 value converted 0.274\n",
      "month _678 percent 75 Original R2 value 0.325 R2 value converted 0.325\n",
      "month _678 percent 50 Original R2 value 0.311 R2 value converted 0.311\n",
      "month _678 percent 50 Original R2 value 0.282 R2 value converted 0.282\n",
      "month _678 percent 50 Original R2 value 0.297 R2 value converted 0.297\n",
      "month _678 percent 50 Original R2 value 0.294 R2 value converted 0.294\n",
      "month _678 percent 50 Original R2 value 0.293 R2 value converted 0.293\n",
      "month _678 percent 25 Original R2 value 0.276 R2 value converted 0.276\n",
      "month _678 percent 25 Original R2 value 0.227 R2 value converted 0.227\n",
      "month _678 percent 25 Original R2 value 0.282 R2 value converted 0.282\n",
      "month _678 percent 25 Original R2 value 0.26 R2 value converted 0.26\n",
      "month _678 percent 25 Original R2 value 0.237 R2 value converted 0.237\n",
      "month 12 percent 100 Original R2 value 0.243 R2 value converted 0.243\n",
      "month 12 percent 100 Original R2 value 0.25 R2 value converted 0.25\n",
      "month 12 percent 100 Original R2 value 0.229 R2 value converted 0.229\n",
      "month 12 percent 100 Original R2 value 0.226 R2 value converted 0.226\n",
      "month 12 percent 100 Original R2 value 0.254 R2 value converted 0.254\n",
      "month 12 percent 75 Original R2 value 0.221 R2 value converted 0.221\n",
      "month 12 percent 75 Original R2 value 0.192 R2 value converted 0.192\n",
      "month 12 percent 75 Original R2 value 0.193 R2 value converted 0.193\n",
      "month 12 percent 75 Original R2 value 0.204 R2 value converted 0.204\n",
      "month 12 percent 75 Original R2 value 0.204 R2 value converted 0.204\n",
      "month 12 percent 50 Original R2 value 0.233 R2 value converted 0.233\n",
      "month 12 percent 50 Original R2 value 0.225 R2 value converted 0.225\n",
      "month 12 percent 50 Original R2 value 0.251 R2 value converted 0.251\n",
      "month 12 percent 50 Original R2 value 0.231 R2 value converted 0.231\n",
      "month 12 percent 50 Original R2 value 0.199 R2 value converted 0.199\n",
      "month 12 percent 25 Original R2 value 0.207 R2 value converted 0.207\n",
      "month 12 percent 25 Original R2 value 0.223 R2 value converted 0.223\n",
      "month 12 percent 25 Original R2 value 0.244 R2 value converted 0.244\n",
      "month 12 percent 25 Original R2 value 0.237 R2 value converted 0.237\n",
      "month 12 percent 25 Original R2 value 0.231 R2 value converted 0.231\n",
      "month _1236 percent 100 Original R2 value 0.199 R2 value converted 0.199\n",
      "month _1236 percent 100 Original R2 value 0.21 R2 value converted 0.21\n",
      "month _1236 percent 100 Original R2 value 0.177 R2 value converted 0.177\n",
      "month _1236 percent 100 Original R2 value 0.183 R2 value converted 0.183\n",
      "month _1236 percent 100 Original R2 value 0.198 R2 value converted 0.198\n",
      "month _1236 percent 75 Original R2 value 0.208 R2 value converted 0.208\n",
      "month _1236 percent 75 Original R2 value 0.214 R2 value converted 0.214\n",
      "month _1236 percent 75 Original R2 value 0.208 R2 value converted 0.208\n",
      "month _1236 percent 75 Original R2 value 0.208 R2 value converted 0.208\n",
      "month _1236 percent 75 Original R2 value 0.212 R2 value converted 0.212\n",
      "month _1236 percent 50 Original R2 value 0.196 R2 value converted 0.196\n",
      "month _1236 percent 50 Original R2 value 0.184 R2 value converted 0.184\n",
      "month _1236 percent 50 Original R2 value 0.211 R2 value converted 0.211\n",
      "month _1236 percent 50 Original R2 value 0.187 R2 value converted 0.187\n",
      "month _1236 percent 50 Original R2 value 0.164 R2 value converted 0.164\n",
      "month _1236 percent 25 Original R2 value 0.201 R2 value converted 0.201\n",
      "month _1236 percent 25 Original R2 value 0.216 R2 value converted 0.216\n",
      "month _1236 percent 25 Original R2 value 0.192 R2 value converted 0.192\n",
      "month _1236 percent 25 Original R2 value 0.199 R2 value converted 0.199\n",
      "month _1236 percent 25 Original R2 value 0.194 R2 value converted 0.194\n",
      "month _123456 percent 100 Original R2 value 0.166 R2 value converted 0.166\n",
      "month _123456 percent 100 Original R2 value 0.157 R2 value converted 0.157\n",
      "month _123456 percent 100 Original R2 value 0.194 R2 value converted 0.194\n",
      "month _123456 percent 100 Original R2 value 0.195 R2 value converted 0.195\n",
      "month _123456 percent 100 Original R2 value 0.163 R2 value converted 0.163\n",
      "month _123456 percent 75 Original R2 value 0.176 R2 value converted 0.176\n",
      "month _123456 percent 75 Original R2 value 0.181 R2 value converted 0.181\n",
      "month _123456 percent 75 Original R2 value 0.205 R2 value converted 0.205\n",
      "month _123456 percent 75 Original R2 value 0.174 R2 value converted 0.174\n",
      "month _123456 percent 75 Original R2 value 0.182 R2 value converted 0.182\n",
      "month _123456 percent 50 Original R2 value 0.198 R2 value converted 0.198\n",
      "month _123456 percent 50 Original R2 value 0.2 R2 value converted 0.2\n",
      "month _123456 percent 50 Original R2 value 0.2 R2 value converted 0.2\n",
      "month _123456 percent 50 Original R2 value 0.193 R2 value converted 0.193\n",
      "month _123456 percent 50 Original R2 value 0.199 R2 value converted 0.199\n",
      "month _123456 percent 25 Original R2 value 0.203 R2 value converted 0.203\n",
      "month _123456 percent 25 Original R2 value 0.197 R2 value converted 0.197\n",
      "month _123456 percent 25 Original R2 value 0.18 R2 value converted 0.18\n",
      "month _123456 percent 25 Original R2 value 0.19 R2 value converted 0.19\n",
      "month _123456 percent 25 Original R2 value 0.196 R2 value converted 0.196\n",
      "month _1236_12 percent 100 Original R2 value 0.214 R2 value converted 0.214\n",
      "month _1236_12 percent 100 Original R2 value 0.207 R2 value converted 0.207\n",
      "month _1236_12 percent 100 Original R2 value 0.188 R2 value converted 0.188\n",
      "month _1236_12 percent 100 Original R2 value 0.201 R2 value converted 0.201\n",
      "month _1236_12 percent 100 Original R2 value 0.18 R2 value converted 0.18\n",
      "month _1236_12 percent 75 Original R2 value 0.219 R2 value converted 0.219\n",
      "month _1236_12 percent 75 Original R2 value 0.189 R2 value converted 0.189\n",
      "month _1236_12 percent 75 Original R2 value 0.219 R2 value converted 0.219\n",
      "month _1236_12 percent 75 Original R2 value 0.169 R2 value converted 0.169\n",
      "month _1236_12 percent 75 Original R2 value 0.176 R2 value converted 0.176\n",
      "month _1236_12 percent 50 Original R2 value 0.203 R2 value converted 0.203\n",
      "month _1236_12 percent 50 Original R2 value 0.209 R2 value converted 0.209\n",
      "month _1236_12 percent 50 Original R2 value 0.212 R2 value converted 0.212\n",
      "month _1236_12 percent 50 Original R2 value 0.185 R2 value converted 0.185\n",
      "month _1236_12 percent 50 Original R2 value 0.187 R2 value converted 0.187\n",
      "month _1236_12 percent 25 Original R2 value 0.225 R2 value converted 0.225\n",
      "month _1236_12 percent 25 Original R2 value 0.219 R2 value converted 0.219\n",
      "month _1236_12 percent 25 Original R2 value 0.237 R2 value converted 0.237\n",
      "month _1236_12 percent 25 Original R2 value 0.2 R2 value converted 0.2\n",
      "month _1236_12 percent 25 Original R2 value 0.209 R2 value converted 0.209\n"
     ]
    },
    {
     "data": {
      "image/png": "[encoded data removed]",
      "text/plain": [
       "<matplotlib.figure.Figure at 0x22464a1abe0>"
      ]
     },
     "metadata": {},
     "output_type": "display_data"
    }
   ],
   "source": [
    "os.chdir('C:/Users/murat.ozemre/Desktop/Thesis_Project/Data_Sources_and_Preparation')\n",
    "#MonthSeries_option=[\"1\",\"12\"]\n",
    "#MonthSeries_option=[\"1\",'_12','_123','_1236','_1236_12',\"2\",\"3\",\"6\",\"12\",'_12']\n",
    "MonthSeries_option=[\"1\",'_12','_123',\"2\",'_23','_234',\"3\",'_34','_345',\"4\",'_45','_456',\"5\",'_56','_567',\"6\",'_67','_678',\n",
    "                    \"12\",'_1236','_123456','_1236_12',]\n",
    "\n",
    "results_level1 = pd.DataFrame()\n",
    "results_level2 = pd.DataFrame()\n",
    "feature_results_level1 = pd.DataFrame()\n",
    "Percent_option=[100,75,50,25]\n",
    "\n",
    "number_of_split=5\n",
    " \n",
    "\n",
    "random_state_options=np.random.randint(1,100,size=number_of_split)\n",
    "\n",
    "\n",
    "    \n",
    "for month in MonthSeries_option:\n",
    "\n",
    "#    MonthSeries=month\n",
    "\n",
    "    X = Data_Core1.parse('X{}'.format(month), header=0,index_col=None, na_values=['NA'])\n",
    "    X.drop(['Date','Year','Month'], axis=1, inplace=True)\n",
    "    X_Column_Names=list(X.columns.values)\n",
    "    n_feature=X.shape[1]\n",
    "\n",
    "    #Get Feature Importance\n",
    "    number_of_split_for_feature=100\n",
    "    feature_result=experim.get_feature_importance_result (X,dependent_variable,Z,n_feature,number_of_split_for_feature)\n",
    "    scored_feature_indices=feature_result[0]\n",
    "    feature_score=feature_result[1]\n",
    "    \n",
    "    # Record feature importances\n",
    "    feature_results_level1[str(month)]=feature_result\n",
    "    \n",
    "    # Implement Feature Importance to each month variance    \n",
    "    for percent in Percent_option:\n",
    "    \n",
    "        percentile=100-percent\n",
    "        threshold_for_feature_selection=np.percentile(feature_score[scored_feature_indices], percentile)\n",
    "        X_threshold=X.iloc[:,scored_feature_indices[feature_score[scored_feature_indices]>threshold_for_feature_selection]]\n",
    "    \n",
    "        R2result=[]\n",
    "        Convert_R2result=[]\n",
    "        \n",
    "        for turn in range(number_of_split):\n",
    "            random=random_state_options[turn]\n",
    "            \n",
    "            Scaled_Train_Test_Split=experim.X_Y_scaler_train_test_Split(X_threshold,dependent_variable,Z,random=random)\n",
    "\n",
    "            X_train = Scaled_Train_Test_Split[0]\n",
    "            X_test = Scaled_Train_Test_Split[1]\n",
    "            y_train = Scaled_Train_Test_Split[2]\n",
    "            y_test = Scaled_Train_Test_Split[3]\n",
    "            scaler_X = Scaled_Train_Test_Split[4]  \n",
    "            scaler_y = Scaled_Train_Test_Split[5]\n",
    "            scaled_value_X=Scaled_Train_Test_Split[6]\n",
    "            scaled_value_y=Scaled_Train_Test_Split[7]\n",
    "\n",
    "            # Random Foest Regressor model\n",
    "            rfc=RandomForestRegressor(n_estimators=300)\n",
    "\n",
    "            # Random Foest Regressor model train\n",
    "            RandomForestRegressor.fit(rfc,X_train,y_train)\n",
    "\n",
    "            # Random Foest Regressor mode predict\n",
    "            y_predict_test = rfc.predict(X_test)\n",
    "\n",
    "            # Compare predicted Y and real Y \n",
    "            #R2=experim.inverse_scale_and_graph_Y_predict_and_test(y_predict_test,y_test,scaler_y,'YES',dependent_variable_type)[3]\n",
    "            \n",
    "            exp_result=experim.inverse_scale_and_graph_Y_predict_and_test(y_predict_test,y_test,scaler_y,'YES',dependent_variable_type)\n",
    "            \n",
    "            Converted_R2=exp_result[2]\n",
    "            Original_R2=exp_result[3]\n",
    "            \n",
    "            print ('month',month,'percent',percent,'Original R2 value',Original_R2,'R2 value converted',Converted_R2)\n",
    "            #R2result.append(R2)\n",
    "            Convert_R2result.append(Converted_R2)\n",
    "        \n",
    "        #results_level1[str(percent)]=R2result\n",
    "        results_level1[str(percent)]=Convert_R2result\n",
    "        results_level1['month']=month\n",
    "    \n",
    "    results_level2=pd.concat([results_level2,results_level1])\n",
    "\n",
    "results_level2.set_index(['month'],inplace=True)\n",
    "\n"
   ]
  },
  {
   "cell_type": "code",
   "execution_count": 47,
   "metadata": {
    "collapsed": true
   },
   "outputs": [],
   "source": [
    "os.chdir('C:/Users/murat.ozemre/Desktop/Thesis_Project/Data_Learning_Prediction')\n",
    "\n",
    "# Read from Excel Tuning paremeters\n",
    "\n",
    "#abc = pd.ExcelFile('FeatureSelection.xlsx')\n",
    "#abcd = abc.parse('{}_{}_{}'.format(841810,Exp_Country,Imp_Country), header=0,index_col=None, na_values=['NA'])\n",
    "\n",
    "\n",
    "# Write to Excel this and previous Tuning paremeters\n",
    "writer = pd.ExcelWriter('FeatureSelection_{}_{}_{}_{}.xlsx'.format(Exp_Country,Imp_Country,Product,dependent_variable_type))\n",
    "results_level2.to_excel(writer,'Results')\n",
    "feature_results_level1.to_excel(writer,'Importances')\n",
    "\n",
    "writer.save()"
   ]
  },
  {
   "cell_type": "code",
   "execution_count": null,
   "metadata": {
    "collapsed": true
   },
   "outputs": [],
   "source": []
  },
  {
   "cell_type": "markdown",
   "metadata": {},
   "source": [
    "# For Combination of Month and Feature with Multiple Runs End"
   ]
  },
  {
   "cell_type": "code",
   "execution_count": null,
   "metadata": {
    "collapsed": true
   },
   "outputs": [],
   "source": []
  },
  {
   "cell_type": "code",
   "execution_count": null,
   "metadata": {
    "collapsed": true
   },
   "outputs": [],
   "source": [
    "#Read feature importances from Feature Selection excels\n",
    "\n",
    "feature_results_from_excel = pd.ExcelFile('FeatureSelection_{}_{}_{}.xlsx'.format(Exp_Country,Imp_Country,Product))\n",
    "feature_results = feature_results_from_excel.parse('Importances', header=0,index_col=None, na_values=['NA'])\n",
    "scored_feature_indices=feature_results[str(month)][0]\n",
    "feature_score=feature_results[str(month)][1]"
   ]
  },
  {
   "cell_type": "code",
   "execution_count": null,
   "metadata": {
    "collapsed": true
   },
   "outputs": [],
   "source": [
    "results_level2.loc['1'].boxplot()"
   ]
  },
  {
   "cell_type": "code",
   "execution_count": null,
   "metadata": {
    "collapsed": true
   },
   "outputs": [],
   "source": [
    "feature_results_level1['1'][0]"
   ]
  },
  {
   "cell_type": "code",
   "execution_count": null,
   "metadata": {
    "collapsed": true
   },
   "outputs": [],
   "source": [
    "feature_results_level1['1'][1]"
   ]
  },
  {
   "cell_type": "code",
   "execution_count": null,
   "metadata": {
    "collapsed": true
   },
   "outputs": [],
   "source": [
    "results_level2.loc['12'].boxplot()\n"
   ]
  },
  {
   "cell_type": "code",
   "execution_count": null,
   "metadata": {
    "collapsed": true
   },
   "outputs": [],
   "source": [
    "results = DataFrame()\n",
    "results_exp = DataFrame()\n",
    "\n",
    "results_exp[str(slv)] =\n",
    "results=pd.concat([results,results_exp])\n"
   ]
  },
  {
   "cell_type": "code",
   "execution_count": null,
   "metadata": {
    "collapsed": true,
    "scrolled": false
   },
   "outputs": [],
   "source": [
    "# 1 Version for Feature selection\n",
    "# Internetten bulunan kod blogu\n",
    "# Random Forest'a gore Feature Importance Hesaplama\n",
    "# Butun veri setinin girildiği ona göre önemli olan özelliklerin bulundugu kod parçası\n",
    "\n",
    "ScalerType = Scalertype=Scaler_Type_Options[0]\n",
    "n_sample=len(X)\n",
    "\n",
    "rfc=RandomForestRegressor(n_estimators=3000)\n",
    "RandomForestRegressor.fit(rfc,scaled_value_X,scaled_value_y)\n",
    "\n",
    "\n",
    "predictions = rfc.predict(X_test)\n",
    "print('MAE',int(metrics.mean_absolute_error(y_test, predictions)),\n",
    "      'MSE',int(sqrt(metrics.mean_squared_error(y_test, predictions))),\n",
    "      'R2',int(1000*(metrics.r2_score(y_test, predictions)))/1000\n",
    "     )\n",
    "\n",
    "\n",
    "importances = rfc.feature_importances_\n",
    "std = np.std([tree.feature_importances_ for tree in rfc.estimators_],axis=0)\n",
    "\n",
    "indices = np.argsort(importances)[::-1]\n",
    "\n",
    "\n",
    "# Print the feature ranking\n",
    "print(\"Feature ranking:\")\n",
    "\n",
    "for f in range(n_feature):\n",
    "    print(\"%d. feature %s %d (%f) %f\" % (f+1, X_Column_Names[indices[f]], indices[f], importances[indices[f]],std[indices[f]]))\n",
    "\n",
    "# Plot the feature importances of the forest\n",
    "plt.figure()\n",
    "plt.title(\"{} and -{} Month Feature Importances and Standart Deviation of Features with 3000 Different Estimations\".format(Product,MonthSeries))\n",
    "plt.bar(range(n_feature), importances[indices],\n",
    "       color=\"r\", yerr=std[indices], align=\"center\")\n",
    "plt.xticks(range(n_feature), indices,rotation=90)\n",
    "plt.xlim([-1, n_feature])\n",
    "\n",
    "fig_size = plt.rcParams[\"figure.figsize\"]\n",
    "fig_size[0] = 15\n",
    "fig_size[1] = 10\n",
    "plt.rcParams[\"figure.figsize\"] = fig_size\n",
    "plt.savefig(\"Plots_Feature_Selection/{} and -{} Month Feature Importances and Standart Deviation of Features with 3000 Different Estimations.png\".format(Product,MonthSeries), format='png', dpi=300)\n",
    "\n",
    "plt.show()"
   ]
  },
  {
   "cell_type": "code",
   "execution_count": null,
   "metadata": {
    "collapsed": true,
    "scrolled": true
   },
   "outputs": [],
   "source": [
    "#  2 Version for Feature selection \n",
    "# Internetten bulunan kod blogu http://scikit-learn.org/stable/auto_examples/ensemble/plot_forest_importances.html\n",
    "# Feature Importance Hesaplama\n",
    "# Burada asıl özellik bir veri seti yaratılıyor make_regression ile. Ve oaradakilere dogru çalışıp çalışmadığı test ediliyor.\n",
    "# Butun veri setinin girildiği ona göre önemli olan özelliklerin bulundugu kod parçası\n",
    "\n",
    "from sklearn.datasets import make_regression\n",
    "\n",
    "\n",
    "n_sample=len(X)\n",
    "\n",
    "number_of_split=100\n",
    "number_of_row=29\n",
    "\n",
    "random_state_options = np.arange(0,number_of_split)\n",
    "y_predict= np.ones((number_of_row, number_of_split))\n",
    "\n",
    "feature_indices = np.ones((n_feature, number_of_split))\n",
    "feature_importances=np.ones((n_feature, number_of_split))\n",
    "feature_indices_score=np.ones((n_feature))\n",
    "feature_importances_score=np.ones((n_feature))\n",
    "j=0\n",
    "\n",
    "\n",
    "# For different split sets Random Forest Regressor runs.\n",
    "\n",
    "for random_state_i in random_state_options:\n",
    "\n",
    "    X_train, X_test, y_train, y_test = train_test_split(scaled_value_X,scaled_value_y,test_size=0.2,random_state=random_state_i,stratify=Z['Month'])\n",
    "\n",
    "    \n",
    "\n",
    "    rfc=RandomForestRegressor(n_estimators=30)\n",
    "    RandomForestRegressor.fit(rfc,X_train,y_train)\n",
    "\n",
    "    y_predict[:,j] = rfc.predict(X_test)\n",
    "    \n",
    "    result=experiminverse_scale_and_graph_Y_predict_and_test (y_predict[:,j],y_test,scaler_y,'NO')\n",
    "    \n",
    "    importances = rfc.feature_importances_\n",
    "    std = np.std([tree.feature_importances_ for tree in rfc.estimators_],axis=0)\n",
    "\n",
    "    indices = np.argsort(importances)[::-1]\n",
    "    feature_indices[:,j]=indices\n",
    "    feature_importances[:,j]=importances\n",
    "    j=j+1\n",
    "    \n",
    "\n",
    "print (\"Features scores:\")    \n",
    "for i in range(n_feature):\n",
    "    feature_indices_score[i]=0\n",
    "    feature_importances_score[i]=0\n",
    "    for j in range(number_of_split):\n",
    "        \n",
    "        indice_coeff=feature_indices[i,j]\n",
    "        importances_coeff=feature_importances[i,j]\n",
    "        \n",
    "        feature_indices_score[i]=feature_indices_score[i]+(indice_coeff)\n",
    "        feature_importances_score[i]=feature_importances_score[i]+(importances_coeff)\n",
    "        \n",
    "#        print('feat=',i,'#ofsplit=',j,'tot_indice',feature_indices_score[i],\n",
    "#              'indice=',indice_coeff,'tot_importan=',feature_importances_score[i],'importan',importances_coeff )\n",
    "\n",
    "    print( i,X_Column_Names[i])#,feature_indices_score[i],'number_of_split',j+1) #,X_Column_Names[feature_indices[i,j]])\n",
    "    \n",
    "scored_feature_indices = np.argsort(feature_indices_score)\n",
    "scored_feature_importances = np.argsort(feature_importances_score)\n",
    "    \n",
    " \n",
    "    \n",
    "    \n",
    "# Plot the feature importances of the forest\n",
    "plt.gcf().clear()\n",
    "plt.figure()\n",
    "plt.title(\"{} and -{} Month Cumulative Feature Importances with {} Different Splits.png\".format(Product,MonthSeries,number_of_split))\n",
    "plt.bar(range(n_feature), feature_importances_score[scored_feature_importances][::-1],\n",
    "       color=\"r\",  align=\"center\")\n",
    "plt.xticks(range(n_feature), scored_feature_importances[::-1],rotation=90)\n",
    "plt.xlim([-1, n_feature])\n",
    "\n",
    "fig_size = plt.rcParams[\"figure.figsize\"]\n",
    "fig_size[0] = 20\n",
    "fig_size[1] = 12\n",
    "plt.rcParams[\"figure.figsize\"] = fig_size\n",
    "plt.savefig(\"Plots_Feature_Selection/{} and -{} Month Cumulative Feature Importances with {} Different Splits.png\".format(Product,MonthSeries,number_of_split), format='png', dpi=300)\n",
    "\n",
    "plt.show()"
   ]
  }
 ],
 "metadata": {
  "kernelspec": {
   "display_name": "Python 3",
   "language": "python",
   "name": "python3"
  },
  "language_info": {
   "codemirror_mode": {
    "name": "ipython",
    "version": 3
   },
   "file_extension": ".py",
   "mimetype": "text/x-python",
   "name": "python",
   "nbconvert_exporter": "python",
   "pygments_lexer": "ipython3",
   "version": "3.6.8"
  }
 },
 "nbformat": 4,
 "nbformat_minor": 2
}
